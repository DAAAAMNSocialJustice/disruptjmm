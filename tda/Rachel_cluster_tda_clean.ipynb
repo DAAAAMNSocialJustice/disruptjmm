{
 "cells": [
  {
   "cell_type": "code",
   "execution_count": 261,
   "metadata": {},
   "outputs": [],
   "source": [
    "import igraph as ig\n",
    "import networkx as nx\n",
    "import numpy as np\n",
    "import pandas as pd\n",
    "import matplotlib.pyplot as plt\n"
   ]
  },
  {
   "cell_type": "code",
   "execution_count": 262,
   "metadata": {},
   "outputs": [
    {
     "data": {
      "text/html": [
       "<div>\n",
       "<style scoped>\n",
       "    .dataframe tbody tr th:only-of-type {\n",
       "        vertical-align: middle;\n",
       "    }\n",
       "\n",
       "    .dataframe tbody tr th {\n",
       "        vertical-align: top;\n",
       "    }\n",
       "\n",
       "    .dataframe thead th {\n",
       "        text-align: right;\n",
       "    }\n",
       "</style>\n",
       "<table border=\"1\" class=\"dataframe\">\n",
       "  <thead>\n",
       "    <tr style=\"text-align: right;\">\n",
       "      <th></th>\n",
       "      <th>Unnamed: 0</th>\n",
       "      <th>tweet_id</th>\n",
       "      <th>user_username</th>\n",
       "      <th>text</th>\n",
       "      <th>created_at</th>\n",
       "      <th>conversation_id</th>\n",
       "      <th>lang</th>\n",
       "      <th>possibly_sensitive</th>\n",
       "      <th>author_id</th>\n",
       "      <th>source</th>\n",
       "      <th>...</th>\n",
       "      <th>Building community</th>\n",
       "      <th>BC code</th>\n",
       "      <th>Broadening the counterpublic</th>\n",
       "      <th>BtC code</th>\n",
       "      <th>Creating change in math</th>\n",
       "      <th>CCM code</th>\n",
       "      <th>SJEDI</th>\n",
       "      <th>SJEDI code</th>\n",
       "      <th>CODER</th>\n",
       "      <th>all codes</th>\n",
       "    </tr>\n",
       "  </thead>\n",
       "  <tbody>\n",
       "    <tr>\n",
       "      <th>0</th>\n",
       "      <td>1</td>\n",
       "      <td>1217856519670288384</td>\n",
       "      <td>mathyadriana</td>\n",
       "      <td>Anyone feel like looking through the list of i...</td>\n",
       "      <td>2020-01-16T17:09:55.000Z</td>\n",
       "      <td>1217856519670288384</td>\n",
       "      <td>en</td>\n",
       "      <td>False</td>\n",
       "      <td>776450766710136832</td>\n",
       "      <td>Twitter for iPhone</td>\n",
       "      <td>...</td>\n",
       "      <td>1</td>\n",
       "      <td>talk support</td>\n",
       "      <td>0</td>\n",
       "      <td></td>\n",
       "      <td>0</td>\n",
       "      <td></td>\n",
       "      <td>1</td>\n",
       "      <td>bipoc; lgbtq; gender</td>\n",
       "      <td>DL</td>\n",
       "      <td>[bipoc, gender, lgbtq, talk support]</td>\n",
       "    </tr>\n",
       "    <tr>\n",
       "      <th>1</th>\n",
       "      <td>5</td>\n",
       "      <td>1217856052579971073</td>\n",
       "      <td>mathprofcarrie</td>\n",
       "      <td>\"If you think that your right to speech is mor...</td>\n",
       "      <td>2020-01-16T17:08:04.000Z</td>\n",
       "      <td>1217856052579971073</td>\n",
       "      <td>en</td>\n",
       "      <td>False</td>\n",
       "      <td>31611970</td>\n",
       "      <td>Twitter for Android</td>\n",
       "      <td>...</td>\n",
       "      <td>1</td>\n",
       "      <td>talk support</td>\n",
       "      <td>1</td>\n",
       "      <td>influencers</td>\n",
       "      <td>0</td>\n",
       "      <td></td>\n",
       "      <td>1</td>\n",
       "      <td>representation</td>\n",
       "      <td>RR</td>\n",
       "      <td>[amplification, influencers, representation, t...</td>\n",
       "    </tr>\n",
       "    <tr>\n",
       "      <th>2</th>\n",
       "      <td>8</td>\n",
       "      <td>1217855474479046656</td>\n",
       "      <td>pwr2dppl</td>\n",
       "      <td>I ran at elevation to make it to @xl772's #Dis...</td>\n",
       "      <td>2020-01-16T17:05:46.000Z</td>\n",
       "      <td>1217855474479046656</td>\n",
       "      <td>en</td>\n",
       "      <td>False</td>\n",
       "      <td>3308531970</td>\n",
       "      <td>Twitter for Android</td>\n",
       "      <td>...</td>\n",
       "      <td>1</td>\n",
       "      <td>talk support; thankful</td>\n",
       "      <td>0</td>\n",
       "      <td></td>\n",
       "      <td>0</td>\n",
       "      <td></td>\n",
       "      <td>0</td>\n",
       "      <td></td>\n",
       "      <td>JH</td>\n",
       "      <td>[amplification, talk support, thankful]</td>\n",
       "    </tr>\n",
       "    <tr>\n",
       "      <th>3</th>\n",
       "      <td>9</td>\n",
       "      <td>1217854597747875840</td>\n",
       "      <td>mathprofcarrie</td>\n",
       "      <td>@WanderingPoint @xl772 @pwr2dppl Here!!! #disr...</td>\n",
       "      <td>2020-01-16T17:02:17.000Z</td>\n",
       "      <td>1217850650438049797</td>\n",
       "      <td>en</td>\n",
       "      <td>False</td>\n",
       "      <td>31611970</td>\n",
       "      <td>Twitter for Android</td>\n",
       "      <td>...</td>\n",
       "      <td>1</td>\n",
       "      <td>talk support; emotional support</td>\n",
       "      <td>0</td>\n",
       "      <td></td>\n",
       "      <td>0</td>\n",
       "      <td></td>\n",
       "      <td>0</td>\n",
       "      <td></td>\n",
       "      <td>DL</td>\n",
       "      <td>[emotional support, talk support]</td>\n",
       "    </tr>\n",
       "    <tr>\n",
       "      <th>4</th>\n",
       "      <td>10</td>\n",
       "      <td>1217852288385024000</td>\n",
       "      <td>mathprofcarrie</td>\n",
       "      <td>@xl772 @pwr2dppl Where and what? - let's get t...</td>\n",
       "      <td>2020-01-16T16:53:06.000Z</td>\n",
       "      <td>1217850650438049797</td>\n",
       "      <td>en</td>\n",
       "      <td>False</td>\n",
       "      <td>31611970</td>\n",
       "      <td>Twitter for Android</td>\n",
       "      <td>...</td>\n",
       "      <td>1</td>\n",
       "      <td>BC impact; talk support</td>\n",
       "      <td>0</td>\n",
       "      <td></td>\n",
       "      <td>0</td>\n",
       "      <td></td>\n",
       "      <td>0</td>\n",
       "      <td></td>\n",
       "      <td>RR</td>\n",
       "      <td>[BC impact, talk support]</td>\n",
       "    </tr>\n",
       "    <tr>\n",
       "      <th>...</th>\n",
       "      <td>...</td>\n",
       "      <td>...</td>\n",
       "      <td>...</td>\n",
       "      <td>...</td>\n",
       "      <td>...</td>\n",
       "      <td>...</td>\n",
       "      <td>...</td>\n",
       "      <td>...</td>\n",
       "      <td>...</td>\n",
       "      <td>...</td>\n",
       "      <td>...</td>\n",
       "      <td>...</td>\n",
       "      <td>...</td>\n",
       "      <td>...</td>\n",
       "      <td>...</td>\n",
       "      <td>...</td>\n",
       "      <td>...</td>\n",
       "      <td>...</td>\n",
       "      <td>...</td>\n",
       "      <td>...</td>\n",
       "      <td>...</td>\n",
       "    </tr>\n",
       "    <tr>\n",
       "      <th>1124</th>\n",
       "      <td>1124</td>\n",
       "      <td>1218635813027602432</td>\n",
       "      <td>malagonmath</td>\n",
       "      <td>RT @mathprofcarrie: AMS-AWM invited session on...</td>\n",
       "      <td>2020-01-18T20:46:33.000Z</td>\n",
       "      <td>1218635813027602432</td>\n",
       "      <td>en</td>\n",
       "      <td>False</td>\n",
       "      <td>708028111540133888</td>\n",
       "      <td>Twitter for iPhone</td>\n",
       "      <td>...</td>\n",
       "      <td>1</td>\n",
       "      <td>talk support</td>\n",
       "      <td>0</td>\n",
       "      <td></td>\n",
       "      <td>1</td>\n",
       "      <td>humanize</td>\n",
       "      <td>1</td>\n",
       "      <td>gender</td>\n",
       "      <td></td>\n",
       "      <td>[gender, humanize, talk support]</td>\n",
       "    </tr>\n",
       "    <tr>\n",
       "      <th>1125</th>\n",
       "      <td>1125</td>\n",
       "      <td>1218635334251999232</td>\n",
       "      <td>noellebeckman</td>\n",
       "      <td>RT @mathprofcarrie: AMS-AWM invited session on...</td>\n",
       "      <td>2020-01-18T20:44:39.000Z</td>\n",
       "      <td>1218635334251999232</td>\n",
       "      <td>en</td>\n",
       "      <td>False</td>\n",
       "      <td>1660843818</td>\n",
       "      <td>Twitter for iPhone</td>\n",
       "      <td>...</td>\n",
       "      <td>1</td>\n",
       "      <td>talk support</td>\n",
       "      <td>0</td>\n",
       "      <td></td>\n",
       "      <td>1</td>\n",
       "      <td>humanize</td>\n",
       "      <td>1</td>\n",
       "      <td>gender</td>\n",
       "      <td></td>\n",
       "      <td>[gender, humanize, talk support]</td>\n",
       "    </tr>\n",
       "    <tr>\n",
       "      <th>1126</th>\n",
       "      <td>1127</td>\n",
       "      <td>1218632621162483713</td>\n",
       "      <td>MarissaKawehi</td>\n",
       "      <td>RT @matthematician: “[C]arry some of this weig...</td>\n",
       "      <td>2020-01-18T20:33:52.000Z</td>\n",
       "      <td>1218632621162483713</td>\n",
       "      <td>en</td>\n",
       "      <td>False</td>\n",
       "      <td>969876723922808832</td>\n",
       "      <td>Twitter for Android</td>\n",
       "      <td>...</td>\n",
       "      <td>1</td>\n",
       "      <td>talk support</td>\n",
       "      <td>0</td>\n",
       "      <td></td>\n",
       "      <td>1</td>\n",
       "      <td>allyship in math</td>\n",
       "      <td>1</td>\n",
       "      <td>gender</td>\n",
       "      <td></td>\n",
       "      <td>[allyship in math, amplification, gender, talk...</td>\n",
       "    </tr>\n",
       "    <tr>\n",
       "      <th>1127</th>\n",
       "      <td>1128</td>\n",
       "      <td>1218630899404640256</td>\n",
       "      <td>numberdance</td>\n",
       "      <td>RT @sbagley: Kelly MacArthur now speaking abou...</td>\n",
       "      <td>2020-01-18T20:27:02.000Z</td>\n",
       "      <td>1218630899404640256</td>\n",
       "      <td>en</td>\n",
       "      <td>False</td>\n",
       "      <td>961503306</td>\n",
       "      <td>Twitter Web App</td>\n",
       "      <td>...</td>\n",
       "      <td>1</td>\n",
       "      <td>talk support</td>\n",
       "      <td>1</td>\n",
       "      <td>hashtags; influencers</td>\n",
       "      <td>1</td>\n",
       "      <td>math practice; humanize</td>\n",
       "      <td>0</td>\n",
       "      <td></td>\n",
       "      <td></td>\n",
       "      <td>[amplification, hashtags, humanize, influencer...</td>\n",
       "    </tr>\n",
       "    <tr>\n",
       "      <th>1128</th>\n",
       "      <td>1129</td>\n",
       "      <td>1218630732324597760</td>\n",
       "      <td>pwr2dppl</td>\n",
       "      <td>RT @sbagley: The stereotype of a mathematician...</td>\n",
       "      <td>2020-01-18T20:26:22.000Z</td>\n",
       "      <td>1218630732324597760</td>\n",
       "      <td>en</td>\n",
       "      <td>False</td>\n",
       "      <td>3308531970</td>\n",
       "      <td>Twitter for Android</td>\n",
       "      <td>...</td>\n",
       "      <td>0</td>\n",
       "      <td></td>\n",
       "      <td>0</td>\n",
       "      <td></td>\n",
       "      <td>1</td>\n",
       "      <td>humanize</td>\n",
       "      <td>0</td>\n",
       "      <td></td>\n",
       "      <td></td>\n",
       "      <td>[amplification, humanize]</td>\n",
       "    </tr>\n",
       "  </tbody>\n",
       "</table>\n",
       "<p>1129 rows × 45 columns</p>\n",
       "</div>"
      ],
      "text/plain": [
       "      Unnamed: 0             tweet_id   user_username  \\\n",
       "0              1  1217856519670288384    mathyadriana   \n",
       "1              5  1217856052579971073  mathprofcarrie   \n",
       "2              8  1217855474479046656        pwr2dppl   \n",
       "3              9  1217854597747875840  mathprofcarrie   \n",
       "4             10  1217852288385024000  mathprofcarrie   \n",
       "...          ...                  ...             ...   \n",
       "1124        1124  1218635813027602432     malagonmath   \n",
       "1125        1125  1218635334251999232   noellebeckman   \n",
       "1126        1127  1218632621162483713   MarissaKawehi   \n",
       "1127        1128  1218630899404640256     numberdance   \n",
       "1128        1129  1218630732324597760        pwr2dppl   \n",
       "\n",
       "                                                   text  \\\n",
       "0     Anyone feel like looking through the list of i...   \n",
       "1     \"If you think that your right to speech is mor...   \n",
       "2     I ran at elevation to make it to @xl772's #Dis...   \n",
       "3     @WanderingPoint @xl772 @pwr2dppl Here!!! #disr...   \n",
       "4     @xl772 @pwr2dppl Where and what? - let's get t...   \n",
       "...                                                 ...   \n",
       "1124  RT @mathprofcarrie: AMS-AWM invited session on...   \n",
       "1125  RT @mathprofcarrie: AMS-AWM invited session on...   \n",
       "1126  RT @matthematician: “[C]arry some of this weig...   \n",
       "1127  RT @sbagley: Kelly MacArthur now speaking abou...   \n",
       "1128  RT @sbagley: The stereotype of a mathematician...   \n",
       "\n",
       "                    created_at      conversation_id lang  possibly_sensitive  \\\n",
       "0     2020-01-16T17:09:55.000Z  1217856519670288384   en               False   \n",
       "1     2020-01-16T17:08:04.000Z  1217856052579971073   en               False   \n",
       "2     2020-01-16T17:05:46.000Z  1217855474479046656   en               False   \n",
       "3     2020-01-16T17:02:17.000Z  1217850650438049797   en               False   \n",
       "4     2020-01-16T16:53:06.000Z  1217850650438049797   en               False   \n",
       "...                        ...                  ...  ...                 ...   \n",
       "1124  2020-01-18T20:46:33.000Z  1218635813027602432   en               False   \n",
       "1125  2020-01-18T20:44:39.000Z  1218635334251999232   en               False   \n",
       "1126  2020-01-18T20:33:52.000Z  1218632621162483713   en               False   \n",
       "1127  2020-01-18T20:27:02.000Z  1218630899404640256   en               False   \n",
       "1128  2020-01-18T20:26:22.000Z  1218630732324597760   en               False   \n",
       "\n",
       "               author_id               source  ... Building community  \\\n",
       "0     776450766710136832   Twitter for iPhone  ...                  1   \n",
       "1               31611970  Twitter for Android  ...                  1   \n",
       "2             3308531970  Twitter for Android  ...                  1   \n",
       "3               31611970  Twitter for Android  ...                  1   \n",
       "4               31611970  Twitter for Android  ...                  1   \n",
       "...                  ...                  ...  ...                ...   \n",
       "1124  708028111540133888   Twitter for iPhone  ...                  1   \n",
       "1125          1660843818   Twitter for iPhone  ...                  1   \n",
       "1126  969876723922808832  Twitter for Android  ...                  1   \n",
       "1127           961503306      Twitter Web App  ...                  1   \n",
       "1128          3308531970  Twitter for Android  ...                  0   \n",
       "\n",
       "                              BC code Broadening the counterpublic  \\\n",
       "0                        talk support                            0   \n",
       "1                        talk support                            1   \n",
       "2              talk support; thankful                            0   \n",
       "3     talk support; emotional support                            0   \n",
       "4             BC impact; talk support                            0   \n",
       "...                               ...                          ...   \n",
       "1124                     talk support                            0   \n",
       "1125                     talk support                            0   \n",
       "1126                     talk support                            0   \n",
       "1127                     talk support                            1   \n",
       "1128                                                             0   \n",
       "\n",
       "                   BtC code  Creating change in math                 CCM code  \\\n",
       "0                                                  0                            \n",
       "1               influencers                        0                            \n",
       "2                                                  0                            \n",
       "3                                                  0                            \n",
       "4                                                  0                            \n",
       "...                     ...                      ...                      ...   \n",
       "1124                                               1                 humanize   \n",
       "1125                                               1                 humanize   \n",
       "1126                                               1         allyship in math   \n",
       "1127  hashtags; influencers                        1  math practice; humanize   \n",
       "1128                                               1                 humanize   \n",
       "\n",
       "     SJEDI            SJEDI code CODER  \\\n",
       "0        1  bipoc; lgbtq; gender    DL   \n",
       "1        1        representation    RR   \n",
       "2        0                          JH   \n",
       "3        0                          DL   \n",
       "4        0                          RR   \n",
       "...    ...                   ...   ...   \n",
       "1124     1                gender         \n",
       "1125     1                gender         \n",
       "1126     1                gender         \n",
       "1127     0                               \n",
       "1128     0                               \n",
       "\n",
       "                                              all codes  \n",
       "0                  [bipoc, gender, lgbtq, talk support]  \n",
       "1     [amplification, influencers, representation, t...  \n",
       "2               [amplification, talk support, thankful]  \n",
       "3                     [emotional support, talk support]  \n",
       "4                             [BC impact, talk support]  \n",
       "...                                                 ...  \n",
       "1124                   [gender, humanize, talk support]  \n",
       "1125                   [gender, humanize, talk support]  \n",
       "1126  [allyship in math, amplification, gender, talk...  \n",
       "1127  [amplification, hashtags, humanize, influencer...  \n",
       "1128                          [amplification, humanize]  \n",
       "\n",
       "[1129 rows x 45 columns]"
      ]
     },
     "execution_count": 262,
     "metadata": {},
     "output_type": "execute_result"
    }
   ],
   "source": [
    "#Data Cleaning with the Final Coding.csv file, rows here are tweets\n",
    "\n",
    "df = pd.read_csv(\"/Users/rachelroca/Documents/GitHub/disruptjmm/data cleaning/Final Coding.csv\",keep_default_na=False)\n",
    "#The codes were in 5 different columns; lets aggregate them into a new column\n",
    "df[\"all codes\"] = df[[\"SO code\",\"BC code\",\"BtC code\",\"CCM code\",\"SJEDI code\"]].agg(';'.join,axis=1)\n",
    "#We separated them by ;, so convert to an array \n",
    "df[\"all codes\"] = df[\"all codes\"].apply(lambda s: s.split(';'))\n",
    "#Strip out leading/trailing spaces\n",
    "df[\"all codes\"] = df[\"all codes\"].apply(lambda s: [t.strip() for t in s if t])\n",
    "#Sort the arrays, so we can be confident the same things are not listed in two different ways\n",
    "df[\"all codes\"] = np.array(df[\"all codes\"].apply(sorted))\n",
    "df\n"
   ]
  },
  {
   "cell_type": "code",
   "execution_count": 263,
   "metadata": {},
   "outputs": [],
   "source": [
    "tweeters = df['user_username'].unique()\n",
    "codes = ['advocacy', 'amplification', 'emotional support', 'gender', 'indigenous', 'jmm experience', 'representation', 'bipoc', 'hashtags', 'influencers', 'power', 'talk support', 'humanize', 'math practice', 'current events', 'lgbtq', 'strategic planning', 'allyship in math', 'math experience', 'conversation', 'thankful', 'BC impact', 'disrupteverything', 'SJEDI impact', 'SO impact', 'belonging', 'learning', 'troll', 'CC impact', 'virtual participation', 'activation', 'futures', 'economic', 'beyond', 'celebration']\n"
   ]
  },
  {
   "cell_type": "code",
   "execution_count": 264,
   "metadata": {},
   "outputs": [
    {
     "data": {
      "text/html": [
       "<div>\n",
       "<style scoped>\n",
       "    .dataframe tbody tr th:only-of-type {\n",
       "        vertical-align: middle;\n",
       "    }\n",
       "\n",
       "    .dataframe tbody tr th {\n",
       "        vertical-align: top;\n",
       "    }\n",
       "\n",
       "    .dataframe thead th {\n",
       "        text-align: right;\n",
       "    }\n",
       "</style>\n",
       "<table border=\"1\" class=\"dataframe\">\n",
       "  <thead>\n",
       "    <tr style=\"text-align: right;\">\n",
       "      <th></th>\n",
       "      <th>advocacy</th>\n",
       "      <th>amplification</th>\n",
       "      <th>emotional support</th>\n",
       "      <th>gender</th>\n",
       "      <th>indigenous</th>\n",
       "      <th>jmm experience</th>\n",
       "      <th>representation</th>\n",
       "      <th>bipoc</th>\n",
       "      <th>hashtags</th>\n",
       "      <th>influencers</th>\n",
       "      <th>...</th>\n",
       "      <th>belonging</th>\n",
       "      <th>learning</th>\n",
       "      <th>troll</th>\n",
       "      <th>CC impact</th>\n",
       "      <th>virtual participation</th>\n",
       "      <th>activation</th>\n",
       "      <th>futures</th>\n",
       "      <th>economic</th>\n",
       "      <th>beyond</th>\n",
       "      <th>celebration</th>\n",
       "    </tr>\n",
       "  </thead>\n",
       "  <tbody>\n",
       "    <tr>\n",
       "      <th>mathyadriana</th>\n",
       "      <td>1</td>\n",
       "      <td>6</td>\n",
       "      <td>1</td>\n",
       "      <td>2</td>\n",
       "      <td>1</td>\n",
       "      <td>2</td>\n",
       "      <td>5</td>\n",
       "      <td>2</td>\n",
       "      <td>3</td>\n",
       "      <td>2</td>\n",
       "      <td>...</td>\n",
       "      <td>0</td>\n",
       "      <td>1</td>\n",
       "      <td>0</td>\n",
       "      <td>0</td>\n",
       "      <td>0</td>\n",
       "      <td>0</td>\n",
       "      <td>0</td>\n",
       "      <td>0</td>\n",
       "      <td>0</td>\n",
       "      <td>0</td>\n",
       "    </tr>\n",
       "    <tr>\n",
       "      <th>mathprofcarrie</th>\n",
       "      <td>7</td>\n",
       "      <td>69</td>\n",
       "      <td>3</td>\n",
       "      <td>11</td>\n",
       "      <td>14</td>\n",
       "      <td>2</td>\n",
       "      <td>25</td>\n",
       "      <td>11</td>\n",
       "      <td>47</td>\n",
       "      <td>33</td>\n",
       "      <td>...</td>\n",
       "      <td>4</td>\n",
       "      <td>6</td>\n",
       "      <td>0</td>\n",
       "      <td>2</td>\n",
       "      <td>1</td>\n",
       "      <td>1</td>\n",
       "      <td>1</td>\n",
       "      <td>1</td>\n",
       "      <td>0</td>\n",
       "      <td>0</td>\n",
       "    </tr>\n",
       "    <tr>\n",
       "      <th>pwr2dppl</th>\n",
       "      <td>8</td>\n",
       "      <td>51</td>\n",
       "      <td>7</td>\n",
       "      <td>8</td>\n",
       "      <td>12</td>\n",
       "      <td>6</td>\n",
       "      <td>20</td>\n",
       "      <td>12</td>\n",
       "      <td>39</td>\n",
       "      <td>28</td>\n",
       "      <td>...</td>\n",
       "      <td>5</td>\n",
       "      <td>1</td>\n",
       "      <td>0</td>\n",
       "      <td>2</td>\n",
       "      <td>0</td>\n",
       "      <td>1</td>\n",
       "      <td>0</td>\n",
       "      <td>0</td>\n",
       "      <td>0</td>\n",
       "      <td>0</td>\n",
       "    </tr>\n",
       "    <tr>\n",
       "      <th>xl772</th>\n",
       "      <td>2</td>\n",
       "      <td>6</td>\n",
       "      <td>1</td>\n",
       "      <td>1</td>\n",
       "      <td>2</td>\n",
       "      <td>1</td>\n",
       "      <td>6</td>\n",
       "      <td>0</td>\n",
       "      <td>3</td>\n",
       "      <td>4</td>\n",
       "      <td>...</td>\n",
       "      <td>0</td>\n",
       "      <td>0</td>\n",
       "      <td>0</td>\n",
       "      <td>0</td>\n",
       "      <td>0</td>\n",
       "      <td>0</td>\n",
       "      <td>0</td>\n",
       "      <td>0</td>\n",
       "      <td>0</td>\n",
       "      <td>0</td>\n",
       "    </tr>\n",
       "    <tr>\n",
       "      <th>WanderingPoint</th>\n",
       "      <td>1</td>\n",
       "      <td>11</td>\n",
       "      <td>3</td>\n",
       "      <td>1</td>\n",
       "      <td>4</td>\n",
       "      <td>2</td>\n",
       "      <td>6</td>\n",
       "      <td>1</td>\n",
       "      <td>8</td>\n",
       "      <td>5</td>\n",
       "      <td>...</td>\n",
       "      <td>0</td>\n",
       "      <td>0</td>\n",
       "      <td>0</td>\n",
       "      <td>1</td>\n",
       "      <td>0</td>\n",
       "      <td>0</td>\n",
       "      <td>0</td>\n",
       "      <td>0</td>\n",
       "      <td>0</td>\n",
       "      <td>0</td>\n",
       "    </tr>\n",
       "    <tr>\n",
       "      <th>...</th>\n",
       "      <td>...</td>\n",
       "      <td>...</td>\n",
       "      <td>...</td>\n",
       "      <td>...</td>\n",
       "      <td>...</td>\n",
       "      <td>...</td>\n",
       "      <td>...</td>\n",
       "      <td>...</td>\n",
       "      <td>...</td>\n",
       "      <td>...</td>\n",
       "      <td>...</td>\n",
       "      <td>...</td>\n",
       "      <td>...</td>\n",
       "      <td>...</td>\n",
       "      <td>...</td>\n",
       "      <td>...</td>\n",
       "      <td>...</td>\n",
       "      <td>...</td>\n",
       "      <td>...</td>\n",
       "      <td>...</td>\n",
       "      <td>...</td>\n",
       "    </tr>\n",
       "    <tr>\n",
       "      <th>superyarn</th>\n",
       "      <td>1</td>\n",
       "      <td>1</td>\n",
       "      <td>1</td>\n",
       "      <td>1</td>\n",
       "      <td>1</td>\n",
       "      <td>1</td>\n",
       "      <td>1</td>\n",
       "      <td>0</td>\n",
       "      <td>0</td>\n",
       "      <td>0</td>\n",
       "      <td>...</td>\n",
       "      <td>0</td>\n",
       "      <td>0</td>\n",
       "      <td>0</td>\n",
       "      <td>0</td>\n",
       "      <td>0</td>\n",
       "      <td>0</td>\n",
       "      <td>0</td>\n",
       "      <td>0</td>\n",
       "      <td>0</td>\n",
       "      <td>0</td>\n",
       "    </tr>\n",
       "    <tr>\n",
       "      <th>dbdoughe</th>\n",
       "      <td>1</td>\n",
       "      <td>1</td>\n",
       "      <td>1</td>\n",
       "      <td>1</td>\n",
       "      <td>1</td>\n",
       "      <td>1</td>\n",
       "      <td>1</td>\n",
       "      <td>0</td>\n",
       "      <td>0</td>\n",
       "      <td>0</td>\n",
       "      <td>...</td>\n",
       "      <td>0</td>\n",
       "      <td>0</td>\n",
       "      <td>0</td>\n",
       "      <td>0</td>\n",
       "      <td>0</td>\n",
       "      <td>0</td>\n",
       "      <td>0</td>\n",
       "      <td>0</td>\n",
       "      <td>0</td>\n",
       "      <td>0</td>\n",
       "    </tr>\n",
       "    <tr>\n",
       "      <th>cordesm</th>\n",
       "      <td>1</td>\n",
       "      <td>1</td>\n",
       "      <td>1</td>\n",
       "      <td>1</td>\n",
       "      <td>1</td>\n",
       "      <td>1</td>\n",
       "      <td>1</td>\n",
       "      <td>0</td>\n",
       "      <td>0</td>\n",
       "      <td>0</td>\n",
       "      <td>...</td>\n",
       "      <td>0</td>\n",
       "      <td>0</td>\n",
       "      <td>0</td>\n",
       "      <td>0</td>\n",
       "      <td>0</td>\n",
       "      <td>0</td>\n",
       "      <td>0</td>\n",
       "      <td>0</td>\n",
       "      <td>0</td>\n",
       "      <td>0</td>\n",
       "    </tr>\n",
       "    <tr>\n",
       "      <th>f_futamura</th>\n",
       "      <td>1</td>\n",
       "      <td>1</td>\n",
       "      <td>1</td>\n",
       "      <td>1</td>\n",
       "      <td>1</td>\n",
       "      <td>1</td>\n",
       "      <td>1</td>\n",
       "      <td>0</td>\n",
       "      <td>0</td>\n",
       "      <td>0</td>\n",
       "      <td>...</td>\n",
       "      <td>0</td>\n",
       "      <td>0</td>\n",
       "      <td>0</td>\n",
       "      <td>0</td>\n",
       "      <td>0</td>\n",
       "      <td>0</td>\n",
       "      <td>0</td>\n",
       "      <td>0</td>\n",
       "      <td>0</td>\n",
       "      <td>0</td>\n",
       "    </tr>\n",
       "    <tr>\n",
       "      <th>noellebeckman</th>\n",
       "      <td>0</td>\n",
       "      <td>0</td>\n",
       "      <td>0</td>\n",
       "      <td>1</td>\n",
       "      <td>0</td>\n",
       "      <td>0</td>\n",
       "      <td>0</td>\n",
       "      <td>0</td>\n",
       "      <td>0</td>\n",
       "      <td>0</td>\n",
       "      <td>...</td>\n",
       "      <td>0</td>\n",
       "      <td>0</td>\n",
       "      <td>0</td>\n",
       "      <td>0</td>\n",
       "      <td>0</td>\n",
       "      <td>0</td>\n",
       "      <td>0</td>\n",
       "      <td>0</td>\n",
       "      <td>0</td>\n",
       "      <td>0</td>\n",
       "    </tr>\n",
       "  </tbody>\n",
       "</table>\n",
       "<p>328 rows × 35 columns</p>\n",
       "</div>"
      ],
      "text/plain": [
       "               advocacy amplification emotional support gender indigenous  \\\n",
       "mathyadriana          1             6                 1      2          1   \n",
       "mathprofcarrie        7            69                 3     11         14   \n",
       "pwr2dppl              8            51                 7      8         12   \n",
       "xl772                 2             6                 1      1          2   \n",
       "WanderingPoint        1            11                 3      1          4   \n",
       "...                 ...           ...               ...    ...        ...   \n",
       "superyarn             1             1                 1      1          1   \n",
       "dbdoughe              1             1                 1      1          1   \n",
       "cordesm               1             1                 1      1          1   \n",
       "f_futamura            1             1                 1      1          1   \n",
       "noellebeckman         0             0                 0      1          0   \n",
       "\n",
       "               jmm experience representation bipoc hashtags influencers  ...  \\\n",
       "mathyadriana                2              5     2        3           2  ...   \n",
       "mathprofcarrie              2             25    11       47          33  ...   \n",
       "pwr2dppl                    6             20    12       39          28  ...   \n",
       "xl772                       1              6     0        3           4  ...   \n",
       "WanderingPoint              2              6     1        8           5  ...   \n",
       "...                       ...            ...   ...      ...         ...  ...   \n",
       "superyarn                   1              1     0        0           0  ...   \n",
       "dbdoughe                    1              1     0        0           0  ...   \n",
       "cordesm                     1              1     0        0           0  ...   \n",
       "f_futamura                  1              1     0        0           0  ...   \n",
       "noellebeckman               0              0     0        0           0  ...   \n",
       "\n",
       "               belonging learning troll CC impact virtual participation  \\\n",
       "mathyadriana           0        1     0         0                     0   \n",
       "mathprofcarrie         4        6     0         2                     1   \n",
       "pwr2dppl               5        1     0         2                     0   \n",
       "xl772                  0        0     0         0                     0   \n",
       "WanderingPoint         0        0     0         1                     0   \n",
       "...                  ...      ...   ...       ...                   ...   \n",
       "superyarn              0        0     0         0                     0   \n",
       "dbdoughe               0        0     0         0                     0   \n",
       "cordesm                0        0     0         0                     0   \n",
       "f_futamura             0        0     0         0                     0   \n",
       "noellebeckman          0        0     0         0                     0   \n",
       "\n",
       "               activation futures economic beyond celebration  \n",
       "mathyadriana            0       0        0      0           0  \n",
       "mathprofcarrie          1       1        1      0           0  \n",
       "pwr2dppl                1       0        0      0           0  \n",
       "xl772                   0       0        0      0           0  \n",
       "WanderingPoint          0       0        0      0           0  \n",
       "...                   ...     ...      ...    ...         ...  \n",
       "superyarn               0       0        0      0           0  \n",
       "dbdoughe                0       0        0      0           0  \n",
       "cordesm                 0       0        0      0           0  \n",
       "f_futamura              0       0        0      0           0  \n",
       "noellebeckman           0       0        0      0           0  \n",
       "\n",
       "[328 rows x 35 columns]"
      ]
     },
     "execution_count": 264,
     "metadata": {},
     "output_type": "execute_result"
    }
   ],
   "source": [
    "#transforming the dataframe, so that each row is a tweeter, and the columns are the codes that they tweeted/retweeted/quote tweeted\n",
    "df_codes = pd.DataFrame(columns = codes)\n",
    "num_tweets_retweets = np.zeros(len(tweeters))\n",
    "for i in range(len(tweeters)):\n",
    "    df_temp = df[df['user_username'] == tweeters[i]]\n",
    "    num_tweets_retweets[i] = df_temp['tweet_id'].count()\n",
    "    #sum the all codes column\n",
    "    codes_sum_temp = df_temp['all codes'].sum()\n",
    "    #make a dictionary of the codes and how many times they appear in codes_sum_temp\n",
    "    codes_dict_temp = {i:codes_sum_temp.count(i) for i in codes}\n",
    "    #make the dictionary a dataframe\n",
    "    codes_dict_temp_df = pd.DataFrame.from_dict([codes_dict_temp])\n",
    "    #add the dictionary to the dataframe\n",
    "    df_codes = pd.concat([df_codes,codes_dict_temp_df], ignore_index=True)\n",
    "#make the indices the tweeters' names\n",
    "df_codes.index = tweeters\n",
    "df_codes"
   ]
  },
  {
   "cell_type": "code",
   "execution_count": 265,
   "metadata": {},
   "outputs": [
    {
     "data": {
      "text/plain": [
       "array([[ 1,  6,  1, ...,  0,  0,  0],\n",
       "       [ 7, 69,  3, ...,  1,  0,  0],\n",
       "       [ 8, 51,  7, ...,  0,  0,  0],\n",
       "       ...,\n",
       "       [ 1,  1,  1, ...,  0,  0,  0],\n",
       "       [ 1,  1,  1, ...,  0,  0,  0],\n",
       "       [ 0,  0,  0, ...,  0,  0,  0]], dtype=int32)"
      ]
     },
     "execution_count": 265,
     "metadata": {},
     "output_type": "execute_result"
    }
   ],
   "source": [
    "#make the dataframe into a numpy array\n",
    "df_codes_array = df_codes.to_numpy()\n",
    "df_codes_array=df_codes_array.astype('i')\n",
    "df_codes_array"
   ]
  },
  {
   "cell_type": "code",
   "execution_count": 266,
   "metadata": {},
   "outputs": [],
   "source": [
    "#putting the codes into the umbrella themes\n",
    "SO_codes = ['amplification', 'SO impact', 'activation', 'strategic planning', 'troll']\n",
    "BC_codes = ['thankful', 'talk support', 'belonging', 'emotional support', 'conversation', 'celebration', 'BC impact']\n",
    "BCP_codes = ['disrupteverything', 'influencers', 'hashtags', 'virtual participation']\n",
    "CC_codes = ['humanize', 'jmm experience', 'math experience', 'futures', 'math practice', 'current events', 'allyship in math', 'CC impact']\n",
    "SJEDI_codes = ['representation', 'lgbtq', 'bipoc', 'gender',  'indigenous', 'power', 'advocacy', 'learning', 'economic', 'SJEDI impact']"
   ]
  },
  {
   "cell_type": "code",
   "execution_count": 267,
   "metadata": {},
   "outputs": [
    {
     "data": {
      "text/plain": [
       "Text(0, 0.5, 'Number of tweets/retweets')"
      ]
     },
     "execution_count": 267,
     "metadata": {},
     "output_type": "execute_result"
    },
    {
     "data": {
      "image/png": "[encoded data removed]",
      "text/plain": [
       "<Figure size 1000x500 with 1 Axes>"
      ]
     },
     "metadata": {},
     "output_type": "display_data"
    }
   ],
   "source": [
    "#code for producing distribution of codes for a specific tweeter\n",
    "plt.figure(figsize=(10,5))\n",
    "plt.bar(codes, df_codes.loc['mathprofcarrie'])\n",
    "plt.xticks(rotation=75, fontsize=10)\n",
    "plt.title('mathprofcarrie tweets and retweets')\n",
    "plt.xlabel('Codes')\n",
    "plt.ylabel('Number of tweets/retweets')"
   ]
  },
  {
   "cell_type": "code",
   "execution_count": 268,
   "metadata": {},
   "outputs": [
    {
     "data": {
      "text/html": [
       "<div>\n",
       "<style scoped>\n",
       "    .dataframe tbody tr th:only-of-type {\n",
       "        vertical-align: middle;\n",
       "    }\n",
       "\n",
       "    .dataframe tbody tr th {\n",
       "        vertical-align: top;\n",
       "    }\n",
       "\n",
       "    .dataframe thead th {\n",
       "        text-align: right;\n",
       "    }\n",
       "</style>\n",
       "<table border=\"1\" class=\"dataframe\">\n",
       "  <thead>\n",
       "    <tr style=\"text-align: right;\">\n",
       "      <th></th>\n",
       "      <th>advocacy</th>\n",
       "      <th>amplification</th>\n",
       "      <th>emotional support</th>\n",
       "      <th>gender</th>\n",
       "      <th>indigenous</th>\n",
       "      <th>jmm experience</th>\n",
       "      <th>representation</th>\n",
       "      <th>bipoc</th>\n",
       "      <th>hashtags</th>\n",
       "      <th>influencers</th>\n",
       "      <th>...</th>\n",
       "      <th>activation</th>\n",
       "      <th>futures</th>\n",
       "      <th>economic</th>\n",
       "      <th>beyond</th>\n",
       "      <th>celebration</th>\n",
       "      <th>SO_codes</th>\n",
       "      <th>BC_codes</th>\n",
       "      <th>BCP_codes</th>\n",
       "      <th>CC_codes</th>\n",
       "      <th>SJEDI_codes</th>\n",
       "    </tr>\n",
       "  </thead>\n",
       "  <tbody>\n",
       "    <tr>\n",
       "      <th>mathyadriana</th>\n",
       "      <td>1</td>\n",
       "      <td>6</td>\n",
       "      <td>1</td>\n",
       "      <td>2</td>\n",
       "      <td>1</td>\n",
       "      <td>2</td>\n",
       "      <td>5</td>\n",
       "      <td>2</td>\n",
       "      <td>3</td>\n",
       "      <td>2</td>\n",
       "      <td>...</td>\n",
       "      <td>0</td>\n",
       "      <td>0</td>\n",
       "      <td>0</td>\n",
       "      <td>0</td>\n",
       "      <td>0</td>\n",
       "      <td>8</td>\n",
       "      <td>9</td>\n",
       "      <td>5</td>\n",
       "      <td>5</td>\n",
       "      <td>14</td>\n",
       "    </tr>\n",
       "    <tr>\n",
       "      <th>mathprofcarrie</th>\n",
       "      <td>7</td>\n",
       "      <td>69</td>\n",
       "      <td>3</td>\n",
       "      <td>11</td>\n",
       "      <td>14</td>\n",
       "      <td>2</td>\n",
       "      <td>25</td>\n",
       "      <td>11</td>\n",
       "      <td>47</td>\n",
       "      <td>33</td>\n",
       "      <td>...</td>\n",
       "      <td>1</td>\n",
       "      <td>1</td>\n",
       "      <td>1</td>\n",
       "      <td>0</td>\n",
       "      <td>0</td>\n",
       "      <td>90</td>\n",
       "      <td>113</td>\n",
       "      <td>83</td>\n",
       "      <td>37</td>\n",
       "      <td>95</td>\n",
       "    </tr>\n",
       "    <tr>\n",
       "      <th>pwr2dppl</th>\n",
       "      <td>8</td>\n",
       "      <td>51</td>\n",
       "      <td>7</td>\n",
       "      <td>8</td>\n",
       "      <td>12</td>\n",
       "      <td>6</td>\n",
       "      <td>20</td>\n",
       "      <td>12</td>\n",
       "      <td>39</td>\n",
       "      <td>28</td>\n",
       "      <td>...</td>\n",
       "      <td>1</td>\n",
       "      <td>0</td>\n",
       "      <td>0</td>\n",
       "      <td>0</td>\n",
       "      <td>0</td>\n",
       "      <td>73</td>\n",
       "      <td>84</td>\n",
       "      <td>67</td>\n",
       "      <td>40</td>\n",
       "      <td>84</td>\n",
       "    </tr>\n",
       "    <tr>\n",
       "      <th>xl772</th>\n",
       "      <td>2</td>\n",
       "      <td>6</td>\n",
       "      <td>1</td>\n",
       "      <td>1</td>\n",
       "      <td>2</td>\n",
       "      <td>1</td>\n",
       "      <td>6</td>\n",
       "      <td>0</td>\n",
       "      <td>3</td>\n",
       "      <td>4</td>\n",
       "      <td>...</td>\n",
       "      <td>0</td>\n",
       "      <td>0</td>\n",
       "      <td>0</td>\n",
       "      <td>0</td>\n",
       "      <td>0</td>\n",
       "      <td>10</td>\n",
       "      <td>8</td>\n",
       "      <td>7</td>\n",
       "      <td>3</td>\n",
       "      <td>13</td>\n",
       "    </tr>\n",
       "    <tr>\n",
       "      <th>WanderingPoint</th>\n",
       "      <td>1</td>\n",
       "      <td>11</td>\n",
       "      <td>3</td>\n",
       "      <td>1</td>\n",
       "      <td>4</td>\n",
       "      <td>2</td>\n",
       "      <td>6</td>\n",
       "      <td>1</td>\n",
       "      <td>8</td>\n",
       "      <td>5</td>\n",
       "      <td>...</td>\n",
       "      <td>0</td>\n",
       "      <td>0</td>\n",
       "      <td>0</td>\n",
       "      <td>0</td>\n",
       "      <td>0</td>\n",
       "      <td>14</td>\n",
       "      <td>18</td>\n",
       "      <td>13</td>\n",
       "      <td>8</td>\n",
       "      <td>16</td>\n",
       "    </tr>\n",
       "    <tr>\n",
       "      <th>...</th>\n",
       "      <td>...</td>\n",
       "      <td>...</td>\n",
       "      <td>...</td>\n",
       "      <td>...</td>\n",
       "      <td>...</td>\n",
       "      <td>...</td>\n",
       "      <td>...</td>\n",
       "      <td>...</td>\n",
       "      <td>...</td>\n",
       "      <td>...</td>\n",
       "      <td>...</td>\n",
       "      <td>...</td>\n",
       "      <td>...</td>\n",
       "      <td>...</td>\n",
       "      <td>...</td>\n",
       "      <td>...</td>\n",
       "      <td>...</td>\n",
       "      <td>...</td>\n",
       "      <td>...</td>\n",
       "      <td>...</td>\n",
       "      <td>...</td>\n",
       "    </tr>\n",
       "    <tr>\n",
       "      <th>superyarn</th>\n",
       "      <td>1</td>\n",
       "      <td>1</td>\n",
       "      <td>1</td>\n",
       "      <td>1</td>\n",
       "      <td>1</td>\n",
       "      <td>1</td>\n",
       "      <td>1</td>\n",
       "      <td>0</td>\n",
       "      <td>0</td>\n",
       "      <td>0</td>\n",
       "      <td>...</td>\n",
       "      <td>0</td>\n",
       "      <td>0</td>\n",
       "      <td>0</td>\n",
       "      <td>0</td>\n",
       "      <td>0</td>\n",
       "      <td>1</td>\n",
       "      <td>1</td>\n",
       "      <td>0</td>\n",
       "      <td>1</td>\n",
       "      <td>4</td>\n",
       "    </tr>\n",
       "    <tr>\n",
       "      <th>dbdoughe</th>\n",
       "      <td>1</td>\n",
       "      <td>1</td>\n",
       "      <td>1</td>\n",
       "      <td>1</td>\n",
       "      <td>1</td>\n",
       "      <td>1</td>\n",
       "      <td>1</td>\n",
       "      <td>0</td>\n",
       "      <td>0</td>\n",
       "      <td>0</td>\n",
       "      <td>...</td>\n",
       "      <td>0</td>\n",
       "      <td>0</td>\n",
       "      <td>0</td>\n",
       "      <td>0</td>\n",
       "      <td>0</td>\n",
       "      <td>1</td>\n",
       "      <td>1</td>\n",
       "      <td>0</td>\n",
       "      <td>1</td>\n",
       "      <td>4</td>\n",
       "    </tr>\n",
       "    <tr>\n",
       "      <th>cordesm</th>\n",
       "      <td>1</td>\n",
       "      <td>1</td>\n",
       "      <td>1</td>\n",
       "      <td>1</td>\n",
       "      <td>1</td>\n",
       "      <td>1</td>\n",
       "      <td>1</td>\n",
       "      <td>0</td>\n",
       "      <td>0</td>\n",
       "      <td>0</td>\n",
       "      <td>...</td>\n",
       "      <td>0</td>\n",
       "      <td>0</td>\n",
       "      <td>0</td>\n",
       "      <td>0</td>\n",
       "      <td>0</td>\n",
       "      <td>1</td>\n",
       "      <td>1</td>\n",
       "      <td>0</td>\n",
       "      <td>1</td>\n",
       "      <td>4</td>\n",
       "    </tr>\n",
       "    <tr>\n",
       "      <th>f_futamura</th>\n",
       "      <td>1</td>\n",
       "      <td>1</td>\n",
       "      <td>1</td>\n",
       "      <td>1</td>\n",
       "      <td>1</td>\n",
       "      <td>1</td>\n",
       "      <td>1</td>\n",
       "      <td>0</td>\n",
       "      <td>0</td>\n",
       "      <td>0</td>\n",
       "      <td>...</td>\n",
       "      <td>0</td>\n",
       "      <td>0</td>\n",
       "      <td>0</td>\n",
       "      <td>0</td>\n",
       "      <td>0</td>\n",
       "      <td>1</td>\n",
       "      <td>1</td>\n",
       "      <td>0</td>\n",
       "      <td>1</td>\n",
       "      <td>4</td>\n",
       "    </tr>\n",
       "    <tr>\n",
       "      <th>noellebeckman</th>\n",
       "      <td>0</td>\n",
       "      <td>0</td>\n",
       "      <td>0</td>\n",
       "      <td>1</td>\n",
       "      <td>0</td>\n",
       "      <td>0</td>\n",
       "      <td>0</td>\n",
       "      <td>0</td>\n",
       "      <td>0</td>\n",
       "      <td>0</td>\n",
       "      <td>...</td>\n",
       "      <td>0</td>\n",
       "      <td>0</td>\n",
       "      <td>0</td>\n",
       "      <td>0</td>\n",
       "      <td>0</td>\n",
       "      <td>0</td>\n",
       "      <td>1</td>\n",
       "      <td>0</td>\n",
       "      <td>1</td>\n",
       "      <td>1</td>\n",
       "    </tr>\n",
       "  </tbody>\n",
       "</table>\n",
       "<p>328 rows × 40 columns</p>\n",
       "</div>"
      ],
      "text/plain": [
       "               advocacy amplification emotional support gender indigenous  \\\n",
       "mathyadriana          1             6                 1      2          1   \n",
       "mathprofcarrie        7            69                 3     11         14   \n",
       "pwr2dppl              8            51                 7      8         12   \n",
       "xl772                 2             6                 1      1          2   \n",
       "WanderingPoint        1            11                 3      1          4   \n",
       "...                 ...           ...               ...    ...        ...   \n",
       "superyarn             1             1                 1      1          1   \n",
       "dbdoughe              1             1                 1      1          1   \n",
       "cordesm               1             1                 1      1          1   \n",
       "f_futamura            1             1                 1      1          1   \n",
       "noellebeckman         0             0                 0      1          0   \n",
       "\n",
       "               jmm experience representation bipoc hashtags influencers  ...  \\\n",
       "mathyadriana                2              5     2        3           2  ...   \n",
       "mathprofcarrie              2             25    11       47          33  ...   \n",
       "pwr2dppl                    6             20    12       39          28  ...   \n",
       "xl772                       1              6     0        3           4  ...   \n",
       "WanderingPoint              2              6     1        8           5  ...   \n",
       "...                       ...            ...   ...      ...         ...  ...   \n",
       "superyarn                   1              1     0        0           0  ...   \n",
       "dbdoughe                    1              1     0        0           0  ...   \n",
       "cordesm                     1              1     0        0           0  ...   \n",
       "f_futamura                  1              1     0        0           0  ...   \n",
       "noellebeckman               0              0     0        0           0  ...   \n",
       "\n",
       "               activation futures economic beyond celebration SO_codes  \\\n",
       "mathyadriana            0       0        0      0           0        8   \n",
       "mathprofcarrie          1       1        1      0           0       90   \n",
       "pwr2dppl                1       0        0      0           0       73   \n",
       "xl772                   0       0        0      0           0       10   \n",
       "WanderingPoint          0       0        0      0           0       14   \n",
       "...                   ...     ...      ...    ...         ...      ...   \n",
       "superyarn               0       0        0      0           0        1   \n",
       "dbdoughe                0       0        0      0           0        1   \n",
       "cordesm                 0       0        0      0           0        1   \n",
       "f_futamura              0       0        0      0           0        1   \n",
       "noellebeckman           0       0        0      0           0        0   \n",
       "\n",
       "               BC_codes BCP_codes CC_codes SJEDI_codes  \n",
       "mathyadriana          9         5        5          14  \n",
       "mathprofcarrie      113        83       37          95  \n",
       "pwr2dppl             84        67       40          84  \n",
       "xl772                 8         7        3          13  \n",
       "WanderingPoint       18        13        8          16  \n",
       "...                 ...       ...      ...         ...  \n",
       "superyarn             1         0        1           4  \n",
       "dbdoughe              1         0        1           4  \n",
       "cordesm               1         0        1           4  \n",
       "f_futamura            1         0        1           4  \n",
       "noellebeckman         1         0        1           1  \n",
       "\n",
       "[328 rows x 40 columns]"
      ]
     },
     "execution_count": 268,
     "metadata": {},
     "output_type": "execute_result"
    }
   ],
   "source": [
    "#sum up all the columns in SO_codes, BC_codes, BCP_codes, CC_codes, and SJEDI_codes for each tweeter\n",
    "df_codes['SO_codes'] = df_codes[SO_codes].sum(axis=1)\n",
    "df_codes['BC_codes'] = df_codes[BC_codes].sum(axis=1)\n",
    "df_codes['BCP_codes'] = df_codes[BCP_codes].sum(axis=1)\n",
    "df_codes['CC_codes'] = df_codes[CC_codes].sum(axis=1)\n",
    "df_codes['SJEDI_codes'] = df_codes[SJEDI_codes].sum(axis=1)\n",
    "\n",
    "df_codes"
   ]
  },
  {
   "cell_type": "code",
   "execution_count": 269,
   "metadata": {},
   "outputs": [
    {
     "data": {
      "text/plain": [
       "83"
      ]
     },
     "execution_count": 269,
     "metadata": {},
     "output_type": "execute_result"
    }
   ],
   "source": [
    "#Checking to make sure the sum is doing what we want\n",
    "#'disrupteverything', 'influencers', 'hashtags', 'virtual participation'\n",
    "df_codes.loc['mathprofcarrie', 'disrupteverything'] + df_codes.loc['mathprofcarrie', 'influencers'] + df_codes.loc['mathprofcarrie', 'hashtags'] + df_codes.loc['mathprofcarrie', 'virtual participation']\n",
    "\n"
   ]
  },
  {
   "cell_type": "markdown",
   "metadata": {},
   "source": [
    "## Clusters from Mapper (interval = 1)"
   ]
  },
  {
   "cell_type": "code",
   "execution_count": 270,
   "metadata": {},
   "outputs": [],
   "source": [
    "#getting the filter function\n",
    "def l1_norm(X):\n",
    "    #take the l1 norm of each row\n",
    "    return np.linalg.norm(X, ord=1, axis=1).reshape(-1, 1)\n",
    "\n",
    "def linf_norm(X):\n",
    "    #take the l1 norm of each row\n",
    "    return np.linalg.norm(X, ord=np.inf, axis=1).reshape(-1, 1)\n",
    "\n",
    "from sklearn.preprocessing import FunctionTransformer\n",
    "l1_norm_trans = FunctionTransformer(l1_norm)\n",
    "\n",
    "linf_norm_trans = FunctionTransformer(linf_norm)"
   ]
  },
  {
   "cell_type": "code",
   "execution_count": 271,
   "metadata": {},
   "outputs": [
    {
     "data": {
      "application/vnd.plotly.v1+json": {
       "config": {
        "plotlyServerURL": "https://plot.ly",
        "scrollZoom": true
       },
       "data": [
        {
         "hoverinfo": "none",
         "line": {
          "color": "#888",
          "width": 1
         },
         "mode": "lines",
         "name": "edge_trace",
         "type": "scatter",
         "uid": "b30be4e7-44d5-4175-b661-0aec7f701083",
         "x": [
          1.4254063423836512,
          0.06870899801122062,
          null,
          0.06870899801122062,
          -0.827482399994036,
          null
         ],
         "y": [
          -1.2213908378911484,
          -0.6927490462710161,
          null,
          -0.6927490462710161,
          0.5366198063832258,
          null
         ]
        },
        {
         "hoverinfo": "text",
         "hovertext": [
          "Node ID: 0<br>Pullback set label: 0<br>Partial cluster label: -1<br>Node size: 204<br>Summary statistic: 137.0",
          "Node ID: 1<br>Pullback set label: 1<br>Partial cluster label: -1<br>Node size: 11<br>Summary statistic: 28.5",
          "Node ID: 2<br>Pullback set label: 7<br>Partial cluster label: -1<br>Node size: 1<br>Summary statistic: 1.0",
          "Node ID: 3<br>Pullback set label: 6<br>Partial cluster label: -1<br>Node size: 1<br>Summary statistic: 2.0",
          "Node ID: 4<br>Pullback set label: 3<br>Partial cluster label: -1<br>Node size: 1<br>Summary statistic: 5.0",
          "Node ID: 5<br>Pullback set label: 4<br>Partial cluster label: -1<br>Node size: 1<br>Summary statistic: 14.0",
          "Node ID: 6<br>Pullback set label: 2<br>Partial cluster label: -1<br>Node size: 1<br>Summary statistic: 78.0",
          "Node ID: 7<br>Pullback set label: 0<br>Partial cluster label: 0<br>Node size: 5<br>Summary statistic: 174.0",
          "Node ID: 8<br>Pullback set label: 5<br>Partial cluster label: -1<br>Node size: 1<br>Summary statistic: 84.0",
          "Node ID: 9<br>Pullback set label: 0<br>Partial cluster label: 1<br>Node size: 45<br>Summary statistic: 219.0",
          "Node ID: 10<br>Pullback set label: 0<br>Partial cluster label: 2<br>Node size: 6<br>Summary statistic: 206.0",
          "Node ID: 11<br>Pullback set label: 0<br>Partial cluster label: 3<br>Node size: 5<br>Summary statistic: 166.0",
          "Node ID: 12<br>Pullback set label: 0<br>Partial cluster label: 4<br>Node size: 26<br>Summary statistic: 220.0",
          "Node ID: 13<br>Pullback set label: 0<br>Partial cluster label: 5<br>Node size: 8<br>Summary statistic: 195.0",
          "Node ID: 14<br>Pullback set label: 0<br>Partial cluster label: 6<br>Node size: 20<br>Summary statistic: 269.0"
         ],
         "marker": {
          "color": [
           137.01960784313727,
           28.545454545454547,
           1,
           2,
           5,
           14,
           78,
           173.6,
           84,
           219.0888888888889,
           206.5,
           166.4,
           219.80769230769232,
           195.25,
           268.8
          ],
          "colorbar": {
           "thickness": 15,
           "title": {
            "side": "right",
            "text": ""
           },
           "xanchor": "left"
          },
          "colorscale": [
           [
            0,
            "#440154"
           ],
           [
            0.1111111111111111,
            "#482878"
           ],
           [
            0.2222222222222222,
            "#3e4989"
           ],
           [
            0.3333333333333333,
            "#31688e"
           ],
           [
            0.4444444444444444,
            "#26828e"
           ],
           [
            0.5555555555555556,
            "#1f9e89"
           ],
           [
            0.6666666666666666,
            "#35b779"
           ],
           [
            0.7777777777777778,
            "#6ece58"
           ],
           [
            0.8888888888888888,
            "#b5de2b"
           ],
           [
            1,
            "#fde725"
           ]
          ],
          "line": {
           "color": "#888",
           "width": 1
          },
          "opacity": 1,
          "reversescale": false,
          "showscale": true,
          "size": [
           204,
           11,
           1,
           1,
           1,
           1,
           1,
           5,
           1,
           45,
           6,
           5,
           26,
           8,
           20
          ],
          "sizemin": 4,
          "sizemode": "area",
          "sizeref": 2.8333333333333335
         },
         "mode": "markers",
         "name": "node_trace",
         "type": "scatter",
         "uid": "7787a921-605a-4c00-90e3-6bc5610c9350",
         "x": [
          1.4254063423836512,
          0.06870899801122062,
          0.8958877578102532,
          -1.6843527708634805,
          -2.8212088657994268,
          -2.0753272460678005,
          -0.827482399994036,
          -3.7996635381562274,
          -2.005568347477964,
          -0.7172283104170837,
          0.5578585982882848,
          -3.561328023093477,
          -0.2977994597750492,
          -3.211438461906458,
          1.6080127746577886
         ],
         "y": [
          -1.2213908378911484,
          -0.6927490462710161,
          1.5673613470706438,
          2.3515637876294764,
          1.7250306388411756,
          -0.8322021966251657,
          0.5366198063832258,
          -0.640017472670014,
          -2.786963235570437,
          -2.866003243626001,
          -2.4604052175590416,
          0.6970968880410624,
          2.332357748070661,
          -2.026849325447004,
          0.3148771025597992
         ]
        }
       ],
       "layout": {
        "autosize": false,
        "hovermode": "closest",
        "margin": {
         "b": 20,
         "l": 5,
         "r": 5,
         "t": 40
        },
        "showlegend": false,
        "template": {
         "data": {
          "bar": [
           {
            "error_x": {
             "color": "rgb(36,36,36)"
            },
            "error_y": {
             "color": "rgb(36,36,36)"
            },
            "marker": {
             "line": {
              "color": "white",
              "width": 0.5
             },
             "pattern": {
              "fillmode": "overlay",
              "size": 10,
              "solidity": 0.2
             }
            },
            "type": "bar"
           }
          ],
          "barpolar": [
           {
            "marker": {
             "line": {
              "color": "white",
              "width": 0.5
             },
             "pattern": {
              "fillmode": "overlay",
              "size": 10,
              "solidity": 0.2
             }
            },
            "type": "barpolar"
           }
          ],
          "carpet": [
           {
            "aaxis": {
             "endlinecolor": "rgb(36,36,36)",
             "gridcolor": "white",
             "linecolor": "white",
             "minorgridcolor": "white",
             "startlinecolor": "rgb(36,36,36)"
            },
            "baxis": {
             "endlinecolor": "rgb(36,36,36)",
             "gridcolor": "white",
             "linecolor": "white",
             "minorgridcolor": "white",
             "startlinecolor": "rgb(36,36,36)"
            },
            "type": "carpet"
           }
          ],
          "choropleth": [
           {
            "colorbar": {
             "outlinewidth": 1,
             "tickcolor": "rgb(36,36,36)",
             "ticks": "outside"
            },
            "type": "choropleth"
           }
          ],
          "contour": [
           {
            "colorbar": {
             "outlinewidth": 1,
             "tickcolor": "rgb(36,36,36)",
             "ticks": "outside"
            },
            "colorscale": [
             [
              0,
              "#440154"
             ],
             [
              0.1111111111111111,
              "#482878"
             ],
             [
              0.2222222222222222,
              "#3e4989"
             ],
             [
              0.3333333333333333,
              "#31688e"
             ],
             [
              0.4444444444444444,
              "#26828e"
             ],
             [
              0.5555555555555556,
              "#1f9e89"
             ],
             [
              0.6666666666666666,
              "#35b779"
             ],
             [
              0.7777777777777778,
              "#6ece58"
             ],
             [
              0.8888888888888888,
              "#b5de2b"
             ],
             [
              1,
              "#fde725"
             ]
            ],
            "type": "contour"
           }
          ],
          "contourcarpet": [
           {
            "colorbar": {
             "outlinewidth": 1,
             "tickcolor": "rgb(36,36,36)",
             "ticks": "outside"
            },
            "type": "contourcarpet"
           }
          ],
          "heatmap": [
           {
            "colorbar": {
             "outlinewidth": 1,
             "tickcolor": "rgb(36,36,36)",
             "ticks": "outside"
            },
            "colorscale": [
             [
              0,
              "#440154"
             ],
             [
              0.1111111111111111,
              "#482878"
             ],
             [
              0.2222222222222222,
              "#3e4989"
             ],
             [
              0.3333333333333333,
              "#31688e"
             ],
             [
              0.4444444444444444,
              "#26828e"
             ],
             [
              0.5555555555555556,
              "#1f9e89"
             ],
             [
              0.6666666666666666,
              "#35b779"
             ],
             [
              0.7777777777777778,
              "#6ece58"
             ],
             [
              0.8888888888888888,
              "#b5de2b"
             ],
             [
              1,
              "#fde725"
             ]
            ],
            "type": "heatmap"
           }
          ],
          "heatmapgl": [
           {
            "colorbar": {
             "outlinewidth": 1,
             "tickcolor": "rgb(36,36,36)",
             "ticks": "outside"
            },
            "colorscale": [
             [
              0,
              "#440154"
             ],
             [
              0.1111111111111111,
              "#482878"
             ],
             [
              0.2222222222222222,
              "#3e4989"
             ],
             [
              0.3333333333333333,
              "#31688e"
             ],
             [
              0.4444444444444444,
              "#26828e"
             ],
             [
              0.5555555555555556,
              "#1f9e89"
             ],
             [
              0.6666666666666666,
              "#35b779"
             ],
             [
              0.7777777777777778,
              "#6ece58"
             ],
             [
              0.8888888888888888,
              "#b5de2b"
             ],
             [
              1,
              "#fde725"
             ]
            ],
            "type": "heatmapgl"
           }
          ],
          "histogram": [
           {
            "marker": {
             "line": {
              "color": "white",
              "width": 0.6
             }
            },
            "type": "histogram"
           }
          ],
          "histogram2d": [
           {
            "colorbar": {
             "outlinewidth": 1,
             "tickcolor": "rgb(36,36,36)",
             "ticks": "outside"
            },
            "colorscale": [
             [
              0,
              "#440154"
             ],
             [
              0.1111111111111111,
              "#482878"
             ],
             [
              0.2222222222222222,
              "#3e4989"
             ],
             [
              0.3333333333333333,
              "#31688e"
             ],
             [
              0.4444444444444444,
              "#26828e"
             ],
             [
              0.5555555555555556,
              "#1f9e89"
             ],
             [
              0.6666666666666666,
              "#35b779"
             ],
             [
              0.7777777777777778,
              "#6ece58"
             ],
             [
              0.8888888888888888,
              "#b5de2b"
             ],
             [
              1,
              "#fde725"
             ]
            ],
            "type": "histogram2d"
           }
          ],
          "histogram2dcontour": [
           {
            "colorbar": {
             "outlinewidth": 1,
             "tickcolor": "rgb(36,36,36)",
             "ticks": "outside"
            },
            "colorscale": [
             [
              0,
              "#440154"
             ],
             [
              0.1111111111111111,
              "#482878"
             ],
             [
              0.2222222222222222,
              "#3e4989"
             ],
             [
              0.3333333333333333,
              "#31688e"
             ],
             [
              0.4444444444444444,
              "#26828e"
             ],
             [
              0.5555555555555556,
              "#1f9e89"
             ],
             [
              0.6666666666666666,
              "#35b779"
             ],
             [
              0.7777777777777778,
              "#6ece58"
             ],
             [
              0.8888888888888888,
              "#b5de2b"
             ],
             [
              1,
              "#fde725"
             ]
            ],
            "type": "histogram2dcontour"
           }
          ],
          "mesh3d": [
           {
            "colorbar": {
             "outlinewidth": 1,
             "tickcolor": "rgb(36,36,36)",
             "ticks": "outside"
            },
            "type": "mesh3d"
           }
          ],
          "parcoords": [
           {
            "line": {
             "colorbar": {
              "outlinewidth": 1,
              "tickcolor": "rgb(36,36,36)",
              "ticks": "outside"
             }
            },
            "type": "parcoords"
           }
          ],
          "pie": [
           {
            "automargin": true,
            "type": "pie"
           }
          ],
          "scatter": [
           {
            "fillpattern": {
             "fillmode": "overlay",
             "size": 10,
             "solidity": 0.2
            },
            "type": "scatter"
           }
          ],
          "scatter3d": [
           {
            "line": {
             "colorbar": {
              "outlinewidth": 1,
              "tickcolor": "rgb(36,36,36)",
              "ticks": "outside"
             }
            },
            "marker": {
             "colorbar": {
              "outlinewidth": 1,
              "tickcolor": "rgb(36,36,36)",
              "ticks": "outside"
             }
            },
            "type": "scatter3d"
           }
          ],
          "scattercarpet": [
           {
            "marker": {
             "colorbar": {
              "outlinewidth": 1,
              "tickcolor": "rgb(36,36,36)",
              "ticks": "outside"
             }
            },
            "type": "scattercarpet"
           }
          ],
          "scattergeo": [
           {
            "marker": {
             "colorbar": {
              "outlinewidth": 1,
              "tickcolor": "rgb(36,36,36)",
              "ticks": "outside"
             }
            },
            "type": "scattergeo"
           }
          ],
          "scattergl": [
           {
            "marker": {
             "colorbar": {
              "outlinewidth": 1,
              "tickcolor": "rgb(36,36,36)",
              "ticks": "outside"
             }
            },
            "type": "scattergl"
           }
          ],
          "scattermapbox": [
           {
            "marker": {
             "colorbar": {
              "outlinewidth": 1,
              "tickcolor": "rgb(36,36,36)",
              "ticks": "outside"
             }
            },
            "type": "scattermapbox"
           }
          ],
          "scatterpolar": [
           {
            "marker": {
             "colorbar": {
              "outlinewidth": 1,
              "tickcolor": "rgb(36,36,36)",
              "ticks": "outside"
             }
            },
            "type": "scatterpolar"
           }
          ],
          "scatterpolargl": [
           {
            "marker": {
             "colorbar": {
              "outlinewidth": 1,
              "tickcolor": "rgb(36,36,36)",
              "ticks": "outside"
             }
            },
            "type": "scatterpolargl"
           }
          ],
          "scatterternary": [
           {
            "marker": {
             "colorbar": {
              "outlinewidth": 1,
              "tickcolor": "rgb(36,36,36)",
              "ticks": "outside"
             }
            },
            "type": "scatterternary"
           }
          ],
          "surface": [
           {
            "colorbar": {
             "outlinewidth": 1,
             "tickcolor": "rgb(36,36,36)",
             "ticks": "outside"
            },
            "colorscale": [
             [
              0,
              "#440154"
             ],
             [
              0.1111111111111111,
              "#482878"
             ],
             [
              0.2222222222222222,
              "#3e4989"
             ],
             [
              0.3333333333333333,
              "#31688e"
             ],
             [
              0.4444444444444444,
              "#26828e"
             ],
             [
              0.5555555555555556,
              "#1f9e89"
             ],
             [
              0.6666666666666666,
              "#35b779"
             ],
             [
              0.7777777777777778,
              "#6ece58"
             ],
             [
              0.8888888888888888,
              "#b5de2b"
             ],
             [
              1,
              "#fde725"
             ]
            ],
            "type": "surface"
           }
          ],
          "table": [
           {
            "cells": {
             "fill": {
              "color": "rgb(237,237,237)"
             },
             "line": {
              "color": "white"
             }
            },
            "header": {
             "fill": {
              "color": "rgb(217,217,217)"
             },
             "line": {
              "color": "white"
             }
            },
            "type": "table"
           }
          ]
         },
         "layout": {
          "annotationdefaults": {
           "arrowhead": 0,
           "arrowwidth": 1
          },
          "autotypenumbers": "strict",
          "coloraxis": {
           "colorbar": {
            "outlinewidth": 1,
            "tickcolor": "rgb(36,36,36)",
            "ticks": "outside"
           }
          },
          "colorscale": {
           "diverging": [
            [
             0,
             "rgb(103,0,31)"
            ],
            [
             0.1,
             "rgb(178,24,43)"
            ],
            [
             0.2,
             "rgb(214,96,77)"
            ],
            [
             0.3,
             "rgb(244,165,130)"
            ],
            [
             0.4,
             "rgb(253,219,199)"
            ],
            [
             0.5,
             "rgb(247,247,247)"
            ],
            [
             0.6,
             "rgb(209,229,240)"
            ],
            [
             0.7,
             "rgb(146,197,222)"
            ],
            [
             0.8,
             "rgb(67,147,195)"
            ],
            [
             0.9,
             "rgb(33,102,172)"
            ],
            [
             1,
             "rgb(5,48,97)"
            ]
           ],
           "sequential": [
            [
             0,
             "#440154"
            ],
            [
             0.1111111111111111,
             "#482878"
            ],
            [
             0.2222222222222222,
             "#3e4989"
            ],
            [
             0.3333333333333333,
             "#31688e"
            ],
            [
             0.4444444444444444,
             "#26828e"
            ],
            [
             0.5555555555555556,
             "#1f9e89"
            ],
            [
             0.6666666666666666,
             "#35b779"
            ],
            [
             0.7777777777777778,
             "#6ece58"
            ],
            [
             0.8888888888888888,
             "#b5de2b"
            ],
            [
             1,
             "#fde725"
            ]
           ],
           "sequentialminus": [
            [
             0,
             "#440154"
            ],
            [
             0.1111111111111111,
             "#482878"
            ],
            [
             0.2222222222222222,
             "#3e4989"
            ],
            [
             0.3333333333333333,
             "#31688e"
            ],
            [
             0.4444444444444444,
             "#26828e"
            ],
            [
             0.5555555555555556,
             "#1f9e89"
            ],
            [
             0.6666666666666666,
             "#35b779"
            ],
            [
             0.7777777777777778,
             "#6ece58"
            ],
            [
             0.8888888888888888,
             "#b5de2b"
            ],
            [
             1,
             "#fde725"
            ]
           ]
          },
          "colorway": [
           "#1F77B4",
           "#FF7F0E",
           "#2CA02C",
           "#D62728",
           "#9467BD",
           "#8C564B",
           "#E377C2",
           "#7F7F7F",
           "#BCBD22",
           "#17BECF"
          ],
          "font": {
           "color": "rgb(36,36,36)"
          },
          "geo": {
           "bgcolor": "white",
           "lakecolor": "white",
           "landcolor": "white",
           "showlakes": true,
           "showland": true,
           "subunitcolor": "white"
          },
          "hoverlabel": {
           "align": "left"
          },
          "hovermode": "closest",
          "mapbox": {
           "style": "light"
          },
          "paper_bgcolor": "white",
          "plot_bgcolor": "white",
          "polar": {
           "angularaxis": {
            "gridcolor": "rgb(232,232,232)",
            "linecolor": "rgb(36,36,36)",
            "showgrid": false,
            "showline": true,
            "ticks": "outside"
           },
           "bgcolor": "white",
           "radialaxis": {
            "gridcolor": "rgb(232,232,232)",
            "linecolor": "rgb(36,36,36)",
            "showgrid": false,
            "showline": true,
            "ticks": "outside"
           }
          },
          "scene": {
           "xaxis": {
            "backgroundcolor": "white",
            "gridcolor": "rgb(232,232,232)",
            "gridwidth": 2,
            "linecolor": "rgb(36,36,36)",
            "showbackground": true,
            "showgrid": false,
            "showline": true,
            "ticks": "outside",
            "zeroline": false,
            "zerolinecolor": "rgb(36,36,36)"
           },
           "yaxis": {
            "backgroundcolor": "white",
            "gridcolor": "rgb(232,232,232)",
            "gridwidth": 2,
            "linecolor": "rgb(36,36,36)",
            "showbackground": true,
            "showgrid": false,
            "showline": true,
            "ticks": "outside",
            "zeroline": false,
            "zerolinecolor": "rgb(36,36,36)"
           },
           "zaxis": {
            "backgroundcolor": "white",
            "gridcolor": "rgb(232,232,232)",
            "gridwidth": 2,
            "linecolor": "rgb(36,36,36)",
            "showbackground": true,
            "showgrid": false,
            "showline": true,
            "ticks": "outside",
            "zeroline": false,
            "zerolinecolor": "rgb(36,36,36)"
           }
          },
          "shapedefaults": {
           "fillcolor": "black",
           "line": {
            "width": 0
           },
           "opacity": 0.3
          },
          "ternary": {
           "aaxis": {
            "gridcolor": "rgb(232,232,232)",
            "linecolor": "rgb(36,36,36)",
            "showgrid": false,
            "showline": true,
            "ticks": "outside"
           },
           "baxis": {
            "gridcolor": "rgb(232,232,232)",
            "linecolor": "rgb(36,36,36)",
            "showgrid": false,
            "showline": true,
            "ticks": "outside"
           },
           "bgcolor": "white",
           "caxis": {
            "gridcolor": "rgb(232,232,232)",
            "linecolor": "rgb(36,36,36)",
            "showgrid": false,
            "showline": true,
            "ticks": "outside"
           }
          },
          "title": {
           "x": 0.05
          },
          "xaxis": {
           "automargin": true,
           "gridcolor": "rgb(232,232,232)",
           "linecolor": "rgb(36,36,36)",
           "showgrid": false,
           "showline": true,
           "ticks": "outside",
           "title": {
            "standoff": 15
           },
           "zeroline": false,
           "zerolinecolor": "rgb(36,36,36)"
          },
          "yaxis": {
           "automargin": true,
           "gridcolor": "rgb(232,232,232)",
           "linecolor": "rgb(36,36,36)",
           "showgrid": false,
           "showline": true,
           "ticks": "outside",
           "title": {
            "standoff": 15
           },
           "zeroline": false,
           "zerolinecolor": "rgb(36,36,36)"
          }
         }
        },
        "title": {
         "text": ""
        },
        "xaxis": {
         "showgrid": false,
         "showline": false,
         "showticklabels": false,
         "ticks": "",
         "title": {
          "text": ""
         },
         "zeroline": false
        },
        "yaxis": {
         "showgrid": false,
         "showline": false,
         "showticklabels": false,
         "ticks": "",
         "title": {
          "text": ""
         },
         "zeroline": false
        }
       }
      }
     },
     "metadata": {},
     "output_type": "display_data"
    }
   ],
   "source": [
    "import gtda.mapper as map\n",
    "import sklearn.cluster as cluster\n",
    "\n",
    "\n",
    "filter_func = l1_norm_trans\n",
    "cover = map.OneDimensionalCover(kind='uniform', n_intervals=10, overlap_frac=0.35)\n",
    "clusterer = cluster.DBSCAN()\n",
    "\n",
    "pipe = map.make_mapper_pipeline(\n",
    "    filter_func=filter_func,\n",
    "    cover=cover,\n",
    "    clusterer=None,\n",
    "    verbose=False,\n",
    "    n_jobs=1,\n",
    ")\n",
    "\n",
    "fig = map.plot_static_mapper_graph(pipe, df_codes_array)\n",
    "fig.show(config={'scrollZoom': True})\n",
    "\n"
   ]
  },
  {
   "cell_type": "code",
   "execution_count": 272,
   "metadata": {},
   "outputs": [
    {
     "data": {
      "text/plain": [
       "[array([  0,   3,   6,   7,   8,   9,  10,  11,  12,  13,  15,  16,  17,\n",
       "         20,  21,  22,  23,  24,  25,  26,  27,  28,  29,  30,  31,  32,\n",
       "         33,  34,  35,  36,  37,  38,  39,  40,  41,  42,  43,  44,  45,\n",
       "         46,  47,  48,  49,  50,  51,  52,  53,  54,  55,  56,  57,  58,\n",
       "         59,  60,  61,  62,  63,  64,  65,  66,  67,  68,  69,  70,  71,\n",
       "         72,  73,  74,  75,  76,  77,  79,  80,  82,  83,  85,  86,  87,\n",
       "         88,  89,  90,  91,  92,  93,  94,  95,  96,  97,  98,  99, 103,\n",
       "        106, 108, 109, 111, 113, 114, 117, 122, 125, 128, 131, 132, 134,\n",
       "        135, 136, 138, 140, 141, 142, 143, 144, 145, 146, 147, 148, 150,\n",
       "        151, 152, 153, 154, 155, 156, 157, 158, 159, 160, 161, 162, 163,\n",
       "        164, 165, 166, 168, 169, 170, 175, 177, 178, 180, 181, 182, 183,\n",
       "        184, 185, 186, 187, 188, 190, 193, 202, 203, 204, 206, 211, 214,\n",
       "        216, 217, 220, 223, 224, 237, 238, 239, 240, 241, 242, 243, 244,\n",
       "        245, 246, 247, 248, 249, 250, 251, 252, 253, 254, 255, 263, 264,\n",
       "        277, 283, 284, 287, 288, 289, 292, 293, 297, 301, 304, 306, 308,\n",
       "        309, 310, 311, 312, 314, 316, 318, 321, 327]),\n",
       " array([ 0,  3,  4, 11, 18, 19, 25, 43, 48, 65, 78]),\n",
       " array([1]),\n",
       " array([2]),\n",
       " array([5]),\n",
       " array([14]),\n",
       " array([78]),\n",
       " array([ 81, 174, 176, 179, 258]),\n",
       " array([84]),\n",
       " array([100, 101, 105, 110, 112, 115, 116, 118, 119, 120, 121, 123, 124,\n",
       "        126, 127, 129, 130, 133, 137, 139, 200, 265, 278, 282, 285, 286,\n",
       "        290, 291, 295, 296, 298, 299, 300, 302, 303, 305, 307, 315, 317,\n",
       "        320, 322, 323, 324, 325, 326]),\n",
       " array([102, 104, 107, 294, 313, 319]),\n",
       " array([149, 167, 171, 172, 173]),\n",
       " array([189, 201, 205, 207, 208, 209, 210, 212, 213, 215, 218, 219, 221,\n",
       "        222, 225, 226, 227, 228, 229, 230, 231, 232, 233, 234, 235, 236]),\n",
       " array([191, 192, 194, 195, 196, 197, 198, 199]),\n",
       " array([256, 257, 259, 260, 261, 262, 266, 267, 268, 269, 270, 271, 272,\n",
       "        273, 274, 275, 276, 279, 280, 281])]"
      ]
     },
     "execution_count": 272,
     "metadata": {},
     "output_type": "execute_result"
    }
   ],
   "source": [
    "#remember these are people\n",
    "graph = pipe.fit_transform(df_codes_array)\n",
    "graph.vs.attributes()\n",
    "node_elts = graph.vs[\"node_elements\"]\n",
    "node_elts"
   ]
  },
  {
   "cell_type": "code",
   "execution_count": 273,
   "metadata": {},
   "outputs": [
    {
     "data": {
      "text/html": [
       "<div>\n",
       "<style scoped>\n",
       "    .dataframe tbody tr th:only-of-type {\n",
       "        vertical-align: middle;\n",
       "    }\n",
       "\n",
       "    .dataframe tbody tr th {\n",
       "        vertical-align: top;\n",
       "    }\n",
       "\n",
       "    .dataframe thead th {\n",
       "        text-align: right;\n",
       "    }\n",
       "</style>\n",
       "<table border=\"1\" class=\"dataframe\">\n",
       "  <thead>\n",
       "    <tr style=\"text-align: right;\">\n",
       "      <th></th>\n",
       "      <th>index</th>\n",
       "      <th>advocacy</th>\n",
       "      <th>amplification</th>\n",
       "      <th>emotional support</th>\n",
       "      <th>gender</th>\n",
       "      <th>indigenous</th>\n",
       "      <th>jmm experience</th>\n",
       "      <th>representation</th>\n",
       "      <th>bipoc</th>\n",
       "      <th>hashtags</th>\n",
       "      <th>...</th>\n",
       "      <th>activation</th>\n",
       "      <th>futures</th>\n",
       "      <th>economic</th>\n",
       "      <th>beyond</th>\n",
       "      <th>celebration</th>\n",
       "      <th>SO_codes</th>\n",
       "      <th>BC_codes</th>\n",
       "      <th>BCP_codes</th>\n",
       "      <th>CC_codes</th>\n",
       "      <th>SJEDI_codes</th>\n",
       "    </tr>\n",
       "  </thead>\n",
       "  <tbody>\n",
       "    <tr>\n",
       "      <th>0</th>\n",
       "      <td>mathyadriana</td>\n",
       "      <td>1</td>\n",
       "      <td>6</td>\n",
       "      <td>1</td>\n",
       "      <td>2</td>\n",
       "      <td>1</td>\n",
       "      <td>2</td>\n",
       "      <td>5</td>\n",
       "      <td>2</td>\n",
       "      <td>3</td>\n",
       "      <td>...</td>\n",
       "      <td>0</td>\n",
       "      <td>0</td>\n",
       "      <td>0</td>\n",
       "      <td>0</td>\n",
       "      <td>0</td>\n",
       "      <td>8</td>\n",
       "      <td>9</td>\n",
       "      <td>5</td>\n",
       "      <td>5</td>\n",
       "      <td>14</td>\n",
       "    </tr>\n",
       "    <tr>\n",
       "      <th>3</th>\n",
       "      <td>xl772</td>\n",
       "      <td>2</td>\n",
       "      <td>6</td>\n",
       "      <td>1</td>\n",
       "      <td>1</td>\n",
       "      <td>2</td>\n",
       "      <td>1</td>\n",
       "      <td>6</td>\n",
       "      <td>0</td>\n",
       "      <td>3</td>\n",
       "      <td>...</td>\n",
       "      <td>0</td>\n",
       "      <td>0</td>\n",
       "      <td>0</td>\n",
       "      <td>0</td>\n",
       "      <td>0</td>\n",
       "      <td>10</td>\n",
       "      <td>8</td>\n",
       "      <td>7</td>\n",
       "      <td>3</td>\n",
       "      <td>13</td>\n",
       "    </tr>\n",
       "    <tr>\n",
       "      <th>6</th>\n",
       "      <td>qsideinstitute</td>\n",
       "      <td>1</td>\n",
       "      <td>0</td>\n",
       "      <td>0</td>\n",
       "      <td>0</td>\n",
       "      <td>0</td>\n",
       "      <td>0</td>\n",
       "      <td>0</td>\n",
       "      <td>0</td>\n",
       "      <td>0</td>\n",
       "      <td>...</td>\n",
       "      <td>0</td>\n",
       "      <td>0</td>\n",
       "      <td>0</td>\n",
       "      <td>0</td>\n",
       "      <td>0</td>\n",
       "      <td>0</td>\n",
       "      <td>1</td>\n",
       "      <td>0</td>\n",
       "      <td>0</td>\n",
       "      <td>1</td>\n",
       "    </tr>\n",
       "    <tr>\n",
       "      <th>7</th>\n",
       "      <td>frontLahn</td>\n",
       "      <td>1</td>\n",
       "      <td>3</td>\n",
       "      <td>0</td>\n",
       "      <td>0</td>\n",
       "      <td>0</td>\n",
       "      <td>0</td>\n",
       "      <td>2</td>\n",
       "      <td>0</td>\n",
       "      <td>4</td>\n",
       "      <td>...</td>\n",
       "      <td>0</td>\n",
       "      <td>0</td>\n",
       "      <td>0</td>\n",
       "      <td>0</td>\n",
       "      <td>0</td>\n",
       "      <td>5</td>\n",
       "      <td>2</td>\n",
       "      <td>7</td>\n",
       "      <td>1</td>\n",
       "      <td>7</td>\n",
       "    </tr>\n",
       "    <tr>\n",
       "      <th>8</th>\n",
       "      <td>RachelleDeCoste</td>\n",
       "      <td>0</td>\n",
       "      <td>1</td>\n",
       "      <td>0</td>\n",
       "      <td>0</td>\n",
       "      <td>0</td>\n",
       "      <td>0</td>\n",
       "      <td>0</td>\n",
       "      <td>0</td>\n",
       "      <td>0</td>\n",
       "      <td>...</td>\n",
       "      <td>0</td>\n",
       "      <td>0</td>\n",
       "      <td>0</td>\n",
       "      <td>0</td>\n",
       "      <td>0</td>\n",
       "      <td>2</td>\n",
       "      <td>2</td>\n",
       "      <td>0</td>\n",
       "      <td>1</td>\n",
       "      <td>2</td>\n",
       "    </tr>\n",
       "    <tr>\n",
       "      <th>...</th>\n",
       "      <td>...</td>\n",
       "      <td>...</td>\n",
       "      <td>...</td>\n",
       "      <td>...</td>\n",
       "      <td>...</td>\n",
       "      <td>...</td>\n",
       "      <td>...</td>\n",
       "      <td>...</td>\n",
       "      <td>...</td>\n",
       "      <td>...</td>\n",
       "      <td>...</td>\n",
       "      <td>...</td>\n",
       "      <td>...</td>\n",
       "      <td>...</td>\n",
       "      <td>...</td>\n",
       "      <td>...</td>\n",
       "      <td>...</td>\n",
       "      <td>...</td>\n",
       "      <td>...</td>\n",
       "      <td>...</td>\n",
       "      <td>...</td>\n",
       "    </tr>\n",
       "    <tr>\n",
       "      <th>314</th>\n",
       "      <td>sajinkoroth</td>\n",
       "      <td>2</td>\n",
       "      <td>4</td>\n",
       "      <td>1</td>\n",
       "      <td>2</td>\n",
       "      <td>1</td>\n",
       "      <td>1</td>\n",
       "      <td>1</td>\n",
       "      <td>0</td>\n",
       "      <td>1</td>\n",
       "      <td>...</td>\n",
       "      <td>0</td>\n",
       "      <td>0</td>\n",
       "      <td>0</td>\n",
       "      <td>0</td>\n",
       "      <td>0</td>\n",
       "      <td>4</td>\n",
       "      <td>3</td>\n",
       "      <td>3</td>\n",
       "      <td>3</td>\n",
       "      <td>7</td>\n",
       "    </tr>\n",
       "    <tr>\n",
       "      <th>316</th>\n",
       "      <td>JasonWilliamsNY</td>\n",
       "      <td>0</td>\n",
       "      <td>0</td>\n",
       "      <td>0</td>\n",
       "      <td>1</td>\n",
       "      <td>0</td>\n",
       "      <td>0</td>\n",
       "      <td>0</td>\n",
       "      <td>0</td>\n",
       "      <td>1</td>\n",
       "      <td>...</td>\n",
       "      <td>0</td>\n",
       "      <td>0</td>\n",
       "      <td>0</td>\n",
       "      <td>0</td>\n",
       "      <td>0</td>\n",
       "      <td>0</td>\n",
       "      <td>1</td>\n",
       "      <td>1</td>\n",
       "      <td>0</td>\n",
       "      <td>1</td>\n",
       "    </tr>\n",
       "    <tr>\n",
       "      <th>318</th>\n",
       "      <td>ONUMathStat</td>\n",
       "      <td>0</td>\n",
       "      <td>0</td>\n",
       "      <td>1</td>\n",
       "      <td>0</td>\n",
       "      <td>0</td>\n",
       "      <td>1</td>\n",
       "      <td>0</td>\n",
       "      <td>0</td>\n",
       "      <td>0</td>\n",
       "      <td>...</td>\n",
       "      <td>0</td>\n",
       "      <td>0</td>\n",
       "      <td>0</td>\n",
       "      <td>0</td>\n",
       "      <td>0</td>\n",
       "      <td>0</td>\n",
       "      <td>1</td>\n",
       "      <td>0</td>\n",
       "      <td>1</td>\n",
       "      <td>0</td>\n",
       "    </tr>\n",
       "    <tr>\n",
       "      <th>321</th>\n",
       "      <td>cjp_still</td>\n",
       "      <td>0</td>\n",
       "      <td>1</td>\n",
       "      <td>0</td>\n",
       "      <td>1</td>\n",
       "      <td>0</td>\n",
       "      <td>0</td>\n",
       "      <td>0</td>\n",
       "      <td>0</td>\n",
       "      <td>0</td>\n",
       "      <td>...</td>\n",
       "      <td>0</td>\n",
       "      <td>0</td>\n",
       "      <td>0</td>\n",
       "      <td>0</td>\n",
       "      <td>0</td>\n",
       "      <td>1</td>\n",
       "      <td>1</td>\n",
       "      <td>0</td>\n",
       "      <td>1</td>\n",
       "      <td>1</td>\n",
       "    </tr>\n",
       "    <tr>\n",
       "      <th>327</th>\n",
       "      <td>noellebeckman</td>\n",
       "      <td>0</td>\n",
       "      <td>0</td>\n",
       "      <td>0</td>\n",
       "      <td>1</td>\n",
       "      <td>0</td>\n",
       "      <td>0</td>\n",
       "      <td>0</td>\n",
       "      <td>0</td>\n",
       "      <td>0</td>\n",
       "      <td>...</td>\n",
       "      <td>0</td>\n",
       "      <td>0</td>\n",
       "      <td>0</td>\n",
       "      <td>0</td>\n",
       "      <td>0</td>\n",
       "      <td>0</td>\n",
       "      <td>1</td>\n",
       "      <td>0</td>\n",
       "      <td>1</td>\n",
       "      <td>1</td>\n",
       "    </tr>\n",
       "  </tbody>\n",
       "</table>\n",
       "<p>204 rows × 41 columns</p>\n",
       "</div>"
      ],
      "text/plain": [
       "               index advocacy amplification emotional support gender  \\\n",
       "0       mathyadriana        1             6                 1      2   \n",
       "3              xl772        2             6                 1      1   \n",
       "6     qsideinstitute        1             0                 0      0   \n",
       "7          frontLahn        1             3                 0      0   \n",
       "8    RachelleDeCoste        0             1                 0      0   \n",
       "..               ...      ...           ...               ...    ...   \n",
       "314      sajinkoroth        2             4                 1      2   \n",
       "316  JasonWilliamsNY        0             0                 0      1   \n",
       "318      ONUMathStat        0             0                 1      0   \n",
       "321        cjp_still        0             1                 0      1   \n",
       "327    noellebeckman        0             0                 0      1   \n",
       "\n",
       "    indigenous jmm experience representation bipoc hashtags  ... activation  \\\n",
       "0            1              2              5     2        3  ...          0   \n",
       "3            2              1              6     0        3  ...          0   \n",
       "6            0              0              0     0        0  ...          0   \n",
       "7            0              0              2     0        4  ...          0   \n",
       "8            0              0              0     0        0  ...          0   \n",
       "..         ...            ...            ...   ...      ...  ...        ...   \n",
       "314          1              1              1     0        1  ...          0   \n",
       "316          0              0              0     0        1  ...          0   \n",
       "318          0              1              0     0        0  ...          0   \n",
       "321          0              0              0     0        0  ...          0   \n",
       "327          0              0              0     0        0  ...          0   \n",
       "\n",
       "    futures economic beyond celebration SO_codes BC_codes BCP_codes CC_codes  \\\n",
       "0         0        0      0           0        8        9         5        5   \n",
       "3         0        0      0           0       10        8         7        3   \n",
       "6         0        0      0           0        0        1         0        0   \n",
       "7         0        0      0           0        5        2         7        1   \n",
       "8         0        0      0           0        2        2         0        1   \n",
       "..      ...      ...    ...         ...      ...      ...       ...      ...   \n",
       "314       0        0      0           0        4        3         3        3   \n",
       "316       0        0      0           0        0        1         1        0   \n",
       "318       0        0      0           0        0        1         0        1   \n",
       "321       0        0      0           0        1        1         0        1   \n",
       "327       0        0      0           0        0        1         0        1   \n",
       "\n",
       "    SJEDI_codes  \n",
       "0            14  \n",
       "3            13  \n",
       "6             1  \n",
       "7             7  \n",
       "8             2  \n",
       "..          ...  \n",
       "314           7  \n",
       "316           1  \n",
       "318           0  \n",
       "321           1  \n",
       "327           1  \n",
       "\n",
       "[204 rows x 41 columns]"
      ]
     },
     "execution_count": 273,
     "metadata": {},
     "output_type": "execute_result"
    }
   ],
   "source": [
    "#looking at the different clusters - remember each cluster contains people!\n",
    "\n",
    "#get these rows from df_codes\n",
    "cluster0 = node_elts[0]\n",
    "\n",
    "#add normal index\n",
    "df_codes_clusters = df_codes.reset_index(drop=False)\n",
    "df_cluster0 = df_codes_clusters.iloc[cluster0]\n",
    "cluster0_code_sum = df_cluster0.iloc[:,1:-5].sum()\n",
    "df_cluster0\n",
    "\n",
    "#tweeters[cluster0] == df_cluster0['index'].to_numpy()\n"
   ]
  },
  {
   "cell_type": "code",
   "execution_count": 274,
   "metadata": {},
   "outputs": [
    {
     "data": {
      "image/png": "[encoded data removed]",
      "text/plain": [
       "<Figure size 640x480 with 1 Axes>"
      ]
     },
     "metadata": {},
     "output_type": "display_data"
    }
   ],
   "source": [
    "#plotting codes for cluster 0\n",
    "cluster0_code_sum.plot(kind='bar')\n",
    "plt.xlabel('Codes')\n",
    "plt.ylabel('Sum')\n",
    "plt.title('cluster0_code_sum')\n",
    "plt.show()"
   ]
  },
  {
   "cell_type": "code",
   "execution_count": 275,
   "metadata": {},
   "outputs": [
    {
     "data": {
      "text/plain": [
       "Text(0.5, 1.0, 'cluster0_themes')"
      ]
     },
     "execution_count": 275,
     "metadata": {},
     "output_type": "execute_result"
    },
    {
     "data": {
      "image/png": "[encoded data removed]",
      "text/plain": [
       "<Figure size 640x480 with 1 Axes>"
      ]
     },
     "metadata": {},
     "output_type": "display_data"
    }
   ],
   "source": [
    "#plotting themes for cluster 0\n",
    "cluster0_themes = df_cluster0.iloc[:,-5:].sum()\n",
    "cluster0_themes.plot(kind='bar')\n",
    "plt.xlabel('Themes')\n",
    "plt.ylabel('Sum')\n",
    "plt.title('cluster0_themes')"
   ]
  },
  {
   "cell_type": "code",
   "execution_count": 276,
   "metadata": {},
   "outputs": [
    {
     "data": {
      "text/html": [
       "<div>\n",
       "<style scoped>\n",
       "    .dataframe tbody tr th:only-of-type {\n",
       "        vertical-align: middle;\n",
       "    }\n",
       "\n",
       "    .dataframe tbody tr th {\n",
       "        vertical-align: top;\n",
       "    }\n",
       "\n",
       "    .dataframe thead th {\n",
       "        text-align: right;\n",
       "    }\n",
       "</style>\n",
       "<table border=\"1\" class=\"dataframe\">\n",
       "  <thead>\n",
       "    <tr style=\"text-align: right;\">\n",
       "      <th></th>\n",
       "      <th>Unnamed: 0</th>\n",
       "      <th>tweet_id</th>\n",
       "      <th>user_username</th>\n",
       "      <th>text</th>\n",
       "      <th>created_at</th>\n",
       "      <th>conversation_id</th>\n",
       "      <th>lang</th>\n",
       "      <th>possibly_sensitive</th>\n",
       "      <th>author_id</th>\n",
       "      <th>source</th>\n",
       "      <th>...</th>\n",
       "      <th>Building community</th>\n",
       "      <th>BC code</th>\n",
       "      <th>Broadening the counterpublic</th>\n",
       "      <th>BtC code</th>\n",
       "      <th>Creating change in math</th>\n",
       "      <th>CCM code</th>\n",
       "      <th>SJEDI</th>\n",
       "      <th>SJEDI code</th>\n",
       "      <th>CODER</th>\n",
       "      <th>all codes</th>\n",
       "    </tr>\n",
       "  </thead>\n",
       "  <tbody>\n",
       "    <tr>\n",
       "      <th>0</th>\n",
       "      <td>1</td>\n",
       "      <td>1217856519670288384</td>\n",
       "      <td>mathyadriana</td>\n",
       "      <td>Anyone feel like looking through the list of i...</td>\n",
       "      <td>2020-01-16T17:09:55.000Z</td>\n",
       "      <td>1217856519670288384</td>\n",
       "      <td>en</td>\n",
       "      <td>False</td>\n",
       "      <td>776450766710136832</td>\n",
       "      <td>Twitter for iPhone</td>\n",
       "      <td>...</td>\n",
       "      <td>1</td>\n",
       "      <td>talk support</td>\n",
       "      <td>0</td>\n",
       "      <td></td>\n",
       "      <td>0</td>\n",
       "      <td></td>\n",
       "      <td>1</td>\n",
       "      <td>bipoc; lgbtq; gender</td>\n",
       "      <td>DL</td>\n",
       "      <td>[bipoc, gender, lgbtq, talk support]</td>\n",
       "    </tr>\n",
       "    <tr>\n",
       "      <th>5</th>\n",
       "      <td>12</td>\n",
       "      <td>1217850650438049797</td>\n",
       "      <td>xl772</td>\n",
       "      <td>I’m about to #DisruptJMM in a very small way a...</td>\n",
       "      <td>2020-01-16T16:46:36.000Z</td>\n",
       "      <td>1217850650438049797</td>\n",
       "      <td>en</td>\n",
       "      <td>False</td>\n",
       "      <td>1260729972</td>\n",
       "      <td>Twitter for iPhone</td>\n",
       "      <td>...</td>\n",
       "      <td>1</td>\n",
       "      <td>talk support; thankful</td>\n",
       "      <td>1</td>\n",
       "      <td>influencers</td>\n",
       "      <td>0</td>\n",
       "      <td></td>\n",
       "      <td>0</td>\n",
       "      <td></td>\n",
       "      <td>JH</td>\n",
       "      <td>[SO impact, amplification, influencers, talk s...</td>\n",
       "    </tr>\n",
       "    <tr>\n",
       "      <th>10</th>\n",
       "      <td>53</td>\n",
       "      <td>1217757336254799878</td>\n",
       "      <td>qsideinstitute</td>\n",
       "      <td>Anyone at @JointMath working to #DisruptJMM: B...</td>\n",
       "      <td>2020-01-16T10:35:48.000Z</td>\n",
       "      <td>1217757336254799878</td>\n",
       "      <td>en</td>\n",
       "      <td>False</td>\n",
       "      <td>1116406303298084867</td>\n",
       "      <td>Twitter Web App</td>\n",
       "      <td>...</td>\n",
       "      <td>1</td>\n",
       "      <td>BC impact</td>\n",
       "      <td>0</td>\n",
       "      <td></td>\n",
       "      <td>0</td>\n",
       "      <td></td>\n",
       "      <td>1</td>\n",
       "      <td>advocacy</td>\n",
       "      <td>RR</td>\n",
       "      <td>[BC impact, advocacy]</td>\n",
       "    </tr>\n",
       "    <tr>\n",
       "      <th>11</th>\n",
       "      <td>62</td>\n",
       "      <td>1217681818268459009</td>\n",
       "      <td>frontLahn</td>\n",
       "      <td>If you're at #JMM2020, come to this panel on s...</td>\n",
       "      <td>2020-01-16T05:35:43.000Z</td>\n",
       "      <td>1217681818268459009</td>\n",
       "      <td>en</td>\n",
       "      <td>False</td>\n",
       "      <td>2612970471</td>\n",
       "      <td>Twitter Web App</td>\n",
       "      <td>...</td>\n",
       "      <td>1</td>\n",
       "      <td>talk support</td>\n",
       "      <td>0</td>\n",
       "      <td></td>\n",
       "      <td>0</td>\n",
       "      <td></td>\n",
       "      <td>1</td>\n",
       "      <td>lgbtq</td>\n",
       "      <td>JH</td>\n",
       "      <td>[amplification, lgbtq, talk support]</td>\n",
       "    </tr>\n",
       "    <tr>\n",
       "      <th>13</th>\n",
       "      <td>73</td>\n",
       "      <td>1217647255571689473</td>\n",
       "      <td>RachelleDeCoste</td>\n",
       "      <td>@LoboWithACause Thank you for sharing this thi...</td>\n",
       "      <td>2020-01-16T03:18:23.000Z</td>\n",
       "      <td>1217126843549011969</td>\n",
       "      <td>en</td>\n",
       "      <td>False</td>\n",
       "      <td>2780850314</td>\n",
       "      <td>Twitter for Android</td>\n",
       "      <td>...</td>\n",
       "      <td>1</td>\n",
       "      <td>thankful</td>\n",
       "      <td>0</td>\n",
       "      <td></td>\n",
       "      <td>1</td>\n",
       "      <td>CC impact</td>\n",
       "      <td>1</td>\n",
       "      <td>SJEDI impact</td>\n",
       "      <td>RR</td>\n",
       "      <td>[CC impact, SJEDI impact, SO impact, thankful]</td>\n",
       "    </tr>\n",
       "    <tr>\n",
       "      <th>...</th>\n",
       "      <td>...</td>\n",
       "      <td>...</td>\n",
       "      <td>...</td>\n",
       "      <td>...</td>\n",
       "      <td>...</td>\n",
       "      <td>...</td>\n",
       "      <td>...</td>\n",
       "      <td>...</td>\n",
       "      <td>...</td>\n",
       "      <td>...</td>\n",
       "      <td>...</td>\n",
       "      <td>...</td>\n",
       "      <td>...</td>\n",
       "      <td>...</td>\n",
       "      <td>...</td>\n",
       "      <td>...</td>\n",
       "      <td>...</td>\n",
       "      <td>...</td>\n",
       "      <td>...</td>\n",
       "      <td>...</td>\n",
       "      <td>...</td>\n",
       "    </tr>\n",
       "    <tr>\n",
       "      <th>1120</th>\n",
       "      <td>1120</td>\n",
       "      <td>1218643230159462402</td>\n",
       "      <td>Mathy_Jessica</td>\n",
       "      <td>RT @joshlaison: I love what people are doing t...</td>\n",
       "      <td>2020-01-18T21:16:02.000Z</td>\n",
       "      <td>1218643230159462402</td>\n",
       "      <td>en</td>\n",
       "      <td>False</td>\n",
       "      <td>451195572</td>\n",
       "      <td>Twitter for iPhone</td>\n",
       "      <td>...</td>\n",
       "      <td>1</td>\n",
       "      <td>thankful</td>\n",
       "      <td>0</td>\n",
       "      <td></td>\n",
       "      <td>0</td>\n",
       "      <td></td>\n",
       "      <td>0</td>\n",
       "      <td></td>\n",
       "      <td></td>\n",
       "      <td>[thankful]</td>\n",
       "    </tr>\n",
       "    <tr>\n",
       "      <th>1124</th>\n",
       "      <td>1124</td>\n",
       "      <td>1218635813027602432</td>\n",
       "      <td>malagonmath</td>\n",
       "      <td>RT @mathprofcarrie: AMS-AWM invited session on...</td>\n",
       "      <td>2020-01-18T20:46:33.000Z</td>\n",
       "      <td>1218635813027602432</td>\n",
       "      <td>en</td>\n",
       "      <td>False</td>\n",
       "      <td>708028111540133888</td>\n",
       "      <td>Twitter for iPhone</td>\n",
       "      <td>...</td>\n",
       "      <td>1</td>\n",
       "      <td>talk support</td>\n",
       "      <td>0</td>\n",
       "      <td></td>\n",
       "      <td>1</td>\n",
       "      <td>humanize</td>\n",
       "      <td>1</td>\n",
       "      <td>gender</td>\n",
       "      <td></td>\n",
       "      <td>[gender, humanize, talk support]</td>\n",
       "    </tr>\n",
       "    <tr>\n",
       "      <th>1125</th>\n",
       "      <td>1125</td>\n",
       "      <td>1218635334251999232</td>\n",
       "      <td>noellebeckman</td>\n",
       "      <td>RT @mathprofcarrie: AMS-AWM invited session on...</td>\n",
       "      <td>2020-01-18T20:44:39.000Z</td>\n",
       "      <td>1218635334251999232</td>\n",
       "      <td>en</td>\n",
       "      <td>False</td>\n",
       "      <td>1660843818</td>\n",
       "      <td>Twitter for iPhone</td>\n",
       "      <td>...</td>\n",
       "      <td>1</td>\n",
       "      <td>talk support</td>\n",
       "      <td>0</td>\n",
       "      <td></td>\n",
       "      <td>1</td>\n",
       "      <td>humanize</td>\n",
       "      <td>1</td>\n",
       "      <td>gender</td>\n",
       "      <td></td>\n",
       "      <td>[gender, humanize, talk support]</td>\n",
       "    </tr>\n",
       "    <tr>\n",
       "      <th>1126</th>\n",
       "      <td>1127</td>\n",
       "      <td>1218632621162483713</td>\n",
       "      <td>MarissaKawehi</td>\n",
       "      <td>RT @matthematician: “[C]arry some of this weig...</td>\n",
       "      <td>2020-01-18T20:33:52.000Z</td>\n",
       "      <td>1218632621162483713</td>\n",
       "      <td>en</td>\n",
       "      <td>False</td>\n",
       "      <td>969876723922808832</td>\n",
       "      <td>Twitter for Android</td>\n",
       "      <td>...</td>\n",
       "      <td>1</td>\n",
       "      <td>talk support</td>\n",
       "      <td>0</td>\n",
       "      <td></td>\n",
       "      <td>1</td>\n",
       "      <td>allyship in math</td>\n",
       "      <td>1</td>\n",
       "      <td>gender</td>\n",
       "      <td></td>\n",
       "      <td>[allyship in math, amplification, gender, talk...</td>\n",
       "    </tr>\n",
       "    <tr>\n",
       "      <th>1127</th>\n",
       "      <td>1128</td>\n",
       "      <td>1218630899404640256</td>\n",
       "      <td>numberdance</td>\n",
       "      <td>RT @sbagley: Kelly MacArthur now speaking abou...</td>\n",
       "      <td>2020-01-18T20:27:02.000Z</td>\n",
       "      <td>1218630899404640256</td>\n",
       "      <td>en</td>\n",
       "      <td>False</td>\n",
       "      <td>961503306</td>\n",
       "      <td>Twitter Web App</td>\n",
       "      <td>...</td>\n",
       "      <td>1</td>\n",
       "      <td>talk support</td>\n",
       "      <td>1</td>\n",
       "      <td>hashtags; influencers</td>\n",
       "      <td>1</td>\n",
       "      <td>math practice; humanize</td>\n",
       "      <td>0</td>\n",
       "      <td></td>\n",
       "      <td></td>\n",
       "      <td>[amplification, hashtags, humanize, influencer...</td>\n",
       "    </tr>\n",
       "  </tbody>\n",
       "</table>\n",
       "<p>517 rows × 45 columns</p>\n",
       "</div>"
      ],
      "text/plain": [
       "      Unnamed: 0             tweet_id    user_username  \\\n",
       "0              1  1217856519670288384     mathyadriana   \n",
       "5             12  1217850650438049797            xl772   \n",
       "10            53  1217757336254799878   qsideinstitute   \n",
       "11            62  1217681818268459009        frontLahn   \n",
       "13            73  1217647255571689473  RachelleDeCoste   \n",
       "...          ...                  ...              ...   \n",
       "1120        1120  1218643230159462402    Mathy_Jessica   \n",
       "1124        1124  1218635813027602432      malagonmath   \n",
       "1125        1125  1218635334251999232    noellebeckman   \n",
       "1126        1127  1218632621162483713    MarissaKawehi   \n",
       "1127        1128  1218630899404640256      numberdance   \n",
       "\n",
       "                                                   text  \\\n",
       "0     Anyone feel like looking through the list of i...   \n",
       "5     I’m about to #DisruptJMM in a very small way a...   \n",
       "10    Anyone at @JointMath working to #DisruptJMM: B...   \n",
       "11    If you're at #JMM2020, come to this panel on s...   \n",
       "13    @LoboWithACause Thank you for sharing this thi...   \n",
       "...                                                 ...   \n",
       "1120  RT @joshlaison: I love what people are doing t...   \n",
       "1124  RT @mathprofcarrie: AMS-AWM invited session on...   \n",
       "1125  RT @mathprofcarrie: AMS-AWM invited session on...   \n",
       "1126  RT @matthematician: “[C]arry some of this weig...   \n",
       "1127  RT @sbagley: Kelly MacArthur now speaking abou...   \n",
       "\n",
       "                    created_at      conversation_id lang  possibly_sensitive  \\\n",
       "0     2020-01-16T17:09:55.000Z  1217856519670288384   en               False   \n",
       "5     2020-01-16T16:46:36.000Z  1217850650438049797   en               False   \n",
       "10    2020-01-16T10:35:48.000Z  1217757336254799878   en               False   \n",
       "11    2020-01-16T05:35:43.000Z  1217681818268459009   en               False   \n",
       "13    2020-01-16T03:18:23.000Z  1217126843549011969   en               False   \n",
       "...                        ...                  ...  ...                 ...   \n",
       "1120  2020-01-18T21:16:02.000Z  1218643230159462402   en               False   \n",
       "1124  2020-01-18T20:46:33.000Z  1218635813027602432   en               False   \n",
       "1125  2020-01-18T20:44:39.000Z  1218635334251999232   en               False   \n",
       "1126  2020-01-18T20:33:52.000Z  1218632621162483713   en               False   \n",
       "1127  2020-01-18T20:27:02.000Z  1218630899404640256   en               False   \n",
       "\n",
       "                author_id               source  ... Building community  \\\n",
       "0      776450766710136832   Twitter for iPhone  ...                  1   \n",
       "5              1260729972   Twitter for iPhone  ...                  1   \n",
       "10    1116406303298084867      Twitter Web App  ...                  1   \n",
       "11             2612970471      Twitter Web App  ...                  1   \n",
       "13             2780850314  Twitter for Android  ...                  1   \n",
       "...                   ...                  ...  ...                ...   \n",
       "1120            451195572   Twitter for iPhone  ...                  1   \n",
       "1124   708028111540133888   Twitter for iPhone  ...                  1   \n",
       "1125           1660843818   Twitter for iPhone  ...                  1   \n",
       "1126   969876723922808832  Twitter for Android  ...                  1   \n",
       "1127            961503306      Twitter Web App  ...                  1   \n",
       "\n",
       "                     BC code Broadening the counterpublic  \\\n",
       "0               talk support                            0   \n",
       "5     talk support; thankful                            1   \n",
       "10                 BC impact                            0   \n",
       "11              talk support                            0   \n",
       "13                  thankful                            0   \n",
       "...                      ...                          ...   \n",
       "1120                thankful                            0   \n",
       "1124            talk support                            0   \n",
       "1125            talk support                            0   \n",
       "1126            talk support                            0   \n",
       "1127            talk support                            1   \n",
       "\n",
       "                   BtC code  Creating change in math                 CCM code  \\\n",
       "0                                                  0                            \n",
       "5               influencers                        0                            \n",
       "10                                                 0                            \n",
       "11                                                 0                            \n",
       "13                                                 1                CC impact   \n",
       "...                     ...                      ...                      ...   \n",
       "1120                                               0                            \n",
       "1124                                               1                 humanize   \n",
       "1125                                               1                 humanize   \n",
       "1126                                               1         allyship in math   \n",
       "1127  hashtags; influencers                        1  math practice; humanize   \n",
       "\n",
       "     SJEDI            SJEDI code CODER  \\\n",
       "0        1  bipoc; lgbtq; gender    DL   \n",
       "5        0                          JH   \n",
       "10       1              advocacy    RR   \n",
       "11       1                 lgbtq    JH   \n",
       "13       1          SJEDI impact    RR   \n",
       "...    ...                   ...   ...   \n",
       "1120     0                               \n",
       "1124     1                gender         \n",
       "1125     1                gender         \n",
       "1126     1                gender         \n",
       "1127     0                               \n",
       "\n",
       "                                              all codes  \n",
       "0                  [bipoc, gender, lgbtq, talk support]  \n",
       "5     [SO impact, amplification, influencers, talk s...  \n",
       "10                                [BC impact, advocacy]  \n",
       "11                 [amplification, lgbtq, talk support]  \n",
       "13       [CC impact, SJEDI impact, SO impact, thankful]  \n",
       "...                                                 ...  \n",
       "1120                                         [thankful]  \n",
       "1124                   [gender, humanize, talk support]  \n",
       "1125                   [gender, humanize, talk support]  \n",
       "1126  [allyship in math, amplification, gender, talk...  \n",
       "1127  [amplification, hashtags, humanize, influencer...  \n",
       "\n",
       "[517 rows x 45 columns]"
      ]
     },
     "execution_count": 276,
     "metadata": {},
     "output_type": "execute_result"
    }
   ],
   "source": [
    "#looking at all the tweets/retweets/quote tweets for the people in cluster 0\n",
    "df[df['user_username'].isin(df_cluster0['index'].values)]"
   ]
  },
  {
   "cell_type": "code",
   "execution_count": 277,
   "metadata": {},
   "outputs": [
    {
     "data": {
      "text/plain": [
       "False"
      ]
     },
     "execution_count": 277,
     "metadata": {},
     "output_type": "execute_result"
    }
   ],
   "source": [
    "#check that a specific user exists in the cluster\n",
    "\n",
    "'JointMath' in df_cluster0['index'].values"
   ]
  },
  {
   "cell_type": "code",
   "execution_count": 278,
   "metadata": {},
   "outputs": [
    {
     "name": "stdout",
     "output_type": "stream",
     "text": [
      "ALERT\n"
     ]
    }
   ],
   "source": [
    "#Checking that everyone outside of cluster 0 only has 1 retweet\n",
    "cluster0 = node_elts[0]\n",
    "cluster1 = node_elts[1]\n",
    "cluster2 = node_elts[2]\n",
    "cluster3 = node_elts[3]\n",
    "cluster4 = node_elts[4]\n",
    "cluster5 = node_elts[5]\n",
    "cluster6 = node_elts[6]\n",
    "cluster7 = node_elts[7]\n",
    "\n",
    "for i in tweeters[cluster4]:\n",
    "    if df[df['user_username'] == i]['tweet_id'].count() != 1:\n",
    "        print(\"ALERT\")   \n",
    "\n",
    "#check that every tweeter appears in a cluster\n",
    "for i in tweeters:\n",
    "    if i not in df_codes_clusters['index'].values:\n",
    "        print(\"ALERT\")"
   ]
  },
  {
   "cell_type": "code",
   "execution_count": 279,
   "metadata": {},
   "outputs": [
    {
     "data": {
      "text/html": [
       "<div>\n",
       "<style scoped>\n",
       "    .dataframe tbody tr th:only-of-type {\n",
       "        vertical-align: middle;\n",
       "    }\n",
       "\n",
       "    .dataframe tbody tr th {\n",
       "        vertical-align: top;\n",
       "    }\n",
       "\n",
       "    .dataframe thead th {\n",
       "        text-align: right;\n",
       "    }\n",
       "</style>\n",
       "<table border=\"1\" class=\"dataframe\">\n",
       "  <thead>\n",
       "    <tr style=\"text-align: right;\">\n",
       "      <th></th>\n",
       "      <th>Unnamed: 0</th>\n",
       "      <th>tweet_id</th>\n",
       "      <th>user_username</th>\n",
       "      <th>text</th>\n",
       "      <th>created_at</th>\n",
       "      <th>conversation_id</th>\n",
       "      <th>lang</th>\n",
       "      <th>possibly_sensitive</th>\n",
       "      <th>author_id</th>\n",
       "      <th>source</th>\n",
       "      <th>...</th>\n",
       "      <th>Building community</th>\n",
       "      <th>BC code</th>\n",
       "      <th>Broadening the counterpublic</th>\n",
       "      <th>BtC code</th>\n",
       "      <th>Creating change in math</th>\n",
       "      <th>CCM code</th>\n",
       "      <th>SJEDI</th>\n",
       "      <th>SJEDI code</th>\n",
       "      <th>CODER</th>\n",
       "      <th>all codes</th>\n",
       "    </tr>\n",
       "  </thead>\n",
       "  <tbody>\n",
       "    <tr>\n",
       "      <th>20</th>\n",
       "      <td>106</td>\n",
       "      <td>1217492198545031169</td>\n",
       "      <td>MarissaKawehi</td>\n",
       "      <td>Very happy for folks like @mathyadriana @monso...</td>\n",
       "      <td>2020-01-15T17:02:14.000Z</td>\n",
       "      <td>1217492198545031169</td>\n",
       "      <td>en</td>\n",
       "      <td>False</td>\n",
       "      <td>969876723922808832</td>\n",
       "      <td>Twitter for Android</td>\n",
       "      <td>...</td>\n",
       "      <td>1</td>\n",
       "      <td>thankful; talk support</td>\n",
       "      <td>1</td>\n",
       "      <td>influencers; virtual participation</td>\n",
       "      <td>0</td>\n",
       "      <td></td>\n",
       "      <td>0</td>\n",
       "      <td></td>\n",
       "      <td>JH</td>\n",
       "      <td>[influencers, talk support, thankful, virtual ...</td>\n",
       "    </tr>\n",
       "    <tr>\n",
       "      <th>180</th>\n",
       "      <td>607</td>\n",
       "      <td>1217896369525903360</td>\n",
       "      <td>MarissaKawehi</td>\n",
       "      <td>#DisruptJMM #JMM https://t.co/uUyz4QYdZf</td>\n",
       "      <td>2020-01-16T19:48:16.000Z</td>\n",
       "      <td>1217896369525903360</td>\n",
       "      <td>und</td>\n",
       "      <td>False</td>\n",
       "      <td>969876723922808832</td>\n",
       "      <td>Twitter Web App</td>\n",
       "      <td>...</td>\n",
       "      <td>0</td>\n",
       "      <td></td>\n",
       "      <td>0</td>\n",
       "      <td></td>\n",
       "      <td>0</td>\n",
       "      <td></td>\n",
       "      <td>0</td>\n",
       "      <td></td>\n",
       "      <td>DL</td>\n",
       "      <td>[amplification]</td>\n",
       "    </tr>\n",
       "    <tr>\n",
       "      <th>212</th>\n",
       "      <td>720</td>\n",
       "      <td>1347304477867597826</td>\n",
       "      <td>MarissaKawehi</td>\n",
       "      <td>I'm glad you enjoyed it! I got so nervous with...</td>\n",
       "      <td>2021-01-07T22:09:53.000Z</td>\n",
       "      <td>1347304477867597826</td>\n",
       "      <td>en</td>\n",
       "      <td>False</td>\n",
       "      <td>969876723922808832</td>\n",
       "      <td>Twitter Web App</td>\n",
       "      <td>...</td>\n",
       "      <td>1</td>\n",
       "      <td>talk support; conversation</td>\n",
       "      <td>1</td>\n",
       "      <td>influencers</td>\n",
       "      <td>0</td>\n",
       "      <td></td>\n",
       "      <td>1</td>\n",
       "      <td>learning</td>\n",
       "      <td>JH</td>\n",
       "      <td>[amplification, conversation, influencers, lea...</td>\n",
       "    </tr>\n",
       "    <tr>\n",
       "      <th>213</th>\n",
       "      <td>724</td>\n",
       "      <td>1347304100711571456</td>\n",
       "      <td>MarissaKawehi</td>\n",
       "      <td>Just asking a fundamental mathematical questio...</td>\n",
       "      <td>2021-01-07T22:08:23.000Z</td>\n",
       "      <td>1347304100711571456</td>\n",
       "      <td>en</td>\n",
       "      <td>False</td>\n",
       "      <td>969876723922808832</td>\n",
       "      <td>Twitter Web App</td>\n",
       "      <td>...</td>\n",
       "      <td>1</td>\n",
       "      <td>talk support</td>\n",
       "      <td>0</td>\n",
       "      <td></td>\n",
       "      <td>1</td>\n",
       "      <td>current events</td>\n",
       "      <td>1</td>\n",
       "      <td>bipoc; power</td>\n",
       "      <td>DL</td>\n",
       "      <td>[bipoc, current events, power, talk support]</td>\n",
       "    </tr>\n",
       "    <tr>\n",
       "      <th>335</th>\n",
       "      <td>46</td>\n",
       "      <td>1217786281918377985</td>\n",
       "      <td>MarissaKawehi</td>\n",
       "      <td>RT @frontLahn: If you're at #JMM2020, come to ...</td>\n",
       "      <td>2020-01-16T12:30:49.000Z</td>\n",
       "      <td>1217786281918377985</td>\n",
       "      <td>en</td>\n",
       "      <td>False</td>\n",
       "      <td>969876723922808832</td>\n",
       "      <td>Twitter for Android</td>\n",
       "      <td>...</td>\n",
       "      <td>1</td>\n",
       "      <td>talk support</td>\n",
       "      <td>0</td>\n",
       "      <td></td>\n",
       "      <td>0</td>\n",
       "      <td></td>\n",
       "      <td>1</td>\n",
       "      <td>lgbtq</td>\n",
       "      <td></td>\n",
       "      <td>[amplification, lgbtq, talk support]</td>\n",
       "    </tr>\n",
       "    <tr>\n",
       "      <th>522</th>\n",
       "      <td>308</td>\n",
       "      <td>1218551665357467652</td>\n",
       "      <td>MarissaKawehi</td>\n",
       "      <td>RT @WanderingPoint: Here it is. #DisruptJMM ht...</td>\n",
       "      <td>2020-01-18T15:12:11.000Z</td>\n",
       "      <td>1218551665357467652</td>\n",
       "      <td>en</td>\n",
       "      <td>False</td>\n",
       "      <td>969876723922808832</td>\n",
       "      <td>Twitter for Android</td>\n",
       "      <td>...</td>\n",
       "      <td>1</td>\n",
       "      <td>emotional support</td>\n",
       "      <td>0</td>\n",
       "      <td></td>\n",
       "      <td>1</td>\n",
       "      <td>jmm experience</td>\n",
       "      <td>1</td>\n",
       "      <td>gender; indigenous; advocacy; representation</td>\n",
       "      <td></td>\n",
       "      <td>[advocacy, amplification, emotional support, g...</td>\n",
       "    </tr>\n",
       "    <tr>\n",
       "      <th>608</th>\n",
       "      <td>418</td>\n",
       "      <td>1218244497458393089</td>\n",
       "      <td>MarissaKawehi</td>\n",
       "      <td>RT @pwr2dppl: At #JMM2020 people think I'm wea...</td>\n",
       "      <td>2020-01-17T18:51:36.000Z</td>\n",
       "      <td>1218244497458393089</td>\n",
       "      <td>en</td>\n",
       "      <td>False</td>\n",
       "      <td>969876723922808832</td>\n",
       "      <td>Twitter Web App</td>\n",
       "      <td>...</td>\n",
       "      <td>1</td>\n",
       "      <td>BC impact</td>\n",
       "      <td>1</td>\n",
       "      <td>hashtags</td>\n",
       "      <td>0</td>\n",
       "      <td></td>\n",
       "      <td>1</td>\n",
       "      <td>indigenous</td>\n",
       "      <td></td>\n",
       "      <td>[BC impact, hashtags, indigenous]</td>\n",
       "    </tr>\n",
       "    <tr>\n",
       "      <th>708</th>\n",
       "      <td>583</td>\n",
       "      <td>1217938926058573829</td>\n",
       "      <td>MarissaKawehi</td>\n",
       "      <td>RT @fra_berni: “We need to shape Math in the w...</td>\n",
       "      <td>2020-01-16T22:37:22.000Z</td>\n",
       "      <td>1217938926058573829</td>\n",
       "      <td>en</td>\n",
       "      <td>False</td>\n",
       "      <td>969876723922808832</td>\n",
       "      <td>Twitter for Android</td>\n",
       "      <td>...</td>\n",
       "      <td>0</td>\n",
       "      <td></td>\n",
       "      <td>1</td>\n",
       "      <td>hashtags; influencers</td>\n",
       "      <td>0</td>\n",
       "      <td></td>\n",
       "      <td>0</td>\n",
       "      <td></td>\n",
       "      <td></td>\n",
       "      <td>[amplification, hashtags, influencers]</td>\n",
       "    </tr>\n",
       "    <tr>\n",
       "      <th>756</th>\n",
       "      <td>653</td>\n",
       "      <td>1347998235428859904</td>\n",
       "      <td>MarissaKawehi</td>\n",
       "      <td>RT @mathcourtney: .@HZinnbrooks with a great #...</td>\n",
       "      <td>2021-01-09T20:06:38.000Z</td>\n",
       "      <td>1347998235428859904</td>\n",
       "      <td>en</td>\n",
       "      <td>False</td>\n",
       "      <td>969876723922808832</td>\n",
       "      <td>Twitter for Android</td>\n",
       "      <td>...</td>\n",
       "      <td>1</td>\n",
       "      <td>talk support</td>\n",
       "      <td>1</td>\n",
       "      <td>influencers; hashtags</td>\n",
       "      <td>0</td>\n",
       "      <td></td>\n",
       "      <td>1</td>\n",
       "      <td>advocacy</td>\n",
       "      <td></td>\n",
       "      <td>[advocacy, amplification, hashtags, influencer...</td>\n",
       "    </tr>\n",
       "    <tr>\n",
       "      <th>782</th>\n",
       "      <td>693</td>\n",
       "      <td>1347532401082249216</td>\n",
       "      <td>MarissaKawehi</td>\n",
       "      <td>RT @mathprofcarrie: Dr. Erica Graham's talk \"A...</td>\n",
       "      <td>2021-01-08T13:15:35.000Z</td>\n",
       "      <td>1347532401082249216</td>\n",
       "      <td>en</td>\n",
       "      <td>False</td>\n",
       "      <td>969876723922808832</td>\n",
       "      <td>Twitter Web App</td>\n",
       "      <td>...</td>\n",
       "      <td>1</td>\n",
       "      <td>talk support</td>\n",
       "      <td>1</td>\n",
       "      <td>hashtags; influencers</td>\n",
       "      <td>0</td>\n",
       "      <td></td>\n",
       "      <td>1</td>\n",
       "      <td>bipoc; power</td>\n",
       "      <td></td>\n",
       "      <td>[amplification, bipoc, hashtags, influencers, ...</td>\n",
       "    </tr>\n",
       "    <tr>\n",
       "      <th>794</th>\n",
       "      <td>707</td>\n",
       "      <td>1347342110614319104</td>\n",
       "      <td>MarissaKawehi</td>\n",
       "      <td>RT @pwr2dppl: Yay @blkmathmagic #DisruptJMM\\n#...</td>\n",
       "      <td>2021-01-08T00:39:26.000Z</td>\n",
       "      <td>1347342110614319104</td>\n",
       "      <td>und</td>\n",
       "      <td>False</td>\n",
       "      <td>969876723922808832</td>\n",
       "      <td>Twitter Web App</td>\n",
       "      <td>...</td>\n",
       "      <td>1</td>\n",
       "      <td>talk support</td>\n",
       "      <td>0</td>\n",
       "      <td></td>\n",
       "      <td>1</td>\n",
       "      <td>current events; humanize</td>\n",
       "      <td>1</td>\n",
       "      <td>indigenous; bipoc; power</td>\n",
       "      <td></td>\n",
       "      <td>[amplification, bipoc, current events, humaniz...</td>\n",
       "    </tr>\n",
       "    <tr>\n",
       "      <th>976</th>\n",
       "      <td>948</td>\n",
       "      <td>1219464250537795585</td>\n",
       "      <td>MarissaKawehi</td>\n",
       "      <td>RT @RG1gal: On the heels of #disruptJMM you mi...</td>\n",
       "      <td>2020-01-21T03:38:28.000Z</td>\n",
       "      <td>1219464250537795585</td>\n",
       "      <td>en</td>\n",
       "      <td>False</td>\n",
       "      <td>969876723922808832</td>\n",
       "      <td>Twitter for Android</td>\n",
       "      <td>...</td>\n",
       "      <td>0</td>\n",
       "      <td></td>\n",
       "      <td>0</td>\n",
       "      <td></td>\n",
       "      <td>1</td>\n",
       "      <td>humanize; math practice</td>\n",
       "      <td>0</td>\n",
       "      <td></td>\n",
       "      <td></td>\n",
       "      <td>[humanize, math practice]</td>\n",
       "    </tr>\n",
       "    <tr>\n",
       "      <th>1126</th>\n",
       "      <td>1127</td>\n",
       "      <td>1218632621162483713</td>\n",
       "      <td>MarissaKawehi</td>\n",
       "      <td>RT @matthematician: “[C]arry some of this weig...</td>\n",
       "      <td>2020-01-18T20:33:52.000Z</td>\n",
       "      <td>1218632621162483713</td>\n",
       "      <td>en</td>\n",
       "      <td>False</td>\n",
       "      <td>969876723922808832</td>\n",
       "      <td>Twitter for Android</td>\n",
       "      <td>...</td>\n",
       "      <td>1</td>\n",
       "      <td>talk support</td>\n",
       "      <td>0</td>\n",
       "      <td></td>\n",
       "      <td>1</td>\n",
       "      <td>allyship in math</td>\n",
       "      <td>1</td>\n",
       "      <td>gender</td>\n",
       "      <td></td>\n",
       "      <td>[allyship in math, amplification, gender, talk...</td>\n",
       "    </tr>\n",
       "  </tbody>\n",
       "</table>\n",
       "<p>13 rows × 45 columns</p>\n",
       "</div>"
      ],
      "text/plain": [
       "      Unnamed: 0             tweet_id  user_username  \\\n",
       "20           106  1217492198545031169  MarissaKawehi   \n",
       "180          607  1217896369525903360  MarissaKawehi   \n",
       "212          720  1347304477867597826  MarissaKawehi   \n",
       "213          724  1347304100711571456  MarissaKawehi   \n",
       "335           46  1217786281918377985  MarissaKawehi   \n",
       "522          308  1218551665357467652  MarissaKawehi   \n",
       "608          418  1218244497458393089  MarissaKawehi   \n",
       "708          583  1217938926058573829  MarissaKawehi   \n",
       "756          653  1347998235428859904  MarissaKawehi   \n",
       "782          693  1347532401082249216  MarissaKawehi   \n",
       "794          707  1347342110614319104  MarissaKawehi   \n",
       "976          948  1219464250537795585  MarissaKawehi   \n",
       "1126        1127  1218632621162483713  MarissaKawehi   \n",
       "\n",
       "                                                   text  \\\n",
       "20    Very happy for folks like @mathyadriana @monso...   \n",
       "180            #DisruptJMM #JMM https://t.co/uUyz4QYdZf   \n",
       "212   I'm glad you enjoyed it! I got so nervous with...   \n",
       "213   Just asking a fundamental mathematical questio...   \n",
       "335   RT @frontLahn: If you're at #JMM2020, come to ...   \n",
       "522   RT @WanderingPoint: Here it is. #DisruptJMM ht...   \n",
       "608   RT @pwr2dppl: At #JMM2020 people think I'm wea...   \n",
       "708   RT @fra_berni: “We need to shape Math in the w...   \n",
       "756   RT @mathcourtney: .@HZinnbrooks with a great #...   \n",
       "782   RT @mathprofcarrie: Dr. Erica Graham's talk \"A...   \n",
       "794   RT @pwr2dppl: Yay @blkmathmagic #DisruptJMM\\n#...   \n",
       "976   RT @RG1gal: On the heels of #disruptJMM you mi...   \n",
       "1126  RT @matthematician: “[C]arry some of this weig...   \n",
       "\n",
       "                    created_at      conversation_id lang  possibly_sensitive  \\\n",
       "20    2020-01-15T17:02:14.000Z  1217492198545031169   en               False   \n",
       "180   2020-01-16T19:48:16.000Z  1217896369525903360  und               False   \n",
       "212   2021-01-07T22:09:53.000Z  1347304477867597826   en               False   \n",
       "213   2021-01-07T22:08:23.000Z  1347304100711571456   en               False   \n",
       "335   2020-01-16T12:30:49.000Z  1217786281918377985   en               False   \n",
       "522   2020-01-18T15:12:11.000Z  1218551665357467652   en               False   \n",
       "608   2020-01-17T18:51:36.000Z  1218244497458393089   en               False   \n",
       "708   2020-01-16T22:37:22.000Z  1217938926058573829   en               False   \n",
       "756   2021-01-09T20:06:38.000Z  1347998235428859904   en               False   \n",
       "782   2021-01-08T13:15:35.000Z  1347532401082249216   en               False   \n",
       "794   2021-01-08T00:39:26.000Z  1347342110614319104  und               False   \n",
       "976   2020-01-21T03:38:28.000Z  1219464250537795585   en               False   \n",
       "1126  2020-01-18T20:33:52.000Z  1218632621162483713   en               False   \n",
       "\n",
       "               author_id               source  ... Building community  \\\n",
       "20    969876723922808832  Twitter for Android  ...                  1   \n",
       "180   969876723922808832      Twitter Web App  ...                  0   \n",
       "212   969876723922808832      Twitter Web App  ...                  1   \n",
       "213   969876723922808832      Twitter Web App  ...                  1   \n",
       "335   969876723922808832  Twitter for Android  ...                  1   \n",
       "522   969876723922808832  Twitter for Android  ...                  1   \n",
       "608   969876723922808832      Twitter Web App  ...                  1   \n",
       "708   969876723922808832  Twitter for Android  ...                  0   \n",
       "756   969876723922808832  Twitter for Android  ...                  1   \n",
       "782   969876723922808832      Twitter Web App  ...                  1   \n",
       "794   969876723922808832      Twitter Web App  ...                  1   \n",
       "976   969876723922808832  Twitter for Android  ...                  0   \n",
       "1126  969876723922808832  Twitter for Android  ...                  1   \n",
       "\n",
       "                         BC code Broadening the counterpublic  \\\n",
       "20        thankful; talk support                            1   \n",
       "180                                                         0   \n",
       "212   talk support; conversation                            1   \n",
       "213                 talk support                            0   \n",
       "335                 talk support                            0   \n",
       "522            emotional support                            0   \n",
       "608                    BC impact                            1   \n",
       "708                                                         1   \n",
       "756                 talk support                            1   \n",
       "782                 talk support                            1   \n",
       "794                 talk support                            0   \n",
       "976                                                         0   \n",
       "1126                talk support                            0   \n",
       "\n",
       "                                BtC code  Creating change in math  \\\n",
       "20    influencers; virtual participation                        0   \n",
       "180                                                             0   \n",
       "212                          influencers                        0   \n",
       "213                                                             1   \n",
       "335                                                             0   \n",
       "522                                                             1   \n",
       "608                             hashtags                        0   \n",
       "708                hashtags; influencers                        0   \n",
       "756                influencers; hashtags                        0   \n",
       "782                hashtags; influencers                        0   \n",
       "794                                                             1   \n",
       "976                                                             1   \n",
       "1126                                                            1   \n",
       "\n",
       "                      CCM code SJEDI  \\\n",
       "20                                 0   \n",
       "180                                0   \n",
       "212                                1   \n",
       "213             current events     1   \n",
       "335                                1   \n",
       "522             jmm experience     1   \n",
       "608                                1   \n",
       "708                                0   \n",
       "756                                1   \n",
       "782                                1   \n",
       "794   current events; humanize     1   \n",
       "976    humanize; math practice     0   \n",
       "1126          allyship in math     1   \n",
       "\n",
       "                                        SJEDI code CODER  \\\n",
       "20                                                    JH   \n",
       "180                                                   DL   \n",
       "212                                       learning    JH   \n",
       "213                                   bipoc; power    DL   \n",
       "335                                          lgbtq         \n",
       "522   gender; indigenous; advocacy; representation         \n",
       "608                                     indigenous         \n",
       "708                                                        \n",
       "756                                       advocacy         \n",
       "782                                   bipoc; power         \n",
       "794                       indigenous; bipoc; power         \n",
       "976                                                        \n",
       "1126                                        gender         \n",
       "\n",
       "                                              all codes  \n",
       "20    [influencers, talk support, thankful, virtual ...  \n",
       "180                                     [amplification]  \n",
       "212   [amplification, conversation, influencers, lea...  \n",
       "213        [bipoc, current events, power, talk support]  \n",
       "335                [amplification, lgbtq, talk support]  \n",
       "522   [advocacy, amplification, emotional support, g...  \n",
       "608                   [BC impact, hashtags, indigenous]  \n",
       "708              [amplification, hashtags, influencers]  \n",
       "756   [advocacy, amplification, hashtags, influencer...  \n",
       "782   [amplification, bipoc, hashtags, influencers, ...  \n",
       "794   [amplification, bipoc, current events, humaniz...  \n",
       "976                           [humanize, math practice]  \n",
       "1126  [allyship in math, amplification, gender, talk...  \n",
       "\n",
       "[13 rows x 45 columns]"
      ]
     },
     "execution_count": 279,
     "metadata": {},
     "output_type": "execute_result"
    }
   ],
   "source": [
    "df[df['user_username'] == \"MarissaKawehi\"]"
   ]
  },
  {
   "cell_type": "code",
   "execution_count": 280,
   "metadata": {},
   "outputs": [
    {
     "data": {
      "text/html": [
       "<div>\n",
       "<style scoped>\n",
       "    .dataframe tbody tr th:only-of-type {\n",
       "        vertical-align: middle;\n",
       "    }\n",
       "\n",
       "    .dataframe tbody tr th {\n",
       "        vertical-align: top;\n",
       "    }\n",
       "\n",
       "    .dataframe thead th {\n",
       "        text-align: right;\n",
       "    }\n",
       "</style>\n",
       "<table border=\"1\" class=\"dataframe\">\n",
       "  <thead>\n",
       "    <tr style=\"text-align: right;\">\n",
       "      <th></th>\n",
       "      <th>tweeters</th>\n",
       "      <th>num_tweets</th>\n",
       "    </tr>\n",
       "  </thead>\n",
       "  <tbody>\n",
       "    <tr>\n",
       "      <th>1</th>\n",
       "      <td>mathprofcarrie</td>\n",
       "      <td>126.0</td>\n",
       "    </tr>\n",
       "    <tr>\n",
       "      <th>2</th>\n",
       "      <td>pwr2dppl</td>\n",
       "      <td>101.0</td>\n",
       "    </tr>\n",
       "    <tr>\n",
       "      <th>84</th>\n",
       "      <td>JointMath</td>\n",
       "      <td>85.0</td>\n",
       "    </tr>\n",
       "    <tr>\n",
       "      <th>14</th>\n",
       "      <td>sbagley</td>\n",
       "      <td>60.0</td>\n",
       "    </tr>\n",
       "    <tr>\n",
       "      <th>5</th>\n",
       "      <td>LoboWithACause</td>\n",
       "      <td>48.0</td>\n",
       "    </tr>\n",
       "    <tr>\n",
       "      <th>18</th>\n",
       "      <td>VictorPiercey1</td>\n",
       "      <td>21.0</td>\n",
       "    </tr>\n",
       "    <tr>\n",
       "      <th>78</th>\n",
       "      <td>wizard2048</td>\n",
       "      <td>21.0</td>\n",
       "    </tr>\n",
       "    <tr>\n",
       "      <th>4</th>\n",
       "      <td>WanderingPoint</td>\n",
       "      <td>18.0</td>\n",
       "    </tr>\n",
       "    <tr>\n",
       "      <th>19</th>\n",
       "      <td>kmkinnaird</td>\n",
       "      <td>17.0</td>\n",
       "    </tr>\n",
       "    <tr>\n",
       "      <th>48</th>\n",
       "      <td>benjamindickman</td>\n",
       "      <td>15.0</td>\n",
       "    </tr>\n",
       "  </tbody>\n",
       "</table>\n",
       "</div>"
      ],
      "text/plain": [
       "           tweeters  num_tweets\n",
       "1    mathprofcarrie       126.0\n",
       "2          pwr2dppl       101.0\n",
       "84        JointMath        85.0\n",
       "14          sbagley        60.0\n",
       "5    LoboWithACause        48.0\n",
       "18   VictorPiercey1        21.0\n",
       "78       wizard2048        21.0\n",
       "4    WanderingPoint        18.0\n",
       "19       kmkinnaird        17.0\n",
       "48  benjamindickman        15.0"
      ]
     },
     "execution_count": 280,
     "metadata": {},
     "output_type": "execute_result"
    }
   ],
   "source": [
    "#put together tweeters and number of tweets/retweets\n",
    "tweeters_num_tweets = pd.DataFrame({'tweeters':tweeters, 'num_tweets':num_tweets_retweets})\n",
    "tweeters_num_tweets\n",
    "#sort from most to least tweets/retweets\n",
    "tweeters_num_tweets = tweeters_num_tweets.sort_values(by='num_tweets', ascending=False)\n",
    "tweeters_num_tweets.head(10)\n"
   ]
  },
  {
   "cell_type": "code",
   "execution_count": 281,
   "metadata": {},
   "outputs": [
    {
     "name": "stdout",
     "output_type": "stream",
     "text": [
      "['NA' 'quoted' 'retweeted']\n",
      "['NA' 'quoted' 'retweeted']\n"
     ]
    }
   ],
   "source": [
    "#check what type of tweets/retweets/quote tweets the top tweeters are making\n",
    "print(df[df['user_username']=='RG1gal']['sourcetweet_type'].unique())\n",
    "print(df[df['user_username']=='WanderingPoint']['sourcetweet_type'].unique())\n",
    "\n"
   ]
  },
  {
   "cell_type": "code",
   "execution_count": 282,
   "metadata": {},
   "outputs": [
    {
     "name": "stdout",
     "output_type": "stream",
     "text": [
      "[-1 -1 -1 -1 -1 -1 -1 -1 -1 -1 -1 -1 -1 -1 -1 -1 -1 -1 -1 -1 -1 -1 -1 -1\n",
      " -1 -1 -1 -1 -1 -1 -1 -1 -1 -1 -1 -1 -1 -1 -1 -1 -1 -1 -1 -1 -1 -1 -1 -1\n",
      " -1 -1 -1 -1 -1 -1 -1 -1 -1 -1 -1 -1 -1 -1 -1 -1 -1 -1 -1 -1 -1 -1 -1 -1\n",
      " -1 -1 -1 -1 -1 -1 -1 -1 -1  0 -1 -1 -1 -1 -1 -1 -1 -1 -1 -1 -1 -1 -1 -1\n",
      " -1 -1 -1 -1  1  1  2 -1  2  1 -1  2 -1 -1  1 -1  1 -1 -1  1  1 -1  1  1\n",
      "  1  1 -1  1  1 -1  1  1 -1  1  1 -1 -1  1 -1 -1 -1  1 -1  1 -1 -1 -1 -1\n",
      " -1 -1 -1 -1 -1  3 -1 -1 -1 -1 -1 -1 -1 -1 -1 -1 -1 -1 -1 -1 -1 -1 -1  3\n",
      " -1 -1 -1  3  3  3  0 -1  0 -1 -1  0 -1 -1 -1 -1 -1 -1 -1 -1 -1  4 -1  5\n",
      "  5 -1  5  5  5  5  5  5  1  4 -1 -1 -1  4 -1  4  4  4  4 -1  4  4 -1  4\n",
      " -1 -1  4  4 -1  4  4 -1 -1  4  4  4  4  4  4  4  4  4  4  4  4 -1 -1 -1\n",
      " -1 -1 -1 -1 -1 -1 -1 -1 -1 -1 -1 -1 -1 -1 -1 -1  6  6  0  6  6  6  6 -1\n",
      " -1  1  6  6  6  6  6  6  6  6  6  6  6 -1  1  6  6  6  1 -1 -1  1  1 -1\n",
      " -1 -1  1  1 -1 -1  2  1  1 -1  1  1  1 -1  1  1 -1  1 -1  1 -1 -1 -1 -1\n",
      " -1  2 -1  1 -1  1 -1  2  1 -1  1  1  1  1  1 -1]\n"
     ]
    }
   ],
   "source": [
    "#Trying with DBSCAN\n",
    "clustering = cluster.DBSCAN(eps=.5, metric = 'l1').fit(df_codes_array)\n",
    "labels = clustering.labels_\n",
    "n_clusters_ = len(set(labels)) #- (1 if -1 in labels else 0)\n",
    "print(labels)\n",
    "\n",
    "#cluster0db = tweeters[labels == 6]\n",
    "#df[df['user_username'].isin(cluster0db)]\n",
    "\n"
   ]
  },
  {
   "cell_type": "code",
   "execution_count": 283,
   "metadata": {},
   "outputs": [
    {
     "name": "stdout",
     "output_type": "stream",
     "text": [
      "[-1 -1 -1 -1 -1 -1  9 -1 -1 -1 -1 -1 -1 -1 -1 -1 -1 -1 -1 -1 -1 -1 -1 -1\n",
      " -1 -1 -1 10 -1 10 -1 -1  9 -1 -1  9 -1 -1 -1 10 11 -1 -1 -1 -1 -1 -1  6\n",
      " -1 -1 -1 -1 -1 -1 -1 -1  9 -1 -1  2 -1 -1 -1 -1 -1 -1 -1 10  9 -1 -1 10\n",
      " -1 -1 -1 -1  9  7 -1  9  8 12 -1  7 -1  9 -1  6 -1  0 -1 -1 -1 -1 -1  9\n",
      " -1  9  9  0  0  0  1 -1  1  0  9  1 -1 -1  0 -1  0 -1 -1  0  0  0  0  0\n",
      "  0  0 -1  0  0 -1  0  0  0  0  0 -1  0  0 11  7  7  0 -1  0 -1 -1 -1 -1\n",
      " -1 -1 -1  6 -1  4  6 -1 -1  8 -1  8 -1 -1 -1  8 -1 -1 -1  9 -1 11 11  4\n",
      " -1 -1 -1  4  4  4 12 -1 12 -1 -1 12 -1  0 -1 -1 -1  8 -1  3 -1  3  2  2\n",
      "  2 -1  2  2  2  2  2  2  0  3 -1 -1 -1  3 -1  3  3  3  3 -1  3  3  9  3\n",
      " -1 -1  3  3 -1  3  3 -1 -1  3  3  3  3  3  3  3  3  3  3  3  3 -1 -1 -1\n",
      "  9 -1 -1 -1 -1 -1 -1 -1 -1 10 10 -1 -1  9  9 -1  5  5 12  5  5  5  5 11\n",
      "  1  0  5  5  5  5  5  5  5  5  5  5  5 -1  0  5  5  5  0  7 -1  0  0  7\n",
      " 11  7  0  0 -1 10  1  0  0 -1  0  0  0 -1  0  0 -1  0 11  0 -1  9  6  6\n",
      "  7  1 -1  0  9  0 -1  1  0  7  0  0  0  0  0  7]\n"
     ]
    }
   ],
   "source": [
    "from sklearn.cluster import HDBSCAN\n",
    "hdb = HDBSCAN().fit(df_codes_array)\n",
    "hdb_labels = hdb.labels_\n",
    "print(hdb_labels)\n"
   ]
  },
  {
   "cell_type": "code",
   "execution_count": 284,
   "metadata": {},
   "outputs": [
    {
     "data": {
      "application/vnd.plotly.v1+json": {
       "config": {
        "plotlyServerURL": "https://plot.ly",
        "scrollZoom": true
       },
       "data": [
        {
         "hoverinfo": "none",
         "line": {
          "color": "#888",
          "width": 1
         },
         "mode": "lines",
         "name": "edge_trace",
         "type": "scatter",
         "uid": "659ad219-3e8f-477a-a7ec-96687525c973",
         "x": [],
         "y": []
        },
        {
         "hoverinfo": "text",
         "hovertext": [
          "Node ID: 0<br>Pullback set label: 0<br>Partial cluster label: -1<br>Node size: 148<br>Summary statistic: 120.0",
          "Node ID: 1<br>Pullback set label: 0<br>Partial cluster label: 9<br>Node size: 19<br>Summary statistic: 136.0",
          "Node ID: 2<br>Pullback set label: 0<br>Partial cluster label: 10<br>Node size: 8<br>Summary statistic: 128.0",
          "Node ID: 3<br>Pullback set label: 0<br>Partial cluster label: 11<br>Node size: 7<br>Summary statistic: 195.0",
          "Node ID: 4<br>Pullback set label: 0<br>Partial cluster label: 6<br>Node size: 6<br>Summary statistic: 175.0",
          "Node ID: 5<br>Pullback set label: 0<br>Partial cluster label: 2<br>Node size: 10<br>Summary statistic: 181.0",
          "Node ID: 6<br>Pullback set label: 0<br>Partial cluster label: 7<br>Node size: 10<br>Summary statistic: 225.0",
          "Node ID: 7<br>Pullback set label: 0<br>Partial cluster label: 8<br>Node size: 5<br>Summary statistic: 146.0",
          "Node ID: 8<br>Pullback set label: 0<br>Partial cluster label: 12<br>Node size: 5<br>Summary statistic: 174.0",
          "Node ID: 9<br>Pullback set label: 0<br>Partial cluster label: 0<br>Node size: 51<br>Summary statistic: 208.0",
          "Node ID: 10<br>Pullback set label: 0<br>Partial cluster label: 1<br>Node size: 7<br>Summary statistic: 215.0",
          "Node ID: 11<br>Pullback set label: 0<br>Partial cluster label: 4<br>Node size: 5<br>Summary statistic: 166.0",
          "Node ID: 12<br>Pullback set label: 0<br>Partial cluster label: 3<br>Node size: 27<br>Summary statistic: 219.0",
          "Node ID: 13<br>Pullback set label: 0<br>Partial cluster label: 5<br>Node size: 20<br>Summary statistic: 269.0"
         ],
         "marker": {
          "color": [
           119.78378378378379,
           135.89473684210526,
           128.125,
           194.57142857142858,
           175.33333333333334,
           181.1,
           225,
           146.4,
           173.6,
           207.94117647058823,
           214.71428571428572,
           166.4,
           218.59259259259258,
           268.8
          ],
          "colorbar": {
           "thickness": 15,
           "title": {
            "side": "right",
            "text": ""
           },
           "xanchor": "left"
          },
          "colorscale": [
           [
            0,
            "#440154"
           ],
           [
            0.1111111111111111,
            "#482878"
           ],
           [
            0.2222222222222222,
            "#3e4989"
           ],
           [
            0.3333333333333333,
            "#31688e"
           ],
           [
            0.4444444444444444,
            "#26828e"
           ],
           [
            0.5555555555555556,
            "#1f9e89"
           ],
           [
            0.6666666666666666,
            "#35b779"
           ],
           [
            0.7777777777777778,
            "#6ece58"
           ],
           [
            0.8888888888888888,
            "#b5de2b"
           ],
           [
            1,
            "#fde725"
           ]
          ],
          "line": {
           "color": "#888",
           "width": 1
          },
          "opacity": 1,
          "reversescale": false,
          "showscale": true,
          "size": [
           148,
           19,
           8,
           7,
           6,
           10,
           10,
           5,
           5,
           51,
           7,
           5,
           27,
           20
          ],
          "sizemin": 4,
          "sizemode": "area",
          "sizeref": 2.0555555555555554
         },
         "mode": "markers",
         "name": "node_trace",
         "type": "scatter",
         "uid": "dfa30b04-1c5e-4d40-8ace-e4c52e83154e",
         "x": [
          1.3469966592386189,
          1.213602055142559,
          0.8398386801730626,
          0.2997349546498129,
          -0.29973495464981276,
          -0.8398386801730624,
          -1.213602055142559,
          -1.3469966592386189,
          -1.213602055142559,
          -0.8398386801730626,
          -0.2997349546498131,
          0.2997349546498126,
          0.8398386801730623,
          1.213602055142559
         ],
         "y": [
          0,
          0.5844399470893112,
          1.053124394972013,
          1.313224640707398,
          1.313224640707398,
          1.053124394972013,
          0.5844399470893114,
          1.6495951471987526e-16,
          -0.5844399470893111,
          -1.0531243949720128,
          -1.313224640707398,
          -1.313224640707398,
          -1.053124394972013,
          -0.5844399470893116
         ]
        }
       ],
       "layout": {
        "autosize": false,
        "hovermode": "closest",
        "margin": {
         "b": 20,
         "l": 5,
         "r": 5,
         "t": 40
        },
        "showlegend": false,
        "template": {
         "data": {
          "bar": [
           {
            "error_x": {
             "color": "rgb(36,36,36)"
            },
            "error_y": {
             "color": "rgb(36,36,36)"
            },
            "marker": {
             "line": {
              "color": "white",
              "width": 0.5
             },
             "pattern": {
              "fillmode": "overlay",
              "size": 10,
              "solidity": 0.2
             }
            },
            "type": "bar"
           }
          ],
          "barpolar": [
           {
            "marker": {
             "line": {
              "color": "white",
              "width": 0.5
             },
             "pattern": {
              "fillmode": "overlay",
              "size": 10,
              "solidity": 0.2
             }
            },
            "type": "barpolar"
           }
          ],
          "carpet": [
           {
            "aaxis": {
             "endlinecolor": "rgb(36,36,36)",
             "gridcolor": "white",
             "linecolor": "white",
             "minorgridcolor": "white",
             "startlinecolor": "rgb(36,36,36)"
            },
            "baxis": {
             "endlinecolor": "rgb(36,36,36)",
             "gridcolor": "white",
             "linecolor": "white",
             "minorgridcolor": "white",
             "startlinecolor": "rgb(36,36,36)"
            },
            "type": "carpet"
           }
          ],
          "choropleth": [
           {
            "colorbar": {
             "outlinewidth": 1,
             "tickcolor": "rgb(36,36,36)",
             "ticks": "outside"
            },
            "type": "choropleth"
           }
          ],
          "contour": [
           {
            "colorbar": {
             "outlinewidth": 1,
             "tickcolor": "rgb(36,36,36)",
             "ticks": "outside"
            },
            "colorscale": [
             [
              0,
              "#440154"
             ],
             [
              0.1111111111111111,
              "#482878"
             ],
             [
              0.2222222222222222,
              "#3e4989"
             ],
             [
              0.3333333333333333,
              "#31688e"
             ],
             [
              0.4444444444444444,
              "#26828e"
             ],
             [
              0.5555555555555556,
              "#1f9e89"
             ],
             [
              0.6666666666666666,
              "#35b779"
             ],
             [
              0.7777777777777778,
              "#6ece58"
             ],
             [
              0.8888888888888888,
              "#b5de2b"
             ],
             [
              1,
              "#fde725"
             ]
            ],
            "type": "contour"
           }
          ],
          "contourcarpet": [
           {
            "colorbar": {
             "outlinewidth": 1,
             "tickcolor": "rgb(36,36,36)",
             "ticks": "outside"
            },
            "type": "contourcarpet"
           }
          ],
          "heatmap": [
           {
            "colorbar": {
             "outlinewidth": 1,
             "tickcolor": "rgb(36,36,36)",
             "ticks": "outside"
            },
            "colorscale": [
             [
              0,
              "#440154"
             ],
             [
              0.1111111111111111,
              "#482878"
             ],
             [
              0.2222222222222222,
              "#3e4989"
             ],
             [
              0.3333333333333333,
              "#31688e"
             ],
             [
              0.4444444444444444,
              "#26828e"
             ],
             [
              0.5555555555555556,
              "#1f9e89"
             ],
             [
              0.6666666666666666,
              "#35b779"
             ],
             [
              0.7777777777777778,
              "#6ece58"
             ],
             [
              0.8888888888888888,
              "#b5de2b"
             ],
             [
              1,
              "#fde725"
             ]
            ],
            "type": "heatmap"
           }
          ],
          "heatmapgl": [
           {
            "colorbar": {
             "outlinewidth": 1,
             "tickcolor": "rgb(36,36,36)",
             "ticks": "outside"
            },
            "colorscale": [
             [
              0,
              "#440154"
             ],
             [
              0.1111111111111111,
              "#482878"
             ],
             [
              0.2222222222222222,
              "#3e4989"
             ],
             [
              0.3333333333333333,
              "#31688e"
             ],
             [
              0.4444444444444444,
              "#26828e"
             ],
             [
              0.5555555555555556,
              "#1f9e89"
             ],
             [
              0.6666666666666666,
              "#35b779"
             ],
             [
              0.7777777777777778,
              "#6ece58"
             ],
             [
              0.8888888888888888,
              "#b5de2b"
             ],
             [
              1,
              "#fde725"
             ]
            ],
            "type": "heatmapgl"
           }
          ],
          "histogram": [
           {
            "marker": {
             "line": {
              "color": "white",
              "width": 0.6
             }
            },
            "type": "histogram"
           }
          ],
          "histogram2d": [
           {
            "colorbar": {
             "outlinewidth": 1,
             "tickcolor": "rgb(36,36,36)",
             "ticks": "outside"
            },
            "colorscale": [
             [
              0,
              "#440154"
             ],
             [
              0.1111111111111111,
              "#482878"
             ],
             [
              0.2222222222222222,
              "#3e4989"
             ],
             [
              0.3333333333333333,
              "#31688e"
             ],
             [
              0.4444444444444444,
              "#26828e"
             ],
             [
              0.5555555555555556,
              "#1f9e89"
             ],
             [
              0.6666666666666666,
              "#35b779"
             ],
             [
              0.7777777777777778,
              "#6ece58"
             ],
             [
              0.8888888888888888,
              "#b5de2b"
             ],
             [
              1,
              "#fde725"
             ]
            ],
            "type": "histogram2d"
           }
          ],
          "histogram2dcontour": [
           {
            "colorbar": {
             "outlinewidth": 1,
             "tickcolor": "rgb(36,36,36)",
             "ticks": "outside"
            },
            "colorscale": [
             [
              0,
              "#440154"
             ],
             [
              0.1111111111111111,
              "#482878"
             ],
             [
              0.2222222222222222,
              "#3e4989"
             ],
             [
              0.3333333333333333,
              "#31688e"
             ],
             [
              0.4444444444444444,
              "#26828e"
             ],
             [
              0.5555555555555556,
              "#1f9e89"
             ],
             [
              0.6666666666666666,
              "#35b779"
             ],
             [
              0.7777777777777778,
              "#6ece58"
             ],
             [
              0.8888888888888888,
              "#b5de2b"
             ],
             [
              1,
              "#fde725"
             ]
            ],
            "type": "histogram2dcontour"
           }
          ],
          "mesh3d": [
           {
            "colorbar": {
             "outlinewidth": 1,
             "tickcolor": "rgb(36,36,36)",
             "ticks": "outside"
            },
            "type": "mesh3d"
           }
          ],
          "parcoords": [
           {
            "line": {
             "colorbar": {
              "outlinewidth": 1,
              "tickcolor": "rgb(36,36,36)",
              "ticks": "outside"
             }
            },
            "type": "parcoords"
           }
          ],
          "pie": [
           {
            "automargin": true,
            "type": "pie"
           }
          ],
          "scatter": [
           {
            "fillpattern": {
             "fillmode": "overlay",
             "size": 10,
             "solidity": 0.2
            },
            "type": "scatter"
           }
          ],
          "scatter3d": [
           {
            "line": {
             "colorbar": {
              "outlinewidth": 1,
              "tickcolor": "rgb(36,36,36)",
              "ticks": "outside"
             }
            },
            "marker": {
             "colorbar": {
              "outlinewidth": 1,
              "tickcolor": "rgb(36,36,36)",
              "ticks": "outside"
             }
            },
            "type": "scatter3d"
           }
          ],
          "scattercarpet": [
           {
            "marker": {
             "colorbar": {
              "outlinewidth": 1,
              "tickcolor": "rgb(36,36,36)",
              "ticks": "outside"
             }
            },
            "type": "scattercarpet"
           }
          ],
          "scattergeo": [
           {
            "marker": {
             "colorbar": {
              "outlinewidth": 1,
              "tickcolor": "rgb(36,36,36)",
              "ticks": "outside"
             }
            },
            "type": "scattergeo"
           }
          ],
          "scattergl": [
           {
            "marker": {
             "colorbar": {
              "outlinewidth": 1,
              "tickcolor": "rgb(36,36,36)",
              "ticks": "outside"
             }
            },
            "type": "scattergl"
           }
          ],
          "scattermapbox": [
           {
            "marker": {
             "colorbar": {
              "outlinewidth": 1,
              "tickcolor": "rgb(36,36,36)",
              "ticks": "outside"
             }
            },
            "type": "scattermapbox"
           }
          ],
          "scatterpolar": [
           {
            "marker": {
             "colorbar": {
              "outlinewidth": 1,
              "tickcolor": "rgb(36,36,36)",
              "ticks": "outside"
             }
            },
            "type": "scatterpolar"
           }
          ],
          "scatterpolargl": [
           {
            "marker": {
             "colorbar": {
              "outlinewidth": 1,
              "tickcolor": "rgb(36,36,36)",
              "ticks": "outside"
             }
            },
            "type": "scatterpolargl"
           }
          ],
          "scatterternary": [
           {
            "marker": {
             "colorbar": {
              "outlinewidth": 1,
              "tickcolor": "rgb(36,36,36)",
              "ticks": "outside"
             }
            },
            "type": "scatterternary"
           }
          ],
          "surface": [
           {
            "colorbar": {
             "outlinewidth": 1,
             "tickcolor": "rgb(36,36,36)",
             "ticks": "outside"
            },
            "colorscale": [
             [
              0,
              "#440154"
             ],
             [
              0.1111111111111111,
              "#482878"
             ],
             [
              0.2222222222222222,
              "#3e4989"
             ],
             [
              0.3333333333333333,
              "#31688e"
             ],
             [
              0.4444444444444444,
              "#26828e"
             ],
             [
              0.5555555555555556,
              "#1f9e89"
             ],
             [
              0.6666666666666666,
              "#35b779"
             ],
             [
              0.7777777777777778,
              "#6ece58"
             ],
             [
              0.8888888888888888,
              "#b5de2b"
             ],
             [
              1,
              "#fde725"
             ]
            ],
            "type": "surface"
           }
          ],
          "table": [
           {
            "cells": {
             "fill": {
              "color": "rgb(237,237,237)"
             },
             "line": {
              "color": "white"
             }
            },
            "header": {
             "fill": {
              "color": "rgb(217,217,217)"
             },
             "line": {
              "color": "white"
             }
            },
            "type": "table"
           }
          ]
         },
         "layout": {
          "annotationdefaults": {
           "arrowhead": 0,
           "arrowwidth": 1
          },
          "autotypenumbers": "strict",
          "coloraxis": {
           "colorbar": {
            "outlinewidth": 1,
            "tickcolor": "rgb(36,36,36)",
            "ticks": "outside"
           }
          },
          "colorscale": {
           "diverging": [
            [
             0,
             "rgb(103,0,31)"
            ],
            [
             0.1,
             "rgb(178,24,43)"
            ],
            [
             0.2,
             "rgb(214,96,77)"
            ],
            [
             0.3,
             "rgb(244,165,130)"
            ],
            [
             0.4,
             "rgb(253,219,199)"
            ],
            [
             0.5,
             "rgb(247,247,247)"
            ],
            [
             0.6,
             "rgb(209,229,240)"
            ],
            [
             0.7,
             "rgb(146,197,222)"
            ],
            [
             0.8,
             "rgb(67,147,195)"
            ],
            [
             0.9,
             "rgb(33,102,172)"
            ],
            [
             1,
             "rgb(5,48,97)"
            ]
           ],
           "sequential": [
            [
             0,
             "#440154"
            ],
            [
             0.1111111111111111,
             "#482878"
            ],
            [
             0.2222222222222222,
             "#3e4989"
            ],
            [
             0.3333333333333333,
             "#31688e"
            ],
            [
             0.4444444444444444,
             "#26828e"
            ],
            [
             0.5555555555555556,
             "#1f9e89"
            ],
            [
             0.6666666666666666,
             "#35b779"
            ],
            [
             0.7777777777777778,
             "#6ece58"
            ],
            [
             0.8888888888888888,
             "#b5de2b"
            ],
            [
             1,
             "#fde725"
            ]
           ],
           "sequentialminus": [
            [
             0,
             "#440154"
            ],
            [
             0.1111111111111111,
             "#482878"
            ],
            [
             0.2222222222222222,
             "#3e4989"
            ],
            [
             0.3333333333333333,
             "#31688e"
            ],
            [
             0.4444444444444444,
             "#26828e"
            ],
            [
             0.5555555555555556,
             "#1f9e89"
            ],
            [
             0.6666666666666666,
             "#35b779"
            ],
            [
             0.7777777777777778,
             "#6ece58"
            ],
            [
             0.8888888888888888,
             "#b5de2b"
            ],
            [
             1,
             "#fde725"
            ]
           ]
          },
          "colorway": [
           "#1F77B4",
           "#FF7F0E",
           "#2CA02C",
           "#D62728",
           "#9467BD",
           "#8C564B",
           "#E377C2",
           "#7F7F7F",
           "#BCBD22",
           "#17BECF"
          ],
          "font": {
           "color": "rgb(36,36,36)"
          },
          "geo": {
           "bgcolor": "white",
           "lakecolor": "white",
           "landcolor": "white",
           "showlakes": true,
           "showland": true,
           "subunitcolor": "white"
          },
          "hoverlabel": {
           "align": "left"
          },
          "hovermode": "closest",
          "mapbox": {
           "style": "light"
          },
          "paper_bgcolor": "white",
          "plot_bgcolor": "white",
          "polar": {
           "angularaxis": {
            "gridcolor": "rgb(232,232,232)",
            "linecolor": "rgb(36,36,36)",
            "showgrid": false,
            "showline": true,
            "ticks": "outside"
           },
           "bgcolor": "white",
           "radialaxis": {
            "gridcolor": "rgb(232,232,232)",
            "linecolor": "rgb(36,36,36)",
            "showgrid": false,
            "showline": true,
            "ticks": "outside"
           }
          },
          "scene": {
           "xaxis": {
            "backgroundcolor": "white",
            "gridcolor": "rgb(232,232,232)",
            "gridwidth": 2,
            "linecolor": "rgb(36,36,36)",
            "showbackground": true,
            "showgrid": false,
            "showline": true,
            "ticks": "outside",
            "zeroline": false,
            "zerolinecolor": "rgb(36,36,36)"
           },
           "yaxis": {
            "backgroundcolor": "white",
            "gridcolor": "rgb(232,232,232)",
            "gridwidth": 2,
            "linecolor": "rgb(36,36,36)",
            "showbackground": true,
            "showgrid": false,
            "showline": true,
            "ticks": "outside",
            "zeroline": false,
            "zerolinecolor": "rgb(36,36,36)"
           },
           "zaxis": {
            "backgroundcolor": "white",
            "gridcolor": "rgb(232,232,232)",
            "gridwidth": 2,
            "linecolor": "rgb(36,36,36)",
            "showbackground": true,
            "showgrid": false,
            "showline": true,
            "ticks": "outside",
            "zeroline": false,
            "zerolinecolor": "rgb(36,36,36)"
           }
          },
          "shapedefaults": {
           "fillcolor": "black",
           "line": {
            "width": 0
           },
           "opacity": 0.3
          },
          "ternary": {
           "aaxis": {
            "gridcolor": "rgb(232,232,232)",
            "linecolor": "rgb(36,36,36)",
            "showgrid": false,
            "showline": true,
            "ticks": "outside"
           },
           "baxis": {
            "gridcolor": "rgb(232,232,232)",
            "linecolor": "rgb(36,36,36)",
            "showgrid": false,
            "showline": true,
            "ticks": "outside"
           },
           "bgcolor": "white",
           "caxis": {
            "gridcolor": "rgb(232,232,232)",
            "linecolor": "rgb(36,36,36)",
            "showgrid": false,
            "showline": true,
            "ticks": "outside"
           }
          },
          "title": {
           "x": 0.05
          },
          "xaxis": {
           "automargin": true,
           "gridcolor": "rgb(232,232,232)",
           "linecolor": "rgb(36,36,36)",
           "showgrid": false,
           "showline": true,
           "ticks": "outside",
           "title": {
            "standoff": 15
           },
           "zeroline": false,
           "zerolinecolor": "rgb(36,36,36)"
          },
          "yaxis": {
           "automargin": true,
           "gridcolor": "rgb(232,232,232)",
           "linecolor": "rgb(36,36,36)",
           "showgrid": false,
           "showline": true,
           "ticks": "outside",
           "title": {
            "standoff": 15
           },
           "zeroline": false,
           "zerolinecolor": "rgb(36,36,36)"
          }
         }
        },
        "title": {
         "text": ""
        },
        "xaxis": {
         "showgrid": false,
         "showline": false,
         "showticklabels": false,
         "ticks": "",
         "title": {
          "text": ""
         },
         "zeroline": false
        },
        "yaxis": {
         "showgrid": false,
         "showline": false,
         "showticklabels": false,
         "ticks": "",
         "title": {
          "text": ""
         },
         "zeroline": false
        }
       }
      }
     },
     "metadata": {},
     "output_type": "display_data"
    }
   ],
   "source": [
    "#DOESN\"T WORK FOR MORE THAN 1 INTERVAL, FIGURE OUT LATER\n",
    "filter_func = l1_norm_trans\n",
    "cover = map.OneDimensionalCover(kind='uniform', n_intervals=1, overlap_frac=0.35)\n",
    "clusterer = cluster.HDBSCAN()\n",
    "\n",
    "pipehdb = map.make_mapper_pipeline(\n",
    "    filter_func=filter_func,\n",
    "    cover=cover,\n",
    "    clusterer=clusterer,\n",
    "    verbose=False,\n",
    "    n_jobs=1,\n",
    ")\n",
    "fig = map.plot_static_mapper_graph(pipehdb, df_codes_array)\n",
    "fig.show(config={'scrollZoom': True})"
   ]
  },
  {
   "cell_type": "code",
   "execution_count": 285,
   "metadata": {},
   "outputs": [
    {
     "data": {
      "text/plain": [
       "[array([  0,   1,   2,   3,   4,   5,   7,   8,   9,  10,  11,  12,  13,\n",
       "         14,  15,  16,  17,  18,  19,  20,  21,  22,  23,  24,  25,  26,\n",
       "         28,  30,  31,  33,  34,  36,  37,  38,  41,  42,  43,  44,  45,\n",
       "         46,  48,  49,  50,  51,  52,  53,  54,  55,  57,  58,  60,  61,\n",
       "         62,  63,  64,  65,  66,  69,  70,  72,  73,  74,  75,  78,  82,\n",
       "         84,  86,  88,  90,  91,  92,  93,  94,  96, 103, 108, 109, 111,\n",
       "        113, 114, 122, 125, 131, 138, 140, 141, 142, 143, 144, 145, 146,\n",
       "        148, 151, 152, 154, 156, 157, 158, 160, 161, 162, 164, 168, 169,\n",
       "        170, 175, 177, 178, 180, 182, 183, 184, 186, 188, 193, 202, 203,\n",
       "        204, 206, 211, 216, 217, 220, 223, 224, 237, 238, 239, 241, 242,\n",
       "        243, 244, 245, 246, 247, 248, 251, 252, 255, 277, 284, 292, 297,\n",
       "        301, 304, 308, 314, 318]),\n",
       " array([  6,  32,  35,  56,  68,  76,  79,  85,  95,  97,  98, 106, 163,\n",
       "        214, 240, 253, 254, 309, 316]),\n",
       " array([ 27,  29,  39,  67,  71, 249, 250, 293]),\n",
       " array([ 40, 134, 165, 166, 263, 288, 306]),\n",
       " array([ 47,  87, 147, 150, 310, 311]),\n",
       " array([ 59, 190, 191, 192, 194, 195, 196, 197, 198, 199]),\n",
       " array([ 77,  83, 135, 136, 283, 287, 289, 312, 321, 327]),\n",
       " array([ 80, 153, 155, 159, 185]),\n",
       " array([ 81, 174, 176, 179, 258]),\n",
       " array([ 89,  99, 100, 101, 105, 110, 112, 115, 116, 117, 118, 119, 120,\n",
       "        121, 123, 124, 126, 127, 128, 129, 130, 132, 133, 137, 139, 181,\n",
       "        200, 265, 278, 282, 285, 286, 290, 291, 295, 296, 298, 299, 300,\n",
       "        302, 303, 305, 307, 315, 317, 320, 322, 323, 324, 325, 326]),\n",
       " array([102, 104, 107, 264, 294, 313, 319]),\n",
       " array([149, 167, 171, 172, 173]),\n",
       " array([187, 189, 201, 205, 207, 208, 209, 210, 212, 213, 215, 218, 219,\n",
       "        221, 222, 225, 226, 227, 228, 229, 230, 231, 232, 233, 234, 235,\n",
       "        236]),\n",
       " array([256, 257, 259, 260, 261, 262, 266, 267, 268, 269, 270, 271, 272,\n",
       "        273, 274, 275, 276, 279, 280, 281])]"
      ]
     },
     "execution_count": 285,
     "metadata": {},
     "output_type": "execute_result"
    }
   ],
   "source": [
    "graphhdb = pipehdb.fit_transform(df_codes_array)\n",
    "graphhdb.vs.attributes()\n",
    "node_eltshdb = graphhdb.vs[\"node_elements\"]\n",
    "node_eltshdb\n",
    "\n"
   ]
  },
  {
   "cell_type": "code",
   "execution_count": 286,
   "metadata": {},
   "outputs": [
    {
     "data": {
      "text/html": [
       "<div>\n",
       "<style scoped>\n",
       "    .dataframe tbody tr th:only-of-type {\n",
       "        vertical-align: middle;\n",
       "    }\n",
       "\n",
       "    .dataframe tbody tr th {\n",
       "        vertical-align: top;\n",
       "    }\n",
       "\n",
       "    .dataframe thead th {\n",
       "        text-align: right;\n",
       "    }\n",
       "</style>\n",
       "<table border=\"1\" class=\"dataframe\">\n",
       "  <thead>\n",
       "    <tr style=\"text-align: right;\">\n",
       "      <th></th>\n",
       "      <th>index</th>\n",
       "      <th>advocacy</th>\n",
       "      <th>amplification</th>\n",
       "      <th>emotional support</th>\n",
       "      <th>gender</th>\n",
       "      <th>indigenous</th>\n",
       "      <th>jmm experience</th>\n",
       "      <th>representation</th>\n",
       "      <th>bipoc</th>\n",
       "      <th>hashtags</th>\n",
       "      <th>...</th>\n",
       "      <th>activation</th>\n",
       "      <th>futures</th>\n",
       "      <th>economic</th>\n",
       "      <th>beyond</th>\n",
       "      <th>celebration</th>\n",
       "      <th>SO_codes</th>\n",
       "      <th>BC_codes</th>\n",
       "      <th>BCP_codes</th>\n",
       "      <th>CC_codes</th>\n",
       "      <th>SJEDI_codes</th>\n",
       "    </tr>\n",
       "  </thead>\n",
       "  <tbody>\n",
       "    <tr>\n",
       "      <th>0</th>\n",
       "      <td>mathyadriana</td>\n",
       "      <td>1</td>\n",
       "      <td>6</td>\n",
       "      <td>1</td>\n",
       "      <td>2</td>\n",
       "      <td>1</td>\n",
       "      <td>2</td>\n",
       "      <td>5</td>\n",
       "      <td>2</td>\n",
       "      <td>3</td>\n",
       "      <td>...</td>\n",
       "      <td>0</td>\n",
       "      <td>0</td>\n",
       "      <td>0</td>\n",
       "      <td>0</td>\n",
       "      <td>0</td>\n",
       "      <td>8</td>\n",
       "      <td>9</td>\n",
       "      <td>5</td>\n",
       "      <td>5</td>\n",
       "      <td>14</td>\n",
       "    </tr>\n",
       "    <tr>\n",
       "      <th>1</th>\n",
       "      <td>mathprofcarrie</td>\n",
       "      <td>7</td>\n",
       "      <td>69</td>\n",
       "      <td>3</td>\n",
       "      <td>11</td>\n",
       "      <td>14</td>\n",
       "      <td>2</td>\n",
       "      <td>25</td>\n",
       "      <td>11</td>\n",
       "      <td>47</td>\n",
       "      <td>...</td>\n",
       "      <td>1</td>\n",
       "      <td>1</td>\n",
       "      <td>1</td>\n",
       "      <td>0</td>\n",
       "      <td>0</td>\n",
       "      <td>90</td>\n",
       "      <td>113</td>\n",
       "      <td>83</td>\n",
       "      <td>37</td>\n",
       "      <td>95</td>\n",
       "    </tr>\n",
       "    <tr>\n",
       "      <th>2</th>\n",
       "      <td>pwr2dppl</td>\n",
       "      <td>8</td>\n",
       "      <td>51</td>\n",
       "      <td>7</td>\n",
       "      <td>8</td>\n",
       "      <td>12</td>\n",
       "      <td>6</td>\n",
       "      <td>20</td>\n",
       "      <td>12</td>\n",
       "      <td>39</td>\n",
       "      <td>...</td>\n",
       "      <td>1</td>\n",
       "      <td>0</td>\n",
       "      <td>0</td>\n",
       "      <td>0</td>\n",
       "      <td>0</td>\n",
       "      <td>73</td>\n",
       "      <td>84</td>\n",
       "      <td>67</td>\n",
       "      <td>40</td>\n",
       "      <td>84</td>\n",
       "    </tr>\n",
       "    <tr>\n",
       "      <th>3</th>\n",
       "      <td>xl772</td>\n",
       "      <td>2</td>\n",
       "      <td>6</td>\n",
       "      <td>1</td>\n",
       "      <td>1</td>\n",
       "      <td>2</td>\n",
       "      <td>1</td>\n",
       "      <td>6</td>\n",
       "      <td>0</td>\n",
       "      <td>3</td>\n",
       "      <td>...</td>\n",
       "      <td>0</td>\n",
       "      <td>0</td>\n",
       "      <td>0</td>\n",
       "      <td>0</td>\n",
       "      <td>0</td>\n",
       "      <td>10</td>\n",
       "      <td>8</td>\n",
       "      <td>7</td>\n",
       "      <td>3</td>\n",
       "      <td>13</td>\n",
       "    </tr>\n",
       "    <tr>\n",
       "      <th>4</th>\n",
       "      <td>WanderingPoint</td>\n",
       "      <td>1</td>\n",
       "      <td>11</td>\n",
       "      <td>3</td>\n",
       "      <td>1</td>\n",
       "      <td>4</td>\n",
       "      <td>2</td>\n",
       "      <td>6</td>\n",
       "      <td>1</td>\n",
       "      <td>8</td>\n",
       "      <td>...</td>\n",
       "      <td>0</td>\n",
       "      <td>0</td>\n",
       "      <td>0</td>\n",
       "      <td>0</td>\n",
       "      <td>0</td>\n",
       "      <td>14</td>\n",
       "      <td>18</td>\n",
       "      <td>13</td>\n",
       "      <td>8</td>\n",
       "      <td>16</td>\n",
       "    </tr>\n",
       "    <tr>\n",
       "      <th>...</th>\n",
       "      <td>...</td>\n",
       "      <td>...</td>\n",
       "      <td>...</td>\n",
       "      <td>...</td>\n",
       "      <td>...</td>\n",
       "      <td>...</td>\n",
       "      <td>...</td>\n",
       "      <td>...</td>\n",
       "      <td>...</td>\n",
       "      <td>...</td>\n",
       "      <td>...</td>\n",
       "      <td>...</td>\n",
       "      <td>...</td>\n",
       "      <td>...</td>\n",
       "      <td>...</td>\n",
       "      <td>...</td>\n",
       "      <td>...</td>\n",
       "      <td>...</td>\n",
       "      <td>...</td>\n",
       "      <td>...</td>\n",
       "      <td>...</td>\n",
       "    </tr>\n",
       "    <tr>\n",
       "      <th>301</th>\n",
       "      <td>tealismaking</td>\n",
       "      <td>0</td>\n",
       "      <td>0</td>\n",
       "      <td>0</td>\n",
       "      <td>0</td>\n",
       "      <td>0</td>\n",
       "      <td>0</td>\n",
       "      <td>0</td>\n",
       "      <td>0</td>\n",
       "      <td>1</td>\n",
       "      <td>...</td>\n",
       "      <td>0</td>\n",
       "      <td>0</td>\n",
       "      <td>0</td>\n",
       "      <td>0</td>\n",
       "      <td>0</td>\n",
       "      <td>0</td>\n",
       "      <td>1</td>\n",
       "      <td>2</td>\n",
       "      <td>1</td>\n",
       "      <td>0</td>\n",
       "    </tr>\n",
       "    <tr>\n",
       "      <th>304</th>\n",
       "      <td>jennalaib</td>\n",
       "      <td>0</td>\n",
       "      <td>0</td>\n",
       "      <td>0</td>\n",
       "      <td>0</td>\n",
       "      <td>0</td>\n",
       "      <td>0</td>\n",
       "      <td>0</td>\n",
       "      <td>0</td>\n",
       "      <td>1</td>\n",
       "      <td>...</td>\n",
       "      <td>0</td>\n",
       "      <td>0</td>\n",
       "      <td>0</td>\n",
       "      <td>0</td>\n",
       "      <td>0</td>\n",
       "      <td>1</td>\n",
       "      <td>0</td>\n",
       "      <td>2</td>\n",
       "      <td>0</td>\n",
       "      <td>0</td>\n",
       "    </tr>\n",
       "    <tr>\n",
       "      <th>308</th>\n",
       "      <td>CompStatsGeom</td>\n",
       "      <td>0</td>\n",
       "      <td>1</td>\n",
       "      <td>0</td>\n",
       "      <td>0</td>\n",
       "      <td>0</td>\n",
       "      <td>0</td>\n",
       "      <td>0</td>\n",
       "      <td>0</td>\n",
       "      <td>0</td>\n",
       "      <td>...</td>\n",
       "      <td>0</td>\n",
       "      <td>0</td>\n",
       "      <td>0</td>\n",
       "      <td>0</td>\n",
       "      <td>0</td>\n",
       "      <td>1</td>\n",
       "      <td>1</td>\n",
       "      <td>1</td>\n",
       "      <td>1</td>\n",
       "      <td>0</td>\n",
       "    </tr>\n",
       "    <tr>\n",
       "      <th>314</th>\n",
       "      <td>sajinkoroth</td>\n",
       "      <td>2</td>\n",
       "      <td>4</td>\n",
       "      <td>1</td>\n",
       "      <td>2</td>\n",
       "      <td>1</td>\n",
       "      <td>1</td>\n",
       "      <td>1</td>\n",
       "      <td>0</td>\n",
       "      <td>1</td>\n",
       "      <td>...</td>\n",
       "      <td>0</td>\n",
       "      <td>0</td>\n",
       "      <td>0</td>\n",
       "      <td>0</td>\n",
       "      <td>0</td>\n",
       "      <td>4</td>\n",
       "      <td>3</td>\n",
       "      <td>3</td>\n",
       "      <td>3</td>\n",
       "      <td>7</td>\n",
       "    </tr>\n",
       "    <tr>\n",
       "      <th>318</th>\n",
       "      <td>ONUMathStat</td>\n",
       "      <td>0</td>\n",
       "      <td>0</td>\n",
       "      <td>1</td>\n",
       "      <td>0</td>\n",
       "      <td>0</td>\n",
       "      <td>1</td>\n",
       "      <td>0</td>\n",
       "      <td>0</td>\n",
       "      <td>0</td>\n",
       "      <td>...</td>\n",
       "      <td>0</td>\n",
       "      <td>0</td>\n",
       "      <td>0</td>\n",
       "      <td>0</td>\n",
       "      <td>0</td>\n",
       "      <td>0</td>\n",
       "      <td>1</td>\n",
       "      <td>0</td>\n",
       "      <td>1</td>\n",
       "      <td>0</td>\n",
       "    </tr>\n",
       "  </tbody>\n",
       "</table>\n",
       "<p>148 rows × 41 columns</p>\n",
       "</div>"
      ],
      "text/plain": [
       "              index advocacy amplification emotional support gender  \\\n",
       "0      mathyadriana        1             6                 1      2   \n",
       "1    mathprofcarrie        7            69                 3     11   \n",
       "2          pwr2dppl        8            51                 7      8   \n",
       "3             xl772        2             6                 1      1   \n",
       "4    WanderingPoint        1            11                 3      1   \n",
       "..              ...      ...           ...               ...    ...   \n",
       "301    tealismaking        0             0                 0      0   \n",
       "304       jennalaib        0             0                 0      0   \n",
       "308   CompStatsGeom        0             1                 0      0   \n",
       "314     sajinkoroth        2             4                 1      2   \n",
       "318     ONUMathStat        0             0                 1      0   \n",
       "\n",
       "    indigenous jmm experience representation bipoc hashtags  ... activation  \\\n",
       "0            1              2              5     2        3  ...          0   \n",
       "1           14              2             25    11       47  ...          1   \n",
       "2           12              6             20    12       39  ...          1   \n",
       "3            2              1              6     0        3  ...          0   \n",
       "4            4              2              6     1        8  ...          0   \n",
       "..         ...            ...            ...   ...      ...  ...        ...   \n",
       "301          0              0              0     0        1  ...          0   \n",
       "304          0              0              0     0        1  ...          0   \n",
       "308          0              0              0     0        0  ...          0   \n",
       "314          1              1              1     0        1  ...          0   \n",
       "318          0              1              0     0        0  ...          0   \n",
       "\n",
       "    futures economic beyond celebration SO_codes BC_codes BCP_codes CC_codes  \\\n",
       "0         0        0      0           0        8        9         5        5   \n",
       "1         1        1      0           0       90      113        83       37   \n",
       "2         0        0      0           0       73       84        67       40   \n",
       "3         0        0      0           0       10        8         7        3   \n",
       "4         0        0      0           0       14       18        13        8   \n",
       "..      ...      ...    ...         ...      ...      ...       ...      ...   \n",
       "301       0        0      0           0        0        1         2        1   \n",
       "304       0        0      0           0        1        0         2        0   \n",
       "308       0        0      0           0        1        1         1        1   \n",
       "314       0        0      0           0        4        3         3        3   \n",
       "318       0        0      0           0        0        1         0        1   \n",
       "\n",
       "    SJEDI_codes  \n",
       "0            14  \n",
       "1            95  \n",
       "2            84  \n",
       "3            13  \n",
       "4            16  \n",
       "..          ...  \n",
       "301           0  \n",
       "304           0  \n",
       "308           0  \n",
       "314           7  \n",
       "318           0  \n",
       "\n",
       "[148 rows x 41 columns]"
      ]
     },
     "execution_count": 286,
     "metadata": {},
     "output_type": "execute_result"
    }
   ],
   "source": [
    "cluster0hdb = node_eltshdb[0]\n",
    "df_codes_clusterhdb = df_codes.reset_index(drop=False)\n",
    "df_cluster0hdb = df_codes_clusterhdb.iloc[cluster0hdb]\n",
    "cluster0_code_sumhdb = df_cluster0hdb.iloc[:,1:-5].sum()\n",
    "df_cluster0hdb"
   ]
  },
  {
   "cell_type": "code",
   "execution_count": 287,
   "metadata": {},
   "outputs": [
    {
     "data": {
      "text/html": [
       "<div>\n",
       "<style scoped>\n",
       "    .dataframe tbody tr th:only-of-type {\n",
       "        vertical-align: middle;\n",
       "    }\n",
       "\n",
       "    .dataframe tbody tr th {\n",
       "        vertical-align: top;\n",
       "    }\n",
       "\n",
       "    .dataframe thead th {\n",
       "        text-align: right;\n",
       "    }\n",
       "</style>\n",
       "<table border=\"1\" class=\"dataframe\">\n",
       "  <thead>\n",
       "    <tr style=\"text-align: right;\">\n",
       "      <th></th>\n",
       "      <th>Unnamed: 0</th>\n",
       "      <th>tweet_id</th>\n",
       "      <th>user_username</th>\n",
       "      <th>text</th>\n",
       "      <th>created_at</th>\n",
       "      <th>conversation_id</th>\n",
       "      <th>lang</th>\n",
       "      <th>possibly_sensitive</th>\n",
       "      <th>author_id</th>\n",
       "      <th>source</th>\n",
       "      <th>...</th>\n",
       "      <th>Building community</th>\n",
       "      <th>BC code</th>\n",
       "      <th>Broadening the counterpublic</th>\n",
       "      <th>BtC code</th>\n",
       "      <th>Creating change in math</th>\n",
       "      <th>CCM code</th>\n",
       "      <th>SJEDI</th>\n",
       "      <th>SJEDI code</th>\n",
       "      <th>CODER</th>\n",
       "      <th>all codes</th>\n",
       "    </tr>\n",
       "  </thead>\n",
       "  <tbody>\n",
       "    <tr>\n",
       "      <th>0</th>\n",
       "      <td>1</td>\n",
       "      <td>1217856519670288384</td>\n",
       "      <td>mathyadriana</td>\n",
       "      <td>Anyone feel like looking through the list of i...</td>\n",
       "      <td>2020-01-16T17:09:55.000Z</td>\n",
       "      <td>1217856519670288384</td>\n",
       "      <td>en</td>\n",
       "      <td>False</td>\n",
       "      <td>776450766710136832</td>\n",
       "      <td>Twitter for iPhone</td>\n",
       "      <td>...</td>\n",
       "      <td>1</td>\n",
       "      <td>talk support</td>\n",
       "      <td>0</td>\n",
       "      <td></td>\n",
       "      <td>0</td>\n",
       "      <td></td>\n",
       "      <td>1</td>\n",
       "      <td>bipoc; lgbtq; gender</td>\n",
       "      <td>DL</td>\n",
       "      <td>[bipoc, gender, lgbtq, talk support]</td>\n",
       "    </tr>\n",
       "    <tr>\n",
       "      <th>1</th>\n",
       "      <td>5</td>\n",
       "      <td>1217856052579971073</td>\n",
       "      <td>mathprofcarrie</td>\n",
       "      <td>\"If you think that your right to speech is mor...</td>\n",
       "      <td>2020-01-16T17:08:04.000Z</td>\n",
       "      <td>1217856052579971073</td>\n",
       "      <td>en</td>\n",
       "      <td>False</td>\n",
       "      <td>31611970</td>\n",
       "      <td>Twitter for Android</td>\n",
       "      <td>...</td>\n",
       "      <td>1</td>\n",
       "      <td>talk support</td>\n",
       "      <td>1</td>\n",
       "      <td>influencers</td>\n",
       "      <td>0</td>\n",
       "      <td></td>\n",
       "      <td>1</td>\n",
       "      <td>representation</td>\n",
       "      <td>RR</td>\n",
       "      <td>[amplification, influencers, representation, t...</td>\n",
       "    </tr>\n",
       "    <tr>\n",
       "      <th>2</th>\n",
       "      <td>8</td>\n",
       "      <td>1217855474479046656</td>\n",
       "      <td>pwr2dppl</td>\n",
       "      <td>I ran at elevation to make it to @xl772's #Dis...</td>\n",
       "      <td>2020-01-16T17:05:46.000Z</td>\n",
       "      <td>1217855474479046656</td>\n",
       "      <td>en</td>\n",
       "      <td>False</td>\n",
       "      <td>3308531970</td>\n",
       "      <td>Twitter for Android</td>\n",
       "      <td>...</td>\n",
       "      <td>1</td>\n",
       "      <td>talk support; thankful</td>\n",
       "      <td>0</td>\n",
       "      <td></td>\n",
       "      <td>0</td>\n",
       "      <td></td>\n",
       "      <td>0</td>\n",
       "      <td></td>\n",
       "      <td>JH</td>\n",
       "      <td>[amplification, talk support, thankful]</td>\n",
       "    </tr>\n",
       "    <tr>\n",
       "      <th>3</th>\n",
       "      <td>9</td>\n",
       "      <td>1217854597747875840</td>\n",
       "      <td>mathprofcarrie</td>\n",
       "      <td>@WanderingPoint @xl772 @pwr2dppl Here!!! #disr...</td>\n",
       "      <td>2020-01-16T17:02:17.000Z</td>\n",
       "      <td>1217850650438049797</td>\n",
       "      <td>en</td>\n",
       "      <td>False</td>\n",
       "      <td>31611970</td>\n",
       "      <td>Twitter for Android</td>\n",
       "      <td>...</td>\n",
       "      <td>1</td>\n",
       "      <td>talk support; emotional support</td>\n",
       "      <td>0</td>\n",
       "      <td></td>\n",
       "      <td>0</td>\n",
       "      <td></td>\n",
       "      <td>0</td>\n",
       "      <td></td>\n",
       "      <td>DL</td>\n",
       "      <td>[emotional support, talk support]</td>\n",
       "    </tr>\n",
       "    <tr>\n",
       "      <th>4</th>\n",
       "      <td>10</td>\n",
       "      <td>1217852288385024000</td>\n",
       "      <td>mathprofcarrie</td>\n",
       "      <td>@xl772 @pwr2dppl Where and what? - let's get t...</td>\n",
       "      <td>2020-01-16T16:53:06.000Z</td>\n",
       "      <td>1217850650438049797</td>\n",
       "      <td>en</td>\n",
       "      <td>False</td>\n",
       "      <td>31611970</td>\n",
       "      <td>Twitter for Android</td>\n",
       "      <td>...</td>\n",
       "      <td>1</td>\n",
       "      <td>BC impact; talk support</td>\n",
       "      <td>0</td>\n",
       "      <td></td>\n",
       "      <td>0</td>\n",
       "      <td></td>\n",
       "      <td>0</td>\n",
       "      <td></td>\n",
       "      <td>RR</td>\n",
       "      <td>[BC impact, talk support]</td>\n",
       "    </tr>\n",
       "    <tr>\n",
       "      <th>...</th>\n",
       "      <td>...</td>\n",
       "      <td>...</td>\n",
       "      <td>...</td>\n",
       "      <td>...</td>\n",
       "      <td>...</td>\n",
       "      <td>...</td>\n",
       "      <td>...</td>\n",
       "      <td>...</td>\n",
       "      <td>...</td>\n",
       "      <td>...</td>\n",
       "      <td>...</td>\n",
       "      <td>...</td>\n",
       "      <td>...</td>\n",
       "      <td>...</td>\n",
       "      <td>...</td>\n",
       "      <td>...</td>\n",
       "      <td>...</td>\n",
       "      <td>...</td>\n",
       "      <td>...</td>\n",
       "      <td>...</td>\n",
       "      <td>...</td>\n",
       "    </tr>\n",
       "    <tr>\n",
       "      <th>1123</th>\n",
       "      <td>1123</td>\n",
       "      <td>1218640156040691713</td>\n",
       "      <td>LoboWithACause</td>\n",
       "      <td>RT @sbagley: Panel on supporting trans and non...</td>\n",
       "      <td>2020-01-18T21:03:49.000Z</td>\n",
       "      <td>1218640156040691713</td>\n",
       "      <td>en</td>\n",
       "      <td>False</td>\n",
       "      <td>1969930824</td>\n",
       "      <td>Twitter for iPhone</td>\n",
       "      <td>...</td>\n",
       "      <td>0</td>\n",
       "      <td></td>\n",
       "      <td>1</td>\n",
       "      <td>hashtags; influencers</td>\n",
       "      <td>0</td>\n",
       "      <td></td>\n",
       "      <td>1</td>\n",
       "      <td>lgbtq; advocacy</td>\n",
       "      <td></td>\n",
       "      <td>[advocacy, amplification, hashtags, influencer...</td>\n",
       "    </tr>\n",
       "    <tr>\n",
       "      <th>1124</th>\n",
       "      <td>1124</td>\n",
       "      <td>1218635813027602432</td>\n",
       "      <td>malagonmath</td>\n",
       "      <td>RT @mathprofcarrie: AMS-AWM invited session on...</td>\n",
       "      <td>2020-01-18T20:46:33.000Z</td>\n",
       "      <td>1218635813027602432</td>\n",
       "      <td>en</td>\n",
       "      <td>False</td>\n",
       "      <td>708028111540133888</td>\n",
       "      <td>Twitter for iPhone</td>\n",
       "      <td>...</td>\n",
       "      <td>1</td>\n",
       "      <td>talk support</td>\n",
       "      <td>0</td>\n",
       "      <td></td>\n",
       "      <td>1</td>\n",
       "      <td>humanize</td>\n",
       "      <td>1</td>\n",
       "      <td>gender</td>\n",
       "      <td></td>\n",
       "      <td>[gender, humanize, talk support]</td>\n",
       "    </tr>\n",
       "    <tr>\n",
       "      <th>1126</th>\n",
       "      <td>1127</td>\n",
       "      <td>1218632621162483713</td>\n",
       "      <td>MarissaKawehi</td>\n",
       "      <td>RT @matthematician: “[C]arry some of this weig...</td>\n",
       "      <td>2020-01-18T20:33:52.000Z</td>\n",
       "      <td>1218632621162483713</td>\n",
       "      <td>en</td>\n",
       "      <td>False</td>\n",
       "      <td>969876723922808832</td>\n",
       "      <td>Twitter for Android</td>\n",
       "      <td>...</td>\n",
       "      <td>1</td>\n",
       "      <td>talk support</td>\n",
       "      <td>0</td>\n",
       "      <td></td>\n",
       "      <td>1</td>\n",
       "      <td>allyship in math</td>\n",
       "      <td>1</td>\n",
       "      <td>gender</td>\n",
       "      <td></td>\n",
       "      <td>[allyship in math, amplification, gender, talk...</td>\n",
       "    </tr>\n",
       "    <tr>\n",
       "      <th>1127</th>\n",
       "      <td>1128</td>\n",
       "      <td>1218630899404640256</td>\n",
       "      <td>numberdance</td>\n",
       "      <td>RT @sbagley: Kelly MacArthur now speaking abou...</td>\n",
       "      <td>2020-01-18T20:27:02.000Z</td>\n",
       "      <td>1218630899404640256</td>\n",
       "      <td>en</td>\n",
       "      <td>False</td>\n",
       "      <td>961503306</td>\n",
       "      <td>Twitter Web App</td>\n",
       "      <td>...</td>\n",
       "      <td>1</td>\n",
       "      <td>talk support</td>\n",
       "      <td>1</td>\n",
       "      <td>hashtags; influencers</td>\n",
       "      <td>1</td>\n",
       "      <td>math practice; humanize</td>\n",
       "      <td>0</td>\n",
       "      <td></td>\n",
       "      <td></td>\n",
       "      <td>[amplification, hashtags, humanize, influencer...</td>\n",
       "    </tr>\n",
       "    <tr>\n",
       "      <th>1128</th>\n",
       "      <td>1129</td>\n",
       "      <td>1218630732324597760</td>\n",
       "      <td>pwr2dppl</td>\n",
       "      <td>RT @sbagley: The stereotype of a mathematician...</td>\n",
       "      <td>2020-01-18T20:26:22.000Z</td>\n",
       "      <td>1218630732324597760</td>\n",
       "      <td>en</td>\n",
       "      <td>False</td>\n",
       "      <td>3308531970</td>\n",
       "      <td>Twitter for Android</td>\n",
       "      <td>...</td>\n",
       "      <td>0</td>\n",
       "      <td></td>\n",
       "      <td>0</td>\n",
       "      <td></td>\n",
       "      <td>1</td>\n",
       "      <td>humanize</td>\n",
       "      <td>0</td>\n",
       "      <td></td>\n",
       "      <td></td>\n",
       "      <td>[amplification, humanize]</td>\n",
       "    </tr>\n",
       "  </tbody>\n",
       "</table>\n",
       "<p>940 rows × 45 columns</p>\n",
       "</div>"
      ],
      "text/plain": [
       "      Unnamed: 0             tweet_id   user_username  \\\n",
       "0              1  1217856519670288384    mathyadriana   \n",
       "1              5  1217856052579971073  mathprofcarrie   \n",
       "2              8  1217855474479046656        pwr2dppl   \n",
       "3              9  1217854597747875840  mathprofcarrie   \n",
       "4             10  1217852288385024000  mathprofcarrie   \n",
       "...          ...                  ...             ...   \n",
       "1123        1123  1218640156040691713  LoboWithACause   \n",
       "1124        1124  1218635813027602432     malagonmath   \n",
       "1126        1127  1218632621162483713   MarissaKawehi   \n",
       "1127        1128  1218630899404640256     numberdance   \n",
       "1128        1129  1218630732324597760        pwr2dppl   \n",
       "\n",
       "                                                   text  \\\n",
       "0     Anyone feel like looking through the list of i...   \n",
       "1     \"If you think that your right to speech is mor...   \n",
       "2     I ran at elevation to make it to @xl772's #Dis...   \n",
       "3     @WanderingPoint @xl772 @pwr2dppl Here!!! #disr...   \n",
       "4     @xl772 @pwr2dppl Where and what? - let's get t...   \n",
       "...                                                 ...   \n",
       "1123  RT @sbagley: Panel on supporting trans and non...   \n",
       "1124  RT @mathprofcarrie: AMS-AWM invited session on...   \n",
       "1126  RT @matthematician: “[C]arry some of this weig...   \n",
       "1127  RT @sbagley: Kelly MacArthur now speaking abou...   \n",
       "1128  RT @sbagley: The stereotype of a mathematician...   \n",
       "\n",
       "                    created_at      conversation_id lang  possibly_sensitive  \\\n",
       "0     2020-01-16T17:09:55.000Z  1217856519670288384   en               False   \n",
       "1     2020-01-16T17:08:04.000Z  1217856052579971073   en               False   \n",
       "2     2020-01-16T17:05:46.000Z  1217855474479046656   en               False   \n",
       "3     2020-01-16T17:02:17.000Z  1217850650438049797   en               False   \n",
       "4     2020-01-16T16:53:06.000Z  1217850650438049797   en               False   \n",
       "...                        ...                  ...  ...                 ...   \n",
       "1123  2020-01-18T21:03:49.000Z  1218640156040691713   en               False   \n",
       "1124  2020-01-18T20:46:33.000Z  1218635813027602432   en               False   \n",
       "1126  2020-01-18T20:33:52.000Z  1218632621162483713   en               False   \n",
       "1127  2020-01-18T20:27:02.000Z  1218630899404640256   en               False   \n",
       "1128  2020-01-18T20:26:22.000Z  1218630732324597760   en               False   \n",
       "\n",
       "               author_id               source  ... Building community  \\\n",
       "0     776450766710136832   Twitter for iPhone  ...                  1   \n",
       "1               31611970  Twitter for Android  ...                  1   \n",
       "2             3308531970  Twitter for Android  ...                  1   \n",
       "3               31611970  Twitter for Android  ...                  1   \n",
       "4               31611970  Twitter for Android  ...                  1   \n",
       "...                  ...                  ...  ...                ...   \n",
       "1123          1969930824   Twitter for iPhone  ...                  0   \n",
       "1124  708028111540133888   Twitter for iPhone  ...                  1   \n",
       "1126  969876723922808832  Twitter for Android  ...                  1   \n",
       "1127           961503306      Twitter Web App  ...                  1   \n",
       "1128          3308531970  Twitter for Android  ...                  0   \n",
       "\n",
       "                              BC code Broadening the counterpublic  \\\n",
       "0                        talk support                            0   \n",
       "1                        talk support                            1   \n",
       "2              talk support; thankful                            0   \n",
       "3     talk support; emotional support                            0   \n",
       "4             BC impact; talk support                            0   \n",
       "...                               ...                          ...   \n",
       "1123                                                             1   \n",
       "1124                     talk support                            0   \n",
       "1126                     talk support                            0   \n",
       "1127                     talk support                            1   \n",
       "1128                                                             0   \n",
       "\n",
       "                   BtC code  Creating change in math                 CCM code  \\\n",
       "0                                                  0                            \n",
       "1               influencers                        0                            \n",
       "2                                                  0                            \n",
       "3                                                  0                            \n",
       "4                                                  0                            \n",
       "...                     ...                      ...                      ...   \n",
       "1123  hashtags; influencers                        0                            \n",
       "1124                                               1                 humanize   \n",
       "1126                                               1         allyship in math   \n",
       "1127  hashtags; influencers                        1  math practice; humanize   \n",
       "1128                                               1                 humanize   \n",
       "\n",
       "     SJEDI            SJEDI code CODER  \\\n",
       "0        1  bipoc; lgbtq; gender    DL   \n",
       "1        1        representation    RR   \n",
       "2        0                          JH   \n",
       "3        0                          DL   \n",
       "4        0                          RR   \n",
       "...    ...                   ...   ...   \n",
       "1123     1       lgbtq; advocacy         \n",
       "1124     1                gender         \n",
       "1126     1                gender         \n",
       "1127     0                               \n",
       "1128     0                               \n",
       "\n",
       "                                              all codes  \n",
       "0                  [bipoc, gender, lgbtq, talk support]  \n",
       "1     [amplification, influencers, representation, t...  \n",
       "2               [amplification, talk support, thankful]  \n",
       "3                     [emotional support, talk support]  \n",
       "4                             [BC impact, talk support]  \n",
       "...                                                 ...  \n",
       "1123  [advocacy, amplification, hashtags, influencer...  \n",
       "1124                   [gender, humanize, talk support]  \n",
       "1126  [allyship in math, amplification, gender, talk...  \n",
       "1127  [amplification, hashtags, humanize, influencer...  \n",
       "1128                          [amplification, humanize]  \n",
       "\n",
       "[940 rows x 45 columns]"
      ]
     },
     "execution_count": 287,
     "metadata": {},
     "output_type": "execute_result"
    }
   ],
   "source": [
    "df[df['user_username'].isin(df_cluster0hdb['index'].values)]"
   ]
  },
  {
   "cell_type": "code",
   "execution_count": 288,
   "metadata": {},
   "outputs": [
    {
     "data": {
      "text/html": [
       "<div>\n",
       "<style scoped>\n",
       "    .dataframe tbody tr th:only-of-type {\n",
       "        vertical-align: middle;\n",
       "    }\n",
       "\n",
       "    .dataframe tbody tr th {\n",
       "        vertical-align: top;\n",
       "    }\n",
       "\n",
       "    .dataframe thead th {\n",
       "        text-align: right;\n",
       "    }\n",
       "</style>\n",
       "<table border=\"1\" class=\"dataframe\">\n",
       "  <thead>\n",
       "    <tr style=\"text-align: right;\">\n",
       "      <th></th>\n",
       "      <th>Unnamed: 0</th>\n",
       "      <th>tweet_id</th>\n",
       "      <th>user_username</th>\n",
       "      <th>text</th>\n",
       "      <th>created_at</th>\n",
       "      <th>conversation_id</th>\n",
       "      <th>lang</th>\n",
       "      <th>possibly_sensitive</th>\n",
       "      <th>author_id</th>\n",
       "      <th>source</th>\n",
       "      <th>...</th>\n",
       "      <th>Building community</th>\n",
       "      <th>BC code</th>\n",
       "      <th>Broadening the counterpublic</th>\n",
       "      <th>BtC code</th>\n",
       "      <th>Creating change in math</th>\n",
       "      <th>CCM code</th>\n",
       "      <th>SJEDI</th>\n",
       "      <th>SJEDI code</th>\n",
       "      <th>CODER</th>\n",
       "      <th>all codes</th>\n",
       "    </tr>\n",
       "  </thead>\n",
       "  <tbody>\n",
       "    <tr>\n",
       "      <th>211</th>\n",
       "      <td>710</td>\n",
       "      <td>1347311335202295817</td>\n",
       "      <td>saracharala</td>\n",
       "      <td>#DisruptJMM @ the AMS Special Session Women of...</td>\n",
       "      <td>2021-01-07T22:37:08.000Z</td>\n",
       "      <td>1347311335202295817</td>\n",
       "      <td>en</td>\n",
       "      <td>False</td>\n",
       "      <td>35904738</td>\n",
       "      <td>Twitter Web App</td>\n",
       "      <td>...</td>\n",
       "      <td>1</td>\n",
       "      <td>talk support</td>\n",
       "      <td>0</td>\n",
       "      <td></td>\n",
       "      <td>0</td>\n",
       "      <td></td>\n",
       "      <td>1</td>\n",
       "      <td>bipoc; indigenous; gender</td>\n",
       "      <td>RR</td>\n",
       "      <td>[amplification, bipoc, gender, indigenous, tal...</td>\n",
       "    </tr>\n",
       "  </tbody>\n",
       "</table>\n",
       "<p>1 rows × 45 columns</p>\n",
       "</div>"
      ],
      "text/plain": [
       "     Unnamed: 0             tweet_id user_username  \\\n",
       "211         710  1347311335202295817   saracharala   \n",
       "\n",
       "                                                  text  \\\n",
       "211  #DisruptJMM @ the AMS Special Session Women of...   \n",
       "\n",
       "                   created_at      conversation_id lang  possibly_sensitive  \\\n",
       "211  2021-01-07T22:37:08.000Z  1347311335202295817   en               False   \n",
       "\n",
       "     author_id           source  ... Building community       BC code  \\\n",
       "211   35904738  Twitter Web App  ...                  1  talk support   \n",
       "\n",
       "    Broadening the counterpublic BtC code  Creating change in math CCM code  \\\n",
       "211                            0                                 0            \n",
       "\n",
       "    SJEDI                 SJEDI code CODER  \\\n",
       "211     1  bipoc; indigenous; gender    RR   \n",
       "\n",
       "                                             all codes  \n",
       "211  [amplification, bipoc, gender, indigenous, tal...  \n",
       "\n",
       "[1 rows x 45 columns]"
      ]
     },
     "execution_count": 288,
     "metadata": {},
     "output_type": "execute_result"
    }
   ],
   "source": [
    "df[df['user_username'] == \"saracharala\"]"
   ]
  },
  {
   "cell_type": "markdown",
   "metadata": {},
   "source": [
    "cluster1 in dbscan is [8]\n",
    "cluster2 is a subset of [9] it appears\n",
    "cluster3 is a subset of [10], with the addition of Zoe_MM\n",
    "cluster4 is [11]\n",
    "cluster5 is a subset of [12], with the addition of HaydeeLindo\n",
    "cluster6 is a subset of [5], with the addition of saracharala and MathAndCobb\n",
    "cluster7 is [13]\n",
    "\n",
    "\n"
   ]
  }
 ],
 "metadata": {
  "kernelspec": {
   "display_name": "base",
   "language": "python",
   "name": "python3"
  },
  "language_info": {
   "codemirror_mode": {
    "name": "ipython",
    "version": 3
   },
   "file_extension": ".py",
   "mimetype": "text/x-python",
   "name": "python",
   "nbconvert_exporter": "python",
   "pygments_lexer": "ipython3",
   "version": "3.11.8"
  }
 },
 "nbformat": 4,
 "nbformat_minor": 2
}
