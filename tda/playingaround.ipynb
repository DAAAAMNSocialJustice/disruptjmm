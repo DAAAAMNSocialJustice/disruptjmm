{
 "cells": [
  {
   "cell_type": "code",
   "execution_count": 2,
   "metadata": {},
   "outputs": [],
   "source": [
    "import numpy as np\n",
    "import pandas as pd\n",
    "import matplotlib.pyplot as plt"
   ]
  },
  {
   "cell_type": "markdown",
   "metadata": {},
   "source": [
    "## Getting the data into the shape I need it to be"
   ]
  },
  {
   "cell_type": "code",
   "execution_count": 3,
   "metadata": {},
   "outputs": [
    {
     "data": {
      "text/html": [
       "<div>\n",
       "<style scoped>\n",
       "    .dataframe tbody tr th:only-of-type {\n",
       "        vertical-align: middle;\n",
       "    }\n",
       "\n",
       "    .dataframe tbody tr th {\n",
       "        vertical-align: top;\n",
       "    }\n",
       "\n",
       "    .dataframe thead th {\n",
       "        text-align: right;\n",
       "    }\n",
       "</style>\n",
       "<table border=\"1\" class=\"dataframe\">\n",
       "  <thead>\n",
       "    <tr style=\"text-align: right;\">\n",
       "      <th></th>\n",
       "      <th>Unnamed: 0</th>\n",
       "      <th>tweet_id</th>\n",
       "      <th>user_username</th>\n",
       "      <th>text</th>\n",
       "      <th>created_at</th>\n",
       "      <th>conversation_id</th>\n",
       "      <th>lang</th>\n",
       "      <th>possibly_sensitive</th>\n",
       "      <th>author_id</th>\n",
       "      <th>source</th>\n",
       "      <th>...</th>\n",
       "      <th>Building community</th>\n",
       "      <th>BC code</th>\n",
       "      <th>Broadening the counterpublic</th>\n",
       "      <th>BtC code</th>\n",
       "      <th>Creating change in math</th>\n",
       "      <th>CCM code</th>\n",
       "      <th>SJEDI</th>\n",
       "      <th>SJEDI code</th>\n",
       "      <th>CODER</th>\n",
       "      <th>all codes</th>\n",
       "    </tr>\n",
       "  </thead>\n",
       "  <tbody>\n",
       "    <tr>\n",
       "      <th>0</th>\n",
       "      <td>1</td>\n",
       "      <td>1217856519670288384</td>\n",
       "      <td>mathyadriana</td>\n",
       "      <td>Anyone feel like looking through the list of i...</td>\n",
       "      <td>2020-01-16T17:09:55.000Z</td>\n",
       "      <td>1217856519670288384</td>\n",
       "      <td>en</td>\n",
       "      <td>False</td>\n",
       "      <td>776450766710136832</td>\n",
       "      <td>Twitter for iPhone</td>\n",
       "      <td>...</td>\n",
       "      <td>1</td>\n",
       "      <td>talk support</td>\n",
       "      <td>0</td>\n",
       "      <td></td>\n",
       "      <td>0</td>\n",
       "      <td></td>\n",
       "      <td>1</td>\n",
       "      <td>bipoc; lgbtq; gender</td>\n",
       "      <td>DL</td>\n",
       "      <td>[bipoc, gender, lgbtq, talk support]</td>\n",
       "    </tr>\n",
       "    <tr>\n",
       "      <th>1</th>\n",
       "      <td>5</td>\n",
       "      <td>1217856052579971073</td>\n",
       "      <td>mathprofcarrie</td>\n",
       "      <td>\"If you think that your right to speech is mor...</td>\n",
       "      <td>2020-01-16T17:08:04.000Z</td>\n",
       "      <td>1217856052579971073</td>\n",
       "      <td>en</td>\n",
       "      <td>False</td>\n",
       "      <td>31611970</td>\n",
       "      <td>Twitter for Android</td>\n",
       "      <td>...</td>\n",
       "      <td>1</td>\n",
       "      <td>talk support</td>\n",
       "      <td>1</td>\n",
       "      <td>influencers</td>\n",
       "      <td>0</td>\n",
       "      <td></td>\n",
       "      <td>1</td>\n",
       "      <td>representation</td>\n",
       "      <td>RR</td>\n",
       "      <td>[amplification, influencers, representation, t...</td>\n",
       "    </tr>\n",
       "    <tr>\n",
       "      <th>2</th>\n",
       "      <td>8</td>\n",
       "      <td>1217855474479046656</td>\n",
       "      <td>pwr2dppl</td>\n",
       "      <td>I ran at elevation to make it to @xl772's #Dis...</td>\n",
       "      <td>2020-01-16T17:05:46.000Z</td>\n",
       "      <td>1217855474479046656</td>\n",
       "      <td>en</td>\n",
       "      <td>False</td>\n",
       "      <td>3308531970</td>\n",
       "      <td>Twitter for Android</td>\n",
       "      <td>...</td>\n",
       "      <td>1</td>\n",
       "      <td>talk support; thankful</td>\n",
       "      <td>0</td>\n",
       "      <td></td>\n",
       "      <td>0</td>\n",
       "      <td></td>\n",
       "      <td>0</td>\n",
       "      <td></td>\n",
       "      <td>JH</td>\n",
       "      <td>[amplification, talk support, thankful]</td>\n",
       "    </tr>\n",
       "    <tr>\n",
       "      <th>3</th>\n",
       "      <td>9</td>\n",
       "      <td>1217854597747875840</td>\n",
       "      <td>mathprofcarrie</td>\n",
       "      <td>@WanderingPoint @xl772 @pwr2dppl Here!!! #disr...</td>\n",
       "      <td>2020-01-16T17:02:17.000Z</td>\n",
       "      <td>1217850650438049797</td>\n",
       "      <td>en</td>\n",
       "      <td>False</td>\n",
       "      <td>31611970</td>\n",
       "      <td>Twitter for Android</td>\n",
       "      <td>...</td>\n",
       "      <td>1</td>\n",
       "      <td>talk support; emotional support</td>\n",
       "      <td>0</td>\n",
       "      <td></td>\n",
       "      <td>0</td>\n",
       "      <td></td>\n",
       "      <td>0</td>\n",
       "      <td></td>\n",
       "      <td>DL</td>\n",
       "      <td>[emotional support, talk support]</td>\n",
       "    </tr>\n",
       "    <tr>\n",
       "      <th>4</th>\n",
       "      <td>10</td>\n",
       "      <td>1217852288385024000</td>\n",
       "      <td>mathprofcarrie</td>\n",
       "      <td>@xl772 @pwr2dppl Where and what? - let's get t...</td>\n",
       "      <td>2020-01-16T16:53:06.000Z</td>\n",
       "      <td>1217850650438049797</td>\n",
       "      <td>en</td>\n",
       "      <td>False</td>\n",
       "      <td>31611970</td>\n",
       "      <td>Twitter for Android</td>\n",
       "      <td>...</td>\n",
       "      <td>1</td>\n",
       "      <td>BC impact; talk support</td>\n",
       "      <td>0</td>\n",
       "      <td></td>\n",
       "      <td>0</td>\n",
       "      <td></td>\n",
       "      <td>0</td>\n",
       "      <td></td>\n",
       "      <td>RR</td>\n",
       "      <td>[BC impact, talk support]</td>\n",
       "    </tr>\n",
       "    <tr>\n",
       "      <th>...</th>\n",
       "      <td>...</td>\n",
       "      <td>...</td>\n",
       "      <td>...</td>\n",
       "      <td>...</td>\n",
       "      <td>...</td>\n",
       "      <td>...</td>\n",
       "      <td>...</td>\n",
       "      <td>...</td>\n",
       "      <td>...</td>\n",
       "      <td>...</td>\n",
       "      <td>...</td>\n",
       "      <td>...</td>\n",
       "      <td>...</td>\n",
       "      <td>...</td>\n",
       "      <td>...</td>\n",
       "      <td>...</td>\n",
       "      <td>...</td>\n",
       "      <td>...</td>\n",
       "      <td>...</td>\n",
       "      <td>...</td>\n",
       "      <td>...</td>\n",
       "    </tr>\n",
       "    <tr>\n",
       "      <th>1124</th>\n",
       "      <td>1124</td>\n",
       "      <td>1218635813027602432</td>\n",
       "      <td>malagonmath</td>\n",
       "      <td>RT @mathprofcarrie: AMS-AWM invited session on...</td>\n",
       "      <td>2020-01-18T20:46:33.000Z</td>\n",
       "      <td>1218635813027602432</td>\n",
       "      <td>en</td>\n",
       "      <td>False</td>\n",
       "      <td>708028111540133888</td>\n",
       "      <td>Twitter for iPhone</td>\n",
       "      <td>...</td>\n",
       "      <td>1</td>\n",
       "      <td>talk support</td>\n",
       "      <td>0</td>\n",
       "      <td></td>\n",
       "      <td>1</td>\n",
       "      <td>humanize</td>\n",
       "      <td>1</td>\n",
       "      <td>gender</td>\n",
       "      <td></td>\n",
       "      <td>[gender, humanize, talk support]</td>\n",
       "    </tr>\n",
       "    <tr>\n",
       "      <th>1125</th>\n",
       "      <td>1125</td>\n",
       "      <td>1218635334251999232</td>\n",
       "      <td>noellebeckman</td>\n",
       "      <td>RT @mathprofcarrie: AMS-AWM invited session on...</td>\n",
       "      <td>2020-01-18T20:44:39.000Z</td>\n",
       "      <td>1218635334251999232</td>\n",
       "      <td>en</td>\n",
       "      <td>False</td>\n",
       "      <td>1660843818</td>\n",
       "      <td>Twitter for iPhone</td>\n",
       "      <td>...</td>\n",
       "      <td>1</td>\n",
       "      <td>talk support</td>\n",
       "      <td>0</td>\n",
       "      <td></td>\n",
       "      <td>1</td>\n",
       "      <td>humanize</td>\n",
       "      <td>1</td>\n",
       "      <td>gender</td>\n",
       "      <td></td>\n",
       "      <td>[gender, humanize, talk support]</td>\n",
       "    </tr>\n",
       "    <tr>\n",
       "      <th>1126</th>\n",
       "      <td>1127</td>\n",
       "      <td>1218632621162483713</td>\n",
       "      <td>MarissaKawehi</td>\n",
       "      <td>RT @matthematician: “[C]arry some of this weig...</td>\n",
       "      <td>2020-01-18T20:33:52.000Z</td>\n",
       "      <td>1218632621162483713</td>\n",
       "      <td>en</td>\n",
       "      <td>False</td>\n",
       "      <td>969876723922808832</td>\n",
       "      <td>Twitter for Android</td>\n",
       "      <td>...</td>\n",
       "      <td>1</td>\n",
       "      <td>talk support</td>\n",
       "      <td>0</td>\n",
       "      <td></td>\n",
       "      <td>1</td>\n",
       "      <td>allyship in math</td>\n",
       "      <td>1</td>\n",
       "      <td>gender</td>\n",
       "      <td></td>\n",
       "      <td>[allyship in math, amplification, gender, talk...</td>\n",
       "    </tr>\n",
       "    <tr>\n",
       "      <th>1127</th>\n",
       "      <td>1128</td>\n",
       "      <td>1218630899404640256</td>\n",
       "      <td>numberdance</td>\n",
       "      <td>RT @sbagley: Kelly MacArthur now speaking abou...</td>\n",
       "      <td>2020-01-18T20:27:02.000Z</td>\n",
       "      <td>1218630899404640256</td>\n",
       "      <td>en</td>\n",
       "      <td>False</td>\n",
       "      <td>961503306</td>\n",
       "      <td>Twitter Web App</td>\n",
       "      <td>...</td>\n",
       "      <td>1</td>\n",
       "      <td>talk support</td>\n",
       "      <td>1</td>\n",
       "      <td>hashtags; influencers</td>\n",
       "      <td>1</td>\n",
       "      <td>math practice; humanize</td>\n",
       "      <td>0</td>\n",
       "      <td></td>\n",
       "      <td></td>\n",
       "      <td>[amplification, hashtags, humanize, influencer...</td>\n",
       "    </tr>\n",
       "    <tr>\n",
       "      <th>1128</th>\n",
       "      <td>1129</td>\n",
       "      <td>1218630732324597760</td>\n",
       "      <td>pwr2dppl</td>\n",
       "      <td>RT @sbagley: The stereotype of a mathematician...</td>\n",
       "      <td>2020-01-18T20:26:22.000Z</td>\n",
       "      <td>1218630732324597760</td>\n",
       "      <td>en</td>\n",
       "      <td>False</td>\n",
       "      <td>3308531970</td>\n",
       "      <td>Twitter for Android</td>\n",
       "      <td>...</td>\n",
       "      <td>0</td>\n",
       "      <td></td>\n",
       "      <td>0</td>\n",
       "      <td></td>\n",
       "      <td>1</td>\n",
       "      <td>humanize</td>\n",
       "      <td>0</td>\n",
       "      <td></td>\n",
       "      <td></td>\n",
       "      <td>[amplification, humanize]</td>\n",
       "    </tr>\n",
       "  </tbody>\n",
       "</table>\n",
       "<p>1129 rows × 45 columns</p>\n",
       "</div>"
      ],
      "text/plain": [
       "      Unnamed: 0             tweet_id   user_username  \\\n",
       "0              1  1217856519670288384    mathyadriana   \n",
       "1              5  1217856052579971073  mathprofcarrie   \n",
       "2              8  1217855474479046656        pwr2dppl   \n",
       "3              9  1217854597747875840  mathprofcarrie   \n",
       "4             10  1217852288385024000  mathprofcarrie   \n",
       "...          ...                  ...             ...   \n",
       "1124        1124  1218635813027602432     malagonmath   \n",
       "1125        1125  1218635334251999232   noellebeckman   \n",
       "1126        1127  1218632621162483713   MarissaKawehi   \n",
       "1127        1128  1218630899404640256     numberdance   \n",
       "1128        1129  1218630732324597760        pwr2dppl   \n",
       "\n",
       "                                                   text  \\\n",
       "0     Anyone feel like looking through the list of i...   \n",
       "1     \"If you think that your right to speech is mor...   \n",
       "2     I ran at elevation to make it to @xl772's #Dis...   \n",
       "3     @WanderingPoint @xl772 @pwr2dppl Here!!! #disr...   \n",
       "4     @xl772 @pwr2dppl Where and what? - let's get t...   \n",
       "...                                                 ...   \n",
       "1124  RT @mathprofcarrie: AMS-AWM invited session on...   \n",
       "1125  RT @mathprofcarrie: AMS-AWM invited session on...   \n",
       "1126  RT @matthematician: “[C]arry some of this weig...   \n",
       "1127  RT @sbagley: Kelly MacArthur now speaking abou...   \n",
       "1128  RT @sbagley: The stereotype of a mathematician...   \n",
       "\n",
       "                    created_at      conversation_id lang  possibly_sensitive  \\\n",
       "0     2020-01-16T17:09:55.000Z  1217856519670288384   en               False   \n",
       "1     2020-01-16T17:08:04.000Z  1217856052579971073   en               False   \n",
       "2     2020-01-16T17:05:46.000Z  1217855474479046656   en               False   \n",
       "3     2020-01-16T17:02:17.000Z  1217850650438049797   en               False   \n",
       "4     2020-01-16T16:53:06.000Z  1217850650438049797   en               False   \n",
       "...                        ...                  ...  ...                 ...   \n",
       "1124  2020-01-18T20:46:33.000Z  1218635813027602432   en               False   \n",
       "1125  2020-01-18T20:44:39.000Z  1218635334251999232   en               False   \n",
       "1126  2020-01-18T20:33:52.000Z  1218632621162483713   en               False   \n",
       "1127  2020-01-18T20:27:02.000Z  1218630899404640256   en               False   \n",
       "1128  2020-01-18T20:26:22.000Z  1218630732324597760   en               False   \n",
       "\n",
       "               author_id               source  ... Building community  \\\n",
       "0     776450766710136832   Twitter for iPhone  ...                  1   \n",
       "1               31611970  Twitter for Android  ...                  1   \n",
       "2             3308531970  Twitter for Android  ...                  1   \n",
       "3               31611970  Twitter for Android  ...                  1   \n",
       "4               31611970  Twitter for Android  ...                  1   \n",
       "...                  ...                  ...  ...                ...   \n",
       "1124  708028111540133888   Twitter for iPhone  ...                  1   \n",
       "1125          1660843818   Twitter for iPhone  ...                  1   \n",
       "1126  969876723922808832  Twitter for Android  ...                  1   \n",
       "1127           961503306      Twitter Web App  ...                  1   \n",
       "1128          3308531970  Twitter for Android  ...                  0   \n",
       "\n",
       "                              BC code Broadening the counterpublic  \\\n",
       "0                        talk support                            0   \n",
       "1                        talk support                            1   \n",
       "2              talk support; thankful                            0   \n",
       "3     talk support; emotional support                            0   \n",
       "4             BC impact; talk support                            0   \n",
       "...                               ...                          ...   \n",
       "1124                     talk support                            0   \n",
       "1125                     talk support                            0   \n",
       "1126                     talk support                            0   \n",
       "1127                     talk support                            1   \n",
       "1128                                                             0   \n",
       "\n",
       "                   BtC code  Creating change in math                 CCM code  \\\n",
       "0                                                  0                            \n",
       "1               influencers                        0                            \n",
       "2                                                  0                            \n",
       "3                                                  0                            \n",
       "4                                                  0                            \n",
       "...                     ...                      ...                      ...   \n",
       "1124                                               1                 humanize   \n",
       "1125                                               1                 humanize   \n",
       "1126                                               1         allyship in math   \n",
       "1127  hashtags; influencers                        1  math practice; humanize   \n",
       "1128                                               1                 humanize   \n",
       "\n",
       "     SJEDI            SJEDI code CODER  \\\n",
       "0        1  bipoc; lgbtq; gender    DL   \n",
       "1        1        representation    RR   \n",
       "2        0                          JH   \n",
       "3        0                          DL   \n",
       "4        0                          RR   \n",
       "...    ...                   ...   ...   \n",
       "1124     1                gender         \n",
       "1125     1                gender         \n",
       "1126     1                gender         \n",
       "1127     0                               \n",
       "1128     0                               \n",
       "\n",
       "                                              all codes  \n",
       "0                  [bipoc, gender, lgbtq, talk support]  \n",
       "1     [amplification, influencers, representation, t...  \n",
       "2               [amplification, talk support, thankful]  \n",
       "3                     [emotional support, talk support]  \n",
       "4                             [BC impact, talk support]  \n",
       "...                                                 ...  \n",
       "1124                   [gender, humanize, talk support]  \n",
       "1125                   [gender, humanize, talk support]  \n",
       "1126  [allyship in math, amplification, gender, talk...  \n",
       "1127  [amplification, hashtags, humanize, influencer...  \n",
       "1128                          [amplification, humanize]  \n",
       "\n",
       "[1129 rows x 45 columns]"
      ]
     },
     "execution_count": 3,
     "metadata": {},
     "output_type": "execute_result"
    }
   ],
   "source": [
    "df = pd.read_csv(\"/Users/rachelroca/Documents/GitHub/DAAAAMNdjmm/data cleaning/Final Coding.csv\",keep_default_na=False)\n",
    "#The codes were in 5 different columns; lets aggregate them into a new column\n",
    "df[\"all codes\"] = df[[\"SO code\",\"BC code\",\"BtC code\",\"CCM code\",\"SJEDI code\"]].agg(';'.join,axis=1)\n",
    "#We separated them by ;, so convert to an array \n",
    "df[\"all codes\"] = df[\"all codes\"].apply(lambda s: s.split(';'))\n",
    "#Strip out leading/trailing spaces\n",
    "df[\"all codes\"] = df[\"all codes\"].apply(lambda s: [t.strip() for t in s if t])\n",
    "#Sort the arrays, so we can be confident the same things are not listed in two different ways\n",
    "df[\"all codes\"] = np.array(df[\"all codes\"].apply(sorted))\n",
    "df\n"
   ]
  },
  {
   "cell_type": "code",
   "execution_count": 4,
   "metadata": {},
   "outputs": [
    {
     "data": {
      "text/plain": [
       "328"
      ]
     },
     "execution_count": 4,
     "metadata": {},
     "output_type": "execute_result"
    }
   ],
   "source": [
    "tweeters = df['user_username'].unique()\n",
    "len(tweeters)"
   ]
  },
  {
   "cell_type": "code",
   "execution_count": 5,
   "metadata": {},
   "outputs": [
    {
     "data": {
      "text/plain": [
       "['BC impact',\n",
       " 'CC impact',\n",
       " 'SJEDI impact',\n",
       " 'SO impact',\n",
       " 'activation',\n",
       " 'advocacy',\n",
       " 'allyship in math',\n",
       " 'amplification',\n",
       " 'belonging',\n",
       " 'beyond',\n",
       " 'bipoc',\n",
       " 'celebration',\n",
       " 'conversation',\n",
       " 'current events',\n",
       " 'disrupteverything',\n",
       " 'economic',\n",
       " 'emotional support',\n",
       " 'futures',\n",
       " 'gender',\n",
       " 'hashtags',\n",
       " 'humanize',\n",
       " 'indigenous',\n",
       " 'influencers',\n",
       " 'jmm experience',\n",
       " 'learning',\n",
       " 'lgbtq',\n",
       " 'math experience',\n",
       " 'math practice',\n",
       " 'power',\n",
       " 'representation',\n",
       " 'strategic planning',\n",
       " 'talk support',\n",
       " 'thankful',\n",
       " 'troll',\n",
       " 'virtual participation']"
      ]
     },
     "execution_count": 5,
     "metadata": {},
     "output_type": "execute_result"
    }
   ],
   "source": [
    "codes = ['advocacy', 'amplification', 'emotional support', 'gender', 'indigenous', 'jmm experience', 'representation', 'bipoc', 'hashtags', 'influencers', 'power', 'talk support', 'humanize', 'math practice', 'current events', 'lgbtq', 'strategic planning', 'allyship in math', 'math experience', 'conversation', 'thankful', 'BC impact', 'disrupteverything', 'SJEDI impact', 'SO impact', 'belonging', 'learning', 'troll', 'CC impact', 'virtual participation', 'activation', 'futures', 'economic', 'beyond', 'celebration']\n",
    "codes.sort()\n",
    "codes\n"
   ]
  },
  {
   "cell_type": "code",
   "execution_count": 6,
   "metadata": {},
   "outputs": [
    {
     "data": {
      "text/html": [
       "<div>\n",
       "<style scoped>\n",
       "    .dataframe tbody tr th:only-of-type {\n",
       "        vertical-align: middle;\n",
       "    }\n",
       "\n",
       "    .dataframe tbody tr th {\n",
       "        vertical-align: top;\n",
       "    }\n",
       "\n",
       "    .dataframe thead th {\n",
       "        text-align: right;\n",
       "    }\n",
       "</style>\n",
       "<table border=\"1\" class=\"dataframe\">\n",
       "  <thead>\n",
       "    <tr style=\"text-align: right;\">\n",
       "      <th></th>\n",
       "      <th>BC impact</th>\n",
       "      <th>CC impact</th>\n",
       "      <th>SJEDI impact</th>\n",
       "      <th>SO impact</th>\n",
       "      <th>activation</th>\n",
       "      <th>advocacy</th>\n",
       "      <th>allyship in math</th>\n",
       "      <th>amplification</th>\n",
       "      <th>belonging</th>\n",
       "      <th>beyond</th>\n",
       "      <th>...</th>\n",
       "      <th>lgbtq</th>\n",
       "      <th>math experience</th>\n",
       "      <th>math practice</th>\n",
       "      <th>power</th>\n",
       "      <th>representation</th>\n",
       "      <th>strategic planning</th>\n",
       "      <th>talk support</th>\n",
       "      <th>thankful</th>\n",
       "      <th>troll</th>\n",
       "      <th>virtual participation</th>\n",
       "    </tr>\n",
       "  </thead>\n",
       "  <tbody>\n",
       "    <tr>\n",
       "      <th>mathyadriana</th>\n",
       "      <td>1</td>\n",
       "      <td>0</td>\n",
       "      <td>0</td>\n",
       "      <td>0</td>\n",
       "      <td>0</td>\n",
       "      <td>1</td>\n",
       "      <td>0</td>\n",
       "      <td>6</td>\n",
       "      <td>0</td>\n",
       "      <td>0</td>\n",
       "      <td>...</td>\n",
       "      <td>1</td>\n",
       "      <td>0</td>\n",
       "      <td>2</td>\n",
       "      <td>1</td>\n",
       "      <td>5</td>\n",
       "      <td>2</td>\n",
       "      <td>6</td>\n",
       "      <td>0</td>\n",
       "      <td>0</td>\n",
       "      <td>0</td>\n",
       "    </tr>\n",
       "    <tr>\n",
       "      <th>mathprofcarrie</th>\n",
       "      <td>15</td>\n",
       "      <td>2</td>\n",
       "      <td>0</td>\n",
       "      <td>3</td>\n",
       "      <td>1</td>\n",
       "      <td>7</td>\n",
       "      <td>5</td>\n",
       "      <td>69</td>\n",
       "      <td>4</td>\n",
       "      <td>0</td>\n",
       "      <td>...</td>\n",
       "      <td>4</td>\n",
       "      <td>2</td>\n",
       "      <td>9</td>\n",
       "      <td>16</td>\n",
       "      <td>25</td>\n",
       "      <td>17</td>\n",
       "      <td>59</td>\n",
       "      <td>12</td>\n",
       "      <td>0</td>\n",
       "      <td>1</td>\n",
       "    </tr>\n",
       "    <tr>\n",
       "      <th>pwr2dppl</th>\n",
       "      <td>15</td>\n",
       "      <td>2</td>\n",
       "      <td>1</td>\n",
       "      <td>6</td>\n",
       "      <td>1</td>\n",
       "      <td>8</td>\n",
       "      <td>1</td>\n",
       "      <td>51</td>\n",
       "      <td>5</td>\n",
       "      <td>0</td>\n",
       "      <td>...</td>\n",
       "      <td>7</td>\n",
       "      <td>2</td>\n",
       "      <td>11</td>\n",
       "      <td>15</td>\n",
       "      <td>20</td>\n",
       "      <td>15</td>\n",
       "      <td>42</td>\n",
       "      <td>9</td>\n",
       "      <td>0</td>\n",
       "      <td>0</td>\n",
       "    </tr>\n",
       "    <tr>\n",
       "      <th>xl772</th>\n",
       "      <td>1</td>\n",
       "      <td>0</td>\n",
       "      <td>0</td>\n",
       "      <td>1</td>\n",
       "      <td>0</td>\n",
       "      <td>2</td>\n",
       "      <td>1</td>\n",
       "      <td>6</td>\n",
       "      <td>0</td>\n",
       "      <td>0</td>\n",
       "      <td>...</td>\n",
       "      <td>0</td>\n",
       "      <td>0</td>\n",
       "      <td>0</td>\n",
       "      <td>2</td>\n",
       "      <td>6</td>\n",
       "      <td>3</td>\n",
       "      <td>4</td>\n",
       "      <td>1</td>\n",
       "      <td>0</td>\n",
       "      <td>0</td>\n",
       "    </tr>\n",
       "    <tr>\n",
       "      <th>WanderingPoint</th>\n",
       "      <td>3</td>\n",
       "      <td>1</td>\n",
       "      <td>0</td>\n",
       "      <td>2</td>\n",
       "      <td>0</td>\n",
       "      <td>1</td>\n",
       "      <td>1</td>\n",
       "      <td>11</td>\n",
       "      <td>0</td>\n",
       "      <td>0</td>\n",
       "      <td>...</td>\n",
       "      <td>0</td>\n",
       "      <td>0</td>\n",
       "      <td>1</td>\n",
       "      <td>3</td>\n",
       "      <td>6</td>\n",
       "      <td>1</td>\n",
       "      <td>10</td>\n",
       "      <td>0</td>\n",
       "      <td>0</td>\n",
       "      <td>0</td>\n",
       "    </tr>\n",
       "    <tr>\n",
       "      <th>...</th>\n",
       "      <td>...</td>\n",
       "      <td>...</td>\n",
       "      <td>...</td>\n",
       "      <td>...</td>\n",
       "      <td>...</td>\n",
       "      <td>...</td>\n",
       "      <td>...</td>\n",
       "      <td>...</td>\n",
       "      <td>...</td>\n",
       "      <td>...</td>\n",
       "      <td>...</td>\n",
       "      <td>...</td>\n",
       "      <td>...</td>\n",
       "      <td>...</td>\n",
       "      <td>...</td>\n",
       "      <td>...</td>\n",
       "      <td>...</td>\n",
       "      <td>...</td>\n",
       "      <td>...</td>\n",
       "      <td>...</td>\n",
       "      <td>...</td>\n",
       "    </tr>\n",
       "    <tr>\n",
       "      <th>superyarn</th>\n",
       "      <td>0</td>\n",
       "      <td>0</td>\n",
       "      <td>0</td>\n",
       "      <td>0</td>\n",
       "      <td>0</td>\n",
       "      <td>1</td>\n",
       "      <td>0</td>\n",
       "      <td>1</td>\n",
       "      <td>0</td>\n",
       "      <td>0</td>\n",
       "      <td>...</td>\n",
       "      <td>0</td>\n",
       "      <td>0</td>\n",
       "      <td>0</td>\n",
       "      <td>0</td>\n",
       "      <td>1</td>\n",
       "      <td>0</td>\n",
       "      <td>0</td>\n",
       "      <td>0</td>\n",
       "      <td>0</td>\n",
       "      <td>0</td>\n",
       "    </tr>\n",
       "    <tr>\n",
       "      <th>dbdoughe</th>\n",
       "      <td>0</td>\n",
       "      <td>0</td>\n",
       "      <td>0</td>\n",
       "      <td>0</td>\n",
       "      <td>0</td>\n",
       "      <td>1</td>\n",
       "      <td>0</td>\n",
       "      <td>1</td>\n",
       "      <td>0</td>\n",
       "      <td>0</td>\n",
       "      <td>...</td>\n",
       "      <td>0</td>\n",
       "      <td>0</td>\n",
       "      <td>0</td>\n",
       "      <td>0</td>\n",
       "      <td>1</td>\n",
       "      <td>0</td>\n",
       "      <td>0</td>\n",
       "      <td>0</td>\n",
       "      <td>0</td>\n",
       "      <td>0</td>\n",
       "    </tr>\n",
       "    <tr>\n",
       "      <th>cordesm</th>\n",
       "      <td>0</td>\n",
       "      <td>0</td>\n",
       "      <td>0</td>\n",
       "      <td>0</td>\n",
       "      <td>0</td>\n",
       "      <td>1</td>\n",
       "      <td>0</td>\n",
       "      <td>1</td>\n",
       "      <td>0</td>\n",
       "      <td>0</td>\n",
       "      <td>...</td>\n",
       "      <td>0</td>\n",
       "      <td>0</td>\n",
       "      <td>0</td>\n",
       "      <td>0</td>\n",
       "      <td>1</td>\n",
       "      <td>0</td>\n",
       "      <td>0</td>\n",
       "      <td>0</td>\n",
       "      <td>0</td>\n",
       "      <td>0</td>\n",
       "    </tr>\n",
       "    <tr>\n",
       "      <th>f_futamura</th>\n",
       "      <td>0</td>\n",
       "      <td>0</td>\n",
       "      <td>0</td>\n",
       "      <td>0</td>\n",
       "      <td>0</td>\n",
       "      <td>1</td>\n",
       "      <td>0</td>\n",
       "      <td>1</td>\n",
       "      <td>0</td>\n",
       "      <td>0</td>\n",
       "      <td>...</td>\n",
       "      <td>0</td>\n",
       "      <td>0</td>\n",
       "      <td>0</td>\n",
       "      <td>0</td>\n",
       "      <td>1</td>\n",
       "      <td>0</td>\n",
       "      <td>0</td>\n",
       "      <td>0</td>\n",
       "      <td>0</td>\n",
       "      <td>0</td>\n",
       "    </tr>\n",
       "    <tr>\n",
       "      <th>noellebeckman</th>\n",
       "      <td>0</td>\n",
       "      <td>0</td>\n",
       "      <td>0</td>\n",
       "      <td>0</td>\n",
       "      <td>0</td>\n",
       "      <td>0</td>\n",
       "      <td>0</td>\n",
       "      <td>0</td>\n",
       "      <td>0</td>\n",
       "      <td>0</td>\n",
       "      <td>...</td>\n",
       "      <td>0</td>\n",
       "      <td>0</td>\n",
       "      <td>0</td>\n",
       "      <td>0</td>\n",
       "      <td>0</td>\n",
       "      <td>0</td>\n",
       "      <td>1</td>\n",
       "      <td>0</td>\n",
       "      <td>0</td>\n",
       "      <td>0</td>\n",
       "    </tr>\n",
       "  </tbody>\n",
       "</table>\n",
       "<p>328 rows × 35 columns</p>\n",
       "</div>"
      ],
      "text/plain": [
       "               BC impact CC impact SJEDI impact SO impact activation advocacy  \\\n",
       "mathyadriana           1         0            0         0          0        1   \n",
       "mathprofcarrie        15         2            0         3          1        7   \n",
       "pwr2dppl              15         2            1         6          1        8   \n",
       "xl772                  1         0            0         1          0        2   \n",
       "WanderingPoint         3         1            0         2          0        1   \n",
       "...                  ...       ...          ...       ...        ...      ...   \n",
       "superyarn              0         0            0         0          0        1   \n",
       "dbdoughe               0         0            0         0          0        1   \n",
       "cordesm                0         0            0         0          0        1   \n",
       "f_futamura             0         0            0         0          0        1   \n",
       "noellebeckman          0         0            0         0          0        0   \n",
       "\n",
       "               allyship in math amplification belonging beyond  ... lgbtq  \\\n",
       "mathyadriana                  0             6         0      0  ...     1   \n",
       "mathprofcarrie                5            69         4      0  ...     4   \n",
       "pwr2dppl                      1            51         5      0  ...     7   \n",
       "xl772                         1             6         0      0  ...     0   \n",
       "WanderingPoint                1            11         0      0  ...     0   \n",
       "...                         ...           ...       ...    ...  ...   ...   \n",
       "superyarn                     0             1         0      0  ...     0   \n",
       "dbdoughe                      0             1         0      0  ...     0   \n",
       "cordesm                       0             1         0      0  ...     0   \n",
       "f_futamura                    0             1         0      0  ...     0   \n",
       "noellebeckman                 0             0         0      0  ...     0   \n",
       "\n",
       "               math experience math practice power representation  \\\n",
       "mathyadriana                 0             2     1              5   \n",
       "mathprofcarrie               2             9    16             25   \n",
       "pwr2dppl                     2            11    15             20   \n",
       "xl772                        0             0     2              6   \n",
       "WanderingPoint               0             1     3              6   \n",
       "...                        ...           ...   ...            ...   \n",
       "superyarn                    0             0     0              1   \n",
       "dbdoughe                     0             0     0              1   \n",
       "cordesm                      0             0     0              1   \n",
       "f_futamura                   0             0     0              1   \n",
       "noellebeckman                0             0     0              0   \n",
       "\n",
       "               strategic planning talk support thankful troll  \\\n",
       "mathyadriana                    2            6        0     0   \n",
       "mathprofcarrie                 17           59       12     0   \n",
       "pwr2dppl                       15           42        9     0   \n",
       "xl772                           3            4        1     0   \n",
       "WanderingPoint                  1           10        0     0   \n",
       "...                           ...          ...      ...   ...   \n",
       "superyarn                       0            0        0     0   \n",
       "dbdoughe                        0            0        0     0   \n",
       "cordesm                         0            0        0     0   \n",
       "f_futamura                      0            0        0     0   \n",
       "noellebeckman                   0            1        0     0   \n",
       "\n",
       "               virtual participation  \n",
       "mathyadriana                       0  \n",
       "mathprofcarrie                     1  \n",
       "pwr2dppl                           0  \n",
       "xl772                              0  \n",
       "WanderingPoint                     0  \n",
       "...                              ...  \n",
       "superyarn                          0  \n",
       "dbdoughe                           0  \n",
       "cordesm                            0  \n",
       "f_futamura                         0  \n",
       "noellebeckman                      0  \n",
       "\n",
       "[328 rows x 35 columns]"
      ]
     },
     "execution_count": 6,
     "metadata": {},
     "output_type": "execute_result"
    }
   ],
   "source": [
    "df_codes = pd.DataFrame(columns = codes)\n",
    "num_tweets_retweets = np.zeros(len(tweeters))\n",
    "for i in range(len(tweeters)):\n",
    "    df_temp = df[df['user_username'] == tweeters[i]]\n",
    "    num_tweets_retweets[i] = len(df_temp)\n",
    "    #sum the all codes column\n",
    "    codes_sum_temp = df_temp['all codes'].sum()\n",
    "    #make a dictionary of the codes and how many times they appear in codes_sum_temp\n",
    "    codes_dict_temp = {i:codes_sum_temp.count(i) for i in codes}\n",
    "    #make the dictionary a dataframe\n",
    "    codes_dict_temp_df = pd.DataFrame.from_dict([codes_dict_temp])\n",
    "    #add the dictionary to the dataframe\n",
    "    df_codes = pd.concat([df_codes,codes_dict_temp_df], ignore_index=True)\n",
    "#make the indices the tweeters' names\n",
    "df_codes.index = tweeters\n",
    "df_codes"
   ]
  },
  {
   "cell_type": "code",
   "execution_count": 7,
   "metadata": {},
   "outputs": [],
   "source": [
    "#make the dataframe into a numpy array\n",
    "df_codes_array = df_codes.to_numpy()\n",
    "df_codes_array\n",
    "df_codes_array=df_codes_array.astype('i')"
   ]
  },
  {
   "cell_type": "code",
   "execution_count": 8,
   "metadata": {},
   "outputs": [
    {
     "name": "stdout",
     "output_type": "stream",
     "text": [
      "0.09523809523809523\n"
     ]
    }
   ],
   "source": [
    "#testing cause aaaaahhh\n",
    "df_codes_array\n",
    "df_temp = df[df['user_username'] == 'mathprofcarrie']\n",
    "len(df_temp)\n",
    "print(12/126)"
   ]
  },
  {
   "cell_type": "code",
   "execution_count": 9,
   "metadata": {},
   "outputs": [
    {
     "data": {
      "text/plain": [
       "array([[0.07692308, 0.        , 0.        , ..., 0.        , 0.        ,\n",
       "        0.        ],\n",
       "       [0.11904762, 0.01587302, 0.        , ..., 0.0952381 , 0.        ,\n",
       "        0.00793651],\n",
       "       [0.14851485, 0.01980198, 0.00990099, ..., 0.08910891, 0.        ,\n",
       "        0.        ],\n",
       "       ...,\n",
       "       [0.        , 0.        , 0.        , ..., 0.        , 0.        ,\n",
       "        0.        ],\n",
       "       [0.        , 0.        , 0.        , ..., 0.        , 0.        ,\n",
       "        0.        ],\n",
       "       [0.        , 0.        , 0.        , ..., 0.        , 0.        ,\n",
       "        0.        ]])"
      ]
     },
     "execution_count": 9,
     "metadata": {},
     "output_type": "execute_result"
    }
   ],
   "source": [
    "#let's try normalizing because data be wild\n",
    "#divide each row by the number of tweets/retweets\n",
    "df_codes_array_norm_tweet = np.zeros((len(tweeters),len(codes)))\n",
    "for i in range(len(tweeters)):\n",
    "    df_codes_array_norm_tweet[i] = df_codes_array[i]/num_tweets_retweets[i]\n",
    "df_codes_array_norm_tweet       "
   ]
  },
  {
   "cell_type": "markdown",
   "metadata": {},
   "source": [
    "## Persistent Homology"
   ]
  },
  {
   "cell_type": "code",
   "execution_count": 10,
   "metadata": {},
   "outputs": [
    {
     "data": {
      "application/vnd.plotly.v1+json": {
       "config": {
        "plotlyServerURL": "https://plot.ly"
       },
       "data": [
        {
         "hoverinfo": "none",
         "line": {
          "color": "black",
          "dash": "dash",
          "width": 1
         },
         "mode": "lines",
         "showlegend": false,
         "type": "scatter",
         "x": [
          -2.46,
          125.46
         ],
         "y": [
          -2.46,
          125.46
         ]
        },
        {
         "hoverinfo": "text",
         "hovertext": [
          "(0.0, 1.0), multiplicity: 23",
          "(0.0, 1.0), multiplicity: 23",
          "(0.0, 1.0), multiplicity: 23",
          "(0.0, 1.0), multiplicity: 23",
          "(0.0, 1.0), multiplicity: 23",
          "(0.0, 1.0), multiplicity: 23",
          "(0.0, 1.0), multiplicity: 23",
          "(0.0, 1.0), multiplicity: 23",
          "(0.0, 1.0), multiplicity: 23",
          "(0.0, 1.0), multiplicity: 23",
          "(0.0, 1.0), multiplicity: 23",
          "(0.0, 1.0), multiplicity: 23",
          "(0.0, 1.0), multiplicity: 23",
          "(0.0, 1.0), multiplicity: 23",
          "(0.0, 1.0), multiplicity: 23",
          "(0.0, 1.0), multiplicity: 23",
          "(0.0, 1.0), multiplicity: 23",
          "(0.0, 1.0), multiplicity: 23",
          "(0.0, 1.0), multiplicity: 23",
          "(0.0, 1.0), multiplicity: 23",
          "(0.0, 1.0), multiplicity: 23",
          "(0.0, 1.0), multiplicity: 23",
          "(0.0, 1.0), multiplicity: 23",
          "(0.0, 2.0), multiplicity: 45",
          "(0.0, 2.0), multiplicity: 45",
          "(0.0, 2.0), multiplicity: 45",
          "(0.0, 2.0), multiplicity: 45",
          "(0.0, 2.0), multiplicity: 45",
          "(0.0, 2.0), multiplicity: 45",
          "(0.0, 2.0), multiplicity: 45",
          "(0.0, 2.0), multiplicity: 45",
          "(0.0, 2.0), multiplicity: 45",
          "(0.0, 2.0), multiplicity: 45",
          "(0.0, 2.0), multiplicity: 45",
          "(0.0, 2.0), multiplicity: 45",
          "(0.0, 2.0), multiplicity: 45",
          "(0.0, 2.0), multiplicity: 45",
          "(0.0, 2.0), multiplicity: 45",
          "(0.0, 2.0), multiplicity: 45",
          "(0.0, 2.0), multiplicity: 45",
          "(0.0, 2.0), multiplicity: 45",
          "(0.0, 2.0), multiplicity: 45",
          "(0.0, 2.0), multiplicity: 45",
          "(0.0, 2.0), multiplicity: 45",
          "(0.0, 2.0), multiplicity: 45",
          "(0.0, 2.0), multiplicity: 45",
          "(0.0, 2.0), multiplicity: 45",
          "(0.0, 2.0), multiplicity: 45",
          "(0.0, 2.0), multiplicity: 45",
          "(0.0, 2.0), multiplicity: 45",
          "(0.0, 2.0), multiplicity: 45",
          "(0.0, 2.0), multiplicity: 45",
          "(0.0, 2.0), multiplicity: 45",
          "(0.0, 2.0), multiplicity: 45",
          "(0.0, 2.0), multiplicity: 45",
          "(0.0, 2.0), multiplicity: 45",
          "(0.0, 2.0), multiplicity: 45",
          "(0.0, 2.0), multiplicity: 45",
          "(0.0, 2.0), multiplicity: 45",
          "(0.0, 2.0), multiplicity: 45",
          "(0.0, 2.0), multiplicity: 45",
          "(0.0, 2.0), multiplicity: 45",
          "(0.0, 2.0), multiplicity: 45",
          "(0.0, 2.0), multiplicity: 45",
          "(0.0, 2.0), multiplicity: 45",
          "(0.0, 2.0), multiplicity: 45",
          "(0.0, 2.0), multiplicity: 45",
          "(0.0, 2.0), multiplicity: 45",
          "(0.0, 3.0), multiplicity: 21",
          "(0.0, 3.0), multiplicity: 21",
          "(0.0, 3.0), multiplicity: 21",
          "(0.0, 3.0), multiplicity: 21",
          "(0.0, 3.0), multiplicity: 21",
          "(0.0, 3.0), multiplicity: 21",
          "(0.0, 3.0), multiplicity: 21",
          "(0.0, 3.0), multiplicity: 21",
          "(0.0, 3.0), multiplicity: 21",
          "(0.0, 3.0), multiplicity: 21",
          "(0.0, 3.0), multiplicity: 21",
          "(0.0, 3.0), multiplicity: 21",
          "(0.0, 3.0), multiplicity: 21",
          "(0.0, 3.0), multiplicity: 21",
          "(0.0, 3.0), multiplicity: 21",
          "(0.0, 3.0), multiplicity: 21",
          "(0.0, 3.0), multiplicity: 21",
          "(0.0, 3.0), multiplicity: 21",
          "(0.0, 3.0), multiplicity: 21",
          "(0.0, 3.0), multiplicity: 21",
          "(0.0, 3.0), multiplicity: 21",
          "(0.0, 4.0), multiplicity: 10",
          "(0.0, 4.0), multiplicity: 10",
          "(0.0, 4.0), multiplicity: 10",
          "(0.0, 4.0), multiplicity: 10",
          "(0.0, 4.0), multiplicity: 10",
          "(0.0, 4.0), multiplicity: 10",
          "(0.0, 4.0), multiplicity: 10",
          "(0.0, 4.0), multiplicity: 10",
          "(0.0, 4.0), multiplicity: 10",
          "(0.0, 4.0), multiplicity: 10",
          "(0.0, 5.0), multiplicity: 12",
          "(0.0, 5.0), multiplicity: 12",
          "(0.0, 5.0), multiplicity: 12",
          "(0.0, 5.0), multiplicity: 12",
          "(0.0, 5.0), multiplicity: 12",
          "(0.0, 5.0), multiplicity: 12",
          "(0.0, 5.0), multiplicity: 12",
          "(0.0, 5.0), multiplicity: 12",
          "(0.0, 5.0), multiplicity: 12",
          "(0.0, 5.0), multiplicity: 12",
          "(0.0, 5.0), multiplicity: 12",
          "(0.0, 5.0), multiplicity: 12",
          "(0.0, 6.0), multiplicity: 9",
          "(0.0, 6.0), multiplicity: 9",
          "(0.0, 6.0), multiplicity: 9",
          "(0.0, 6.0), multiplicity: 9",
          "(0.0, 6.0), multiplicity: 9",
          "(0.0, 6.0), multiplicity: 9",
          "(0.0, 6.0), multiplicity: 9",
          "(0.0, 6.0), multiplicity: 9",
          "(0.0, 6.0), multiplicity: 9",
          "(0.0, 7.0), multiplicity: 5",
          "(0.0, 7.0), multiplicity: 5",
          "(0.0, 7.0), multiplicity: 5",
          "(0.0, 7.0), multiplicity: 5",
          "(0.0, 7.0), multiplicity: 5",
          "(0.0, 8.0), multiplicity: 8",
          "(0.0, 8.0), multiplicity: 8",
          "(0.0, 8.0), multiplicity: 8",
          "(0.0, 8.0), multiplicity: 8",
          "(0.0, 8.0), multiplicity: 8",
          "(0.0, 8.0), multiplicity: 8",
          "(0.0, 8.0), multiplicity: 8",
          "(0.0, 8.0), multiplicity: 8",
          "(0.0, 9.0), multiplicity: 7",
          "(0.0, 9.0), multiplicity: 7",
          "(0.0, 9.0), multiplicity: 7",
          "(0.0, 9.0), multiplicity: 7",
          "(0.0, 9.0), multiplicity: 7",
          "(0.0, 9.0), multiplicity: 7",
          "(0.0, 9.0), multiplicity: 7",
          "(0.0, 10.0), multiplicity: 4",
          "(0.0, 10.0), multiplicity: 4",
          "(0.0, 10.0), multiplicity: 4",
          "(0.0, 10.0), multiplicity: 4",
          "(0.0, 11.0), multiplicity: 5",
          "(0.0, 11.0), multiplicity: 5",
          "(0.0, 11.0), multiplicity: 5",
          "(0.0, 11.0), multiplicity: 5",
          "(0.0, 11.0), multiplicity: 5",
          "(0.0, 12.0)",
          "(0.0, 13.0), multiplicity: 2",
          "(0.0, 13.0), multiplicity: 2",
          "(0.0, 14.0)",
          "(0.0, 15.0)",
          "(0.0, 19.0)",
          "(0.0, 20.0), multiplicity: 4",
          "(0.0, 20.0), multiplicity: 4",
          "(0.0, 20.0), multiplicity: 4",
          "(0.0, 20.0), multiplicity: 4",
          "(0.0, 22.0)",
          "(0.0, 25.0)",
          "(0.0, 27.0)",
          "(0.0, 32.0)",
          "(0.0, 33.0)",
          "(0.0, 34.0)",
          "(0.0, 37.0)",
          "(0.0, 93.0)",
          "(0.0, 107.0)",
          "(0.0, 114.0)",
          "(0.0, 122.0)",
          "(0.0, 123.0)"
         ],
         "mode": "markers",
         "name": "H0",
         "type": "scatter",
         "x": [
          0,
          0,
          0,
          0,
          0,
          0,
          0,
          0,
          0,
          0,
          0,
          0,
          0,
          0,
          0,
          0,
          0,
          0,
          0,
          0,
          0,
          0,
          0,
          0,
          0,
          0,
          0,
          0,
          0,
          0,
          0,
          0,
          0,
          0,
          0,
          0,
          0,
          0,
          0,
          0,
          0,
          0,
          0,
          0,
          0,
          0,
          0,
          0,
          0,
          0,
          0,
          0,
          0,
          0,
          0,
          0,
          0,
          0,
          0,
          0,
          0,
          0,
          0,
          0,
          0,
          0,
          0,
          0,
          0,
          0,
          0,
          0,
          0,
          0,
          0,
          0,
          0,
          0,
          0,
          0,
          0,
          0,
          0,
          0,
          0,
          0,
          0,
          0,
          0,
          0,
          0,
          0,
          0,
          0,
          0,
          0,
          0,
          0,
          0,
          0,
          0,
          0,
          0,
          0,
          0,
          0,
          0,
          0,
          0,
          0,
          0,
          0,
          0,
          0,
          0,
          0,
          0,
          0,
          0,
          0,
          0,
          0,
          0,
          0,
          0,
          0,
          0,
          0,
          0,
          0,
          0,
          0,
          0,
          0,
          0,
          0,
          0,
          0,
          0,
          0,
          0,
          0,
          0,
          0,
          0,
          0,
          0,
          0,
          0,
          0,
          0,
          0,
          0,
          0,
          0,
          0,
          0,
          0,
          0,
          0,
          0,
          0,
          0,
          0,
          0,
          0,
          0,
          0,
          0,
          0,
          0
         ],
         "y": [
          1,
          1,
          1,
          1,
          1,
          1,
          1,
          1,
          1,
          1,
          1,
          1,
          1,
          1,
          1,
          1,
          1,
          1,
          1,
          1,
          1,
          1,
          1,
          2,
          2,
          2,
          2,
          2,
          2,
          2,
          2,
          2,
          2,
          2,
          2,
          2,
          2,
          2,
          2,
          2,
          2,
          2,
          2,
          2,
          2,
          2,
          2,
          2,
          2,
          2,
          2,
          2,
          2,
          2,
          2,
          2,
          2,
          2,
          2,
          2,
          2,
          2,
          2,
          2,
          2,
          2,
          2,
          2,
          3,
          3,
          3,
          3,
          3,
          3,
          3,
          3,
          3,
          3,
          3,
          3,
          3,
          3,
          3,
          3,
          3,
          3,
          3,
          3,
          3,
          4,
          4,
          4,
          4,
          4,
          4,
          4,
          4,
          4,
          4,
          5,
          5,
          5,
          5,
          5,
          5,
          5,
          5,
          5,
          5,
          5,
          5,
          6,
          6,
          6,
          6,
          6,
          6,
          6,
          6,
          6,
          7,
          7,
          7,
          7,
          7,
          8,
          8,
          8,
          8,
          8,
          8,
          8,
          8,
          9,
          9,
          9,
          9,
          9,
          9,
          9,
          10,
          10,
          10,
          10,
          11,
          11,
          11,
          11,
          11,
          12,
          13,
          13,
          14,
          15,
          19,
          20,
          20,
          20,
          20,
          22,
          25,
          27,
          32,
          33,
          34,
          37,
          93,
          107,
          114,
          122,
          123
         ]
        },
        {
         "hoverinfo": "text",
         "hovertext": [
          "(37.0, 38.0)",
          "(21.0, 22.0)",
          "(19.0, 20.0)",
          "(16.0, 17.0)",
          "(12.0, 14.0)",
          "(12.0, 15.0)",
          "(11.0, 13.0)",
          "(11.0, 12.0), multiplicity: 2",
          "(11.0, 12.0), multiplicity: 2",
          "(10.0, 11.0), multiplicity: 3",
          "(10.0, 11.0), multiplicity: 3",
          "(10.0, 12.0)",
          "(10.0, 11.0), multiplicity: 3",
          "(9.0, 11.0), multiplicity: 2",
          "(9.0, 10.0), multiplicity: 2",
          "(9.0, 10.0), multiplicity: 2",
          "(9.0, 11.0), multiplicity: 2",
          "(8.0, 9.0)",
          "(7.0, 8.0)",
          "(6.0, 7.0)",
          "(5.0, 6.0), multiplicity: 3",
          "(5.0, 6.0), multiplicity: 3",
          "(5.0, 6.0), multiplicity: 3",
          "(4.0, 5.0)",
          "(3.0, 4.0), multiplicity: 6",
          "(3.0, 4.0), multiplicity: 6",
          "(3.0, 4.0), multiplicity: 6",
          "(3.0, 4.0), multiplicity: 6",
          "(3.0, 4.0), multiplicity: 6",
          "(3.0, 4.0), multiplicity: 6",
          "(2.0, 3.0), multiplicity: 8",
          "(2.0, 3.0), multiplicity: 8",
          "(2.0, 3.0), multiplicity: 8",
          "(2.0, 3.0), multiplicity: 8",
          "(2.0, 3.0), multiplicity: 8",
          "(2.0, 3.0), multiplicity: 8",
          "(2.0, 3.0), multiplicity: 8",
          "(2.0, 3.0), multiplicity: 8"
         ],
         "mode": "markers",
         "name": "H1",
         "type": "scatter",
         "x": [
          37,
          21,
          19,
          16,
          12,
          12,
          11,
          11,
          11,
          10,
          10,
          10,
          10,
          9,
          9,
          9,
          9,
          8,
          7,
          6,
          5,
          5,
          5,
          4,
          3,
          3,
          3,
          3,
          3,
          3,
          2,
          2,
          2,
          2,
          2,
          2,
          2,
          2
         ],
         "y": [
          38,
          22,
          20,
          17,
          14,
          15,
          13,
          12,
          12,
          11,
          11,
          12,
          11,
          11,
          10,
          10,
          11,
          9,
          8,
          7,
          6,
          6,
          6,
          5,
          4,
          4,
          4,
          4,
          4,
          4,
          3,
          3,
          3,
          3,
          3,
          3,
          3,
          3
         ]
        },
        {
         "hoverinfo": "text",
         "hovertext": [
          "(13.0, 14.0)",
          "(7.0, 8.0)",
          "(5.0, 6.0)",
          "(4.0, 5.0)",
          "(3.0, 4.0), multiplicity: 4",
          "(3.0, 4.0), multiplicity: 4",
          "(3.0, 4.0), multiplicity: 4",
          "(3.0, 4.0), multiplicity: 4"
         ],
         "mode": "markers",
         "name": "H2",
         "type": "scatter",
         "x": [
          13,
          7,
          5,
          4,
          3,
          3,
          3,
          3
         ],
         "y": [
          14,
          8,
          6,
          5,
          4,
          4,
          4,
          4
         ]
        }
       ],
       "layout": {
        "height": 500,
        "plot_bgcolor": "white",
        "template": {
         "data": {
          "bar": [
           {
            "error_x": {
             "color": "#2a3f5f"
            },
            "error_y": {
             "color": "#2a3f5f"
            },
            "marker": {
             "line": {
              "color": "#E5ECF6",
              "width": 0.5
             },
             "pattern": {
              "fillmode": "overlay",
              "size": 10,
              "solidity": 0.2
             }
            },
            "type": "bar"
           }
          ],
          "barpolar": [
           {
            "marker": {
             "line": {
              "color": "#E5ECF6",
              "width": 0.5
             },
             "pattern": {
              "fillmode": "overlay",
              "size": 10,
              "solidity": 0.2
             }
            },
            "type": "barpolar"
           }
          ],
          "carpet": [
           {
            "aaxis": {
             "endlinecolor": "#2a3f5f",
             "gridcolor": "white",
             "linecolor": "white",
             "minorgridcolor": "white",
             "startlinecolor": "#2a3f5f"
            },
            "baxis": {
             "endlinecolor": "#2a3f5f",
             "gridcolor": "white",
             "linecolor": "white",
             "minorgridcolor": "white",
             "startlinecolor": "#2a3f5f"
            },
            "type": "carpet"
           }
          ],
          "choropleth": [
           {
            "colorbar": {
             "outlinewidth": 0,
             "ticks": ""
            },
            "type": "choropleth"
           }
          ],
          "contour": [
           {
            "colorbar": {
             "outlinewidth": 0,
             "ticks": ""
            },
            "colorscale": [
             [
              0,
              "#0d0887"
             ],
             [
              0.1111111111111111,
              "#46039f"
             ],
             [
              0.2222222222222222,
              "#7201a8"
             ],
             [
              0.3333333333333333,
              "#9c179e"
             ],
             [
              0.4444444444444444,
              "#bd3786"
             ],
             [
              0.5555555555555556,
              "#d8576b"
             ],
             [
              0.6666666666666666,
              "#ed7953"
             ],
             [
              0.7777777777777778,
              "#fb9f3a"
             ],
             [
              0.8888888888888888,
              "#fdca26"
             ],
             [
              1,
              "#f0f921"
             ]
            ],
            "type": "contour"
           }
          ],
          "contourcarpet": [
           {
            "colorbar": {
             "outlinewidth": 0,
             "ticks": ""
            },
            "type": "contourcarpet"
           }
          ],
          "heatmap": [
           {
            "colorbar": {
             "outlinewidth": 0,
             "ticks": ""
            },
            "colorscale": [
             [
              0,
              "#0d0887"
             ],
             [
              0.1111111111111111,
              "#46039f"
             ],
             [
              0.2222222222222222,
              "#7201a8"
             ],
             [
              0.3333333333333333,
              "#9c179e"
             ],
             [
              0.4444444444444444,
              "#bd3786"
             ],
             [
              0.5555555555555556,
              "#d8576b"
             ],
             [
              0.6666666666666666,
              "#ed7953"
             ],
             [
              0.7777777777777778,
              "#fb9f3a"
             ],
             [
              0.8888888888888888,
              "#fdca26"
             ],
             [
              1,
              "#f0f921"
             ]
            ],
            "type": "heatmap"
           }
          ],
          "heatmapgl": [
           {
            "colorbar": {
             "outlinewidth": 0,
             "ticks": ""
            },
            "colorscale": [
             [
              0,
              "#0d0887"
             ],
             [
              0.1111111111111111,
              "#46039f"
             ],
             [
              0.2222222222222222,
              "#7201a8"
             ],
             [
              0.3333333333333333,
              "#9c179e"
             ],
             [
              0.4444444444444444,
              "#bd3786"
             ],
             [
              0.5555555555555556,
              "#d8576b"
             ],
             [
              0.6666666666666666,
              "#ed7953"
             ],
             [
              0.7777777777777778,
              "#fb9f3a"
             ],
             [
              0.8888888888888888,
              "#fdca26"
             ],
             [
              1,
              "#f0f921"
             ]
            ],
            "type": "heatmapgl"
           }
          ],
          "histogram": [
           {
            "marker": {
             "pattern": {
              "fillmode": "overlay",
              "size": 10,
              "solidity": 0.2
             }
            },
            "type": "histogram"
           }
          ],
          "histogram2d": [
           {
            "colorbar": {
             "outlinewidth": 0,
             "ticks": ""
            },
            "colorscale": [
             [
              0,
              "#0d0887"
             ],
             [
              0.1111111111111111,
              "#46039f"
             ],
             [
              0.2222222222222222,
              "#7201a8"
             ],
             [
              0.3333333333333333,
              "#9c179e"
             ],
             [
              0.4444444444444444,
              "#bd3786"
             ],
             [
              0.5555555555555556,
              "#d8576b"
             ],
             [
              0.6666666666666666,
              "#ed7953"
             ],
             [
              0.7777777777777778,
              "#fb9f3a"
             ],
             [
              0.8888888888888888,
              "#fdca26"
             ],
             [
              1,
              "#f0f921"
             ]
            ],
            "type": "histogram2d"
           }
          ],
          "histogram2dcontour": [
           {
            "colorbar": {
             "outlinewidth": 0,
             "ticks": ""
            },
            "colorscale": [
             [
              0,
              "#0d0887"
             ],
             [
              0.1111111111111111,
              "#46039f"
             ],
             [
              0.2222222222222222,
              "#7201a8"
             ],
             [
              0.3333333333333333,
              "#9c179e"
             ],
             [
              0.4444444444444444,
              "#bd3786"
             ],
             [
              0.5555555555555556,
              "#d8576b"
             ],
             [
              0.6666666666666666,
              "#ed7953"
             ],
             [
              0.7777777777777778,
              "#fb9f3a"
             ],
             [
              0.8888888888888888,
              "#fdca26"
             ],
             [
              1,
              "#f0f921"
             ]
            ],
            "type": "histogram2dcontour"
           }
          ],
          "mesh3d": [
           {
            "colorbar": {
             "outlinewidth": 0,
             "ticks": ""
            },
            "type": "mesh3d"
           }
          ],
          "parcoords": [
           {
            "line": {
             "colorbar": {
              "outlinewidth": 0,
              "ticks": ""
             }
            },
            "type": "parcoords"
           }
          ],
          "pie": [
           {
            "automargin": true,
            "type": "pie"
           }
          ],
          "scatter": [
           {
            "fillpattern": {
             "fillmode": "overlay",
             "size": 10,
             "solidity": 0.2
            },
            "type": "scatter"
           }
          ],
          "scatter3d": [
           {
            "line": {
             "colorbar": {
              "outlinewidth": 0,
              "ticks": ""
             }
            },
            "marker": {
             "colorbar": {
              "outlinewidth": 0,
              "ticks": ""
             }
            },
            "type": "scatter3d"
           }
          ],
          "scattercarpet": [
           {
            "marker": {
             "colorbar": {
              "outlinewidth": 0,
              "ticks": ""
             }
            },
            "type": "scattercarpet"
           }
          ],
          "scattergeo": [
           {
            "marker": {
             "colorbar": {
              "outlinewidth": 0,
              "ticks": ""
             }
            },
            "type": "scattergeo"
           }
          ],
          "scattergl": [
           {
            "marker": {
             "colorbar": {
              "outlinewidth": 0,
              "ticks": ""
             }
            },
            "type": "scattergl"
           }
          ],
          "scattermapbox": [
           {
            "marker": {
             "colorbar": {
              "outlinewidth": 0,
              "ticks": ""
             }
            },
            "type": "scattermapbox"
           }
          ],
          "scatterpolar": [
           {
            "marker": {
             "colorbar": {
              "outlinewidth": 0,
              "ticks": ""
             }
            },
            "type": "scatterpolar"
           }
          ],
          "scatterpolargl": [
           {
            "marker": {
             "colorbar": {
              "outlinewidth": 0,
              "ticks": ""
             }
            },
            "type": "scatterpolargl"
           }
          ],
          "scatterternary": [
           {
            "marker": {
             "colorbar": {
              "outlinewidth": 0,
              "ticks": ""
             }
            },
            "type": "scatterternary"
           }
          ],
          "surface": [
           {
            "colorbar": {
             "outlinewidth": 0,
             "ticks": ""
            },
            "colorscale": [
             [
              0,
              "#0d0887"
             ],
             [
              0.1111111111111111,
              "#46039f"
             ],
             [
              0.2222222222222222,
              "#7201a8"
             ],
             [
              0.3333333333333333,
              "#9c179e"
             ],
             [
              0.4444444444444444,
              "#bd3786"
             ],
             [
              0.5555555555555556,
              "#d8576b"
             ],
             [
              0.6666666666666666,
              "#ed7953"
             ],
             [
              0.7777777777777778,
              "#fb9f3a"
             ],
             [
              0.8888888888888888,
              "#fdca26"
             ],
             [
              1,
              "#f0f921"
             ]
            ],
            "type": "surface"
           }
          ],
          "table": [
           {
            "cells": {
             "fill": {
              "color": "#EBF0F8"
             },
             "line": {
              "color": "white"
             }
            },
            "header": {
             "fill": {
              "color": "#C8D4E3"
             },
             "line": {
              "color": "white"
             }
            },
            "type": "table"
           }
          ]
         },
         "layout": {
          "annotationdefaults": {
           "arrowcolor": "#2a3f5f",
           "arrowhead": 0,
           "arrowwidth": 1
          },
          "autotypenumbers": "strict",
          "coloraxis": {
           "colorbar": {
            "outlinewidth": 0,
            "ticks": ""
           }
          },
          "colorscale": {
           "diverging": [
            [
             0,
             "#8e0152"
            ],
            [
             0.1,
             "#c51b7d"
            ],
            [
             0.2,
             "#de77ae"
            ],
            [
             0.3,
             "#f1b6da"
            ],
            [
             0.4,
             "#fde0ef"
            ],
            [
             0.5,
             "#f7f7f7"
            ],
            [
             0.6,
             "#e6f5d0"
            ],
            [
             0.7,
             "#b8e186"
            ],
            [
             0.8,
             "#7fbc41"
            ],
            [
             0.9,
             "#4d9221"
            ],
            [
             1,
             "#276419"
            ]
           ],
           "sequential": [
            [
             0,
             "#0d0887"
            ],
            [
             0.1111111111111111,
             "#46039f"
            ],
            [
             0.2222222222222222,
             "#7201a8"
            ],
            [
             0.3333333333333333,
             "#9c179e"
            ],
            [
             0.4444444444444444,
             "#bd3786"
            ],
            [
             0.5555555555555556,
             "#d8576b"
            ],
            [
             0.6666666666666666,
             "#ed7953"
            ],
            [
             0.7777777777777778,
             "#fb9f3a"
            ],
            [
             0.8888888888888888,
             "#fdca26"
            ],
            [
             1,
             "#f0f921"
            ]
           ],
           "sequentialminus": [
            [
             0,
             "#0d0887"
            ],
            [
             0.1111111111111111,
             "#46039f"
            ],
            [
             0.2222222222222222,
             "#7201a8"
            ],
            [
             0.3333333333333333,
             "#9c179e"
            ],
            [
             0.4444444444444444,
             "#bd3786"
            ],
            [
             0.5555555555555556,
             "#d8576b"
            ],
            [
             0.6666666666666666,
             "#ed7953"
            ],
            [
             0.7777777777777778,
             "#fb9f3a"
            ],
            [
             0.8888888888888888,
             "#fdca26"
            ],
            [
             1,
             "#f0f921"
            ]
           ]
          },
          "colorway": [
           "#636efa",
           "#EF553B",
           "#00cc96",
           "#ab63fa",
           "#FFA15A",
           "#19d3f3",
           "#FF6692",
           "#B6E880",
           "#FF97FF",
           "#FECB52"
          ],
          "font": {
           "color": "#2a3f5f"
          },
          "geo": {
           "bgcolor": "white",
           "lakecolor": "white",
           "landcolor": "#E5ECF6",
           "showlakes": true,
           "showland": true,
           "subunitcolor": "white"
          },
          "hoverlabel": {
           "align": "left"
          },
          "hovermode": "closest",
          "mapbox": {
           "style": "light"
          },
          "paper_bgcolor": "white",
          "plot_bgcolor": "#E5ECF6",
          "polar": {
           "angularaxis": {
            "gridcolor": "white",
            "linecolor": "white",
            "ticks": ""
           },
           "bgcolor": "#E5ECF6",
           "radialaxis": {
            "gridcolor": "white",
            "linecolor": "white",
            "ticks": ""
           }
          },
          "scene": {
           "xaxis": {
            "backgroundcolor": "#E5ECF6",
            "gridcolor": "white",
            "gridwidth": 2,
            "linecolor": "white",
            "showbackground": true,
            "ticks": "",
            "zerolinecolor": "white"
           },
           "yaxis": {
            "backgroundcolor": "#E5ECF6",
            "gridcolor": "white",
            "gridwidth": 2,
            "linecolor": "white",
            "showbackground": true,
            "ticks": "",
            "zerolinecolor": "white"
           },
           "zaxis": {
            "backgroundcolor": "#E5ECF6",
            "gridcolor": "white",
            "gridwidth": 2,
            "linecolor": "white",
            "showbackground": true,
            "ticks": "",
            "zerolinecolor": "white"
           }
          },
          "shapedefaults": {
           "line": {
            "color": "#2a3f5f"
           }
          },
          "ternary": {
           "aaxis": {
            "gridcolor": "white",
            "linecolor": "white",
            "ticks": ""
           },
           "baxis": {
            "gridcolor": "white",
            "linecolor": "white",
            "ticks": ""
           },
           "bgcolor": "#E5ECF6",
           "caxis": {
            "gridcolor": "white",
            "linecolor": "white",
            "ticks": ""
           }
          },
          "title": {
           "x": 0.05
          },
          "xaxis": {
           "automargin": true,
           "gridcolor": "white",
           "linecolor": "white",
           "ticks": "",
           "title": {
            "standoff": 15
           },
           "zerolinecolor": "white",
           "zerolinewidth": 2
          },
          "yaxis": {
           "automargin": true,
           "gridcolor": "white",
           "linecolor": "white",
           "ticks": "",
           "title": {
            "standoff": 15
           },
           "zerolinecolor": "white",
           "zerolinewidth": 2
          }
         }
        },
        "width": 500,
        "xaxis": {
         "autorange": false,
         "exponentformat": "e",
         "linecolor": "black",
         "linewidth": 1,
         "mirror": false,
         "range": [
          -2.46,
          125.46
         ],
         "showexponent": "all",
         "showline": true,
         "side": "bottom",
         "ticks": "outside",
         "title": {
          "text": "Birth"
         },
         "type": "linear",
         "zeroline": true
        },
        "yaxis": {
         "autorange": false,
         "exponentformat": "e",
         "linecolor": "black",
         "linewidth": 1,
         "mirror": false,
         "range": [
          -2.46,
          125.46
         ],
         "scaleanchor": "x",
         "scaleratio": 1,
         "showexponent": "all",
         "showline": true,
         "side": "left",
         "ticks": "outside",
         "title": {
          "text": "Death"
         },
         "type": "linear",
         "zeroline": true
        }
       }
      }
     },
     "metadata": {},
     "output_type": "display_data"
    }
   ],
   "source": [
    "from gtda.homology import VietorisRipsPersistence\n",
    "from gtda.plotting import plot_diagram\n",
    "\n",
    "persistence = VietorisRipsPersistence(\n",
    "    metric=\"manhattan\",\n",
    "    homology_dimensions=(0,1,2))\n",
    "\n",
    "diagram = persistence.fit_transform(df_codes_array[None,:,:])\n",
    "plot_diagram(diagram[0])\n"
   ]
  },
  {
   "cell_type": "code",
   "execution_count": 11,
   "metadata": {},
   "outputs": [
    {
     "data": {
      "application/vnd.plotly.v1+json": {
       "config": {
        "plotlyServerURL": "https://plot.ly"
       },
       "data": [
        {
         "hoverinfo": "none",
         "line": {
          "color": "black",
          "dash": "dash",
          "width": 1
         },
         "mode": "lines",
         "showlegend": false,
         "type": "scatter",
         "x": [
          1.28,
          38.72
         ],
         "y": [
          1.28,
          38.72
         ]
        },
        {
         "hoverinfo": "text",
         "hovertext": [
          "(37.0, 38.0)",
          "(21.0, 22.0)",
          "(19.0, 20.0)",
          "(16.0, 17.0)",
          "(12.0, 14.0)",
          "(12.0, 15.0)",
          "(11.0, 13.0)",
          "(11.0, 12.0), multiplicity: 2",
          "(11.0, 12.0), multiplicity: 2",
          "(10.0, 11.0), multiplicity: 3",
          "(10.0, 11.0), multiplicity: 3",
          "(10.0, 12.0)",
          "(10.0, 11.0), multiplicity: 3",
          "(9.0, 11.0), multiplicity: 2",
          "(9.0, 10.0), multiplicity: 2",
          "(9.0, 10.0), multiplicity: 2",
          "(9.0, 11.0), multiplicity: 2",
          "(8.0, 9.0)",
          "(7.0, 8.0)",
          "(6.0, 7.0)",
          "(5.0, 6.0), multiplicity: 3",
          "(5.0, 6.0), multiplicity: 3",
          "(5.0, 6.0), multiplicity: 3",
          "(4.0, 5.0)",
          "(3.0, 4.0), multiplicity: 6",
          "(3.0, 4.0), multiplicity: 6",
          "(3.0, 4.0), multiplicity: 6",
          "(3.0, 4.0), multiplicity: 6",
          "(3.0, 4.0), multiplicity: 6",
          "(3.0, 4.0), multiplicity: 6",
          "(2.0, 3.0), multiplicity: 8",
          "(2.0, 3.0), multiplicity: 8",
          "(2.0, 3.0), multiplicity: 8",
          "(2.0, 3.0), multiplicity: 8",
          "(2.0, 3.0), multiplicity: 8",
          "(2.0, 3.0), multiplicity: 8",
          "(2.0, 3.0), multiplicity: 8",
          "(2.0, 3.0), multiplicity: 8"
         ],
         "mode": "markers",
         "name": "H1",
         "type": "scatter",
         "x": [
          37,
          21,
          19,
          16,
          12,
          12,
          11,
          11,
          11,
          10,
          10,
          10,
          10,
          9,
          9,
          9,
          9,
          8,
          7,
          6,
          5,
          5,
          5,
          4,
          3,
          3,
          3,
          3,
          3,
          3,
          2,
          2,
          2,
          2,
          2,
          2,
          2,
          2
         ],
         "y": [
          38,
          22,
          20,
          17,
          14,
          15,
          13,
          12,
          12,
          11,
          11,
          12,
          11,
          11,
          10,
          10,
          11,
          9,
          8,
          7,
          6,
          6,
          6,
          5,
          4,
          4,
          4,
          4,
          4,
          4,
          3,
          3,
          3,
          3,
          3,
          3,
          3,
          3
         ]
        },
        {
         "hoverinfo": "text",
         "hovertext": [
          "(13.0, 14.0)",
          "(7.0, 8.0)",
          "(5.0, 6.0)",
          "(4.0, 5.0)",
          "(3.0, 4.0), multiplicity: 4",
          "(3.0, 4.0), multiplicity: 4",
          "(3.0, 4.0), multiplicity: 4",
          "(3.0, 4.0), multiplicity: 4"
         ],
         "mode": "markers",
         "name": "H2",
         "type": "scatter",
         "x": [
          13,
          7,
          5,
          4,
          3,
          3,
          3,
          3
         ],
         "y": [
          14,
          8,
          6,
          5,
          4,
          4,
          4,
          4
         ]
        }
       ],
       "layout": {
        "height": 500,
        "plot_bgcolor": "white",
        "template": {
         "data": {
          "bar": [
           {
            "error_x": {
             "color": "#2a3f5f"
            },
            "error_y": {
             "color": "#2a3f5f"
            },
            "marker": {
             "line": {
              "color": "#E5ECF6",
              "width": 0.5
             },
             "pattern": {
              "fillmode": "overlay",
              "size": 10,
              "solidity": 0.2
             }
            },
            "type": "bar"
           }
          ],
          "barpolar": [
           {
            "marker": {
             "line": {
              "color": "#E5ECF6",
              "width": 0.5
             },
             "pattern": {
              "fillmode": "overlay",
              "size": 10,
              "solidity": 0.2
             }
            },
            "type": "barpolar"
           }
          ],
          "carpet": [
           {
            "aaxis": {
             "endlinecolor": "#2a3f5f",
             "gridcolor": "white",
             "linecolor": "white",
             "minorgridcolor": "white",
             "startlinecolor": "#2a3f5f"
            },
            "baxis": {
             "endlinecolor": "#2a3f5f",
             "gridcolor": "white",
             "linecolor": "white",
             "minorgridcolor": "white",
             "startlinecolor": "#2a3f5f"
            },
            "type": "carpet"
           }
          ],
          "choropleth": [
           {
            "colorbar": {
             "outlinewidth": 0,
             "ticks": ""
            },
            "type": "choropleth"
           }
          ],
          "contour": [
           {
            "colorbar": {
             "outlinewidth": 0,
             "ticks": ""
            },
            "colorscale": [
             [
              0,
              "#0d0887"
             ],
             [
              0.1111111111111111,
              "#46039f"
             ],
             [
              0.2222222222222222,
              "#7201a8"
             ],
             [
              0.3333333333333333,
              "#9c179e"
             ],
             [
              0.4444444444444444,
              "#bd3786"
             ],
             [
              0.5555555555555556,
              "#d8576b"
             ],
             [
              0.6666666666666666,
              "#ed7953"
             ],
             [
              0.7777777777777778,
              "#fb9f3a"
             ],
             [
              0.8888888888888888,
              "#fdca26"
             ],
             [
              1,
              "#f0f921"
             ]
            ],
            "type": "contour"
           }
          ],
          "contourcarpet": [
           {
            "colorbar": {
             "outlinewidth": 0,
             "ticks": ""
            },
            "type": "contourcarpet"
           }
          ],
          "heatmap": [
           {
            "colorbar": {
             "outlinewidth": 0,
             "ticks": ""
            },
            "colorscale": [
             [
              0,
              "#0d0887"
             ],
             [
              0.1111111111111111,
              "#46039f"
             ],
             [
              0.2222222222222222,
              "#7201a8"
             ],
             [
              0.3333333333333333,
              "#9c179e"
             ],
             [
              0.4444444444444444,
              "#bd3786"
             ],
             [
              0.5555555555555556,
              "#d8576b"
             ],
             [
              0.6666666666666666,
              "#ed7953"
             ],
             [
              0.7777777777777778,
              "#fb9f3a"
             ],
             [
              0.8888888888888888,
              "#fdca26"
             ],
             [
              1,
              "#f0f921"
             ]
            ],
            "type": "heatmap"
           }
          ],
          "heatmapgl": [
           {
            "colorbar": {
             "outlinewidth": 0,
             "ticks": ""
            },
            "colorscale": [
             [
              0,
              "#0d0887"
             ],
             [
              0.1111111111111111,
              "#46039f"
             ],
             [
              0.2222222222222222,
              "#7201a8"
             ],
             [
              0.3333333333333333,
              "#9c179e"
             ],
             [
              0.4444444444444444,
              "#bd3786"
             ],
             [
              0.5555555555555556,
              "#d8576b"
             ],
             [
              0.6666666666666666,
              "#ed7953"
             ],
             [
              0.7777777777777778,
              "#fb9f3a"
             ],
             [
              0.8888888888888888,
              "#fdca26"
             ],
             [
              1,
              "#f0f921"
             ]
            ],
            "type": "heatmapgl"
           }
          ],
          "histogram": [
           {
            "marker": {
             "pattern": {
              "fillmode": "overlay",
              "size": 10,
              "solidity": 0.2
             }
            },
            "type": "histogram"
           }
          ],
          "histogram2d": [
           {
            "colorbar": {
             "outlinewidth": 0,
             "ticks": ""
            },
            "colorscale": [
             [
              0,
              "#0d0887"
             ],
             [
              0.1111111111111111,
              "#46039f"
             ],
             [
              0.2222222222222222,
              "#7201a8"
             ],
             [
              0.3333333333333333,
              "#9c179e"
             ],
             [
              0.4444444444444444,
              "#bd3786"
             ],
             [
              0.5555555555555556,
              "#d8576b"
             ],
             [
              0.6666666666666666,
              "#ed7953"
             ],
             [
              0.7777777777777778,
              "#fb9f3a"
             ],
             [
              0.8888888888888888,
              "#fdca26"
             ],
             [
              1,
              "#f0f921"
             ]
            ],
            "type": "histogram2d"
           }
          ],
          "histogram2dcontour": [
           {
            "colorbar": {
             "outlinewidth": 0,
             "ticks": ""
            },
            "colorscale": [
             [
              0,
              "#0d0887"
             ],
             [
              0.1111111111111111,
              "#46039f"
             ],
             [
              0.2222222222222222,
              "#7201a8"
             ],
             [
              0.3333333333333333,
              "#9c179e"
             ],
             [
              0.4444444444444444,
              "#bd3786"
             ],
             [
              0.5555555555555556,
              "#d8576b"
             ],
             [
              0.6666666666666666,
              "#ed7953"
             ],
             [
              0.7777777777777778,
              "#fb9f3a"
             ],
             [
              0.8888888888888888,
              "#fdca26"
             ],
             [
              1,
              "#f0f921"
             ]
            ],
            "type": "histogram2dcontour"
           }
          ],
          "mesh3d": [
           {
            "colorbar": {
             "outlinewidth": 0,
             "ticks": ""
            },
            "type": "mesh3d"
           }
          ],
          "parcoords": [
           {
            "line": {
             "colorbar": {
              "outlinewidth": 0,
              "ticks": ""
             }
            },
            "type": "parcoords"
           }
          ],
          "pie": [
           {
            "automargin": true,
            "type": "pie"
           }
          ],
          "scatter": [
           {
            "fillpattern": {
             "fillmode": "overlay",
             "size": 10,
             "solidity": 0.2
            },
            "type": "scatter"
           }
          ],
          "scatter3d": [
           {
            "line": {
             "colorbar": {
              "outlinewidth": 0,
              "ticks": ""
             }
            },
            "marker": {
             "colorbar": {
              "outlinewidth": 0,
              "ticks": ""
             }
            },
            "type": "scatter3d"
           }
          ],
          "scattercarpet": [
           {
            "marker": {
             "colorbar": {
              "outlinewidth": 0,
              "ticks": ""
             }
            },
            "type": "scattercarpet"
           }
          ],
          "scattergeo": [
           {
            "marker": {
             "colorbar": {
              "outlinewidth": 0,
              "ticks": ""
             }
            },
            "type": "scattergeo"
           }
          ],
          "scattergl": [
           {
            "marker": {
             "colorbar": {
              "outlinewidth": 0,
              "ticks": ""
             }
            },
            "type": "scattergl"
           }
          ],
          "scattermapbox": [
           {
            "marker": {
             "colorbar": {
              "outlinewidth": 0,
              "ticks": ""
             }
            },
            "type": "scattermapbox"
           }
          ],
          "scatterpolar": [
           {
            "marker": {
             "colorbar": {
              "outlinewidth": 0,
              "ticks": ""
             }
            },
            "type": "scatterpolar"
           }
          ],
          "scatterpolargl": [
           {
            "marker": {
             "colorbar": {
              "outlinewidth": 0,
              "ticks": ""
             }
            },
            "type": "scatterpolargl"
           }
          ],
          "scatterternary": [
           {
            "marker": {
             "colorbar": {
              "outlinewidth": 0,
              "ticks": ""
             }
            },
            "type": "scatterternary"
           }
          ],
          "surface": [
           {
            "colorbar": {
             "outlinewidth": 0,
             "ticks": ""
            },
            "colorscale": [
             [
              0,
              "#0d0887"
             ],
             [
              0.1111111111111111,
              "#46039f"
             ],
             [
              0.2222222222222222,
              "#7201a8"
             ],
             [
              0.3333333333333333,
              "#9c179e"
             ],
             [
              0.4444444444444444,
              "#bd3786"
             ],
             [
              0.5555555555555556,
              "#d8576b"
             ],
             [
              0.6666666666666666,
              "#ed7953"
             ],
             [
              0.7777777777777778,
              "#fb9f3a"
             ],
             [
              0.8888888888888888,
              "#fdca26"
             ],
             [
              1,
              "#f0f921"
             ]
            ],
            "type": "surface"
           }
          ],
          "table": [
           {
            "cells": {
             "fill": {
              "color": "#EBF0F8"
             },
             "line": {
              "color": "white"
             }
            },
            "header": {
             "fill": {
              "color": "#C8D4E3"
             },
             "line": {
              "color": "white"
             }
            },
            "type": "table"
           }
          ]
         },
         "layout": {
          "annotationdefaults": {
           "arrowcolor": "#2a3f5f",
           "arrowhead": 0,
           "arrowwidth": 1
          },
          "autotypenumbers": "strict",
          "coloraxis": {
           "colorbar": {
            "outlinewidth": 0,
            "ticks": ""
           }
          },
          "colorscale": {
           "diverging": [
            [
             0,
             "#8e0152"
            ],
            [
             0.1,
             "#c51b7d"
            ],
            [
             0.2,
             "#de77ae"
            ],
            [
             0.3,
             "#f1b6da"
            ],
            [
             0.4,
             "#fde0ef"
            ],
            [
             0.5,
             "#f7f7f7"
            ],
            [
             0.6,
             "#e6f5d0"
            ],
            [
             0.7,
             "#b8e186"
            ],
            [
             0.8,
             "#7fbc41"
            ],
            [
             0.9,
             "#4d9221"
            ],
            [
             1,
             "#276419"
            ]
           ],
           "sequential": [
            [
             0,
             "#0d0887"
            ],
            [
             0.1111111111111111,
             "#46039f"
            ],
            [
             0.2222222222222222,
             "#7201a8"
            ],
            [
             0.3333333333333333,
             "#9c179e"
            ],
            [
             0.4444444444444444,
             "#bd3786"
            ],
            [
             0.5555555555555556,
             "#d8576b"
            ],
            [
             0.6666666666666666,
             "#ed7953"
            ],
            [
             0.7777777777777778,
             "#fb9f3a"
            ],
            [
             0.8888888888888888,
             "#fdca26"
            ],
            [
             1,
             "#f0f921"
            ]
           ],
           "sequentialminus": [
            [
             0,
             "#0d0887"
            ],
            [
             0.1111111111111111,
             "#46039f"
            ],
            [
             0.2222222222222222,
             "#7201a8"
            ],
            [
             0.3333333333333333,
             "#9c179e"
            ],
            [
             0.4444444444444444,
             "#bd3786"
            ],
            [
             0.5555555555555556,
             "#d8576b"
            ],
            [
             0.6666666666666666,
             "#ed7953"
            ],
            [
             0.7777777777777778,
             "#fb9f3a"
            ],
            [
             0.8888888888888888,
             "#fdca26"
            ],
            [
             1,
             "#f0f921"
            ]
           ]
          },
          "colorway": [
           "#636efa",
           "#EF553B",
           "#00cc96",
           "#ab63fa",
           "#FFA15A",
           "#19d3f3",
           "#FF6692",
           "#B6E880",
           "#FF97FF",
           "#FECB52"
          ],
          "font": {
           "color": "#2a3f5f"
          },
          "geo": {
           "bgcolor": "white",
           "lakecolor": "white",
           "landcolor": "#E5ECF6",
           "showlakes": true,
           "showland": true,
           "subunitcolor": "white"
          },
          "hoverlabel": {
           "align": "left"
          },
          "hovermode": "closest",
          "mapbox": {
           "style": "light"
          },
          "paper_bgcolor": "white",
          "plot_bgcolor": "#E5ECF6",
          "polar": {
           "angularaxis": {
            "gridcolor": "white",
            "linecolor": "white",
            "ticks": ""
           },
           "bgcolor": "#E5ECF6",
           "radialaxis": {
            "gridcolor": "white",
            "linecolor": "white",
            "ticks": ""
           }
          },
          "scene": {
           "xaxis": {
            "backgroundcolor": "#E5ECF6",
            "gridcolor": "white",
            "gridwidth": 2,
            "linecolor": "white",
            "showbackground": true,
            "ticks": "",
            "zerolinecolor": "white"
           },
           "yaxis": {
            "backgroundcolor": "#E5ECF6",
            "gridcolor": "white",
            "gridwidth": 2,
            "linecolor": "white",
            "showbackground": true,
            "ticks": "",
            "zerolinecolor": "white"
           },
           "zaxis": {
            "backgroundcolor": "#E5ECF6",
            "gridcolor": "white",
            "gridwidth": 2,
            "linecolor": "white",
            "showbackground": true,
            "ticks": "",
            "zerolinecolor": "white"
           }
          },
          "shapedefaults": {
           "line": {
            "color": "#2a3f5f"
           }
          },
          "ternary": {
           "aaxis": {
            "gridcolor": "white",
            "linecolor": "white",
            "ticks": ""
           },
           "baxis": {
            "gridcolor": "white",
            "linecolor": "white",
            "ticks": ""
           },
           "bgcolor": "#E5ECF6",
           "caxis": {
            "gridcolor": "white",
            "linecolor": "white",
            "ticks": ""
           }
          },
          "title": {
           "x": 0.05
          },
          "xaxis": {
           "automargin": true,
           "gridcolor": "white",
           "linecolor": "white",
           "ticks": "",
           "title": {
            "standoff": 15
           },
           "zerolinecolor": "white",
           "zerolinewidth": 2
          },
          "yaxis": {
           "automargin": true,
           "gridcolor": "white",
           "linecolor": "white",
           "ticks": "",
           "title": {
            "standoff": 15
           },
           "zerolinecolor": "white",
           "zerolinewidth": 2
          }
         }
        },
        "width": 500,
        "xaxis": {
         "autorange": false,
         "exponentformat": "e",
         "linecolor": "black",
         "linewidth": 1,
         "mirror": false,
         "range": [
          1.28,
          38.72
         ],
         "showexponent": "all",
         "showline": true,
         "side": "bottom",
         "ticks": "outside",
         "title": {
          "text": "Birth"
         },
         "type": "linear",
         "zeroline": true
        },
        "yaxis": {
         "autorange": false,
         "exponentformat": "e",
         "linecolor": "black",
         "linewidth": 1,
         "mirror": false,
         "range": [
          1.28,
          38.72
         ],
         "scaleanchor": "x",
         "scaleratio": 1,
         "showexponent": "all",
         "showline": true,
         "side": "left",
         "ticks": "outside",
         "title": {
          "text": "Death"
         },
         "type": "linear",
         "zeroline": true
        }
       }
      }
     },
     "metadata": {},
     "output_type": "display_data"
    }
   ],
   "source": [
    "\n",
    "persistence = VietorisRipsPersistence(\n",
    "    metric=\"manhattan\",\n",
    "    homology_dimensions=(1,2))\n",
    "\n",
    "diagram = persistence.fit_transform(df_codes_array[None,:,:])\n",
    "plot_diagram(diagram[0])"
   ]
  },
  {
   "cell_type": "code",
   "execution_count": 12,
   "metadata": {},
   "outputs": [
    {
     "data": {
      "application/vnd.plotly.v1+json": {
       "config": {
        "plotlyServerURL": "https://plot.ly"
       },
       "data": [
        {
         "hoverinfo": "none",
         "line": {
          "color": "black",
          "dash": "dash",
          "width": 1
         },
         "mode": "lines",
         "showlegend": false,
         "type": "scatter",
         "x": [
          -0.11,
          5.61
         ],
         "y": [
          -0.11,
          5.61
         ]
        },
        {
         "hoverinfo": "text",
         "hovertext": [
          "(0.0, 0.760490357875824)",
          "(0.0, 1.0), multiplicity: 22",
          "(0.0, 1.0), multiplicity: 22",
          "(0.0, 1.0), multiplicity: 22",
          "(0.0, 1.0), multiplicity: 22",
          "(0.0, 1.0), multiplicity: 22",
          "(0.0, 1.0), multiplicity: 22",
          "(0.0, 1.0), multiplicity: 22",
          "(0.0, 1.0), multiplicity: 22",
          "(0.0, 1.0), multiplicity: 22",
          "(0.0, 1.0), multiplicity: 22",
          "(0.0, 1.0), multiplicity: 22",
          "(0.0, 1.0), multiplicity: 22",
          "(0.0, 1.0), multiplicity: 22",
          "(0.0, 1.0), multiplicity: 22",
          "(0.0, 1.0), multiplicity: 22",
          "(0.0, 1.0), multiplicity: 22",
          "(0.0, 1.0), multiplicity: 22",
          "(0.0, 1.0), multiplicity: 22",
          "(0.0, 1.0), multiplicity: 22",
          "(0.0, 1.0), multiplicity: 22",
          "(0.0, 1.0), multiplicity: 22",
          "(0.0, 1.0), multiplicity: 22",
          "(0.0, 1.0257936716079712)",
          "(0.0, 1.0547152757644653)",
          "(0.0, 1.0562770366668701)",
          "(0.0, 1.2000000476837158)",
          "(0.0, 1.25)",
          "(0.0, 1.2666666507720947)",
          "(0.0, 1.3440593481063843)",
          "(0.0, 1.384313702583313)",
          "(0.0, 1.429042935371399)",
          "(0.0, 1.452380895614624)",
          "(0.0, 1.4645849466323853)",
          "(0.0, 1.4901961088180542)",
          "(0.0, 1.5), multiplicity: 3",
          "(0.0, 1.5), multiplicity: 3",
          "(0.0, 1.5), multiplicity: 3",
          "(0.0, 1.5320261716842651)",
          "(0.0, 1.542904257774353)",
          "(0.0, 1.6071428060531616)",
          "(0.0, 1.6666666269302368), multiplicity: 5",
          "(0.0, 1.6666666269302368), multiplicity: 5",
          "(0.0, 1.6666666269302368), multiplicity: 5",
          "(0.0, 1.6666666269302368), multiplicity: 5",
          "(0.0, 1.6666666269302368), multiplicity: 5",
          "(0.0, 1.673076868057251)",
          "(0.0, 1.6778711080551147)",
          "(0.0, 1.75), multiplicity: 2",
          "(0.0, 1.75), multiplicity: 2",
          "(0.0, 1.7777777910232544)",
          "(0.0, 1.7999999523162842), multiplicity: 3",
          "(0.0, 1.7999999523162842), multiplicity: 3",
          "(0.0, 1.7999999523162842), multiplicity: 3",
          "(0.0, 1.8333333730697632)",
          "(0.0, 1.8571428060531616)",
          "(0.0, 1.9166666269302368), multiplicity: 2",
          "(0.0, 1.9166666269302368), multiplicity: 2",
          "(0.0, 1.9696969985961914)",
          "(0.0, 1.975000023841858)",
          "(0.0, 2.0), multiplicity: 63",
          "(0.0, 2.0), multiplicity: 63",
          "(0.0, 2.0), multiplicity: 63",
          "(0.0, 2.0), multiplicity: 63",
          "(0.0, 2.0), multiplicity: 63",
          "(0.0, 2.0), multiplicity: 63",
          "(0.0, 2.0), multiplicity: 63",
          "(0.0, 2.0), multiplicity: 63",
          "(0.0, 2.0), multiplicity: 63",
          "(0.0, 2.0), multiplicity: 63",
          "(0.0, 2.0), multiplicity: 63",
          "(0.0, 2.0), multiplicity: 63",
          "(0.0, 2.0), multiplicity: 63",
          "(0.0, 2.0), multiplicity: 63",
          "(0.0, 2.0), multiplicity: 63",
          "(0.0, 2.0), multiplicity: 63",
          "(0.0, 2.0), multiplicity: 63",
          "(0.0, 2.0), multiplicity: 63",
          "(0.0, 2.0), multiplicity: 63",
          "(0.0, 2.0), multiplicity: 63",
          "(0.0, 2.0), multiplicity: 63",
          "(0.0, 2.0), multiplicity: 63",
          "(0.0, 2.0), multiplicity: 63",
          "(0.0, 2.0), multiplicity: 63",
          "(0.0, 2.0), multiplicity: 63",
          "(0.0, 2.0), multiplicity: 63",
          "(0.0, 2.0), multiplicity: 63",
          "(0.0, 2.0), multiplicity: 63",
          "(0.0, 2.0), multiplicity: 63",
          "(0.0, 2.0), multiplicity: 63",
          "(0.0, 2.0), multiplicity: 63",
          "(0.0, 2.0), multiplicity: 63",
          "(0.0, 2.0), multiplicity: 63",
          "(0.0, 2.0), multiplicity: 63",
          "(0.0, 2.0), multiplicity: 63",
          "(0.0, 2.0), multiplicity: 63",
          "(0.0, 2.0), multiplicity: 63",
          "(0.0, 2.0), multiplicity: 63",
          "(0.0, 2.0), multiplicity: 63",
          "(0.0, 2.0), multiplicity: 63",
          "(0.0, 2.0), multiplicity: 63",
          "(0.0, 2.0), multiplicity: 63",
          "(0.0, 2.0), multiplicity: 63",
          "(0.0, 2.0), multiplicity: 63",
          "(0.0, 2.0), multiplicity: 63",
          "(0.0, 2.0), multiplicity: 63",
          "(0.0, 2.0), multiplicity: 63",
          "(0.0, 2.0), multiplicity: 63",
          "(0.0, 2.0), multiplicity: 63",
          "(0.0, 2.0), multiplicity: 63",
          "(0.0, 2.0), multiplicity: 63",
          "(0.0, 2.0), multiplicity: 63",
          "(0.0, 2.0), multiplicity: 63",
          "(0.0, 2.0), multiplicity: 63",
          "(0.0, 2.0), multiplicity: 63",
          "(0.0, 2.0), multiplicity: 63",
          "(0.0, 2.0), multiplicity: 63",
          "(0.0, 2.0), multiplicity: 63",
          "(0.0, 2.0), multiplicity: 63",
          "(0.0, 2.0), multiplicity: 63",
          "(0.0, 2.0), multiplicity: 63",
          "(0.0, 2.0), multiplicity: 63",
          "(0.0, 2.0), multiplicity: 63",
          "(0.0, 2.06862735748291)",
          "(0.0, 2.0833332538604736), multiplicity: 3",
          "(0.0, 2.0833332538604736), multiplicity: 3",
          "(0.0, 2.0833332538604736), multiplicity: 3",
          "(0.0, 2.142857074737549)",
          "(0.0, 2.1666667461395264), multiplicity: 3",
          "(0.0, 2.1666667461395264), multiplicity: 3",
          "(0.0, 2.1666667461395264), multiplicity: 3",
          "(0.0, 2.200000047683716), multiplicity: 5",
          "(0.0, 2.200000047683716), multiplicity: 5",
          "(0.0, 2.200000047683716), multiplicity: 5",
          "(0.0, 2.200000047683716), multiplicity: 5",
          "(0.0, 2.200000047683716), multiplicity: 5",
          "(0.0, 2.25), multiplicity: 3",
          "(0.0, 2.25), multiplicity: 3",
          "(0.0, 2.25), multiplicity: 3",
          "(0.0, 2.281797409057617)",
          "(0.0, 2.3333332538604736), multiplicity: 4",
          "(0.0, 2.3333332538604736), multiplicity: 4",
          "(0.0, 2.3333332538604736), multiplicity: 4",
          "(0.0, 2.3333332538604736), multiplicity: 4",
          "(0.0, 2.4000000953674316), multiplicity: 3",
          "(0.0, 2.4000000953674316), multiplicity: 3",
          "(0.0, 2.4000000953674316), multiplicity: 3",
          "(0.0, 2.433333396911621)",
          "(0.0, 2.5), multiplicity: 9",
          "(0.0, 2.5), multiplicity: 9",
          "(0.0, 2.5), multiplicity: 9",
          "(0.0, 2.5), multiplicity: 9",
          "(0.0, 2.5), multiplicity: 9",
          "(0.0, 2.5), multiplicity: 9",
          "(0.0, 2.5), multiplicity: 9",
          "(0.0, 2.5), multiplicity: 9",
          "(0.0, 2.5), multiplicity: 9",
          "(0.0, 2.5333333015441895)",
          "(0.0, 2.6666667461395264)",
          "(0.0, 3.0), multiplicity: 6",
          "(0.0, 3.0), multiplicity: 6",
          "(0.0, 3.0), multiplicity: 6",
          "(0.0, 3.0), multiplicity: 6",
          "(0.0, 3.0), multiplicity: 6",
          "(0.0, 3.0), multiplicity: 6",
          "(0.0, 3.5), multiplicity: 2",
          "(0.0, 3.5), multiplicity: 2",
          "(0.0, 4.0), multiplicity: 3",
          "(0.0, 4.0), multiplicity: 3",
          "(0.0, 4.0), multiplicity: 3"
         ],
         "mode": "markers",
         "name": "H0",
         "type": "scatter",
         "x": [
          0,
          0,
          0,
          0,
          0,
          0,
          0,
          0,
          0,
          0,
          0,
          0,
          0,
          0,
          0,
          0,
          0,
          0,
          0,
          0,
          0,
          0,
          0,
          0,
          0,
          0,
          0,
          0,
          0,
          0,
          0,
          0,
          0,
          0,
          0,
          0,
          0,
          0,
          0,
          0,
          0,
          0,
          0,
          0,
          0,
          0,
          0,
          0,
          0,
          0,
          0,
          0,
          0,
          0,
          0,
          0,
          0,
          0,
          0,
          0,
          0,
          0,
          0,
          0,
          0,
          0,
          0,
          0,
          0,
          0,
          0,
          0,
          0,
          0,
          0,
          0,
          0,
          0,
          0,
          0,
          0,
          0,
          0,
          0,
          0,
          0,
          0,
          0,
          0,
          0,
          0,
          0,
          0,
          0,
          0,
          0,
          0,
          0,
          0,
          0,
          0,
          0,
          0,
          0,
          0,
          0,
          0,
          0,
          0,
          0,
          0,
          0,
          0,
          0,
          0,
          0,
          0,
          0,
          0,
          0,
          0,
          0,
          0,
          0,
          0,
          0,
          0,
          0,
          0,
          0,
          0,
          0,
          0,
          0,
          0,
          0,
          0,
          0,
          0,
          0,
          0,
          0,
          0,
          0,
          0,
          0,
          0,
          0,
          0,
          0,
          0,
          0,
          0,
          0,
          0,
          0,
          0,
          0,
          0,
          0,
          0,
          0,
          0,
          0,
          0,
          0,
          0,
          0,
          0,
          0
         ],
         "y": [
          0.760490357875824,
          1,
          1,
          1,
          1,
          1,
          1,
          1,
          1,
          1,
          1,
          1,
          1,
          1,
          1,
          1,
          1,
          1,
          1,
          1,
          1,
          1,
          1,
          1.0257936716079712,
          1.0547152757644653,
          1.0562770366668701,
          1.2000000476837158,
          1.25,
          1.2666666507720947,
          1.3440593481063843,
          1.384313702583313,
          1.429042935371399,
          1.452380895614624,
          1.4645849466323853,
          1.4901961088180542,
          1.5,
          1.5,
          1.5,
          1.5320261716842651,
          1.542904257774353,
          1.6071428060531616,
          1.6666666269302368,
          1.6666666269302368,
          1.6666666269302368,
          1.6666666269302368,
          1.6666666269302368,
          1.673076868057251,
          1.6778711080551147,
          1.75,
          1.75,
          1.7777777910232544,
          1.7999999523162842,
          1.7999999523162842,
          1.7999999523162842,
          1.8333333730697632,
          1.8571428060531616,
          1.9166666269302368,
          1.9166666269302368,
          1.9696969985961914,
          1.975000023841858,
          2,
          2,
          2,
          2,
          2,
          2,
          2,
          2,
          2,
          2,
          2,
          2,
          2,
          2,
          2,
          2,
          2,
          2,
          2,
          2,
          2,
          2,
          2,
          2,
          2,
          2,
          2,
          2,
          2,
          2,
          2,
          2,
          2,
          2,
          2,
          2,
          2,
          2,
          2,
          2,
          2,
          2,
          2,
          2,
          2,
          2,
          2,
          2,
          2,
          2,
          2,
          2,
          2,
          2,
          2,
          2,
          2,
          2,
          2,
          2,
          2,
          2,
          2,
          2.06862735748291,
          2.0833332538604736,
          2.0833332538604736,
          2.0833332538604736,
          2.142857074737549,
          2.1666667461395264,
          2.1666667461395264,
          2.1666667461395264,
          2.200000047683716,
          2.200000047683716,
          2.200000047683716,
          2.200000047683716,
          2.200000047683716,
          2.25,
          2.25,
          2.25,
          2.281797409057617,
          2.3333332538604736,
          2.3333332538604736,
          2.3333332538604736,
          2.3333332538604736,
          2.4000000953674316,
          2.4000000953674316,
          2.4000000953674316,
          2.433333396911621,
          2.5,
          2.5,
          2.5,
          2.5,
          2.5,
          2.5,
          2.5,
          2.5,
          2.5,
          2.5333333015441895,
          2.6666667461395264,
          3,
          3,
          3,
          3,
          3,
          3,
          3.5,
          3.5,
          4,
          4,
          4
         ]
        },
        {
         "hoverinfo": "text",
         "hovertext": [
          "(5.0, 5.5)",
          "(4.0, 4.199999809265137)",
          "(3.5, 3.5833332538604736)",
          "(3.5, 3.700000047683716)",
          "(3.5, 4.0)",
          "(3.5, 3.6666667461395264)",
          "(3.3333332538604736, 3.5)",
          "(3.25, 3.3333332538604736)",
          "(3.1282050609588623, 3.326923131942749)",
          "(3.066666603088379, 3.200000047683716)",
          "(3.0, 3.3333332538604736)",
          "(3.0, 3.6666667461395264)",
          "(3.0, 3.133333444595337)",
          "(3.0, 3.142857074737549)",
          "(3.0, 3.2666666507720947)",
          "(3.0, 3.961538553237915)",
          "(3.0, 3.5), multiplicity: 3",
          "(3.0, 3.5), multiplicity: 3",
          "(3.0, 3.200000047683716)",
          "(3.0, 4.0), multiplicity: 3",
          "(3.0, 4.0), multiplicity: 3",
          "(3.0, 3.5), multiplicity: 3",
          "(3.0, 4.0), multiplicity: 3",
          "(2.950000047683716, 3.0357143878936768)",
          "(2.9166667461395264, 3.75)",
          "(2.9166667461395264, 2.950000047683716)",
          "(2.866666555404663, 3.066666603088379)",
          "(2.8499999046325684, 2.9000000953674316)",
          "(2.8333332538604736, 2.933333396911621)",
          "(2.8333332538604736, 3.0)",
          "(2.8333332538604736, 3.25)",
          "(2.75, 3.0), multiplicity: 2",
          "(2.75, 2.809523820877075)",
          "(2.75, 3.0), multiplicity: 2",
          "(2.75, 2.857142925262451)",
          "(2.700000047683716, 3.0)",
          "(2.6666667461395264, 3.1794872283935547)",
          "(2.6666667461395264, 3.1666667461395264)",
          "(2.6666667461395264, 2.75), multiplicity: 2",
          "(2.6666667461395264, 2.75), multiplicity: 2",
          "(2.6666667461395264, 3.0)",
          "(2.6500000953674316, 2.723076820373535)",
          "(2.6285715103149414, 3.1666667461395264)",
          "(2.6111111640930176, 2.6666667461395264)",
          "(2.5833332538604736, 3.0)",
          "(2.555555582046509, 2.6111111640930176)",
          "(2.5151515007019043, 2.941176414489746)",
          "(2.5, 3.1666667461395264)",
          "(2.5, 2.75), multiplicity: 2",
          "(2.5, 2.511904716491699)",
          "(2.5, 3.0), multiplicity: 6",
          "(2.5, 3.8333332538604736)",
          "(2.5, 3.0), multiplicity: 6",
          "(2.5, 3.0), multiplicity: 6",
          "(2.5, 3.0), multiplicity: 6",
          "(2.5, 2.75), multiplicity: 2",
          "(2.5, 2.942857027053833)",
          "(2.5, 3.0), multiplicity: 6",
          "(2.5, 3.0), multiplicity: 6",
          "(2.4666666984558105, 2.5)",
          "(2.450000047683716, 2.75)",
          "(2.3538460731506348, 2.5)",
          "(2.3333332538604736, 3.0), multiplicity: 2",
          "(2.3333332538604736, 2.5833332538604736)",
          "(2.3333332538604736, 2.5)",
          "(2.3333332538604736, 3.0), multiplicity: 2",
          "(2.3333332538604736, 2.566666603088379)",
          "(2.2936508655548096, 2.3222222328186035)",
          "(2.276923179626465, 3.200000047683716)",
          "(2.25, 2.4166667461395264)",
          "(2.25, 2.777777671813965)",
          "(2.25, 2.75)",
          "(2.2142856121063232, 2.392857074737549)",
          "(2.200000047683716, 2.2333333492279053)",
          "(2.1388888359069824, 2.3333332538604736)",
          "(2.0833332538604736, 2.3499999046325684)",
          "(2.0, 3.0), multiplicity: 7",
          "(2.0, 3.0), multiplicity: 7",
          "(2.0, 3.0), multiplicity: 7",
          "(2.0, 3.0), multiplicity: 7",
          "(2.0, 3.0), multiplicity: 7",
          "(2.0, 3.0), multiplicity: 7",
          "(2.0, 3.0), multiplicity: 7"
         ],
         "mode": "markers",
         "name": "H1",
         "type": "scatter",
         "x": [
          5,
          4,
          3.5,
          3.5,
          3.5,
          3.5,
          3.3333332538604736,
          3.25,
          3.1282050609588623,
          3.066666603088379,
          3,
          3,
          3,
          3,
          3,
          3,
          3,
          3,
          3,
          3,
          3,
          3,
          3,
          2.950000047683716,
          2.9166667461395264,
          2.9166667461395264,
          2.866666555404663,
          2.8499999046325684,
          2.8333332538604736,
          2.8333332538604736,
          2.8333332538604736,
          2.75,
          2.75,
          2.75,
          2.75,
          2.700000047683716,
          2.6666667461395264,
          2.6666667461395264,
          2.6666667461395264,
          2.6666667461395264,
          2.6666667461395264,
          2.6500000953674316,
          2.6285715103149414,
          2.6111111640930176,
          2.5833332538604736,
          2.555555582046509,
          2.5151515007019043,
          2.5,
          2.5,
          2.5,
          2.5,
          2.5,
          2.5,
          2.5,
          2.5,
          2.5,
          2.5,
          2.5,
          2.5,
          2.4666666984558105,
          2.450000047683716,
          2.3538460731506348,
          2.3333332538604736,
          2.3333332538604736,
          2.3333332538604736,
          2.3333332538604736,
          2.3333332538604736,
          2.2936508655548096,
          2.276923179626465,
          2.25,
          2.25,
          2.25,
          2.2142856121063232,
          2.200000047683716,
          2.1388888359069824,
          2.0833332538604736,
          2,
          2,
          2,
          2,
          2,
          2,
          2
         ],
         "y": [
          5.5,
          4.199999809265137,
          3.5833332538604736,
          3.700000047683716,
          4,
          3.6666667461395264,
          3.5,
          3.3333332538604736,
          3.326923131942749,
          3.200000047683716,
          3.3333332538604736,
          3.6666667461395264,
          3.133333444595337,
          3.142857074737549,
          3.2666666507720947,
          3.961538553237915,
          3.5,
          3.5,
          3.200000047683716,
          4,
          4,
          3.5,
          4,
          3.0357143878936768,
          3.75,
          2.950000047683716,
          3.066666603088379,
          2.9000000953674316,
          2.933333396911621,
          3,
          3.25,
          3,
          2.809523820877075,
          3,
          2.857142925262451,
          3,
          3.1794872283935547,
          3.1666667461395264,
          2.75,
          2.75,
          3,
          2.723076820373535,
          3.1666667461395264,
          2.6666667461395264,
          3,
          2.6111111640930176,
          2.941176414489746,
          3.1666667461395264,
          2.75,
          2.511904716491699,
          3,
          3.8333332538604736,
          3,
          3,
          3,
          2.75,
          2.942857027053833,
          3,
          3,
          2.5,
          2.75,
          2.5,
          3,
          2.5833332538604736,
          2.5,
          3,
          2.566666603088379,
          2.3222222328186035,
          3.200000047683716,
          2.4166667461395264,
          2.777777671813965,
          2.75,
          2.392857074737549,
          2.2333333492279053,
          2.3333332538604736,
          2.3499999046325684,
          3,
          3,
          3,
          3,
          3,
          3,
          3
         ]
        },
        {
         "hoverinfo": "text",
         "hovertext": [
          "(4.0, 4.166666507720947)",
          "(4.0, 4.5)",
          "(4.0, 4.333333492279053)",
          "(3.75, 3.799999952316284)",
          "(3.6666667461395264, 3.8333332538604736)",
          "(3.6666667461395264, 3.700000047683716)",
          "(3.653846263885498, 3.7435896396636963)",
          "(3.4000000953674316, 3.6666667461395264)",
          "(3.3692307472229004, 3.549999952316284)",
          "(3.3333332538604736, 3.6666667461395264)",
          "(3.3333332538604736, 3.4666666984558105)",
          "(3.3333332538604736, 3.4166667461395264)",
          "(3.3333332538604736, 3.5)",
          "(3.200000047683716, 3.25)",
          "(3.1666667461395264, 3.25)",
          "(3.1666667461395264, 3.3333332538604736)",
          "(3.1666667461395264, 3.299999952316284)",
          "(3.0, 3.0714285373687744)",
          "(3.0, 3.3333332538604736)",
          "(3.0, 3.25), multiplicity: 3",
          "(3.0, 3.2666666507720947)",
          "(3.0, 3.642857074737549)",
          "(3.0, 3.75)",
          "(3.0, 3.25), multiplicity: 3",
          "(3.0, 3.25), multiplicity: 3",
          "(3.0, 3.6666667461395264)",
          "(2.8863637447357178, 2.914705991744995)",
          "(2.8333332538604736, 3.0)",
          "(2.75, 3.0)",
          "(2.690476179122925, 2.7738094329833984)",
          "(2.6666667461395264, 2.917647123336792)"
         ],
         "mode": "markers",
         "name": "H2",
         "type": "scatter",
         "x": [
          4,
          4,
          4,
          3.75,
          3.6666667461395264,
          3.6666667461395264,
          3.653846263885498,
          3.4000000953674316,
          3.3692307472229004,
          3.3333332538604736,
          3.3333332538604736,
          3.3333332538604736,
          3.3333332538604736,
          3.200000047683716,
          3.1666667461395264,
          3.1666667461395264,
          3.1666667461395264,
          3,
          3,
          3,
          3,
          3,
          3,
          3,
          3,
          3,
          2.8863637447357178,
          2.8333332538604736,
          2.75,
          2.690476179122925,
          2.6666667461395264
         ],
         "y": [
          4.166666507720947,
          4.5,
          4.333333492279053,
          3.799999952316284,
          3.8333332538604736,
          3.700000047683716,
          3.7435896396636963,
          3.6666667461395264,
          3.549999952316284,
          3.6666667461395264,
          3.4666666984558105,
          3.4166667461395264,
          3.5,
          3.25,
          3.25,
          3.3333332538604736,
          3.299999952316284,
          3.0714285373687744,
          3.3333332538604736,
          3.25,
          3.2666666507720947,
          3.642857074737549,
          3.75,
          3.25,
          3.25,
          3.6666667461395264,
          2.914705991744995,
          3,
          3,
          2.7738094329833984,
          2.917647123336792
         ]
        }
       ],
       "layout": {
        "height": 500,
        "plot_bgcolor": "white",
        "template": {
         "data": {
          "bar": [
           {
            "error_x": {
             "color": "#2a3f5f"
            },
            "error_y": {
             "color": "#2a3f5f"
            },
            "marker": {
             "line": {
              "color": "#E5ECF6",
              "width": 0.5
             },
             "pattern": {
              "fillmode": "overlay",
              "size": 10,
              "solidity": 0.2
             }
            },
            "type": "bar"
           }
          ],
          "barpolar": [
           {
            "marker": {
             "line": {
              "color": "#E5ECF6",
              "width": 0.5
             },
             "pattern": {
              "fillmode": "overlay",
              "size": 10,
              "solidity": 0.2
             }
            },
            "type": "barpolar"
           }
          ],
          "carpet": [
           {
            "aaxis": {
             "endlinecolor": "#2a3f5f",
             "gridcolor": "white",
             "linecolor": "white",
             "minorgridcolor": "white",
             "startlinecolor": "#2a3f5f"
            },
            "baxis": {
             "endlinecolor": "#2a3f5f",
             "gridcolor": "white",
             "linecolor": "white",
             "minorgridcolor": "white",
             "startlinecolor": "#2a3f5f"
            },
            "type": "carpet"
           }
          ],
          "choropleth": [
           {
            "colorbar": {
             "outlinewidth": 0,
             "ticks": ""
            },
            "type": "choropleth"
           }
          ],
          "contour": [
           {
            "colorbar": {
             "outlinewidth": 0,
             "ticks": ""
            },
            "colorscale": [
             [
              0,
              "#0d0887"
             ],
             [
              0.1111111111111111,
              "#46039f"
             ],
             [
              0.2222222222222222,
              "#7201a8"
             ],
             [
              0.3333333333333333,
              "#9c179e"
             ],
             [
              0.4444444444444444,
              "#bd3786"
             ],
             [
              0.5555555555555556,
              "#d8576b"
             ],
             [
              0.6666666666666666,
              "#ed7953"
             ],
             [
              0.7777777777777778,
              "#fb9f3a"
             ],
             [
              0.8888888888888888,
              "#fdca26"
             ],
             [
              1,
              "#f0f921"
             ]
            ],
            "type": "contour"
           }
          ],
          "contourcarpet": [
           {
            "colorbar": {
             "outlinewidth": 0,
             "ticks": ""
            },
            "type": "contourcarpet"
           }
          ],
          "heatmap": [
           {
            "colorbar": {
             "outlinewidth": 0,
             "ticks": ""
            },
            "colorscale": [
             [
              0,
              "#0d0887"
             ],
             [
              0.1111111111111111,
              "#46039f"
             ],
             [
              0.2222222222222222,
              "#7201a8"
             ],
             [
              0.3333333333333333,
              "#9c179e"
             ],
             [
              0.4444444444444444,
              "#bd3786"
             ],
             [
              0.5555555555555556,
              "#d8576b"
             ],
             [
              0.6666666666666666,
              "#ed7953"
             ],
             [
              0.7777777777777778,
              "#fb9f3a"
             ],
             [
              0.8888888888888888,
              "#fdca26"
             ],
             [
              1,
              "#f0f921"
             ]
            ],
            "type": "heatmap"
           }
          ],
          "heatmapgl": [
           {
            "colorbar": {
             "outlinewidth": 0,
             "ticks": ""
            },
            "colorscale": [
             [
              0,
              "#0d0887"
             ],
             [
              0.1111111111111111,
              "#46039f"
             ],
             [
              0.2222222222222222,
              "#7201a8"
             ],
             [
              0.3333333333333333,
              "#9c179e"
             ],
             [
              0.4444444444444444,
              "#bd3786"
             ],
             [
              0.5555555555555556,
              "#d8576b"
             ],
             [
              0.6666666666666666,
              "#ed7953"
             ],
             [
              0.7777777777777778,
              "#fb9f3a"
             ],
             [
              0.8888888888888888,
              "#fdca26"
             ],
             [
              1,
              "#f0f921"
             ]
            ],
            "type": "heatmapgl"
           }
          ],
          "histogram": [
           {
            "marker": {
             "pattern": {
              "fillmode": "overlay",
              "size": 10,
              "solidity": 0.2
             }
            },
            "type": "histogram"
           }
          ],
          "histogram2d": [
           {
            "colorbar": {
             "outlinewidth": 0,
             "ticks": ""
            },
            "colorscale": [
             [
              0,
              "#0d0887"
             ],
             [
              0.1111111111111111,
              "#46039f"
             ],
             [
              0.2222222222222222,
              "#7201a8"
             ],
             [
              0.3333333333333333,
              "#9c179e"
             ],
             [
              0.4444444444444444,
              "#bd3786"
             ],
             [
              0.5555555555555556,
              "#d8576b"
             ],
             [
              0.6666666666666666,
              "#ed7953"
             ],
             [
              0.7777777777777778,
              "#fb9f3a"
             ],
             [
              0.8888888888888888,
              "#fdca26"
             ],
             [
              1,
              "#f0f921"
             ]
            ],
            "type": "histogram2d"
           }
          ],
          "histogram2dcontour": [
           {
            "colorbar": {
             "outlinewidth": 0,
             "ticks": ""
            },
            "colorscale": [
             [
              0,
              "#0d0887"
             ],
             [
              0.1111111111111111,
              "#46039f"
             ],
             [
              0.2222222222222222,
              "#7201a8"
             ],
             [
              0.3333333333333333,
              "#9c179e"
             ],
             [
              0.4444444444444444,
              "#bd3786"
             ],
             [
              0.5555555555555556,
              "#d8576b"
             ],
             [
              0.6666666666666666,
              "#ed7953"
             ],
             [
              0.7777777777777778,
              "#fb9f3a"
             ],
             [
              0.8888888888888888,
              "#fdca26"
             ],
             [
              1,
              "#f0f921"
             ]
            ],
            "type": "histogram2dcontour"
           }
          ],
          "mesh3d": [
           {
            "colorbar": {
             "outlinewidth": 0,
             "ticks": ""
            },
            "type": "mesh3d"
           }
          ],
          "parcoords": [
           {
            "line": {
             "colorbar": {
              "outlinewidth": 0,
              "ticks": ""
             }
            },
            "type": "parcoords"
           }
          ],
          "pie": [
           {
            "automargin": true,
            "type": "pie"
           }
          ],
          "scatter": [
           {
            "fillpattern": {
             "fillmode": "overlay",
             "size": 10,
             "solidity": 0.2
            },
            "type": "scatter"
           }
          ],
          "scatter3d": [
           {
            "line": {
             "colorbar": {
              "outlinewidth": 0,
              "ticks": ""
             }
            },
            "marker": {
             "colorbar": {
              "outlinewidth": 0,
              "ticks": ""
             }
            },
            "type": "scatter3d"
           }
          ],
          "scattercarpet": [
           {
            "marker": {
             "colorbar": {
              "outlinewidth": 0,
              "ticks": ""
             }
            },
            "type": "scattercarpet"
           }
          ],
          "scattergeo": [
           {
            "marker": {
             "colorbar": {
              "outlinewidth": 0,
              "ticks": ""
             }
            },
            "type": "scattergeo"
           }
          ],
          "scattergl": [
           {
            "marker": {
             "colorbar": {
              "outlinewidth": 0,
              "ticks": ""
             }
            },
            "type": "scattergl"
           }
          ],
          "scattermapbox": [
           {
            "marker": {
             "colorbar": {
              "outlinewidth": 0,
              "ticks": ""
             }
            },
            "type": "scattermapbox"
           }
          ],
          "scatterpolar": [
           {
            "marker": {
             "colorbar": {
              "outlinewidth": 0,
              "ticks": ""
             }
            },
            "type": "scatterpolar"
           }
          ],
          "scatterpolargl": [
           {
            "marker": {
             "colorbar": {
              "outlinewidth": 0,
              "ticks": ""
             }
            },
            "type": "scatterpolargl"
           }
          ],
          "scatterternary": [
           {
            "marker": {
             "colorbar": {
              "outlinewidth": 0,
              "ticks": ""
             }
            },
            "type": "scatterternary"
           }
          ],
          "surface": [
           {
            "colorbar": {
             "outlinewidth": 0,
             "ticks": ""
            },
            "colorscale": [
             [
              0,
              "#0d0887"
             ],
             [
              0.1111111111111111,
              "#46039f"
             ],
             [
              0.2222222222222222,
              "#7201a8"
             ],
             [
              0.3333333333333333,
              "#9c179e"
             ],
             [
              0.4444444444444444,
              "#bd3786"
             ],
             [
              0.5555555555555556,
              "#d8576b"
             ],
             [
              0.6666666666666666,
              "#ed7953"
             ],
             [
              0.7777777777777778,
              "#fb9f3a"
             ],
             [
              0.8888888888888888,
              "#fdca26"
             ],
             [
              1,
              "#f0f921"
             ]
            ],
            "type": "surface"
           }
          ],
          "table": [
           {
            "cells": {
             "fill": {
              "color": "#EBF0F8"
             },
             "line": {
              "color": "white"
             }
            },
            "header": {
             "fill": {
              "color": "#C8D4E3"
             },
             "line": {
              "color": "white"
             }
            },
            "type": "table"
           }
          ]
         },
         "layout": {
          "annotationdefaults": {
           "arrowcolor": "#2a3f5f",
           "arrowhead": 0,
           "arrowwidth": 1
          },
          "autotypenumbers": "strict",
          "coloraxis": {
           "colorbar": {
            "outlinewidth": 0,
            "ticks": ""
           }
          },
          "colorscale": {
           "diverging": [
            [
             0,
             "#8e0152"
            ],
            [
             0.1,
             "#c51b7d"
            ],
            [
             0.2,
             "#de77ae"
            ],
            [
             0.3,
             "#f1b6da"
            ],
            [
             0.4,
             "#fde0ef"
            ],
            [
             0.5,
             "#f7f7f7"
            ],
            [
             0.6,
             "#e6f5d0"
            ],
            [
             0.7,
             "#b8e186"
            ],
            [
             0.8,
             "#7fbc41"
            ],
            [
             0.9,
             "#4d9221"
            ],
            [
             1,
             "#276419"
            ]
           ],
           "sequential": [
            [
             0,
             "#0d0887"
            ],
            [
             0.1111111111111111,
             "#46039f"
            ],
            [
             0.2222222222222222,
             "#7201a8"
            ],
            [
             0.3333333333333333,
             "#9c179e"
            ],
            [
             0.4444444444444444,
             "#bd3786"
            ],
            [
             0.5555555555555556,
             "#d8576b"
            ],
            [
             0.6666666666666666,
             "#ed7953"
            ],
            [
             0.7777777777777778,
             "#fb9f3a"
            ],
            [
             0.8888888888888888,
             "#fdca26"
            ],
            [
             1,
             "#f0f921"
            ]
           ],
           "sequentialminus": [
            [
             0,
             "#0d0887"
            ],
            [
             0.1111111111111111,
             "#46039f"
            ],
            [
             0.2222222222222222,
             "#7201a8"
            ],
            [
             0.3333333333333333,
             "#9c179e"
            ],
            [
             0.4444444444444444,
             "#bd3786"
            ],
            [
             0.5555555555555556,
             "#d8576b"
            ],
            [
             0.6666666666666666,
             "#ed7953"
            ],
            [
             0.7777777777777778,
             "#fb9f3a"
            ],
            [
             0.8888888888888888,
             "#fdca26"
            ],
            [
             1,
             "#f0f921"
            ]
           ]
          },
          "colorway": [
           "#636efa",
           "#EF553B",
           "#00cc96",
           "#ab63fa",
           "#FFA15A",
           "#19d3f3",
           "#FF6692",
           "#B6E880",
           "#FF97FF",
           "#FECB52"
          ],
          "font": {
           "color": "#2a3f5f"
          },
          "geo": {
           "bgcolor": "white",
           "lakecolor": "white",
           "landcolor": "#E5ECF6",
           "showlakes": true,
           "showland": true,
           "subunitcolor": "white"
          },
          "hoverlabel": {
           "align": "left"
          },
          "hovermode": "closest",
          "mapbox": {
           "style": "light"
          },
          "paper_bgcolor": "white",
          "plot_bgcolor": "#E5ECF6",
          "polar": {
           "angularaxis": {
            "gridcolor": "white",
            "linecolor": "white",
            "ticks": ""
           },
           "bgcolor": "#E5ECF6",
           "radialaxis": {
            "gridcolor": "white",
            "linecolor": "white",
            "ticks": ""
           }
          },
          "scene": {
           "xaxis": {
            "backgroundcolor": "#E5ECF6",
            "gridcolor": "white",
            "gridwidth": 2,
            "linecolor": "white",
            "showbackground": true,
            "ticks": "",
            "zerolinecolor": "white"
           },
           "yaxis": {
            "backgroundcolor": "#E5ECF6",
            "gridcolor": "white",
            "gridwidth": 2,
            "linecolor": "white",
            "showbackground": true,
            "ticks": "",
            "zerolinecolor": "white"
           },
           "zaxis": {
            "backgroundcolor": "#E5ECF6",
            "gridcolor": "white",
            "gridwidth": 2,
            "linecolor": "white",
            "showbackground": true,
            "ticks": "",
            "zerolinecolor": "white"
           }
          },
          "shapedefaults": {
           "line": {
            "color": "#2a3f5f"
           }
          },
          "ternary": {
           "aaxis": {
            "gridcolor": "white",
            "linecolor": "white",
            "ticks": ""
           },
           "baxis": {
            "gridcolor": "white",
            "linecolor": "white",
            "ticks": ""
           },
           "bgcolor": "#E5ECF6",
           "caxis": {
            "gridcolor": "white",
            "linecolor": "white",
            "ticks": ""
           }
          },
          "title": {
           "x": 0.05
          },
          "xaxis": {
           "automargin": true,
           "gridcolor": "white",
           "linecolor": "white",
           "ticks": "",
           "title": {
            "standoff": 15
           },
           "zerolinecolor": "white",
           "zerolinewidth": 2
          },
          "yaxis": {
           "automargin": true,
           "gridcolor": "white",
           "linecolor": "white",
           "ticks": "",
           "title": {
            "standoff": 15
           },
           "zerolinecolor": "white",
           "zerolinewidth": 2
          }
         }
        },
        "width": 500,
        "xaxis": {
         "autorange": false,
         "exponentformat": "e",
         "linecolor": "black",
         "linewidth": 1,
         "mirror": false,
         "range": [
          -0.11,
          5.61
         ],
         "showexponent": "all",
         "showline": true,
         "side": "bottom",
         "ticks": "outside",
         "title": {
          "text": "Birth"
         },
         "type": "linear",
         "zeroline": true
        },
        "yaxis": {
         "autorange": false,
         "exponentformat": "e",
         "linecolor": "black",
         "linewidth": 1,
         "mirror": false,
         "range": [
          -0.11,
          5.61
         ],
         "scaleanchor": "x",
         "scaleratio": 1,
         "showexponent": "all",
         "showline": true,
         "side": "left",
         "ticks": "outside",
         "title": {
          "text": "Death"
         },
         "type": "linear",
         "zeroline": true
        }
       }
      }
     },
     "metadata": {},
     "output_type": "display_data"
    }
   ],
   "source": [
    "from gtda.homology import VietorisRipsPersistence\n",
    "from gtda.plotting import plot_diagram\n",
    "\n",
    "persistence = VietorisRipsPersistence(\n",
    "    metric=\"manhattan\",\n",
    "    homology_dimensions=(0,1,2))\n",
    "\n",
    "diagram = persistence.fit_transform(df_codes_array_norm_tweet[None,:,:])\n",
    "plot_diagram(diagram[0])"
   ]
  },
  {
   "cell_type": "markdown",
   "metadata": {},
   "source": [
    "## Mapper"
   ]
  },
  {
   "cell_type": "code",
   "execution_count": 13,
   "metadata": {},
   "outputs": [],
   "source": [
    "#l1 test\n",
    "# make a transformer for computing the l1 norm\n",
    "\n",
    "from sklearn import datasets\n",
    "data, _ = datasets.make_circles(n_samples=5000, noise=0.05, factor=0.3, random_state=42)\n",
    "\n",
    "def l1_norm(X):\n",
    "    #take the l1 norm of each row\n",
    "    return np.linalg.norm(X, ord=1, axis=1).reshape(-1, 1)\n",
    "\n",
    "def linf_norm(X):\n",
    "    #take the l1 norm of each row\n",
    "    return np.linalg.norm(X, ord=np.inf, axis=1).reshape(-1, 1)\n",
    "\n",
    "from sklearn.preprocessing import FunctionTransformer\n",
    "l1_norm_trans = FunctionTransformer(l1_norm)\n",
    "\n",
    "linf_norm_trans = FunctionTransformer(linf_norm)\n",
    "\n"
   ]
  },
  {
   "cell_type": "code",
   "execution_count": 14,
   "metadata": {},
   "outputs": [
    {
     "data": {
      "application/vnd.plotly.v1+json": {
       "config": {
        "plotlyServerURL": "https://plot.ly",
        "scrollZoom": true
       },
       "data": [
        {
         "hoverinfo": "none",
         "line": {
          "color": "#888",
          "width": 1
         },
         "mode": "lines",
         "name": "edge_trace",
         "type": "scatter",
         "uid": "e06679c2-be8e-4096-be16-099c4234988f",
         "x": [
          0.03212823860788389,
          0.8123354756967378,
          null,
          0.03212823860788389,
          -0.16945954534155075,
          null,
          -0.8310965696652141,
          -1.6095224705902942,
          null,
          -0.8310965696652141,
          -0.16945954534155075,
          null,
          1.1179379251156407,
          0.8123354756967378,
          null
         ],
         "y": [
          2.9290581381236533,
          2.750545054900453,
          null,
          2.9290581381236533,
          3.7002843611138028,
          null,
          4.099159708521249,
          4.067637266581172,
          null,
          4.099159708521249,
          3.7002843611138028,
          null,
          2.0282434816917467,
          2.750545054900453,
          null
         ]
        },
        {
         "hoverinfo": "text",
         "hovertext": [
          "Node ID: 0<br>Pullback set label: 2<br>Partial cluster label: -1<br>Node size: 9<br>Summary statistic: 40.3",
          "Node ID: 1<br>Pullback set label: 10<br>Partial cluster label: -1<br>Node size: 1<br>Summary statistic: 1.0",
          "Node ID: 2<br>Pullback set label: 9<br>Partial cluster label: -1<br>Node size: 1<br>Summary statistic: 2.0",
          "Node ID: 3<br>Pullback set label: 4<br>Partial cluster label: -1<br>Node size: 3<br>Summary statistic: 13.7",
          "Node ID: 4<br>Pullback set label: 5<br>Partial cluster label: -1<br>Node size: 2<br>Summary statistic: 41.0",
          "Node ID: 5<br>Pullback set label: 6<br>Partial cluster label: -1<br>Node size: 1<br>Summary statistic: 5.0",
          "Node ID: 6<br>Pullback set label: 0<br>Partial cluster label: -1<br>Node size: 185<br>Summary statistic: 144.0",
          "Node ID: 7<br>Pullback set label: 1<br>Partial cluster label: -1<br>Node size: 37<br>Summary statistic: 89.9",
          "Node ID: 8<br>Pullback set label: 3<br>Partial cluster label: -1<br>Node size: 6<br>Summary statistic: 35.2",
          "Node ID: 9<br>Pullback set label: 7<br>Partial cluster label: -1<br>Node size: 1<br>Summary statistic: 14.0",
          "Node ID: 10<br>Pullback set label: 0<br>Partial cluster label: 0<br>Node size: 5<br>Summary statistic: 174.0",
          "Node ID: 11<br>Pullback set label: 8<br>Partial cluster label: -1<br>Node size: 1<br>Summary statistic: 84.0",
          "Node ID: 12<br>Pullback set label: 0<br>Partial cluster label: 1<br>Node size: 45<br>Summary statistic: 219.0",
          "Node ID: 13<br>Pullback set label: 0<br>Partial cluster label: 2<br>Node size: 6<br>Summary statistic: 206.0",
          "Node ID: 14<br>Pullback set label: 0<br>Partial cluster label: 3<br>Node size: 5<br>Summary statistic: 166.0",
          "Node ID: 15<br>Pullback set label: 0<br>Partial cluster label: 4<br>Node size: 26<br>Summary statistic: 220.0",
          "Node ID: 16<br>Pullback set label: 0<br>Partial cluster label: 5<br>Node size: 8<br>Summary statistic: 195.0",
          "Node ID: 17<br>Pullback set label: 0<br>Partial cluster label: 6<br>Node size: 20<br>Summary statistic: 269.0"
         ],
         "marker": {
          "color": [
           40.333333333333336,
           1,
           2,
           13.666666666666666,
           41,
           5,
           144.43783783783783,
           89.91891891891892,
           35.166666666666664,
           14,
           173.6,
           84,
           219.0888888888889,
           206.5,
           166.4,
           219.80769230769232,
           195.25,
           268.8
          ],
          "colorbar": {
           "thickness": 15,
           "title": {
            "side": "right",
            "text": ""
           },
           "xanchor": "left"
          },
          "colorscale": [
           [
            0,
            "#440154"
           ],
           [
            0.1111111111111111,
            "#482878"
           ],
           [
            0.2222222222222222,
            "#3e4989"
           ],
           [
            0.3333333333333333,
            "#31688e"
           ],
           [
            0.4444444444444444,
            "#26828e"
           ],
           [
            0.5555555555555556,
            "#1f9e89"
           ],
           [
            0.6666666666666666,
            "#35b779"
           ],
           [
            0.7777777777777778,
            "#6ece58"
           ],
           [
            0.8888888888888888,
            "#b5de2b"
           ],
           [
            1,
            "#fde725"
           ]
          ],
          "line": {
           "color": "#888",
           "width": 1
          },
          "opacity": 1,
          "reversescale": false,
          "showscale": true,
          "size": [
           9,
           1,
           1,
           3,
           2,
           1,
           185,
           37,
           6,
           1,
           5,
           1,
           45,
           6,
           5,
           26,
           8,
           20
          ],
          "sizemin": 4,
          "sizemode": "area",
          "sizeref": 2.5694444444444446
         },
         "mode": "markers",
         "name": "node_trace",
         "type": "scatter",
         "uid": "9bce637c-515f-4188-b26f-5527b96c348a",
         "x": [
          0.03212823860788389,
          -2.9266842074126136,
          -3.8450994318050906,
          -0.8310965696652141,
          -1.6095224705902942,
          1.3549972205209229,
          1.1179379251156407,
          0.8123354756967378,
          -0.16945954534155075,
          -3.1583628601147367,
          -3.799242092114605,
          -4.4416280108678405,
          -4.397899690420837,
          -2.573400234714795,
          -1.772652222631172,
          -0.47295329743506404,
          0.5519054854861078,
          -1.15890700772098
         ],
         "y": [
          2.9290581381236533,
          -0.986834464690697,
          -0.22916540296296034,
          4.099159708521249,
          4.067637266581172,
          0.4558186130481695,
          2.0282434816917467,
          2.750545054900453,
          3.7002843611138028,
          4.1933759009855684,
          3.16393673161594,
          2.157606032745415,
          0.8820746547145699,
          1.468137074864255,
          -1.4035001035096688,
          -1.277855694475863,
          -0.5045574351091581,
          0.4068907697543185
         ]
        }
       ],
       "layout": {
        "autosize": false,
        "hovermode": "closest",
        "margin": {
         "b": 20,
         "l": 5,
         "r": 5,
         "t": 40
        },
        "showlegend": false,
        "template": {
         "data": {
          "bar": [
           {
            "error_x": {
             "color": "rgb(36,36,36)"
            },
            "error_y": {
             "color": "rgb(36,36,36)"
            },
            "marker": {
             "line": {
              "color": "white",
              "width": 0.5
             },
             "pattern": {
              "fillmode": "overlay",
              "size": 10,
              "solidity": 0.2
             }
            },
            "type": "bar"
           }
          ],
          "barpolar": [
           {
            "marker": {
             "line": {
              "color": "white",
              "width": 0.5
             },
             "pattern": {
              "fillmode": "overlay",
              "size": 10,
              "solidity": 0.2
             }
            },
            "type": "barpolar"
           }
          ],
          "carpet": [
           {
            "aaxis": {
             "endlinecolor": "rgb(36,36,36)",
             "gridcolor": "white",
             "linecolor": "white",
             "minorgridcolor": "white",
             "startlinecolor": "rgb(36,36,36)"
            },
            "baxis": {
             "endlinecolor": "rgb(36,36,36)",
             "gridcolor": "white",
             "linecolor": "white",
             "minorgridcolor": "white",
             "startlinecolor": "rgb(36,36,36)"
            },
            "type": "carpet"
           }
          ],
          "choropleth": [
           {
            "colorbar": {
             "outlinewidth": 1,
             "tickcolor": "rgb(36,36,36)",
             "ticks": "outside"
            },
            "type": "choropleth"
           }
          ],
          "contour": [
           {
            "colorbar": {
             "outlinewidth": 1,
             "tickcolor": "rgb(36,36,36)",
             "ticks": "outside"
            },
            "colorscale": [
             [
              0,
              "#440154"
             ],
             [
              0.1111111111111111,
              "#482878"
             ],
             [
              0.2222222222222222,
              "#3e4989"
             ],
             [
              0.3333333333333333,
              "#31688e"
             ],
             [
              0.4444444444444444,
              "#26828e"
             ],
             [
              0.5555555555555556,
              "#1f9e89"
             ],
             [
              0.6666666666666666,
              "#35b779"
             ],
             [
              0.7777777777777778,
              "#6ece58"
             ],
             [
              0.8888888888888888,
              "#b5de2b"
             ],
             [
              1,
              "#fde725"
             ]
            ],
            "type": "contour"
           }
          ],
          "contourcarpet": [
           {
            "colorbar": {
             "outlinewidth": 1,
             "tickcolor": "rgb(36,36,36)",
             "ticks": "outside"
            },
            "type": "contourcarpet"
           }
          ],
          "heatmap": [
           {
            "colorbar": {
             "outlinewidth": 1,
             "tickcolor": "rgb(36,36,36)",
             "ticks": "outside"
            },
            "colorscale": [
             [
              0,
              "#440154"
             ],
             [
              0.1111111111111111,
              "#482878"
             ],
             [
              0.2222222222222222,
              "#3e4989"
             ],
             [
              0.3333333333333333,
              "#31688e"
             ],
             [
              0.4444444444444444,
              "#26828e"
             ],
             [
              0.5555555555555556,
              "#1f9e89"
             ],
             [
              0.6666666666666666,
              "#35b779"
             ],
             [
              0.7777777777777778,
              "#6ece58"
             ],
             [
              0.8888888888888888,
              "#b5de2b"
             ],
             [
              1,
              "#fde725"
             ]
            ],
            "type": "heatmap"
           }
          ],
          "heatmapgl": [
           {
            "colorbar": {
             "outlinewidth": 1,
             "tickcolor": "rgb(36,36,36)",
             "ticks": "outside"
            },
            "colorscale": [
             [
              0,
              "#440154"
             ],
             [
              0.1111111111111111,
              "#482878"
             ],
             [
              0.2222222222222222,
              "#3e4989"
             ],
             [
              0.3333333333333333,
              "#31688e"
             ],
             [
              0.4444444444444444,
              "#26828e"
             ],
             [
              0.5555555555555556,
              "#1f9e89"
             ],
             [
              0.6666666666666666,
              "#35b779"
             ],
             [
              0.7777777777777778,
              "#6ece58"
             ],
             [
              0.8888888888888888,
              "#b5de2b"
             ],
             [
              1,
              "#fde725"
             ]
            ],
            "type": "heatmapgl"
           }
          ],
          "histogram": [
           {
            "marker": {
             "line": {
              "color": "white",
              "width": 0.6
             }
            },
            "type": "histogram"
           }
          ],
          "histogram2d": [
           {
            "colorbar": {
             "outlinewidth": 1,
             "tickcolor": "rgb(36,36,36)",
             "ticks": "outside"
            },
            "colorscale": [
             [
              0,
              "#440154"
             ],
             [
              0.1111111111111111,
              "#482878"
             ],
             [
              0.2222222222222222,
              "#3e4989"
             ],
             [
              0.3333333333333333,
              "#31688e"
             ],
             [
              0.4444444444444444,
              "#26828e"
             ],
             [
              0.5555555555555556,
              "#1f9e89"
             ],
             [
              0.6666666666666666,
              "#35b779"
             ],
             [
              0.7777777777777778,
              "#6ece58"
             ],
             [
              0.8888888888888888,
              "#b5de2b"
             ],
             [
              1,
              "#fde725"
             ]
            ],
            "type": "histogram2d"
           }
          ],
          "histogram2dcontour": [
           {
            "colorbar": {
             "outlinewidth": 1,
             "tickcolor": "rgb(36,36,36)",
             "ticks": "outside"
            },
            "colorscale": [
             [
              0,
              "#440154"
             ],
             [
              0.1111111111111111,
              "#482878"
             ],
             [
              0.2222222222222222,
              "#3e4989"
             ],
             [
              0.3333333333333333,
              "#31688e"
             ],
             [
              0.4444444444444444,
              "#26828e"
             ],
             [
              0.5555555555555556,
              "#1f9e89"
             ],
             [
              0.6666666666666666,
              "#35b779"
             ],
             [
              0.7777777777777778,
              "#6ece58"
             ],
             [
              0.8888888888888888,
              "#b5de2b"
             ],
             [
              1,
              "#fde725"
             ]
            ],
            "type": "histogram2dcontour"
           }
          ],
          "mesh3d": [
           {
            "colorbar": {
             "outlinewidth": 1,
             "tickcolor": "rgb(36,36,36)",
             "ticks": "outside"
            },
            "type": "mesh3d"
           }
          ],
          "parcoords": [
           {
            "line": {
             "colorbar": {
              "outlinewidth": 1,
              "tickcolor": "rgb(36,36,36)",
              "ticks": "outside"
             }
            },
            "type": "parcoords"
           }
          ],
          "pie": [
           {
            "automargin": true,
            "type": "pie"
           }
          ],
          "scatter": [
           {
            "fillpattern": {
             "fillmode": "overlay",
             "size": 10,
             "solidity": 0.2
            },
            "type": "scatter"
           }
          ],
          "scatter3d": [
           {
            "line": {
             "colorbar": {
              "outlinewidth": 1,
              "tickcolor": "rgb(36,36,36)",
              "ticks": "outside"
             }
            },
            "marker": {
             "colorbar": {
              "outlinewidth": 1,
              "tickcolor": "rgb(36,36,36)",
              "ticks": "outside"
             }
            },
            "type": "scatter3d"
           }
          ],
          "scattercarpet": [
           {
            "marker": {
             "colorbar": {
              "outlinewidth": 1,
              "tickcolor": "rgb(36,36,36)",
              "ticks": "outside"
             }
            },
            "type": "scattercarpet"
           }
          ],
          "scattergeo": [
           {
            "marker": {
             "colorbar": {
              "outlinewidth": 1,
              "tickcolor": "rgb(36,36,36)",
              "ticks": "outside"
             }
            },
            "type": "scattergeo"
           }
          ],
          "scattergl": [
           {
            "marker": {
             "colorbar": {
              "outlinewidth": 1,
              "tickcolor": "rgb(36,36,36)",
              "ticks": "outside"
             }
            },
            "type": "scattergl"
           }
          ],
          "scattermapbox": [
           {
            "marker": {
             "colorbar": {
              "outlinewidth": 1,
              "tickcolor": "rgb(36,36,36)",
              "ticks": "outside"
             }
            },
            "type": "scattermapbox"
           }
          ],
          "scatterpolar": [
           {
            "marker": {
             "colorbar": {
              "outlinewidth": 1,
              "tickcolor": "rgb(36,36,36)",
              "ticks": "outside"
             }
            },
            "type": "scatterpolar"
           }
          ],
          "scatterpolargl": [
           {
            "marker": {
             "colorbar": {
              "outlinewidth": 1,
              "tickcolor": "rgb(36,36,36)",
              "ticks": "outside"
             }
            },
            "type": "scatterpolargl"
           }
          ],
          "scatterternary": [
           {
            "marker": {
             "colorbar": {
              "outlinewidth": 1,
              "tickcolor": "rgb(36,36,36)",
              "ticks": "outside"
             }
            },
            "type": "scatterternary"
           }
          ],
          "surface": [
           {
            "colorbar": {
             "outlinewidth": 1,
             "tickcolor": "rgb(36,36,36)",
             "ticks": "outside"
            },
            "colorscale": [
             [
              0,
              "#440154"
             ],
             [
              0.1111111111111111,
              "#482878"
             ],
             [
              0.2222222222222222,
              "#3e4989"
             ],
             [
              0.3333333333333333,
              "#31688e"
             ],
             [
              0.4444444444444444,
              "#26828e"
             ],
             [
              0.5555555555555556,
              "#1f9e89"
             ],
             [
              0.6666666666666666,
              "#35b779"
             ],
             [
              0.7777777777777778,
              "#6ece58"
             ],
             [
              0.8888888888888888,
              "#b5de2b"
             ],
             [
              1,
              "#fde725"
             ]
            ],
            "type": "surface"
           }
          ],
          "table": [
           {
            "cells": {
             "fill": {
              "color": "rgb(237,237,237)"
             },
             "line": {
              "color": "white"
             }
            },
            "header": {
             "fill": {
              "color": "rgb(217,217,217)"
             },
             "line": {
              "color": "white"
             }
            },
            "type": "table"
           }
          ]
         },
         "layout": {
          "annotationdefaults": {
           "arrowhead": 0,
           "arrowwidth": 1
          },
          "autotypenumbers": "strict",
          "coloraxis": {
           "colorbar": {
            "outlinewidth": 1,
            "tickcolor": "rgb(36,36,36)",
            "ticks": "outside"
           }
          },
          "colorscale": {
           "diverging": [
            [
             0,
             "rgb(103,0,31)"
            ],
            [
             0.1,
             "rgb(178,24,43)"
            ],
            [
             0.2,
             "rgb(214,96,77)"
            ],
            [
             0.3,
             "rgb(244,165,130)"
            ],
            [
             0.4,
             "rgb(253,219,199)"
            ],
            [
             0.5,
             "rgb(247,247,247)"
            ],
            [
             0.6,
             "rgb(209,229,240)"
            ],
            [
             0.7,
             "rgb(146,197,222)"
            ],
            [
             0.8,
             "rgb(67,147,195)"
            ],
            [
             0.9,
             "rgb(33,102,172)"
            ],
            [
             1,
             "rgb(5,48,97)"
            ]
           ],
           "sequential": [
            [
             0,
             "#440154"
            ],
            [
             0.1111111111111111,
             "#482878"
            ],
            [
             0.2222222222222222,
             "#3e4989"
            ],
            [
             0.3333333333333333,
             "#31688e"
            ],
            [
             0.4444444444444444,
             "#26828e"
            ],
            [
             0.5555555555555556,
             "#1f9e89"
            ],
            [
             0.6666666666666666,
             "#35b779"
            ],
            [
             0.7777777777777778,
             "#6ece58"
            ],
            [
             0.8888888888888888,
             "#b5de2b"
            ],
            [
             1,
             "#fde725"
            ]
           ],
           "sequentialminus": [
            [
             0,
             "#440154"
            ],
            [
             0.1111111111111111,
             "#482878"
            ],
            [
             0.2222222222222222,
             "#3e4989"
            ],
            [
             0.3333333333333333,
             "#31688e"
            ],
            [
             0.4444444444444444,
             "#26828e"
            ],
            [
             0.5555555555555556,
             "#1f9e89"
            ],
            [
             0.6666666666666666,
             "#35b779"
            ],
            [
             0.7777777777777778,
             "#6ece58"
            ],
            [
             0.8888888888888888,
             "#b5de2b"
            ],
            [
             1,
             "#fde725"
            ]
           ]
          },
          "colorway": [
           "#1F77B4",
           "#FF7F0E",
           "#2CA02C",
           "#D62728",
           "#9467BD",
           "#8C564B",
           "#E377C2",
           "#7F7F7F",
           "#BCBD22",
           "#17BECF"
          ],
          "font": {
           "color": "rgb(36,36,36)"
          },
          "geo": {
           "bgcolor": "white",
           "lakecolor": "white",
           "landcolor": "white",
           "showlakes": true,
           "showland": true,
           "subunitcolor": "white"
          },
          "hoverlabel": {
           "align": "left"
          },
          "hovermode": "closest",
          "mapbox": {
           "style": "light"
          },
          "paper_bgcolor": "white",
          "plot_bgcolor": "white",
          "polar": {
           "angularaxis": {
            "gridcolor": "rgb(232,232,232)",
            "linecolor": "rgb(36,36,36)",
            "showgrid": false,
            "showline": true,
            "ticks": "outside"
           },
           "bgcolor": "white",
           "radialaxis": {
            "gridcolor": "rgb(232,232,232)",
            "linecolor": "rgb(36,36,36)",
            "showgrid": false,
            "showline": true,
            "ticks": "outside"
           }
          },
          "scene": {
           "xaxis": {
            "backgroundcolor": "white",
            "gridcolor": "rgb(232,232,232)",
            "gridwidth": 2,
            "linecolor": "rgb(36,36,36)",
            "showbackground": true,
            "showgrid": false,
            "showline": true,
            "ticks": "outside",
            "zeroline": false,
            "zerolinecolor": "rgb(36,36,36)"
           },
           "yaxis": {
            "backgroundcolor": "white",
            "gridcolor": "rgb(232,232,232)",
            "gridwidth": 2,
            "linecolor": "rgb(36,36,36)",
            "showbackground": true,
            "showgrid": false,
            "showline": true,
            "ticks": "outside",
            "zeroline": false,
            "zerolinecolor": "rgb(36,36,36)"
           },
           "zaxis": {
            "backgroundcolor": "white",
            "gridcolor": "rgb(232,232,232)",
            "gridwidth": 2,
            "linecolor": "rgb(36,36,36)",
            "showbackground": true,
            "showgrid": false,
            "showline": true,
            "ticks": "outside",
            "zeroline": false,
            "zerolinecolor": "rgb(36,36,36)"
           }
          },
          "shapedefaults": {
           "fillcolor": "black",
           "line": {
            "width": 0
           },
           "opacity": 0.3
          },
          "ternary": {
           "aaxis": {
            "gridcolor": "rgb(232,232,232)",
            "linecolor": "rgb(36,36,36)",
            "showgrid": false,
            "showline": true,
            "ticks": "outside"
           },
           "baxis": {
            "gridcolor": "rgb(232,232,232)",
            "linecolor": "rgb(36,36,36)",
            "showgrid": false,
            "showline": true,
            "ticks": "outside"
           },
           "bgcolor": "white",
           "caxis": {
            "gridcolor": "rgb(232,232,232)",
            "linecolor": "rgb(36,36,36)",
            "showgrid": false,
            "showline": true,
            "ticks": "outside"
           }
          },
          "title": {
           "x": 0.05
          },
          "xaxis": {
           "automargin": true,
           "gridcolor": "rgb(232,232,232)",
           "linecolor": "rgb(36,36,36)",
           "showgrid": false,
           "showline": true,
           "ticks": "outside",
           "title": {
            "standoff": 15
           },
           "zeroline": false,
           "zerolinecolor": "rgb(36,36,36)"
          },
          "yaxis": {
           "automargin": true,
           "gridcolor": "rgb(232,232,232)",
           "linecolor": "rgb(36,36,36)",
           "showgrid": false,
           "showline": true,
           "ticks": "outside",
           "title": {
            "standoff": 15
           },
           "zeroline": false,
           "zerolinecolor": "rgb(36,36,36)"
          }
         }
        },
        "title": {
         "text": ""
        },
        "xaxis": {
         "showgrid": false,
         "showline": false,
         "showticklabels": false,
         "ticks": "",
         "title": {
          "text": ""
         },
         "zeroline": false
        },
        "yaxis": {
         "showgrid": false,
         "showline": false,
         "showticklabels": false,
         "ticks": "",
         "title": {
          "text": ""
         },
         "zeroline": false
        }
       }
      }
     },
     "metadata": {},
     "output_type": "display_data"
    }
   ],
   "source": [
    "import gtda.mapper as map\n",
    "import sklearn.cluster as cluster\n",
    "\n",
    "\n",
    "filter_func = l1_norm_trans\n",
    "cover = map.OneDimensionalCover(kind='uniform', n_intervals=30, overlap_frac=0.4)\n",
    "clusterer = cluster.DBSCAN()\n",
    "\n",
    "pipe = map.make_mapper_pipeline(\n",
    "    filter_func=filter_func,\n",
    "    cover=cover,\n",
    "    clusterer=clusterer,\n",
    "    verbose=False,\n",
    "    n_jobs=1,\n",
    ")\n",
    "\n",
    "fig = map.plot_static_mapper_graph(pipe, df_codes_array)\n",
    "fig.show(config={'scrollZoom': True})\n"
   ]
  },
  {
   "cell_type": "code",
   "execution_count": 15,
   "metadata": {},
   "outputs": [
    {
     "data": {
      "application/vnd.plotly.v1+json": {
       "config": {
        "plotlyServerURL": "https://plot.ly",
        "scrollZoom": true
       },
       "data": [
        {
         "hoverinfo": "none",
         "line": {
          "color": "#888",
          "width": 1
         },
         "mode": "lines",
         "name": "edge_trace",
         "type": "scatter",
         "uid": "87c00b15-62ab-4aa1-aca7-cdc2d5b8579d",
         "x": [
          2.724109153848126,
          2.184925407582361,
          null,
          2.184925407582361,
          1.8861677540520991,
          null,
          2.184925407582361,
          1.832964534306323,
          null,
          1.8861677540520991,
          1.3156111884123909,
          null,
          1.3156111884123909,
          0.95922675836816,
          null,
          1.832964534306323,
          1.263818638889656,
          null,
          1.263818638889656,
          0.95922675836816,
          null,
          0.95922675836816,
          0.4210034461363367,
          null,
          0.4210034461363367,
          -0.10039987386075355,
          null,
          -0.596572014092052,
          -1.0062195087380155,
          null,
          -0.596572014092052,
          -0.10039987386075355,
          null,
          -2.984182054497021,
          -3.481447493230109,
          null,
          -2.984182054497021,
          -2.771866496607214,
          null,
          -1.0062195087380155,
          -1.3327404356087367,
          null,
          -1.5837767961172744,
          -1.3327404356087367,
          null,
          -4.217808876836112,
          -4.038007462937904,
          null
         ],
         "y": [
          0.5588857590414261,
          0.46109356775326726,
          null,
          0.46109356775326726,
          -0.054581662781704746,
          null,
          0.46109356775326726,
          0.9401067876963116,
          null,
          -0.054581662781704746,
          -0.11244937749361987,
          null,
          -0.11244937749361987,
          0.3695640144213886,
          null,
          0.9401067876963116,
          0.8885331652547489,
          null,
          0.8885331652547489,
          0.3695640144213886,
          null,
          0.3695640144213886,
          0.27717493828322826,
          null,
          0.27717493828322826,
          0.19582271272341534,
          null,
          0.390983917556133,
          0.723880894569647,
          null,
          0.390983917556133,
          0.19582271272341534,
          null,
          4.470673547816068,
          4.294849682813571,
          null,
          4.470673547816068,
          4.951454945475757,
          null,
          0.723880894569647,
          1.144223684240049,
          null,
          1.61094505484326,
          1.144223684240049,
          null,
          0.46720084148010105,
          -0.027452472739126942,
          null
         ]
        },
        {
         "hoverinfo": "text",
         "hovertext": [
          "Node ID: 0<br>Pullback set label: 5<br>Partial cluster label: -1<br>Node size: 34<br>Summary statistic: 170.0",
          "Node ID: 1<br>Pullback set label: 6<br>Partial cluster label: -1<br>Node size: 20<br>Summary statistic: 50.9",
          "Node ID: 2<br>Pullback set label: 7<br>Partial cluster label: 0<br>Node size: 8<br>Summary statistic: 36.4",
          "Node ID: 3<br>Pullback set label: 8<br>Partial cluster label: 0<br>Node size: 9<br>Summary statistic: 44.1",
          "Node ID: 4<br>Pullback set label: 1<br>Partial cluster label: -1<br>Node size: 25<br>Summary statistic: 141.0",
          "Node ID: 5<br>Pullback set label: 7<br>Partial cluster label: -1<br>Node size: 11<br>Summary statistic: 62.9",
          "Node ID: 6<br>Pullback set label: 8<br>Partial cluster label: -1<br>Node size: 46<br>Summary statistic: 142.0",
          "Node ID: 7<br>Pullback set label: 9<br>Partial cluster label: -1<br>Node size: 44<br>Summary statistic: 144.0",
          "Node ID: 8<br>Pullback set label: 10<br>Partial cluster label: -1<br>Node size: 14<br>Summary statistic: 136.0",
          "Node ID: 9<br>Pullback set label: 12<br>Partial cluster label: -1<br>Node size: 34<br>Summary statistic: 146.0",
          "Node ID: 10<br>Pullback set label: 3<br>Partial cluster label: -1<br>Node size: 5<br>Summary statistic: 99.6",
          "Node ID: 11<br>Pullback set label: 4<br>Partial cluster label: -1<br>Node size: 1<br>Summary statistic: 24.0",
          "Node ID: 12<br>Pullback set label: 0<br>Partial cluster label: -1<br>Node size: 17<br>Summary statistic: 140.0",
          "Node ID: 13<br>Pullback set label: 13<br>Partial cluster label: -1<br>Node size: 29<br>Summary statistic: 155.0",
          "Node ID: 14<br>Pullback set label: 19<br>Partial cluster label: -1<br>Node size: 2<br>Summary statistic: 120.0",
          "Node ID: 15<br>Pullback set label: 15<br>Partial cluster label: -1<br>Node size: 5<br>Summary statistic: 137.0",
          "Node ID: 16<br>Pullback set label: 11<br>Partial cluster label: -1<br>Node size: 14<br>Summary statistic: 147.0",
          "Node ID: 17<br>Pullback set label: 5<br>Partial cluster label: 0<br>Node size: 5<br>Summary statistic: 174.0",
          "Node ID: 18<br>Pullback set label: 14<br>Partial cluster label: -1<br>Node size: 6<br>Summary statistic: 130.0",
          "Node ID: 19<br>Pullback set label: 17<br>Partial cluster label: 0<br>Node size: 45<br>Summary statistic: 219.0",
          "Node ID: 20<br>Pullback set label: 18<br>Partial cluster label: 0<br>Node size: 6<br>Summary statistic: 206.0",
          "Node ID: 21<br>Pullback set label: 16<br>Partial cluster label: -1<br>Node size: 1<br>Summary statistic: 103.0",
          "Node ID: 22<br>Pullback set label: 16<br>Partial cluster label: 0<br>Node size: 5<br>Summary statistic: 166.0",
          "Node ID: 23<br>Pullback set label: 2<br>Partial cluster label: -1<br>Node size: 1<br>Summary statistic: 168.0",
          "Node ID: 24<br>Pullback set label: 16<br>Partial cluster label: 1<br>Node size: 26<br>Summary statistic: 220.0",
          "Node ID: 25<br>Pullback set label: 8<br>Partial cluster label: 1<br>Node size: 8<br>Summary statistic: 195.0",
          "Node ID: 26<br>Pullback set label: 9<br>Partial cluster label: 0<br>Node size: 8<br>Summary statistic: 195.0",
          "Node ID: 27<br>Pullback set label: 17<br>Partial cluster label: -1<br>Node size: 1<br>Summary statistic: 202.0",
          "Node ID: 28<br>Pullback set label: 1<br>Partial cluster label: 0<br>Node size: 20<br>Summary statistic: 269.0"
         ],
         "marker": {
          "color": [
           170.3235294117647,
           50.9,
           36.375,
           44.111111111111114,
           141.08,
           62.90909090909091,
           142.2391304347826,
           144.1818181818182,
           135.92857142857142,
           145.55882352941177,
           99.6,
           24,
           140,
           154.55172413793105,
           120,
           136.8,
           146.85714285714286,
           173.6,
           129.5,
           219.0888888888889,
           206.5,
           103,
           166.4,
           168,
           219.80769230769232,
           195.25,
           195.25,
           202,
           268.8
          ],
          "colorbar": {
           "thickness": 15,
           "title": {
            "side": "right",
            "text": ""
           },
           "xanchor": "left"
          },
          "colorscale": [
           [
            0,
            "#440154"
           ],
           [
            0.1111111111111111,
            "#482878"
           ],
           [
            0.2222222222222222,
            "#3e4989"
           ],
           [
            0.3333333333333333,
            "#31688e"
           ],
           [
            0.4444444444444444,
            "#26828e"
           ],
           [
            0.5555555555555556,
            "#1f9e89"
           ],
           [
            0.6666666666666666,
            "#35b779"
           ],
           [
            0.7777777777777778,
            "#6ece58"
           ],
           [
            0.8888888888888888,
            "#b5de2b"
           ],
           [
            1,
            "#fde725"
           ]
          ],
          "line": {
           "color": "#888",
           "width": 1
          },
          "opacity": 1,
          "reversescale": false,
          "showscale": true,
          "size": [
           34,
           20,
           8,
           9,
           25,
           11,
           46,
           44,
           14,
           34,
           5,
           1,
           17,
           29,
           2,
           5,
           14,
           5,
           6,
           45,
           6,
           1,
           5,
           1,
           26,
           8,
           8,
           1,
           20
          ],
          "sizemin": 4,
          "sizemode": "area",
          "sizeref": 0.6388888888888888
         },
         "mode": "markers",
         "name": "node_trace",
         "type": "scatter",
         "uid": "f923ce31-9602-4ed3-8041-bb02ee1c7959",
         "x": [
          2.724109153848126,
          2.184925407582361,
          1.8861677540520991,
          1.3156111884123909,
          3.4524770467999493,
          1.832964534306323,
          1.263818638889656,
          0.95922675836816,
          0.4210034461363367,
          -0.596572014092052,
          -2.984182054497021,
          -3.481447493230109,
          2.584075313554516,
          -1.0062195087380155,
          -0.3995765318767308,
          -1.5837767961172744,
          -0.10039987386075355,
          -2.8937913984592707,
          -1.3327404356087367,
          -1.5330999605485243,
          -4.3340239857672325,
          -1.2266025962951799,
          -4.5028702432326835,
          -2.771866496607214,
          1.887610508847683,
          -4.217808876836112,
          -4.038007462937904,
          -0.128721543408063,
          1.006656629963
         ],
         "y": [
          0.5588857590414261,
          0.46109356775326726,
          -0.054581662781704746,
          -0.11244937749361987,
          3.387741484176452,
          0.9401067876963116,
          0.8885331652547489,
          0.3695640144213886,
          0.27717493828322826,
          0.390983917556133,
          4.470673547816068,
          4.294849682813571,
          4.307624207941622,
          0.723880894569647,
          6.000015298205591,
          1.61094505484326,
          0.19582271272341534,
          -1.516412649118576,
          1.144223684240049,
          5.673846096755192,
          3.0138714092860823,
          -2.341117343110842,
          1.9260718417703495,
          4.951454945475757,
          5.028439329815363,
          0.46720084148010105,
          -0.027452472739126942,
          4.75256442102673,
          5.704111109581193
         ]
        }
       ],
       "layout": {
        "autosize": false,
        "hovermode": "closest",
        "margin": {
         "b": 20,
         "l": 5,
         "r": 5,
         "t": 40
        },
        "showlegend": false,
        "template": {
         "data": {
          "bar": [
           {
            "error_x": {
             "color": "rgb(36,36,36)"
            },
            "error_y": {
             "color": "rgb(36,36,36)"
            },
            "marker": {
             "line": {
              "color": "white",
              "width": 0.5
             },
             "pattern": {
              "fillmode": "overlay",
              "size": 10,
              "solidity": 0.2
             }
            },
            "type": "bar"
           }
          ],
          "barpolar": [
           {
            "marker": {
             "line": {
              "color": "white",
              "width": 0.5
             },
             "pattern": {
              "fillmode": "overlay",
              "size": 10,
              "solidity": 0.2
             }
            },
            "type": "barpolar"
           }
          ],
          "carpet": [
           {
            "aaxis": {
             "endlinecolor": "rgb(36,36,36)",
             "gridcolor": "white",
             "linecolor": "white",
             "minorgridcolor": "white",
             "startlinecolor": "rgb(36,36,36)"
            },
            "baxis": {
             "endlinecolor": "rgb(36,36,36)",
             "gridcolor": "white",
             "linecolor": "white",
             "minorgridcolor": "white",
             "startlinecolor": "rgb(36,36,36)"
            },
            "type": "carpet"
           }
          ],
          "choropleth": [
           {
            "colorbar": {
             "outlinewidth": 1,
             "tickcolor": "rgb(36,36,36)",
             "ticks": "outside"
            },
            "type": "choropleth"
           }
          ],
          "contour": [
           {
            "colorbar": {
             "outlinewidth": 1,
             "tickcolor": "rgb(36,36,36)",
             "ticks": "outside"
            },
            "colorscale": [
             [
              0,
              "#440154"
             ],
             [
              0.1111111111111111,
              "#482878"
             ],
             [
              0.2222222222222222,
              "#3e4989"
             ],
             [
              0.3333333333333333,
              "#31688e"
             ],
             [
              0.4444444444444444,
              "#26828e"
             ],
             [
              0.5555555555555556,
              "#1f9e89"
             ],
             [
              0.6666666666666666,
              "#35b779"
             ],
             [
              0.7777777777777778,
              "#6ece58"
             ],
             [
              0.8888888888888888,
              "#b5de2b"
             ],
             [
              1,
              "#fde725"
             ]
            ],
            "type": "contour"
           }
          ],
          "contourcarpet": [
           {
            "colorbar": {
             "outlinewidth": 1,
             "tickcolor": "rgb(36,36,36)",
             "ticks": "outside"
            },
            "type": "contourcarpet"
           }
          ],
          "heatmap": [
           {
            "colorbar": {
             "outlinewidth": 1,
             "tickcolor": "rgb(36,36,36)",
             "ticks": "outside"
            },
            "colorscale": [
             [
              0,
              "#440154"
             ],
             [
              0.1111111111111111,
              "#482878"
             ],
             [
              0.2222222222222222,
              "#3e4989"
             ],
             [
              0.3333333333333333,
              "#31688e"
             ],
             [
              0.4444444444444444,
              "#26828e"
             ],
             [
              0.5555555555555556,
              "#1f9e89"
             ],
             [
              0.6666666666666666,
              "#35b779"
             ],
             [
              0.7777777777777778,
              "#6ece58"
             ],
             [
              0.8888888888888888,
              "#b5de2b"
             ],
             [
              1,
              "#fde725"
             ]
            ],
            "type": "heatmap"
           }
          ],
          "heatmapgl": [
           {
            "colorbar": {
             "outlinewidth": 1,
             "tickcolor": "rgb(36,36,36)",
             "ticks": "outside"
            },
            "colorscale": [
             [
              0,
              "#440154"
             ],
             [
              0.1111111111111111,
              "#482878"
             ],
             [
              0.2222222222222222,
              "#3e4989"
             ],
             [
              0.3333333333333333,
              "#31688e"
             ],
             [
              0.4444444444444444,
              "#26828e"
             ],
             [
              0.5555555555555556,
              "#1f9e89"
             ],
             [
              0.6666666666666666,
              "#35b779"
             ],
             [
              0.7777777777777778,
              "#6ece58"
             ],
             [
              0.8888888888888888,
              "#b5de2b"
             ],
             [
              1,
              "#fde725"
             ]
            ],
            "type": "heatmapgl"
           }
          ],
          "histogram": [
           {
            "marker": {
             "line": {
              "color": "white",
              "width": 0.6
             }
            },
            "type": "histogram"
           }
          ],
          "histogram2d": [
           {
            "colorbar": {
             "outlinewidth": 1,
             "tickcolor": "rgb(36,36,36)",
             "ticks": "outside"
            },
            "colorscale": [
             [
              0,
              "#440154"
             ],
             [
              0.1111111111111111,
              "#482878"
             ],
             [
              0.2222222222222222,
              "#3e4989"
             ],
             [
              0.3333333333333333,
              "#31688e"
             ],
             [
              0.4444444444444444,
              "#26828e"
             ],
             [
              0.5555555555555556,
              "#1f9e89"
             ],
             [
              0.6666666666666666,
              "#35b779"
             ],
             [
              0.7777777777777778,
              "#6ece58"
             ],
             [
              0.8888888888888888,
              "#b5de2b"
             ],
             [
              1,
              "#fde725"
             ]
            ],
            "type": "histogram2d"
           }
          ],
          "histogram2dcontour": [
           {
            "colorbar": {
             "outlinewidth": 1,
             "tickcolor": "rgb(36,36,36)",
             "ticks": "outside"
            },
            "colorscale": [
             [
              0,
              "#440154"
             ],
             [
              0.1111111111111111,
              "#482878"
             ],
             [
              0.2222222222222222,
              "#3e4989"
             ],
             [
              0.3333333333333333,
              "#31688e"
             ],
             [
              0.4444444444444444,
              "#26828e"
             ],
             [
              0.5555555555555556,
              "#1f9e89"
             ],
             [
              0.6666666666666666,
              "#35b779"
             ],
             [
              0.7777777777777778,
              "#6ece58"
             ],
             [
              0.8888888888888888,
              "#b5de2b"
             ],
             [
              1,
              "#fde725"
             ]
            ],
            "type": "histogram2dcontour"
           }
          ],
          "mesh3d": [
           {
            "colorbar": {
             "outlinewidth": 1,
             "tickcolor": "rgb(36,36,36)",
             "ticks": "outside"
            },
            "type": "mesh3d"
           }
          ],
          "parcoords": [
           {
            "line": {
             "colorbar": {
              "outlinewidth": 1,
              "tickcolor": "rgb(36,36,36)",
              "ticks": "outside"
             }
            },
            "type": "parcoords"
           }
          ],
          "pie": [
           {
            "automargin": true,
            "type": "pie"
           }
          ],
          "scatter": [
           {
            "fillpattern": {
             "fillmode": "overlay",
             "size": 10,
             "solidity": 0.2
            },
            "type": "scatter"
           }
          ],
          "scatter3d": [
           {
            "line": {
             "colorbar": {
              "outlinewidth": 1,
              "tickcolor": "rgb(36,36,36)",
              "ticks": "outside"
             }
            },
            "marker": {
             "colorbar": {
              "outlinewidth": 1,
              "tickcolor": "rgb(36,36,36)",
              "ticks": "outside"
             }
            },
            "type": "scatter3d"
           }
          ],
          "scattercarpet": [
           {
            "marker": {
             "colorbar": {
              "outlinewidth": 1,
              "tickcolor": "rgb(36,36,36)",
              "ticks": "outside"
             }
            },
            "type": "scattercarpet"
           }
          ],
          "scattergeo": [
           {
            "marker": {
             "colorbar": {
              "outlinewidth": 1,
              "tickcolor": "rgb(36,36,36)",
              "ticks": "outside"
             }
            },
            "type": "scattergeo"
           }
          ],
          "scattergl": [
           {
            "marker": {
             "colorbar": {
              "outlinewidth": 1,
              "tickcolor": "rgb(36,36,36)",
              "ticks": "outside"
             }
            },
            "type": "scattergl"
           }
          ],
          "scattermapbox": [
           {
            "marker": {
             "colorbar": {
              "outlinewidth": 1,
              "tickcolor": "rgb(36,36,36)",
              "ticks": "outside"
             }
            },
            "type": "scattermapbox"
           }
          ],
          "scatterpolar": [
           {
            "marker": {
             "colorbar": {
              "outlinewidth": 1,
              "tickcolor": "rgb(36,36,36)",
              "ticks": "outside"
             }
            },
            "type": "scatterpolar"
           }
          ],
          "scatterpolargl": [
           {
            "marker": {
             "colorbar": {
              "outlinewidth": 1,
              "tickcolor": "rgb(36,36,36)",
              "ticks": "outside"
             }
            },
            "type": "scatterpolargl"
           }
          ],
          "scatterternary": [
           {
            "marker": {
             "colorbar": {
              "outlinewidth": 1,
              "tickcolor": "rgb(36,36,36)",
              "ticks": "outside"
             }
            },
            "type": "scatterternary"
           }
          ],
          "surface": [
           {
            "colorbar": {
             "outlinewidth": 1,
             "tickcolor": "rgb(36,36,36)",
             "ticks": "outside"
            },
            "colorscale": [
             [
              0,
              "#440154"
             ],
             [
              0.1111111111111111,
              "#482878"
             ],
             [
              0.2222222222222222,
              "#3e4989"
             ],
             [
              0.3333333333333333,
              "#31688e"
             ],
             [
              0.4444444444444444,
              "#26828e"
             ],
             [
              0.5555555555555556,
              "#1f9e89"
             ],
             [
              0.6666666666666666,
              "#35b779"
             ],
             [
              0.7777777777777778,
              "#6ece58"
             ],
             [
              0.8888888888888888,
              "#b5de2b"
             ],
             [
              1,
              "#fde725"
             ]
            ],
            "type": "surface"
           }
          ],
          "table": [
           {
            "cells": {
             "fill": {
              "color": "rgb(237,237,237)"
             },
             "line": {
              "color": "white"
             }
            },
            "header": {
             "fill": {
              "color": "rgb(217,217,217)"
             },
             "line": {
              "color": "white"
             }
            },
            "type": "table"
           }
          ]
         },
         "layout": {
          "annotationdefaults": {
           "arrowhead": 0,
           "arrowwidth": 1
          },
          "autotypenumbers": "strict",
          "coloraxis": {
           "colorbar": {
            "outlinewidth": 1,
            "tickcolor": "rgb(36,36,36)",
            "ticks": "outside"
           }
          },
          "colorscale": {
           "diverging": [
            [
             0,
             "rgb(103,0,31)"
            ],
            [
             0.1,
             "rgb(178,24,43)"
            ],
            [
             0.2,
             "rgb(214,96,77)"
            ],
            [
             0.3,
             "rgb(244,165,130)"
            ],
            [
             0.4,
             "rgb(253,219,199)"
            ],
            [
             0.5,
             "rgb(247,247,247)"
            ],
            [
             0.6,
             "rgb(209,229,240)"
            ],
            [
             0.7,
             "rgb(146,197,222)"
            ],
            [
             0.8,
             "rgb(67,147,195)"
            ],
            [
             0.9,
             "rgb(33,102,172)"
            ],
            [
             1,
             "rgb(5,48,97)"
            ]
           ],
           "sequential": [
            [
             0,
             "#440154"
            ],
            [
             0.1111111111111111,
             "#482878"
            ],
            [
             0.2222222222222222,
             "#3e4989"
            ],
            [
             0.3333333333333333,
             "#31688e"
            ],
            [
             0.4444444444444444,
             "#26828e"
            ],
            [
             0.5555555555555556,
             "#1f9e89"
            ],
            [
             0.6666666666666666,
             "#35b779"
            ],
            [
             0.7777777777777778,
             "#6ece58"
            ],
            [
             0.8888888888888888,
             "#b5de2b"
            ],
            [
             1,
             "#fde725"
            ]
           ],
           "sequentialminus": [
            [
             0,
             "#440154"
            ],
            [
             0.1111111111111111,
             "#482878"
            ],
            [
             0.2222222222222222,
             "#3e4989"
            ],
            [
             0.3333333333333333,
             "#31688e"
            ],
            [
             0.4444444444444444,
             "#26828e"
            ],
            [
             0.5555555555555556,
             "#1f9e89"
            ],
            [
             0.6666666666666666,
             "#35b779"
            ],
            [
             0.7777777777777778,
             "#6ece58"
            ],
            [
             0.8888888888888888,
             "#b5de2b"
            ],
            [
             1,
             "#fde725"
            ]
           ]
          },
          "colorway": [
           "#1F77B4",
           "#FF7F0E",
           "#2CA02C",
           "#D62728",
           "#9467BD",
           "#8C564B",
           "#E377C2",
           "#7F7F7F",
           "#BCBD22",
           "#17BECF"
          ],
          "font": {
           "color": "rgb(36,36,36)"
          },
          "geo": {
           "bgcolor": "white",
           "lakecolor": "white",
           "landcolor": "white",
           "showlakes": true,
           "showland": true,
           "subunitcolor": "white"
          },
          "hoverlabel": {
           "align": "left"
          },
          "hovermode": "closest",
          "mapbox": {
           "style": "light"
          },
          "paper_bgcolor": "white",
          "plot_bgcolor": "white",
          "polar": {
           "angularaxis": {
            "gridcolor": "rgb(232,232,232)",
            "linecolor": "rgb(36,36,36)",
            "showgrid": false,
            "showline": true,
            "ticks": "outside"
           },
           "bgcolor": "white",
           "radialaxis": {
            "gridcolor": "rgb(232,232,232)",
            "linecolor": "rgb(36,36,36)",
            "showgrid": false,
            "showline": true,
            "ticks": "outside"
           }
          },
          "scene": {
           "xaxis": {
            "backgroundcolor": "white",
            "gridcolor": "rgb(232,232,232)",
            "gridwidth": 2,
            "linecolor": "rgb(36,36,36)",
            "showbackground": true,
            "showgrid": false,
            "showline": true,
            "ticks": "outside",
            "zeroline": false,
            "zerolinecolor": "rgb(36,36,36)"
           },
           "yaxis": {
            "backgroundcolor": "white",
            "gridcolor": "rgb(232,232,232)",
            "gridwidth": 2,
            "linecolor": "rgb(36,36,36)",
            "showbackground": true,
            "showgrid": false,
            "showline": true,
            "ticks": "outside",
            "zeroline": false,
            "zerolinecolor": "rgb(36,36,36)"
           },
           "zaxis": {
            "backgroundcolor": "white",
            "gridcolor": "rgb(232,232,232)",
            "gridwidth": 2,
            "linecolor": "rgb(36,36,36)",
            "showbackground": true,
            "showgrid": false,
            "showline": true,
            "ticks": "outside",
            "zeroline": false,
            "zerolinecolor": "rgb(36,36,36)"
           }
          },
          "shapedefaults": {
           "fillcolor": "black",
           "line": {
            "width": 0
           },
           "opacity": 0.3
          },
          "ternary": {
           "aaxis": {
            "gridcolor": "rgb(232,232,232)",
            "linecolor": "rgb(36,36,36)",
            "showgrid": false,
            "showline": true,
            "ticks": "outside"
           },
           "baxis": {
            "gridcolor": "rgb(232,232,232)",
            "linecolor": "rgb(36,36,36)",
            "showgrid": false,
            "showline": true,
            "ticks": "outside"
           },
           "bgcolor": "white",
           "caxis": {
            "gridcolor": "rgb(232,232,232)",
            "linecolor": "rgb(36,36,36)",
            "showgrid": false,
            "showline": true,
            "ticks": "outside"
           }
          },
          "title": {
           "x": 0.05
          },
          "xaxis": {
           "automargin": true,
           "gridcolor": "rgb(232,232,232)",
           "linecolor": "rgb(36,36,36)",
           "showgrid": false,
           "showline": true,
           "ticks": "outside",
           "title": {
            "standoff": 15
           },
           "zeroline": false,
           "zerolinecolor": "rgb(36,36,36)"
          },
          "yaxis": {
           "automargin": true,
           "gridcolor": "rgb(232,232,232)",
           "linecolor": "rgb(36,36,36)",
           "showgrid": false,
           "showline": true,
           "ticks": "outside",
           "title": {
            "standoff": 15
           },
           "zeroline": false,
           "zerolinecolor": "rgb(36,36,36)"
          }
         }
        },
        "title": {
         "text": ""
        },
        "xaxis": {
         "showgrid": false,
         "showline": false,
         "showticklabels": false,
         "ticks": "",
         "title": {
          "text": ""
         },
         "zeroline": false
        },
        "yaxis": {
         "showgrid": false,
         "showline": false,
         "showticklabels": false,
         "ticks": "",
         "title": {
          "text": ""
         },
         "zeroline": false
        }
       }
      }
     },
     "metadata": {},
     "output_type": "display_data"
    }
   ],
   "source": [
    "import gtda.mapper as map\n",
    "import sklearn.cluster as cluster\n",
    "\n",
    "\n",
    "filter_func = l1_norm_trans\n",
    "cover = map.OneDimensionalCover(kind='uniform', n_intervals=30, overlap_frac=0.4)\n",
    "clusterer = cluster.DBSCAN()\n",
    "\n",
    "pipe = map.make_mapper_pipeline(\n",
    "    filter_func=filter_func,\n",
    "    cover=cover,\n",
    "    clusterer=clusterer,\n",
    "    verbose=False,\n",
    "    n_jobs=1,\n",
    ")\n",
    "\n",
    "fig = map.plot_static_mapper_graph(pipe, df_codes_array_norm_tweet)\n",
    "fig.show(config={'scrollZoom': True})"
   ]
  },
  {
   "cell_type": "code",
   "execution_count": 16,
   "metadata": {},
   "outputs": [
    {
     "data": {
      "text/plain": [
       "(array([296.,  18.,   5.,   4.,   0.,   0.,   0.,   0.,   1.,   0.,   1.,\n",
       "          0.,   0.,   0.,   1.,   0.,   1.,   0.,   0.,   1.]),\n",
       " array([  1.  ,  21.85,  42.7 ,  63.55,  84.4 , 105.25, 126.1 , 146.95,\n",
       "        167.8 , 188.65, 209.5 , 230.35, 251.2 , 272.05, 292.9 , 313.75,\n",
       "        334.6 , 355.45, 376.3 , 397.15, 418.  ]),\n",
       " <BarContainer object of 20 artists>)"
      ]
     },
     "execution_count": 16,
     "metadata": {},
     "output_type": "execute_result"
    },
    {
     "data": {
      "image/png": "[encoded data removed]",
      "text/plain": [
       "<Figure size 640x480 with 1 Axes>"
      ]
     },
     "metadata": {},
     "output_type": "display_data"
    }
   ],
   "source": [
    "meh = l1_norm_trans.fit_transform(df_codes_array)\n",
    "meh\n",
    "plt.hist(meh[:,0], bins=20)"
   ]
  },
  {
   "cell_type": "code",
   "execution_count": 17,
   "metadata": {},
   "outputs": [
    {
     "data": {
      "text/plain": [
       "(array([17.,  0., 45.,  4.,  1., 48., 20., 52., 13.,  7., 29.,  6., 32.,\n",
       "         0.,  0., 46.,  0.,  6.,  0.,  2.]),\n",
       " array([1. , 1.4, 1.8, 2.2, 2.6, 3. , 3.4, 3.8, 4.2, 4.6, 5. , 5.4, 5.8,\n",
       "        6.2, 6.6, 7. , 7.4, 7.8, 8.2, 8.6, 9. ]),\n",
       " <BarContainer object of 20 artists>)"
      ]
     },
     "execution_count": 17,
     "metadata": {},
     "output_type": "execute_result"
    },
    {
     "data": {
      "image/png": "[encoded data removed]",
      "text/plain": [
       "<Figure size 640x480 with 1 Axes>"
      ]
     },
     "metadata": {},
     "output_type": "display_data"
    }
   ],
   "source": [
    "meh2 = l1_norm_trans.fit_transform(df_codes_array_norm_tweet)\n",
    "meh2\n",
    "plt.hist(meh2[:,0], bins=20)"
   ]
  },
  {
   "cell_type": "markdown",
   "metadata": {},
   "source": [
    "## MDS"
   ]
  },
  {
   "cell_type": "code",
   "execution_count": 19,
   "metadata": {},
   "outputs": [
    {
     "data": {
      "text/plain": [
       "[<matplotlib.lines.Line2D at 0x7faf85d7bbb0>]"
      ]
     },
     "execution_count": 19,
     "metadata": {},
     "output_type": "execute_result"
    },
    {
     "data": {
      "image/png": "[encoded data removed]",
      "text/plain": [
       "<Figure size 640x480 with 1 Axes>"
      ]
     },
     "metadata": {},
     "output_type": "display_data"
    }
   ],
   "source": [
    "#let's do some mds\n",
    "from sklearn.manifold import MDS\n",
    "\n",
    "mds = MDS(n_components=2)\n",
    "X = mds.fit_transform(df_codes_array)\n",
    "plt.plot(X[:,0],X[:,1],'o')"
   ]
  },
  {
   "cell_type": "code",
   "execution_count": 20,
   "metadata": {},
   "outputs": [
    {
     "data": {
      "text/plain": [
       "[<matplotlib.lines.Line2D at 0x7faf860f24f0>]"
      ]
     },
     "execution_count": 20,
     "metadata": {},
     "output_type": "execute_result"
    },
    {
     "data": {
      "image/png": "[encoded data removed]",
      "text/plain": [
       "<Figure size 640x480 with 1 Axes>"
      ]
     },
     "metadata": {},
     "output_type": "display_data"
    }
   ],
   "source": [
    "mds = MDS(n_components=2)\n",
    "X = mds.fit_transform(df_codes_array_norm_tweet)\n",
    "plt.plot(X[:,0],X[:,1],'o')"
   ]
  },
  {
   "cell_type": "markdown",
   "metadata": {},
   "source": [
    "## Lower Dim stuff"
   ]
  },
  {
   "cell_type": "code",
   "execution_count": 24,
   "metadata": {},
   "outputs": [],
   "source": [
    "df_codes_SO = df_codes[['amplification', 'SO impact', 'activation', 'strategic planning', 'troll']]\n",
    "df_codes_SO_array = df_codes_SO.to_numpy()\n",
    "\n",
    "\n",
    "\n"
   ]
  },
  {
   "cell_type": "code",
   "execution_count": 25,
   "metadata": {},
   "outputs": [
    {
     "data": {
      "application/vnd.plotly.v1+json": {
       "config": {
        "plotlyServerURL": "https://plot.ly"
       },
       "data": [
        {
         "hoverinfo": "none",
         "line": {
          "color": "black",
          "dash": "dash",
          "width": 1
         },
         "mode": "lines",
         "showlegend": false,
         "type": "scatter",
         "x": [
          -0.46,
          23.46
         ],
         "y": [
          -0.46,
          23.46
         ]
        },
        {
         "hoverinfo": "text",
         "hovertext": [
          "(0.0, 1.0), multiplicity: 24",
          "(0.0, 1.0), multiplicity: 24",
          "(0.0, 1.0), multiplicity: 24",
          "(0.0, 1.0), multiplicity: 24",
          "(0.0, 1.0), multiplicity: 24",
          "(0.0, 1.0), multiplicity: 24",
          "(0.0, 1.0), multiplicity: 24",
          "(0.0, 1.0), multiplicity: 24",
          "(0.0, 1.0), multiplicity: 24",
          "(0.0, 1.0), multiplicity: 24",
          "(0.0, 1.0), multiplicity: 24",
          "(0.0, 1.0), multiplicity: 24",
          "(0.0, 1.0), multiplicity: 24",
          "(0.0, 1.0), multiplicity: 24",
          "(0.0, 1.0), multiplicity: 24",
          "(0.0, 1.0), multiplicity: 24",
          "(0.0, 1.0), multiplicity: 24",
          "(0.0, 1.0), multiplicity: 24",
          "(0.0, 1.0), multiplicity: 24",
          "(0.0, 1.0), multiplicity: 24",
          "(0.0, 1.0), multiplicity: 24",
          "(0.0, 1.0), multiplicity: 24",
          "(0.0, 1.0), multiplicity: 24",
          "(0.0, 1.0), multiplicity: 24",
          "(0.0, 2.0), multiplicity: 5",
          "(0.0, 2.0), multiplicity: 5",
          "(0.0, 2.0), multiplicity: 5",
          "(0.0, 2.0), multiplicity: 5",
          "(0.0, 2.0), multiplicity: 5",
          "(0.0, 3.0), multiplicity: 3",
          "(0.0, 3.0), multiplicity: 3",
          "(0.0, 3.0), multiplicity: 3",
          "(0.0, 4.0)",
          "(0.0, 14.0)",
          "(0.0, 17.0), multiplicity: 2",
          "(0.0, 17.0), multiplicity: 2",
          "(0.0, 23.0), multiplicity: 2",
          "(0.0, 23.0), multiplicity: 2"
         ],
         "mode": "markers",
         "name": "H0",
         "type": "scatter",
         "x": [
          0,
          0,
          0,
          0,
          0,
          0,
          0,
          0,
          0,
          0,
          0,
          0,
          0,
          0,
          0,
          0,
          0,
          0,
          0,
          0,
          0,
          0,
          0,
          0,
          0,
          0,
          0,
          0,
          0,
          0,
          0,
          0,
          0,
          0,
          0,
          0,
          0,
          0
         ],
         "y": [
          1,
          1,
          1,
          1,
          1,
          1,
          1,
          1,
          1,
          1,
          1,
          1,
          1,
          1,
          1,
          1,
          1,
          1,
          1,
          1,
          1,
          1,
          1,
          1,
          2,
          2,
          2,
          2,
          2,
          3,
          3,
          3,
          4,
          14,
          17,
          17,
          23,
          23
         ]
        },
        {
         "hoverinfo": "text",
         "hovertext": [
          "(6.0, 7.0)",
          "(2.0, 3.0)",
          "(1.0, 2.0), multiplicity: 10",
          "(1.0, 2.0), multiplicity: 10",
          "(1.0, 2.0), multiplicity: 10",
          "(1.0, 2.0), multiplicity: 10",
          "(1.0, 2.0), multiplicity: 10",
          "(1.0, 2.0), multiplicity: 10",
          "(1.0, 2.0), multiplicity: 10",
          "(1.0, 2.0), multiplicity: 10",
          "(1.0, 2.0), multiplicity: 10",
          "(1.0, 2.0), multiplicity: 10"
         ],
         "mode": "markers",
         "name": "H1",
         "type": "scatter",
         "x": [
          6,
          2,
          1,
          1,
          1,
          1,
          1,
          1,
          1,
          1,
          1,
          1
         ],
         "y": [
          7,
          3,
          2,
          2,
          2,
          2,
          2,
          2,
          2,
          2,
          2,
          2
         ]
        },
        {
         "hoverinfo": "text",
         "hovertext": [
          "(3.0, 4.0)"
         ],
         "mode": "markers",
         "name": "H2",
         "type": "scatter",
         "x": [
          3
         ],
         "y": [
          4
         ]
        }
       ],
       "layout": {
        "height": 500,
        "plot_bgcolor": "white",
        "template": {
         "data": {
          "bar": [
           {
            "error_x": {
             "color": "#2a3f5f"
            },
            "error_y": {
             "color": "#2a3f5f"
            },
            "marker": {
             "line": {
              "color": "#E5ECF6",
              "width": 0.5
             },
             "pattern": {
              "fillmode": "overlay",
              "size": 10,
              "solidity": 0.2
             }
            },
            "type": "bar"
           }
          ],
          "barpolar": [
           {
            "marker": {
             "line": {
              "color": "#E5ECF6",
              "width": 0.5
             },
             "pattern": {
              "fillmode": "overlay",
              "size": 10,
              "solidity": 0.2
             }
            },
            "type": "barpolar"
           }
          ],
          "carpet": [
           {
            "aaxis": {
             "endlinecolor": "#2a3f5f",
             "gridcolor": "white",
             "linecolor": "white",
             "minorgridcolor": "white",
             "startlinecolor": "#2a3f5f"
            },
            "baxis": {
             "endlinecolor": "#2a3f5f",
             "gridcolor": "white",
             "linecolor": "white",
             "minorgridcolor": "white",
             "startlinecolor": "#2a3f5f"
            },
            "type": "carpet"
           }
          ],
          "choropleth": [
           {
            "colorbar": {
             "outlinewidth": 0,
             "ticks": ""
            },
            "type": "choropleth"
           }
          ],
          "contour": [
           {
            "colorbar": {
             "outlinewidth": 0,
             "ticks": ""
            },
            "colorscale": [
             [
              0,
              "#0d0887"
             ],
             [
              0.1111111111111111,
              "#46039f"
             ],
             [
              0.2222222222222222,
              "#7201a8"
             ],
             [
              0.3333333333333333,
              "#9c179e"
             ],
             [
              0.4444444444444444,
              "#bd3786"
             ],
             [
              0.5555555555555556,
              "#d8576b"
             ],
             [
              0.6666666666666666,
              "#ed7953"
             ],
             [
              0.7777777777777778,
              "#fb9f3a"
             ],
             [
              0.8888888888888888,
              "#fdca26"
             ],
             [
              1,
              "#f0f921"
             ]
            ],
            "type": "contour"
           }
          ],
          "contourcarpet": [
           {
            "colorbar": {
             "outlinewidth": 0,
             "ticks": ""
            },
            "type": "contourcarpet"
           }
          ],
          "heatmap": [
           {
            "colorbar": {
             "outlinewidth": 0,
             "ticks": ""
            },
            "colorscale": [
             [
              0,
              "#0d0887"
             ],
             [
              0.1111111111111111,
              "#46039f"
             ],
             [
              0.2222222222222222,
              "#7201a8"
             ],
             [
              0.3333333333333333,
              "#9c179e"
             ],
             [
              0.4444444444444444,
              "#bd3786"
             ],
             [
              0.5555555555555556,
              "#d8576b"
             ],
             [
              0.6666666666666666,
              "#ed7953"
             ],
             [
              0.7777777777777778,
              "#fb9f3a"
             ],
             [
              0.8888888888888888,
              "#fdca26"
             ],
             [
              1,
              "#f0f921"
             ]
            ],
            "type": "heatmap"
           }
          ],
          "heatmapgl": [
           {
            "colorbar": {
             "outlinewidth": 0,
             "ticks": ""
            },
            "colorscale": [
             [
              0,
              "#0d0887"
             ],
             [
              0.1111111111111111,
              "#46039f"
             ],
             [
              0.2222222222222222,
              "#7201a8"
             ],
             [
              0.3333333333333333,
              "#9c179e"
             ],
             [
              0.4444444444444444,
              "#bd3786"
             ],
             [
              0.5555555555555556,
              "#d8576b"
             ],
             [
              0.6666666666666666,
              "#ed7953"
             ],
             [
              0.7777777777777778,
              "#fb9f3a"
             ],
             [
              0.8888888888888888,
              "#fdca26"
             ],
             [
              1,
              "#f0f921"
             ]
            ],
            "type": "heatmapgl"
           }
          ],
          "histogram": [
           {
            "marker": {
             "pattern": {
              "fillmode": "overlay",
              "size": 10,
              "solidity": 0.2
             }
            },
            "type": "histogram"
           }
          ],
          "histogram2d": [
           {
            "colorbar": {
             "outlinewidth": 0,
             "ticks": ""
            },
            "colorscale": [
             [
              0,
              "#0d0887"
             ],
             [
              0.1111111111111111,
              "#46039f"
             ],
             [
              0.2222222222222222,
              "#7201a8"
             ],
             [
              0.3333333333333333,
              "#9c179e"
             ],
             [
              0.4444444444444444,
              "#bd3786"
             ],
             [
              0.5555555555555556,
              "#d8576b"
             ],
             [
              0.6666666666666666,
              "#ed7953"
             ],
             [
              0.7777777777777778,
              "#fb9f3a"
             ],
             [
              0.8888888888888888,
              "#fdca26"
             ],
             [
              1,
              "#f0f921"
             ]
            ],
            "type": "histogram2d"
           }
          ],
          "histogram2dcontour": [
           {
            "colorbar": {
             "outlinewidth": 0,
             "ticks": ""
            },
            "colorscale": [
             [
              0,
              "#0d0887"
             ],
             [
              0.1111111111111111,
              "#46039f"
             ],
             [
              0.2222222222222222,
              "#7201a8"
             ],
             [
              0.3333333333333333,
              "#9c179e"
             ],
             [
              0.4444444444444444,
              "#bd3786"
             ],
             [
              0.5555555555555556,
              "#d8576b"
             ],
             [
              0.6666666666666666,
              "#ed7953"
             ],
             [
              0.7777777777777778,
              "#fb9f3a"
             ],
             [
              0.8888888888888888,
              "#fdca26"
             ],
             [
              1,
              "#f0f921"
             ]
            ],
            "type": "histogram2dcontour"
           }
          ],
          "mesh3d": [
           {
            "colorbar": {
             "outlinewidth": 0,
             "ticks": ""
            },
            "type": "mesh3d"
           }
          ],
          "parcoords": [
           {
            "line": {
             "colorbar": {
              "outlinewidth": 0,
              "ticks": ""
             }
            },
            "type": "parcoords"
           }
          ],
          "pie": [
           {
            "automargin": true,
            "type": "pie"
           }
          ],
          "scatter": [
           {
            "fillpattern": {
             "fillmode": "overlay",
             "size": 10,
             "solidity": 0.2
            },
            "type": "scatter"
           }
          ],
          "scatter3d": [
           {
            "line": {
             "colorbar": {
              "outlinewidth": 0,
              "ticks": ""
             }
            },
            "marker": {
             "colorbar": {
              "outlinewidth": 0,
              "ticks": ""
             }
            },
            "type": "scatter3d"
           }
          ],
          "scattercarpet": [
           {
            "marker": {
             "colorbar": {
              "outlinewidth": 0,
              "ticks": ""
             }
            },
            "type": "scattercarpet"
           }
          ],
          "scattergeo": [
           {
            "marker": {
             "colorbar": {
              "outlinewidth": 0,
              "ticks": ""
             }
            },
            "type": "scattergeo"
           }
          ],
          "scattergl": [
           {
            "marker": {
             "colorbar": {
              "outlinewidth": 0,
              "ticks": ""
             }
            },
            "type": "scattergl"
           }
          ],
          "scattermapbox": [
           {
            "marker": {
             "colorbar": {
              "outlinewidth": 0,
              "ticks": ""
             }
            },
            "type": "scattermapbox"
           }
          ],
          "scatterpolar": [
           {
            "marker": {
             "colorbar": {
              "outlinewidth": 0,
              "ticks": ""
             }
            },
            "type": "scatterpolar"
           }
          ],
          "scatterpolargl": [
           {
            "marker": {
             "colorbar": {
              "outlinewidth": 0,
              "ticks": ""
             }
            },
            "type": "scatterpolargl"
           }
          ],
          "scatterternary": [
           {
            "marker": {
             "colorbar": {
              "outlinewidth": 0,
              "ticks": ""
             }
            },
            "type": "scatterternary"
           }
          ],
          "surface": [
           {
            "colorbar": {
             "outlinewidth": 0,
             "ticks": ""
            },
            "colorscale": [
             [
              0,
              "#0d0887"
             ],
             [
              0.1111111111111111,
              "#46039f"
             ],
             [
              0.2222222222222222,
              "#7201a8"
             ],
             [
              0.3333333333333333,
              "#9c179e"
             ],
             [
              0.4444444444444444,
              "#bd3786"
             ],
             [
              0.5555555555555556,
              "#d8576b"
             ],
             [
              0.6666666666666666,
              "#ed7953"
             ],
             [
              0.7777777777777778,
              "#fb9f3a"
             ],
             [
              0.8888888888888888,
              "#fdca26"
             ],
             [
              1,
              "#f0f921"
             ]
            ],
            "type": "surface"
           }
          ],
          "table": [
           {
            "cells": {
             "fill": {
              "color": "#EBF0F8"
             },
             "line": {
              "color": "white"
             }
            },
            "header": {
             "fill": {
              "color": "#C8D4E3"
             },
             "line": {
              "color": "white"
             }
            },
            "type": "table"
           }
          ]
         },
         "layout": {
          "annotationdefaults": {
           "arrowcolor": "#2a3f5f",
           "arrowhead": 0,
           "arrowwidth": 1
          },
          "autotypenumbers": "strict",
          "coloraxis": {
           "colorbar": {
            "outlinewidth": 0,
            "ticks": ""
           }
          },
          "colorscale": {
           "diverging": [
            [
             0,
             "#8e0152"
            ],
            [
             0.1,
             "#c51b7d"
            ],
            [
             0.2,
             "#de77ae"
            ],
            [
             0.3,
             "#f1b6da"
            ],
            [
             0.4,
             "#fde0ef"
            ],
            [
             0.5,
             "#f7f7f7"
            ],
            [
             0.6,
             "#e6f5d0"
            ],
            [
             0.7,
             "#b8e186"
            ],
            [
             0.8,
             "#7fbc41"
            ],
            [
             0.9,
             "#4d9221"
            ],
            [
             1,
             "#276419"
            ]
           ],
           "sequential": [
            [
             0,
             "#0d0887"
            ],
            [
             0.1111111111111111,
             "#46039f"
            ],
            [
             0.2222222222222222,
             "#7201a8"
            ],
            [
             0.3333333333333333,
             "#9c179e"
            ],
            [
             0.4444444444444444,
             "#bd3786"
            ],
            [
             0.5555555555555556,
             "#d8576b"
            ],
            [
             0.6666666666666666,
             "#ed7953"
            ],
            [
             0.7777777777777778,
             "#fb9f3a"
            ],
            [
             0.8888888888888888,
             "#fdca26"
            ],
            [
             1,
             "#f0f921"
            ]
           ],
           "sequentialminus": [
            [
             0,
             "#0d0887"
            ],
            [
             0.1111111111111111,
             "#46039f"
            ],
            [
             0.2222222222222222,
             "#7201a8"
            ],
            [
             0.3333333333333333,
             "#9c179e"
            ],
            [
             0.4444444444444444,
             "#bd3786"
            ],
            [
             0.5555555555555556,
             "#d8576b"
            ],
            [
             0.6666666666666666,
             "#ed7953"
            ],
            [
             0.7777777777777778,
             "#fb9f3a"
            ],
            [
             0.8888888888888888,
             "#fdca26"
            ],
            [
             1,
             "#f0f921"
            ]
           ]
          },
          "colorway": [
           "#636efa",
           "#EF553B",
           "#00cc96",
           "#ab63fa",
           "#FFA15A",
           "#19d3f3",
           "#FF6692",
           "#B6E880",
           "#FF97FF",
           "#FECB52"
          ],
          "font": {
           "color": "#2a3f5f"
          },
          "geo": {
           "bgcolor": "white",
           "lakecolor": "white",
           "landcolor": "#E5ECF6",
           "showlakes": true,
           "showland": true,
           "subunitcolor": "white"
          },
          "hoverlabel": {
           "align": "left"
          },
          "hovermode": "closest",
          "mapbox": {
           "style": "light"
          },
          "paper_bgcolor": "white",
          "plot_bgcolor": "#E5ECF6",
          "polar": {
           "angularaxis": {
            "gridcolor": "white",
            "linecolor": "white",
            "ticks": ""
           },
           "bgcolor": "#E5ECF6",
           "radialaxis": {
            "gridcolor": "white",
            "linecolor": "white",
            "ticks": ""
           }
          },
          "scene": {
           "xaxis": {
            "backgroundcolor": "#E5ECF6",
            "gridcolor": "white",
            "gridwidth": 2,
            "linecolor": "white",
            "showbackground": true,
            "ticks": "",
            "zerolinecolor": "white"
           },
           "yaxis": {
            "backgroundcolor": "#E5ECF6",
            "gridcolor": "white",
            "gridwidth": 2,
            "linecolor": "white",
            "showbackground": true,
            "ticks": "",
            "zerolinecolor": "white"
           },
           "zaxis": {
            "backgroundcolor": "#E5ECF6",
            "gridcolor": "white",
            "gridwidth": 2,
            "linecolor": "white",
            "showbackground": true,
            "ticks": "",
            "zerolinecolor": "white"
           }
          },
          "shapedefaults": {
           "line": {
            "color": "#2a3f5f"
           }
          },
          "ternary": {
           "aaxis": {
            "gridcolor": "white",
            "linecolor": "white",
            "ticks": ""
           },
           "baxis": {
            "gridcolor": "white",
            "linecolor": "white",
            "ticks": ""
           },
           "bgcolor": "#E5ECF6",
           "caxis": {
            "gridcolor": "white",
            "linecolor": "white",
            "ticks": ""
           }
          },
          "title": {
           "x": 0.05
          },
          "xaxis": {
           "automargin": true,
           "gridcolor": "white",
           "linecolor": "white",
           "ticks": "",
           "title": {
            "standoff": 15
           },
           "zerolinecolor": "white",
           "zerolinewidth": 2
          },
          "yaxis": {
           "automargin": true,
           "gridcolor": "white",
           "linecolor": "white",
           "ticks": "",
           "title": {
            "standoff": 15
           },
           "zerolinecolor": "white",
           "zerolinewidth": 2
          }
         }
        },
        "width": 500,
        "xaxis": {
         "autorange": false,
         "exponentformat": "e",
         "linecolor": "black",
         "linewidth": 1,
         "mirror": false,
         "range": [
          -0.46,
          23.46
         ],
         "showexponent": "all",
         "showline": true,
         "side": "bottom",
         "ticks": "outside",
         "title": {
          "text": "Birth"
         },
         "type": "linear",
         "zeroline": true
        },
        "yaxis": {
         "autorange": false,
         "exponentformat": "e",
         "linecolor": "black",
         "linewidth": 1,
         "mirror": false,
         "range": [
          -0.46,
          23.46
         ],
         "scaleanchor": "x",
         "scaleratio": 1,
         "showexponent": "all",
         "showline": true,
         "side": "left",
         "ticks": "outside",
         "title": {
          "text": "Death"
         },
         "type": "linear",
         "zeroline": true
        }
       }
      }
     },
     "metadata": {},
     "output_type": "display_data"
    }
   ],
   "source": [
    "diagram = persistence.fit_transform(df_codes_SO_array[None,:,:])\n",
    "plot_diagram(diagram[0])"
   ]
  },
  {
   "cell_type": "code",
   "execution_count": 27,
   "metadata": {},
   "outputs": [
    {
     "data": {
      "application/vnd.plotly.v1+json": {
       "config": {
        "plotlyServerURL": "https://plot.ly",
        "scrollZoom": true
       },
       "data": [
        {
         "hoverinfo": "none",
         "line": {
          "color": "#888",
          "width": 1
         },
         "mode": "lines",
         "name": "edge_trace",
         "type": "scatter",
         "uid": "a842dcfb-1ba9-4f6d-8110-ad317cfb568f",
         "x": [
          1.6288846929201997,
          1.8849271885030736,
          null,
          1.6288846929201997,
          0.9968084456586496,
          null,
          1.8849271885030736,
          1.6135387943288146,
          null,
          1.6135387943288146,
          2.0427773214428204,
          null,
          0.9968084456586496,
          0.9174020053977122,
          null,
          -2.499827828183345,
          -1.8440993686512694,
          null,
          2.0427773214428204,
          1.868370253263725,
          null,
          -1.478939134348234,
          -2.1321993214202224,
          null
         ],
         "y": [
          0.9921087098694119,
          0.3317523778112793,
          null,
          0.9921087098694119,
          1.3553660453273806,
          null,
          0.3317523778112793,
          -0.34669984731640974,
          null,
          -0.34669984731640974,
          -0.9341066652064868,
          null,
          1.3553660453273806,
          2.070237665585698,
          null,
          2.26204630616763,
          2.523214228992046,
          null,
          -0.9341066652064868,
          -1.6294250099871515,
          null,
          -3.491150633978861,
          -3.2179337087332143,
          null
         ]
        },
        {
         "hoverinfo": "text",
         "hovertext": [
          "Node ID: 0<br>Pullback set label: 2<br>Partial cluster label: -1<br>Node size: 8<br>Summary statistic: 25.9",
          "Node ID: 1<br>Pullback set label: 10<br>Partial cluster label: -1<br>Node size: 1<br>Summary statistic: 1.0",
          "Node ID: 2<br>Pullback set label: 9<br>Partial cluster label: -1<br>Node size: 1<br>Summary statistic: 2.0",
          "Node ID: 3<br>Pullback set label: 3<br>Partial cluster label: -1<br>Node size: 5<br>Summary statistic: 20.2",
          "Node ID: 4<br>Pullback set label: 4<br>Partial cluster label: -1<br>Node size: 3<br>Summary statistic: 13.7",
          "Node ID: 5<br>Pullback set label: 7<br>Partial cluster label: -1<br>Node size: 2<br>Summary statistic: 9.5",
          "Node ID: 6<br>Pullback set label: 0<br>Partial cluster label: 0<br>Node size: 80<br>Summary statistic: 188.0",
          "Node ID: 7<br>Pullback set label: 1<br>Partial cluster label: -1<br>Node size: 18<br>Summary statistic: 67.2",
          "Node ID: 8<br>Pullback set label: 0<br>Partial cluster label: -1<br>Node size: 19<br>Summary statistic: 89.0",
          "Node ID: 9<br>Pullback set label: 0<br>Partial cluster label: 1<br>Node size: 158<br>Summary statistic: 189.0",
          "Node ID: 10<br>Pullback set label: 0<br>Partial cluster label: 2<br>Node size: 8<br>Summary statistic: 130.0",
          "Node ID: 11<br>Pullback set label: 1<br>Partial cluster label: 0<br>Node size: 8<br>Summary statistic: 130.0",
          "Node ID: 12<br>Pullback set label: 5<br>Partial cluster label: -1<br>Node size: 2<br>Summary statistic: 48.0",
          "Node ID: 13<br>Pullback set label: 0<br>Partial cluster label: 3<br>Node size: 7<br>Summary statistic: 168.0",
          "Node ID: 14<br>Pullback set label: 0<br>Partial cluster label: 4<br>Node size: 17<br>Summary statistic: 102.0",
          "Node ID: 15<br>Pullback set label: 0<br>Partial cluster label: 5<br>Node size: 5<br>Summary statistic: 127.0",
          "Node ID: 16<br>Pullback set label: 1<br>Partial cluster label: 1<br>Node size: 5<br>Summary statistic: 127.0",
          "Node ID: 17<br>Pullback set label: 0<br>Partial cluster label: 6<br>Node size: 5<br>Summary statistic: 163.0",
          "Node ID: 18<br>Pullback set label: 0<br>Partial cluster label: 7<br>Node size: 5<br>Summary statistic: 169.0",
          "Node ID: 19<br>Pullback set label: 6<br>Partial cluster label: -1<br>Node size: 1<br>Summary statistic: 78.0",
          "Node ID: 20<br>Pullback set label: 8<br>Partial cluster label: -1<br>Node size: 1<br>Summary statistic: 84.0"
         ],
         "marker": {
          "color": [
           25.875,
           1,
           2,
           20.2,
           13.666666666666666,
           9.5,
           187.8375,
           67.22222222222223,
           89,
           188.91139240506328,
           129.5,
           129.5,
           48,
           168.28571428571428,
           102,
           127,
           127,
           163.4,
           169,
           78,
           84
          ],
          "colorbar": {
           "thickness": 15,
           "title": {
            "side": "right",
            "text": ""
           },
           "xanchor": "left"
          },
          "colorscale": [
           [
            0,
            "#440154"
           ],
           [
            0.1111111111111111,
            "#482878"
           ],
           [
            0.2222222222222222,
            "#3e4989"
           ],
           [
            0.3333333333333333,
            "#31688e"
           ],
           [
            0.4444444444444444,
            "#26828e"
           ],
           [
            0.5555555555555556,
            "#1f9e89"
           ],
           [
            0.6666666666666666,
            "#35b779"
           ],
           [
            0.7777777777777778,
            "#6ece58"
           ],
           [
            0.8888888888888888,
            "#b5de2b"
           ],
           [
            1,
            "#fde725"
           ]
          ],
          "line": {
           "color": "#888",
           "width": 1
          },
          "opacity": 1,
          "reversescale": false,
          "showscale": true,
          "size": [
           8,
           1,
           1,
           5,
           3,
           2,
           80,
           18,
           19,
           158,
           8,
           8,
           2,
           7,
           17,
           5,
           5,
           5,
           5,
           1,
           1
          ],
          "sizemin": 4,
          "sizemode": "area",
          "sizeref": 2.1944444444444446
         },
         "mode": "markers",
         "name": "node_trace",
         "type": "scatter",
         "uid": "a500c99b-0ec2-4323-8d96-8326b5daefad",
         "x": [
          1.6288846929201997,
          -2.3659719025373764,
          -0.7074978512890523,
          1.8849271885030736,
          1.6135387943288146,
          1.1596619212822727,
          -3.974838070165585,
          0.9968084456586496,
          0.9174020053977122,
          -1.598792167031937,
          -2.499827828183345,
          -1.8440993686512694,
          2.0427773214428204,
          -0.5216722008075971,
          -3.948258147010634,
          -1.478939134348234,
          -2.1321993214202224,
          -0.012125108530748448,
          -3.3572881125846603,
          1.868370253263725,
          -3.5518113504373496
         ],
         "y": [
          0.9921087098694119,
          -0.9385614450645243,
          -1.7889837659170253,
          0.3317523778112793,
          -0.34669984731640974,
          -3.147956131638497,
          -1.1892879882215586,
          1.3553660453273806,
          2.070237665585698,
          0.5625757858339814,
          2.26204630616763,
          2.523214228992046,
          -0.9341066652064868,
          2.9767427109424203,
          0.1305599457802192,
          -3.491150633978861,
          -3.2179337087332143,
          -3.5743302135105983,
          -2.4147567445043685,
          -1.6294250099871515,
          1.2948226158505851
         ]
        }
       ],
       "layout": {
        "autosize": false,
        "hovermode": "closest",
        "margin": {
         "b": 20,
         "l": 5,
         "r": 5,
         "t": 40
        },
        "showlegend": false,
        "template": {
         "data": {
          "bar": [
           {
            "error_x": {
             "color": "rgb(36,36,36)"
            },
            "error_y": {
             "color": "rgb(36,36,36)"
            },
            "marker": {
             "line": {
              "color": "white",
              "width": 0.5
             },
             "pattern": {
              "fillmode": "overlay",
              "size": 10,
              "solidity": 0.2
             }
            },
            "type": "bar"
           }
          ],
          "barpolar": [
           {
            "marker": {
             "line": {
              "color": "white",
              "width": 0.5
             },
             "pattern": {
              "fillmode": "overlay",
              "size": 10,
              "solidity": 0.2
             }
            },
            "type": "barpolar"
           }
          ],
          "carpet": [
           {
            "aaxis": {
             "endlinecolor": "rgb(36,36,36)",
             "gridcolor": "white",
             "linecolor": "white",
             "minorgridcolor": "white",
             "startlinecolor": "rgb(36,36,36)"
            },
            "baxis": {
             "endlinecolor": "rgb(36,36,36)",
             "gridcolor": "white",
             "linecolor": "white",
             "minorgridcolor": "white",
             "startlinecolor": "rgb(36,36,36)"
            },
            "type": "carpet"
           }
          ],
          "choropleth": [
           {
            "colorbar": {
             "outlinewidth": 1,
             "tickcolor": "rgb(36,36,36)",
             "ticks": "outside"
            },
            "type": "choropleth"
           }
          ],
          "contour": [
           {
            "colorbar": {
             "outlinewidth": 1,
             "tickcolor": "rgb(36,36,36)",
             "ticks": "outside"
            },
            "colorscale": [
             [
              0,
              "#440154"
             ],
             [
              0.1111111111111111,
              "#482878"
             ],
             [
              0.2222222222222222,
              "#3e4989"
             ],
             [
              0.3333333333333333,
              "#31688e"
             ],
             [
              0.4444444444444444,
              "#26828e"
             ],
             [
              0.5555555555555556,
              "#1f9e89"
             ],
             [
              0.6666666666666666,
              "#35b779"
             ],
             [
              0.7777777777777778,
              "#6ece58"
             ],
             [
              0.8888888888888888,
              "#b5de2b"
             ],
             [
              1,
              "#fde725"
             ]
            ],
            "type": "contour"
           }
          ],
          "contourcarpet": [
           {
            "colorbar": {
             "outlinewidth": 1,
             "tickcolor": "rgb(36,36,36)",
             "ticks": "outside"
            },
            "type": "contourcarpet"
           }
          ],
          "heatmap": [
           {
            "colorbar": {
             "outlinewidth": 1,
             "tickcolor": "rgb(36,36,36)",
             "ticks": "outside"
            },
            "colorscale": [
             [
              0,
              "#440154"
             ],
             [
              0.1111111111111111,
              "#482878"
             ],
             [
              0.2222222222222222,
              "#3e4989"
             ],
             [
              0.3333333333333333,
              "#31688e"
             ],
             [
              0.4444444444444444,
              "#26828e"
             ],
             [
              0.5555555555555556,
              "#1f9e89"
             ],
             [
              0.6666666666666666,
              "#35b779"
             ],
             [
              0.7777777777777778,
              "#6ece58"
             ],
             [
              0.8888888888888888,
              "#b5de2b"
             ],
             [
              1,
              "#fde725"
             ]
            ],
            "type": "heatmap"
           }
          ],
          "heatmapgl": [
           {
            "colorbar": {
             "outlinewidth": 1,
             "tickcolor": "rgb(36,36,36)",
             "ticks": "outside"
            },
            "colorscale": [
             [
              0,
              "#440154"
             ],
             [
              0.1111111111111111,
              "#482878"
             ],
             [
              0.2222222222222222,
              "#3e4989"
             ],
             [
              0.3333333333333333,
              "#31688e"
             ],
             [
              0.4444444444444444,
              "#26828e"
             ],
             [
              0.5555555555555556,
              "#1f9e89"
             ],
             [
              0.6666666666666666,
              "#35b779"
             ],
             [
              0.7777777777777778,
              "#6ece58"
             ],
             [
              0.8888888888888888,
              "#b5de2b"
             ],
             [
              1,
              "#fde725"
             ]
            ],
            "type": "heatmapgl"
           }
          ],
          "histogram": [
           {
            "marker": {
             "line": {
              "color": "white",
              "width": 0.6
             }
            },
            "type": "histogram"
           }
          ],
          "histogram2d": [
           {
            "colorbar": {
             "outlinewidth": 1,
             "tickcolor": "rgb(36,36,36)",
             "ticks": "outside"
            },
            "colorscale": [
             [
              0,
              "#440154"
             ],
             [
              0.1111111111111111,
              "#482878"
             ],
             [
              0.2222222222222222,
              "#3e4989"
             ],
             [
              0.3333333333333333,
              "#31688e"
             ],
             [
              0.4444444444444444,
              "#26828e"
             ],
             [
              0.5555555555555556,
              "#1f9e89"
             ],
             [
              0.6666666666666666,
              "#35b779"
             ],
             [
              0.7777777777777778,
              "#6ece58"
             ],
             [
              0.8888888888888888,
              "#b5de2b"
             ],
             [
              1,
              "#fde725"
             ]
            ],
            "type": "histogram2d"
           }
          ],
          "histogram2dcontour": [
           {
            "colorbar": {
             "outlinewidth": 1,
             "tickcolor": "rgb(36,36,36)",
             "ticks": "outside"
            },
            "colorscale": [
             [
              0,
              "#440154"
             ],
             [
              0.1111111111111111,
              "#482878"
             ],
             [
              0.2222222222222222,
              "#3e4989"
             ],
             [
              0.3333333333333333,
              "#31688e"
             ],
             [
              0.4444444444444444,
              "#26828e"
             ],
             [
              0.5555555555555556,
              "#1f9e89"
             ],
             [
              0.6666666666666666,
              "#35b779"
             ],
             [
              0.7777777777777778,
              "#6ece58"
             ],
             [
              0.8888888888888888,
              "#b5de2b"
             ],
             [
              1,
              "#fde725"
             ]
            ],
            "type": "histogram2dcontour"
           }
          ],
          "mesh3d": [
           {
            "colorbar": {
             "outlinewidth": 1,
             "tickcolor": "rgb(36,36,36)",
             "ticks": "outside"
            },
            "type": "mesh3d"
           }
          ],
          "parcoords": [
           {
            "line": {
             "colorbar": {
              "outlinewidth": 1,
              "tickcolor": "rgb(36,36,36)",
              "ticks": "outside"
             }
            },
            "type": "parcoords"
           }
          ],
          "pie": [
           {
            "automargin": true,
            "type": "pie"
           }
          ],
          "scatter": [
           {
            "fillpattern": {
             "fillmode": "overlay",
             "size": 10,
             "solidity": 0.2
            },
            "type": "scatter"
           }
          ],
          "scatter3d": [
           {
            "line": {
             "colorbar": {
              "outlinewidth": 1,
              "tickcolor": "rgb(36,36,36)",
              "ticks": "outside"
             }
            },
            "marker": {
             "colorbar": {
              "outlinewidth": 1,
              "tickcolor": "rgb(36,36,36)",
              "ticks": "outside"
             }
            },
            "type": "scatter3d"
           }
          ],
          "scattercarpet": [
           {
            "marker": {
             "colorbar": {
              "outlinewidth": 1,
              "tickcolor": "rgb(36,36,36)",
              "ticks": "outside"
             }
            },
            "type": "scattercarpet"
           }
          ],
          "scattergeo": [
           {
            "marker": {
             "colorbar": {
              "outlinewidth": 1,
              "tickcolor": "rgb(36,36,36)",
              "ticks": "outside"
             }
            },
            "type": "scattergeo"
           }
          ],
          "scattergl": [
           {
            "marker": {
             "colorbar": {
              "outlinewidth": 1,
              "tickcolor": "rgb(36,36,36)",
              "ticks": "outside"
             }
            },
            "type": "scattergl"
           }
          ],
          "scattermapbox": [
           {
            "marker": {
             "colorbar": {
              "outlinewidth": 1,
              "tickcolor": "rgb(36,36,36)",
              "ticks": "outside"
             }
            },
            "type": "scattermapbox"
           }
          ],
          "scatterpolar": [
           {
            "marker": {
             "colorbar": {
              "outlinewidth": 1,
              "tickcolor": "rgb(36,36,36)",
              "ticks": "outside"
             }
            },
            "type": "scatterpolar"
           }
          ],
          "scatterpolargl": [
           {
            "marker": {
             "colorbar": {
              "outlinewidth": 1,
              "tickcolor": "rgb(36,36,36)",
              "ticks": "outside"
             }
            },
            "type": "scatterpolargl"
           }
          ],
          "scatterternary": [
           {
            "marker": {
             "colorbar": {
              "outlinewidth": 1,
              "tickcolor": "rgb(36,36,36)",
              "ticks": "outside"
             }
            },
            "type": "scatterternary"
           }
          ],
          "surface": [
           {
            "colorbar": {
             "outlinewidth": 1,
             "tickcolor": "rgb(36,36,36)",
             "ticks": "outside"
            },
            "colorscale": [
             [
              0,
              "#440154"
             ],
             [
              0.1111111111111111,
              "#482878"
             ],
             [
              0.2222222222222222,
              "#3e4989"
             ],
             [
              0.3333333333333333,
              "#31688e"
             ],
             [
              0.4444444444444444,
              "#26828e"
             ],
             [
              0.5555555555555556,
              "#1f9e89"
             ],
             [
              0.6666666666666666,
              "#35b779"
             ],
             [
              0.7777777777777778,
              "#6ece58"
             ],
             [
              0.8888888888888888,
              "#b5de2b"
             ],
             [
              1,
              "#fde725"
             ]
            ],
            "type": "surface"
           }
          ],
          "table": [
           {
            "cells": {
             "fill": {
              "color": "rgb(237,237,237)"
             },
             "line": {
              "color": "white"
             }
            },
            "header": {
             "fill": {
              "color": "rgb(217,217,217)"
             },
             "line": {
              "color": "white"
             }
            },
            "type": "table"
           }
          ]
         },
         "layout": {
          "annotationdefaults": {
           "arrowhead": 0,
           "arrowwidth": 1
          },
          "autotypenumbers": "strict",
          "coloraxis": {
           "colorbar": {
            "outlinewidth": 1,
            "tickcolor": "rgb(36,36,36)",
            "ticks": "outside"
           }
          },
          "colorscale": {
           "diverging": [
            [
             0,
             "rgb(103,0,31)"
            ],
            [
             0.1,
             "rgb(178,24,43)"
            ],
            [
             0.2,
             "rgb(214,96,77)"
            ],
            [
             0.3,
             "rgb(244,165,130)"
            ],
            [
             0.4,
             "rgb(253,219,199)"
            ],
            [
             0.5,
             "rgb(247,247,247)"
            ],
            [
             0.6,
             "rgb(209,229,240)"
            ],
            [
             0.7,
             "rgb(146,197,222)"
            ],
            [
             0.8,
             "rgb(67,147,195)"
            ],
            [
             0.9,
             "rgb(33,102,172)"
            ],
            [
             1,
             "rgb(5,48,97)"
            ]
           ],
           "sequential": [
            [
             0,
             "#440154"
            ],
            [
             0.1111111111111111,
             "#482878"
            ],
            [
             0.2222222222222222,
             "#3e4989"
            ],
            [
             0.3333333333333333,
             "#31688e"
            ],
            [
             0.4444444444444444,
             "#26828e"
            ],
            [
             0.5555555555555556,
             "#1f9e89"
            ],
            [
             0.6666666666666666,
             "#35b779"
            ],
            [
             0.7777777777777778,
             "#6ece58"
            ],
            [
             0.8888888888888888,
             "#b5de2b"
            ],
            [
             1,
             "#fde725"
            ]
           ],
           "sequentialminus": [
            [
             0,
             "#440154"
            ],
            [
             0.1111111111111111,
             "#482878"
            ],
            [
             0.2222222222222222,
             "#3e4989"
            ],
            [
             0.3333333333333333,
             "#31688e"
            ],
            [
             0.4444444444444444,
             "#26828e"
            ],
            [
             0.5555555555555556,
             "#1f9e89"
            ],
            [
             0.6666666666666666,
             "#35b779"
            ],
            [
             0.7777777777777778,
             "#6ece58"
            ],
            [
             0.8888888888888888,
             "#b5de2b"
            ],
            [
             1,
             "#fde725"
            ]
           ]
          },
          "colorway": [
           "#1F77B4",
           "#FF7F0E",
           "#2CA02C",
           "#D62728",
           "#9467BD",
           "#8C564B",
           "#E377C2",
           "#7F7F7F",
           "#BCBD22",
           "#17BECF"
          ],
          "font": {
           "color": "rgb(36,36,36)"
          },
          "geo": {
           "bgcolor": "white",
           "lakecolor": "white",
           "landcolor": "white",
           "showlakes": true,
           "showland": true,
           "subunitcolor": "white"
          },
          "hoverlabel": {
           "align": "left"
          },
          "hovermode": "closest",
          "mapbox": {
           "style": "light"
          },
          "paper_bgcolor": "white",
          "plot_bgcolor": "white",
          "polar": {
           "angularaxis": {
            "gridcolor": "rgb(232,232,232)",
            "linecolor": "rgb(36,36,36)",
            "showgrid": false,
            "showline": true,
            "ticks": "outside"
           },
           "bgcolor": "white",
           "radialaxis": {
            "gridcolor": "rgb(232,232,232)",
            "linecolor": "rgb(36,36,36)",
            "showgrid": false,
            "showline": true,
            "ticks": "outside"
           }
          },
          "scene": {
           "xaxis": {
            "backgroundcolor": "white",
            "gridcolor": "rgb(232,232,232)",
            "gridwidth": 2,
            "linecolor": "rgb(36,36,36)",
            "showbackground": true,
            "showgrid": false,
            "showline": true,
            "ticks": "outside",
            "zeroline": false,
            "zerolinecolor": "rgb(36,36,36)"
           },
           "yaxis": {
            "backgroundcolor": "white",
            "gridcolor": "rgb(232,232,232)",
            "gridwidth": 2,
            "linecolor": "rgb(36,36,36)",
            "showbackground": true,
            "showgrid": false,
            "showline": true,
            "ticks": "outside",
            "zeroline": false,
            "zerolinecolor": "rgb(36,36,36)"
           },
           "zaxis": {
            "backgroundcolor": "white",
            "gridcolor": "rgb(232,232,232)",
            "gridwidth": 2,
            "linecolor": "rgb(36,36,36)",
            "showbackground": true,
            "showgrid": false,
            "showline": true,
            "ticks": "outside",
            "zeroline": false,
            "zerolinecolor": "rgb(36,36,36)"
           }
          },
          "shapedefaults": {
           "fillcolor": "black",
           "line": {
            "width": 0
           },
           "opacity": 0.3
          },
          "ternary": {
           "aaxis": {
            "gridcolor": "rgb(232,232,232)",
            "linecolor": "rgb(36,36,36)",
            "showgrid": false,
            "showline": true,
            "ticks": "outside"
           },
           "baxis": {
            "gridcolor": "rgb(232,232,232)",
            "linecolor": "rgb(36,36,36)",
            "showgrid": false,
            "showline": true,
            "ticks": "outside"
           },
           "bgcolor": "white",
           "caxis": {
            "gridcolor": "rgb(232,232,232)",
            "linecolor": "rgb(36,36,36)",
            "showgrid": false,
            "showline": true,
            "ticks": "outside"
           }
          },
          "title": {
           "x": 0.05
          },
          "xaxis": {
           "automargin": true,
           "gridcolor": "rgb(232,232,232)",
           "linecolor": "rgb(36,36,36)",
           "showgrid": false,
           "showline": true,
           "ticks": "outside",
           "title": {
            "standoff": 15
           },
           "zeroline": false,
           "zerolinecolor": "rgb(36,36,36)"
          },
          "yaxis": {
           "automargin": true,
           "gridcolor": "rgb(232,232,232)",
           "linecolor": "rgb(36,36,36)",
           "showgrid": false,
           "showline": true,
           "ticks": "outside",
           "title": {
            "standoff": 15
           },
           "zeroline": false,
           "zerolinecolor": "rgb(36,36,36)"
          }
         }
        },
        "title": {
         "text": ""
        },
        "xaxis": {
         "showgrid": false,
         "showline": false,
         "showticklabels": false,
         "ticks": "",
         "title": {
          "text": ""
         },
         "zeroline": false
        },
        "yaxis": {
         "showgrid": false,
         "showline": false,
         "showticklabels": false,
         "ticks": "",
         "title": {
          "text": ""
         },
         "zeroline": false
        }
       }
      }
     },
     "metadata": {},
     "output_type": "display_data"
    }
   ],
   "source": [
    "fig = map.plot_static_mapper_graph(pipe, df_codes_SO_array)\n",
    "fig.show(config={'scrollZoom': True})"
   ]
  },
  {
   "cell_type": "code",
   "execution_count": null,
   "metadata": {},
   "outputs": [],
   "source": []
  }
 ],
 "metadata": {
  "kernelspec": {
   "display_name": "base",
   "language": "python",
   "name": "python3"
  },
  "language_info": {
   "codemirror_mode": {
    "name": "ipython",
    "version": 3
   },
   "file_extension": ".py",
   "mimetype": "text/x-python",
   "name": "python",
   "nbconvert_exporter": "python",
   "pygments_lexer": "ipython3",
   "version": "3.8.16"
  },
  "orig_nbformat": 4
 },
 "nbformat": 4,
 "nbformat_minor": 2
}
