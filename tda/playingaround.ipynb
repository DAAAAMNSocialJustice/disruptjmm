{
 "cells": [
  {
   "cell_type": "code",
   "execution_count": 2,
   "metadata": {},
   "outputs": [],
   "source": [
    "import numpy as np\n",
    "import pandas as pd\n",
    "import matplotlib.pyplot as plt"
   ]
  },
  {
   "cell_type": "markdown",
   "metadata": {},
   "source": [
    "## Getting the data into the shape I need it to be"
   ]
  },
  {
   "cell_type": "code",
   "execution_count": 3,
   "metadata": {},
   "outputs": [
    {
     "data": {
      "text/html": [
       "<div>\n",
       "<style scoped>\n",
       "    .dataframe tbody tr th:only-of-type {\n",
       "        vertical-align: middle;\n",
       "    }\n",
       "\n",
       "    .dataframe tbody tr th {\n",
       "        vertical-align: top;\n",
       "    }\n",
       "\n",
       "    .dataframe thead th {\n",
       "        text-align: right;\n",
       "    }\n",
       "</style>\n",
       "<table border=\"1\" class=\"dataframe\">\n",
       "  <thead>\n",
       "    <tr style=\"text-align: right;\">\n",
       "      <th></th>\n",
       "      <th>Unnamed: 0</th>\n",
       "      <th>tweet_id</th>\n",
       "      <th>user_username</th>\n",
       "      <th>text</th>\n",
       "      <th>created_at</th>\n",
       "      <th>conversation_id</th>\n",
       "      <th>lang</th>\n",
       "      <th>possibly_sensitive</th>\n",
       "      <th>author_id</th>\n",
       "      <th>source</th>\n",
       "      <th>...</th>\n",
       "      <th>Building community</th>\n",
       "      <th>BC code</th>\n",
       "      <th>Broadening the counterpublic</th>\n",
       "      <th>BtC code</th>\n",
       "      <th>Creating change in math</th>\n",
       "      <th>CCM code</th>\n",
       "      <th>SJEDI</th>\n",
       "      <th>SJEDI code</th>\n",
       "      <th>CODER</th>\n",
       "      <th>all codes</th>\n",
       "    </tr>\n",
       "  </thead>\n",
       "  <tbody>\n",
       "    <tr>\n",
       "      <th>0</th>\n",
       "      <td>1</td>\n",
       "      <td>1217856519670288384</td>\n",
       "      <td>mathyadriana</td>\n",
       "      <td>Anyone feel like looking through the list of i...</td>\n",
       "      <td>2020-01-16T17:09:55.000Z</td>\n",
       "      <td>1217856519670288384</td>\n",
       "      <td>en</td>\n",
       "      <td>False</td>\n",
       "      <td>776450766710136832</td>\n",
       "      <td>Twitter for iPhone</td>\n",
       "      <td>...</td>\n",
       "      <td>1</td>\n",
       "      <td>talk support</td>\n",
       "      <td>0</td>\n",
       "      <td></td>\n",
       "      <td>0</td>\n",
       "      <td></td>\n",
       "      <td>1</td>\n",
       "      <td>bipoc; lgbtq; gender</td>\n",
       "      <td>DL</td>\n",
       "      <td>[bipoc, gender, lgbtq, talk support]</td>\n",
       "    </tr>\n",
       "    <tr>\n",
       "      <th>1</th>\n",
       "      <td>5</td>\n",
       "      <td>1217856052579971073</td>\n",
       "      <td>mathprofcarrie</td>\n",
       "      <td>\"If you think that your right to speech is mor...</td>\n",
       "      <td>2020-01-16T17:08:04.000Z</td>\n",
       "      <td>1217856052579971073</td>\n",
       "      <td>en</td>\n",
       "      <td>False</td>\n",
       "      <td>31611970</td>\n",
       "      <td>Twitter for Android</td>\n",
       "      <td>...</td>\n",
       "      <td>1</td>\n",
       "      <td>talk support</td>\n",
       "      <td>1</td>\n",
       "      <td>influencers</td>\n",
       "      <td>0</td>\n",
       "      <td></td>\n",
       "      <td>1</td>\n",
       "      <td>representation</td>\n",
       "      <td>RR</td>\n",
       "      <td>[amplification, influencers, representation, t...</td>\n",
       "    </tr>\n",
       "    <tr>\n",
       "      <th>2</th>\n",
       "      <td>8</td>\n",
       "      <td>1217855474479046656</td>\n",
       "      <td>pwr2dppl</td>\n",
       "      <td>I ran at elevation to make it to @xl772's #Dis...</td>\n",
       "      <td>2020-01-16T17:05:46.000Z</td>\n",
       "      <td>1217855474479046656</td>\n",
       "      <td>en</td>\n",
       "      <td>False</td>\n",
       "      <td>3308531970</td>\n",
       "      <td>Twitter for Android</td>\n",
       "      <td>...</td>\n",
       "      <td>1</td>\n",
       "      <td>talk support; thankful</td>\n",
       "      <td>0</td>\n",
       "      <td></td>\n",
       "      <td>0</td>\n",
       "      <td></td>\n",
       "      <td>0</td>\n",
       "      <td></td>\n",
       "      <td>JH</td>\n",
       "      <td>[amplification, talk support, thankful]</td>\n",
       "    </tr>\n",
       "    <tr>\n",
       "      <th>3</th>\n",
       "      <td>9</td>\n",
       "      <td>1217854597747875840</td>\n",
       "      <td>mathprofcarrie</td>\n",
       "      <td>@WanderingPoint @xl772 @pwr2dppl Here!!! #disr...</td>\n",
       "      <td>2020-01-16T17:02:17.000Z</td>\n",
       "      <td>1217850650438049797</td>\n",
       "      <td>en</td>\n",
       "      <td>False</td>\n",
       "      <td>31611970</td>\n",
       "      <td>Twitter for Android</td>\n",
       "      <td>...</td>\n",
       "      <td>1</td>\n",
       "      <td>talk support; emotional support</td>\n",
       "      <td>0</td>\n",
       "      <td></td>\n",
       "      <td>0</td>\n",
       "      <td></td>\n",
       "      <td>0</td>\n",
       "      <td></td>\n",
       "      <td>DL</td>\n",
       "      <td>[emotional support, talk support]</td>\n",
       "    </tr>\n",
       "    <tr>\n",
       "      <th>4</th>\n",
       "      <td>10</td>\n",
       "      <td>1217852288385024000</td>\n",
       "      <td>mathprofcarrie</td>\n",
       "      <td>@xl772 @pwr2dppl Where and what? - let's get t...</td>\n",
       "      <td>2020-01-16T16:53:06.000Z</td>\n",
       "      <td>1217850650438049797</td>\n",
       "      <td>en</td>\n",
       "      <td>False</td>\n",
       "      <td>31611970</td>\n",
       "      <td>Twitter for Android</td>\n",
       "      <td>...</td>\n",
       "      <td>1</td>\n",
       "      <td>BC impact; talk support</td>\n",
       "      <td>0</td>\n",
       "      <td></td>\n",
       "      <td>0</td>\n",
       "      <td></td>\n",
       "      <td>0</td>\n",
       "      <td></td>\n",
       "      <td>RR</td>\n",
       "      <td>[BC impact, talk support]</td>\n",
       "    </tr>\n",
       "    <tr>\n",
       "      <th>...</th>\n",
       "      <td>...</td>\n",
       "      <td>...</td>\n",
       "      <td>...</td>\n",
       "      <td>...</td>\n",
       "      <td>...</td>\n",
       "      <td>...</td>\n",
       "      <td>...</td>\n",
       "      <td>...</td>\n",
       "      <td>...</td>\n",
       "      <td>...</td>\n",
       "      <td>...</td>\n",
       "      <td>...</td>\n",
       "      <td>...</td>\n",
       "      <td>...</td>\n",
       "      <td>...</td>\n",
       "      <td>...</td>\n",
       "      <td>...</td>\n",
       "      <td>...</td>\n",
       "      <td>...</td>\n",
       "      <td>...</td>\n",
       "      <td>...</td>\n",
       "    </tr>\n",
       "    <tr>\n",
       "      <th>1124</th>\n",
       "      <td>1124</td>\n",
       "      <td>1218635813027602432</td>\n",
       "      <td>malagonmath</td>\n",
       "      <td>RT @mathprofcarrie: AMS-AWM invited session on...</td>\n",
       "      <td>2020-01-18T20:46:33.000Z</td>\n",
       "      <td>1218635813027602432</td>\n",
       "      <td>en</td>\n",
       "      <td>False</td>\n",
       "      <td>708028111540133888</td>\n",
       "      <td>Twitter for iPhone</td>\n",
       "      <td>...</td>\n",
       "      <td>1</td>\n",
       "      <td>talk support</td>\n",
       "      <td>0</td>\n",
       "      <td></td>\n",
       "      <td>1</td>\n",
       "      <td>humanize</td>\n",
       "      <td>1</td>\n",
       "      <td>gender</td>\n",
       "      <td></td>\n",
       "      <td>[gender, humanize, talk support]</td>\n",
       "    </tr>\n",
       "    <tr>\n",
       "      <th>1125</th>\n",
       "      <td>1125</td>\n",
       "      <td>1218635334251999232</td>\n",
       "      <td>noellebeckman</td>\n",
       "      <td>RT @mathprofcarrie: AMS-AWM invited session on...</td>\n",
       "      <td>2020-01-18T20:44:39.000Z</td>\n",
       "      <td>1218635334251999232</td>\n",
       "      <td>en</td>\n",
       "      <td>False</td>\n",
       "      <td>1660843818</td>\n",
       "      <td>Twitter for iPhone</td>\n",
       "      <td>...</td>\n",
       "      <td>1</td>\n",
       "      <td>talk support</td>\n",
       "      <td>0</td>\n",
       "      <td></td>\n",
       "      <td>1</td>\n",
       "      <td>humanize</td>\n",
       "      <td>1</td>\n",
       "      <td>gender</td>\n",
       "      <td></td>\n",
       "      <td>[gender, humanize, talk support]</td>\n",
       "    </tr>\n",
       "    <tr>\n",
       "      <th>1126</th>\n",
       "      <td>1127</td>\n",
       "      <td>1218632621162483713</td>\n",
       "      <td>MarissaKawehi</td>\n",
       "      <td>RT @matthematician: “[C]arry some of this weig...</td>\n",
       "      <td>2020-01-18T20:33:52.000Z</td>\n",
       "      <td>1218632621162483713</td>\n",
       "      <td>en</td>\n",
       "      <td>False</td>\n",
       "      <td>969876723922808832</td>\n",
       "      <td>Twitter for Android</td>\n",
       "      <td>...</td>\n",
       "      <td>1</td>\n",
       "      <td>talk support</td>\n",
       "      <td>0</td>\n",
       "      <td></td>\n",
       "      <td>1</td>\n",
       "      <td>allyship in math</td>\n",
       "      <td>1</td>\n",
       "      <td>gender</td>\n",
       "      <td></td>\n",
       "      <td>[allyship in math, amplification, gender, talk...</td>\n",
       "    </tr>\n",
       "    <tr>\n",
       "      <th>1127</th>\n",
       "      <td>1128</td>\n",
       "      <td>1218630899404640256</td>\n",
       "      <td>numberdance</td>\n",
       "      <td>RT @sbagley: Kelly MacArthur now speaking abou...</td>\n",
       "      <td>2020-01-18T20:27:02.000Z</td>\n",
       "      <td>1218630899404640256</td>\n",
       "      <td>en</td>\n",
       "      <td>False</td>\n",
       "      <td>961503306</td>\n",
       "      <td>Twitter Web App</td>\n",
       "      <td>...</td>\n",
       "      <td>1</td>\n",
       "      <td>talk support</td>\n",
       "      <td>1</td>\n",
       "      <td>hashtags; influencers</td>\n",
       "      <td>1</td>\n",
       "      <td>math practice; humanize</td>\n",
       "      <td>0</td>\n",
       "      <td></td>\n",
       "      <td></td>\n",
       "      <td>[amplification, hashtags, humanize, influencer...</td>\n",
       "    </tr>\n",
       "    <tr>\n",
       "      <th>1128</th>\n",
       "      <td>1129</td>\n",
       "      <td>1218630732324597760</td>\n",
       "      <td>pwr2dppl</td>\n",
       "      <td>RT @sbagley: The stereotype of a mathematician...</td>\n",
       "      <td>2020-01-18T20:26:22.000Z</td>\n",
       "      <td>1218630732324597760</td>\n",
       "      <td>en</td>\n",
       "      <td>False</td>\n",
       "      <td>3308531970</td>\n",
       "      <td>Twitter for Android</td>\n",
       "      <td>...</td>\n",
       "      <td>0</td>\n",
       "      <td></td>\n",
       "      <td>0</td>\n",
       "      <td></td>\n",
       "      <td>1</td>\n",
       "      <td>humanize</td>\n",
       "      <td>0</td>\n",
       "      <td></td>\n",
       "      <td></td>\n",
       "      <td>[amplification, humanize]</td>\n",
       "    </tr>\n",
       "  </tbody>\n",
       "</table>\n",
       "<p>1129 rows × 45 columns</p>\n",
       "</div>"
      ],
      "text/plain": [
       "      Unnamed: 0             tweet_id   user_username  \\\n",
       "0              1  1217856519670288384    mathyadriana   \n",
       "1              5  1217856052579971073  mathprofcarrie   \n",
       "2              8  1217855474479046656        pwr2dppl   \n",
       "3              9  1217854597747875840  mathprofcarrie   \n",
       "4             10  1217852288385024000  mathprofcarrie   \n",
       "...          ...                  ...             ...   \n",
       "1124        1124  1218635813027602432     malagonmath   \n",
       "1125        1125  1218635334251999232   noellebeckman   \n",
       "1126        1127  1218632621162483713   MarissaKawehi   \n",
       "1127        1128  1218630899404640256     numberdance   \n",
       "1128        1129  1218630732324597760        pwr2dppl   \n",
       "\n",
       "                                                   text  \\\n",
       "0     Anyone feel like looking through the list of i...   \n",
       "1     \"If you think that your right to speech is mor...   \n",
       "2     I ran at elevation to make it to @xl772's #Dis...   \n",
       "3     @WanderingPoint @xl772 @pwr2dppl Here!!! #disr...   \n",
       "4     @xl772 @pwr2dppl Where and what? - let's get t...   \n",
       "...                                                 ...   \n",
       "1124  RT @mathprofcarrie: AMS-AWM invited session on...   \n",
       "1125  RT @mathprofcarrie: AMS-AWM invited session on...   \n",
       "1126  RT @matthematician: “[C]arry some of this weig...   \n",
       "1127  RT @sbagley: Kelly MacArthur now speaking abou...   \n",
       "1128  RT @sbagley: The stereotype of a mathematician...   \n",
       "\n",
       "                    created_at      conversation_id lang  possibly_sensitive  \\\n",
       "0     2020-01-16T17:09:55.000Z  1217856519670288384   en               False   \n",
       "1     2020-01-16T17:08:04.000Z  1217856052579971073   en               False   \n",
       "2     2020-01-16T17:05:46.000Z  1217855474479046656   en               False   \n",
       "3     2020-01-16T17:02:17.000Z  1217850650438049797   en               False   \n",
       "4     2020-01-16T16:53:06.000Z  1217850650438049797   en               False   \n",
       "...                        ...                  ...  ...                 ...   \n",
       "1124  2020-01-18T20:46:33.000Z  1218635813027602432   en               False   \n",
       "1125  2020-01-18T20:44:39.000Z  1218635334251999232   en               False   \n",
       "1126  2020-01-18T20:33:52.000Z  1218632621162483713   en               False   \n",
       "1127  2020-01-18T20:27:02.000Z  1218630899404640256   en               False   \n",
       "1128  2020-01-18T20:26:22.000Z  1218630732324597760   en               False   \n",
       "\n",
       "               author_id               source  ... Building community  \\\n",
       "0     776450766710136832   Twitter for iPhone  ...                  1   \n",
       "1               31611970  Twitter for Android  ...                  1   \n",
       "2             3308531970  Twitter for Android  ...                  1   \n",
       "3               31611970  Twitter for Android  ...                  1   \n",
       "4               31611970  Twitter for Android  ...                  1   \n",
       "...                  ...                  ...  ...                ...   \n",
       "1124  708028111540133888   Twitter for iPhone  ...                  1   \n",
       "1125          1660843818   Twitter for iPhone  ...                  1   \n",
       "1126  969876723922808832  Twitter for Android  ...                  1   \n",
       "1127           961503306      Twitter Web App  ...                  1   \n",
       "1128          3308531970  Twitter for Android  ...                  0   \n",
       "\n",
       "                              BC code Broadening the counterpublic  \\\n",
       "0                        talk support                            0   \n",
       "1                        talk support                            1   \n",
       "2              talk support; thankful                            0   \n",
       "3     talk support; emotional support                            0   \n",
       "4             BC impact; talk support                            0   \n",
       "...                               ...                          ...   \n",
       "1124                     talk support                            0   \n",
       "1125                     talk support                            0   \n",
       "1126                     talk support                            0   \n",
       "1127                     talk support                            1   \n",
       "1128                                                             0   \n",
       "\n",
       "                   BtC code  Creating change in math                 CCM code  \\\n",
       "0                                                  0                            \n",
       "1               influencers                        0                            \n",
       "2                                                  0                            \n",
       "3                                                  0                            \n",
       "4                                                  0                            \n",
       "...                     ...                      ...                      ...   \n",
       "1124                                               1                 humanize   \n",
       "1125                                               1                 humanize   \n",
       "1126                                               1         allyship in math   \n",
       "1127  hashtags; influencers                        1  math practice; humanize   \n",
       "1128                                               1                 humanize   \n",
       "\n",
       "     SJEDI            SJEDI code CODER  \\\n",
       "0        1  bipoc; lgbtq; gender    DL   \n",
       "1        1        representation    RR   \n",
       "2        0                          JH   \n",
       "3        0                          DL   \n",
       "4        0                          RR   \n",
       "...    ...                   ...   ...   \n",
       "1124     1                gender         \n",
       "1125     1                gender         \n",
       "1126     1                gender         \n",
       "1127     0                               \n",
       "1128     0                               \n",
       "\n",
       "                                              all codes  \n",
       "0                  [bipoc, gender, lgbtq, talk support]  \n",
       "1     [amplification, influencers, representation, t...  \n",
       "2               [amplification, talk support, thankful]  \n",
       "3                     [emotional support, talk support]  \n",
       "4                             [BC impact, talk support]  \n",
       "...                                                 ...  \n",
       "1124                   [gender, humanize, talk support]  \n",
       "1125                   [gender, humanize, talk support]  \n",
       "1126  [allyship in math, amplification, gender, talk...  \n",
       "1127  [amplification, hashtags, humanize, influencer...  \n",
       "1128                          [amplification, humanize]  \n",
       "\n",
       "[1129 rows x 45 columns]"
      ]
     },
     "execution_count": 3,
     "metadata": {},
     "output_type": "execute_result"
    }
   ],
   "source": [
    "df = pd.read_csv(\"/Users/rachelroca/Documents/GitHub/DAAAAMNdjmm/data cleaning/Final Coding.csv\",keep_default_na=False)\n",
    "#The codes were in 5 different columns; lets aggregate them into a new column\n",
    "df[\"all codes\"] = df[[\"SO code\",\"BC code\",\"BtC code\",\"CCM code\",\"SJEDI code\"]].agg(';'.join,axis=1)\n",
    "#We separated them by ;, so convert to an array \n",
    "df[\"all codes\"] = df[\"all codes\"].apply(lambda s: s.split(';'))\n",
    "#Strip out leading/trailing spaces\n",
    "df[\"all codes\"] = df[\"all codes\"].apply(lambda s: [t.strip() for t in s if t])\n",
    "#Sort the arrays, so we can be confident the same things are not listed in two different ways\n",
    "df[\"all codes\"] = np.array(df[\"all codes\"].apply(sorted))\n",
    "df\n"
   ]
  },
  {
   "cell_type": "code",
   "execution_count": 24,
   "metadata": {},
   "outputs": [
    {
     "data": {
      "text/plain": [
       "328"
      ]
     },
     "execution_count": 24,
     "metadata": {},
     "output_type": "execute_result"
    }
   ],
   "source": [
    "tweeters = df['user_username'].unique()\n",
    "len(tweeters)"
   ]
  },
  {
   "cell_type": "code",
   "execution_count": 52,
   "metadata": {},
   "outputs": [
    {
     "name": "stdout",
     "output_type": "stream",
     "text": [
      "0 BC impact\n",
      "1 CC impact\n",
      "2 SJEDI impact\n",
      "3 SO impact\n",
      "4 activation\n",
      "5 advocacy\n",
      "6 allyship in math\n",
      "7 amplification\n",
      "8 belonging\n",
      "9 beyond\n",
      "10 bipoc\n",
      "11 celebration\n",
      "12 conversation\n",
      "13 current events\n",
      "14 disrupteverything\n",
      "15 economic\n",
      "16 emotional support\n",
      "17 futures\n",
      "18 gender\n",
      "19 hashtags\n",
      "20 humanize\n",
      "21 indigenous\n",
      "22 influencers\n",
      "23 jmm experience\n",
      "24 learning\n",
      "25 lgbtq\n",
      "26 math experience\n",
      "27 math practice\n",
      "28 power\n",
      "29 representation\n",
      "30 strategic planning\n",
      "31 talk support\n",
      "32 thankful\n",
      "33 troll\n",
      "34 virtual participation\n"
     ]
    }
   ],
   "source": [
    "codes = ['advocacy', 'amplification', 'emotional support', 'gender', 'indigenous', 'jmm experience', 'representation', 'bipoc', 'hashtags', 'influencers', 'power', 'talk support', 'humanize', 'math practice', 'current events', 'lgbtq', 'strategic planning', 'allyship in math', 'math experience', 'conversation', 'thankful', 'BC impact', 'disrupteverything', 'SJEDI impact', 'SO impact', 'belonging', 'learning', 'troll', 'CC impact', 'virtual participation', 'activation', 'futures', 'economic', 'beyond', 'celebration']\n",
    "codes.sort()\n",
    "codes\n",
    "for i in range(len(codes)):\n",
    "    print(i, codes[i])\n"
   ]
  },
  {
   "cell_type": "code",
   "execution_count": 6,
   "metadata": {},
   "outputs": [
    {
     "data": {
      "text/html": [
       "<div>\n",
       "<style scoped>\n",
       "    .dataframe tbody tr th:only-of-type {\n",
       "        vertical-align: middle;\n",
       "    }\n",
       "\n",
       "    .dataframe tbody tr th {\n",
       "        vertical-align: top;\n",
       "    }\n",
       "\n",
       "    .dataframe thead th {\n",
       "        text-align: right;\n",
       "    }\n",
       "</style>\n",
       "<table border=\"1\" class=\"dataframe\">\n",
       "  <thead>\n",
       "    <tr style=\"text-align: right;\">\n",
       "      <th></th>\n",
       "      <th>BC impact</th>\n",
       "      <th>CC impact</th>\n",
       "      <th>SJEDI impact</th>\n",
       "      <th>SO impact</th>\n",
       "      <th>activation</th>\n",
       "      <th>advocacy</th>\n",
       "      <th>allyship in math</th>\n",
       "      <th>amplification</th>\n",
       "      <th>belonging</th>\n",
       "      <th>beyond</th>\n",
       "      <th>...</th>\n",
       "      <th>lgbtq</th>\n",
       "      <th>math experience</th>\n",
       "      <th>math practice</th>\n",
       "      <th>power</th>\n",
       "      <th>representation</th>\n",
       "      <th>strategic planning</th>\n",
       "      <th>talk support</th>\n",
       "      <th>thankful</th>\n",
       "      <th>troll</th>\n",
       "      <th>virtual participation</th>\n",
       "    </tr>\n",
       "  </thead>\n",
       "  <tbody>\n",
       "    <tr>\n",
       "      <th>mathyadriana</th>\n",
       "      <td>1</td>\n",
       "      <td>0</td>\n",
       "      <td>0</td>\n",
       "      <td>0</td>\n",
       "      <td>0</td>\n",
       "      <td>1</td>\n",
       "      <td>0</td>\n",
       "      <td>6</td>\n",
       "      <td>0</td>\n",
       "      <td>0</td>\n",
       "      <td>...</td>\n",
       "      <td>1</td>\n",
       "      <td>0</td>\n",
       "      <td>2</td>\n",
       "      <td>1</td>\n",
       "      <td>5</td>\n",
       "      <td>2</td>\n",
       "      <td>6</td>\n",
       "      <td>0</td>\n",
       "      <td>0</td>\n",
       "      <td>0</td>\n",
       "    </tr>\n",
       "    <tr>\n",
       "      <th>mathprofcarrie</th>\n",
       "      <td>15</td>\n",
       "      <td>2</td>\n",
       "      <td>0</td>\n",
       "      <td>3</td>\n",
       "      <td>1</td>\n",
       "      <td>7</td>\n",
       "      <td>5</td>\n",
       "      <td>69</td>\n",
       "      <td>4</td>\n",
       "      <td>0</td>\n",
       "      <td>...</td>\n",
       "      <td>4</td>\n",
       "      <td>2</td>\n",
       "      <td>9</td>\n",
       "      <td>16</td>\n",
       "      <td>25</td>\n",
       "      <td>17</td>\n",
       "      <td>59</td>\n",
       "      <td>12</td>\n",
       "      <td>0</td>\n",
       "      <td>1</td>\n",
       "    </tr>\n",
       "    <tr>\n",
       "      <th>pwr2dppl</th>\n",
       "      <td>15</td>\n",
       "      <td>2</td>\n",
       "      <td>1</td>\n",
       "      <td>6</td>\n",
       "      <td>1</td>\n",
       "      <td>8</td>\n",
       "      <td>1</td>\n",
       "      <td>51</td>\n",
       "      <td>5</td>\n",
       "      <td>0</td>\n",
       "      <td>...</td>\n",
       "      <td>7</td>\n",
       "      <td>2</td>\n",
       "      <td>11</td>\n",
       "      <td>15</td>\n",
       "      <td>20</td>\n",
       "      <td>15</td>\n",
       "      <td>42</td>\n",
       "      <td>9</td>\n",
       "      <td>0</td>\n",
       "      <td>0</td>\n",
       "    </tr>\n",
       "    <tr>\n",
       "      <th>xl772</th>\n",
       "      <td>1</td>\n",
       "      <td>0</td>\n",
       "      <td>0</td>\n",
       "      <td>1</td>\n",
       "      <td>0</td>\n",
       "      <td>2</td>\n",
       "      <td>1</td>\n",
       "      <td>6</td>\n",
       "      <td>0</td>\n",
       "      <td>0</td>\n",
       "      <td>...</td>\n",
       "      <td>0</td>\n",
       "      <td>0</td>\n",
       "      <td>0</td>\n",
       "      <td>2</td>\n",
       "      <td>6</td>\n",
       "      <td>3</td>\n",
       "      <td>4</td>\n",
       "      <td>1</td>\n",
       "      <td>0</td>\n",
       "      <td>0</td>\n",
       "    </tr>\n",
       "    <tr>\n",
       "      <th>WanderingPoint</th>\n",
       "      <td>3</td>\n",
       "      <td>1</td>\n",
       "      <td>0</td>\n",
       "      <td>2</td>\n",
       "      <td>0</td>\n",
       "      <td>1</td>\n",
       "      <td>1</td>\n",
       "      <td>11</td>\n",
       "      <td>0</td>\n",
       "      <td>0</td>\n",
       "      <td>...</td>\n",
       "      <td>0</td>\n",
       "      <td>0</td>\n",
       "      <td>1</td>\n",
       "      <td>3</td>\n",
       "      <td>6</td>\n",
       "      <td>1</td>\n",
       "      <td>10</td>\n",
       "      <td>0</td>\n",
       "      <td>0</td>\n",
       "      <td>0</td>\n",
       "    </tr>\n",
       "    <tr>\n",
       "      <th>...</th>\n",
       "      <td>...</td>\n",
       "      <td>...</td>\n",
       "      <td>...</td>\n",
       "      <td>...</td>\n",
       "      <td>...</td>\n",
       "      <td>...</td>\n",
       "      <td>...</td>\n",
       "      <td>...</td>\n",
       "      <td>...</td>\n",
       "      <td>...</td>\n",
       "      <td>...</td>\n",
       "      <td>...</td>\n",
       "      <td>...</td>\n",
       "      <td>...</td>\n",
       "      <td>...</td>\n",
       "      <td>...</td>\n",
       "      <td>...</td>\n",
       "      <td>...</td>\n",
       "      <td>...</td>\n",
       "      <td>...</td>\n",
       "      <td>...</td>\n",
       "    </tr>\n",
       "    <tr>\n",
       "      <th>superyarn</th>\n",
       "      <td>0</td>\n",
       "      <td>0</td>\n",
       "      <td>0</td>\n",
       "      <td>0</td>\n",
       "      <td>0</td>\n",
       "      <td>1</td>\n",
       "      <td>0</td>\n",
       "      <td>1</td>\n",
       "      <td>0</td>\n",
       "      <td>0</td>\n",
       "      <td>...</td>\n",
       "      <td>0</td>\n",
       "      <td>0</td>\n",
       "      <td>0</td>\n",
       "      <td>0</td>\n",
       "      <td>1</td>\n",
       "      <td>0</td>\n",
       "      <td>0</td>\n",
       "      <td>0</td>\n",
       "      <td>0</td>\n",
       "      <td>0</td>\n",
       "    </tr>\n",
       "    <tr>\n",
       "      <th>dbdoughe</th>\n",
       "      <td>0</td>\n",
       "      <td>0</td>\n",
       "      <td>0</td>\n",
       "      <td>0</td>\n",
       "      <td>0</td>\n",
       "      <td>1</td>\n",
       "      <td>0</td>\n",
       "      <td>1</td>\n",
       "      <td>0</td>\n",
       "      <td>0</td>\n",
       "      <td>...</td>\n",
       "      <td>0</td>\n",
       "      <td>0</td>\n",
       "      <td>0</td>\n",
       "      <td>0</td>\n",
       "      <td>1</td>\n",
       "      <td>0</td>\n",
       "      <td>0</td>\n",
       "      <td>0</td>\n",
       "      <td>0</td>\n",
       "      <td>0</td>\n",
       "    </tr>\n",
       "    <tr>\n",
       "      <th>cordesm</th>\n",
       "      <td>0</td>\n",
       "      <td>0</td>\n",
       "      <td>0</td>\n",
       "      <td>0</td>\n",
       "      <td>0</td>\n",
       "      <td>1</td>\n",
       "      <td>0</td>\n",
       "      <td>1</td>\n",
       "      <td>0</td>\n",
       "      <td>0</td>\n",
       "      <td>...</td>\n",
       "      <td>0</td>\n",
       "      <td>0</td>\n",
       "      <td>0</td>\n",
       "      <td>0</td>\n",
       "      <td>1</td>\n",
       "      <td>0</td>\n",
       "      <td>0</td>\n",
       "      <td>0</td>\n",
       "      <td>0</td>\n",
       "      <td>0</td>\n",
       "    </tr>\n",
       "    <tr>\n",
       "      <th>f_futamura</th>\n",
       "      <td>0</td>\n",
       "      <td>0</td>\n",
       "      <td>0</td>\n",
       "      <td>0</td>\n",
       "      <td>0</td>\n",
       "      <td>1</td>\n",
       "      <td>0</td>\n",
       "      <td>1</td>\n",
       "      <td>0</td>\n",
       "      <td>0</td>\n",
       "      <td>...</td>\n",
       "      <td>0</td>\n",
       "      <td>0</td>\n",
       "      <td>0</td>\n",
       "      <td>0</td>\n",
       "      <td>1</td>\n",
       "      <td>0</td>\n",
       "      <td>0</td>\n",
       "      <td>0</td>\n",
       "      <td>0</td>\n",
       "      <td>0</td>\n",
       "    </tr>\n",
       "    <tr>\n",
       "      <th>noellebeckman</th>\n",
       "      <td>0</td>\n",
       "      <td>0</td>\n",
       "      <td>0</td>\n",
       "      <td>0</td>\n",
       "      <td>0</td>\n",
       "      <td>0</td>\n",
       "      <td>0</td>\n",
       "      <td>0</td>\n",
       "      <td>0</td>\n",
       "      <td>0</td>\n",
       "      <td>...</td>\n",
       "      <td>0</td>\n",
       "      <td>0</td>\n",
       "      <td>0</td>\n",
       "      <td>0</td>\n",
       "      <td>0</td>\n",
       "      <td>0</td>\n",
       "      <td>1</td>\n",
       "      <td>0</td>\n",
       "      <td>0</td>\n",
       "      <td>0</td>\n",
       "    </tr>\n",
       "  </tbody>\n",
       "</table>\n",
       "<p>328 rows × 35 columns</p>\n",
       "</div>"
      ],
      "text/plain": [
       "               BC impact CC impact SJEDI impact SO impact activation advocacy  \\\n",
       "mathyadriana           1         0            0         0          0        1   \n",
       "mathprofcarrie        15         2            0         3          1        7   \n",
       "pwr2dppl              15         2            1         6          1        8   \n",
       "xl772                  1         0            0         1          0        2   \n",
       "WanderingPoint         3         1            0         2          0        1   \n",
       "...                  ...       ...          ...       ...        ...      ...   \n",
       "superyarn              0         0            0         0          0        1   \n",
       "dbdoughe               0         0            0         0          0        1   \n",
       "cordesm                0         0            0         0          0        1   \n",
       "f_futamura             0         0            0         0          0        1   \n",
       "noellebeckman          0         0            0         0          0        0   \n",
       "\n",
       "               allyship in math amplification belonging beyond  ... lgbtq  \\\n",
       "mathyadriana                  0             6         0      0  ...     1   \n",
       "mathprofcarrie                5            69         4      0  ...     4   \n",
       "pwr2dppl                      1            51         5      0  ...     7   \n",
       "xl772                         1             6         0      0  ...     0   \n",
       "WanderingPoint                1            11         0      0  ...     0   \n",
       "...                         ...           ...       ...    ...  ...   ...   \n",
       "superyarn                     0             1         0      0  ...     0   \n",
       "dbdoughe                      0             1         0      0  ...     0   \n",
       "cordesm                       0             1         0      0  ...     0   \n",
       "f_futamura                    0             1         0      0  ...     0   \n",
       "noellebeckman                 0             0         0      0  ...     0   \n",
       "\n",
       "               math experience math practice power representation  \\\n",
       "mathyadriana                 0             2     1              5   \n",
       "mathprofcarrie               2             9    16             25   \n",
       "pwr2dppl                     2            11    15             20   \n",
       "xl772                        0             0     2              6   \n",
       "WanderingPoint               0             1     3              6   \n",
       "...                        ...           ...   ...            ...   \n",
       "superyarn                    0             0     0              1   \n",
       "dbdoughe                     0             0     0              1   \n",
       "cordesm                      0             0     0              1   \n",
       "f_futamura                   0             0     0              1   \n",
       "noellebeckman                0             0     0              0   \n",
       "\n",
       "               strategic planning talk support thankful troll  \\\n",
       "mathyadriana                    2            6        0     0   \n",
       "mathprofcarrie                 17           59       12     0   \n",
       "pwr2dppl                       15           42        9     0   \n",
       "xl772                           3            4        1     0   \n",
       "WanderingPoint                  1           10        0     0   \n",
       "...                           ...          ...      ...   ...   \n",
       "superyarn                       0            0        0     0   \n",
       "dbdoughe                        0            0        0     0   \n",
       "cordesm                         0            0        0     0   \n",
       "f_futamura                      0            0        0     0   \n",
       "noellebeckman                   0            1        0     0   \n",
       "\n",
       "               virtual participation  \n",
       "mathyadriana                       0  \n",
       "mathprofcarrie                     1  \n",
       "pwr2dppl                           0  \n",
       "xl772                              0  \n",
       "WanderingPoint                     0  \n",
       "...                              ...  \n",
       "superyarn                          0  \n",
       "dbdoughe                           0  \n",
       "cordesm                            0  \n",
       "f_futamura                         0  \n",
       "noellebeckman                      0  \n",
       "\n",
       "[328 rows x 35 columns]"
      ]
     },
     "execution_count": 6,
     "metadata": {},
     "output_type": "execute_result"
    }
   ],
   "source": [
    "df_codes = pd.DataFrame(columns = codes)\n",
    "num_tweets_retweets = np.zeros(len(tweeters))\n",
    "for i in range(len(tweeters)):\n",
    "    df_temp = df[df['user_username'] == tweeters[i]]\n",
    "    num_tweets_retweets[i] = len(df_temp)\n",
    "    #sum the all codes column\n",
    "    codes_sum_temp = df_temp['all codes'].sum()\n",
    "    #make a dictionary of the codes and how many times they appear in codes_sum_temp\n",
    "    codes_dict_temp = {i:codes_sum_temp.count(i) for i in codes}\n",
    "    #make the dictionary a dataframe\n",
    "    codes_dict_temp_df = pd.DataFrame.from_dict([codes_dict_temp])\n",
    "    #add the dictionary to the dataframe\n",
    "    df_codes = pd.concat([df_codes,codes_dict_temp_df], ignore_index=True)\n",
    "#make the indices the tweeters' names\n",
    "df_codes.index = tweeters\n",
    "df_codes"
   ]
  },
  {
   "cell_type": "code",
   "execution_count": 49,
   "metadata": {},
   "outputs": [
    {
     "data": {
      "text/plain": [
       "array([[ 1,  0,  0, ...,  0,  0,  0],\n",
       "       [15,  2,  0, ..., 12,  0,  1],\n",
       "       [15,  2,  1, ...,  9,  0,  0],\n",
       "       ...,\n",
       "       [ 0,  0,  0, ...,  0,  0,  0],\n",
       "       [ 0,  0,  0, ...,  0,  0,  0],\n",
       "       [ 0,  0,  0, ...,  0,  0,  0]], dtype=int32)"
      ]
     },
     "execution_count": 49,
     "metadata": {},
     "output_type": "execute_result"
    }
   ],
   "source": [
    "#make the dataframe into a numpy array\n",
    "df_codes_array = df_codes.to_numpy()\n",
    "df_codes_array\n",
    "df_codes_array=df_codes_array.astype('i')\n"
   ]
  },
  {
   "cell_type": "code",
   "execution_count": 7,
   "metadata": {},
   "outputs": [
    {
     "name": "stdout",
     "output_type": "stream",
     "text": [
      "0.09523809523809523\n"
     ]
    }
   ],
   "source": [
    "#testing cause aaaaahhh\n",
    "df_codes_array\n",
    "df_temp = df[df['user_username'] == 'mathprofcarrie']\n",
    "len(df_temp)\n",
    "print(12/126)"
   ]
  },
  {
   "cell_type": "code",
   "execution_count": 14,
   "metadata": {},
   "outputs": [
    {
     "data": {
      "text/plain": [
       "array([[0.07692308, 0.        , 0.        , ..., 0.        , 0.        ,\n",
       "        0.        ],\n",
       "       [0.11904762, 0.01587302, 0.        , ..., 0.0952381 , 0.        ,\n",
       "        0.00793651],\n",
       "       [0.14851485, 0.01980198, 0.00990099, ..., 0.08910891, 0.        ,\n",
       "        0.        ],\n",
       "       ...,\n",
       "       [0.        , 0.        , 0.        , ..., 0.        , 0.        ,\n",
       "        0.        ],\n",
       "       [0.        , 0.        , 0.        , ..., 0.        , 0.        ,\n",
       "        0.        ],\n",
       "       [0.        , 0.        , 0.        , ..., 0.        , 0.        ,\n",
       "        0.        ]])"
      ]
     },
     "execution_count": 14,
     "metadata": {},
     "output_type": "execute_result"
    }
   ],
   "source": [
    "#let's try normalizing because data be wild\n",
    "#divide each row by the number of tweets/retweets\n",
    "df_codes_array_norm_tweet = np.zeros((len(tweeters),len(codes)))\n",
    "for i in range(len(tweeters)):\n",
    "    df_codes_array_norm_tweet[i] = df_codes_array[i]/num_tweets_retweets[i]\n",
    "df_codes_array_norm_tweet   "
   ]
  },
  {
   "cell_type": "markdown",
   "metadata": {},
   "source": [
    "## Persistent Homology"
   ]
  },
  {
   "cell_type": "code",
   "execution_count": 27,
   "metadata": {},
   "outputs": [
    {
     "data": {
      "application/vnd.plotly.v1+json": {
       "config": {
        "plotlyServerURL": "https://plot.ly"
       },
       "data": [
        {
         "hoverinfo": "none",
         "line": {
          "color": "black",
          "dash": "dash",
          "width": 1
         },
         "mode": "lines",
         "showlegend": false,
         "type": "scatter",
         "x": [
          -2.46,
          125.46
         ],
         "y": [
          -2.46,
          125.46
         ]
        },
        {
         "hoverinfo": "text",
         "hovertext": [
          "(0.0, 1.0), multiplicity: 23",
          "(0.0, 1.0), multiplicity: 23",
          "(0.0, 1.0), multiplicity: 23",
          "(0.0, 1.0), multiplicity: 23",
          "(0.0, 1.0), multiplicity: 23",
          "(0.0, 1.0), multiplicity: 23",
          "(0.0, 1.0), multiplicity: 23",
          "(0.0, 1.0), multiplicity: 23",
          "(0.0, 1.0), multiplicity: 23",
          "(0.0, 1.0), multiplicity: 23",
          "(0.0, 1.0), multiplicity: 23",
          "(0.0, 1.0), multiplicity: 23",
          "(0.0, 1.0), multiplicity: 23",
          "(0.0, 1.0), multiplicity: 23",
          "(0.0, 1.0), multiplicity: 23",
          "(0.0, 1.0), multiplicity: 23",
          "(0.0, 1.0), multiplicity: 23",
          "(0.0, 1.0), multiplicity: 23",
          "(0.0, 1.0), multiplicity: 23",
          "(0.0, 1.0), multiplicity: 23",
          "(0.0, 1.0), multiplicity: 23",
          "(0.0, 1.0), multiplicity: 23",
          "(0.0, 1.0), multiplicity: 23",
          "(0.0, 2.0), multiplicity: 45",
          "(0.0, 2.0), multiplicity: 45",
          "(0.0, 2.0), multiplicity: 45",
          "(0.0, 2.0), multiplicity: 45",
          "(0.0, 2.0), multiplicity: 45",
          "(0.0, 2.0), multiplicity: 45",
          "(0.0, 2.0), multiplicity: 45",
          "(0.0, 2.0), multiplicity: 45",
          "(0.0, 2.0), multiplicity: 45",
          "(0.0, 2.0), multiplicity: 45",
          "(0.0, 2.0), multiplicity: 45",
          "(0.0, 2.0), multiplicity: 45",
          "(0.0, 2.0), multiplicity: 45",
          "(0.0, 2.0), multiplicity: 45",
          "(0.0, 2.0), multiplicity: 45",
          "(0.0, 2.0), multiplicity: 45",
          "(0.0, 2.0), multiplicity: 45",
          "(0.0, 2.0), multiplicity: 45",
          "(0.0, 2.0), multiplicity: 45",
          "(0.0, 2.0), multiplicity: 45",
          "(0.0, 2.0), multiplicity: 45",
          "(0.0, 2.0), multiplicity: 45",
          "(0.0, 2.0), multiplicity: 45",
          "(0.0, 2.0), multiplicity: 45",
          "(0.0, 2.0), multiplicity: 45",
          "(0.0, 2.0), multiplicity: 45",
          "(0.0, 2.0), multiplicity: 45",
          "(0.0, 2.0), multiplicity: 45",
          "(0.0, 2.0), multiplicity: 45",
          "(0.0, 2.0), multiplicity: 45",
          "(0.0, 2.0), multiplicity: 45",
          "(0.0, 2.0), multiplicity: 45",
          "(0.0, 2.0), multiplicity: 45",
          "(0.0, 2.0), multiplicity: 45",
          "(0.0, 2.0), multiplicity: 45",
          "(0.0, 2.0), multiplicity: 45",
          "(0.0, 2.0), multiplicity: 45",
          "(0.0, 2.0), multiplicity: 45",
          "(0.0, 2.0), multiplicity: 45",
          "(0.0, 2.0), multiplicity: 45",
          "(0.0, 2.0), multiplicity: 45",
          "(0.0, 2.0), multiplicity: 45",
          "(0.0, 2.0), multiplicity: 45",
          "(0.0, 2.0), multiplicity: 45",
          "(0.0, 2.0), multiplicity: 45",
          "(0.0, 3.0), multiplicity: 21",
          "(0.0, 3.0), multiplicity: 21",
          "(0.0, 3.0), multiplicity: 21",
          "(0.0, 3.0), multiplicity: 21",
          "(0.0, 3.0), multiplicity: 21",
          "(0.0, 3.0), multiplicity: 21",
          "(0.0, 3.0), multiplicity: 21",
          "(0.0, 3.0), multiplicity: 21",
          "(0.0, 3.0), multiplicity: 21",
          "(0.0, 3.0), multiplicity: 21",
          "(0.0, 3.0), multiplicity: 21",
          "(0.0, 3.0), multiplicity: 21",
          "(0.0, 3.0), multiplicity: 21",
          "(0.0, 3.0), multiplicity: 21",
          "(0.0, 3.0), multiplicity: 21",
          "(0.0, 3.0), multiplicity: 21",
          "(0.0, 3.0), multiplicity: 21",
          "(0.0, 3.0), multiplicity: 21",
          "(0.0, 3.0), multiplicity: 21",
          "(0.0, 3.0), multiplicity: 21",
          "(0.0, 3.0), multiplicity: 21",
          "(0.0, 4.0), multiplicity: 10",
          "(0.0, 4.0), multiplicity: 10",
          "(0.0, 4.0), multiplicity: 10",
          "(0.0, 4.0), multiplicity: 10",
          "(0.0, 4.0), multiplicity: 10",
          "(0.0, 4.0), multiplicity: 10",
          "(0.0, 4.0), multiplicity: 10",
          "(0.0, 4.0), multiplicity: 10",
          "(0.0, 4.0), multiplicity: 10",
          "(0.0, 4.0), multiplicity: 10",
          "(0.0, 5.0), multiplicity: 12",
          "(0.0, 5.0), multiplicity: 12",
          "(0.0, 5.0), multiplicity: 12",
          "(0.0, 5.0), multiplicity: 12",
          "(0.0, 5.0), multiplicity: 12",
          "(0.0, 5.0), multiplicity: 12",
          "(0.0, 5.0), multiplicity: 12",
          "(0.0, 5.0), multiplicity: 12",
          "(0.0, 5.0), multiplicity: 12",
          "(0.0, 5.0), multiplicity: 12",
          "(0.0, 5.0), multiplicity: 12",
          "(0.0, 5.0), multiplicity: 12",
          "(0.0, 6.0), multiplicity: 9",
          "(0.0, 6.0), multiplicity: 9",
          "(0.0, 6.0), multiplicity: 9",
          "(0.0, 6.0), multiplicity: 9",
          "(0.0, 6.0), multiplicity: 9",
          "(0.0, 6.0), multiplicity: 9",
          "(0.0, 6.0), multiplicity: 9",
          "(0.0, 6.0), multiplicity: 9",
          "(0.0, 6.0), multiplicity: 9",
          "(0.0, 7.0), multiplicity: 5",
          "(0.0, 7.0), multiplicity: 5",
          "(0.0, 7.0), multiplicity: 5",
          "(0.0, 7.0), multiplicity: 5",
          "(0.0, 7.0), multiplicity: 5",
          "(0.0, 8.0), multiplicity: 8",
          "(0.0, 8.0), multiplicity: 8",
          "(0.0, 8.0), multiplicity: 8",
          "(0.0, 8.0), multiplicity: 8",
          "(0.0, 8.0), multiplicity: 8",
          "(0.0, 8.0), multiplicity: 8",
          "(0.0, 8.0), multiplicity: 8",
          "(0.0, 8.0), multiplicity: 8",
          "(0.0, 9.0), multiplicity: 7",
          "(0.0, 9.0), multiplicity: 7",
          "(0.0, 9.0), multiplicity: 7",
          "(0.0, 9.0), multiplicity: 7",
          "(0.0, 9.0), multiplicity: 7",
          "(0.0, 9.0), multiplicity: 7",
          "(0.0, 9.0), multiplicity: 7",
          "(0.0, 10.0), multiplicity: 4",
          "(0.0, 10.0), multiplicity: 4",
          "(0.0, 10.0), multiplicity: 4",
          "(0.0, 10.0), multiplicity: 4",
          "(0.0, 11.0), multiplicity: 5",
          "(0.0, 11.0), multiplicity: 5",
          "(0.0, 11.0), multiplicity: 5",
          "(0.0, 11.0), multiplicity: 5",
          "(0.0, 11.0), multiplicity: 5",
          "(0.0, 12.0)",
          "(0.0, 13.0), multiplicity: 2",
          "(0.0, 13.0), multiplicity: 2",
          "(0.0, 14.0)",
          "(0.0, 15.0)",
          "(0.0, 19.0)",
          "(0.0, 20.0), multiplicity: 4",
          "(0.0, 20.0), multiplicity: 4",
          "(0.0, 20.0), multiplicity: 4",
          "(0.0, 20.0), multiplicity: 4",
          "(0.0, 22.0)",
          "(0.0, 25.0)",
          "(0.0, 27.0)",
          "(0.0, 32.0)",
          "(0.0, 33.0)",
          "(0.0, 34.0)",
          "(0.0, 37.0)",
          "(0.0, 93.0)",
          "(0.0, 107.0)",
          "(0.0, 114.0)",
          "(0.0, 122.0)",
          "(0.0, 123.0)"
         ],
         "mode": "markers",
         "name": "H0",
         "type": "scatter",
         "x": [
          0,
          0,
          0,
          0,
          0,
          0,
          0,
          0,
          0,
          0,
          0,
          0,
          0,
          0,
          0,
          0,
          0,
          0,
          0,
          0,
          0,
          0,
          0,
          0,
          0,
          0,
          0,
          0,
          0,
          0,
          0,
          0,
          0,
          0,
          0,
          0,
          0,
          0,
          0,
          0,
          0,
          0,
          0,
          0,
          0,
          0,
          0,
          0,
          0,
          0,
          0,
          0,
          0,
          0,
          0,
          0,
          0,
          0,
          0,
          0,
          0,
          0,
          0,
          0,
          0,
          0,
          0,
          0,
          0,
          0,
          0,
          0,
          0,
          0,
          0,
          0,
          0,
          0,
          0,
          0,
          0,
          0,
          0,
          0,
          0,
          0,
          0,
          0,
          0,
          0,
          0,
          0,
          0,
          0,
          0,
          0,
          0,
          0,
          0,
          0,
          0,
          0,
          0,
          0,
          0,
          0,
          0,
          0,
          0,
          0,
          0,
          0,
          0,
          0,
          0,
          0,
          0,
          0,
          0,
          0,
          0,
          0,
          0,
          0,
          0,
          0,
          0,
          0,
          0,
          0,
          0,
          0,
          0,
          0,
          0,
          0,
          0,
          0,
          0,
          0,
          0,
          0,
          0,
          0,
          0,
          0,
          0,
          0,
          0,
          0,
          0,
          0,
          0,
          0,
          0,
          0,
          0,
          0,
          0,
          0,
          0,
          0,
          0,
          0,
          0,
          0,
          0,
          0,
          0,
          0,
          0
         ],
         "y": [
          1,
          1,
          1,
          1,
          1,
          1,
          1,
          1,
          1,
          1,
          1,
          1,
          1,
          1,
          1,
          1,
          1,
          1,
          1,
          1,
          1,
          1,
          1,
          2,
          2,
          2,
          2,
          2,
          2,
          2,
          2,
          2,
          2,
          2,
          2,
          2,
          2,
          2,
          2,
          2,
          2,
          2,
          2,
          2,
          2,
          2,
          2,
          2,
          2,
          2,
          2,
          2,
          2,
          2,
          2,
          2,
          2,
          2,
          2,
          2,
          2,
          2,
          2,
          2,
          2,
          2,
          2,
          2,
          3,
          3,
          3,
          3,
          3,
          3,
          3,
          3,
          3,
          3,
          3,
          3,
          3,
          3,
          3,
          3,
          3,
          3,
          3,
          3,
          3,
          4,
          4,
          4,
          4,
          4,
          4,
          4,
          4,
          4,
          4,
          5,
          5,
          5,
          5,
          5,
          5,
          5,
          5,
          5,
          5,
          5,
          5,
          6,
          6,
          6,
          6,
          6,
          6,
          6,
          6,
          6,
          7,
          7,
          7,
          7,
          7,
          8,
          8,
          8,
          8,
          8,
          8,
          8,
          8,
          9,
          9,
          9,
          9,
          9,
          9,
          9,
          10,
          10,
          10,
          10,
          11,
          11,
          11,
          11,
          11,
          12,
          13,
          13,
          14,
          15,
          19,
          20,
          20,
          20,
          20,
          22,
          25,
          27,
          32,
          33,
          34,
          37,
          93,
          107,
          114,
          122,
          123
         ]
        },
        {
         "hoverinfo": "text",
         "hovertext": [
          "(37.0, 38.0)",
          "(21.0, 22.0)",
          "(19.0, 20.0)",
          "(16.0, 17.0)",
          "(12.0, 14.0)",
          "(12.0, 15.0)",
          "(11.0, 13.0)",
          "(11.0, 12.0), multiplicity: 2",
          "(11.0, 12.0), multiplicity: 2",
          "(10.0, 11.0), multiplicity: 3",
          "(10.0, 11.0), multiplicity: 3",
          "(10.0, 12.0)",
          "(10.0, 11.0), multiplicity: 3",
          "(9.0, 11.0), multiplicity: 2",
          "(9.0, 10.0), multiplicity: 2",
          "(9.0, 10.0), multiplicity: 2",
          "(9.0, 11.0), multiplicity: 2",
          "(8.0, 9.0)",
          "(7.0, 8.0)",
          "(6.0, 7.0)",
          "(5.0, 6.0), multiplicity: 3",
          "(5.0, 6.0), multiplicity: 3",
          "(5.0, 6.0), multiplicity: 3",
          "(4.0, 5.0)",
          "(3.0, 4.0), multiplicity: 6",
          "(3.0, 4.0), multiplicity: 6",
          "(3.0, 4.0), multiplicity: 6",
          "(3.0, 4.0), multiplicity: 6",
          "(3.0, 4.0), multiplicity: 6",
          "(3.0, 4.0), multiplicity: 6",
          "(2.0, 3.0), multiplicity: 8",
          "(2.0, 3.0), multiplicity: 8",
          "(2.0, 3.0), multiplicity: 8",
          "(2.0, 3.0), multiplicity: 8",
          "(2.0, 3.0), multiplicity: 8",
          "(2.0, 3.0), multiplicity: 8",
          "(2.0, 3.0), multiplicity: 8",
          "(2.0, 3.0), multiplicity: 8"
         ],
         "mode": "markers",
         "name": "H1",
         "type": "scatter",
         "x": [
          37,
          21,
          19,
          16,
          12,
          12,
          11,
          11,
          11,
          10,
          10,
          10,
          10,
          9,
          9,
          9,
          9,
          8,
          7,
          6,
          5,
          5,
          5,
          4,
          3,
          3,
          3,
          3,
          3,
          3,
          2,
          2,
          2,
          2,
          2,
          2,
          2,
          2
         ],
         "y": [
          38,
          22,
          20,
          17,
          14,
          15,
          13,
          12,
          12,
          11,
          11,
          12,
          11,
          11,
          10,
          10,
          11,
          9,
          8,
          7,
          6,
          6,
          6,
          5,
          4,
          4,
          4,
          4,
          4,
          4,
          3,
          3,
          3,
          3,
          3,
          3,
          3,
          3
         ]
        },
        {
         "hoverinfo": "text",
         "hovertext": [
          "(13.0, 14.0)",
          "(7.0, 8.0)",
          "(5.0, 6.0)",
          "(4.0, 5.0)",
          "(3.0, 4.0), multiplicity: 4",
          "(3.0, 4.0), multiplicity: 4",
          "(3.0, 4.0), multiplicity: 4",
          "(3.0, 4.0), multiplicity: 4"
         ],
         "mode": "markers",
         "name": "H2",
         "type": "scatter",
         "x": [
          13,
          7,
          5,
          4,
          3,
          3,
          3,
          3
         ],
         "y": [
          14,
          8,
          6,
          5,
          4,
          4,
          4,
          4
         ]
        }
       ],
       "layout": {
        "height": 500,
        "plot_bgcolor": "white",
        "template": {
         "data": {
          "bar": [
           {
            "error_x": {
             "color": "#2a3f5f"
            },
            "error_y": {
             "color": "#2a3f5f"
            },
            "marker": {
             "line": {
              "color": "#E5ECF6",
              "width": 0.5
             },
             "pattern": {
              "fillmode": "overlay",
              "size": 10,
              "solidity": 0.2
             }
            },
            "type": "bar"
           }
          ],
          "barpolar": [
           {
            "marker": {
             "line": {
              "color": "#E5ECF6",
              "width": 0.5
             },
             "pattern": {
              "fillmode": "overlay",
              "size": 10,
              "solidity": 0.2
             }
            },
            "type": "barpolar"
           }
          ],
          "carpet": [
           {
            "aaxis": {
             "endlinecolor": "#2a3f5f",
             "gridcolor": "white",
             "linecolor": "white",
             "minorgridcolor": "white",
             "startlinecolor": "#2a3f5f"
            },
            "baxis": {
             "endlinecolor": "#2a3f5f",
             "gridcolor": "white",
             "linecolor": "white",
             "minorgridcolor": "white",
             "startlinecolor": "#2a3f5f"
            },
            "type": "carpet"
           }
          ],
          "choropleth": [
           {
            "colorbar": {
             "outlinewidth": 0,
             "ticks": ""
            },
            "type": "choropleth"
           }
          ],
          "contour": [
           {
            "colorbar": {
             "outlinewidth": 0,
             "ticks": ""
            },
            "colorscale": [
             [
              0,
              "#0d0887"
             ],
             [
              0.1111111111111111,
              "#46039f"
             ],
             [
              0.2222222222222222,
              "#7201a8"
             ],
             [
              0.3333333333333333,
              "#9c179e"
             ],
             [
              0.4444444444444444,
              "#bd3786"
             ],
             [
              0.5555555555555556,
              "#d8576b"
             ],
             [
              0.6666666666666666,
              "#ed7953"
             ],
             [
              0.7777777777777778,
              "#fb9f3a"
             ],
             [
              0.8888888888888888,
              "#fdca26"
             ],
             [
              1,
              "#f0f921"
             ]
            ],
            "type": "contour"
           }
          ],
          "contourcarpet": [
           {
            "colorbar": {
             "outlinewidth": 0,
             "ticks": ""
            },
            "type": "contourcarpet"
           }
          ],
          "heatmap": [
           {
            "colorbar": {
             "outlinewidth": 0,
             "ticks": ""
            },
            "colorscale": [
             [
              0,
              "#0d0887"
             ],
             [
              0.1111111111111111,
              "#46039f"
             ],
             [
              0.2222222222222222,
              "#7201a8"
             ],
             [
              0.3333333333333333,
              "#9c179e"
             ],
             [
              0.4444444444444444,
              "#bd3786"
             ],
             [
              0.5555555555555556,
              "#d8576b"
             ],
             [
              0.6666666666666666,
              "#ed7953"
             ],
             [
              0.7777777777777778,
              "#fb9f3a"
             ],
             [
              0.8888888888888888,
              "#fdca26"
             ],
             [
              1,
              "#f0f921"
             ]
            ],
            "type": "heatmap"
           }
          ],
          "heatmapgl": [
           {
            "colorbar": {
             "outlinewidth": 0,
             "ticks": ""
            },
            "colorscale": [
             [
              0,
              "#0d0887"
             ],
             [
              0.1111111111111111,
              "#46039f"
             ],
             [
              0.2222222222222222,
              "#7201a8"
             ],
             [
              0.3333333333333333,
              "#9c179e"
             ],
             [
              0.4444444444444444,
              "#bd3786"
             ],
             [
              0.5555555555555556,
              "#d8576b"
             ],
             [
              0.6666666666666666,
              "#ed7953"
             ],
             [
              0.7777777777777778,
              "#fb9f3a"
             ],
             [
              0.8888888888888888,
              "#fdca26"
             ],
             [
              1,
              "#f0f921"
             ]
            ],
            "type": "heatmapgl"
           }
          ],
          "histogram": [
           {
            "marker": {
             "pattern": {
              "fillmode": "overlay",
              "size": 10,
              "solidity": 0.2
             }
            },
            "type": "histogram"
           }
          ],
          "histogram2d": [
           {
            "colorbar": {
             "outlinewidth": 0,
             "ticks": ""
            },
            "colorscale": [
             [
              0,
              "#0d0887"
             ],
             [
              0.1111111111111111,
              "#46039f"
             ],
             [
              0.2222222222222222,
              "#7201a8"
             ],
             [
              0.3333333333333333,
              "#9c179e"
             ],
             [
              0.4444444444444444,
              "#bd3786"
             ],
             [
              0.5555555555555556,
              "#d8576b"
             ],
             [
              0.6666666666666666,
              "#ed7953"
             ],
             [
              0.7777777777777778,
              "#fb9f3a"
             ],
             [
              0.8888888888888888,
              "#fdca26"
             ],
             [
              1,
              "#f0f921"
             ]
            ],
            "type": "histogram2d"
           }
          ],
          "histogram2dcontour": [
           {
            "colorbar": {
             "outlinewidth": 0,
             "ticks": ""
            },
            "colorscale": [
             [
              0,
              "#0d0887"
             ],
             [
              0.1111111111111111,
              "#46039f"
             ],
             [
              0.2222222222222222,
              "#7201a8"
             ],
             [
              0.3333333333333333,
              "#9c179e"
             ],
             [
              0.4444444444444444,
              "#bd3786"
             ],
             [
              0.5555555555555556,
              "#d8576b"
             ],
             [
              0.6666666666666666,
              "#ed7953"
             ],
             [
              0.7777777777777778,
              "#fb9f3a"
             ],
             [
              0.8888888888888888,
              "#fdca26"
             ],
             [
              1,
              "#f0f921"
             ]
            ],
            "type": "histogram2dcontour"
           }
          ],
          "mesh3d": [
           {
            "colorbar": {
             "outlinewidth": 0,
             "ticks": ""
            },
            "type": "mesh3d"
           }
          ],
          "parcoords": [
           {
            "line": {
             "colorbar": {
              "outlinewidth": 0,
              "ticks": ""
             }
            },
            "type": "parcoords"
           }
          ],
          "pie": [
           {
            "automargin": true,
            "type": "pie"
           }
          ],
          "scatter": [
           {
            "fillpattern": {
             "fillmode": "overlay",
             "size": 10,
             "solidity": 0.2
            },
            "type": "scatter"
           }
          ],
          "scatter3d": [
           {
            "line": {
             "colorbar": {
              "outlinewidth": 0,
              "ticks": ""
             }
            },
            "marker": {
             "colorbar": {
              "outlinewidth": 0,
              "ticks": ""
             }
            },
            "type": "scatter3d"
           }
          ],
          "scattercarpet": [
           {
            "marker": {
             "colorbar": {
              "outlinewidth": 0,
              "ticks": ""
             }
            },
            "type": "scattercarpet"
           }
          ],
          "scattergeo": [
           {
            "marker": {
             "colorbar": {
              "outlinewidth": 0,
              "ticks": ""
             }
            },
            "type": "scattergeo"
           }
          ],
          "scattergl": [
           {
            "marker": {
             "colorbar": {
              "outlinewidth": 0,
              "ticks": ""
             }
            },
            "type": "scattergl"
           }
          ],
          "scattermapbox": [
           {
            "marker": {
             "colorbar": {
              "outlinewidth": 0,
              "ticks": ""
             }
            },
            "type": "scattermapbox"
           }
          ],
          "scatterpolar": [
           {
            "marker": {
             "colorbar": {
              "outlinewidth": 0,
              "ticks": ""
             }
            },
            "type": "scatterpolar"
           }
          ],
          "scatterpolargl": [
           {
            "marker": {
             "colorbar": {
              "outlinewidth": 0,
              "ticks": ""
             }
            },
            "type": "scatterpolargl"
           }
          ],
          "scatterternary": [
           {
            "marker": {
             "colorbar": {
              "outlinewidth": 0,
              "ticks": ""
             }
            },
            "type": "scatterternary"
           }
          ],
          "surface": [
           {
            "colorbar": {
             "outlinewidth": 0,
             "ticks": ""
            },
            "colorscale": [
             [
              0,
              "#0d0887"
             ],
             [
              0.1111111111111111,
              "#46039f"
             ],
             [
              0.2222222222222222,
              "#7201a8"
             ],
             [
              0.3333333333333333,
              "#9c179e"
             ],
             [
              0.4444444444444444,
              "#bd3786"
             ],
             [
              0.5555555555555556,
              "#d8576b"
             ],
             [
              0.6666666666666666,
              "#ed7953"
             ],
             [
              0.7777777777777778,
              "#fb9f3a"
             ],
             [
              0.8888888888888888,
              "#fdca26"
             ],
             [
              1,
              "#f0f921"
             ]
            ],
            "type": "surface"
           }
          ],
          "table": [
           {
            "cells": {
             "fill": {
              "color": "#EBF0F8"
             },
             "line": {
              "color": "white"
             }
            },
            "header": {
             "fill": {
              "color": "#C8D4E3"
             },
             "line": {
              "color": "white"
             }
            },
            "type": "table"
           }
          ]
         },
         "layout": {
          "annotationdefaults": {
           "arrowcolor": "#2a3f5f",
           "arrowhead": 0,
           "arrowwidth": 1
          },
          "autotypenumbers": "strict",
          "coloraxis": {
           "colorbar": {
            "outlinewidth": 0,
            "ticks": ""
           }
          },
          "colorscale": {
           "diverging": [
            [
             0,
             "#8e0152"
            ],
            [
             0.1,
             "#c51b7d"
            ],
            [
             0.2,
             "#de77ae"
            ],
            [
             0.3,
             "#f1b6da"
            ],
            [
             0.4,
             "#fde0ef"
            ],
            [
             0.5,
             "#f7f7f7"
            ],
            [
             0.6,
             "#e6f5d0"
            ],
            [
             0.7,
             "#b8e186"
            ],
            [
             0.8,
             "#7fbc41"
            ],
            [
             0.9,
             "#4d9221"
            ],
            [
             1,
             "#276419"
            ]
           ],
           "sequential": [
            [
             0,
             "#0d0887"
            ],
            [
             0.1111111111111111,
             "#46039f"
            ],
            [
             0.2222222222222222,
             "#7201a8"
            ],
            [
             0.3333333333333333,
             "#9c179e"
            ],
            [
             0.4444444444444444,
             "#bd3786"
            ],
            [
             0.5555555555555556,
             "#d8576b"
            ],
            [
             0.6666666666666666,
             "#ed7953"
            ],
            [
             0.7777777777777778,
             "#fb9f3a"
            ],
            [
             0.8888888888888888,
             "#fdca26"
            ],
            [
             1,
             "#f0f921"
            ]
           ],
           "sequentialminus": [
            [
             0,
             "#0d0887"
            ],
            [
             0.1111111111111111,
             "#46039f"
            ],
            [
             0.2222222222222222,
             "#7201a8"
            ],
            [
             0.3333333333333333,
             "#9c179e"
            ],
            [
             0.4444444444444444,
             "#bd3786"
            ],
            [
             0.5555555555555556,
             "#d8576b"
            ],
            [
             0.6666666666666666,
             "#ed7953"
            ],
            [
             0.7777777777777778,
             "#fb9f3a"
            ],
            [
             0.8888888888888888,
             "#fdca26"
            ],
            [
             1,
             "#f0f921"
            ]
           ]
          },
          "colorway": [
           "#636efa",
           "#EF553B",
           "#00cc96",
           "#ab63fa",
           "#FFA15A",
           "#19d3f3",
           "#FF6692",
           "#B6E880",
           "#FF97FF",
           "#FECB52"
          ],
          "font": {
           "color": "#2a3f5f"
          },
          "geo": {
           "bgcolor": "white",
           "lakecolor": "white",
           "landcolor": "#E5ECF6",
           "showlakes": true,
           "showland": true,
           "subunitcolor": "white"
          },
          "hoverlabel": {
           "align": "left"
          },
          "hovermode": "closest",
          "mapbox": {
           "style": "light"
          },
          "paper_bgcolor": "white",
          "plot_bgcolor": "#E5ECF6",
          "polar": {
           "angularaxis": {
            "gridcolor": "white",
            "linecolor": "white",
            "ticks": ""
           },
           "bgcolor": "#E5ECF6",
           "radialaxis": {
            "gridcolor": "white",
            "linecolor": "white",
            "ticks": ""
           }
          },
          "scene": {
           "xaxis": {
            "backgroundcolor": "#E5ECF6",
            "gridcolor": "white",
            "gridwidth": 2,
            "linecolor": "white",
            "showbackground": true,
            "ticks": "",
            "zerolinecolor": "white"
           },
           "yaxis": {
            "backgroundcolor": "#E5ECF6",
            "gridcolor": "white",
            "gridwidth": 2,
            "linecolor": "white",
            "showbackground": true,
            "ticks": "",
            "zerolinecolor": "white"
           },
           "zaxis": {
            "backgroundcolor": "#E5ECF6",
            "gridcolor": "white",
            "gridwidth": 2,
            "linecolor": "white",
            "showbackground": true,
            "ticks": "",
            "zerolinecolor": "white"
           }
          },
          "shapedefaults": {
           "line": {
            "color": "#2a3f5f"
           }
          },
          "ternary": {
           "aaxis": {
            "gridcolor": "white",
            "linecolor": "white",
            "ticks": ""
           },
           "baxis": {
            "gridcolor": "white",
            "linecolor": "white",
            "ticks": ""
           },
           "bgcolor": "#E5ECF6",
           "caxis": {
            "gridcolor": "white",
            "linecolor": "white",
            "ticks": ""
           }
          },
          "title": {
           "x": 0.05
          },
          "xaxis": {
           "automargin": true,
           "gridcolor": "white",
           "linecolor": "white",
           "ticks": "",
           "title": {
            "standoff": 15
           },
           "zerolinecolor": "white",
           "zerolinewidth": 2
          },
          "yaxis": {
           "automargin": true,
           "gridcolor": "white",
           "linecolor": "white",
           "ticks": "",
           "title": {
            "standoff": 15
           },
           "zerolinecolor": "white",
           "zerolinewidth": 2
          }
         }
        },
        "width": 500,
        "xaxis": {
         "autorange": false,
         "exponentformat": "e",
         "linecolor": "black",
         "linewidth": 1,
         "mirror": false,
         "range": [
          -2.46,
          125.46
         ],
         "showexponent": "all",
         "showline": true,
         "side": "bottom",
         "ticks": "outside",
         "title": {
          "text": "Birth"
         },
         "type": "linear",
         "zeroline": true
        },
        "yaxis": {
         "autorange": false,
         "exponentformat": "e",
         "linecolor": "black",
         "linewidth": 1,
         "mirror": false,
         "range": [
          -2.46,
          125.46
         ],
         "scaleanchor": "x",
         "scaleratio": 1,
         "showexponent": "all",
         "showline": true,
         "side": "left",
         "ticks": "outside",
         "title": {
          "text": "Death"
         },
         "type": "linear",
         "zeroline": true
        }
       }
      }
     },
     "metadata": {},
     "output_type": "display_data"
    }
   ],
   "source": [
    "from gtda.homology import VietorisRipsPersistence\n",
    "from gtda.plotting import plot_diagram\n",
    "\n",
    "persistence = VietorisRipsPersistence(\n",
    "    metric=\"manhattan\",\n",
    "    homology_dimensions=(0,1,2))\n",
    "\n",
    "diagram = persistence.fit_transform(df_codes_array[None,:,:])\n",
    "plot_diagram(diagram[0])\n"
   ]
  },
  {
   "cell_type": "code",
   "execution_count": 10,
   "metadata": {},
   "outputs": [
    {
     "data": {
      "application/vnd.plotly.v1+json": {
       "config": {
        "plotlyServerURL": "https://plot.ly"
       },
       "data": [
        {
         "hoverinfo": "none",
         "line": {
          "color": "black",
          "dash": "dash",
          "width": 1
         },
         "mode": "lines",
         "showlegend": false,
         "type": "scatter",
         "x": [
          1.28,
          38.72
         ],
         "y": [
          1.28,
          38.72
         ]
        },
        {
         "hoverinfo": "text",
         "hovertext": [
          "(37.0, 38.0)",
          "(21.0, 22.0)",
          "(19.0, 20.0)",
          "(16.0, 17.0)",
          "(12.0, 14.0)",
          "(12.0, 15.0)",
          "(11.0, 13.0)",
          "(11.0, 12.0), multiplicity: 2",
          "(11.0, 12.0), multiplicity: 2",
          "(10.0, 11.0), multiplicity: 3",
          "(10.0, 11.0), multiplicity: 3",
          "(10.0, 12.0)",
          "(10.0, 11.0), multiplicity: 3",
          "(9.0, 11.0), multiplicity: 2",
          "(9.0, 10.0), multiplicity: 2",
          "(9.0, 10.0), multiplicity: 2",
          "(9.0, 11.0), multiplicity: 2",
          "(8.0, 9.0)",
          "(7.0, 8.0)",
          "(6.0, 7.0)",
          "(5.0, 6.0), multiplicity: 3",
          "(5.0, 6.0), multiplicity: 3",
          "(5.0, 6.0), multiplicity: 3",
          "(4.0, 5.0)",
          "(3.0, 4.0), multiplicity: 6",
          "(3.0, 4.0), multiplicity: 6",
          "(3.0, 4.0), multiplicity: 6",
          "(3.0, 4.0), multiplicity: 6",
          "(3.0, 4.0), multiplicity: 6",
          "(3.0, 4.0), multiplicity: 6",
          "(2.0, 3.0), multiplicity: 8",
          "(2.0, 3.0), multiplicity: 8",
          "(2.0, 3.0), multiplicity: 8",
          "(2.0, 3.0), multiplicity: 8",
          "(2.0, 3.0), multiplicity: 8",
          "(2.0, 3.0), multiplicity: 8",
          "(2.0, 3.0), multiplicity: 8",
          "(2.0, 3.0), multiplicity: 8"
         ],
         "mode": "markers",
         "name": "H1",
         "type": "scatter",
         "x": [
          37,
          21,
          19,
          16,
          12,
          12,
          11,
          11,
          11,
          10,
          10,
          10,
          10,
          9,
          9,
          9,
          9,
          8,
          7,
          6,
          5,
          5,
          5,
          4,
          3,
          3,
          3,
          3,
          3,
          3,
          2,
          2,
          2,
          2,
          2,
          2,
          2,
          2
         ],
         "y": [
          38,
          22,
          20,
          17,
          14,
          15,
          13,
          12,
          12,
          11,
          11,
          12,
          11,
          11,
          10,
          10,
          11,
          9,
          8,
          7,
          6,
          6,
          6,
          5,
          4,
          4,
          4,
          4,
          4,
          4,
          3,
          3,
          3,
          3,
          3,
          3,
          3,
          3
         ]
        },
        {
         "hoverinfo": "text",
         "hovertext": [
          "(13.0, 14.0)",
          "(7.0, 8.0)",
          "(5.0, 6.0)",
          "(4.0, 5.0)",
          "(3.0, 4.0), multiplicity: 4",
          "(3.0, 4.0), multiplicity: 4",
          "(3.0, 4.0), multiplicity: 4",
          "(3.0, 4.0), multiplicity: 4"
         ],
         "mode": "markers",
         "name": "H2",
         "type": "scatter",
         "x": [
          13,
          7,
          5,
          4,
          3,
          3,
          3,
          3
         ],
         "y": [
          14,
          8,
          6,
          5,
          4,
          4,
          4,
          4
         ]
        }
       ],
       "layout": {
        "height": 500,
        "plot_bgcolor": "white",
        "template": {
         "data": {
          "bar": [
           {
            "error_x": {
             "color": "#2a3f5f"
            },
            "error_y": {
             "color": "#2a3f5f"
            },
            "marker": {
             "line": {
              "color": "#E5ECF6",
              "width": 0.5
             },
             "pattern": {
              "fillmode": "overlay",
              "size": 10,
              "solidity": 0.2
             }
            },
            "type": "bar"
           }
          ],
          "barpolar": [
           {
            "marker": {
             "line": {
              "color": "#E5ECF6",
              "width": 0.5
             },
             "pattern": {
              "fillmode": "overlay",
              "size": 10,
              "solidity": 0.2
             }
            },
            "type": "barpolar"
           }
          ],
          "carpet": [
           {
            "aaxis": {
             "endlinecolor": "#2a3f5f",
             "gridcolor": "white",
             "linecolor": "white",
             "minorgridcolor": "white",
             "startlinecolor": "#2a3f5f"
            },
            "baxis": {
             "endlinecolor": "#2a3f5f",
             "gridcolor": "white",
             "linecolor": "white",
             "minorgridcolor": "white",
             "startlinecolor": "#2a3f5f"
            },
            "type": "carpet"
           }
          ],
          "choropleth": [
           {
            "colorbar": {
             "outlinewidth": 0,
             "ticks": ""
            },
            "type": "choropleth"
           }
          ],
          "contour": [
           {
            "colorbar": {
             "outlinewidth": 0,
             "ticks": ""
            },
            "colorscale": [
             [
              0,
              "#0d0887"
             ],
             [
              0.1111111111111111,
              "#46039f"
             ],
             [
              0.2222222222222222,
              "#7201a8"
             ],
             [
              0.3333333333333333,
              "#9c179e"
             ],
             [
              0.4444444444444444,
              "#bd3786"
             ],
             [
              0.5555555555555556,
              "#d8576b"
             ],
             [
              0.6666666666666666,
              "#ed7953"
             ],
             [
              0.7777777777777778,
              "#fb9f3a"
             ],
             [
              0.8888888888888888,
              "#fdca26"
             ],
             [
              1,
              "#f0f921"
             ]
            ],
            "type": "contour"
           }
          ],
          "contourcarpet": [
           {
            "colorbar": {
             "outlinewidth": 0,
             "ticks": ""
            },
            "type": "contourcarpet"
           }
          ],
          "heatmap": [
           {
            "colorbar": {
             "outlinewidth": 0,
             "ticks": ""
            },
            "colorscale": [
             [
              0,
              "#0d0887"
             ],
             [
              0.1111111111111111,
              "#46039f"
             ],
             [
              0.2222222222222222,
              "#7201a8"
             ],
             [
              0.3333333333333333,
              "#9c179e"
             ],
             [
              0.4444444444444444,
              "#bd3786"
             ],
             [
              0.5555555555555556,
              "#d8576b"
             ],
             [
              0.6666666666666666,
              "#ed7953"
             ],
             [
              0.7777777777777778,
              "#fb9f3a"
             ],
             [
              0.8888888888888888,
              "#fdca26"
             ],
             [
              1,
              "#f0f921"
             ]
            ],
            "type": "heatmap"
           }
          ],
          "heatmapgl": [
           {
            "colorbar": {
             "outlinewidth": 0,
             "ticks": ""
            },
            "colorscale": [
             [
              0,
              "#0d0887"
             ],
             [
              0.1111111111111111,
              "#46039f"
             ],
             [
              0.2222222222222222,
              "#7201a8"
             ],
             [
              0.3333333333333333,
              "#9c179e"
             ],
             [
              0.4444444444444444,
              "#bd3786"
             ],
             [
              0.5555555555555556,
              "#d8576b"
             ],
             [
              0.6666666666666666,
              "#ed7953"
             ],
             [
              0.7777777777777778,
              "#fb9f3a"
             ],
             [
              0.8888888888888888,
              "#fdca26"
             ],
             [
              1,
              "#f0f921"
             ]
            ],
            "type": "heatmapgl"
           }
          ],
          "histogram": [
           {
            "marker": {
             "pattern": {
              "fillmode": "overlay",
              "size": 10,
              "solidity": 0.2
             }
            },
            "type": "histogram"
           }
          ],
          "histogram2d": [
           {
            "colorbar": {
             "outlinewidth": 0,
             "ticks": ""
            },
            "colorscale": [
             [
              0,
              "#0d0887"
             ],
             [
              0.1111111111111111,
              "#46039f"
             ],
             [
              0.2222222222222222,
              "#7201a8"
             ],
             [
              0.3333333333333333,
              "#9c179e"
             ],
             [
              0.4444444444444444,
              "#bd3786"
             ],
             [
              0.5555555555555556,
              "#d8576b"
             ],
             [
              0.6666666666666666,
              "#ed7953"
             ],
             [
              0.7777777777777778,
              "#fb9f3a"
             ],
             [
              0.8888888888888888,
              "#fdca26"
             ],
             [
              1,
              "#f0f921"
             ]
            ],
            "type": "histogram2d"
           }
          ],
          "histogram2dcontour": [
           {
            "colorbar": {
             "outlinewidth": 0,
             "ticks": ""
            },
            "colorscale": [
             [
              0,
              "#0d0887"
             ],
             [
              0.1111111111111111,
              "#46039f"
             ],
             [
              0.2222222222222222,
              "#7201a8"
             ],
             [
              0.3333333333333333,
              "#9c179e"
             ],
             [
              0.4444444444444444,
              "#bd3786"
             ],
             [
              0.5555555555555556,
              "#d8576b"
             ],
             [
              0.6666666666666666,
              "#ed7953"
             ],
             [
              0.7777777777777778,
              "#fb9f3a"
             ],
             [
              0.8888888888888888,
              "#fdca26"
             ],
             [
              1,
              "#f0f921"
             ]
            ],
            "type": "histogram2dcontour"
           }
          ],
          "mesh3d": [
           {
            "colorbar": {
             "outlinewidth": 0,
             "ticks": ""
            },
            "type": "mesh3d"
           }
          ],
          "parcoords": [
           {
            "line": {
             "colorbar": {
              "outlinewidth": 0,
              "ticks": ""
             }
            },
            "type": "parcoords"
           }
          ],
          "pie": [
           {
            "automargin": true,
            "type": "pie"
           }
          ],
          "scatter": [
           {
            "fillpattern": {
             "fillmode": "overlay",
             "size": 10,
             "solidity": 0.2
            },
            "type": "scatter"
           }
          ],
          "scatter3d": [
           {
            "line": {
             "colorbar": {
              "outlinewidth": 0,
              "ticks": ""
             }
            },
            "marker": {
             "colorbar": {
              "outlinewidth": 0,
              "ticks": ""
             }
            },
            "type": "scatter3d"
           }
          ],
          "scattercarpet": [
           {
            "marker": {
             "colorbar": {
              "outlinewidth": 0,
              "ticks": ""
             }
            },
            "type": "scattercarpet"
           }
          ],
          "scattergeo": [
           {
            "marker": {
             "colorbar": {
              "outlinewidth": 0,
              "ticks": ""
             }
            },
            "type": "scattergeo"
           }
          ],
          "scattergl": [
           {
            "marker": {
             "colorbar": {
              "outlinewidth": 0,
              "ticks": ""
             }
            },
            "type": "scattergl"
           }
          ],
          "scattermapbox": [
           {
            "marker": {
             "colorbar": {
              "outlinewidth": 0,
              "ticks": ""
             }
            },
            "type": "scattermapbox"
           }
          ],
          "scatterpolar": [
           {
            "marker": {
             "colorbar": {
              "outlinewidth": 0,
              "ticks": ""
             }
            },
            "type": "scatterpolar"
           }
          ],
          "scatterpolargl": [
           {
            "marker": {
             "colorbar": {
              "outlinewidth": 0,
              "ticks": ""
             }
            },
            "type": "scatterpolargl"
           }
          ],
          "scatterternary": [
           {
            "marker": {
             "colorbar": {
              "outlinewidth": 0,
              "ticks": ""
             }
            },
            "type": "scatterternary"
           }
          ],
          "surface": [
           {
            "colorbar": {
             "outlinewidth": 0,
             "ticks": ""
            },
            "colorscale": [
             [
              0,
              "#0d0887"
             ],
             [
              0.1111111111111111,
              "#46039f"
             ],
             [
              0.2222222222222222,
              "#7201a8"
             ],
             [
              0.3333333333333333,
              "#9c179e"
             ],
             [
              0.4444444444444444,
              "#bd3786"
             ],
             [
              0.5555555555555556,
              "#d8576b"
             ],
             [
              0.6666666666666666,
              "#ed7953"
             ],
             [
              0.7777777777777778,
              "#fb9f3a"
             ],
             [
              0.8888888888888888,
              "#fdca26"
             ],
             [
              1,
              "#f0f921"
             ]
            ],
            "type": "surface"
           }
          ],
          "table": [
           {
            "cells": {
             "fill": {
              "color": "#EBF0F8"
             },
             "line": {
              "color": "white"
             }
            },
            "header": {
             "fill": {
              "color": "#C8D4E3"
             },
             "line": {
              "color": "white"
             }
            },
            "type": "table"
           }
          ]
         },
         "layout": {
          "annotationdefaults": {
           "arrowcolor": "#2a3f5f",
           "arrowhead": 0,
           "arrowwidth": 1
          },
          "autotypenumbers": "strict",
          "coloraxis": {
           "colorbar": {
            "outlinewidth": 0,
            "ticks": ""
           }
          },
          "colorscale": {
           "diverging": [
            [
             0,
             "#8e0152"
            ],
            [
             0.1,
             "#c51b7d"
            ],
            [
             0.2,
             "#de77ae"
            ],
            [
             0.3,
             "#f1b6da"
            ],
            [
             0.4,
             "#fde0ef"
            ],
            [
             0.5,
             "#f7f7f7"
            ],
            [
             0.6,
             "#e6f5d0"
            ],
            [
             0.7,
             "#b8e186"
            ],
            [
             0.8,
             "#7fbc41"
            ],
            [
             0.9,
             "#4d9221"
            ],
            [
             1,
             "#276419"
            ]
           ],
           "sequential": [
            [
             0,
             "#0d0887"
            ],
            [
             0.1111111111111111,
             "#46039f"
            ],
            [
             0.2222222222222222,
             "#7201a8"
            ],
            [
             0.3333333333333333,
             "#9c179e"
            ],
            [
             0.4444444444444444,
             "#bd3786"
            ],
            [
             0.5555555555555556,
             "#d8576b"
            ],
            [
             0.6666666666666666,
             "#ed7953"
            ],
            [
             0.7777777777777778,
             "#fb9f3a"
            ],
            [
             0.8888888888888888,
             "#fdca26"
            ],
            [
             1,
             "#f0f921"
            ]
           ],
           "sequentialminus": [
            [
             0,
             "#0d0887"
            ],
            [
             0.1111111111111111,
             "#46039f"
            ],
            [
             0.2222222222222222,
             "#7201a8"
            ],
            [
             0.3333333333333333,
             "#9c179e"
            ],
            [
             0.4444444444444444,
             "#bd3786"
            ],
            [
             0.5555555555555556,
             "#d8576b"
            ],
            [
             0.6666666666666666,
             "#ed7953"
            ],
            [
             0.7777777777777778,
             "#fb9f3a"
            ],
            [
             0.8888888888888888,
             "#fdca26"
            ],
            [
             1,
             "#f0f921"
            ]
           ]
          },
          "colorway": [
           "#636efa",
           "#EF553B",
           "#00cc96",
           "#ab63fa",
           "#FFA15A",
           "#19d3f3",
           "#FF6692",
           "#B6E880",
           "#FF97FF",
           "#FECB52"
          ],
          "font": {
           "color": "#2a3f5f"
          },
          "geo": {
           "bgcolor": "white",
           "lakecolor": "white",
           "landcolor": "#E5ECF6",
           "showlakes": true,
           "showland": true,
           "subunitcolor": "white"
          },
          "hoverlabel": {
           "align": "left"
          },
          "hovermode": "closest",
          "mapbox": {
           "style": "light"
          },
          "paper_bgcolor": "white",
          "plot_bgcolor": "#E5ECF6",
          "polar": {
           "angularaxis": {
            "gridcolor": "white",
            "linecolor": "white",
            "ticks": ""
           },
           "bgcolor": "#E5ECF6",
           "radialaxis": {
            "gridcolor": "white",
            "linecolor": "white",
            "ticks": ""
           }
          },
          "scene": {
           "xaxis": {
            "backgroundcolor": "#E5ECF6",
            "gridcolor": "white",
            "gridwidth": 2,
            "linecolor": "white",
            "showbackground": true,
            "ticks": "",
            "zerolinecolor": "white"
           },
           "yaxis": {
            "backgroundcolor": "#E5ECF6",
            "gridcolor": "white",
            "gridwidth": 2,
            "linecolor": "white",
            "showbackground": true,
            "ticks": "",
            "zerolinecolor": "white"
           },
           "zaxis": {
            "backgroundcolor": "#E5ECF6",
            "gridcolor": "white",
            "gridwidth": 2,
            "linecolor": "white",
            "showbackground": true,
            "ticks": "",
            "zerolinecolor": "white"
           }
          },
          "shapedefaults": {
           "line": {
            "color": "#2a3f5f"
           }
          },
          "ternary": {
           "aaxis": {
            "gridcolor": "white",
            "linecolor": "white",
            "ticks": ""
           },
           "baxis": {
            "gridcolor": "white",
            "linecolor": "white",
            "ticks": ""
           },
           "bgcolor": "#E5ECF6",
           "caxis": {
            "gridcolor": "white",
            "linecolor": "white",
            "ticks": ""
           }
          },
          "title": {
           "x": 0.05
          },
          "xaxis": {
           "automargin": true,
           "gridcolor": "white",
           "linecolor": "white",
           "ticks": "",
           "title": {
            "standoff": 15
           },
           "zerolinecolor": "white",
           "zerolinewidth": 2
          },
          "yaxis": {
           "automargin": true,
           "gridcolor": "white",
           "linecolor": "white",
           "ticks": "",
           "title": {
            "standoff": 15
           },
           "zerolinecolor": "white",
           "zerolinewidth": 2
          }
         }
        },
        "width": 500,
        "xaxis": {
         "autorange": false,
         "exponentformat": "e",
         "linecolor": "black",
         "linewidth": 1,
         "mirror": false,
         "range": [
          1.28,
          38.72
         ],
         "showexponent": "all",
         "showline": true,
         "side": "bottom",
         "ticks": "outside",
         "title": {
          "text": "Birth"
         },
         "type": "linear",
         "zeroline": true
        },
        "yaxis": {
         "autorange": false,
         "exponentformat": "e",
         "linecolor": "black",
         "linewidth": 1,
         "mirror": false,
         "range": [
          1.28,
          38.72
         ],
         "scaleanchor": "x",
         "scaleratio": 1,
         "showexponent": "all",
         "showline": true,
         "side": "left",
         "ticks": "outside",
         "title": {
          "text": "Death"
         },
         "type": "linear",
         "zeroline": true
        }
       }
      }
     },
     "metadata": {},
     "output_type": "display_data"
    }
   ],
   "source": [
    "\n",
    "persistence = VietorisRipsPersistence(\n",
    "    metric=\"manhattan\",\n",
    "    homology_dimensions=(1,2))\n",
    "\n",
    "diagram = persistence.fit_transform(df_codes_array[None,:,:])\n",
    "plot_diagram(diagram[0])"
   ]
  },
  {
   "cell_type": "code",
   "execution_count": 11,
   "metadata": {},
   "outputs": [
    {
     "data": {
      "application/vnd.plotly.v1+json": {
       "config": {
        "plotlyServerURL": "https://plot.ly"
       },
       "data": [
        {
         "hoverinfo": "none",
         "line": {
          "color": "black",
          "dash": "dash",
          "width": 1
         },
         "mode": "lines",
         "showlegend": false,
         "type": "scatter",
         "x": [
          -0.11,
          5.61
         ],
         "y": [
          -0.11,
          5.61
         ]
        },
        {
         "hoverinfo": "text",
         "hovertext": [
          "(0.0, 0.760490357875824)",
          "(0.0, 1.0), multiplicity: 22",
          "(0.0, 1.0), multiplicity: 22",
          "(0.0, 1.0), multiplicity: 22",
          "(0.0, 1.0), multiplicity: 22",
          "(0.0, 1.0), multiplicity: 22",
          "(0.0, 1.0), multiplicity: 22",
          "(0.0, 1.0), multiplicity: 22",
          "(0.0, 1.0), multiplicity: 22",
          "(0.0, 1.0), multiplicity: 22",
          "(0.0, 1.0), multiplicity: 22",
          "(0.0, 1.0), multiplicity: 22",
          "(0.0, 1.0), multiplicity: 22",
          "(0.0, 1.0), multiplicity: 22",
          "(0.0, 1.0), multiplicity: 22",
          "(0.0, 1.0), multiplicity: 22",
          "(0.0, 1.0), multiplicity: 22",
          "(0.0, 1.0), multiplicity: 22",
          "(0.0, 1.0), multiplicity: 22",
          "(0.0, 1.0), multiplicity: 22",
          "(0.0, 1.0), multiplicity: 22",
          "(0.0, 1.0), multiplicity: 22",
          "(0.0, 1.0), multiplicity: 22",
          "(0.0, 1.0257936716079712)",
          "(0.0, 1.0547152757644653)",
          "(0.0, 1.0562770366668701)",
          "(0.0, 1.2000000476837158)",
          "(0.0, 1.25)",
          "(0.0, 1.2666666507720947)",
          "(0.0, 1.3440593481063843)",
          "(0.0, 1.384313702583313)",
          "(0.0, 1.429042935371399)",
          "(0.0, 1.452380895614624)",
          "(0.0, 1.4645849466323853)",
          "(0.0, 1.4901961088180542)",
          "(0.0, 1.5), multiplicity: 3",
          "(0.0, 1.5), multiplicity: 3",
          "(0.0, 1.5), multiplicity: 3",
          "(0.0, 1.5320261716842651)",
          "(0.0, 1.542904257774353)",
          "(0.0, 1.6071428060531616)",
          "(0.0, 1.6666666269302368), multiplicity: 5",
          "(0.0, 1.6666666269302368), multiplicity: 5",
          "(0.0, 1.6666666269302368), multiplicity: 5",
          "(0.0, 1.6666666269302368), multiplicity: 5",
          "(0.0, 1.6666666269302368), multiplicity: 5",
          "(0.0, 1.673076868057251)",
          "(0.0, 1.6778711080551147)",
          "(0.0, 1.75), multiplicity: 2",
          "(0.0, 1.75), multiplicity: 2",
          "(0.0, 1.7777777910232544)",
          "(0.0, 1.7999999523162842), multiplicity: 3",
          "(0.0, 1.7999999523162842), multiplicity: 3",
          "(0.0, 1.7999999523162842), multiplicity: 3",
          "(0.0, 1.8333333730697632)",
          "(0.0, 1.8571428060531616)",
          "(0.0, 1.9166666269302368), multiplicity: 2",
          "(0.0, 1.9166666269302368), multiplicity: 2",
          "(0.0, 1.9696969985961914)",
          "(0.0, 1.975000023841858)",
          "(0.0, 2.0), multiplicity: 63",
          "(0.0, 2.0), multiplicity: 63",
          "(0.0, 2.0), multiplicity: 63",
          "(0.0, 2.0), multiplicity: 63",
          "(0.0, 2.0), multiplicity: 63",
          "(0.0, 2.0), multiplicity: 63",
          "(0.0, 2.0), multiplicity: 63",
          "(0.0, 2.0), multiplicity: 63",
          "(0.0, 2.0), multiplicity: 63",
          "(0.0, 2.0), multiplicity: 63",
          "(0.0, 2.0), multiplicity: 63",
          "(0.0, 2.0), multiplicity: 63",
          "(0.0, 2.0), multiplicity: 63",
          "(0.0, 2.0), multiplicity: 63",
          "(0.0, 2.0), multiplicity: 63",
          "(0.0, 2.0), multiplicity: 63",
          "(0.0, 2.0), multiplicity: 63",
          "(0.0, 2.0), multiplicity: 63",
          "(0.0, 2.0), multiplicity: 63",
          "(0.0, 2.0), multiplicity: 63",
          "(0.0, 2.0), multiplicity: 63",
          "(0.0, 2.0), multiplicity: 63",
          "(0.0, 2.0), multiplicity: 63",
          "(0.0, 2.0), multiplicity: 63",
          "(0.0, 2.0), multiplicity: 63",
          "(0.0, 2.0), multiplicity: 63",
          "(0.0, 2.0), multiplicity: 63",
          "(0.0, 2.0), multiplicity: 63",
          "(0.0, 2.0), multiplicity: 63",
          "(0.0, 2.0), multiplicity: 63",
          "(0.0, 2.0), multiplicity: 63",
          "(0.0, 2.0), multiplicity: 63",
          "(0.0, 2.0), multiplicity: 63",
          "(0.0, 2.0), multiplicity: 63",
          "(0.0, 2.0), multiplicity: 63",
          "(0.0, 2.0), multiplicity: 63",
          "(0.0, 2.0), multiplicity: 63",
          "(0.0, 2.0), multiplicity: 63",
          "(0.0, 2.0), multiplicity: 63",
          "(0.0, 2.0), multiplicity: 63",
          "(0.0, 2.0), multiplicity: 63",
          "(0.0, 2.0), multiplicity: 63",
          "(0.0, 2.0), multiplicity: 63",
          "(0.0, 2.0), multiplicity: 63",
          "(0.0, 2.0), multiplicity: 63",
          "(0.0, 2.0), multiplicity: 63",
          "(0.0, 2.0), multiplicity: 63",
          "(0.0, 2.0), multiplicity: 63",
          "(0.0, 2.0), multiplicity: 63",
          "(0.0, 2.0), multiplicity: 63",
          "(0.0, 2.0), multiplicity: 63",
          "(0.0, 2.0), multiplicity: 63",
          "(0.0, 2.0), multiplicity: 63",
          "(0.0, 2.0), multiplicity: 63",
          "(0.0, 2.0), multiplicity: 63",
          "(0.0, 2.0), multiplicity: 63",
          "(0.0, 2.0), multiplicity: 63",
          "(0.0, 2.0), multiplicity: 63",
          "(0.0, 2.0), multiplicity: 63",
          "(0.0, 2.0), multiplicity: 63",
          "(0.0, 2.0), multiplicity: 63",
          "(0.0, 2.0), multiplicity: 63",
          "(0.0, 2.0), multiplicity: 63",
          "(0.0, 2.06862735748291)",
          "(0.0, 2.0833332538604736), multiplicity: 3",
          "(0.0, 2.0833332538604736), multiplicity: 3",
          "(0.0, 2.0833332538604736), multiplicity: 3",
          "(0.0, 2.142857074737549)",
          "(0.0, 2.1666667461395264), multiplicity: 3",
          "(0.0, 2.1666667461395264), multiplicity: 3",
          "(0.0, 2.1666667461395264), multiplicity: 3",
          "(0.0, 2.200000047683716), multiplicity: 5",
          "(0.0, 2.200000047683716), multiplicity: 5",
          "(0.0, 2.200000047683716), multiplicity: 5",
          "(0.0, 2.200000047683716), multiplicity: 5",
          "(0.0, 2.200000047683716), multiplicity: 5",
          "(0.0, 2.25), multiplicity: 3",
          "(0.0, 2.25), multiplicity: 3",
          "(0.0, 2.25), multiplicity: 3",
          "(0.0, 2.281797409057617)",
          "(0.0, 2.3333332538604736), multiplicity: 4",
          "(0.0, 2.3333332538604736), multiplicity: 4",
          "(0.0, 2.3333332538604736), multiplicity: 4",
          "(0.0, 2.3333332538604736), multiplicity: 4",
          "(0.0, 2.4000000953674316), multiplicity: 3",
          "(0.0, 2.4000000953674316), multiplicity: 3",
          "(0.0, 2.4000000953674316), multiplicity: 3",
          "(0.0, 2.433333396911621)",
          "(0.0, 2.5), multiplicity: 9",
          "(0.0, 2.5), multiplicity: 9",
          "(0.0, 2.5), multiplicity: 9",
          "(0.0, 2.5), multiplicity: 9",
          "(0.0, 2.5), multiplicity: 9",
          "(0.0, 2.5), multiplicity: 9",
          "(0.0, 2.5), multiplicity: 9",
          "(0.0, 2.5), multiplicity: 9",
          "(0.0, 2.5), multiplicity: 9",
          "(0.0, 2.5333333015441895)",
          "(0.0, 2.6666667461395264)",
          "(0.0, 3.0), multiplicity: 6",
          "(0.0, 3.0), multiplicity: 6",
          "(0.0, 3.0), multiplicity: 6",
          "(0.0, 3.0), multiplicity: 6",
          "(0.0, 3.0), multiplicity: 6",
          "(0.0, 3.0), multiplicity: 6",
          "(0.0, 3.5), multiplicity: 2",
          "(0.0, 3.5), multiplicity: 2",
          "(0.0, 4.0), multiplicity: 3",
          "(0.0, 4.0), multiplicity: 3",
          "(0.0, 4.0), multiplicity: 3"
         ],
         "mode": "markers",
         "name": "H0",
         "type": "scatter",
         "x": [
          0,
          0,
          0,
          0,
          0,
          0,
          0,
          0,
          0,
          0,
          0,
          0,
          0,
          0,
          0,
          0,
          0,
          0,
          0,
          0,
          0,
          0,
          0,
          0,
          0,
          0,
          0,
          0,
          0,
          0,
          0,
          0,
          0,
          0,
          0,
          0,
          0,
          0,
          0,
          0,
          0,
          0,
          0,
          0,
          0,
          0,
          0,
          0,
          0,
          0,
          0,
          0,
          0,
          0,
          0,
          0,
          0,
          0,
          0,
          0,
          0,
          0,
          0,
          0,
          0,
          0,
          0,
          0,
          0,
          0,
          0,
          0,
          0,
          0,
          0,
          0,
          0,
          0,
          0,
          0,
          0,
          0,
          0,
          0,
          0,
          0,
          0,
          0,
          0,
          0,
          0,
          0,
          0,
          0,
          0,
          0,
          0,
          0,
          0,
          0,
          0,
          0,
          0,
          0,
          0,
          0,
          0,
          0,
          0,
          0,
          0,
          0,
          0,
          0,
          0,
          0,
          0,
          0,
          0,
          0,
          0,
          0,
          0,
          0,
          0,
          0,
          0,
          0,
          0,
          0,
          0,
          0,
          0,
          0,
          0,
          0,
          0,
          0,
          0,
          0,
          0,
          0,
          0,
          0,
          0,
          0,
          0,
          0,
          0,
          0,
          0,
          0,
          0,
          0,
          0,
          0,
          0,
          0,
          0,
          0,
          0,
          0,
          0,
          0,
          0,
          0,
          0,
          0,
          0,
          0
         ],
         "y": [
          0.760490357875824,
          1,
          1,
          1,
          1,
          1,
          1,
          1,
          1,
          1,
          1,
          1,
          1,
          1,
          1,
          1,
          1,
          1,
          1,
          1,
          1,
          1,
          1,
          1.0257936716079712,
          1.0547152757644653,
          1.0562770366668701,
          1.2000000476837158,
          1.25,
          1.2666666507720947,
          1.3440593481063843,
          1.384313702583313,
          1.429042935371399,
          1.452380895614624,
          1.4645849466323853,
          1.4901961088180542,
          1.5,
          1.5,
          1.5,
          1.5320261716842651,
          1.542904257774353,
          1.6071428060531616,
          1.6666666269302368,
          1.6666666269302368,
          1.6666666269302368,
          1.6666666269302368,
          1.6666666269302368,
          1.673076868057251,
          1.6778711080551147,
          1.75,
          1.75,
          1.7777777910232544,
          1.7999999523162842,
          1.7999999523162842,
          1.7999999523162842,
          1.8333333730697632,
          1.8571428060531616,
          1.9166666269302368,
          1.9166666269302368,
          1.9696969985961914,
          1.975000023841858,
          2,
          2,
          2,
          2,
          2,
          2,
          2,
          2,
          2,
          2,
          2,
          2,
          2,
          2,
          2,
          2,
          2,
          2,
          2,
          2,
          2,
          2,
          2,
          2,
          2,
          2,
          2,
          2,
          2,
          2,
          2,
          2,
          2,
          2,
          2,
          2,
          2,
          2,
          2,
          2,
          2,
          2,
          2,
          2,
          2,
          2,
          2,
          2,
          2,
          2,
          2,
          2,
          2,
          2,
          2,
          2,
          2,
          2,
          2,
          2,
          2,
          2,
          2,
          2.06862735748291,
          2.0833332538604736,
          2.0833332538604736,
          2.0833332538604736,
          2.142857074737549,
          2.1666667461395264,
          2.1666667461395264,
          2.1666667461395264,
          2.200000047683716,
          2.200000047683716,
          2.200000047683716,
          2.200000047683716,
          2.200000047683716,
          2.25,
          2.25,
          2.25,
          2.281797409057617,
          2.3333332538604736,
          2.3333332538604736,
          2.3333332538604736,
          2.3333332538604736,
          2.4000000953674316,
          2.4000000953674316,
          2.4000000953674316,
          2.433333396911621,
          2.5,
          2.5,
          2.5,
          2.5,
          2.5,
          2.5,
          2.5,
          2.5,
          2.5,
          2.5333333015441895,
          2.6666667461395264,
          3,
          3,
          3,
          3,
          3,
          3,
          3.5,
          3.5,
          4,
          4,
          4
         ]
        },
        {
         "hoverinfo": "text",
         "hovertext": [
          "(5.0, 5.5)",
          "(4.0, 4.199999809265137)",
          "(3.5, 3.5833332538604736)",
          "(3.5, 3.700000047683716)",
          "(3.5, 4.0)",
          "(3.5, 3.6666667461395264)",
          "(3.3333332538604736, 3.5)",
          "(3.25, 3.3333332538604736)",
          "(3.1282050609588623, 3.326923131942749)",
          "(3.066666603088379, 3.200000047683716)",
          "(3.0, 3.3333332538604736)",
          "(3.0, 3.6666667461395264)",
          "(3.0, 3.133333444595337)",
          "(3.0, 3.142857074737549)",
          "(3.0, 3.2666666507720947)",
          "(3.0, 3.961538553237915)",
          "(3.0, 3.5), multiplicity: 3",
          "(3.0, 3.5), multiplicity: 3",
          "(3.0, 3.200000047683716)",
          "(3.0, 4.0), multiplicity: 3",
          "(3.0, 4.0), multiplicity: 3",
          "(3.0, 3.5), multiplicity: 3",
          "(3.0, 4.0), multiplicity: 3",
          "(2.950000047683716, 3.0357143878936768)",
          "(2.9166667461395264, 3.75)",
          "(2.9166667461395264, 2.950000047683716)",
          "(2.866666555404663, 3.066666603088379)",
          "(2.8499999046325684, 2.9000000953674316)",
          "(2.8333332538604736, 2.933333396911621)",
          "(2.8333332538604736, 3.0)",
          "(2.8333332538604736, 3.25)",
          "(2.75, 3.0), multiplicity: 2",
          "(2.75, 2.809523820877075)",
          "(2.75, 3.0), multiplicity: 2",
          "(2.75, 2.857142925262451)",
          "(2.700000047683716, 3.0)",
          "(2.6666667461395264, 3.1794872283935547)",
          "(2.6666667461395264, 3.1666667461395264)",
          "(2.6666667461395264, 2.75), multiplicity: 2",
          "(2.6666667461395264, 2.75), multiplicity: 2",
          "(2.6666667461395264, 3.0)",
          "(2.6500000953674316, 2.723076820373535)",
          "(2.6285715103149414, 3.1666667461395264)",
          "(2.6111111640930176, 2.6666667461395264)",
          "(2.5833332538604736, 3.0)",
          "(2.555555582046509, 2.6111111640930176)",
          "(2.5151515007019043, 2.941176414489746)",
          "(2.5, 3.1666667461395264)",
          "(2.5, 2.75), multiplicity: 2",
          "(2.5, 2.511904716491699)",
          "(2.5, 3.0), multiplicity: 6",
          "(2.5, 3.8333332538604736)",
          "(2.5, 3.0), multiplicity: 6",
          "(2.5, 3.0), multiplicity: 6",
          "(2.5, 3.0), multiplicity: 6",
          "(2.5, 2.75), multiplicity: 2",
          "(2.5, 2.942857027053833)",
          "(2.5, 3.0), multiplicity: 6",
          "(2.5, 3.0), multiplicity: 6",
          "(2.4666666984558105, 2.5)",
          "(2.450000047683716, 2.75)",
          "(2.3538460731506348, 2.5)",
          "(2.3333332538604736, 3.0), multiplicity: 2",
          "(2.3333332538604736, 2.5833332538604736)",
          "(2.3333332538604736, 2.5)",
          "(2.3333332538604736, 3.0), multiplicity: 2",
          "(2.3333332538604736, 2.566666603088379)",
          "(2.2936508655548096, 2.3222222328186035)",
          "(2.276923179626465, 3.200000047683716)",
          "(2.25, 2.4166667461395264)",
          "(2.25, 2.777777671813965)",
          "(2.25, 2.75)",
          "(2.2142856121063232, 2.392857074737549)",
          "(2.200000047683716, 2.2333333492279053)",
          "(2.1388888359069824, 2.3333332538604736)",
          "(2.0833332538604736, 2.3499999046325684)",
          "(2.0, 3.0), multiplicity: 7",
          "(2.0, 3.0), multiplicity: 7",
          "(2.0, 3.0), multiplicity: 7",
          "(2.0, 3.0), multiplicity: 7",
          "(2.0, 3.0), multiplicity: 7",
          "(2.0, 3.0), multiplicity: 7",
          "(2.0, 3.0), multiplicity: 7"
         ],
         "mode": "markers",
         "name": "H1",
         "type": "scatter",
         "x": [
          5,
          4,
          3.5,
          3.5,
          3.5,
          3.5,
          3.3333332538604736,
          3.25,
          3.1282050609588623,
          3.066666603088379,
          3,
          3,
          3,
          3,
          3,
          3,
          3,
          3,
          3,
          3,
          3,
          3,
          3,
          2.950000047683716,
          2.9166667461395264,
          2.9166667461395264,
          2.866666555404663,
          2.8499999046325684,
          2.8333332538604736,
          2.8333332538604736,
          2.8333332538604736,
          2.75,
          2.75,
          2.75,
          2.75,
          2.700000047683716,
          2.6666667461395264,
          2.6666667461395264,
          2.6666667461395264,
          2.6666667461395264,
          2.6666667461395264,
          2.6500000953674316,
          2.6285715103149414,
          2.6111111640930176,
          2.5833332538604736,
          2.555555582046509,
          2.5151515007019043,
          2.5,
          2.5,
          2.5,
          2.5,
          2.5,
          2.5,
          2.5,
          2.5,
          2.5,
          2.5,
          2.5,
          2.5,
          2.4666666984558105,
          2.450000047683716,
          2.3538460731506348,
          2.3333332538604736,
          2.3333332538604736,
          2.3333332538604736,
          2.3333332538604736,
          2.3333332538604736,
          2.2936508655548096,
          2.276923179626465,
          2.25,
          2.25,
          2.25,
          2.2142856121063232,
          2.200000047683716,
          2.1388888359069824,
          2.0833332538604736,
          2,
          2,
          2,
          2,
          2,
          2,
          2
         ],
         "y": [
          5.5,
          4.199999809265137,
          3.5833332538604736,
          3.700000047683716,
          4,
          3.6666667461395264,
          3.5,
          3.3333332538604736,
          3.326923131942749,
          3.200000047683716,
          3.3333332538604736,
          3.6666667461395264,
          3.133333444595337,
          3.142857074737549,
          3.2666666507720947,
          3.961538553237915,
          3.5,
          3.5,
          3.200000047683716,
          4,
          4,
          3.5,
          4,
          3.0357143878936768,
          3.75,
          2.950000047683716,
          3.066666603088379,
          2.9000000953674316,
          2.933333396911621,
          3,
          3.25,
          3,
          2.809523820877075,
          3,
          2.857142925262451,
          3,
          3.1794872283935547,
          3.1666667461395264,
          2.75,
          2.75,
          3,
          2.723076820373535,
          3.1666667461395264,
          2.6666667461395264,
          3,
          2.6111111640930176,
          2.941176414489746,
          3.1666667461395264,
          2.75,
          2.511904716491699,
          3,
          3.8333332538604736,
          3,
          3,
          3,
          2.75,
          2.942857027053833,
          3,
          3,
          2.5,
          2.75,
          2.5,
          3,
          2.5833332538604736,
          2.5,
          3,
          2.566666603088379,
          2.3222222328186035,
          3.200000047683716,
          2.4166667461395264,
          2.777777671813965,
          2.75,
          2.392857074737549,
          2.2333333492279053,
          2.3333332538604736,
          2.3499999046325684,
          3,
          3,
          3,
          3,
          3,
          3,
          3
         ]
        },
        {
         "hoverinfo": "text",
         "hovertext": [
          "(4.0, 4.166666507720947)",
          "(4.0, 4.5)",
          "(4.0, 4.333333492279053)",
          "(3.75, 3.799999952316284)",
          "(3.6666667461395264, 3.8333332538604736)",
          "(3.6666667461395264, 3.700000047683716)",
          "(3.653846263885498, 3.7435896396636963)",
          "(3.4000000953674316, 3.6666667461395264)",
          "(3.3692307472229004, 3.549999952316284)",
          "(3.3333332538604736, 3.6666667461395264)",
          "(3.3333332538604736, 3.4666666984558105)",
          "(3.3333332538604736, 3.4166667461395264)",
          "(3.3333332538604736, 3.5)",
          "(3.200000047683716, 3.25)",
          "(3.1666667461395264, 3.25)",
          "(3.1666667461395264, 3.3333332538604736)",
          "(3.1666667461395264, 3.299999952316284)",
          "(3.0, 3.0714285373687744)",
          "(3.0, 3.3333332538604736)",
          "(3.0, 3.25), multiplicity: 3",
          "(3.0, 3.2666666507720947)",
          "(3.0, 3.642857074737549)",
          "(3.0, 3.75)",
          "(3.0, 3.25), multiplicity: 3",
          "(3.0, 3.25), multiplicity: 3",
          "(3.0, 3.6666667461395264)",
          "(2.8863637447357178, 2.914705991744995)",
          "(2.8333332538604736, 3.0)",
          "(2.75, 3.0)",
          "(2.690476179122925, 2.7738094329833984)",
          "(2.6666667461395264, 2.917647123336792)"
         ],
         "mode": "markers",
         "name": "H2",
         "type": "scatter",
         "x": [
          4,
          4,
          4,
          3.75,
          3.6666667461395264,
          3.6666667461395264,
          3.653846263885498,
          3.4000000953674316,
          3.3692307472229004,
          3.3333332538604736,
          3.3333332538604736,
          3.3333332538604736,
          3.3333332538604736,
          3.200000047683716,
          3.1666667461395264,
          3.1666667461395264,
          3.1666667461395264,
          3,
          3,
          3,
          3,
          3,
          3,
          3,
          3,
          3,
          2.8863637447357178,
          2.8333332538604736,
          2.75,
          2.690476179122925,
          2.6666667461395264
         ],
         "y": [
          4.166666507720947,
          4.5,
          4.333333492279053,
          3.799999952316284,
          3.8333332538604736,
          3.700000047683716,
          3.7435896396636963,
          3.6666667461395264,
          3.549999952316284,
          3.6666667461395264,
          3.4666666984558105,
          3.4166667461395264,
          3.5,
          3.25,
          3.25,
          3.3333332538604736,
          3.299999952316284,
          3.0714285373687744,
          3.3333332538604736,
          3.25,
          3.2666666507720947,
          3.642857074737549,
          3.75,
          3.25,
          3.25,
          3.6666667461395264,
          2.914705991744995,
          3,
          3,
          2.7738094329833984,
          2.917647123336792
         ]
        }
       ],
       "layout": {
        "height": 500,
        "plot_bgcolor": "white",
        "template": {
         "data": {
          "bar": [
           {
            "error_x": {
             "color": "#2a3f5f"
            },
            "error_y": {
             "color": "#2a3f5f"
            },
            "marker": {
             "line": {
              "color": "#E5ECF6",
              "width": 0.5
             },
             "pattern": {
              "fillmode": "overlay",
              "size": 10,
              "solidity": 0.2
             }
            },
            "type": "bar"
           }
          ],
          "barpolar": [
           {
            "marker": {
             "line": {
              "color": "#E5ECF6",
              "width": 0.5
             },
             "pattern": {
              "fillmode": "overlay",
              "size": 10,
              "solidity": 0.2
             }
            },
            "type": "barpolar"
           }
          ],
          "carpet": [
           {
            "aaxis": {
             "endlinecolor": "#2a3f5f",
             "gridcolor": "white",
             "linecolor": "white",
             "minorgridcolor": "white",
             "startlinecolor": "#2a3f5f"
            },
            "baxis": {
             "endlinecolor": "#2a3f5f",
             "gridcolor": "white",
             "linecolor": "white",
             "minorgridcolor": "white",
             "startlinecolor": "#2a3f5f"
            },
            "type": "carpet"
           }
          ],
          "choropleth": [
           {
            "colorbar": {
             "outlinewidth": 0,
             "ticks": ""
            },
            "type": "choropleth"
           }
          ],
          "contour": [
           {
            "colorbar": {
             "outlinewidth": 0,
             "ticks": ""
            },
            "colorscale": [
             [
              0,
              "#0d0887"
             ],
             [
              0.1111111111111111,
              "#46039f"
             ],
             [
              0.2222222222222222,
              "#7201a8"
             ],
             [
              0.3333333333333333,
              "#9c179e"
             ],
             [
              0.4444444444444444,
              "#bd3786"
             ],
             [
              0.5555555555555556,
              "#d8576b"
             ],
             [
              0.6666666666666666,
              "#ed7953"
             ],
             [
              0.7777777777777778,
              "#fb9f3a"
             ],
             [
              0.8888888888888888,
              "#fdca26"
             ],
             [
              1,
              "#f0f921"
             ]
            ],
            "type": "contour"
           }
          ],
          "contourcarpet": [
           {
            "colorbar": {
             "outlinewidth": 0,
             "ticks": ""
            },
            "type": "contourcarpet"
           }
          ],
          "heatmap": [
           {
            "colorbar": {
             "outlinewidth": 0,
             "ticks": ""
            },
            "colorscale": [
             [
              0,
              "#0d0887"
             ],
             [
              0.1111111111111111,
              "#46039f"
             ],
             [
              0.2222222222222222,
              "#7201a8"
             ],
             [
              0.3333333333333333,
              "#9c179e"
             ],
             [
              0.4444444444444444,
              "#bd3786"
             ],
             [
              0.5555555555555556,
              "#d8576b"
             ],
             [
              0.6666666666666666,
              "#ed7953"
             ],
             [
              0.7777777777777778,
              "#fb9f3a"
             ],
             [
              0.8888888888888888,
              "#fdca26"
             ],
             [
              1,
              "#f0f921"
             ]
            ],
            "type": "heatmap"
           }
          ],
          "heatmapgl": [
           {
            "colorbar": {
             "outlinewidth": 0,
             "ticks": ""
            },
            "colorscale": [
             [
              0,
              "#0d0887"
             ],
             [
              0.1111111111111111,
              "#46039f"
             ],
             [
              0.2222222222222222,
              "#7201a8"
             ],
             [
              0.3333333333333333,
              "#9c179e"
             ],
             [
              0.4444444444444444,
              "#bd3786"
             ],
             [
              0.5555555555555556,
              "#d8576b"
             ],
             [
              0.6666666666666666,
              "#ed7953"
             ],
             [
              0.7777777777777778,
              "#fb9f3a"
             ],
             [
              0.8888888888888888,
              "#fdca26"
             ],
             [
              1,
              "#f0f921"
             ]
            ],
            "type": "heatmapgl"
           }
          ],
          "histogram": [
           {
            "marker": {
             "pattern": {
              "fillmode": "overlay",
              "size": 10,
              "solidity": 0.2
             }
            },
            "type": "histogram"
           }
          ],
          "histogram2d": [
           {
            "colorbar": {
             "outlinewidth": 0,
             "ticks": ""
            },
            "colorscale": [
             [
              0,
              "#0d0887"
             ],
             [
              0.1111111111111111,
              "#46039f"
             ],
             [
              0.2222222222222222,
              "#7201a8"
             ],
             [
              0.3333333333333333,
              "#9c179e"
             ],
             [
              0.4444444444444444,
              "#bd3786"
             ],
             [
              0.5555555555555556,
              "#d8576b"
             ],
             [
              0.6666666666666666,
              "#ed7953"
             ],
             [
              0.7777777777777778,
              "#fb9f3a"
             ],
             [
              0.8888888888888888,
              "#fdca26"
             ],
             [
              1,
              "#f0f921"
             ]
            ],
            "type": "histogram2d"
           }
          ],
          "histogram2dcontour": [
           {
            "colorbar": {
             "outlinewidth": 0,
             "ticks": ""
            },
            "colorscale": [
             [
              0,
              "#0d0887"
             ],
             [
              0.1111111111111111,
              "#46039f"
             ],
             [
              0.2222222222222222,
              "#7201a8"
             ],
             [
              0.3333333333333333,
              "#9c179e"
             ],
             [
              0.4444444444444444,
              "#bd3786"
             ],
             [
              0.5555555555555556,
              "#d8576b"
             ],
             [
              0.6666666666666666,
              "#ed7953"
             ],
             [
              0.7777777777777778,
              "#fb9f3a"
             ],
             [
              0.8888888888888888,
              "#fdca26"
             ],
             [
              1,
              "#f0f921"
             ]
            ],
            "type": "histogram2dcontour"
           }
          ],
          "mesh3d": [
           {
            "colorbar": {
             "outlinewidth": 0,
             "ticks": ""
            },
            "type": "mesh3d"
           }
          ],
          "parcoords": [
           {
            "line": {
             "colorbar": {
              "outlinewidth": 0,
              "ticks": ""
             }
            },
            "type": "parcoords"
           }
          ],
          "pie": [
           {
            "automargin": true,
            "type": "pie"
           }
          ],
          "scatter": [
           {
            "fillpattern": {
             "fillmode": "overlay",
             "size": 10,
             "solidity": 0.2
            },
            "type": "scatter"
           }
          ],
          "scatter3d": [
           {
            "line": {
             "colorbar": {
              "outlinewidth": 0,
              "ticks": ""
             }
            },
            "marker": {
             "colorbar": {
              "outlinewidth": 0,
              "ticks": ""
             }
            },
            "type": "scatter3d"
           }
          ],
          "scattercarpet": [
           {
            "marker": {
             "colorbar": {
              "outlinewidth": 0,
              "ticks": ""
             }
            },
            "type": "scattercarpet"
           }
          ],
          "scattergeo": [
           {
            "marker": {
             "colorbar": {
              "outlinewidth": 0,
              "ticks": ""
             }
            },
            "type": "scattergeo"
           }
          ],
          "scattergl": [
           {
            "marker": {
             "colorbar": {
              "outlinewidth": 0,
              "ticks": ""
             }
            },
            "type": "scattergl"
           }
          ],
          "scattermapbox": [
           {
            "marker": {
             "colorbar": {
              "outlinewidth": 0,
              "ticks": ""
             }
            },
            "type": "scattermapbox"
           }
          ],
          "scatterpolar": [
           {
            "marker": {
             "colorbar": {
              "outlinewidth": 0,
              "ticks": ""
             }
            },
            "type": "scatterpolar"
           }
          ],
          "scatterpolargl": [
           {
            "marker": {
             "colorbar": {
              "outlinewidth": 0,
              "ticks": ""
             }
            },
            "type": "scatterpolargl"
           }
          ],
          "scatterternary": [
           {
            "marker": {
             "colorbar": {
              "outlinewidth": 0,
              "ticks": ""
             }
            },
            "type": "scatterternary"
           }
          ],
          "surface": [
           {
            "colorbar": {
             "outlinewidth": 0,
             "ticks": ""
            },
            "colorscale": [
             [
              0,
              "#0d0887"
             ],
             [
              0.1111111111111111,
              "#46039f"
             ],
             [
              0.2222222222222222,
              "#7201a8"
             ],
             [
              0.3333333333333333,
              "#9c179e"
             ],
             [
              0.4444444444444444,
              "#bd3786"
             ],
             [
              0.5555555555555556,
              "#d8576b"
             ],
             [
              0.6666666666666666,
              "#ed7953"
             ],
             [
              0.7777777777777778,
              "#fb9f3a"
             ],
             [
              0.8888888888888888,
              "#fdca26"
             ],
             [
              1,
              "#f0f921"
             ]
            ],
            "type": "surface"
           }
          ],
          "table": [
           {
            "cells": {
             "fill": {
              "color": "#EBF0F8"
             },
             "line": {
              "color": "white"
             }
            },
            "header": {
             "fill": {
              "color": "#C8D4E3"
             },
             "line": {
              "color": "white"
             }
            },
            "type": "table"
           }
          ]
         },
         "layout": {
          "annotationdefaults": {
           "arrowcolor": "#2a3f5f",
           "arrowhead": 0,
           "arrowwidth": 1
          },
          "autotypenumbers": "strict",
          "coloraxis": {
           "colorbar": {
            "outlinewidth": 0,
            "ticks": ""
           }
          },
          "colorscale": {
           "diverging": [
            [
             0,
             "#8e0152"
            ],
            [
             0.1,
             "#c51b7d"
            ],
            [
             0.2,
             "#de77ae"
            ],
            [
             0.3,
             "#f1b6da"
            ],
            [
             0.4,
             "#fde0ef"
            ],
            [
             0.5,
             "#f7f7f7"
            ],
            [
             0.6,
             "#e6f5d0"
            ],
            [
             0.7,
             "#b8e186"
            ],
            [
             0.8,
             "#7fbc41"
            ],
            [
             0.9,
             "#4d9221"
            ],
            [
             1,
             "#276419"
            ]
           ],
           "sequential": [
            [
             0,
             "#0d0887"
            ],
            [
             0.1111111111111111,
             "#46039f"
            ],
            [
             0.2222222222222222,
             "#7201a8"
            ],
            [
             0.3333333333333333,
             "#9c179e"
            ],
            [
             0.4444444444444444,
             "#bd3786"
            ],
            [
             0.5555555555555556,
             "#d8576b"
            ],
            [
             0.6666666666666666,
             "#ed7953"
            ],
            [
             0.7777777777777778,
             "#fb9f3a"
            ],
            [
             0.8888888888888888,
             "#fdca26"
            ],
            [
             1,
             "#f0f921"
            ]
           ],
           "sequentialminus": [
            [
             0,
             "#0d0887"
            ],
            [
             0.1111111111111111,
             "#46039f"
            ],
            [
             0.2222222222222222,
             "#7201a8"
            ],
            [
             0.3333333333333333,
             "#9c179e"
            ],
            [
             0.4444444444444444,
             "#bd3786"
            ],
            [
             0.5555555555555556,
             "#d8576b"
            ],
            [
             0.6666666666666666,
             "#ed7953"
            ],
            [
             0.7777777777777778,
             "#fb9f3a"
            ],
            [
             0.8888888888888888,
             "#fdca26"
            ],
            [
             1,
             "#f0f921"
            ]
           ]
          },
          "colorway": [
           "#636efa",
           "#EF553B",
           "#00cc96",
           "#ab63fa",
           "#FFA15A",
           "#19d3f3",
           "#FF6692",
           "#B6E880",
           "#FF97FF",
           "#FECB52"
          ],
          "font": {
           "color": "#2a3f5f"
          },
          "geo": {
           "bgcolor": "white",
           "lakecolor": "white",
           "landcolor": "#E5ECF6",
           "showlakes": true,
           "showland": true,
           "subunitcolor": "white"
          },
          "hoverlabel": {
           "align": "left"
          },
          "hovermode": "closest",
          "mapbox": {
           "style": "light"
          },
          "paper_bgcolor": "white",
          "plot_bgcolor": "#E5ECF6",
          "polar": {
           "angularaxis": {
            "gridcolor": "white",
            "linecolor": "white",
            "ticks": ""
           },
           "bgcolor": "#E5ECF6",
           "radialaxis": {
            "gridcolor": "white",
            "linecolor": "white",
            "ticks": ""
           }
          },
          "scene": {
           "xaxis": {
            "backgroundcolor": "#E5ECF6",
            "gridcolor": "white",
            "gridwidth": 2,
            "linecolor": "white",
            "showbackground": true,
            "ticks": "",
            "zerolinecolor": "white"
           },
           "yaxis": {
            "backgroundcolor": "#E5ECF6",
            "gridcolor": "white",
            "gridwidth": 2,
            "linecolor": "white",
            "showbackground": true,
            "ticks": "",
            "zerolinecolor": "white"
           },
           "zaxis": {
            "backgroundcolor": "#E5ECF6",
            "gridcolor": "white",
            "gridwidth": 2,
            "linecolor": "white",
            "showbackground": true,
            "ticks": "",
            "zerolinecolor": "white"
           }
          },
          "shapedefaults": {
           "line": {
            "color": "#2a3f5f"
           }
          },
          "ternary": {
           "aaxis": {
            "gridcolor": "white",
            "linecolor": "white",
            "ticks": ""
           },
           "baxis": {
            "gridcolor": "white",
            "linecolor": "white",
            "ticks": ""
           },
           "bgcolor": "#E5ECF6",
           "caxis": {
            "gridcolor": "white",
            "linecolor": "white",
            "ticks": ""
           }
          },
          "title": {
           "x": 0.05
          },
          "xaxis": {
           "automargin": true,
           "gridcolor": "white",
           "linecolor": "white",
           "ticks": "",
           "title": {
            "standoff": 15
           },
           "zerolinecolor": "white",
           "zerolinewidth": 2
          },
          "yaxis": {
           "automargin": true,
           "gridcolor": "white",
           "linecolor": "white",
           "ticks": "",
           "title": {
            "standoff": 15
           },
           "zerolinecolor": "white",
           "zerolinewidth": 2
          }
         }
        },
        "width": 500,
        "xaxis": {
         "autorange": false,
         "exponentformat": "e",
         "linecolor": "black",
         "linewidth": 1,
         "mirror": false,
         "range": [
          -0.11,
          5.61
         ],
         "showexponent": "all",
         "showline": true,
         "side": "bottom",
         "ticks": "outside",
         "title": {
          "text": "Birth"
         },
         "type": "linear",
         "zeroline": true
        },
        "yaxis": {
         "autorange": false,
         "exponentformat": "e",
         "linecolor": "black",
         "linewidth": 1,
         "mirror": false,
         "range": [
          -0.11,
          5.61
         ],
         "scaleanchor": "x",
         "scaleratio": 1,
         "showexponent": "all",
         "showline": true,
         "side": "left",
         "ticks": "outside",
         "title": {
          "text": "Death"
         },
         "type": "linear",
         "zeroline": true
        }
       }
      }
     },
     "metadata": {},
     "output_type": "display_data"
    }
   ],
   "source": [
    "from gtda.homology import VietorisRipsPersistence\n",
    "from gtda.plotting import plot_diagram\n",
    "\n",
    "persistence = VietorisRipsPersistence(\n",
    "    metric=\"manhattan\",\n",
    "    homology_dimensions=(0,1,2))\n",
    "\n",
    "diagram = persistence.fit_transform(df_codes_array_norm_tweet[None,:,:])\n",
    "plot_diagram(diagram[0])"
   ]
  },
  {
   "cell_type": "markdown",
   "metadata": {},
   "source": [
    "## Mapper"
   ]
  },
  {
   "cell_type": "code",
   "execution_count": 10,
   "metadata": {},
   "outputs": [],
   "source": [
    "#l1 test\n",
    "# make a transformer for computing the l1 norm\n",
    "\n",
    "from sklearn import datasets\n",
    "data, _ = datasets.make_circles(n_samples=5000, noise=0.05, factor=0.3, random_state=42)\n",
    "\n",
    "def l1_norm(X):\n",
    "    #take the l1 norm of each row\n",
    "    return np.linalg.norm(X, ord=1, axis=1).reshape(-1, 1)\n",
    "\n",
    "def linf_norm(X):\n",
    "    #take the l1 norm of each row\n",
    "    return np.linalg.norm(X, ord=np.inf, axis=1).reshape(-1, 1)\n",
    "\n",
    "from sklearn.preprocessing import FunctionTransformer\n",
    "l1_norm_trans = FunctionTransformer(l1_norm)\n",
    "\n",
    "linf_norm_trans = FunctionTransformer(linf_norm)\n",
    "\n"
   ]
  },
  {
   "cell_type": "code",
   "execution_count": 81,
   "metadata": {},
   "outputs": [
    {
     "data": {
      "application/vnd.plotly.v1+json": {
       "config": {
        "plotlyServerURL": "https://plot.ly",
        "scrollZoom": true
       },
       "data": [
        {
         "hoverinfo": "none",
         "line": {
          "color": "#888",
          "width": 1
         },
         "mode": "lines",
         "name": "edge_trace",
         "type": "scatter",
         "uid": "08f2ff37-d250-4812-b0c6-d08bef7d6111",
         "x": [
          0.03212823860788389,
          0.8123354756967378,
          null,
          0.03212823860788389,
          -0.16945954534155075,
          null,
          -0.8310965696652141,
          -1.6095224705902942,
          null,
          -0.8310965696652141,
          -0.16945954534155075,
          null,
          1.1179379251156407,
          0.8123354756967378,
          null
         ],
         "y": [
          2.9290581381236533,
          2.750545054900453,
          null,
          2.9290581381236533,
          3.7002843611138028,
          null,
          4.099159708521249,
          4.067637266581172,
          null,
          4.099159708521249,
          3.7002843611138028,
          null,
          2.0282434816917467,
          2.750545054900453,
          null
         ]
        },
        {
         "hoverinfo": "text",
         "hovertext": [
          "Node ID: 0<br>Pullback set label: 2<br>Partial cluster label: -1<br>Node size: 9<br>Summary statistic: 40.3",
          "Node ID: 1<br>Pullback set label: 10<br>Partial cluster label: -1<br>Node size: 1<br>Summary statistic: 1.0",
          "Node ID: 2<br>Pullback set label: 9<br>Partial cluster label: -1<br>Node size: 1<br>Summary statistic: 2.0",
          "Node ID: 3<br>Pullback set label: 4<br>Partial cluster label: -1<br>Node size: 3<br>Summary statistic: 13.7",
          "Node ID: 4<br>Pullback set label: 5<br>Partial cluster label: -1<br>Node size: 2<br>Summary statistic: 41.0",
          "Node ID: 5<br>Pullback set label: 6<br>Partial cluster label: -1<br>Node size: 1<br>Summary statistic: 5.0",
          "Node ID: 6<br>Pullback set label: 0<br>Partial cluster label: -1<br>Node size: 185<br>Summary statistic: 144.0",
          "Node ID: 7<br>Pullback set label: 1<br>Partial cluster label: -1<br>Node size: 37<br>Summary statistic: 89.9",
          "Node ID: 8<br>Pullback set label: 3<br>Partial cluster label: -1<br>Node size: 6<br>Summary statistic: 35.2",
          "Node ID: 9<br>Pullback set label: 7<br>Partial cluster label: -1<br>Node size: 1<br>Summary statistic: 14.0",
          "Node ID: 10<br>Pullback set label: 0<br>Partial cluster label: 0<br>Node size: 5<br>Summary statistic: 174.0",
          "Node ID: 11<br>Pullback set label: 8<br>Partial cluster label: -1<br>Node size: 1<br>Summary statistic: 84.0",
          "Node ID: 12<br>Pullback set label: 0<br>Partial cluster label: 1<br>Node size: 45<br>Summary statistic: 219.0",
          "Node ID: 13<br>Pullback set label: 0<br>Partial cluster label: 2<br>Node size: 6<br>Summary statistic: 206.0",
          "Node ID: 14<br>Pullback set label: 0<br>Partial cluster label: 3<br>Node size: 5<br>Summary statistic: 166.0",
          "Node ID: 15<br>Pullback set label: 0<br>Partial cluster label: 4<br>Node size: 26<br>Summary statistic: 220.0",
          "Node ID: 16<br>Pullback set label: 0<br>Partial cluster label: 5<br>Node size: 8<br>Summary statistic: 195.0",
          "Node ID: 17<br>Pullback set label: 0<br>Partial cluster label: 6<br>Node size: 20<br>Summary statistic: 269.0"
         ],
         "marker": {
          "color": [
           40.333333333333336,
           1,
           2,
           13.666666666666666,
           41,
           5,
           144.43783783783783,
           89.91891891891892,
           35.166666666666664,
           14,
           173.6,
           84,
           219.0888888888889,
           206.5,
           166.4,
           219.80769230769232,
           195.25,
           268.8
          ],
          "colorbar": {
           "thickness": 15,
           "title": {
            "side": "right",
            "text": ""
           },
           "xanchor": "left"
          },
          "colorscale": [
           [
            0,
            "#440154"
           ],
           [
            0.1111111111111111,
            "#482878"
           ],
           [
            0.2222222222222222,
            "#3e4989"
           ],
           [
            0.3333333333333333,
            "#31688e"
           ],
           [
            0.4444444444444444,
            "#26828e"
           ],
           [
            0.5555555555555556,
            "#1f9e89"
           ],
           [
            0.6666666666666666,
            "#35b779"
           ],
           [
            0.7777777777777778,
            "#6ece58"
           ],
           [
            0.8888888888888888,
            "#b5de2b"
           ],
           [
            1,
            "#fde725"
           ]
          ],
          "line": {
           "color": "#888",
           "width": 1
          },
          "opacity": 1,
          "reversescale": false,
          "showscale": true,
          "size": [
           9,
           1,
           1,
           3,
           2,
           1,
           185,
           37,
           6,
           1,
           5,
           1,
           45,
           6,
           5,
           26,
           8,
           20
          ],
          "sizemin": 4,
          "sizemode": "area",
          "sizeref": 2.5694444444444446
         },
         "mode": "markers",
         "name": "node_trace",
         "type": "scatter",
         "uid": "0222b370-e3a4-4cd0-97d7-2002f93d4571",
         "x": [
          0.03212823860788389,
          -2.9266842074126136,
          -3.8450994318050906,
          -0.8310965696652141,
          -1.6095224705902942,
          1.3549972205209229,
          1.1179379251156407,
          0.8123354756967378,
          -0.16945954534155075,
          -3.1583628601147367,
          -3.799242092114605,
          -4.4416280108678405,
          -4.397899690420837,
          -2.573400234714795,
          -1.772652222631172,
          -0.47295329743506404,
          0.5519054854861078,
          -1.15890700772098
         ],
         "y": [
          2.9290581381236533,
          -0.986834464690697,
          -0.22916540296296034,
          4.099159708521249,
          4.067637266581172,
          0.4558186130481695,
          2.0282434816917467,
          2.750545054900453,
          3.7002843611138028,
          4.1933759009855684,
          3.16393673161594,
          2.157606032745415,
          0.8820746547145699,
          1.468137074864255,
          -1.4035001035096688,
          -1.277855694475863,
          -0.5045574351091581,
          0.4068907697543185
         ]
        }
       ],
       "layout": {
        "autosize": false,
        "hovermode": "closest",
        "margin": {
         "b": 20,
         "l": 5,
         "r": 5,
         "t": 40
        },
        "showlegend": false,
        "template": {
         "data": {
          "bar": [
           {
            "error_x": {
             "color": "rgb(36,36,36)"
            },
            "error_y": {
             "color": "rgb(36,36,36)"
            },
            "marker": {
             "line": {
              "color": "white",
              "width": 0.5
             },
             "pattern": {
              "fillmode": "overlay",
              "size": 10,
              "solidity": 0.2
             }
            },
            "type": "bar"
           }
          ],
          "barpolar": [
           {
            "marker": {
             "line": {
              "color": "white",
              "width": 0.5
             },
             "pattern": {
              "fillmode": "overlay",
              "size": 10,
              "solidity": 0.2
             }
            },
            "type": "barpolar"
           }
          ],
          "carpet": [
           {
            "aaxis": {
             "endlinecolor": "rgb(36,36,36)",
             "gridcolor": "white",
             "linecolor": "white",
             "minorgridcolor": "white",
             "startlinecolor": "rgb(36,36,36)"
            },
            "baxis": {
             "endlinecolor": "rgb(36,36,36)",
             "gridcolor": "white",
             "linecolor": "white",
             "minorgridcolor": "white",
             "startlinecolor": "rgb(36,36,36)"
            },
            "type": "carpet"
           }
          ],
          "choropleth": [
           {
            "colorbar": {
             "outlinewidth": 1,
             "tickcolor": "rgb(36,36,36)",
             "ticks": "outside"
            },
            "type": "choropleth"
           }
          ],
          "contour": [
           {
            "colorbar": {
             "outlinewidth": 1,
             "tickcolor": "rgb(36,36,36)",
             "ticks": "outside"
            },
            "colorscale": [
             [
              0,
              "#440154"
             ],
             [
              0.1111111111111111,
              "#482878"
             ],
             [
              0.2222222222222222,
              "#3e4989"
             ],
             [
              0.3333333333333333,
              "#31688e"
             ],
             [
              0.4444444444444444,
              "#26828e"
             ],
             [
              0.5555555555555556,
              "#1f9e89"
             ],
             [
              0.6666666666666666,
              "#35b779"
             ],
             [
              0.7777777777777778,
              "#6ece58"
             ],
             [
              0.8888888888888888,
              "#b5de2b"
             ],
             [
              1,
              "#fde725"
             ]
            ],
            "type": "contour"
           }
          ],
          "contourcarpet": [
           {
            "colorbar": {
             "outlinewidth": 1,
             "tickcolor": "rgb(36,36,36)",
             "ticks": "outside"
            },
            "type": "contourcarpet"
           }
          ],
          "heatmap": [
           {
            "colorbar": {
             "outlinewidth": 1,
             "tickcolor": "rgb(36,36,36)",
             "ticks": "outside"
            },
            "colorscale": [
             [
              0,
              "#440154"
             ],
             [
              0.1111111111111111,
              "#482878"
             ],
             [
              0.2222222222222222,
              "#3e4989"
             ],
             [
              0.3333333333333333,
              "#31688e"
             ],
             [
              0.4444444444444444,
              "#26828e"
             ],
             [
              0.5555555555555556,
              "#1f9e89"
             ],
             [
              0.6666666666666666,
              "#35b779"
             ],
             [
              0.7777777777777778,
              "#6ece58"
             ],
             [
              0.8888888888888888,
              "#b5de2b"
             ],
             [
              1,
              "#fde725"
             ]
            ],
            "type": "heatmap"
           }
          ],
          "heatmapgl": [
           {
            "colorbar": {
             "outlinewidth": 1,
             "tickcolor": "rgb(36,36,36)",
             "ticks": "outside"
            },
            "colorscale": [
             [
              0,
              "#440154"
             ],
             [
              0.1111111111111111,
              "#482878"
             ],
             [
              0.2222222222222222,
              "#3e4989"
             ],
             [
              0.3333333333333333,
              "#31688e"
             ],
             [
              0.4444444444444444,
              "#26828e"
             ],
             [
              0.5555555555555556,
              "#1f9e89"
             ],
             [
              0.6666666666666666,
              "#35b779"
             ],
             [
              0.7777777777777778,
              "#6ece58"
             ],
             [
              0.8888888888888888,
              "#b5de2b"
             ],
             [
              1,
              "#fde725"
             ]
            ],
            "type": "heatmapgl"
           }
          ],
          "histogram": [
           {
            "marker": {
             "line": {
              "color": "white",
              "width": 0.6
             }
            },
            "type": "histogram"
           }
          ],
          "histogram2d": [
           {
            "colorbar": {
             "outlinewidth": 1,
             "tickcolor": "rgb(36,36,36)",
             "ticks": "outside"
            },
            "colorscale": [
             [
              0,
              "#440154"
             ],
             [
              0.1111111111111111,
              "#482878"
             ],
             [
              0.2222222222222222,
              "#3e4989"
             ],
             [
              0.3333333333333333,
              "#31688e"
             ],
             [
              0.4444444444444444,
              "#26828e"
             ],
             [
              0.5555555555555556,
              "#1f9e89"
             ],
             [
              0.6666666666666666,
              "#35b779"
             ],
             [
              0.7777777777777778,
              "#6ece58"
             ],
             [
              0.8888888888888888,
              "#b5de2b"
             ],
             [
              1,
              "#fde725"
             ]
            ],
            "type": "histogram2d"
           }
          ],
          "histogram2dcontour": [
           {
            "colorbar": {
             "outlinewidth": 1,
             "tickcolor": "rgb(36,36,36)",
             "ticks": "outside"
            },
            "colorscale": [
             [
              0,
              "#440154"
             ],
             [
              0.1111111111111111,
              "#482878"
             ],
             [
              0.2222222222222222,
              "#3e4989"
             ],
             [
              0.3333333333333333,
              "#31688e"
             ],
             [
              0.4444444444444444,
              "#26828e"
             ],
             [
              0.5555555555555556,
              "#1f9e89"
             ],
             [
              0.6666666666666666,
              "#35b779"
             ],
             [
              0.7777777777777778,
              "#6ece58"
             ],
             [
              0.8888888888888888,
              "#b5de2b"
             ],
             [
              1,
              "#fde725"
             ]
            ],
            "type": "histogram2dcontour"
           }
          ],
          "mesh3d": [
           {
            "colorbar": {
             "outlinewidth": 1,
             "tickcolor": "rgb(36,36,36)",
             "ticks": "outside"
            },
            "type": "mesh3d"
           }
          ],
          "parcoords": [
           {
            "line": {
             "colorbar": {
              "outlinewidth": 1,
              "tickcolor": "rgb(36,36,36)",
              "ticks": "outside"
             }
            },
            "type": "parcoords"
           }
          ],
          "pie": [
           {
            "automargin": true,
            "type": "pie"
           }
          ],
          "scatter": [
           {
            "fillpattern": {
             "fillmode": "overlay",
             "size": 10,
             "solidity": 0.2
            },
            "type": "scatter"
           }
          ],
          "scatter3d": [
           {
            "line": {
             "colorbar": {
              "outlinewidth": 1,
              "tickcolor": "rgb(36,36,36)",
              "ticks": "outside"
             }
            },
            "marker": {
             "colorbar": {
              "outlinewidth": 1,
              "tickcolor": "rgb(36,36,36)",
              "ticks": "outside"
             }
            },
            "type": "scatter3d"
           }
          ],
          "scattercarpet": [
           {
            "marker": {
             "colorbar": {
              "outlinewidth": 1,
              "tickcolor": "rgb(36,36,36)",
              "ticks": "outside"
             }
            },
            "type": "scattercarpet"
           }
          ],
          "scattergeo": [
           {
            "marker": {
             "colorbar": {
              "outlinewidth": 1,
              "tickcolor": "rgb(36,36,36)",
              "ticks": "outside"
             }
            },
            "type": "scattergeo"
           }
          ],
          "scattergl": [
           {
            "marker": {
             "colorbar": {
              "outlinewidth": 1,
              "tickcolor": "rgb(36,36,36)",
              "ticks": "outside"
             }
            },
            "type": "scattergl"
           }
          ],
          "scattermapbox": [
           {
            "marker": {
             "colorbar": {
              "outlinewidth": 1,
              "tickcolor": "rgb(36,36,36)",
              "ticks": "outside"
             }
            },
            "type": "scattermapbox"
           }
          ],
          "scatterpolar": [
           {
            "marker": {
             "colorbar": {
              "outlinewidth": 1,
              "tickcolor": "rgb(36,36,36)",
              "ticks": "outside"
             }
            },
            "type": "scatterpolar"
           }
          ],
          "scatterpolargl": [
           {
            "marker": {
             "colorbar": {
              "outlinewidth": 1,
              "tickcolor": "rgb(36,36,36)",
              "ticks": "outside"
             }
            },
            "type": "scatterpolargl"
           }
          ],
          "scatterternary": [
           {
            "marker": {
             "colorbar": {
              "outlinewidth": 1,
              "tickcolor": "rgb(36,36,36)",
              "ticks": "outside"
             }
            },
            "type": "scatterternary"
           }
          ],
          "surface": [
           {
            "colorbar": {
             "outlinewidth": 1,
             "tickcolor": "rgb(36,36,36)",
             "ticks": "outside"
            },
            "colorscale": [
             [
              0,
              "#440154"
             ],
             [
              0.1111111111111111,
              "#482878"
             ],
             [
              0.2222222222222222,
              "#3e4989"
             ],
             [
              0.3333333333333333,
              "#31688e"
             ],
             [
              0.4444444444444444,
              "#26828e"
             ],
             [
              0.5555555555555556,
              "#1f9e89"
             ],
             [
              0.6666666666666666,
              "#35b779"
             ],
             [
              0.7777777777777778,
              "#6ece58"
             ],
             [
              0.8888888888888888,
              "#b5de2b"
             ],
             [
              1,
              "#fde725"
             ]
            ],
            "type": "surface"
           }
          ],
          "table": [
           {
            "cells": {
             "fill": {
              "color": "rgb(237,237,237)"
             },
             "line": {
              "color": "white"
             }
            },
            "header": {
             "fill": {
              "color": "rgb(217,217,217)"
             },
             "line": {
              "color": "white"
             }
            },
            "type": "table"
           }
          ]
         },
         "layout": {
          "annotationdefaults": {
           "arrowhead": 0,
           "arrowwidth": 1
          },
          "autotypenumbers": "strict",
          "coloraxis": {
           "colorbar": {
            "outlinewidth": 1,
            "tickcolor": "rgb(36,36,36)",
            "ticks": "outside"
           }
          },
          "colorscale": {
           "diverging": [
            [
             0,
             "rgb(103,0,31)"
            ],
            [
             0.1,
             "rgb(178,24,43)"
            ],
            [
             0.2,
             "rgb(214,96,77)"
            ],
            [
             0.3,
             "rgb(244,165,130)"
            ],
            [
             0.4,
             "rgb(253,219,199)"
            ],
            [
             0.5,
             "rgb(247,247,247)"
            ],
            [
             0.6,
             "rgb(209,229,240)"
            ],
            [
             0.7,
             "rgb(146,197,222)"
            ],
            [
             0.8,
             "rgb(67,147,195)"
            ],
            [
             0.9,
             "rgb(33,102,172)"
            ],
            [
             1,
             "rgb(5,48,97)"
            ]
           ],
           "sequential": [
            [
             0,
             "#440154"
            ],
            [
             0.1111111111111111,
             "#482878"
            ],
            [
             0.2222222222222222,
             "#3e4989"
            ],
            [
             0.3333333333333333,
             "#31688e"
            ],
            [
             0.4444444444444444,
             "#26828e"
            ],
            [
             0.5555555555555556,
             "#1f9e89"
            ],
            [
             0.6666666666666666,
             "#35b779"
            ],
            [
             0.7777777777777778,
             "#6ece58"
            ],
            [
             0.8888888888888888,
             "#b5de2b"
            ],
            [
             1,
             "#fde725"
            ]
           ],
           "sequentialminus": [
            [
             0,
             "#440154"
            ],
            [
             0.1111111111111111,
             "#482878"
            ],
            [
             0.2222222222222222,
             "#3e4989"
            ],
            [
             0.3333333333333333,
             "#31688e"
            ],
            [
             0.4444444444444444,
             "#26828e"
            ],
            [
             0.5555555555555556,
             "#1f9e89"
            ],
            [
             0.6666666666666666,
             "#35b779"
            ],
            [
             0.7777777777777778,
             "#6ece58"
            ],
            [
             0.8888888888888888,
             "#b5de2b"
            ],
            [
             1,
             "#fde725"
            ]
           ]
          },
          "colorway": [
           "#1F77B4",
           "#FF7F0E",
           "#2CA02C",
           "#D62728",
           "#9467BD",
           "#8C564B",
           "#E377C2",
           "#7F7F7F",
           "#BCBD22",
           "#17BECF"
          ],
          "font": {
           "color": "rgb(36,36,36)"
          },
          "geo": {
           "bgcolor": "white",
           "lakecolor": "white",
           "landcolor": "white",
           "showlakes": true,
           "showland": true,
           "subunitcolor": "white"
          },
          "hoverlabel": {
           "align": "left"
          },
          "hovermode": "closest",
          "mapbox": {
           "style": "light"
          },
          "paper_bgcolor": "white",
          "plot_bgcolor": "white",
          "polar": {
           "angularaxis": {
            "gridcolor": "rgb(232,232,232)",
            "linecolor": "rgb(36,36,36)",
            "showgrid": false,
            "showline": true,
            "ticks": "outside"
           },
           "bgcolor": "white",
           "radialaxis": {
            "gridcolor": "rgb(232,232,232)",
            "linecolor": "rgb(36,36,36)",
            "showgrid": false,
            "showline": true,
            "ticks": "outside"
           }
          },
          "scene": {
           "xaxis": {
            "backgroundcolor": "white",
            "gridcolor": "rgb(232,232,232)",
            "gridwidth": 2,
            "linecolor": "rgb(36,36,36)",
            "showbackground": true,
            "showgrid": false,
            "showline": true,
            "ticks": "outside",
            "zeroline": false,
            "zerolinecolor": "rgb(36,36,36)"
           },
           "yaxis": {
            "backgroundcolor": "white",
            "gridcolor": "rgb(232,232,232)",
            "gridwidth": 2,
            "linecolor": "rgb(36,36,36)",
            "showbackground": true,
            "showgrid": false,
            "showline": true,
            "ticks": "outside",
            "zeroline": false,
            "zerolinecolor": "rgb(36,36,36)"
           },
           "zaxis": {
            "backgroundcolor": "white",
            "gridcolor": "rgb(232,232,232)",
            "gridwidth": 2,
            "linecolor": "rgb(36,36,36)",
            "showbackground": true,
            "showgrid": false,
            "showline": true,
            "ticks": "outside",
            "zeroline": false,
            "zerolinecolor": "rgb(36,36,36)"
           }
          },
          "shapedefaults": {
           "fillcolor": "black",
           "line": {
            "width": 0
           },
           "opacity": 0.3
          },
          "ternary": {
           "aaxis": {
            "gridcolor": "rgb(232,232,232)",
            "linecolor": "rgb(36,36,36)",
            "showgrid": false,
            "showline": true,
            "ticks": "outside"
           },
           "baxis": {
            "gridcolor": "rgb(232,232,232)",
            "linecolor": "rgb(36,36,36)",
            "showgrid": false,
            "showline": true,
            "ticks": "outside"
           },
           "bgcolor": "white",
           "caxis": {
            "gridcolor": "rgb(232,232,232)",
            "linecolor": "rgb(36,36,36)",
            "showgrid": false,
            "showline": true,
            "ticks": "outside"
           }
          },
          "title": {
           "x": 0.05
          },
          "xaxis": {
           "automargin": true,
           "gridcolor": "rgb(232,232,232)",
           "linecolor": "rgb(36,36,36)",
           "showgrid": false,
           "showline": true,
           "ticks": "outside",
           "title": {
            "standoff": 15
           },
           "zeroline": false,
           "zerolinecolor": "rgb(36,36,36)"
          },
          "yaxis": {
           "automargin": true,
           "gridcolor": "rgb(232,232,232)",
           "linecolor": "rgb(36,36,36)",
           "showgrid": false,
           "showline": true,
           "ticks": "outside",
           "title": {
            "standoff": 15
           },
           "zeroline": false,
           "zerolinecolor": "rgb(36,36,36)"
          }
         }
        },
        "title": {
         "text": ""
        },
        "xaxis": {
         "showgrid": false,
         "showline": false,
         "showticklabels": false,
         "ticks": "",
         "title": {
          "text": ""
         },
         "zeroline": false
        },
        "yaxis": {
         "showgrid": false,
         "showline": false,
         "showticklabels": false,
         "ticks": "",
         "title": {
          "text": ""
         },
         "zeroline": false
        }
       }
      }
     },
     "metadata": {},
     "output_type": "display_data"
    }
   ],
   "source": [
    "import gtda.mapper as map\n",
    "import sklearn.cluster as cluster\n",
    "\n",
    "\n",
    "filter_func = l1_norm_trans\n",
    "cover = map.OneDimensionalCover(kind='uniform', n_intervals=30, overlap_frac=0.4)\n",
    "clusterer = cluster.DBSCAN()\n",
    "\n",
    "pipe = map.make_mapper_pipeline(\n",
    "    filter_func=filter_func,\n",
    "    cover=cover,\n",
    "    clusterer=clusterer,\n",
    "    verbose=False,\n",
    "    n_jobs=1,\n",
    ")\n",
    "\n",
    "fig = map.plot_static_mapper_graph(pipe, df_codes_array)\n",
    "fig.show(config={'scrollZoom': True})\n",
    "\n",
    "\n"
   ]
  },
  {
   "cell_type": "code",
   "execution_count": 82,
   "metadata": {},
   "outputs": [],
   "source": [
    "g = pipe.fit_transform(df_codes_array_norm_tweet)\n"
   ]
  },
  {
   "cell_type": "code",
   "execution_count": 53,
   "metadata": {},
   "outputs": [
    {
     "data": {
      "application/vnd.plotly.v1+json": {
       "config": {
        "plotlyServerURL": "https://plot.ly",
        "scrollZoom": true
       },
       "data": [
        {
         "hoverinfo": "none",
         "line": {
          "color": "#888",
          "width": 1
         },
         "mode": "lines",
         "name": "edge_trace",
         "type": "scatter",
         "uid": "37e2ef50-dc0b-473b-b89e-bfe7710dae9a",
         "x": [
          2.724109153848126,
          2.184925407582361,
          null,
          2.184925407582361,
          1.8861677540520991,
          null,
          2.184925407582361,
          1.832964534306323,
          null,
          1.8861677540520991,
          1.3156111884123909,
          null,
          1.3156111884123909,
          0.95922675836816,
          null,
          1.832964534306323,
          1.263818638889656,
          null,
          1.263818638889656,
          0.95922675836816,
          null,
          0.95922675836816,
          0.4210034461363367,
          null,
          0.4210034461363367,
          -0.10039987386075355,
          null,
          -0.596572014092052,
          -1.0062195087380155,
          null,
          -0.596572014092052,
          -0.10039987386075355,
          null,
          -2.984182054497021,
          -3.481447493230109,
          null,
          -2.984182054497021,
          -2.771866496607214,
          null,
          -1.0062195087380155,
          -1.3327404356087367,
          null,
          -1.5837767961172744,
          -1.3327404356087367,
          null,
          -4.217808876836112,
          -4.038007462937904,
          null
         ],
         "y": [
          0.5588857590414261,
          0.46109356775326726,
          null,
          0.46109356775326726,
          -0.054581662781704746,
          null,
          0.46109356775326726,
          0.9401067876963116,
          null,
          -0.054581662781704746,
          -0.11244937749361987,
          null,
          -0.11244937749361987,
          0.3695640144213886,
          null,
          0.9401067876963116,
          0.8885331652547489,
          null,
          0.8885331652547489,
          0.3695640144213886,
          null,
          0.3695640144213886,
          0.27717493828322826,
          null,
          0.27717493828322826,
          0.19582271272341534,
          null,
          0.390983917556133,
          0.723880894569647,
          null,
          0.390983917556133,
          0.19582271272341534,
          null,
          4.470673547816068,
          4.294849682813571,
          null,
          4.470673547816068,
          4.951454945475757,
          null,
          0.723880894569647,
          1.144223684240049,
          null,
          1.61094505484326,
          1.144223684240049,
          null,
          0.46720084148010105,
          -0.027452472739126942,
          null
         ]
        },
        {
         "hoverinfo": "text",
         "hovertext": [
          "Node ID: 0<br>Pullback set label: 5<br>Partial cluster label: -1<br>Node size: 34<br>Summary statistic: 0.131",
          "Node ID: 1<br>Pullback set label: 6<br>Partial cluster label: -1<br>Node size: 20<br>Summary statistic: 0.0663",
          "Node ID: 2<br>Pullback set label: 7<br>Partial cluster label: 0<br>Node size: 8<br>Summary statistic: 0.123",
          "Node ID: 3<br>Pullback set label: 8<br>Partial cluster label: 0<br>Node size: 9<br>Summary statistic: 0.126",
          "Node ID: 4<br>Pullback set label: 1<br>Partial cluster label: -1<br>Node size: 25<br>Summary statistic: 0.28",
          "Node ID: 5<br>Pullback set label: 7<br>Partial cluster label: -1<br>Node size: 11<br>Summary statistic: 0.079",
          "Node ID: 6<br>Pullback set label: 8<br>Partial cluster label: -1<br>Node size: 46<br>Summary statistic: 0.0854",
          "Node ID: 7<br>Pullback set label: 9<br>Partial cluster label: -1<br>Node size: 44<br>Summary statistic: 0.0762",
          "Node ID: 8<br>Pullback set label: 10<br>Partial cluster label: -1<br>Node size: 14<br>Summary statistic: 0.00549",
          "Node ID: 9<br>Pullback set label: 12<br>Partial cluster label: -1<br>Node size: 34<br>Summary statistic: 0.132",
          "Node ID: 10<br>Pullback set label: 3<br>Partial cluster label: -1<br>Node size: 5<br>Summary statistic: 0.217",
          "Node ID: 11<br>Pullback set label: 4<br>Partial cluster label: -1<br>Node size: 1<br>Summary statistic: 0",
          "Node ID: 12<br>Pullback set label: 0<br>Partial cluster label: -1<br>Node size: 17<br>Summary statistic: 0.147",
          "Node ID: 13<br>Pullback set label: 13<br>Partial cluster label: -1<br>Node size: 29<br>Summary statistic: 0.161",
          "Node ID: 14<br>Pullback set label: 19<br>Partial cluster label: -1<br>Node size: 2<br>Summary statistic: 0",
          "Node ID: 15<br>Pullback set label: 15<br>Partial cluster label: -1<br>Node size: 5<br>Summary statistic: 0.1",
          "Node ID: 16<br>Pullback set label: 11<br>Partial cluster label: -1<br>Node size: 14<br>Summary statistic: 0",
          "Node ID: 17<br>Pullback set label: 5<br>Partial cluster label: 0<br>Node size: 5<br>Summary statistic: 0",
          "Node ID: 18<br>Pullback set label: 14<br>Partial cluster label: -1<br>Node size: 6<br>Summary statistic: 0.111",
          "Node ID: 19<br>Pullback set label: 17<br>Partial cluster label: 0<br>Node size: 45<br>Summary statistic: 0",
          "Node ID: 20<br>Pullback set label: 18<br>Partial cluster label: 0<br>Node size: 6<br>Summary statistic: 0",
          "Node ID: 21<br>Pullback set label: 16<br>Partial cluster label: -1<br>Node size: 1<br>Summary statistic: 0",
          "Node ID: 22<br>Pullback set label: 16<br>Partial cluster label: 0<br>Node size: 5<br>Summary statistic: 0",
          "Node ID: 23<br>Pullback set label: 2<br>Partial cluster label: -1<br>Node size: 1<br>Summary statistic: 0.333",
          "Node ID: 24<br>Pullback set label: 16<br>Partial cluster label: 1<br>Node size: 26<br>Summary statistic: 0",
          "Node ID: 25<br>Pullback set label: 8<br>Partial cluster label: 1<br>Node size: 8<br>Summary statistic: 0",
          "Node ID: 26<br>Pullback set label: 9<br>Partial cluster label: 0<br>Node size: 8<br>Summary statistic: 0",
          "Node ID: 27<br>Pullback set label: 17<br>Partial cluster label: -1<br>Node size: 1<br>Summary statistic: 0",
          "Node ID: 28<br>Pullback set label: 1<br>Partial cluster label: 0<br>Node size: 20<br>Summary statistic: 0"
         ],
         "marker": {
          "color": [
           0.13111398405516053,
           0.06627189642041127,
           0.12268738822411654,
           0.1264823774627696,
           0.28,
           0.079004329004329,
           0.08541965281095716,
           0.07622377622377621,
           0.005494505494505495,
           0.1323529411764706,
           0.21666666666666665,
           0,
           0.14705882352941177,
           0.16091954022988506,
           0,
           0.1,
           0,
           0,
           0.1111111111111111,
           0,
           0,
           0,
           0,
           0.3333333333333333,
           0,
           0,
           0,
           0,
           0
          ],
          "colorbar": {
           "thickness": 15,
           "title": {
            "side": "right",
            "text": ""
           },
           "xanchor": "left"
          },
          "colorscale": [
           [
            0,
            "#440154"
           ],
           [
            0.1111111111111111,
            "#482878"
           ],
           [
            0.2222222222222222,
            "#3e4989"
           ],
           [
            0.3333333333333333,
            "#31688e"
           ],
           [
            0.4444444444444444,
            "#26828e"
           ],
           [
            0.5555555555555556,
            "#1f9e89"
           ],
           [
            0.6666666666666666,
            "#35b779"
           ],
           [
            0.7777777777777778,
            "#6ece58"
           ],
           [
            0.8888888888888888,
            "#b5de2b"
           ],
           [
            1,
            "#fde725"
           ]
          ],
          "line": {
           "color": "#888",
           "width": 1
          },
          "opacity": 1,
          "reversescale": false,
          "showscale": true,
          "size": [
           34,
           20,
           8,
           9,
           25,
           11,
           46,
           44,
           14,
           34,
           5,
           1,
           17,
           29,
           2,
           5,
           14,
           5,
           6,
           45,
           6,
           1,
           5,
           1,
           26,
           8,
           8,
           1,
           20
          ],
          "sizemin": 4,
          "sizemode": "area",
          "sizeref": 0.6388888888888888
         },
         "mode": "markers",
         "name": "node_trace",
         "type": "scatter",
         "uid": "76a2d923-8c40-4818-87d2-a0360b94c467",
         "x": [
          2.724109153848126,
          2.184925407582361,
          1.8861677540520991,
          1.3156111884123909,
          3.4524770467999493,
          1.832964534306323,
          1.263818638889656,
          0.95922675836816,
          0.4210034461363367,
          -0.596572014092052,
          -2.984182054497021,
          -3.481447493230109,
          2.584075313554516,
          -1.0062195087380155,
          -0.3995765318767308,
          -1.5837767961172744,
          -0.10039987386075355,
          -2.8937913984592707,
          -1.3327404356087367,
          -1.5330999605485243,
          -4.3340239857672325,
          -1.2266025962951799,
          -4.5028702432326835,
          -2.771866496607214,
          1.887610508847683,
          -4.217808876836112,
          -4.038007462937904,
          -0.128721543408063,
          1.006656629963
         ],
         "y": [
          0.5588857590414261,
          0.46109356775326726,
          -0.054581662781704746,
          -0.11244937749361987,
          3.387741484176452,
          0.9401067876963116,
          0.8885331652547489,
          0.3695640144213886,
          0.27717493828322826,
          0.390983917556133,
          4.470673547816068,
          4.294849682813571,
          4.307624207941622,
          0.723880894569647,
          6.000015298205591,
          1.61094505484326,
          0.19582271272341534,
          -1.516412649118576,
          1.144223684240049,
          5.673846096755192,
          3.0138714092860823,
          -2.341117343110842,
          1.9260718417703495,
          4.951454945475757,
          5.028439329815363,
          0.46720084148010105,
          -0.027452472739126942,
          4.75256442102673,
          5.704111109581193
         ]
        }
       ],
       "layout": {
        "annotations": [
         {
          "align": "left",
          "showarrow": false,
          "text": "Color by:",
          "x": 0,
          "xref": "paper",
          "y": 1.0550000000000002,
          "yref": "paper"
         }
        ],
        "autosize": false,
        "hovermode": "closest",
        "margin": {
         "b": 20,
         "l": 5,
         "r": 5,
         "t": 40
        },
        "showlegend": false,
        "template": {
         "data": {
          "bar": [
           {
            "error_x": {
             "color": "rgb(36,36,36)"
            },
            "error_y": {
             "color": "rgb(36,36,36)"
            },
            "marker": {
             "line": {
              "color": "white",
              "width": 0.5
             },
             "pattern": {
              "fillmode": "overlay",
              "size": 10,
              "solidity": 0.2
             }
            },
            "type": "bar"
           }
          ],
          "barpolar": [
           {
            "marker": {
             "line": {
              "color": "white",
              "width": 0.5
             },
             "pattern": {
              "fillmode": "overlay",
              "size": 10,
              "solidity": 0.2
             }
            },
            "type": "barpolar"
           }
          ],
          "carpet": [
           {
            "aaxis": {
             "endlinecolor": "rgb(36,36,36)",
             "gridcolor": "white",
             "linecolor": "white",
             "minorgridcolor": "white",
             "startlinecolor": "rgb(36,36,36)"
            },
            "baxis": {
             "endlinecolor": "rgb(36,36,36)",
             "gridcolor": "white",
             "linecolor": "white",
             "minorgridcolor": "white",
             "startlinecolor": "rgb(36,36,36)"
            },
            "type": "carpet"
           }
          ],
          "choropleth": [
           {
            "colorbar": {
             "outlinewidth": 1,
             "tickcolor": "rgb(36,36,36)",
             "ticks": "outside"
            },
            "type": "choropleth"
           }
          ],
          "contour": [
           {
            "colorbar": {
             "outlinewidth": 1,
             "tickcolor": "rgb(36,36,36)",
             "ticks": "outside"
            },
            "colorscale": [
             [
              0,
              "#440154"
             ],
             [
              0.1111111111111111,
              "#482878"
             ],
             [
              0.2222222222222222,
              "#3e4989"
             ],
             [
              0.3333333333333333,
              "#31688e"
             ],
             [
              0.4444444444444444,
              "#26828e"
             ],
             [
              0.5555555555555556,
              "#1f9e89"
             ],
             [
              0.6666666666666666,
              "#35b779"
             ],
             [
              0.7777777777777778,
              "#6ece58"
             ],
             [
              0.8888888888888888,
              "#b5de2b"
             ],
             [
              1,
              "#fde725"
             ]
            ],
            "type": "contour"
           }
          ],
          "contourcarpet": [
           {
            "colorbar": {
             "outlinewidth": 1,
             "tickcolor": "rgb(36,36,36)",
             "ticks": "outside"
            },
            "type": "contourcarpet"
           }
          ],
          "heatmap": [
           {
            "colorbar": {
             "outlinewidth": 1,
             "tickcolor": "rgb(36,36,36)",
             "ticks": "outside"
            },
            "colorscale": [
             [
              0,
              "#440154"
             ],
             [
              0.1111111111111111,
              "#482878"
             ],
             [
              0.2222222222222222,
              "#3e4989"
             ],
             [
              0.3333333333333333,
              "#31688e"
             ],
             [
              0.4444444444444444,
              "#26828e"
             ],
             [
              0.5555555555555556,
              "#1f9e89"
             ],
             [
              0.6666666666666666,
              "#35b779"
             ],
             [
              0.7777777777777778,
              "#6ece58"
             ],
             [
              0.8888888888888888,
              "#b5de2b"
             ],
             [
              1,
              "#fde725"
             ]
            ],
            "type": "heatmap"
           }
          ],
          "heatmapgl": [
           {
            "colorbar": {
             "outlinewidth": 1,
             "tickcolor": "rgb(36,36,36)",
             "ticks": "outside"
            },
            "colorscale": [
             [
              0,
              "#440154"
             ],
             [
              0.1111111111111111,
              "#482878"
             ],
             [
              0.2222222222222222,
              "#3e4989"
             ],
             [
              0.3333333333333333,
              "#31688e"
             ],
             [
              0.4444444444444444,
              "#26828e"
             ],
             [
              0.5555555555555556,
              "#1f9e89"
             ],
             [
              0.6666666666666666,
              "#35b779"
             ],
             [
              0.7777777777777778,
              "#6ece58"
             ],
             [
              0.8888888888888888,
              "#b5de2b"
             ],
             [
              1,
              "#fde725"
             ]
            ],
            "type": "heatmapgl"
           }
          ],
          "histogram": [
           {
            "marker": {
             "line": {
              "color": "white",
              "width": 0.6
             }
            },
            "type": "histogram"
           }
          ],
          "histogram2d": [
           {
            "colorbar": {
             "outlinewidth": 1,
             "tickcolor": "rgb(36,36,36)",
             "ticks": "outside"
            },
            "colorscale": [
             [
              0,
              "#440154"
             ],
             [
              0.1111111111111111,
              "#482878"
             ],
             [
              0.2222222222222222,
              "#3e4989"
             ],
             [
              0.3333333333333333,
              "#31688e"
             ],
             [
              0.4444444444444444,
              "#26828e"
             ],
             [
              0.5555555555555556,
              "#1f9e89"
             ],
             [
              0.6666666666666666,
              "#35b779"
             ],
             [
              0.7777777777777778,
              "#6ece58"
             ],
             [
              0.8888888888888888,
              "#b5de2b"
             ],
             [
              1,
              "#fde725"
             ]
            ],
            "type": "histogram2d"
           }
          ],
          "histogram2dcontour": [
           {
            "colorbar": {
             "outlinewidth": 1,
             "tickcolor": "rgb(36,36,36)",
             "ticks": "outside"
            },
            "colorscale": [
             [
              0,
              "#440154"
             ],
             [
              0.1111111111111111,
              "#482878"
             ],
             [
              0.2222222222222222,
              "#3e4989"
             ],
             [
              0.3333333333333333,
              "#31688e"
             ],
             [
              0.4444444444444444,
              "#26828e"
             ],
             [
              0.5555555555555556,
              "#1f9e89"
             ],
             [
              0.6666666666666666,
              "#35b779"
             ],
             [
              0.7777777777777778,
              "#6ece58"
             ],
             [
              0.8888888888888888,
              "#b5de2b"
             ],
             [
              1,
              "#fde725"
             ]
            ],
            "type": "histogram2dcontour"
           }
          ],
          "mesh3d": [
           {
            "colorbar": {
             "outlinewidth": 1,
             "tickcolor": "rgb(36,36,36)",
             "ticks": "outside"
            },
            "type": "mesh3d"
           }
          ],
          "parcoords": [
           {
            "line": {
             "colorbar": {
              "outlinewidth": 1,
              "tickcolor": "rgb(36,36,36)",
              "ticks": "outside"
             }
            },
            "type": "parcoords"
           }
          ],
          "pie": [
           {
            "automargin": true,
            "type": "pie"
           }
          ],
          "scatter": [
           {
            "fillpattern": {
             "fillmode": "overlay",
             "size": 10,
             "solidity": 0.2
            },
            "type": "scatter"
           }
          ],
          "scatter3d": [
           {
            "line": {
             "colorbar": {
              "outlinewidth": 1,
              "tickcolor": "rgb(36,36,36)",
              "ticks": "outside"
             }
            },
            "marker": {
             "colorbar": {
              "outlinewidth": 1,
              "tickcolor": "rgb(36,36,36)",
              "ticks": "outside"
             }
            },
            "type": "scatter3d"
           }
          ],
          "scattercarpet": [
           {
            "marker": {
             "colorbar": {
              "outlinewidth": 1,
              "tickcolor": "rgb(36,36,36)",
              "ticks": "outside"
             }
            },
            "type": "scattercarpet"
           }
          ],
          "scattergeo": [
           {
            "marker": {
             "colorbar": {
              "outlinewidth": 1,
              "tickcolor": "rgb(36,36,36)",
              "ticks": "outside"
             }
            },
            "type": "scattergeo"
           }
          ],
          "scattergl": [
           {
            "marker": {
             "colorbar": {
              "outlinewidth": 1,
              "tickcolor": "rgb(36,36,36)",
              "ticks": "outside"
             }
            },
            "type": "scattergl"
           }
          ],
          "scattermapbox": [
           {
            "marker": {
             "colorbar": {
              "outlinewidth": 1,
              "tickcolor": "rgb(36,36,36)",
              "ticks": "outside"
             }
            },
            "type": "scattermapbox"
           }
          ],
          "scatterpolar": [
           {
            "marker": {
             "colorbar": {
              "outlinewidth": 1,
              "tickcolor": "rgb(36,36,36)",
              "ticks": "outside"
             }
            },
            "type": "scatterpolar"
           }
          ],
          "scatterpolargl": [
           {
            "marker": {
             "colorbar": {
              "outlinewidth": 1,
              "tickcolor": "rgb(36,36,36)",
              "ticks": "outside"
             }
            },
            "type": "scatterpolargl"
           }
          ],
          "scatterternary": [
           {
            "marker": {
             "colorbar": {
              "outlinewidth": 1,
              "tickcolor": "rgb(36,36,36)",
              "ticks": "outside"
             }
            },
            "type": "scatterternary"
           }
          ],
          "surface": [
           {
            "colorbar": {
             "outlinewidth": 1,
             "tickcolor": "rgb(36,36,36)",
             "ticks": "outside"
            },
            "colorscale": [
             [
              0,
              "#440154"
             ],
             [
              0.1111111111111111,
              "#482878"
             ],
             [
              0.2222222222222222,
              "#3e4989"
             ],
             [
              0.3333333333333333,
              "#31688e"
             ],
             [
              0.4444444444444444,
              "#26828e"
             ],
             [
              0.5555555555555556,
              "#1f9e89"
             ],
             [
              0.6666666666666666,
              "#35b779"
             ],
             [
              0.7777777777777778,
              "#6ece58"
             ],
             [
              0.8888888888888888,
              "#b5de2b"
             ],
             [
              1,
              "#fde725"
             ]
            ],
            "type": "surface"
           }
          ],
          "table": [
           {
            "cells": {
             "fill": {
              "color": "rgb(237,237,237)"
             },
             "line": {
              "color": "white"
             }
            },
            "header": {
             "fill": {
              "color": "rgb(217,217,217)"
             },
             "line": {
              "color": "white"
             }
            },
            "type": "table"
           }
          ]
         },
         "layout": {
          "annotationdefaults": {
           "arrowhead": 0,
           "arrowwidth": 1
          },
          "autotypenumbers": "strict",
          "coloraxis": {
           "colorbar": {
            "outlinewidth": 1,
            "tickcolor": "rgb(36,36,36)",
            "ticks": "outside"
           }
          },
          "colorscale": {
           "diverging": [
            [
             0,
             "rgb(103,0,31)"
            ],
            [
             0.1,
             "rgb(178,24,43)"
            ],
            [
             0.2,
             "rgb(214,96,77)"
            ],
            [
             0.3,
             "rgb(244,165,130)"
            ],
            [
             0.4,
             "rgb(253,219,199)"
            ],
            [
             0.5,
             "rgb(247,247,247)"
            ],
            [
             0.6,
             "rgb(209,229,240)"
            ],
            [
             0.7,
             "rgb(146,197,222)"
            ],
            [
             0.8,
             "rgb(67,147,195)"
            ],
            [
             0.9,
             "rgb(33,102,172)"
            ],
            [
             1,
             "rgb(5,48,97)"
            ]
           ],
           "sequential": [
            [
             0,
             "#440154"
            ],
            [
             0.1111111111111111,
             "#482878"
            ],
            [
             0.2222222222222222,
             "#3e4989"
            ],
            [
             0.3333333333333333,
             "#31688e"
            ],
            [
             0.4444444444444444,
             "#26828e"
            ],
            [
             0.5555555555555556,
             "#1f9e89"
            ],
            [
             0.6666666666666666,
             "#35b779"
            ],
            [
             0.7777777777777778,
             "#6ece58"
            ],
            [
             0.8888888888888888,
             "#b5de2b"
            ],
            [
             1,
             "#fde725"
            ]
           ],
           "sequentialminus": [
            [
             0,
             "#440154"
            ],
            [
             0.1111111111111111,
             "#482878"
            ],
            [
             0.2222222222222222,
             "#3e4989"
            ],
            [
             0.3333333333333333,
             "#31688e"
            ],
            [
             0.4444444444444444,
             "#26828e"
            ],
            [
             0.5555555555555556,
             "#1f9e89"
            ],
            [
             0.6666666666666666,
             "#35b779"
            ],
            [
             0.7777777777777778,
             "#6ece58"
            ],
            [
             0.8888888888888888,
             "#b5de2b"
            ],
            [
             1,
             "#fde725"
            ]
           ]
          },
          "colorway": [
           "#1F77B4",
           "#FF7F0E",
           "#2CA02C",
           "#D62728",
           "#9467BD",
           "#8C564B",
           "#E377C2",
           "#7F7F7F",
           "#BCBD22",
           "#17BECF"
          ],
          "font": {
           "color": "rgb(36,36,36)"
          },
          "geo": {
           "bgcolor": "white",
           "lakecolor": "white",
           "landcolor": "white",
           "showlakes": true,
           "showland": true,
           "subunitcolor": "white"
          },
          "hoverlabel": {
           "align": "left"
          },
          "hovermode": "closest",
          "mapbox": {
           "style": "light"
          },
          "paper_bgcolor": "white",
          "plot_bgcolor": "white",
          "polar": {
           "angularaxis": {
            "gridcolor": "rgb(232,232,232)",
            "linecolor": "rgb(36,36,36)",
            "showgrid": false,
            "showline": true,
            "ticks": "outside"
           },
           "bgcolor": "white",
           "radialaxis": {
            "gridcolor": "rgb(232,232,232)",
            "linecolor": "rgb(36,36,36)",
            "showgrid": false,
            "showline": true,
            "ticks": "outside"
           }
          },
          "scene": {
           "xaxis": {
            "backgroundcolor": "white",
            "gridcolor": "rgb(232,232,232)",
            "gridwidth": 2,
            "linecolor": "rgb(36,36,36)",
            "showbackground": true,
            "showgrid": false,
            "showline": true,
            "ticks": "outside",
            "zeroline": false,
            "zerolinecolor": "rgb(36,36,36)"
           },
           "yaxis": {
            "backgroundcolor": "white",
            "gridcolor": "rgb(232,232,232)",
            "gridwidth": 2,
            "linecolor": "rgb(36,36,36)",
            "showbackground": true,
            "showgrid": false,
            "showline": true,
            "ticks": "outside",
            "zeroline": false,
            "zerolinecolor": "rgb(36,36,36)"
           },
           "zaxis": {
            "backgroundcolor": "white",
            "gridcolor": "rgb(232,232,232)",
            "gridwidth": 2,
            "linecolor": "rgb(36,36,36)",
            "showbackground": true,
            "showgrid": false,
            "showline": true,
            "ticks": "outside",
            "zeroline": false,
            "zerolinecolor": "rgb(36,36,36)"
           }
          },
          "shapedefaults": {
           "fillcolor": "black",
           "line": {
            "width": 0
           },
           "opacity": 0.3
          },
          "ternary": {
           "aaxis": {
            "gridcolor": "rgb(232,232,232)",
            "linecolor": "rgb(36,36,36)",
            "showgrid": false,
            "showline": true,
            "ticks": "outside"
           },
           "baxis": {
            "gridcolor": "rgb(232,232,232)",
            "linecolor": "rgb(36,36,36)",
            "showgrid": false,
            "showline": true,
            "ticks": "outside"
           },
           "bgcolor": "white",
           "caxis": {
            "gridcolor": "rgb(232,232,232)",
            "linecolor": "rgb(36,36,36)",
            "showgrid": false,
            "showline": true,
            "ticks": "outside"
           }
          },
          "title": {
           "x": 0.05
          },
          "xaxis": {
           "automargin": true,
           "gridcolor": "rgb(232,232,232)",
           "linecolor": "rgb(36,36,36)",
           "showgrid": false,
           "showline": true,
           "ticks": "outside",
           "title": {
            "standoff": 15
           },
           "zeroline": false,
           "zerolinecolor": "rgb(36,36,36)"
          },
          "yaxis": {
           "automargin": true,
           "gridcolor": "rgb(232,232,232)",
           "linecolor": "rgb(36,36,36)",
           "showgrid": false,
           "showline": true,
           "ticks": "outside",
           "title": {
            "standoff": 15
           },
           "zeroline": false,
           "zerolinecolor": "rgb(36,36,36)"
          }
         }
        },
        "title": {
         "text": ""
        },
        "updatemenus": [
         {
          "buttons": [
           {
            "args": [
             {
              "hovertext": [
               null,
               [
                "Node ID: 0<br>Pullback set label: 5<br>Partial cluster label: -1<br>Node size: 34<br>Summary statistic: 0.131",
                "Node ID: 1<br>Pullback set label: 6<br>Partial cluster label: -1<br>Node size: 20<br>Summary statistic: 0.0663",
                "Node ID: 2<br>Pullback set label: 7<br>Partial cluster label: 0<br>Node size: 8<br>Summary statistic: 0.123",
                "Node ID: 3<br>Pullback set label: 8<br>Partial cluster label: 0<br>Node size: 9<br>Summary statistic: 0.126",
                "Node ID: 4<br>Pullback set label: 1<br>Partial cluster label: -1<br>Node size: 25<br>Summary statistic: 0.28",
                "Node ID: 5<br>Pullback set label: 7<br>Partial cluster label: -1<br>Node size: 11<br>Summary statistic: 0.079",
                "Node ID: 6<br>Pullback set label: 8<br>Partial cluster label: -1<br>Node size: 46<br>Summary statistic: 0.0854",
                "Node ID: 7<br>Pullback set label: 9<br>Partial cluster label: -1<br>Node size: 44<br>Summary statistic: 0.0762",
                "Node ID: 8<br>Pullback set label: 10<br>Partial cluster label: -1<br>Node size: 14<br>Summary statistic: 0.00549",
                "Node ID: 9<br>Pullback set label: 12<br>Partial cluster label: -1<br>Node size: 34<br>Summary statistic: 0.132",
                "Node ID: 10<br>Pullback set label: 3<br>Partial cluster label: -1<br>Node size: 5<br>Summary statistic: 0.217",
                "Node ID: 11<br>Pullback set label: 4<br>Partial cluster label: -1<br>Node size: 1<br>Summary statistic: 0",
                "Node ID: 12<br>Pullback set label: 0<br>Partial cluster label: -1<br>Node size: 17<br>Summary statistic: 0.147",
                "Node ID: 13<br>Pullback set label: 13<br>Partial cluster label: -1<br>Node size: 29<br>Summary statistic: 0.161",
                "Node ID: 14<br>Pullback set label: 19<br>Partial cluster label: -1<br>Node size: 2<br>Summary statistic: 0",
                "Node ID: 15<br>Pullback set label: 15<br>Partial cluster label: -1<br>Node size: 5<br>Summary statistic: 0.1",
                "Node ID: 16<br>Pullback set label: 11<br>Partial cluster label: -1<br>Node size: 14<br>Summary statistic: 0",
                "Node ID: 17<br>Pullback set label: 5<br>Partial cluster label: 0<br>Node size: 5<br>Summary statistic: 0",
                "Node ID: 18<br>Pullback set label: 14<br>Partial cluster label: -1<br>Node size: 6<br>Summary statistic: 0.111",
                "Node ID: 19<br>Pullback set label: 17<br>Partial cluster label: 0<br>Node size: 45<br>Summary statistic: 0",
                "Node ID: 20<br>Pullback set label: 18<br>Partial cluster label: 0<br>Node size: 6<br>Summary statistic: 0",
                "Node ID: 21<br>Pullback set label: 16<br>Partial cluster label: -1<br>Node size: 1<br>Summary statistic: 0",
                "Node ID: 22<br>Pullback set label: 16<br>Partial cluster label: 0<br>Node size: 5<br>Summary statistic: 0",
                "Node ID: 23<br>Pullback set label: 2<br>Partial cluster label: -1<br>Node size: 1<br>Summary statistic: 0.333",
                "Node ID: 24<br>Pullback set label: 16<br>Partial cluster label: 1<br>Node size: 26<br>Summary statistic: 0",
                "Node ID: 25<br>Pullback set label: 8<br>Partial cluster label: 1<br>Node size: 8<br>Summary statistic: 0",
                "Node ID: 26<br>Pullback set label: 9<br>Partial cluster label: 0<br>Node size: 8<br>Summary statistic: 0",
                "Node ID: 27<br>Pullback set label: 17<br>Partial cluster label: -1<br>Node size: 1<br>Summary statistic: 0",
                "Node ID: 28<br>Pullback set label: 1<br>Partial cluster label: 0<br>Node size: 20<br>Summary statistic: 0"
               ]
              ],
              "marker.color": [
               null,
               [
                0.13111398405516053,
                0.06627189642041127,
                0.12268738822411654,
                0.1264823774627696,
                0.28,
                0.079004329004329,
                0.08541965281095716,
                0.07622377622377621,
                0.005494505494505495,
                0.1323529411764706,
                0.21666666666666665,
                0,
                0.14705882352941177,
                0.16091954022988506,
                0,
                0.1,
                0,
                0,
                0.1111111111111111,
                0,
                0,
                0,
                0,
                0.3333333333333333,
                0,
                0,
                0,
                0,
                0
               ]
              ]
             }
            ],
            "label": "0",
            "method": "restyle"
           },
           {
            "args": [
             {
              "hovertext": [
               null,
               [
                "Node ID: 0<br>Pullback set label: 5<br>Partial cluster label: -1<br>Node size: 34<br>Summary statistic: 0",
                "Node ID: 1<br>Pullback set label: 6<br>Partial cluster label: -1<br>Node size: 20<br>Summary statistic: 0.0351",
                "Node ID: 2<br>Pullback set label: 7<br>Partial cluster label: 0<br>Node size: 8<br>Summary statistic: 0.00542",
                "Node ID: 3<br>Pullback set label: 8<br>Partial cluster label: 0<br>Node size: 9<br>Summary statistic: 0.00879",
                "Node ID: 4<br>Pullback set label: 1<br>Partial cluster label: -1<br>Node size: 25<br>Summary statistic: 0",
                "Node ID: 5<br>Pullback set label: 7<br>Partial cluster label: -1<br>Node size: 11<br>Summary statistic: 0.0455",
                "Node ID: 6<br>Pullback set label: 8<br>Partial cluster label: -1<br>Node size: 46<br>Summary statistic: 0.00435",
                "Node ID: 7<br>Pullback set label: 9<br>Partial cluster label: -1<br>Node size: 44<br>Summary statistic: 0",
                "Node ID: 8<br>Pullback set label: 10<br>Partial cluster label: -1<br>Node size: 14<br>Summary statistic: 0",
                "Node ID: 9<br>Pullback set label: 12<br>Partial cluster label: -1<br>Node size: 34<br>Summary statistic: 0",
                "Node ID: 10<br>Pullback set label: 3<br>Partial cluster label: -1<br>Node size: 5<br>Summary statistic: 0",
                "Node ID: 11<br>Pullback set label: 4<br>Partial cluster label: -1<br>Node size: 1<br>Summary statistic: 0",
                "Node ID: 12<br>Pullback set label: 0<br>Partial cluster label: -1<br>Node size: 17<br>Summary statistic: 0",
                "Node ID: 13<br>Pullback set label: 13<br>Partial cluster label: -1<br>Node size: 29<br>Summary statistic: 0",
                "Node ID: 14<br>Pullback set label: 19<br>Partial cluster label: -1<br>Node size: 2<br>Summary statistic: 0",
                "Node ID: 15<br>Pullback set label: 15<br>Partial cluster label: -1<br>Node size: 5<br>Summary statistic: 0",
                "Node ID: 16<br>Pullback set label: 11<br>Partial cluster label: -1<br>Node size: 14<br>Summary statistic: 0",
                "Node ID: 17<br>Pullback set label: 5<br>Partial cluster label: 0<br>Node size: 5<br>Summary statistic: 0",
                "Node ID: 18<br>Pullback set label: 14<br>Partial cluster label: -1<br>Node size: 6<br>Summary statistic: 0",
                "Node ID: 19<br>Pullback set label: 17<br>Partial cluster label: 0<br>Node size: 45<br>Summary statistic: 0",
                "Node ID: 20<br>Pullback set label: 18<br>Partial cluster label: 0<br>Node size: 6<br>Summary statistic: 0",
                "Node ID: 21<br>Pullback set label: 16<br>Partial cluster label: -1<br>Node size: 1<br>Summary statistic: 0",
                "Node ID: 22<br>Pullback set label: 16<br>Partial cluster label: 0<br>Node size: 5<br>Summary statistic: 0",
                "Node ID: 23<br>Pullback set label: 2<br>Partial cluster label: -1<br>Node size: 1<br>Summary statistic: 0",
                "Node ID: 24<br>Pullback set label: 16<br>Partial cluster label: 1<br>Node size: 26<br>Summary statistic: 0",
                "Node ID: 25<br>Pullback set label: 8<br>Partial cluster label: 1<br>Node size: 8<br>Summary statistic: 0",
                "Node ID: 26<br>Pullback set label: 9<br>Partial cluster label: 0<br>Node size: 8<br>Summary statistic: 0",
                "Node ID: 27<br>Pullback set label: 17<br>Partial cluster label: -1<br>Node size: 1<br>Summary statistic: 0",
                "Node ID: 28<br>Pullback set label: 1<br>Partial cluster label: 0<br>Node size: 20<br>Summary statistic: 0"
               ]
              ],
              "marker.color": [
               null,
               [
                0,
                0.035117083136885115,
                0.005416423995340711,
                0.008787218591140159,
                0,
                0.045454545454545456,
                0.004347826086956522,
                0,
                0,
                0,
                0,
                0,
                0,
                0,
                0,
                0,
                0,
                0,
                0,
                0,
                0,
                0,
                0,
                0,
                0,
                0,
                0,
                0,
                0
               ]
              ]
             }
            ],
            "label": "1",
            "method": "restyle"
           },
           {
            "args": [
             {
              "hovertext": [
               null,
               [
                "Node ID: 0<br>Pullback set label: 5<br>Partial cluster label: -1<br>Node size: 34<br>Summary statistic: 0.00875",
                "Node ID: 1<br>Pullback set label: 6<br>Partial cluster label: -1<br>Node size: 20<br>Summary statistic: 0.0362",
                "Node ID: 2<br>Pullback set label: 7<br>Partial cluster label: 0<br>Node size: 8<br>Summary statistic: 0.0101",
                "Node ID: 3<br>Pullback set label: 8<br>Partial cluster label: 0<br>Node size: 9<br>Summary statistic: 0.0171",
                "Node ID: 4<br>Pullback set label: 1<br>Partial cluster label: -1<br>Node size: 25<br>Summary statistic: 0",
                "Node ID: 5<br>Pullback set label: 7<br>Partial cluster label: -1<br>Node size: 11<br>Summary statistic: 0.0455",
                "Node ID: 6<br>Pullback set label: 8<br>Partial cluster label: -1<br>Node size: 46<br>Summary statistic: 0",
                "Node ID: 7<br>Pullback set label: 9<br>Partial cluster label: -1<br>Node size: 44<br>Summary statistic: 0.00189",
                "Node ID: 8<br>Pullback set label: 10<br>Partial cluster label: -1<br>Node size: 14<br>Summary statistic: 0",
                "Node ID: 9<br>Pullback set label: 12<br>Partial cluster label: -1<br>Node size: 34<br>Summary statistic: 0.0147",
                "Node ID: 10<br>Pullback set label: 3<br>Partial cluster label: -1<br>Node size: 5<br>Summary statistic: 0.0667",
                "Node ID: 11<br>Pullback set label: 4<br>Partial cluster label: -1<br>Node size: 1<br>Summary statistic: 0",
                "Node ID: 12<br>Pullback set label: 0<br>Partial cluster label: -1<br>Node size: 17<br>Summary statistic: 0",
                "Node ID: 13<br>Pullback set label: 13<br>Partial cluster label: -1<br>Node size: 29<br>Summary statistic: 0.0172",
                "Node ID: 14<br>Pullback set label: 19<br>Partial cluster label: -1<br>Node size: 2<br>Summary statistic: 0",
                "Node ID: 15<br>Pullback set label: 15<br>Partial cluster label: -1<br>Node size: 5<br>Summary statistic: 0",
                "Node ID: 16<br>Pullback set label: 11<br>Partial cluster label: -1<br>Node size: 14<br>Summary statistic: 0",
                "Node ID: 17<br>Pullback set label: 5<br>Partial cluster label: 0<br>Node size: 5<br>Summary statistic: 0",
                "Node ID: 18<br>Pullback set label: 14<br>Partial cluster label: -1<br>Node size: 6<br>Summary statistic: 0",
                "Node ID: 19<br>Pullback set label: 17<br>Partial cluster label: 0<br>Node size: 45<br>Summary statistic: 0",
                "Node ID: 20<br>Pullback set label: 18<br>Partial cluster label: 0<br>Node size: 6<br>Summary statistic: 0",
                "Node ID: 21<br>Pullback set label: 16<br>Partial cluster label: -1<br>Node size: 1<br>Summary statistic: 0",
                "Node ID: 22<br>Pullback set label: 16<br>Partial cluster label: 0<br>Node size: 5<br>Summary statistic: 0",
                "Node ID: 23<br>Pullback set label: 2<br>Partial cluster label: -1<br>Node size: 1<br>Summary statistic: 0.333",
                "Node ID: 24<br>Pullback set label: 16<br>Partial cluster label: 1<br>Node size: 26<br>Summary statistic: 0",
                "Node ID: 25<br>Pullback set label: 8<br>Partial cluster label: 1<br>Node size: 8<br>Summary statistic: 0",
                "Node ID: 26<br>Pullback set label: 9<br>Partial cluster label: 0<br>Node size: 8<br>Summary statistic: 0",
                "Node ID: 27<br>Pullback set label: 17<br>Partial cluster label: -1<br>Node size: 1<br>Summary statistic: 0",
                "Node ID: 28<br>Pullback set label: 1<br>Partial cluster label: 0<br>Node size: 20<br>Summary statistic: 0"
               ]
              ],
              "marker.color": [
               null,
               [
                0.008753501400560224,
                0.03620933521923621,
                0.010061153174140943,
                0.01710239651416122,
                0,
                0.045454545454545456,
                0,
                0.0018939393939393938,
                0,
                0.014705882352941176,
                0.06666666666666667,
                0,
                0,
                0.017241379310344827,
                0,
                0,
                0,
                0,
                0,
                0,
                0,
                0,
                0,
                0.3333333333333333,
                0,
                0,
                0,
                0,
                0
               ]
              ]
             }
            ],
            "label": "2",
            "method": "restyle"
           },
           {
            "args": [
             {
              "hovertext": [
               null,
               [
                "Node ID: 0<br>Pullback set label: 5<br>Partial cluster label: -1<br>Node size: 34<br>Summary statistic: 0.0749",
                "Node ID: 1<br>Pullback set label: 6<br>Partial cluster label: -1<br>Node size: 20<br>Summary statistic: 0.0315",
                "Node ID: 2<br>Pullback set label: 7<br>Partial cluster label: 0<br>Node size: 8<br>Summary statistic: 0.0327",
                "Node ID: 3<br>Pullback set label: 8<br>Partial cluster label: 0<br>Node size: 9<br>Summary statistic: 0.0356",
                "Node ID: 4<br>Pullback set label: 1<br>Partial cluster label: -1<br>Node size: 25<br>Summary statistic: 0.12",
                "Node ID: 5<br>Pullback set label: 7<br>Partial cluster label: -1<br>Node size: 11<br>Summary statistic: 0.0736",
                "Node ID: 6<br>Pullback set label: 8<br>Partial cluster label: -1<br>Node size: 46<br>Summary statistic: 0.0173",
                "Node ID: 7<br>Pullback set label: 9<br>Partial cluster label: -1<br>Node size: 44<br>Summary statistic: 0.0111",
                "Node ID: 8<br>Pullback set label: 10<br>Partial cluster label: -1<br>Node size: 14<br>Summary statistic: 0",
                "Node ID: 9<br>Pullback set label: 12<br>Partial cluster label: -1<br>Node size: 34<br>Summary statistic: 0.118",
                "Node ID: 10<br>Pullback set label: 3<br>Partial cluster label: -1<br>Node size: 5<br>Summary statistic: 0.133",
                "Node ID: 11<br>Pullback set label: 4<br>Partial cluster label: -1<br>Node size: 1<br>Summary statistic: 0.333",
                "Node ID: 12<br>Pullback set label: 0<br>Partial cluster label: -1<br>Node size: 17<br>Summary statistic: 0.0588",
                "Node ID: 13<br>Pullback set label: 13<br>Partial cluster label: -1<br>Node size: 29<br>Summary statistic: 0.138",
                "Node ID: 14<br>Pullback set label: 19<br>Partial cluster label: -1<br>Node size: 2<br>Summary statistic: 0",
                "Node ID: 15<br>Pullback set label: 15<br>Partial cluster label: -1<br>Node size: 5<br>Summary statistic: 0",
                "Node ID: 16<br>Pullback set label: 11<br>Partial cluster label: -1<br>Node size: 14<br>Summary statistic: 0",
                "Node ID: 17<br>Pullback set label: 5<br>Partial cluster label: 0<br>Node size: 5<br>Summary statistic: 0",
                "Node ID: 18<br>Pullback set label: 14<br>Partial cluster label: -1<br>Node size: 6<br>Summary statistic: 0",
                "Node ID: 19<br>Pullback set label: 17<br>Partial cluster label: 0<br>Node size: 45<br>Summary statistic: 0",
                "Node ID: 20<br>Pullback set label: 18<br>Partial cluster label: 0<br>Node size: 6<br>Summary statistic: 0",
                "Node ID: 21<br>Pullback set label: 16<br>Partial cluster label: -1<br>Node size: 1<br>Summary statistic: 0",
                "Node ID: 22<br>Pullback set label: 16<br>Partial cluster label: 0<br>Node size: 5<br>Summary statistic: 0",
                "Node ID: 23<br>Pullback set label: 2<br>Partial cluster label: -1<br>Node size: 1<br>Summary statistic: 0.333",
                "Node ID: 24<br>Pullback set label: 16<br>Partial cluster label: 1<br>Node size: 26<br>Summary statistic: 0",
                "Node ID: 25<br>Pullback set label: 8<br>Partial cluster label: 1<br>Node size: 8<br>Summary statistic: 0",
                "Node ID: 26<br>Pullback set label: 9<br>Partial cluster label: 0<br>Node size: 8<br>Summary statistic: 0",
                "Node ID: 27<br>Pullback set label: 17<br>Partial cluster label: -1<br>Node size: 1<br>Summary statistic: 0",
                "Node ID: 28<br>Pullback set label: 1<br>Partial cluster label: 0<br>Node size: 20<br>Summary statistic: 0"
               ]
              ],
              "marker.color": [
               null,
               [
                0.07492997198879552,
                0.03154172560113154,
                0.03266805540848203,
                0.03564307878033368,
                0.12,
                0.0735930735930736,
                0.017319636884854276,
                0.011072261072261072,
                0,
                0.11764705882352941,
                0.13333333333333333,
                0.3333333333333333,
                0.058823529411764705,
                0.13793103448275862,
                0,
                0,
                0,
                0,
                0,
                0,
                0,
                0,
                0,
                0.3333333333333333,
                0,
                0,
                0,
                0,
                0
               ]
              ]
             }
            ],
            "label": "3",
            "method": "restyle"
           },
           {
            "args": [
             {
              "hovertext": [
               null,
               [
                "Node ID: 0<br>Pullback set label: 5<br>Partial cluster label: -1<br>Node size: 34<br>Summary statistic: 0.0294",
                "Node ID: 1<br>Pullback set label: 6<br>Partial cluster label: -1<br>Node size: 20<br>Summary statistic: 0.00589",
                "Node ID: 2<br>Pullback set label: 7<br>Partial cluster label: 0<br>Node size: 8<br>Summary statistic: 0.00271",
                "Node ID: 3<br>Pullback set label: 8<br>Partial cluster label: 0<br>Node size: 9<br>Summary statistic: 0.00131",
                "Node ID: 4<br>Pullback set label: 1<br>Partial cluster label: -1<br>Node size: 25<br>Summary statistic: 0",
                "Node ID: 5<br>Pullback set label: 7<br>Partial cluster label: -1<br>Node size: 11<br>Summary statistic: 0",
                "Node ID: 6<br>Pullback set label: 8<br>Partial cluster label: -1<br>Node size: 46<br>Summary statistic: 0.00725",
                "Node ID: 7<br>Pullback set label: 9<br>Partial cluster label: -1<br>Node size: 44<br>Summary statistic: 0.00758",
                "Node ID: 8<br>Pullback set label: 10<br>Partial cluster label: -1<br>Node size: 14<br>Summary statistic: 0",
                "Node ID: 9<br>Pullback set label: 12<br>Partial cluster label: -1<br>Node size: 34<br>Summary statistic: 0",
                "Node ID: 10<br>Pullback set label: 3<br>Partial cluster label: -1<br>Node size: 5<br>Summary statistic: 0",
                "Node ID: 11<br>Pullback set label: 4<br>Partial cluster label: -1<br>Node size: 1<br>Summary statistic: 0",
                "Node ID: 12<br>Pullback set label: 0<br>Partial cluster label: -1<br>Node size: 17<br>Summary statistic: 0.0588",
                "Node ID: 13<br>Pullback set label: 13<br>Partial cluster label: -1<br>Node size: 29<br>Summary statistic: 0",
                "Node ID: 14<br>Pullback set label: 19<br>Partial cluster label: -1<br>Node size: 2<br>Summary statistic: 0",
                "Node ID: 15<br>Pullback set label: 15<br>Partial cluster label: -1<br>Node size: 5<br>Summary statistic: 0",
                "Node ID: 16<br>Pullback set label: 11<br>Partial cluster label: -1<br>Node size: 14<br>Summary statistic: 0",
                "Node ID: 17<br>Pullback set label: 5<br>Partial cluster label: 0<br>Node size: 5<br>Summary statistic: 0",
                "Node ID: 18<br>Pullback set label: 14<br>Partial cluster label: -1<br>Node size: 6<br>Summary statistic: 0",
                "Node ID: 19<br>Pullback set label: 17<br>Partial cluster label: 0<br>Node size: 45<br>Summary statistic: 0",
                "Node ID: 20<br>Pullback set label: 18<br>Partial cluster label: 0<br>Node size: 6<br>Summary statistic: 0",
                "Node ID: 21<br>Pullback set label: 16<br>Partial cluster label: -1<br>Node size: 1<br>Summary statistic: 0",
                "Node ID: 22<br>Pullback set label: 16<br>Partial cluster label: 0<br>Node size: 5<br>Summary statistic: 0",
                "Node ID: 23<br>Pullback set label: 2<br>Partial cluster label: -1<br>Node size: 1<br>Summary statistic: 0",
                "Node ID: 24<br>Pullback set label: 16<br>Partial cluster label: 1<br>Node size: 26<br>Summary statistic: 0",
                "Node ID: 25<br>Pullback set label: 8<br>Partial cluster label: 1<br>Node size: 8<br>Summary statistic: 0",
                "Node ID: 26<br>Pullback set label: 9<br>Partial cluster label: 0<br>Node size: 8<br>Summary statistic: 0",
                "Node ID: 27<br>Pullback set label: 17<br>Partial cluster label: -1<br>Node size: 1<br>Summary statistic: 0",
                "Node ID: 28<br>Pullback set label: 1<br>Partial cluster label: 0<br>Node size: 20<br>Summary statistic: 0"
               ]
              ],
              "marker.color": [
               null,
               [
                0.029411764705882353,
                0.005891874901775893,
                0.0027082119976703555,
                0.00130718954248366,
                0,
                0,
                0.007246376811594202,
                0.007575757575757575,
                0,
                0,
                0,
                0,
                0.058823529411764705,
                0,
                0,
                0,
                0,
                0,
                0,
                0,
                0,
                0,
                0,
                0,
                0,
                0,
                0,
                0,
                0
               ]
              ]
             }
            ],
            "label": "4",
            "method": "restyle"
           },
           {
            "args": [
             {
              "hovertext": [
               null,
               [
                "Node ID: 0<br>Pullback set label: 5<br>Partial cluster label: -1<br>Node size: 34<br>Summary statistic: 0.0376",
                "Node ID: 1<br>Pullback set label: 6<br>Partial cluster label: -1<br>Node size: 20<br>Summary statistic: 0.0673",
                "Node ID: 2<br>Pullback set label: 7<br>Partial cluster label: 0<br>Node size: 8<br>Summary statistic: 0.141",
                "Node ID: 3<br>Pullback set label: 8<br>Partial cluster label: 0<br>Node size: 9<br>Summary statistic: 0.155",
                "Node ID: 4<br>Pullback set label: 1<br>Partial cluster label: -1<br>Node size: 25<br>Summary statistic: 0.16",
                "Node ID: 5<br>Pullback set label: 7<br>Partial cluster label: -1<br>Node size: 11<br>Summary statistic: 0.0281",
                "Node ID: 6<br>Pullback set label: 8<br>Partial cluster label: -1<br>Node size: 46<br>Summary statistic: 0.0823",
                "Node ID: 7<br>Pullback set label: 9<br>Partial cluster label: -1<br>Node size: 44<br>Summary statistic: 0.101",
                "Node ID: 8<br>Pullback set label: 10<br>Partial cluster label: -1<br>Node size: 14<br>Summary statistic: 0.218",
                "Node ID: 9<br>Pullback set label: 12<br>Partial cluster label: -1<br>Node size: 34<br>Summary statistic: 0.243",
                "Node ID: 10<br>Pullback set label: 3<br>Partial cluster label: -1<br>Node size: 5<br>Summary statistic: 0.025",
                "Node ID: 11<br>Pullback set label: 4<br>Partial cluster label: -1<br>Node size: 1<br>Summary statistic: 0",
                "Node ID: 12<br>Pullback set label: 0<br>Partial cluster label: -1<br>Node size: 17<br>Summary statistic: 0",
                "Node ID: 13<br>Pullback set label: 13<br>Partial cluster label: -1<br>Node size: 29<br>Summary statistic: 0.278",
                "Node ID: 14<br>Pullback set label: 19<br>Partial cluster label: -1<br>Node size: 2<br>Summary statistic: 0",
                "Node ID: 15<br>Pullback set label: 15<br>Partial cluster label: -1<br>Node size: 5<br>Summary statistic: 0.4",
                "Node ID: 16<br>Pullback set label: 11<br>Partial cluster label: -1<br>Node size: 14<br>Summary statistic: 0.152",
                "Node ID: 17<br>Pullback set label: 5<br>Partial cluster label: 0<br>Node size: 5<br>Summary statistic: 0",
                "Node ID: 18<br>Pullback set label: 14<br>Partial cluster label: -1<br>Node size: 6<br>Summary statistic: 0.322",
                "Node ID: 19<br>Pullback set label: 17<br>Partial cluster label: 0<br>Node size: 45<br>Summary statistic: 1.0",
                "Node ID: 20<br>Pullback set label: 18<br>Partial cluster label: 0<br>Node size: 6<br>Summary statistic: 1.0",
                "Node ID: 21<br>Pullback set label: 16<br>Partial cluster label: -1<br>Node size: 1<br>Summary statistic: 0.333",
                "Node ID: 22<br>Pullback set label: 16<br>Partial cluster label: 0<br>Node size: 5<br>Summary statistic: 0",
                "Node ID: 23<br>Pullback set label: 2<br>Partial cluster label: -1<br>Node size: 1<br>Summary statistic: 0",
                "Node ID: 24<br>Pullback set label: 16<br>Partial cluster label: 1<br>Node size: 26<br>Summary statistic: 0",
                "Node ID: 25<br>Pullback set label: 8<br>Partial cluster label: 1<br>Node size: 8<br>Summary statistic: 0",
                "Node ID: 26<br>Pullback set label: 9<br>Partial cluster label: 0<br>Node size: 8<br>Summary statistic: 0",
                "Node ID: 27<br>Pullback set label: 17<br>Partial cluster label: -1<br>Node size: 1<br>Summary statistic: 0",
                "Node ID: 28<br>Pullback set label: 1<br>Partial cluster label: 0<br>Node size: 20<br>Summary statistic: 0"
               ]
              ],
              "marker.color": [
               null,
               [
                0.03755656108597285,
                0.06725099433020224,
                0.1412373314537336,
                0.1549929736204246,
                0.16,
                0.02813852813852814,
                0.08231406274884535,
                0.10107808857808859,
                0.2181318681318681,
                0.2426470588235294,
                0.025,
                0,
                0,
                0.27816091954022987,
                0,
                0.4,
                0.15238095238095237,
                0,
                0.3222222222222222,
                1,
                1,
                0.3333333333333333,
                0,
                0,
                0,
                0,
                0,
                0,
                0
               ]
              ]
             }
            ],
            "label": "5",
            "method": "restyle"
           },
           {
            "args": [
             {
              "hovertext": [
               null,
               [
                "Node ID: 0<br>Pullback set label: 5<br>Partial cluster label: -1<br>Node size: 34<br>Summary statistic: 0.0014",
                "Node ID: 1<br>Pullback set label: 6<br>Partial cluster label: -1<br>Node size: 20<br>Summary statistic: 0.0203",
                "Node ID: 2<br>Pullback set label: 7<br>Partial cluster label: 0<br>Node size: 8<br>Summary statistic: 0.0622",
                "Node ID: 3<br>Pullback set label: 8<br>Partial cluster label: 0<br>Node size: 9<br>Summary statistic: 0.0714",
                "Node ID: 4<br>Pullback set label: 1<br>Partial cluster label: -1<br>Node size: 25<br>Summary statistic: 0",
                "Node ID: 5<br>Pullback set label: 7<br>Partial cluster label: -1<br>Node size: 11<br>Summary statistic: 0",
                "Node ID: 6<br>Pullback set label: 8<br>Partial cluster label: -1<br>Node size: 46<br>Summary statistic: 0.129",
                "Node ID: 7<br>Pullback set label: 9<br>Partial cluster label: -1<br>Node size: 44<br>Summary statistic: 0.135",
                "Node ID: 8<br>Pullback set label: 10<br>Partial cluster label: -1<br>Node size: 14<br>Summary statistic: 0.0126",
                "Node ID: 9<br>Pullback set label: 12<br>Partial cluster label: -1<br>Node size: 34<br>Summary statistic: 0.0328",
                "Node ID: 10<br>Pullback set label: 3<br>Partial cluster label: -1<br>Node size: 5<br>Summary statistic: 0.05",
                "Node ID: 11<br>Pullback set label: 4<br>Partial cluster label: -1<br>Node size: 1<br>Summary statistic: 0",
                "Node ID: 12<br>Pullback set label: 0<br>Partial cluster label: -1<br>Node size: 17<br>Summary statistic: 0",
                "Node ID: 13<br>Pullback set label: 13<br>Partial cluster label: -1<br>Node size: 29<br>Summary statistic: 0.0385",
                "Node ID: 14<br>Pullback set label: 19<br>Partial cluster label: -1<br>Node size: 2<br>Summary statistic: 0",
                "Node ID: 15<br>Pullback set label: 15<br>Partial cluster label: -1<br>Node size: 5<br>Summary statistic: 0",
                "Node ID: 16<br>Pullback set label: 11<br>Partial cluster label: -1<br>Node size: 14<br>Summary statistic: 0",
                "Node ID: 17<br>Pullback set label: 5<br>Partial cluster label: 0<br>Node size: 5<br>Summary statistic: 0",
                "Node ID: 18<br>Pullback set label: 14<br>Partial cluster label: -1<br>Node size: 6<br>Summary statistic: 0.0278",
                "Node ID: 19<br>Pullback set label: 17<br>Partial cluster label: 0<br>Node size: 45<br>Summary statistic: 0",
                "Node ID: 20<br>Pullback set label: 18<br>Partial cluster label: 0<br>Node size: 6<br>Summary statistic: 1.0",
                "Node ID: 21<br>Pullback set label: 16<br>Partial cluster label: -1<br>Node size: 1<br>Summary statistic: 0",
                "Node ID: 22<br>Pullback set label: 16<br>Partial cluster label: 0<br>Node size: 5<br>Summary statistic: 0",
                "Node ID: 23<br>Pullback set label: 2<br>Partial cluster label: -1<br>Node size: 1<br>Summary statistic: 0",
                "Node ID: 24<br>Pullback set label: 16<br>Partial cluster label: 1<br>Node size: 26<br>Summary statistic: 0",
                "Node ID: 25<br>Pullback set label: 8<br>Partial cluster label: 1<br>Node size: 8<br>Summary statistic: 0",
                "Node ID: 26<br>Pullback set label: 9<br>Partial cluster label: 0<br>Node size: 8<br>Summary statistic: 0",
                "Node ID: 27<br>Pullback set label: 17<br>Partial cluster label: -1<br>Node size: 1<br>Summary statistic: 0",
                "Node ID: 28<br>Pullback set label: 1<br>Partial cluster label: 0<br>Node size: 20<br>Summary statistic: 0"
               ]
              ],
              "marker.color": [
               null,
               [
                0.0014005602240896359,
                0.020336319346220336,
                0.06224382548548972,
                0.07144554791613615,
                0,
                0,
                0.1293478260869565,
                0.13470279720279718,
                0.012637362637362638,
                0.03284313725490196,
                0.05,
                0,
                0,
                0.038505747126436785,
                0,
                0,
                0,
                0,
                0.027777777777777776,
                0,
                1,
                0,
                0,
                0,
                0,
                0,
                0,
                0,
                0
               ]
              ]
             }
            ],
            "label": "6",
            "method": "restyle"
           },
           {
            "args": [
             {
              "hovertext": [
               null,
               [
                "Node ID: 0<br>Pullback set label: 5<br>Partial cluster label: -1<br>Node size: 34<br>Summary statistic: 0.19",
                "Node ID: 1<br>Pullback set label: 6<br>Partial cluster label: -1<br>Node size: 20<br>Summary statistic: 0.522",
                "Node ID: 2<br>Pullback set label: 7<br>Partial cluster label: 0<br>Node size: 8<br>Summary statistic: 0.502",
                "Node ID: 3<br>Pullback set label: 8<br>Partial cluster label: 0<br>Node size: 9<br>Summary statistic: 0.556",
                "Node ID: 4<br>Pullback set label: 1<br>Partial cluster label: -1<br>Node size: 25<br>Summary statistic: 0.18",
                "Node ID: 5<br>Pullback set label: 7<br>Partial cluster label: -1<br>Node size: 11<br>Summary statistic: 0.584",
                "Node ID: 6<br>Pullback set label: 8<br>Partial cluster label: -1<br>Node size: 46<br>Summary statistic: 0.695",
                "Node ID: 7<br>Pullback set label: 9<br>Partial cluster label: -1<br>Node size: 44<br>Summary statistic: 0.695",
                "Node ID: 8<br>Pullback set label: 10<br>Partial cluster label: -1<br>Node size: 14<br>Summary statistic: 0.521",
                "Node ID: 9<br>Pullback set label: 12<br>Partial cluster label: -1<br>Node size: 34<br>Summary statistic: 0.624",
                "Node ID: 10<br>Pullback set label: 3<br>Partial cluster label: -1<br>Node size: 5<br>Summary statistic: 0.358",
                "Node ID: 11<br>Pullback set label: 4<br>Partial cluster label: -1<br>Node size: 1<br>Summary statistic: 0.333",
                "Node ID: 12<br>Pullback set label: 0<br>Partial cluster label: -1<br>Node size: 17<br>Summary statistic: 0.176",
                "Node ID: 13<br>Pullback set label: 13<br>Partial cluster label: -1<br>Node size: 29<br>Summary statistic: 0.634",
                "Node ID: 14<br>Pullback set label: 19<br>Partial cluster label: -1<br>Node size: 2<br>Summary statistic: 1.0",
                "Node ID: 15<br>Pullback set label: 15<br>Partial cluster label: -1<br>Node size: 5<br>Summary statistic: 0.833",
                "Node ID: 16<br>Pullback set label: 11<br>Partial cluster label: -1<br>Node size: 14<br>Summary statistic: 0.533",
                "Node ID: 17<br>Pullback set label: 5<br>Partial cluster label: 0<br>Node size: 5<br>Summary statistic: 1.0",
                "Node ID: 18<br>Pullback set label: 14<br>Partial cluster label: -1<br>Node size: 6<br>Summary statistic: 0.828",
                "Node ID: 19<br>Pullback set label: 17<br>Partial cluster label: 0<br>Node size: 45<br>Summary statistic: 1.0",
                "Node ID: 20<br>Pullback set label: 18<br>Partial cluster label: 0<br>Node size: 6<br>Summary statistic: 1.0",
                "Node ID: 21<br>Pullback set label: 16<br>Partial cluster label: -1<br>Node size: 1<br>Summary statistic: 1.0",
                "Node ID: 22<br>Pullback set label: 16<br>Partial cluster label: 0<br>Node size: 5<br>Summary statistic: 1.0",
                "Node ID: 23<br>Pullback set label: 2<br>Partial cluster label: -1<br>Node size: 1<br>Summary statistic: 0.333",
                "Node ID: 24<br>Pullback set label: 16<br>Partial cluster label: 1<br>Node size: 26<br>Summary statistic: 1.0",
                "Node ID: 25<br>Pullback set label: 8<br>Partial cluster label: 1<br>Node size: 8<br>Summary statistic: 0",
                "Node ID: 26<br>Pullback set label: 9<br>Partial cluster label: 0<br>Node size: 8<br>Summary statistic: 0",
                "Node ID: 27<br>Pullback set label: 17<br>Partial cluster label: -1<br>Node size: 1<br>Summary statistic: 1.0",
                "Node ID: 28<br>Pullback set label: 1<br>Partial cluster label: 0<br>Node size: 20<br>Summary statistic: 0"
               ]
              ],
              "marker.color": [
               null,
               [
                0.19025533290239172,
                0.5217768287817793,
                0.5023994862721566,
                0.5561242678889737,
                0.18,
                0.5844155844155844,
                0.6952142060837714,
                0.69493006993007,
                0.5208791208791209,
                0.6240196078431373,
                0.3583333333333333,
                0.3333333333333333,
                0.17647058823529413,
                0.6339080459770114,
                1,
                0.8333333333333333,
                0.5333333333333333,
                1,
                0.8277777777777778,
                1,
                1,
                1,
                1,
                0.3333333333333333,
                1,
                0,
                0,
                1,
                0
               ]
              ]
             }
            ],
            "label": "7",
            "method": "restyle"
           },
           {
            "args": [
             {
              "hovertext": [
               null,
               [
                "Node ID: 0<br>Pullback set label: 5<br>Partial cluster label: -1<br>Node size: 34<br>Summary statistic: 0.0042",
                "Node ID: 1<br>Pullback set label: 6<br>Partial cluster label: -1<br>Node size: 20<br>Summary statistic: 0.0329",
                "Node ID: 2<br>Pullback set label: 7<br>Partial cluster label: 0<br>Node size: 8<br>Summary statistic: 0.0375",
                "Node ID: 3<br>Pullback set label: 8<br>Partial cluster label: 0<br>Node size: 9<br>Summary statistic: 0.02",
                "Node ID: 4<br>Pullback set label: 1<br>Partial cluster label: -1<br>Node size: 25<br>Summary statistic: 0.08",
                "Node ID: 5<br>Pullback set label: 7<br>Partial cluster label: -1<br>Node size: 11<br>Summary statistic: 0.053",
                "Node ID: 6<br>Pullback set label: 8<br>Partial cluster label: -1<br>Node size: 46<br>Summary statistic: 0.0204",
                "Node ID: 7<br>Pullback set label: 9<br>Partial cluster label: -1<br>Node size: 44<br>Summary statistic: 0.00804",
                "Node ID: 8<br>Pullback set label: 10<br>Partial cluster label: -1<br>Node size: 14<br>Summary statistic: 0",
                "Node ID: 9<br>Pullback set label: 12<br>Partial cluster label: -1<br>Node size: 34<br>Summary statistic: 0",
                "Node ID: 10<br>Pullback set label: 3<br>Partial cluster label: -1<br>Node size: 5<br>Summary statistic: 0",
                "Node ID: 11<br>Pullback set label: 4<br>Partial cluster label: -1<br>Node size: 1<br>Summary statistic: 0",
                "Node ID: 12<br>Pullback set label: 0<br>Partial cluster label: -1<br>Node size: 17<br>Summary statistic: 0",
                "Node ID: 13<br>Pullback set label: 13<br>Partial cluster label: -1<br>Node size: 29<br>Summary statistic: 0",
                "Node ID: 14<br>Pullback set label: 19<br>Partial cluster label: -1<br>Node size: 2<br>Summary statistic: 0",
                "Node ID: 15<br>Pullback set label: 15<br>Partial cluster label: -1<br>Node size: 5<br>Summary statistic: 0",
                "Node ID: 16<br>Pullback set label: 11<br>Partial cluster label: -1<br>Node size: 14<br>Summary statistic: 0",
                "Node ID: 17<br>Pullback set label: 5<br>Partial cluster label: 0<br>Node size: 5<br>Summary statistic: 0",
                "Node ID: 18<br>Pullback set label: 14<br>Partial cluster label: -1<br>Node size: 6<br>Summary statistic: 0",
                "Node ID: 19<br>Pullback set label: 17<br>Partial cluster label: 0<br>Node size: 45<br>Summary statistic: 0",
                "Node ID: 20<br>Pullback set label: 18<br>Partial cluster label: 0<br>Node size: 6<br>Summary statistic: 0",
                "Node ID: 21<br>Pullback set label: 16<br>Partial cluster label: -1<br>Node size: 1<br>Summary statistic: 0",
                "Node ID: 22<br>Pullback set label: 16<br>Partial cluster label: 0<br>Node size: 5<br>Summary statistic: 0",
                "Node ID: 23<br>Pullback set label: 2<br>Partial cluster label: -1<br>Node size: 1<br>Summary statistic: 0",
                "Node ID: 24<br>Pullback set label: 16<br>Partial cluster label: 1<br>Node size: 26<br>Summary statistic: 0",
                "Node ID: 25<br>Pullback set label: 8<br>Partial cluster label: 1<br>Node size: 8<br>Summary statistic: 0",
                "Node ID: 26<br>Pullback set label: 9<br>Partial cluster label: 0<br>Node size: 8<br>Summary statistic: 0",
                "Node ID: 27<br>Pullback set label: 17<br>Partial cluster label: -1<br>Node size: 1<br>Summary statistic: 0",
                "Node ID: 28<br>Pullback set label: 1<br>Partial cluster label: 0<br>Node size: 20<br>Summary statistic: 0"
               ]
              ],
              "marker.color": [
               null,
               [
                0.004201680672268907,
                0.03287207292157787,
                0.03750960573998576,
                0.019970951343500364,
                0.08,
                0.053030303030303025,
                0.02037346711259755,
                0.008041958041958043,
                0,
                0,
                0,
                0,
                0,
                0,
                0,
                0,
                0,
                0,
                0,
                0,
                0,
                0,
                0,
                0,
                0,
                0,
                0,
                0,
                0
               ]
              ]
             }
            ],
            "label": "8",
            "method": "restyle"
           },
           {
            "args": [
             {
              "hovertext": [
               null,
               [
                "Node ID: 0<br>Pullback set label: 5<br>Partial cluster label: -1<br>Node size: 34<br>Summary statistic: 0",
                "Node ID: 1<br>Pullback set label: 6<br>Partial cluster label: -1<br>Node size: 20<br>Summary statistic: 0",
                "Node ID: 2<br>Pullback set label: 7<br>Partial cluster label: 0<br>Node size: 8<br>Summary statistic: 0",
                "Node ID: 3<br>Pullback set label: 8<br>Partial cluster label: 0<br>Node size: 9<br>Summary statistic: 0",
                "Node ID: 4<br>Pullback set label: 1<br>Partial cluster label: -1<br>Node size: 25<br>Summary statistic: 0",
                "Node ID: 5<br>Pullback set label: 7<br>Partial cluster label: -1<br>Node size: 11<br>Summary statistic: 0.0303",
                "Node ID: 6<br>Pullback set label: 8<br>Partial cluster label: -1<br>Node size: 46<br>Summary statistic: 0.00725",
                "Node ID: 7<br>Pullback set label: 9<br>Partial cluster label: -1<br>Node size: 44<br>Summary statistic: 0",
                "Node ID: 8<br>Pullback set label: 10<br>Partial cluster label: -1<br>Node size: 14<br>Summary statistic: 0",
                "Node ID: 9<br>Pullback set label: 12<br>Partial cluster label: -1<br>Node size: 34<br>Summary statistic: 0",
                "Node ID: 10<br>Pullback set label: 3<br>Partial cluster label: -1<br>Node size: 5<br>Summary statistic: 0",
                "Node ID: 11<br>Pullback set label: 4<br>Partial cluster label: -1<br>Node size: 1<br>Summary statistic: 0",
                "Node ID: 12<br>Pullback set label: 0<br>Partial cluster label: -1<br>Node size: 17<br>Summary statistic: 0",
                "Node ID: 13<br>Pullback set label: 13<br>Partial cluster label: -1<br>Node size: 29<br>Summary statistic: 0",
                "Node ID: 14<br>Pullback set label: 19<br>Partial cluster label: -1<br>Node size: 2<br>Summary statistic: 0",
                "Node ID: 15<br>Pullback set label: 15<br>Partial cluster label: -1<br>Node size: 5<br>Summary statistic: 0",
                "Node ID: 16<br>Pullback set label: 11<br>Partial cluster label: -1<br>Node size: 14<br>Summary statistic: 0",
                "Node ID: 17<br>Pullback set label: 5<br>Partial cluster label: 0<br>Node size: 5<br>Summary statistic: 0",
                "Node ID: 18<br>Pullback set label: 14<br>Partial cluster label: -1<br>Node size: 6<br>Summary statistic: 0",
                "Node ID: 19<br>Pullback set label: 17<br>Partial cluster label: 0<br>Node size: 45<br>Summary statistic: 0",
                "Node ID: 20<br>Pullback set label: 18<br>Partial cluster label: 0<br>Node size: 6<br>Summary statistic: 0",
                "Node ID: 21<br>Pullback set label: 16<br>Partial cluster label: -1<br>Node size: 1<br>Summary statistic: 0",
                "Node ID: 22<br>Pullback set label: 16<br>Partial cluster label: 0<br>Node size: 5<br>Summary statistic: 0",
                "Node ID: 23<br>Pullback set label: 2<br>Partial cluster label: -1<br>Node size: 1<br>Summary statistic: 0",
                "Node ID: 24<br>Pullback set label: 16<br>Partial cluster label: 1<br>Node size: 26<br>Summary statistic: 0",
                "Node ID: 25<br>Pullback set label: 8<br>Partial cluster label: 1<br>Node size: 8<br>Summary statistic: 0",
                "Node ID: 26<br>Pullback set label: 9<br>Partial cluster label: 0<br>Node size: 8<br>Summary statistic: 0",
                "Node ID: 27<br>Pullback set label: 17<br>Partial cluster label: -1<br>Node size: 1<br>Summary statistic: 0",
                "Node ID: 28<br>Pullback set label: 1<br>Partial cluster label: 0<br>Node size: 20<br>Summary statistic: 0"
               ]
              ],
              "marker.color": [
               null,
               [
                0,
                0,
                0,
                0,
                0,
                0.0303030303030303,
                0.007246376811594202,
                0,
                0,
                0,
                0,
                0,
                0,
                0,
                0,
                0,
                0,
                0,
                0,
                0,
                0,
                0,
                0,
                0,
                0,
                0,
                0,
                0,
                0
               ]
              ]
             }
            ],
            "label": "9",
            "method": "restyle"
           },
           {
            "args": [
             {
              "hovertext": [
               null,
               [
                "Node ID: 0<br>Pullback set label: 5<br>Partial cluster label: -1<br>Node size: 34<br>Summary statistic: 0.0647",
                "Node ID: 1<br>Pullback set label: 6<br>Partial cluster label: -1<br>Node size: 20<br>Summary statistic: 0.0942",
                "Node ID: 2<br>Pullback set label: 7<br>Partial cluster label: 0<br>Node size: 8<br>Summary statistic: 0.0552",
                "Node ID: 3<br>Pullback set label: 8<br>Partial cluster label: 0<br>Node size: 9<br>Summary statistic: 0.0529",
                "Node ID: 4<br>Pullback set label: 1<br>Partial cluster label: -1<br>Node size: 25<br>Summary statistic: 0",
                "Node ID: 5<br>Pullback set label: 7<br>Partial cluster label: -1<br>Node size: 11<br>Summary statistic: 0.0758",
                "Node ID: 6<br>Pullback set label: 8<br>Partial cluster label: -1<br>Node size: 46<br>Summary statistic: 0.0689",
                "Node ID: 7<br>Pullback set label: 9<br>Partial cluster label: -1<br>Node size: 44<br>Summary statistic: 0.0837",
                "Node ID: 8<br>Pullback set label: 10<br>Partial cluster label: -1<br>Node size: 14<br>Summary statistic: 0.296",
                "Node ID: 9<br>Pullback set label: 12<br>Partial cluster label: -1<br>Node size: 34<br>Summary statistic: 0.272",
                "Node ID: 10<br>Pullback set label: 3<br>Partial cluster label: -1<br>Node size: 5<br>Summary statistic: 0",
                "Node ID: 11<br>Pullback set label: 4<br>Partial cluster label: -1<br>Node size: 1<br>Summary statistic: 0",
                "Node ID: 12<br>Pullback set label: 0<br>Partial cluster label: -1<br>Node size: 17<br>Summary statistic: 0",
                "Node ID: 13<br>Pullback set label: 13<br>Partial cluster label: -1<br>Node size: 29<br>Summary statistic: 0.237",
                "Node ID: 14<br>Pullback set label: 19<br>Partial cluster label: -1<br>Node size: 2<br>Summary statistic: 0",
                "Node ID: 15<br>Pullback set label: 15<br>Partial cluster label: -1<br>Node size: 5<br>Summary statistic: 0.3",
                "Node ID: 16<br>Pullback set label: 11<br>Partial cluster label: -1<br>Node size: 14<br>Summary statistic: 0.419",
                "Node ID: 17<br>Pullback set label: 5<br>Partial cluster label: 0<br>Node size: 5<br>Summary statistic: 0",
                "Node ID: 18<br>Pullback set label: 14<br>Partial cluster label: -1<br>Node size: 6<br>Summary statistic: 0.117",
                "Node ID: 19<br>Pullback set label: 17<br>Partial cluster label: 0<br>Node size: 45<br>Summary statistic: 0",
                "Node ID: 20<br>Pullback set label: 18<br>Partial cluster label: 0<br>Node size: 6<br>Summary statistic: 0",
                "Node ID: 21<br>Pullback set label: 16<br>Partial cluster label: -1<br>Node size: 1<br>Summary statistic: 0",
                "Node ID: 22<br>Pullback set label: 16<br>Partial cluster label: 0<br>Node size: 5<br>Summary statistic: 0",
                "Node ID: 23<br>Pullback set label: 2<br>Partial cluster label: -1<br>Node size: 1<br>Summary statistic: 0",
                "Node ID: 24<br>Pullback set label: 16<br>Partial cluster label: 1<br>Node size: 26<br>Summary statistic: 1.0",
                "Node ID: 25<br>Pullback set label: 8<br>Partial cluster label: 1<br>Node size: 8<br>Summary statistic: 1.0",
                "Node ID: 26<br>Pullback set label: 9<br>Partial cluster label: 0<br>Node size: 8<br>Summary statistic: 1.0",
                "Node ID: 27<br>Pullback set label: 17<br>Partial cluster label: -1<br>Node size: 1<br>Summary statistic: 1.0",
                "Node ID: 28<br>Pullback set label: 1<br>Partial cluster label: 0<br>Node size: 20<br>Summary statistic: 0"
               ]
              ],
              "marker.color": [
               null,
               [
                0.0647489765136824,
                0.09418845730726919,
                0.05517011259949524,
                0.0528581803091607,
                0,
                0.07575757575757575,
                0.06886845039018952,
                0.08368298368298369,
                0.29624542124542125,
                0.27205882352941174,
                0,
                0,
                0,
                0.23735632183908045,
                0,
                0.29999999999999993,
                0.41904761904761906,
                0,
                0.11666666666666665,
                0,
                0,
                0,
                0,
                0,
                1,
                1,
                1,
                1,
                0
               ]
              ]
             }
            ],
            "label": "10",
            "method": "restyle"
           },
           {
            "args": [
             {
              "hovertext": [
               null,
               [
                "Node ID: 0<br>Pullback set label: 5<br>Partial cluster label: -1<br>Node size: 34<br>Summary statistic: 0",
                "Node ID: 1<br>Pullback set label: 6<br>Partial cluster label: -1<br>Node size: 20<br>Summary statistic: 0",
                "Node ID: 2<br>Pullback set label: 7<br>Partial cluster label: 0<br>Node size: 8<br>Summary statistic: 0.0139",
                "Node ID: 3<br>Pullback set label: 8<br>Partial cluster label: 0<br>Node size: 9<br>Summary statistic: 0.0123",
                "Node ID: 4<br>Pullback set label: 1<br>Partial cluster label: -1<br>Node size: 25<br>Summary statistic: 0",
                "Node ID: 5<br>Pullback set label: 7<br>Partial cluster label: -1<br>Node size: 11<br>Summary statistic: 0",
                "Node ID: 6<br>Pullback set label: 8<br>Partial cluster label: -1<br>Node size: 46<br>Summary statistic: 0",
                "Node ID: 7<br>Pullback set label: 9<br>Partial cluster label: -1<br>Node size: 44<br>Summary statistic: 0",
                "Node ID: 8<br>Pullback set label: 10<br>Partial cluster label: -1<br>Node size: 14<br>Summary statistic: 0",
                "Node ID: 9<br>Pullback set label: 12<br>Partial cluster label: -1<br>Node size: 34<br>Summary statistic: 0",
                "Node ID: 10<br>Pullback set label: 3<br>Partial cluster label: -1<br>Node size: 5<br>Summary statistic: 0.05",
                "Node ID: 11<br>Pullback set label: 4<br>Partial cluster label: -1<br>Node size: 1<br>Summary statistic: 0",
                "Node ID: 12<br>Pullback set label: 0<br>Partial cluster label: -1<br>Node size: 17<br>Summary statistic: 0",
                "Node ID: 13<br>Pullback set label: 13<br>Partial cluster label: -1<br>Node size: 29<br>Summary statistic: 0",
                "Node ID: 14<br>Pullback set label: 19<br>Partial cluster label: -1<br>Node size: 2<br>Summary statistic: 0",
                "Node ID: 15<br>Pullback set label: 15<br>Partial cluster label: -1<br>Node size: 5<br>Summary statistic: 0",
                "Node ID: 16<br>Pullback set label: 11<br>Partial cluster label: -1<br>Node size: 14<br>Summary statistic: 0",
                "Node ID: 17<br>Pullback set label: 5<br>Partial cluster label: 0<br>Node size: 5<br>Summary statistic: 0",
                "Node ID: 18<br>Pullback set label: 14<br>Partial cluster label: -1<br>Node size: 6<br>Summary statistic: 0",
                "Node ID: 19<br>Pullback set label: 17<br>Partial cluster label: 0<br>Node size: 45<br>Summary statistic: 0",
                "Node ID: 20<br>Pullback set label: 18<br>Partial cluster label: 0<br>Node size: 6<br>Summary statistic: 0",
                "Node ID: 21<br>Pullback set label: 16<br>Partial cluster label: -1<br>Node size: 1<br>Summary statistic: 0",
                "Node ID: 22<br>Pullback set label: 16<br>Partial cluster label: 0<br>Node size: 5<br>Summary statistic: 0",
                "Node ID: 23<br>Pullback set label: 2<br>Partial cluster label: -1<br>Node size: 1<br>Summary statistic: 0",
                "Node ID: 24<br>Pullback set label: 16<br>Partial cluster label: 1<br>Node size: 26<br>Summary statistic: 0",
                "Node ID: 25<br>Pullback set label: 8<br>Partial cluster label: 1<br>Node size: 8<br>Summary statistic: 0",
                "Node ID: 26<br>Pullback set label: 9<br>Partial cluster label: 0<br>Node size: 8<br>Summary statistic: 0",
                "Node ID: 27<br>Pullback set label: 17<br>Partial cluster label: -1<br>Node size: 1<br>Summary statistic: 0",
                "Node ID: 28<br>Pullback set label: 1<br>Partial cluster label: 0<br>Node size: 20<br>Summary statistic: 0"
               ]
              ],
              "marker.color": [
               null,
               [
                0,
                0,
                0.013888888888888888,
                0.012345679012345678,
                0,
                0,
                0,
                0,
                0,
                0,
                0.05,
                0,
                0,
                0,
                0,
                0,
                0,
                0,
                0,
                0,
                0,
                0,
                0,
                0,
                0,
                0,
                0,
                0,
                0
               ]
              ]
             }
            ],
            "label": "11",
            "method": "restyle"
           },
           {
            "args": [
             {
              "hovertext": [
               null,
               [
                "Node ID: 0<br>Pullback set label: 5<br>Partial cluster label: -1<br>Node size: 34<br>Summary statistic: 0.039",
                "Node ID: 1<br>Pullback set label: 6<br>Partial cluster label: -1<br>Node size: 20<br>Summary statistic: 0.0538",
                "Node ID: 2<br>Pullback set label: 7<br>Partial cluster label: 0<br>Node size: 8<br>Summary statistic: 0.0356",
                "Node ID: 3<br>Pullback set label: 8<br>Partial cluster label: 0<br>Node size: 9<br>Summary statistic: 0.0388",
                "Node ID: 4<br>Pullback set label: 1<br>Partial cluster label: -1<br>Node size: 25<br>Summary statistic: 0.08",
                "Node ID: 5<br>Pullback set label: 7<br>Partial cluster label: -1<br>Node size: 11<br>Summary statistic: 0.0303",
                "Node ID: 6<br>Pullback set label: 8<br>Partial cluster label: -1<br>Node size: 46<br>Summary statistic: 0.036",
                "Node ID: 7<br>Pullback set label: 9<br>Partial cluster label: -1<br>Node size: 44<br>Summary statistic: 0.0337",
                "Node ID: 8<br>Pullback set label: 10<br>Partial cluster label: -1<br>Node size: 14<br>Summary statistic: 0.00549",
                "Node ID: 9<br>Pullback set label: 12<br>Partial cluster label: -1<br>Node size: 34<br>Summary statistic: 0",
                "Node ID: 10<br>Pullback set label: 3<br>Partial cluster label: -1<br>Node size: 5<br>Summary statistic: 0.025",
                "Node ID: 11<br>Pullback set label: 4<br>Partial cluster label: -1<br>Node size: 1<br>Summary statistic: 0",
                "Node ID: 12<br>Pullback set label: 0<br>Partial cluster label: -1<br>Node size: 17<br>Summary statistic: 0.0588",
                "Node ID: 13<br>Pullback set label: 13<br>Partial cluster label: -1<br>Node size: 29<br>Summary statistic: 0",
                "Node ID: 14<br>Pullback set label: 19<br>Partial cluster label: -1<br>Node size: 2<br>Summary statistic: 0",
                "Node ID: 15<br>Pullback set label: 15<br>Partial cluster label: -1<br>Node size: 5<br>Summary statistic: 0.0667",
                "Node ID: 16<br>Pullback set label: 11<br>Partial cluster label: -1<br>Node size: 14<br>Summary statistic: 0",
                "Node ID: 17<br>Pullback set label: 5<br>Partial cluster label: 0<br>Node size: 5<br>Summary statistic: 0",
                "Node ID: 18<br>Pullback set label: 14<br>Partial cluster label: -1<br>Node size: 6<br>Summary statistic: 0",
                "Node ID: 19<br>Pullback set label: 17<br>Partial cluster label: 0<br>Node size: 45<br>Summary statistic: 0",
                "Node ID: 20<br>Pullback set label: 18<br>Partial cluster label: 0<br>Node size: 6<br>Summary statistic: 0",
                "Node ID: 21<br>Pullback set label: 16<br>Partial cluster label: -1<br>Node size: 1<br>Summary statistic: 0",
                "Node ID: 22<br>Pullback set label: 16<br>Partial cluster label: 0<br>Node size: 5<br>Summary statistic: 0",
                "Node ID: 23<br>Pullback set label: 2<br>Partial cluster label: -1<br>Node size: 1<br>Summary statistic: 0",
                "Node ID: 24<br>Pullback set label: 16<br>Partial cluster label: 1<br>Node size: 26<br>Summary statistic: 0",
                "Node ID: 25<br>Pullback set label: 8<br>Partial cluster label: 1<br>Node size: 8<br>Summary statistic: 0",
                "Node ID: 26<br>Pullback set label: 9<br>Partial cluster label: 0<br>Node size: 8<br>Summary statistic: 0",
                "Node ID: 27<br>Pullback set label: 17<br>Partial cluster label: -1<br>Node size: 1<br>Summary statistic: 0",
                "Node ID: 28<br>Pullback set label: 1<br>Partial cluster label: 0<br>Node size: 20<br>Summary statistic: 0"
               ]
              ],
              "marker.color": [
               null,
               [
                0.03895712131006249,
                0.0538005778599838,
                0.03560923187907026,
                0.03878655839440153,
                0.08,
                0.0303030303030303,
                0.03595317725752508,
                0.03365384615384615,
                0.005494505494505495,
                0,
                0.025,
                0,
                0.058823529411764705,
                0,
                0,
                0.06666666666666667,
                0,
                0,
                0,
                0,
                0,
                0,
                0,
                0,
                0,
                0,
                0,
                0,
                0
               ]
              ]
             }
            ],
            "label": "12",
            "method": "restyle"
           },
           {
            "args": [
             {
              "hovertext": [
               null,
               [
                "Node ID: 0<br>Pullback set label: 5<br>Partial cluster label: -1<br>Node size: 34<br>Summary statistic: 0.00735",
                "Node ID: 1<br>Pullback set label: 6<br>Partial cluster label: -1<br>Node size: 20<br>Summary statistic: 0.0337",
                "Node ID: 2<br>Pullback set label: 7<br>Partial cluster label: 0<br>Node size: 8<br>Summary statistic: 0.0337",
                "Node ID: 3<br>Pullback set label: 8<br>Partial cluster label: 0<br>Node size: 9<br>Summary statistic: 0.0408",
                "Node ID: 4<br>Pullback set label: 1<br>Partial cluster label: -1<br>Node size: 25<br>Summary statistic: 0",
                "Node ID: 5<br>Pullback set label: 7<br>Partial cluster label: -1<br>Node size: 11<br>Summary statistic: 0.0357",
                "Node ID: 6<br>Pullback set label: 8<br>Partial cluster label: -1<br>Node size: 46<br>Summary statistic: 0.104",
                "Node ID: 7<br>Pullback set label: 9<br>Partial cluster label: -1<br>Node size: 44<br>Summary statistic: 0.113",
                "Node ID: 8<br>Pullback set label: 10<br>Partial cluster label: -1<br>Node size: 14<br>Summary statistic: 0.129",
                "Node ID: 9<br>Pullback set label: 12<br>Partial cluster label: -1<br>Node size: 34<br>Summary statistic: 0.144",
                "Node ID: 10<br>Pullback set label: 3<br>Partial cluster label: -1<br>Node size: 5<br>Summary statistic: 0",
                "Node ID: 11<br>Pullback set label: 4<br>Partial cluster label: -1<br>Node size: 1<br>Summary statistic: 0",
                "Node ID: 12<br>Pullback set label: 0<br>Partial cluster label: -1<br>Node size: 17<br>Summary statistic: 0",
                "Node ID: 13<br>Pullback set label: 13<br>Partial cluster label: -1<br>Node size: 29<br>Summary statistic: 0.123",
                "Node ID: 14<br>Pullback set label: 19<br>Partial cluster label: -1<br>Node size: 2<br>Summary statistic: 0",
                "Node ID: 15<br>Pullback set label: 15<br>Partial cluster label: -1<br>Node size: 5<br>Summary statistic: 0.167",
                "Node ID: 16<br>Pullback set label: 11<br>Partial cluster label: -1<br>Node size: 14<br>Summary statistic: 0.232",
                "Node ID: 17<br>Pullback set label: 5<br>Partial cluster label: 0<br>Node size: 5<br>Summary statistic: 0",
                "Node ID: 18<br>Pullback set label: 14<br>Partial cluster label: -1<br>Node size: 6<br>Summary statistic: 0.144",
                "Node ID: 19<br>Pullback set label: 17<br>Partial cluster label: 0<br>Node size: 45<br>Summary statistic: 0",
                "Node ID: 20<br>Pullback set label: 18<br>Partial cluster label: 0<br>Node size: 6<br>Summary statistic: 0",
                "Node ID: 21<br>Pullback set label: 16<br>Partial cluster label: -1<br>Node size: 1<br>Summary statistic: 0",
                "Node ID: 22<br>Pullback set label: 16<br>Partial cluster label: 0<br>Node size: 5<br>Summary statistic: 0",
                "Node ID: 23<br>Pullback set label: 2<br>Partial cluster label: -1<br>Node size: 1<br>Summary statistic: 0",
                "Node ID: 24<br>Pullback set label: 16<br>Partial cluster label: 1<br>Node size: 26<br>Summary statistic: 0",
                "Node ID: 25<br>Pullback set label: 8<br>Partial cluster label: 1<br>Node size: 8<br>Summary statistic: 1.0",
                "Node ID: 26<br>Pullback set label: 9<br>Partial cluster label: 0<br>Node size: 8<br>Summary statistic: 1.0",
                "Node ID: 27<br>Pullback set label: 17<br>Partial cluster label: -1<br>Node size: 1<br>Summary statistic: 1.0",
                "Node ID: 28<br>Pullback set label: 1<br>Partial cluster label: 0<br>Node size: 20<br>Summary statistic: 0"
               ]
              ],
              "marker.color": [
               null,
               [
                0.007352941176470588,
                0.033724265283671215,
                0.03372271969844043,
                0.04081336238198983,
                0,
                0.03571428571428571,
                0.10413680522376174,
                0.11328671328671329,
                0.12884615384615383,
                0.14411764705882354,
                0,
                0,
                0,
                0.12298850574712643,
                0,
                0.16666666666666666,
                0.23214285714285715,
                0,
                0.14444444444444446,
                0,
                0,
                0,
                0,
                0,
                0,
                1,
                1,
                1,
                0
               ]
              ]
             }
            ],
            "label": "13",
            "method": "restyle"
           },
           {
            "args": [
             {
              "hovertext": [
               null,
               [
                "Node ID: 0<br>Pullback set label: 5<br>Partial cluster label: -1<br>Node size: 34<br>Summary statistic: 0.0749",
                "Node ID: 1<br>Pullback set label: 6<br>Partial cluster label: -1<br>Node size: 20<br>Summary statistic: 0.00317",
                "Node ID: 2<br>Pullback set label: 7<br>Partial cluster label: 0<br>Node size: 8<br>Summary statistic: 0.0222",
                "Node ID: 3<br>Pullback set label: 8<br>Partial cluster label: 0<br>Node size: 9<br>Summary statistic: 0.0123",
                "Node ID: 4<br>Pullback set label: 1<br>Partial cluster label: -1<br>Node size: 25<br>Summary statistic: 0.02",
                "Node ID: 5<br>Pullback set label: 7<br>Partial cluster label: -1<br>Node size: 11<br>Summary statistic: 0",
                "Node ID: 6<br>Pullback set label: 8<br>Partial cluster label: -1<br>Node size: 46<br>Summary statistic: 0.00362",
                "Node ID: 7<br>Pullback set label: 9<br>Partial cluster label: -1<br>Node size: 44<br>Summary statistic: 0.00606",
                "Node ID: 8<br>Pullback set label: 10<br>Partial cluster label: -1<br>Node size: 14<br>Summary statistic: 0.00714",
                "Node ID: 9<br>Pullback set label: 12<br>Partial cluster label: -1<br>Node size: 34<br>Summary statistic: 0.0098",
                "Node ID: 10<br>Pullback set label: 3<br>Partial cluster label: -1<br>Node size: 5<br>Summary statistic: 0",
                "Node ID: 11<br>Pullback set label: 4<br>Partial cluster label: -1<br>Node size: 1<br>Summary statistic: 0",
                "Node ID: 12<br>Pullback set label: 0<br>Partial cluster label: -1<br>Node size: 17<br>Summary statistic: 0",
                "Node ID: 13<br>Pullback set label: 13<br>Partial cluster label: -1<br>Node size: 29<br>Summary statistic: 0",
                "Node ID: 14<br>Pullback set label: 19<br>Partial cluster label: -1<br>Node size: 2<br>Summary statistic: 0",
                "Node ID: 15<br>Pullback set label: 15<br>Partial cluster label: -1<br>Node size: 5<br>Summary statistic: 0",
                "Node ID: 16<br>Pullback set label: 11<br>Partial cluster label: -1<br>Node size: 14<br>Summary statistic: 0.0238",
                "Node ID: 17<br>Pullback set label: 5<br>Partial cluster label: 0<br>Node size: 5<br>Summary statistic: 0",
                "Node ID: 18<br>Pullback set label: 14<br>Partial cluster label: -1<br>Node size: 6<br>Summary statistic: 0",
                "Node ID: 19<br>Pullback set label: 17<br>Partial cluster label: 0<br>Node size: 45<br>Summary statistic: 0",
                "Node ID: 20<br>Pullback set label: 18<br>Partial cluster label: 0<br>Node size: 6<br>Summary statistic: 0",
                "Node ID: 21<br>Pullback set label: 16<br>Partial cluster label: -1<br>Node size: 1<br>Summary statistic: 0",
                "Node ID: 22<br>Pullback set label: 16<br>Partial cluster label: 0<br>Node size: 5<br>Summary statistic: 0",
                "Node ID: 23<br>Pullback set label: 2<br>Partial cluster label: -1<br>Node size: 1<br>Summary statistic: 0",
                "Node ID: 24<br>Pullback set label: 16<br>Partial cluster label: 1<br>Node size: 26<br>Summary statistic: 0",
                "Node ID: 25<br>Pullback set label: 8<br>Partial cluster label: 1<br>Node size: 8<br>Summary statistic: 0",
                "Node ID: 26<br>Pullback set label: 9<br>Partial cluster label: 0<br>Node size: 8<br>Summary statistic: 0",
                "Node ID: 27<br>Pullback set label: 17<br>Partial cluster label: -1<br>Node size: 1<br>Summary statistic: 0",
                "Node ID: 28<br>Pullback set label: 1<br>Partial cluster label: 0<br>Node size: 20<br>Summary statistic: 0"
               ]
              ],
              "marker.color": [
               null,
               [
                0.07492997198879552,
                0.0031746031746031746,
                0.02222222222222222,
                0.012345679012345678,
                0.02,
                0,
                0.003623188405797101,
                0.006060606060606061,
                0.0071428571428571435,
                0.00980392156862745,
                0,
                0,
                0,
                0,
                0,
                0,
                0.023809523809523808,
                0,
                0,
                0,
                0,
                0,
                0,
                0,
                0,
                0,
                0,
                0,
                0
               ]
              ]
             }
            ],
            "label": "14",
            "method": "restyle"
           },
           {
            "args": [
             {
              "hovertext": [
               null,
               [
                "Node ID: 0<br>Pullback set label: 5<br>Partial cluster label: -1<br>Node size: 34<br>Summary statistic: 0",
                "Node ID: 1<br>Pullback set label: 6<br>Partial cluster label: -1<br>Node size: 20<br>Summary statistic: 0.000397",
                "Node ID: 2<br>Pullback set label: 7<br>Partial cluster label: 0<br>Node size: 8<br>Summary statistic: 0",
                "Node ID: 3<br>Pullback set label: 8<br>Partial cluster label: 0<br>Node size: 9<br>Summary statistic: 0.0037",
                "Node ID: 4<br>Pullback set label: 1<br>Partial cluster label: -1<br>Node size: 25<br>Summary statistic: 0",
                "Node ID: 5<br>Pullback set label: 7<br>Partial cluster label: -1<br>Node size: 11<br>Summary statistic: 0",
                "Node ID: 6<br>Pullback set label: 8<br>Partial cluster label: -1<br>Node size: 46<br>Summary statistic: 0",
                "Node ID: 7<br>Pullback set label: 9<br>Partial cluster label: -1<br>Node size: 44<br>Summary statistic: 0",
                "Node ID: 8<br>Pullback set label: 10<br>Partial cluster label: -1<br>Node size: 14<br>Summary statistic: 0",
                "Node ID: 9<br>Pullback set label: 12<br>Partial cluster label: -1<br>Node size: 34<br>Summary statistic: 0",
                "Node ID: 10<br>Pullback set label: 3<br>Partial cluster label: -1<br>Node size: 5<br>Summary statistic: 0",
                "Node ID: 11<br>Pullback set label: 4<br>Partial cluster label: -1<br>Node size: 1<br>Summary statistic: 0",
                "Node ID: 12<br>Pullback set label: 0<br>Partial cluster label: -1<br>Node size: 17<br>Summary statistic: 0",
                "Node ID: 13<br>Pullback set label: 13<br>Partial cluster label: -1<br>Node size: 29<br>Summary statistic: 0",
                "Node ID: 14<br>Pullback set label: 19<br>Partial cluster label: -1<br>Node size: 2<br>Summary statistic: 0",
                "Node ID: 15<br>Pullback set label: 15<br>Partial cluster label: -1<br>Node size: 5<br>Summary statistic: 0",
                "Node ID: 16<br>Pullback set label: 11<br>Partial cluster label: -1<br>Node size: 14<br>Summary statistic: 0",
                "Node ID: 17<br>Pullback set label: 5<br>Partial cluster label: 0<br>Node size: 5<br>Summary statistic: 0",
                "Node ID: 18<br>Pullback set label: 14<br>Partial cluster label: -1<br>Node size: 6<br>Summary statistic: 0",
                "Node ID: 19<br>Pullback set label: 17<br>Partial cluster label: 0<br>Node size: 45<br>Summary statistic: 0",
                "Node ID: 20<br>Pullback set label: 18<br>Partial cluster label: 0<br>Node size: 6<br>Summary statistic: 0",
                "Node ID: 21<br>Pullback set label: 16<br>Partial cluster label: -1<br>Node size: 1<br>Summary statistic: 0",
                "Node ID: 22<br>Pullback set label: 16<br>Partial cluster label: 0<br>Node size: 5<br>Summary statistic: 0",
                "Node ID: 23<br>Pullback set label: 2<br>Partial cluster label: -1<br>Node size: 1<br>Summary statistic: 0",
                "Node ID: 24<br>Pullback set label: 16<br>Partial cluster label: 1<br>Node size: 26<br>Summary statistic: 0",
                "Node ID: 25<br>Pullback set label: 8<br>Partial cluster label: 1<br>Node size: 8<br>Summary statistic: 0",
                "Node ID: 26<br>Pullback set label: 9<br>Partial cluster label: 0<br>Node size: 8<br>Summary statistic: 0",
                "Node ID: 27<br>Pullback set label: 17<br>Partial cluster label: -1<br>Node size: 1<br>Summary statistic: 0",
                "Node ID: 28<br>Pullback set label: 1<br>Partial cluster label: 0<br>Node size: 20<br>Summary statistic: 0"
               ]
              ],
              "marker.color": [
               null,
               [
                0,
                0.0003968253968253968,
                0,
                0.003703703703703704,
                0,
                0,
                0,
                0,
                0,
                0,
                0,
                0,
                0,
                0,
                0,
                0,
                0,
                0,
                0,
                0,
                0,
                0,
                0,
                0,
                0,
                0,
                0,
                0,
                0
               ]
              ]
             }
            ],
            "label": "15",
            "method": "restyle"
           },
           {
            "args": [
             {
              "hovertext": [
               null,
               [
                "Node ID: 0<br>Pullback set label: 5<br>Partial cluster label: -1<br>Node size: 34<br>Summary statistic: 0.0532",
                "Node ID: 1<br>Pullback set label: 6<br>Partial cluster label: -1<br>Node size: 20<br>Summary statistic: 0.0468",
                "Node ID: 2<br>Pullback set label: 7<br>Partial cluster label: 0<br>Node size: 8<br>Summary statistic: 0.0424",
                "Node ID: 3<br>Pullback set label: 8<br>Partial cluster label: 0<br>Node size: 9<br>Summary statistic: 0.0582",
                "Node ID: 4<br>Pullback set label: 1<br>Partial cluster label: -1<br>Node size: 25<br>Summary statistic: 0.12",
                "Node ID: 5<br>Pullback set label: 7<br>Partial cluster label: -1<br>Node size: 11<br>Summary statistic: 0.026",
                "Node ID: 6<br>Pullback set label: 8<br>Partial cluster label: -1<br>Node size: 46<br>Summary statistic: 0.0419",
                "Node ID: 7<br>Pullback set label: 9<br>Partial cluster label: -1<br>Node size: 44<br>Summary statistic: 0.0387",
                "Node ID: 8<br>Pullback set label: 10<br>Partial cluster label: -1<br>Node size: 14<br>Summary statistic: 0.145",
                "Node ID: 9<br>Pullback set label: 12<br>Partial cluster label: -1<br>Node size: 34<br>Summary statistic: 0.12",
                "Node ID: 10<br>Pullback set label: 3<br>Partial cluster label: -1<br>Node size: 5<br>Summary statistic: 0.025",
                "Node ID: 11<br>Pullback set label: 4<br>Partial cluster label: -1<br>Node size: 1<br>Summary statistic: 0",
                "Node ID: 12<br>Pullback set label: 0<br>Partial cluster label: -1<br>Node size: 17<br>Summary statistic: 0.0588",
                "Node ID: 13<br>Pullback set label: 13<br>Partial cluster label: -1<br>Node size: 29<br>Summary statistic: 0.128",
                "Node ID: 14<br>Pullback set label: 19<br>Partial cluster label: -1<br>Node size: 2<br>Summary statistic: 0",
                "Node ID: 15<br>Pullback set label: 15<br>Partial cluster label: -1<br>Node size: 5<br>Summary statistic: 0.367",
                "Node ID: 16<br>Pullback set label: 11<br>Partial cluster label: -1<br>Node size: 14<br>Summary statistic: 0.138",
                "Node ID: 17<br>Pullback set label: 5<br>Partial cluster label: 0<br>Node size: 5<br>Summary statistic: 0",
                "Node ID: 18<br>Pullback set label: 14<br>Partial cluster label: -1<br>Node size: 6<br>Summary statistic: 0.344",
                "Node ID: 19<br>Pullback set label: 17<br>Partial cluster label: 0<br>Node size: 45<br>Summary statistic: 1.0",
                "Node ID: 20<br>Pullback set label: 18<br>Partial cluster label: 0<br>Node size: 6<br>Summary statistic: 0",
                "Node ID: 21<br>Pullback set label: 16<br>Partial cluster label: -1<br>Node size: 1<br>Summary statistic: 0.333",
                "Node ID: 22<br>Pullback set label: 16<br>Partial cluster label: 0<br>Node size: 5<br>Summary statistic: 0",
                "Node ID: 23<br>Pullback set label: 2<br>Partial cluster label: -1<br>Node size: 1<br>Summary statistic: 0",
                "Node ID: 24<br>Pullback set label: 16<br>Partial cluster label: 1<br>Node size: 26<br>Summary statistic: 0",
                "Node ID: 25<br>Pullback set label: 8<br>Partial cluster label: 1<br>Node size: 8<br>Summary statistic: 0",
                "Node ID: 26<br>Pullback set label: 9<br>Partial cluster label: 0<br>Node size: 8<br>Summary statistic: 0",
                "Node ID: 27<br>Pullback set label: 17<br>Partial cluster label: -1<br>Node size: 1<br>Summary statistic: 0",
                "Node ID: 28<br>Pullback set label: 1<br>Partial cluster label: 0<br>Node size: 20<br>Summary statistic: 0"
               ]
              ],
              "marker.color": [
               null,
               [
                0.053242835595776764,
                0.04683530990461684,
                0.0423921987787014,
                0.05815578756755227,
                0.12,
                0.025974025974025972,
                0.041941391941391945,
                0.03872377622377623,
                0.14478021978021977,
                0.12009803921568626,
                0.025,
                0,
                0.058823529411764705,
                0.12758620689655173,
                0,
                0.36666666666666664,
                0.13809523809523808,
                0,
                0.3444444444444444,
                1,
                0,
                0.3333333333333333,
                0,
                0,
                0,
                0,
                0,
                0,
                0
               ]
              ]
             }
            ],
            "label": "16",
            "method": "restyle"
           },
           {
            "args": [
             {
              "hovertext": [
               null,
               [
                "Node ID: 0<br>Pullback set label: 5<br>Partial cluster label: -1<br>Node size: 34<br>Summary statistic: 0.0353",
                "Node ID: 1<br>Pullback set label: 6<br>Partial cluster label: -1<br>Node size: 20<br>Summary statistic: 0.0271",
                "Node ID: 2<br>Pullback set label: 7<br>Partial cluster label: 0<br>Node size: 8<br>Summary statistic: 0.00407",
                "Node ID: 3<br>Pullback set label: 8<br>Partial cluster label: 0<br>Node size: 9<br>Summary statistic: 0.00131",
                "Node ID: 4<br>Pullback set label: 1<br>Partial cluster label: -1<br>Node size: 25<br>Summary statistic: 0",
                "Node ID: 5<br>Pullback set label: 7<br>Partial cluster label: -1<br>Node size: 11<br>Summary statistic: 0",
                "Node ID: 6<br>Pullback set label: 8<br>Partial cluster label: -1<br>Node size: 46<br>Summary statistic: 0.0344",
                "Node ID: 7<br>Pullback set label: 9<br>Partial cluster label: -1<br>Node size: 44<br>Summary statistic: 0.036",
                "Node ID: 8<br>Pullback set label: 10<br>Partial cluster label: -1<br>Node size: 14<br>Summary statistic: 0",
                "Node ID: 9<br>Pullback set label: 12<br>Partial cluster label: -1<br>Node size: 34<br>Summary statistic: 0",
                "Node ID: 10<br>Pullback set label: 3<br>Partial cluster label: -1<br>Node size: 5<br>Summary statistic: 0",
                "Node ID: 11<br>Pullback set label: 4<br>Partial cluster label: -1<br>Node size: 1<br>Summary statistic: 0",
                "Node ID: 12<br>Pullback set label: 0<br>Partial cluster label: -1<br>Node size: 17<br>Summary statistic: 0",
                "Node ID: 13<br>Pullback set label: 13<br>Partial cluster label: -1<br>Node size: 29<br>Summary statistic: 0",
                "Node ID: 14<br>Pullback set label: 19<br>Partial cluster label: -1<br>Node size: 2<br>Summary statistic: 0",
                "Node ID: 15<br>Pullback set label: 15<br>Partial cluster label: -1<br>Node size: 5<br>Summary statistic: 0",
                "Node ID: 16<br>Pullback set label: 11<br>Partial cluster label: -1<br>Node size: 14<br>Summary statistic: 0",
                "Node ID: 17<br>Pullback set label: 5<br>Partial cluster label: 0<br>Node size: 5<br>Summary statistic: 0",
                "Node ID: 18<br>Pullback set label: 14<br>Partial cluster label: -1<br>Node size: 6<br>Summary statistic: 0",
                "Node ID: 19<br>Pullback set label: 17<br>Partial cluster label: 0<br>Node size: 45<br>Summary statistic: 0",
                "Node ID: 20<br>Pullback set label: 18<br>Partial cluster label: 0<br>Node size: 6<br>Summary statistic: 0",
                "Node ID: 21<br>Pullback set label: 16<br>Partial cluster label: -1<br>Node size: 1<br>Summary statistic: 0",
                "Node ID: 22<br>Pullback set label: 16<br>Partial cluster label: 0<br>Node size: 5<br>Summary statistic: 0",
                "Node ID: 23<br>Pullback set label: 2<br>Partial cluster label: -1<br>Node size: 1<br>Summary statistic: 0",
                "Node ID: 24<br>Pullback set label: 16<br>Partial cluster label: 1<br>Node size: 26<br>Summary statistic: 0",
                "Node ID: 25<br>Pullback set label: 8<br>Partial cluster label: 1<br>Node size: 8<br>Summary statistic: 0",
                "Node ID: 26<br>Pullback set label: 9<br>Partial cluster label: 0<br>Node size: 8<br>Summary statistic: 0",
                "Node ID: 27<br>Pullback set label: 17<br>Partial cluster label: -1<br>Node size: 1<br>Summary statistic: 0",
                "Node ID: 28<br>Pullback set label: 1<br>Partial cluster label: 0<br>Node size: 20<br>Summary statistic: 0"
               ]
              ],
              "marker.color": [
               null,
               [
                0.03529411764705882,
                0.027063492063492067,
                0.004074754901960784,
                0.00130718954248366,
                0,
                0,
                0.034420289855072464,
                0.03598484848484848,
                0,
                0,
                0,
                0,
                0,
                0,
                0,
                0,
                0,
                0,
                0,
                0,
                0,
                0,
                0,
                0,
                0,
                0,
                0,
                0,
                0
               ]
              ]
             }
            ],
            "label": "17",
            "method": "restyle"
           },
           {
            "args": [
             {
              "hovertext": [
               null,
               [
                "Node ID: 0<br>Pullback set label: 5<br>Partial cluster label: -1<br>Node size: 34<br>Summary statistic: 0.161",
                "Node ID: 1<br>Pullback set label: 6<br>Partial cluster label: -1<br>Node size: 20<br>Summary statistic: 0.171",
                "Node ID: 2<br>Pullback set label: 7<br>Partial cluster label: 0<br>Node size: 8<br>Summary statistic: 0.13",
                "Node ID: 3<br>Pullback set label: 8<br>Partial cluster label: 0<br>Node size: 9<br>Summary statistic: 0.117",
                "Node ID: 4<br>Pullback set label: 1<br>Partial cluster label: -1<br>Node size: 25<br>Summary statistic: 0",
                "Node ID: 5<br>Pullback set label: 7<br>Partial cluster label: -1<br>Node size: 11<br>Summary statistic: 0.162",
                "Node ID: 6<br>Pullback set label: 8<br>Partial cluster label: -1<br>Node size: 46<br>Summary statistic: 0.242",
                "Node ID: 7<br>Pullback set label: 9<br>Partial cluster label: -1<br>Node size: 44<br>Summary statistic: 0.257",
                "Node ID: 8<br>Pullback set label: 10<br>Partial cluster label: -1<br>Node size: 14<br>Summary statistic: 0.203",
                "Node ID: 9<br>Pullback set label: 12<br>Partial cluster label: -1<br>Node size: 34<br>Summary statistic: 0.259",
                "Node ID: 10<br>Pullback set label: 3<br>Partial cluster label: -1<br>Node size: 5<br>Summary statistic: 0.0917",
                "Node ID: 11<br>Pullback set label: 4<br>Partial cluster label: -1<br>Node size: 1<br>Summary statistic: 0.333",
                "Node ID: 12<br>Pullback set label: 0<br>Partial cluster label: -1<br>Node size: 17<br>Summary statistic: 0",
                "Node ID: 13<br>Pullback set label: 13<br>Partial cluster label: -1<br>Node size: 29<br>Summary statistic: 0.259",
                "Node ID: 14<br>Pullback set label: 19<br>Partial cluster label: -1<br>Node size: 2<br>Summary statistic: 1.0",
                "Node ID: 15<br>Pullback set label: 15<br>Partial cluster label: -1<br>Node size: 5<br>Summary statistic: 0.5",
                "Node ID: 16<br>Pullback set label: 11<br>Partial cluster label: -1<br>Node size: 14<br>Summary statistic: 0.207",
                "Node ID: 17<br>Pullback set label: 5<br>Partial cluster label: 0<br>Node size: 5<br>Summary statistic: 0",
                "Node ID: 18<br>Pullback set label: 14<br>Partial cluster label: -1<br>Node size: 6<br>Summary statistic: 0.406",
                "Node ID: 19<br>Pullback set label: 17<br>Partial cluster label: 0<br>Node size: 45<br>Summary statistic: 1.0",
                "Node ID: 20<br>Pullback set label: 18<br>Partial cluster label: 0<br>Node size: 6<br>Summary statistic: 1.0",
                "Node ID: 21<br>Pullback set label: 16<br>Partial cluster label: -1<br>Node size: 1<br>Summary statistic: 0.333",
                "Node ID: 22<br>Pullback set label: 16<br>Partial cluster label: 0<br>Node size: 5<br>Summary statistic: 0",
                "Node ID: 23<br>Pullback set label: 2<br>Partial cluster label: -1<br>Node size: 1<br>Summary statistic: 0",
                "Node ID: 24<br>Pullback set label: 16<br>Partial cluster label: 1<br>Node size: 26<br>Summary statistic: 0",
                "Node ID: 25<br>Pullback set label: 8<br>Partial cluster label: 1<br>Node size: 8<br>Summary statistic: 0",
                "Node ID: 26<br>Pullback set label: 9<br>Partial cluster label: 0<br>Node size: 8<br>Summary statistic: 0",
                "Node ID: 27<br>Pullback set label: 17<br>Partial cluster label: -1<br>Node size: 1<br>Summary statistic: 0",
                "Node ID: 28<br>Pullback set label: 1<br>Partial cluster label: 0<br>Node size: 20<br>Summary statistic: 0"
               ]
              ],
              "marker.color": [
               null,
               [
                0.1613176039646628,
                0.1713749259541339,
                0.1298634826717966,
                0.11664214507351763,
                0,
                0.16233766233766234,
                0.241662685140946,
                0.2572261072261072,
                0.20265567765567766,
                0.25931372549019605,
                0.09166666666666666,
                0.3333333333333333,
                0,
                0.25919540229885063,
                1,
                0.5,
                0.20714285714285713,
                0,
                0.4055555555555555,
                1,
                1,
                0.3333333333333333,
                0,
                0,
                0,
                0,
                0,
                0,
                0
               ]
              ]
             }
            ],
            "label": "18",
            "method": "restyle"
           },
           {
            "args": [
             {
              "hovertext": [
               null,
               [
                "Node ID: 0<br>Pullback set label: 5<br>Partial cluster label: -1<br>Node size: 34<br>Summary statistic: 0.501",
                "Node ID: 1<br>Pullback set label: 6<br>Partial cluster label: -1<br>Node size: 20<br>Summary statistic: 0.276",
                "Node ID: 2<br>Pullback set label: 7<br>Partial cluster label: 0<br>Node size: 8<br>Summary statistic: 0.438",
                "Node ID: 3<br>Pullback set label: 8<br>Partial cluster label: 0<br>Node size: 9<br>Summary statistic: 0.442",
                "Node ID: 4<br>Pullback set label: 1<br>Partial cluster label: -1<br>Node size: 25<br>Summary statistic: 0.1",
                "Node ID: 5<br>Pullback set label: 7<br>Partial cluster label: -1<br>Node size: 11<br>Summary statistic: 0.344",
                "Node ID: 6<br>Pullback set label: 8<br>Partial cluster label: -1<br>Node size: 46<br>Summary statistic: 0.304",
                "Node ID: 7<br>Pullback set label: 9<br>Partial cluster label: -1<br>Node size: 44<br>Summary statistic: 0.309",
                "Node ID: 8<br>Pullback set label: 10<br>Partial cluster label: -1<br>Node size: 14<br>Summary statistic: 0.433",
                "Node ID: 9<br>Pullback set label: 12<br>Partial cluster label: -1<br>Node size: 34<br>Summary statistic: 0.596",
                "Node ID: 10<br>Pullback set label: 3<br>Partial cluster label: -1<br>Node size: 5<br>Summary statistic: 0.025",
                "Node ID: 11<br>Pullback set label: 4<br>Partial cluster label: -1<br>Node size: 1<br>Summary statistic: 0",
                "Node ID: 12<br>Pullback set label: 0<br>Partial cluster label: -1<br>Node size: 17<br>Summary statistic: 0.176",
                "Node ID: 13<br>Pullback set label: 13<br>Partial cluster label: -1<br>Node size: 29<br>Summary statistic: 0.676",
                "Node ID: 14<br>Pullback set label: 19<br>Partial cluster label: -1<br>Node size: 2<br>Summary statistic: 1.0",
                "Node ID: 15<br>Pullback set label: 15<br>Partial cluster label: -1<br>Node size: 5<br>Summary statistic: 0.433",
                "Node ID: 16<br>Pullback set label: 11<br>Partial cluster label: -1<br>Node size: 14<br>Summary statistic: 0.337",
                "Node ID: 17<br>Pullback set label: 5<br>Partial cluster label: 0<br>Node size: 5<br>Summary statistic: 0",
                "Node ID: 18<br>Pullback set label: 14<br>Partial cluster label: -1<br>Node size: 6<br>Summary statistic: 0.461",
                "Node ID: 19<br>Pullback set label: 17<br>Partial cluster label: 0<br>Node size: 45<br>Summary statistic: 0",
                "Node ID: 20<br>Pullback set label: 18<br>Partial cluster label: 0<br>Node size: 6<br>Summary statistic: 0",
                "Node ID: 21<br>Pullback set label: 16<br>Partial cluster label: -1<br>Node size: 1<br>Summary statistic: 0.667",
                "Node ID: 22<br>Pullback set label: 16<br>Partial cluster label: 0<br>Node size: 5<br>Summary statistic: 1.0",
                "Node ID: 23<br>Pullback set label: 2<br>Partial cluster label: -1<br>Node size: 1<br>Summary statistic: 0",
                "Node ID: 24<br>Pullback set label: 16<br>Partial cluster label: 1<br>Node size: 26<br>Summary statistic: 1.0",
                "Node ID: 25<br>Pullback set label: 8<br>Partial cluster label: 1<br>Node size: 8<br>Summary statistic: 0",
                "Node ID: 26<br>Pullback set label: 9<br>Partial cluster label: 0<br>Node size: 8<br>Summary statistic: 0",
                "Node ID: 27<br>Pullback set label: 17<br>Partial cluster label: -1<br>Node size: 1<br>Summary statistic: 0",
                "Node ID: 28<br>Pullback set label: 1<br>Partial cluster label: 0<br>Node size: 20<br>Summary statistic: 0"
               ]
              ],
              "marker.color": [
               null,
               [
                0.5008349493643611,
                0.27580570969184826,
                0.43758699399351697,
                0.44174093879976234,
                0.1,
                0.34415584415584416,
                0.3041208791208791,
                0.30859557109557106,
                0.43269230769230765,
                0.596078431372549,
                0.025,
                0,
                0.17647058823529413,
                0.6758620689655173,
                1,
                0.4333333333333333,
                0.33690476190476193,
                0,
                0.4611111111111111,
                0,
                0,
                0.6666666666666666,
                1,
                0,
                1,
                0,
                0,
                0,
                0
               ]
              ]
             }
            ],
            "label": "19",
            "method": "restyle"
           },
           {
            "args": [
             {
              "hovertext": [
               null,
               [
                "Node ID: 0<br>Pullback set label: 5<br>Partial cluster label: -1<br>Node size: 34<br>Summary statistic: 0.133",
                "Node ID: 1<br>Pullback set label: 6<br>Partial cluster label: -1<br>Node size: 20<br>Summary statistic: 0.0876",
                "Node ID: 2<br>Pullback set label: 7<br>Partial cluster label: 0<br>Node size: 8<br>Summary statistic: 0.106",
                "Node ID: 3<br>Pullback set label: 8<br>Partial cluster label: 0<br>Node size: 9<br>Summary statistic: 0.133",
                "Node ID: 4<br>Pullback set label: 1<br>Partial cluster label: -1<br>Node size: 25<br>Summary statistic: 0.04",
                "Node ID: 5<br>Pullback set label: 7<br>Partial cluster label: -1<br>Node size: 11<br>Summary statistic: 0.0985",
                "Node ID: 6<br>Pullback set label: 8<br>Partial cluster label: -1<br>Node size: 46<br>Summary statistic: 0.154",
                "Node ID: 7<br>Pullback set label: 9<br>Partial cluster label: -1<br>Node size: 44<br>Summary statistic: 0.163",
                "Node ID: 8<br>Pullback set label: 10<br>Partial cluster label: -1<br>Node size: 14<br>Summary statistic: 0.191",
                "Node ID: 9<br>Pullback set label: 12<br>Partial cluster label: -1<br>Node size: 34<br>Summary statistic: 0.183",
                "Node ID: 10<br>Pullback set label: 3<br>Partial cluster label: -1<br>Node size: 5<br>Summary statistic: 0.0667",
                "Node ID: 11<br>Pullback set label: 4<br>Partial cluster label: -1<br>Node size: 1<br>Summary statistic: 0.333",
                "Node ID: 12<br>Pullback set label: 0<br>Partial cluster label: -1<br>Node size: 17<br>Summary statistic: 0",
                "Node ID: 13<br>Pullback set label: 13<br>Partial cluster label: -1<br>Node size: 29<br>Summary statistic: 0.175",
                "Node ID: 14<br>Pullback set label: 19<br>Partial cluster label: -1<br>Node size: 2<br>Summary statistic: 0",
                "Node ID: 15<br>Pullback set label: 15<br>Partial cluster label: -1<br>Node size: 5<br>Summary statistic: 0",
                "Node ID: 16<br>Pullback set label: 11<br>Partial cluster label: -1<br>Node size: 14<br>Summary statistic: 0.204",
                "Node ID: 17<br>Pullback set label: 5<br>Partial cluster label: 0<br>Node size: 5<br>Summary statistic: 0",
                "Node ID: 18<br>Pullback set label: 14<br>Partial cluster label: -1<br>Node size: 6<br>Summary statistic: 0.0944",
                "Node ID: 19<br>Pullback set label: 17<br>Partial cluster label: 0<br>Node size: 45<br>Summary statistic: 0",
                "Node ID: 20<br>Pullback set label: 18<br>Partial cluster label: 0<br>Node size: 6<br>Summary statistic: 0",
                "Node ID: 21<br>Pullback set label: 16<br>Partial cluster label: -1<br>Node size: 1<br>Summary statistic: 0.333",
                "Node ID: 22<br>Pullback set label: 16<br>Partial cluster label: 0<br>Node size: 5<br>Summary statistic: 0",
                "Node ID: 23<br>Pullback set label: 2<br>Partial cluster label: -1<br>Node size: 1<br>Summary statistic: 0",
                "Node ID: 24<br>Pullback set label: 16<br>Partial cluster label: 1<br>Node size: 26<br>Summary statistic: 0",
                "Node ID: 25<br>Pullback set label: 8<br>Partial cluster label: 1<br>Node size: 8<br>Summary statistic: 0",
                "Node ID: 26<br>Pullback set label: 9<br>Partial cluster label: 0<br>Node size: 8<br>Summary statistic: 0",
                "Node ID: 27<br>Pullback set label: 17<br>Partial cluster label: -1<br>Node size: 1<br>Summary statistic: 1.0",
                "Node ID: 28<br>Pullback set label: 1<br>Partial cluster label: 0<br>Node size: 20<br>Summary statistic: 1.0"
               ]
              ],
              "marker.color": [
               null,
               [
                0.1334949364361129,
                0.08764389076270264,
                0.1058821966755499,
                0.13305463599581246,
                0.04,
                0.09848484848484848,
                0.15370680044593088,
                0.16305361305361304,
                0.19075091575091577,
                0.18333333333333335,
                0.06666666666666667,
                0.3333333333333333,
                0,
                0.17471264367816092,
                0,
                0,
                0.20357142857142857,
                0,
                0.09444444444444444,
                0,
                0,
                0.3333333333333333,
                0,
                0,
                0,
                0,
                0,
                1,
                1
               ]
              ]
             }
            ],
            "label": "20",
            "method": "restyle"
           },
           {
            "args": [
             {
              "hovertext": [
               null,
               [
                "Node ID: 0<br>Pullback set label: 5<br>Partial cluster label: -1<br>Node size: 34<br>Summary statistic: 0.0488",
                "Node ID: 1<br>Pullback set label: 6<br>Partial cluster label: -1<br>Node size: 20<br>Summary statistic: 0.139",
                "Node ID: 2<br>Pullback set label: 7<br>Partial cluster label: 0<br>Node size: 8<br>Summary statistic: 0.176",
                "Node ID: 3<br>Pullback set label: 8<br>Partial cluster label: 0<br>Node size: 9<br>Summary statistic: 0.171",
                "Node ID: 4<br>Pullback set label: 1<br>Partial cluster label: -1<br>Node size: 25<br>Summary statistic: 0",
                "Node ID: 5<br>Pullback set label: 7<br>Partial cluster label: -1<br>Node size: 11<br>Summary statistic: 0.117",
                "Node ID: 6<br>Pullback set label: 8<br>Partial cluster label: -1<br>Node size: 46<br>Summary statistic: 0.231",
                "Node ID: 7<br>Pullback set label: 9<br>Partial cluster label: -1<br>Node size: 44<br>Summary statistic: 0.237",
                "Node ID: 8<br>Pullback set label: 10<br>Partial cluster label: -1<br>Node size: 14<br>Summary statistic: 0.174",
                "Node ID: 9<br>Pullback set label: 12<br>Partial cluster label: -1<br>Node size: 34<br>Summary statistic: 0.288",
                "Node ID: 10<br>Pullback set label: 3<br>Partial cluster label: -1<br>Node size: 5<br>Summary statistic: 0.1",
                "Node ID: 11<br>Pullback set label: 4<br>Partial cluster label: -1<br>Node size: 1<br>Summary statistic: 0",
                "Node ID: 12<br>Pullback set label: 0<br>Partial cluster label: -1<br>Node size: 17<br>Summary statistic: 0",
                "Node ID: 13<br>Pullback set label: 13<br>Partial cluster label: -1<br>Node size: 29<br>Summary statistic: 0.274",
                "Node ID: 14<br>Pullback set label: 19<br>Partial cluster label: -1<br>Node size: 2<br>Summary statistic: 1.0",
                "Node ID: 15<br>Pullback set label: 15<br>Partial cluster label: -1<br>Node size: 5<br>Summary statistic: 0.333",
                "Node ID: 16<br>Pullback set label: 11<br>Partial cluster label: -1<br>Node size: 14<br>Summary statistic: 0.256",
                "Node ID: 17<br>Pullback set label: 5<br>Partial cluster label: 0<br>Node size: 5<br>Summary statistic: 0",
                "Node ID: 18<br>Pullback set label: 14<br>Partial cluster label: -1<br>Node size: 6<br>Summary statistic: 0.35",
                "Node ID: 19<br>Pullback set label: 17<br>Partial cluster label: 0<br>Node size: 45<br>Summary statistic: 1.0",
                "Node ID: 20<br>Pullback set label: 18<br>Partial cluster label: 0<br>Node size: 6<br>Summary statistic: 1.0",
                "Node ID: 21<br>Pullback set label: 16<br>Partial cluster label: -1<br>Node size: 1<br>Summary statistic: 0.333",
                "Node ID: 22<br>Pullback set label: 16<br>Partial cluster label: 0<br>Node size: 5<br>Summary statistic: 0",
                "Node ID: 23<br>Pullback set label: 2<br>Partial cluster label: -1<br>Node size: 1<br>Summary statistic: 0",
                "Node ID: 24<br>Pullback set label: 16<br>Partial cluster label: 1<br>Node size: 26<br>Summary statistic: 0",
                "Node ID: 25<br>Pullback set label: 8<br>Partial cluster label: 1<br>Node size: 8<br>Summary statistic: 0",
                "Node ID: 26<br>Pullback set label: 9<br>Partial cluster label: 0<br>Node size: 8<br>Summary statistic: 0",
                "Node ID: 27<br>Pullback set label: 17<br>Partial cluster label: -1<br>Node size: 1<br>Summary statistic: 1.0",
                "Node ID: 28<br>Pullback set label: 1<br>Partial cluster label: 0<br>Node size: 20<br>Summary statistic: 0"
               ]
              ],
              "marker.color": [
               null,
               [
                0.04876104287868993,
                0.13938992250873442,
                0.17574256506533006,
                0.17081411689254825,
                0,
                0.11688311688311687,
                0.23137840420449113,
                0.23685897435897435,
                0.17362637362637362,
                0.28823529411764703,
                0.1,
                0,
                0,
                0.2735632183908046,
                1,
                0.3333333333333333,
                0.25595238095238093,
                0,
                0.35000000000000003,
                1,
                1,
                0.3333333333333333,
                0,
                0,
                0,
                0,
                0,
                1,
                0
               ]
              ]
             }
            ],
            "label": "21",
            "method": "restyle"
           },
           {
            "args": [
             {
              "hovertext": [
               null,
               [
                "Node ID: 0<br>Pullback set label: 5<br>Partial cluster label: -1<br>Node size: 34<br>Summary statistic: 0.171",
                "Node ID: 1<br>Pullback set label: 6<br>Partial cluster label: -1<br>Node size: 20<br>Summary statistic: 0.253",
                "Node ID: 2<br>Pullback set label: 7<br>Partial cluster label: 0<br>Node size: 8<br>Summary statistic: 0.335",
                "Node ID: 3<br>Pullback set label: 8<br>Partial cluster label: 0<br>Node size: 9<br>Summary statistic: 0.381",
                "Node ID: 4<br>Pullback set label: 1<br>Partial cluster label: -1<br>Node size: 25<br>Summary statistic: 0.04",
                "Node ID: 5<br>Pullback set label: 7<br>Partial cluster label: -1<br>Node size: 11<br>Summary statistic: 0.225",
                "Node ID: 6<br>Pullback set label: 8<br>Partial cluster label: -1<br>Node size: 46<br>Summary statistic: 0.308",
                "Node ID: 7<br>Pullback set label: 9<br>Partial cluster label: -1<br>Node size: 44<br>Summary statistic: 0.324",
                "Node ID: 8<br>Pullback set label: 10<br>Partial cluster label: -1<br>Node size: 14<br>Summary statistic: 0.354",
                "Node ID: 9<br>Pullback set label: 12<br>Partial cluster label: -1<br>Node size: 34<br>Summary statistic: 0.422",
                "Node ID: 10<br>Pullback set label: 3<br>Partial cluster label: -1<br>Node size: 5<br>Summary statistic: 0.217",
                "Node ID: 11<br>Pullback set label: 4<br>Partial cluster label: -1<br>Node size: 1<br>Summary statistic: 0.333",
                "Node ID: 12<br>Pullback set label: 0<br>Partial cluster label: -1<br>Node size: 17<br>Summary statistic: 0",
                "Node ID: 13<br>Pullback set label: 13<br>Partial cluster label: -1<br>Node size: 29<br>Summary statistic: 0.441",
                "Node ID: 14<br>Pullback set label: 19<br>Partial cluster label: -1<br>Node size: 2<br>Summary statistic: 1.0",
                "Node ID: 15<br>Pullback set label: 15<br>Partial cluster label: -1<br>Node size: 5<br>Summary statistic: 0.267",
                "Node ID: 16<br>Pullback set label: 11<br>Partial cluster label: -1<br>Node size: 14<br>Summary statistic: 0.364",
                "Node ID: 17<br>Pullback set label: 5<br>Partial cluster label: 0<br>Node size: 5<br>Summary statistic: 0",
                "Node ID: 18<br>Pullback set label: 14<br>Partial cluster label: -1<br>Node size: 6<br>Summary statistic: 0.422",
                "Node ID: 19<br>Pullback set label: 17<br>Partial cluster label: 0<br>Node size: 45<br>Summary statistic: 0",
                "Node ID: 20<br>Pullback set label: 18<br>Partial cluster label: 0<br>Node size: 6<br>Summary statistic: 0",
                "Node ID: 21<br>Pullback set label: 16<br>Partial cluster label: -1<br>Node size: 1<br>Summary statistic: 0.667",
                "Node ID: 22<br>Pullback set label: 16<br>Partial cluster label: 0<br>Node size: 5<br>Summary statistic: 1.0",
                "Node ID: 23<br>Pullback set label: 2<br>Partial cluster label: -1<br>Node size: 1<br>Summary statistic: 0",
                "Node ID: 24<br>Pullback set label: 16<br>Partial cluster label: 1<br>Node size: 26<br>Summary statistic: 1.0",
                "Node ID: 25<br>Pullback set label: 8<br>Partial cluster label: 1<br>Node size: 8<br>Summary statistic: 0",
                "Node ID: 26<br>Pullback set label: 9<br>Partial cluster label: 0<br>Node size: 8<br>Summary statistic: 0",
                "Node ID: 27<br>Pullback set label: 17<br>Partial cluster label: -1<br>Node size: 1<br>Summary statistic: 0",
                "Node ID: 28<br>Pullback set label: 1<br>Partial cluster label: 0<br>Node size: 20<br>Summary statistic: 0"
               ]
              ],
              "marker.color": [
               null,
               [
                0.17112152553329024,
                0.2534584557356835,
                0.3349282722389886,
                0.3808439200596064,
                0.04,
                0.22510822510822512,
                0.3078993470297818,
                0.32360139860139864,
                0.3536630036630037,
                0.4220588235294118,
                0.21666666666666665,
                0.3333333333333333,
                0,
                0.44137931034482764,
                1,
                0.26666666666666666,
                0.36428571428571427,
                0,
                0.4222222222222222,
                0,
                0,
                0.6666666666666666,
                1,
                0,
                1,
                0,
                0,
                0,
                0
               ]
              ]
             }
            ],
            "label": "22",
            "method": "restyle"
           },
           {
            "args": [
             {
              "hovertext": [
               null,
               [
                "Node ID: 0<br>Pullback set label: 5<br>Partial cluster label: -1<br>Node size: 34<br>Summary statistic: 0.0261",
                "Node ID: 1<br>Pullback set label: 6<br>Partial cluster label: -1<br>Node size: 20<br>Summary statistic: 0.0998",
                "Node ID: 2<br>Pullback set label: 7<br>Partial cluster label: 0<br>Node size: 8<br>Summary statistic: 0.051",
                "Node ID: 3<br>Pullback set label: 8<br>Partial cluster label: 0<br>Node size: 9<br>Summary statistic: 0.0567",
                "Node ID: 4<br>Pullback set label: 1<br>Partial cluster label: -1<br>Node size: 25<br>Summary statistic: 0.12",
                "Node ID: 5<br>Pullback set label: 7<br>Partial cluster label: -1<br>Node size: 11<br>Summary statistic: 0.117",
                "Node ID: 6<br>Pullback set label: 8<br>Partial cluster label: -1<br>Node size: 46<br>Summary statistic: 0.0365",
                "Node ID: 7<br>Pullback set label: 9<br>Partial cluster label: -1<br>Node size: 44<br>Summary statistic: 0.0387",
                "Node ID: 8<br>Pullback set label: 10<br>Partial cluster label: -1<br>Node size: 14<br>Summary statistic: 0.166",
                "Node ID: 9<br>Pullback set label: 12<br>Partial cluster label: -1<br>Node size: 34<br>Summary statistic: 0.113",
                "Node ID: 10<br>Pullback set label: 3<br>Partial cluster label: -1<br>Node size: 5<br>Summary statistic: 0",
                "Node ID: 11<br>Pullback set label: 4<br>Partial cluster label: -1<br>Node size: 1<br>Summary statistic: 0",
                "Node ID: 12<br>Pullback set label: 0<br>Partial cluster label: -1<br>Node size: 17<br>Summary statistic: 0",
                "Node ID: 13<br>Pullback set label: 13<br>Partial cluster label: -1<br>Node size: 29<br>Summary statistic: 0.119",
                "Node ID: 14<br>Pullback set label: 19<br>Partial cluster label: -1<br>Node size: 2<br>Summary statistic: 0",
                "Node ID: 15<br>Pullback set label: 15<br>Partial cluster label: -1<br>Node size: 5<br>Summary statistic: 0.267",
                "Node ID: 16<br>Pullback set label: 11<br>Partial cluster label: -1<br>Node size: 14<br>Summary statistic: 0.142",
                "Node ID: 17<br>Pullback set label: 5<br>Partial cluster label: 0<br>Node size: 5<br>Summary statistic: 0",
                "Node ID: 18<br>Pullback set label: 14<br>Partial cluster label: -1<br>Node size: 6<br>Summary statistic: 0.261",
                "Node ID: 19<br>Pullback set label: 17<br>Partial cluster label: 0<br>Node size: 45<br>Summary statistic: 1.0",
                "Node ID: 20<br>Pullback set label: 18<br>Partial cluster label: 0<br>Node size: 6<br>Summary statistic: 0",
                "Node ID: 21<br>Pullback set label: 16<br>Partial cluster label: -1<br>Node size: 1<br>Summary statistic: 0.333",
                "Node ID: 22<br>Pullback set label: 16<br>Partial cluster label: 0<br>Node size: 5<br>Summary statistic: 1.0",
                "Node ID: 23<br>Pullback set label: 2<br>Partial cluster label: -1<br>Node size: 1<br>Summary statistic: 0",
                "Node ID: 24<br>Pullback set label: 16<br>Partial cluster label: 1<br>Node size: 26<br>Summary statistic: 0",
                "Node ID: 25<br>Pullback set label: 8<br>Partial cluster label: 1<br>Node size: 8<br>Summary statistic: 0",
                "Node ID: 26<br>Pullback set label: 9<br>Partial cluster label: 0<br>Node size: 8<br>Summary statistic: 0",
                "Node ID: 27<br>Pullback set label: 17<br>Partial cluster label: -1<br>Node size: 1<br>Summary statistic: 0",
                "Node ID: 28<br>Pullback set label: 1<br>Partial cluster label: 0<br>Node size: 20<br>Summary statistic: 0"
               ]
              ],
              "marker.color": [
               null,
               [
                0.026093514328808447,
                0.09978958884899478,
                0.050958496584952606,
                0.05672929104301653,
                0.12,
                0.11688311688311687,
                0.03650660933269629,
                0.03872377622377623,
                0.16620879120879123,
                0.11274509803921567,
                0,
                0,
                0,
                0.11896551724137931,
                0,
                0.26666666666666666,
                0.14166666666666666,
                0,
                0.2611111111111111,
                1,
                0,
                0.3333333333333333,
                1,
                0,
                0,
                0,
                0,
                0,
                0
               ]
              ]
             }
            ],
            "label": "23",
            "method": "restyle"
           },
           {
            "args": [
             {
              "hovertext": [
               null,
               [
                "Node ID: 0<br>Pullback set label: 5<br>Partial cluster label: -1<br>Node size: 34<br>Summary statistic: 0.0268",
                "Node ID: 1<br>Pullback set label: 6<br>Partial cluster label: -1<br>Node size: 20<br>Summary statistic: 0.0905",
                "Node ID: 2<br>Pullback set label: 7<br>Partial cluster label: 0<br>Node size: 8<br>Summary statistic: 0.0287",
                "Node ID: 3<br>Pullback set label: 8<br>Partial cluster label: 0<br>Node size: 9<br>Summary statistic: 0.0207",
                "Node ID: 4<br>Pullback set label: 1<br>Partial cluster label: -1<br>Node size: 25<br>Summary statistic: 0",
                "Node ID: 5<br>Pullback set label: 7<br>Partial cluster label: -1<br>Node size: 11<br>Summary statistic: 0.0455",
                "Node ID: 6<br>Pullback set label: 8<br>Partial cluster label: -1<br>Node size: 46<br>Summary statistic: 0.0344",
                "Node ID: 7<br>Pullback set label: 9<br>Partial cluster label: -1<br>Node size: 44<br>Summary statistic: 0.0377",
                "Node ID: 8<br>Pullback set label: 10<br>Partial cluster label: -1<br>Node size: 14<br>Summary statistic: 0.0412",
                "Node ID: 9<br>Pullback set label: 12<br>Partial cluster label: -1<br>Node size: 34<br>Summary statistic: 0.0049",
                "Node ID: 10<br>Pullback set label: 3<br>Partial cluster label: -1<br>Node size: 5<br>Summary statistic: 0.025",
                "Node ID: 11<br>Pullback set label: 4<br>Partial cluster label: -1<br>Node size: 1<br>Summary statistic: 0",
                "Node ID: 12<br>Pullback set label: 0<br>Partial cluster label: -1<br>Node size: 17<br>Summary statistic: 0",
                "Node ID: 13<br>Pullback set label: 13<br>Partial cluster label: -1<br>Node size: 29<br>Summary statistic: 0",
                "Node ID: 14<br>Pullback set label: 19<br>Partial cluster label: -1<br>Node size: 2<br>Summary statistic: 0",
                "Node ID: 15<br>Pullback set label: 15<br>Partial cluster label: -1<br>Node size: 5<br>Summary statistic: 0.0667",
                "Node ID: 16<br>Pullback set label: 11<br>Partial cluster label: -1<br>Node size: 14<br>Summary statistic: 0.0357",
                "Node ID: 17<br>Pullback set label: 5<br>Partial cluster label: 0<br>Node size: 5<br>Summary statistic: 0",
                "Node ID: 18<br>Pullback set label: 14<br>Partial cluster label: -1<br>Node size: 6<br>Summary statistic: 0",
                "Node ID: 19<br>Pullback set label: 17<br>Partial cluster label: 0<br>Node size: 45<br>Summary statistic: 0",
                "Node ID: 20<br>Pullback set label: 18<br>Partial cluster label: 0<br>Node size: 6<br>Summary statistic: 0",
                "Node ID: 21<br>Pullback set label: 16<br>Partial cluster label: -1<br>Node size: 1<br>Summary statistic: 0",
                "Node ID: 22<br>Pullback set label: 16<br>Partial cluster label: 0<br>Node size: 5<br>Summary statistic: 0",
                "Node ID: 23<br>Pullback set label: 2<br>Partial cluster label: -1<br>Node size: 1<br>Summary statistic: 0",
                "Node ID: 24<br>Pullback set label: 16<br>Partial cluster label: 1<br>Node size: 26<br>Summary statistic: 0",
                "Node ID: 25<br>Pullback set label: 8<br>Partial cluster label: 1<br>Node size: 8<br>Summary statistic: 0",
                "Node ID: 26<br>Pullback set label: 9<br>Partial cluster label: 0<br>Node size: 8<br>Summary statistic: 0",
                "Node ID: 27<br>Pullback set label: 17<br>Partial cluster label: -1<br>Node size: 1<br>Summary statistic: 0",
                "Node ID: 28<br>Pullback set label: 1<br>Partial cluster label: 0<br>Node size: 20<br>Summary statistic: 0"
               ]
              ],
              "marker.color": [
               null,
               [
                0.02677224736048265,
                0.09053167954158052,
                0.0286886041545331,
                0.020697167755991286,
                0,
                0.045454545454545456,
                0.034420289855072464,
                0.03773310023310023,
                0.04120879120879121,
                0.004901960784313725,
                0.025,
                0,
                0,
                0,
                0,
                0.06666666666666667,
                0.03571428571428571,
                0,
                0,
                0,
                0,
                0,
                0,
                0,
                0,
                0,
                0,
                0,
                0
               ]
              ]
             }
            ],
            "label": "24",
            "method": "restyle"
           },
           {
            "args": [
             {
              "hovertext": [
               null,
               [
                "Node ID: 0<br>Pullback set label: 5<br>Partial cluster label: -1<br>Node size: 34<br>Summary statistic: 0.00962",
                "Node ID: 1<br>Pullback set label: 6<br>Partial cluster label: -1<br>Node size: 20<br>Summary statistic: 0.0214",
                "Node ID: 2<br>Pullback set label: 7<br>Partial cluster label: 0<br>Node size: 8<br>Summary statistic: 0.0362",
                "Node ID: 3<br>Pullback set label: 8<br>Partial cluster label: 0<br>Node size: 9<br>Summary statistic: 0.0414",
                "Node ID: 4<br>Pullback set label: 1<br>Partial cluster label: -1<br>Node size: 25<br>Summary statistic: 0",
                "Node ID: 5<br>Pullback set label: 7<br>Partial cluster label: -1<br>Node size: 11<br>Summary statistic: 0.0455",
                "Node ID: 6<br>Pullback set label: 8<br>Partial cluster label: -1<br>Node size: 46<br>Summary statistic: 0.0152",
                "Node ID: 7<br>Pullback set label: 9<br>Partial cluster label: -1<br>Node size: 44<br>Summary statistic: 0.029",
                "Node ID: 8<br>Pullback set label: 10<br>Partial cluster label: -1<br>Node size: 14<br>Summary statistic: 0.0769",
                "Node ID: 9<br>Pullback set label: 12<br>Partial cluster label: -1<br>Node size: 34<br>Summary statistic: 0.0485",
                "Node ID: 10<br>Pullback set label: 3<br>Partial cluster label: -1<br>Node size: 5<br>Summary statistic: 0",
                "Node ID: 11<br>Pullback set label: 4<br>Partial cluster label: -1<br>Node size: 1<br>Summary statistic: 0",
                "Node ID: 12<br>Pullback set label: 0<br>Partial cluster label: -1<br>Node size: 17<br>Summary statistic: 0",
                "Node ID: 13<br>Pullback set label: 13<br>Partial cluster label: -1<br>Node size: 29<br>Summary statistic: 0.0431",
                "Node ID: 14<br>Pullback set label: 19<br>Partial cluster label: -1<br>Node size: 2<br>Summary statistic: 0",
                "Node ID: 15<br>Pullback set label: 15<br>Partial cluster label: -1<br>Node size: 5<br>Summary statistic: 0",
                "Node ID: 16<br>Pullback set label: 11<br>Partial cluster label: -1<br>Node size: 14<br>Summary statistic: 0.0286",
                "Node ID: 17<br>Pullback set label: 5<br>Partial cluster label: 0<br>Node size: 5<br>Summary statistic: 1.0",
                "Node ID: 18<br>Pullback set label: 14<br>Partial cluster label: -1<br>Node size: 6<br>Summary statistic: 0.0333",
                "Node ID: 19<br>Pullback set label: 17<br>Partial cluster label: 0<br>Node size: 45<br>Summary statistic: 0",
                "Node ID: 20<br>Pullback set label: 18<br>Partial cluster label: 0<br>Node size: 6<br>Summary statistic: 0",
                "Node ID: 21<br>Pullback set label: 16<br>Partial cluster label: -1<br>Node size: 1<br>Summary statistic: 0",
                "Node ID: 22<br>Pullback set label: 16<br>Partial cluster label: 0<br>Node size: 5<br>Summary statistic: 0",
                "Node ID: 23<br>Pullback set label: 2<br>Partial cluster label: -1<br>Node size: 1<br>Summary statistic: 0",
                "Node ID: 24<br>Pullback set label: 16<br>Partial cluster label: 1<br>Node size: 26<br>Summary statistic: 0",
                "Node ID: 25<br>Pullback set label: 8<br>Partial cluster label: 1<br>Node size: 8<br>Summary statistic: 0",
                "Node ID: 26<br>Pullback set label: 9<br>Partial cluster label: 0<br>Node size: 8<br>Summary statistic: 0",
                "Node ID: 27<br>Pullback set label: 17<br>Partial cluster label: -1<br>Node size: 1<br>Summary statistic: 0",
                "Node ID: 28<br>Pullback set label: 1<br>Partial cluster label: 0<br>Node size: 20<br>Summary statistic: 0"
               ]
              ],
              "marker.color": [
               null,
               [
                0.009615384615384616,
                0.0213988019681089,
                0.03624710816669902,
                0.04138396099180412,
                0,
                0.045454545454545456,
                0.015217391304347825,
                0.02902097902097902,
                0.07692307692307691,
                0.048529411764705876,
                0,
                0,
                0,
                0.04310344827586207,
                0,
                0,
                0.028571428571428574,
                1,
                0.03333333333333333,
                0,
                0,
                0,
                0,
                0,
                0,
                0,
                0,
                0,
                0
               ]
              ]
             }
            ],
            "label": "25",
            "method": "restyle"
           },
           {
            "args": [
             {
              "hovertext": [
               null,
               [
                "Node ID: 0<br>Pullback set label: 5<br>Partial cluster label: -1<br>Node size: 34<br>Summary statistic: 0",
                "Node ID: 1<br>Pullback set label: 6<br>Partial cluster label: -1<br>Node size: 20<br>Summary statistic: 0.00178",
                "Node ID: 2<br>Pullback set label: 7<br>Partial cluster label: 0<br>Node size: 8<br>Summary statistic: 0.0304",
                "Node ID: 3<br>Pullback set label: 8<br>Partial cluster label: 0<br>Node size: 9<br>Summary statistic: 0.0326",
                "Node ID: 4<br>Pullback set label: 1<br>Partial cluster label: -1<br>Node size: 25<br>Summary statistic: 0",
                "Node ID: 5<br>Pullback set label: 7<br>Partial cluster label: -1<br>Node size: 11<br>Summary statistic: 0",
                "Node ID: 6<br>Pullback set label: 8<br>Partial cluster label: -1<br>Node size: 46<br>Summary statistic: 0",
                "Node ID: 7<br>Pullback set label: 9<br>Partial cluster label: -1<br>Node size: 44<br>Summary statistic: 0",
                "Node ID: 8<br>Pullback set label: 10<br>Partial cluster label: -1<br>Node size: 14<br>Summary statistic: 0",
                "Node ID: 9<br>Pullback set label: 12<br>Partial cluster label: -1<br>Node size: 34<br>Summary statistic: 0.0196",
                "Node ID: 10<br>Pullback set label: 3<br>Partial cluster label: -1<br>Node size: 5<br>Summary statistic: 0",
                "Node ID: 11<br>Pullback set label: 4<br>Partial cluster label: -1<br>Node size: 1<br>Summary statistic: 0",
                "Node ID: 12<br>Pullback set label: 0<br>Partial cluster label: -1<br>Node size: 17<br>Summary statistic: 0",
                "Node ID: 13<br>Pullback set label: 13<br>Partial cluster label: -1<br>Node size: 29<br>Summary statistic: 0.023",
                "Node ID: 14<br>Pullback set label: 19<br>Partial cluster label: -1<br>Node size: 2<br>Summary statistic: 0",
                "Node ID: 15<br>Pullback set label: 15<br>Partial cluster label: -1<br>Node size: 5<br>Summary statistic: 0",
                "Node ID: 16<br>Pullback set label: 11<br>Partial cluster label: -1<br>Node size: 14<br>Summary statistic: 0",
                "Node ID: 17<br>Pullback set label: 5<br>Partial cluster label: 0<br>Node size: 5<br>Summary statistic: 0",
                "Node ID: 18<br>Pullback set label: 14<br>Partial cluster label: -1<br>Node size: 6<br>Summary statistic: 0.0278",
                "Node ID: 19<br>Pullback set label: 17<br>Partial cluster label: 0<br>Node size: 45<br>Summary statistic: 0",
                "Node ID: 20<br>Pullback set label: 18<br>Partial cluster label: 0<br>Node size: 6<br>Summary statistic: 1.0",
                "Node ID: 21<br>Pullback set label: 16<br>Partial cluster label: -1<br>Node size: 1<br>Summary statistic: 0",
                "Node ID: 22<br>Pullback set label: 16<br>Partial cluster label: 0<br>Node size: 5<br>Summary statistic: 0",
                "Node ID: 23<br>Pullback set label: 2<br>Partial cluster label: -1<br>Node size: 1<br>Summary statistic: 0",
                "Node ID: 24<br>Pullback set label: 16<br>Partial cluster label: 1<br>Node size: 26<br>Summary statistic: 0",
                "Node ID: 25<br>Pullback set label: 8<br>Partial cluster label: 1<br>Node size: 8<br>Summary statistic: 0",
                "Node ID: 26<br>Pullback set label: 9<br>Partial cluster label: 0<br>Node size: 8<br>Summary statistic: 0",
                "Node ID: 27<br>Pullback set label: 17<br>Partial cluster label: -1<br>Node size: 1<br>Summary statistic: 0",
                "Node ID: 28<br>Pullback set label: 1<br>Partial cluster label: 0<br>Node size: 20<br>Summary statistic: 0"
               ]
              ],
              "marker.color": [
               null,
               [
                0,
                0.001783749803551784,
                0.0303959991587394,
                0.03262267870111007,
                0,
                0,
                0,
                0,
                0,
                0.0196078431372549,
                0,
                0,
                0,
                0.022988505747126436,
                0,
                0,
                0,
                0,
                0.027777777777777776,
                0,
                1,
                0,
                0,
                0,
                0,
                0,
                0,
                0,
                0
               ]
              ]
             }
            ],
            "label": "26",
            "method": "restyle"
           },
           {
            "args": [
             {
              "hovertext": [
               null,
               [
                "Node ID: 0<br>Pullback set label: 5<br>Partial cluster label: -1<br>Node size: 34<br>Summary statistic: 0.143",
                "Node ID: 1<br>Pullback set label: 6<br>Partial cluster label: -1<br>Node size: 20<br>Summary statistic: 0.158",
                "Node ID: 2<br>Pullback set label: 7<br>Partial cluster label: 0<br>Node size: 8<br>Summary statistic: 0.0998",
                "Node ID: 3<br>Pullback set label: 8<br>Partial cluster label: 0<br>Node size: 9<br>Summary statistic: 0.108",
                "Node ID: 4<br>Pullback set label: 1<br>Partial cluster label: -1<br>Node size: 25<br>Summary statistic: 0.12",
                "Node ID: 5<br>Pullback set label: 7<br>Partial cluster label: -1<br>Node size: 11<br>Summary statistic: 0.149",
                "Node ID: 6<br>Pullback set label: 8<br>Partial cluster label: -1<br>Node size: 46<br>Summary statistic: 0.0846",
                "Node ID: 7<br>Pullback set label: 9<br>Partial cluster label: -1<br>Node size: 44<br>Summary statistic: 0.0703",
                "Node ID: 8<br>Pullback set label: 10<br>Partial cluster label: -1<br>Node size: 14<br>Summary statistic: 0.182",
                "Node ID: 9<br>Pullback set label: 12<br>Partial cluster label: -1<br>Node size: 34<br>Summary statistic: 0.102",
                "Node ID: 10<br>Pullback set label: 3<br>Partial cluster label: -1<br>Node size: 5<br>Summary statistic: 0.117",
                "Node ID: 11<br>Pullback set label: 4<br>Partial cluster label: -1<br>Node size: 1<br>Summary statistic: 0.333",
                "Node ID: 12<br>Pullback set label: 0<br>Partial cluster label: -1<br>Node size: 17<br>Summary statistic: 0",
                "Node ID: 13<br>Pullback set label: 13<br>Partial cluster label: -1<br>Node size: 29<br>Summary statistic: 0.103",
                "Node ID: 14<br>Pullback set label: 19<br>Partial cluster label: -1<br>Node size: 2<br>Summary statistic: 1.0",
                "Node ID: 15<br>Pullback set label: 15<br>Partial cluster label: -1<br>Node size: 5<br>Summary statistic: 0",
                "Node ID: 16<br>Pullback set label: 11<br>Partial cluster label: -1<br>Node size: 14<br>Summary statistic: 0.171",
                "Node ID: 17<br>Pullback set label: 5<br>Partial cluster label: 0<br>Node size: 5<br>Summary statistic: 0",
                "Node ID: 18<br>Pullback set label: 14<br>Partial cluster label: -1<br>Node size: 6<br>Summary statistic: 0.122",
                "Node ID: 19<br>Pullback set label: 17<br>Partial cluster label: 0<br>Node size: 45<br>Summary statistic: 0",
                "Node ID: 20<br>Pullback set label: 18<br>Partial cluster label: 0<br>Node size: 6<br>Summary statistic: 0",
                "Node ID: 21<br>Pullback set label: 16<br>Partial cluster label: -1<br>Node size: 1<br>Summary statistic: 0.667",
                "Node ID: 22<br>Pullback set label: 16<br>Partial cluster label: 0<br>Node size: 5<br>Summary statistic: 0",
                "Node ID: 23<br>Pullback set label: 2<br>Partial cluster label: -1<br>Node size: 1<br>Summary statistic: 0",
                "Node ID: 24<br>Pullback set label: 16<br>Partial cluster label: 1<br>Node size: 26<br>Summary statistic: 0",
                "Node ID: 25<br>Pullback set label: 8<br>Partial cluster label: 1<br>Node size: 8<br>Summary statistic: 0",
                "Node ID: 26<br>Pullback set label: 9<br>Partial cluster label: 0<br>Node size: 8<br>Summary statistic: 0",
                "Node ID: 27<br>Pullback set label: 17<br>Partial cluster label: -1<br>Node size: 1<br>Summary statistic: 0",
                "Node ID: 28<br>Pullback set label: 1<br>Partial cluster label: 0<br>Node size: 20<br>Summary statistic: 1.0"
               ]
              ],
              "marker.color": [
               null,
               [
                0.14346046110751992,
                0.15766166177057267,
                0.09983730909855691,
                0.10827886710239651,
                0.12,
                0.14935064935064934,
                0.08462732919254658,
                0.0703088578088578,
                0.18168498168498168,
                0.10245098039215686,
                0.11666666666666665,
                0.3333333333333333,
                0,
                0.1028735632183908,
                1,
                0,
                0.17142857142857143,
                0,
                0.12222222222222223,
                0,
                0,
                0.6666666666666666,
                0,
                0,
                0,
                0,
                0,
                0,
                1
               ]
              ]
             }
            ],
            "label": "27",
            "method": "restyle"
           },
           {
            "args": [
             {
              "hovertext": [
               null,
               [
                "Node ID: 0<br>Pullback set label: 5<br>Partial cluster label: -1<br>Node size: 34<br>Summary statistic: 0.137",
                "Node ID: 1<br>Pullback set label: 6<br>Partial cluster label: -1<br>Node size: 20<br>Summary statistic: 0.0837",
                "Node ID: 2<br>Pullback set label: 7<br>Partial cluster label: 0<br>Node size: 8<br>Summary statistic: 0.133",
                "Node ID: 3<br>Pullback set label: 8<br>Partial cluster label: 0<br>Node size: 9<br>Summary statistic: 0.131",
                "Node ID: 4<br>Pullback set label: 1<br>Partial cluster label: -1<br>Node size: 25<br>Summary statistic: 0.04",
                "Node ID: 5<br>Pullback set label: 7<br>Partial cluster label: -1<br>Node size: 11<br>Summary statistic: 0.104",
                "Node ID: 6<br>Pullback set label: 8<br>Partial cluster label: -1<br>Node size: 46<br>Summary statistic: 0.0739",
                "Node ID: 7<br>Pullback set label: 9<br>Partial cluster label: -1<br>Node size: 44<br>Summary statistic: 0.0797",
                "Node ID: 8<br>Pullback set label: 10<br>Partial cluster label: -1<br>Node size: 14<br>Summary statistic: 0.256",
                "Node ID: 9<br>Pullback set label: 12<br>Partial cluster label: -1<br>Node size: 34<br>Summary statistic: 0.288",
                "Node ID: 10<br>Pullback set label: 3<br>Partial cluster label: -1<br>Node size: 5<br>Summary statistic: 0.142",
                "Node ID: 11<br>Pullback set label: 4<br>Partial cluster label: -1<br>Node size: 1<br>Summary statistic: 0",
                "Node ID: 12<br>Pullback set label: 0<br>Partial cluster label: -1<br>Node size: 17<br>Summary statistic: 0",
                "Node ID: 13<br>Pullback set label: 13<br>Partial cluster label: -1<br>Node size: 29<br>Summary statistic: 0.28",
                "Node ID: 14<br>Pullback set label: 19<br>Partial cluster label: -1<br>Node size: 2<br>Summary statistic: 1.0",
                "Node ID: 15<br>Pullback set label: 15<br>Partial cluster label: -1<br>Node size: 5<br>Summary statistic: 0.433",
                "Node ID: 16<br>Pullback set label: 11<br>Partial cluster label: -1<br>Node size: 14<br>Summary statistic: 0.336",
                "Node ID: 17<br>Pullback set label: 5<br>Partial cluster label: 0<br>Node size: 5<br>Summary statistic: 0",
                "Node ID: 18<br>Pullback set label: 14<br>Partial cluster label: -1<br>Node size: 6<br>Summary statistic: 0.217",
                "Node ID: 19<br>Pullback set label: 17<br>Partial cluster label: 0<br>Node size: 45<br>Summary statistic: 0",
                "Node ID: 20<br>Pullback set label: 18<br>Partial cluster label: 0<br>Node size: 6<br>Summary statistic: 0",
                "Node ID: 21<br>Pullback set label: 16<br>Partial cluster label: -1<br>Node size: 1<br>Summary statistic: 0",
                "Node ID: 22<br>Pullback set label: 16<br>Partial cluster label: 0<br>Node size: 5<br>Summary statistic: 0",
                "Node ID: 23<br>Pullback set label: 2<br>Partial cluster label: -1<br>Node size: 1<br>Summary statistic: 0.333",
                "Node ID: 24<br>Pullback set label: 16<br>Partial cluster label: 1<br>Node size: 26<br>Summary statistic: 1.0",
                "Node ID: 25<br>Pullback set label: 8<br>Partial cluster label: 1<br>Node size: 8<br>Summary statistic: 1.0",
                "Node ID: 26<br>Pullback set label: 9<br>Partial cluster label: 0<br>Node size: 8<br>Summary statistic: 1.0",
                "Node ID: 27<br>Pullback set label: 17<br>Partial cluster label: -1<br>Node size: 1<br>Summary statistic: 1.0",
                "Node ID: 28<br>Pullback set label: 1<br>Partial cluster label: 0<br>Node size: 20<br>Summary statistic: 0"
               ]
              ],
              "marker.color": [
               null,
               [
                0.13741650506356387,
                0.08369253134104619,
                0.1333667925616091,
                0.13114713899027625,
                0.04,
                0.10389610389610389,
                0.07392498805542283,
                0.07966200466200467,
                0.25576923076923075,
                0.2882352941176471,
                0.14166666666666666,
                0,
                0,
                0.2804597701149425,
                1,
                0.4333333333333333,
                0.3357142857142857,
                0,
                0.21666666666666667,
                0,
                0,
                0,
                0,
                0.3333333333333333,
                1,
                1,
                1,
                1,
                0
               ]
              ]
             }
            ],
            "label": "28",
            "method": "restyle"
           },
           {
            "args": [
             {
              "hovertext": [
               null,
               [
                "Node ID: 0<br>Pullback set label: 5<br>Partial cluster label: -1<br>Node size: 34<br>Summary statistic: 0.279",
                "Node ID: 1<br>Pullback set label: 6<br>Partial cluster label: -1<br>Node size: 20<br>Summary statistic: 0.178",
                "Node ID: 2<br>Pullback set label: 7<br>Partial cluster label: 0<br>Node size: 8<br>Summary statistic: 0.254",
                "Node ID: 3<br>Pullback set label: 8<br>Partial cluster label: 0<br>Node size: 9<br>Summary statistic: 0.269",
                "Node ID: 4<br>Pullback set label: 1<br>Partial cluster label: -1<br>Node size: 25<br>Summary statistic: 0.12",
                "Node ID: 5<br>Pullback set label: 7<br>Partial cluster label: -1<br>Node size: 11<br>Summary statistic: 0.308",
                "Node ID: 6<br>Pullback set label: 8<br>Partial cluster label: -1<br>Node size: 46<br>Summary statistic: 0.241",
                "Node ID: 7<br>Pullback set label: 9<br>Partial cluster label: -1<br>Node size: 44<br>Summary statistic: 0.216",
                "Node ID: 8<br>Pullback set label: 10<br>Partial cluster label: -1<br>Node size: 14<br>Summary statistic: 0.301",
                "Node ID: 9<br>Pullback set label: 12<br>Partial cluster label: -1<br>Node size: 34<br>Summary statistic: 0.173",
                "Node ID: 10<br>Pullback set label: 3<br>Partial cluster label: -1<br>Node size: 5<br>Summary statistic: 0.217",
                "Node ID: 11<br>Pullback set label: 4<br>Partial cluster label: -1<br>Node size: 1<br>Summary statistic: 0",
                "Node ID: 12<br>Pullback set label: 0<br>Partial cluster label: -1<br>Node size: 17<br>Summary statistic: 0",
                "Node ID: 13<br>Pullback set label: 13<br>Partial cluster label: -1<br>Node size: 29<br>Summary statistic: 0.178",
                "Node ID: 14<br>Pullback set label: 19<br>Partial cluster label: -1<br>Node size: 2<br>Summary statistic: 1.0",
                "Node ID: 15<br>Pullback set label: 15<br>Partial cluster label: -1<br>Node size: 5<br>Summary statistic: 0.367",
                "Node ID: 16<br>Pullback set label: 11<br>Partial cluster label: -1<br>Node size: 14<br>Summary statistic: 0.23",
                "Node ID: 17<br>Pullback set label: 5<br>Partial cluster label: 0<br>Node size: 5<br>Summary statistic: 0",
                "Node ID: 18<br>Pullback set label: 14<br>Partial cluster label: -1<br>Node size: 6<br>Summary statistic: 0.439",
                "Node ID: 19<br>Pullback set label: 17<br>Partial cluster label: 0<br>Node size: 45<br>Summary statistic: 1.0",
                "Node ID: 20<br>Pullback set label: 18<br>Partial cluster label: 0<br>Node size: 6<br>Summary statistic: 1.0",
                "Node ID: 21<br>Pullback set label: 16<br>Partial cluster label: -1<br>Node size: 1<br>Summary statistic: 0.333",
                "Node ID: 22<br>Pullback set label: 16<br>Partial cluster label: 0<br>Node size: 5<br>Summary statistic: 1.0",
                "Node ID: 23<br>Pullback set label: 2<br>Partial cluster label: -1<br>Node size: 1<br>Summary statistic: 0.333",
                "Node ID: 24<br>Pullback set label: 16<br>Partial cluster label: 1<br>Node size: 26<br>Summary statistic: 0",
                "Node ID: 25<br>Pullback set label: 8<br>Partial cluster label: 1<br>Node size: 8<br>Summary statistic: 0",
                "Node ID: 26<br>Pullback set label: 9<br>Partial cluster label: 0<br>Node size: 8<br>Summary statistic: 0",
                "Node ID: 27<br>Pullback set label: 17<br>Partial cluster label: -1<br>Node size: 1<br>Summary statistic: 0",
                "Node ID: 28<br>Pullback set label: 1<br>Partial cluster label: 0<br>Node size: 20<br>Summary statistic: 0"
               ]
              ],
              "marker.color": [
               null,
               [
                0.2787491919844861,
                0.17786191805993784,
                0.2542700777430684,
                0.26949183713889596,
                0.12,
                0.30844155844155846,
                0.24050804268195572,
                0.2158508158508158,
                0.3007326007326007,
                0.17254901960784313,
                0.21666666666666665,
                0,
                0,
                0.17758620689655175,
                1,
                0.36666666666666664,
                0.22976190476190478,
                0,
                0.4388888888888889,
                1,
                1,
                0.3333333333333333,
                1,
                0.3333333333333333,
                0,
                0,
                0,
                0,
                0
               ]
              ]
             }
            ],
            "label": "29",
            "method": "restyle"
           },
           {
            "args": [
             {
              "hovertext": [
               null,
               [
                "Node ID: 0<br>Pullback set label: 5<br>Partial cluster label: -1<br>Node size: 34<br>Summary statistic: 0.201",
                "Node ID: 1<br>Pullback set label: 6<br>Partial cluster label: -1<br>Node size: 20<br>Summary statistic: 0.0781",
                "Node ID: 2<br>Pullback set label: 7<br>Partial cluster label: 0<br>Node size: 8<br>Summary statistic: 0.13",
                "Node ID: 3<br>Pullback set label: 8<br>Partial cluster label: 0<br>Node size: 9<br>Summary statistic: 0.0986",
                "Node ID: 4<br>Pullback set label: 1<br>Partial cluster label: -1<br>Node size: 25<br>Summary statistic: 0.02",
                "Node ID: 5<br>Pullback set label: 7<br>Partial cluster label: -1<br>Node size: 11<br>Summary statistic: 0.144",
                "Node ID: 6<br>Pullback set label: 8<br>Partial cluster label: -1<br>Node size: 46<br>Summary statistic: 0.0501",
                "Node ID: 7<br>Pullback set label: 9<br>Partial cluster label: -1<br>Node size: 44<br>Summary statistic: 0.0421",
                "Node ID: 8<br>Pullback set label: 10<br>Partial cluster label: -1<br>Node size: 14<br>Summary statistic: 0.0631",
                "Node ID: 9<br>Pullback set label: 12<br>Partial cluster label: -1<br>Node size: 34<br>Summary statistic: 0.0098",
                "Node ID: 10<br>Pullback set label: 3<br>Partial cluster label: -1<br>Node size: 5<br>Summary statistic: 0.025",
                "Node ID: 11<br>Pullback set label: 4<br>Partial cluster label: -1<br>Node size: 1<br>Summary statistic: 0",
                "Node ID: 12<br>Pullback set label: 0<br>Partial cluster label: -1<br>Node size: 17<br>Summary statistic: 0",
                "Node ID: 13<br>Pullback set label: 13<br>Partial cluster label: -1<br>Node size: 29<br>Summary statistic: 0",
                "Node ID: 14<br>Pullback set label: 19<br>Partial cluster label: -1<br>Node size: 2<br>Summary statistic: 0",
                "Node ID: 15<br>Pullback set label: 15<br>Partial cluster label: -1<br>Node size: 5<br>Summary statistic: 0",
                "Node ID: 16<br>Pullback set label: 11<br>Partial cluster label: -1<br>Node size: 14<br>Summary statistic: 0.0238",
                "Node ID: 17<br>Pullback set label: 5<br>Partial cluster label: 0<br>Node size: 5<br>Summary statistic: 0",
                "Node ID: 18<br>Pullback set label: 14<br>Partial cluster label: -1<br>Node size: 6<br>Summary statistic: 0",
                "Node ID: 19<br>Pullback set label: 17<br>Partial cluster label: 0<br>Node size: 45<br>Summary statistic: 0",
                "Node ID: 20<br>Pullback set label: 18<br>Partial cluster label: 0<br>Node size: 6<br>Summary statistic: 0",
                "Node ID: 21<br>Pullback set label: 16<br>Partial cluster label: -1<br>Node size: 1<br>Summary statistic: 0",
                "Node ID: 22<br>Pullback set label: 16<br>Partial cluster label: 0<br>Node size: 5<br>Summary statistic: 0",
                "Node ID: 23<br>Pullback set label: 2<br>Partial cluster label: -1<br>Node size: 1<br>Summary statistic: 0",
                "Node ID: 24<br>Pullback set label: 16<br>Partial cluster label: 1<br>Node size: 26<br>Summary statistic: 0",
                "Node ID: 25<br>Pullback set label: 8<br>Partial cluster label: 1<br>Node size: 8<br>Summary statistic: 0",
                "Node ID: 26<br>Pullback set label: 9<br>Partial cluster label: 0<br>Node size: 8<br>Summary statistic: 0",
                "Node ID: 27<br>Pullback set label: 17<br>Partial cluster label: -1<br>Node size: 1<br>Summary statistic: 0",
                "Node ID: 28<br>Pullback set label: 1<br>Partial cluster label: 0<br>Node size: 20<br>Summary statistic: 0"
               ]
              ],
              "marker.color": [
               null,
               [
                0.2013035983624219,
                0.07805455820307305,
                0.13002454657230428,
                0.09863480745833687,
                0.02,
                0.14393939393939392,
                0.05008361204013378,
                0.04213286713286713,
                0.0630952380952381,
                0.00980392156862745,
                0.025,
                0,
                0,
                0,
                0,
                0,
                0.023809523809523808,
                0,
                0,
                0,
                0,
                0,
                0,
                0,
                0,
                0,
                0,
                0,
                0
               ]
              ]
             }
            ],
            "label": "30",
            "method": "restyle"
           },
           {
            "args": [
             {
              "hovertext": [
               null,
               [
                "Node ID: 0<br>Pullback set label: 5<br>Partial cluster label: -1<br>Node size: 34<br>Summary statistic: 0.34",
                "Node ID: 1<br>Pullback set label: 6<br>Partial cluster label: -1<br>Node size: 20<br>Summary statistic: 0.467",
                "Node ID: 2<br>Pullback set label: 7<br>Partial cluster label: 0<br>Node size: 8<br>Summary statistic: 0.458",
                "Node ID: 3<br>Pullback set label: 8<br>Partial cluster label: 0<br>Node size: 9<br>Summary statistic: 0.473",
                "Node ID: 4<br>Pullback set label: 1<br>Partial cluster label: -1<br>Node size: 25<br>Summary statistic: 0.12",
                "Node ID: 5<br>Pullback set label: 7<br>Partial cluster label: -1<br>Node size: 11<br>Summary statistic: 0.448",
                "Node ID: 6<br>Pullback set label: 8<br>Partial cluster label: -1<br>Node size: 46<br>Summary statistic: 0.735",
                "Node ID: 7<br>Pullback set label: 9<br>Partial cluster label: -1<br>Node size: 44<br>Summary statistic: 0.753",
                "Node ID: 8<br>Pullback set label: 10<br>Partial cluster label: -1<br>Node size: 14<br>Summary statistic: 0.553",
                "Node ID: 9<br>Pullback set label: 12<br>Partial cluster label: -1<br>Node size: 34<br>Summary statistic: 0.58",
                "Node ID: 10<br>Pullback set label: 3<br>Partial cluster label: -1<br>Node size: 5<br>Summary statistic: 0.458",
                "Node ID: 11<br>Pullback set label: 4<br>Partial cluster label: -1<br>Node size: 1<br>Summary statistic: 0.333",
                "Node ID: 12<br>Pullback set label: 0<br>Partial cluster label: -1<br>Node size: 17<br>Summary statistic: 0",
                "Node ID: 13<br>Pullback set label: 13<br>Partial cluster label: -1<br>Node size: 29<br>Summary statistic: 0.547",
                "Node ID: 14<br>Pullback set label: 19<br>Partial cluster label: -1<br>Node size: 2<br>Summary statistic: 1.0",
                "Node ID: 15<br>Pullback set label: 15<br>Partial cluster label: -1<br>Node size: 5<br>Summary statistic: 0.567",
                "Node ID: 16<br>Pullback set label: 11<br>Partial cluster label: -1<br>Node size: 14<br>Summary statistic: 0.66",
                "Node ID: 17<br>Pullback set label: 5<br>Partial cluster label: 0<br>Node size: 5<br>Summary statistic: 1.0",
                "Node ID: 18<br>Pullback set label: 14<br>Partial cluster label: -1<br>Node size: 6<br>Summary statistic: 0.594",
                "Node ID: 19<br>Pullback set label: 17<br>Partial cluster label: 0<br>Node size: 45<br>Summary statistic: 0",
                "Node ID: 20<br>Pullback set label: 18<br>Partial cluster label: 0<br>Node size: 6<br>Summary statistic: 1.0",
                "Node ID: 21<br>Pullback set label: 16<br>Partial cluster label: -1<br>Node size: 1<br>Summary statistic: 0.667",
                "Node ID: 22<br>Pullback set label: 16<br>Partial cluster label: 0<br>Node size: 5<br>Summary statistic: 1.0",
                "Node ID: 23<br>Pullback set label: 2<br>Partial cluster label: -1<br>Node size: 1<br>Summary statistic: 0.333",
                "Node ID: 24<br>Pullback set label: 16<br>Partial cluster label: 1<br>Node size: 26<br>Summary statistic: 1.0",
                "Node ID: 25<br>Pullback set label: 8<br>Partial cluster label: 1<br>Node size: 8<br>Summary statistic: 1.0",
                "Node ID: 26<br>Pullback set label: 9<br>Partial cluster label: 0<br>Node size: 8<br>Summary statistic: 1.0",
                "Node ID: 27<br>Pullback set label: 17<br>Partial cluster label: -1<br>Node size: 1<br>Summary statistic: 1.0",
                "Node ID: 28<br>Pullback set label: 1<br>Partial cluster label: 0<br>Node size: 20<br>Summary statistic: 0"
               ]
              ],
              "marker.color": [
               null,
               [
                0.34018530489118726,
                0.4669245578403993,
                0.45782077288611217,
                0.47267398541908345,
                0.12,
                0.4480519480519481,
                0.7351528905876732,
                0.7531177156177157,
                0.5534798534798535,
                0.5799019607843137,
                0.4583333333333333,
                0.3333333333333333,
                0,
                0.5465517241379311,
                1,
                0.5666666666666667,
                0.6595238095238096,
                1,
                0.5944444444444444,
                0,
                1,
                0.6666666666666666,
                1,
                0.3333333333333333,
                1,
                1,
                1,
                1,
                0
               ]
              ]
             }
            ],
            "label": "31",
            "method": "restyle"
           },
           {
            "args": [
             {
              "hovertext": [
               null,
               [
                "Node ID: 0<br>Pullback set label: 5<br>Partial cluster label: -1<br>Node size: 34<br>Summary statistic: 0.0907",
                "Node ID: 1<br>Pullback set label: 6<br>Partial cluster label: -1<br>Node size: 20<br>Summary statistic: 0.16",
                "Node ID: 2<br>Pullback set label: 7<br>Partial cluster label: 0<br>Node size: 8<br>Summary statistic: 0.0889",
                "Node ID: 3<br>Pullback set label: 8<br>Partial cluster label: 0<br>Node size: 9<br>Summary statistic: 0.0786",
                "Node ID: 4<br>Pullback set label: 1<br>Partial cluster label: -1<br>Node size: 25<br>Summary statistic: 0.08",
                "Node ID: 5<br>Pullback set label: 7<br>Partial cluster label: -1<br>Node size: 11<br>Summary statistic: 0.195",
                "Node ID: 6<br>Pullback set label: 8<br>Partial cluster label: -1<br>Node size: 46<br>Summary statistic: 0.11",
                "Node ID: 7<br>Pullback set label: 9<br>Partial cluster label: -1<br>Node size: 44<br>Summary statistic: 0.115",
                "Node ID: 8<br>Pullback set label: 10<br>Partial cluster label: -1<br>Node size: 14<br>Summary statistic: 0.0495",
                "Node ID: 9<br>Pullback set label: 12<br>Partial cluster label: -1<br>Node size: 34<br>Summary statistic: 0.0515",
                "Node ID: 10<br>Pullback set label: 3<br>Partial cluster label: -1<br>Node size: 5<br>Summary statistic: 0.0667",
                "Node ID: 11<br>Pullback set label: 4<br>Partial cluster label: -1<br>Node size: 1<br>Summary statistic: 0.333",
                "Node ID: 12<br>Pullback set label: 0<br>Partial cluster label: -1<br>Node size: 17<br>Summary statistic: 0.235",
                "Node ID: 13<br>Pullback set label: 13<br>Partial cluster label: -1<br>Node size: 29<br>Summary statistic: 0.0431",
                "Node ID: 14<br>Pullback set label: 19<br>Partial cluster label: -1<br>Node size: 2<br>Summary statistic: 0",
                "Node ID: 15<br>Pullback set label: 15<br>Partial cluster label: -1<br>Node size: 5<br>Summary statistic: 0.1",
                "Node ID: 16<br>Pullback set label: 11<br>Partial cluster label: -1<br>Node size: 14<br>Summary statistic: 0.0679",
                "Node ID: 17<br>Pullback set label: 5<br>Partial cluster label: 0<br>Node size: 5<br>Summary statistic: 0",
                "Node ID: 18<br>Pullback set label: 14<br>Partial cluster label: -1<br>Node size: 6<br>Summary statistic: 0.0833",
                "Node ID: 19<br>Pullback set label: 17<br>Partial cluster label: 0<br>Node size: 45<br>Summary statistic: 0",
                "Node ID: 20<br>Pullback set label: 18<br>Partial cluster label: 0<br>Node size: 6<br>Summary statistic: 0",
                "Node ID: 21<br>Pullback set label: 16<br>Partial cluster label: -1<br>Node size: 1<br>Summary statistic: 0",
                "Node ID: 22<br>Pullback set label: 16<br>Partial cluster label: 0<br>Node size: 5<br>Summary statistic: 0",
                "Node ID: 23<br>Pullback set label: 2<br>Partial cluster label: -1<br>Node size: 1<br>Summary statistic: 0",
                "Node ID: 24<br>Pullback set label: 16<br>Partial cluster label: 1<br>Node size: 26<br>Summary statistic: 0",
                "Node ID: 25<br>Pullback set label: 8<br>Partial cluster label: 1<br>Node size: 8<br>Summary statistic: 0",
                "Node ID: 26<br>Pullback set label: 9<br>Partial cluster label: 0<br>Node size: 8<br>Summary statistic: 0",
                "Node ID: 27<br>Pullback set label: 17<br>Partial cluster label: -1<br>Node size: 1<br>Summary statistic: 0",
                "Node ID: 28<br>Pullback set label: 1<br>Partial cluster label: 0<br>Node size: 20<br>Summary statistic: 0"
               ]
              ],
              "marker.color": [
               null,
               [
                0.09068627450980392,
                0.16005068363979252,
                0.08894424368907479,
                0.07855209423836874,
                0.08,
                0.1948051948051948,
                0.10985029463290333,
                0.11523892773892773,
                0.04954212454212454,
                0.051470588235294115,
                0.06666666666666667,
                0.3333333333333333,
                0.23529411764705882,
                0.04310344827586207,
                0,
                0.1,
                0.06785714285714285,
                0,
                0.08333333333333333,
                0,
                0,
                0,
                0,
                0,
                0,
                0,
                0,
                0,
                0
               ]
              ]
             }
            ],
            "label": "32",
            "method": "restyle"
           },
           {
            "args": [
             {
              "hovertext": [
               null,
               [
                "Node ID: 0<br>Pullback set label: 5<br>Partial cluster label: -1<br>Node size: 34<br>Summary statistic: 0",
                "Node ID: 1<br>Pullback set label: 6<br>Partial cluster label: -1<br>Node size: 20<br>Summary statistic: 0",
                "Node ID: 2<br>Pullback set label: 7<br>Partial cluster label: 0<br>Node size: 8<br>Summary statistic: 0",
                "Node ID: 3<br>Pullback set label: 8<br>Partial cluster label: 0<br>Node size: 9<br>Summary statistic: 0",
                "Node ID: 4<br>Pullback set label: 1<br>Partial cluster label: -1<br>Node size: 25<br>Summary statistic: 0.08",
                "Node ID: 5<br>Pullback set label: 7<br>Partial cluster label: -1<br>Node size: 11<br>Summary statistic: 0",
                "Node ID: 6<br>Pullback set label: 8<br>Partial cluster label: -1<br>Node size: 46<br>Summary statistic: 0",
                "Node ID: 7<br>Pullback set label: 9<br>Partial cluster label: -1<br>Node size: 44<br>Summary statistic: 0",
                "Node ID: 8<br>Pullback set label: 10<br>Partial cluster label: -1<br>Node size: 14<br>Summary statistic: 0",
                "Node ID: 9<br>Pullback set label: 12<br>Partial cluster label: -1<br>Node size: 34<br>Summary statistic: 0.0882",
                "Node ID: 10<br>Pullback set label: 3<br>Partial cluster label: -1<br>Node size: 5<br>Summary statistic: 0",
                "Node ID: 11<br>Pullback set label: 4<br>Partial cluster label: -1<br>Node size: 1<br>Summary statistic: 0",
                "Node ID: 12<br>Pullback set label: 0<br>Partial cluster label: -1<br>Node size: 17<br>Summary statistic: 0",
                "Node ID: 13<br>Pullback set label: 13<br>Partial cluster label: -1<br>Node size: 29<br>Summary statistic: 0.103",
                "Node ID: 14<br>Pullback set label: 19<br>Partial cluster label: -1<br>Node size: 2<br>Summary statistic: 0",
                "Node ID: 15<br>Pullback set label: 15<br>Partial cluster label: -1<br>Node size: 5<br>Summary statistic: 0",
                "Node ID: 16<br>Pullback set label: 11<br>Partial cluster label: -1<br>Node size: 14<br>Summary statistic: 0",
                "Node ID: 17<br>Pullback set label: 5<br>Partial cluster label: 0<br>Node size: 5<br>Summary statistic: 0",
                "Node ID: 18<br>Pullback set label: 14<br>Partial cluster label: -1<br>Node size: 6<br>Summary statistic: 0",
                "Node ID: 19<br>Pullback set label: 17<br>Partial cluster label: 0<br>Node size: 45<br>Summary statistic: 0",
                "Node ID: 20<br>Pullback set label: 18<br>Partial cluster label: 0<br>Node size: 6<br>Summary statistic: 0",
                "Node ID: 21<br>Pullback set label: 16<br>Partial cluster label: -1<br>Node size: 1<br>Summary statistic: 0",
                "Node ID: 22<br>Pullback set label: 16<br>Partial cluster label: 0<br>Node size: 5<br>Summary statistic: 0",
                "Node ID: 23<br>Pullback set label: 2<br>Partial cluster label: -1<br>Node size: 1<br>Summary statistic: 0",
                "Node ID: 24<br>Pullback set label: 16<br>Partial cluster label: 1<br>Node size: 26<br>Summary statistic: 0",
                "Node ID: 25<br>Pullback set label: 8<br>Partial cluster label: 1<br>Node size: 8<br>Summary statistic: 0",
                "Node ID: 26<br>Pullback set label: 9<br>Partial cluster label: 0<br>Node size: 8<br>Summary statistic: 0",
                "Node ID: 27<br>Pullback set label: 17<br>Partial cluster label: -1<br>Node size: 1<br>Summary statistic: 0",
                "Node ID: 28<br>Pullback set label: 1<br>Partial cluster label: 0<br>Node size: 20<br>Summary statistic: 0"
               ]
              ],
              "marker.color": [
               null,
               [
                0,
                0,
                0,
                0,
                0.08,
                0,
                0,
                0,
                0,
                0.08823529411764706,
                0,
                0,
                0,
                0.10344827586206896,
                0,
                0,
                0,
                0,
                0,
                0,
                0,
                0,
                0,
                0,
                0,
                0,
                0,
                0,
                0
               ]
              ]
             }
            ],
            "label": "33",
            "method": "restyle"
           },
           {
            "args": [
             {
              "hovertext": [
               null,
               [
                "Node ID: 0<br>Pullback set label: 5<br>Partial cluster label: -1<br>Node size: 34<br>Summary statistic: 0.00735",
                "Node ID: 1<br>Pullback set label: 6<br>Partial cluster label: -1<br>Node size: 20<br>Summary statistic: 0.000397",
                "Node ID: 2<br>Pullback set label: 7<br>Partial cluster label: 0<br>Node size: 8<br>Summary statistic: 0.00407",
                "Node ID: 3<br>Pullback set label: 8<br>Partial cluster label: 0<br>Node size: 9<br>Summary statistic: 0.00131",
                "Node ID: 4<br>Pullback set label: 1<br>Partial cluster label: -1<br>Node size: 25<br>Summary statistic: 0.08",
                "Node ID: 5<br>Pullback set label: 7<br>Partial cluster label: -1<br>Node size: 11<br>Summary statistic: 0",
                "Node ID: 6<br>Pullback set label: 8<br>Partial cluster label: -1<br>Node size: 46<br>Summary statistic: 0",
                "Node ID: 7<br>Pullback set label: 9<br>Partial cluster label: -1<br>Node size: 44<br>Summary statistic: 0.00175",
                "Node ID: 8<br>Pullback set label: 10<br>Partial cluster label: -1<br>Node size: 14<br>Summary statistic: 0.00549",
                "Node ID: 9<br>Pullback set label: 12<br>Partial cluster label: -1<br>Node size: 34<br>Summary statistic: 0.00735",
                "Node ID: 10<br>Pullback set label: 3<br>Partial cluster label: -1<br>Node size: 5<br>Summary statistic: 0",
                "Node ID: 11<br>Pullback set label: 4<br>Partial cluster label: -1<br>Node size: 1<br>Summary statistic: 0",
                "Node ID: 12<br>Pullback set label: 0<br>Partial cluster label: -1<br>Node size: 17<br>Summary statistic: 0.0294",
                "Node ID: 13<br>Pullback set label: 13<br>Partial cluster label: -1<br>Node size: 29<br>Summary statistic: 0",
                "Node ID: 14<br>Pullback set label: 19<br>Partial cluster label: -1<br>Node size: 2<br>Summary statistic: 0",
                "Node ID: 15<br>Pullback set label: 15<br>Partial cluster label: -1<br>Node size: 5<br>Summary statistic: 0",
                "Node ID: 16<br>Pullback set label: 11<br>Partial cluster label: -1<br>Node size: 14<br>Summary statistic: 0.0179",
                "Node ID: 17<br>Pullback set label: 5<br>Partial cluster label: 0<br>Node size: 5<br>Summary statistic: 0",
                "Node ID: 18<br>Pullback set label: 14<br>Partial cluster label: -1<br>Node size: 6<br>Summary statistic: 0",
                "Node ID: 19<br>Pullback set label: 17<br>Partial cluster label: 0<br>Node size: 45<br>Summary statistic: 0",
                "Node ID: 20<br>Pullback set label: 18<br>Partial cluster label: 0<br>Node size: 6<br>Summary statistic: 0",
                "Node ID: 21<br>Pullback set label: 16<br>Partial cluster label: -1<br>Node size: 1<br>Summary statistic: 0",
                "Node ID: 22<br>Pullback set label: 16<br>Partial cluster label: 0<br>Node size: 5<br>Summary statistic: 0",
                "Node ID: 23<br>Pullback set label: 2<br>Partial cluster label: -1<br>Node size: 1<br>Summary statistic: 0",
                "Node ID: 24<br>Pullback set label: 16<br>Partial cluster label: 1<br>Node size: 26<br>Summary statistic: 0",
                "Node ID: 25<br>Pullback set label: 8<br>Partial cluster label: 1<br>Node size: 8<br>Summary statistic: 0",
                "Node ID: 26<br>Pullback set label: 9<br>Partial cluster label: 0<br>Node size: 8<br>Summary statistic: 0",
                "Node ID: 27<br>Pullback set label: 17<br>Partial cluster label: -1<br>Node size: 1<br>Summary statistic: 0",
                "Node ID: 28<br>Pullback set label: 1<br>Partial cluster label: 0<br>Node size: 20<br>Summary statistic: 0"
               ]
              ],
              "marker.color": [
               null,
               [
                0.007352941176470588,
                0.0003968253968253968,
                0.004074754901960784,
                0.00130718954248366,
                0.08,
                0,
                0,
                0.0017482517482517483,
                0.005494505494505495,
                0.007352941176470588,
                0,
                0,
                0.029411764705882353,
                0,
                0,
                0,
                0.017857142857142856,
                0,
                0,
                0,
                0,
                0,
                0,
                0,
                0,
                0,
                0,
                0,
                0
               ]
              ]
             }
            ],
            "label": "34",
            "method": "restyle"
           }
          ],
          "direction": "down",
          "pad": {
           "r": 10,
           "t": 10
          },
          "showactive": true,
          "x": 0.11,
          "xanchor": "left",
          "y": 1.1,
          "yanchor": "top"
         }
        ],
        "xaxis": {
         "showgrid": false,
         "showline": false,
         "showticklabels": false,
         "ticks": "",
         "title": {
          "text": ""
         },
         "zeroline": false
        },
        "yaxis": {
         "showgrid": false,
         "showline": false,
         "showticklabels": false,
         "ticks": "",
         "title": {
          "text": ""
         },
         "zeroline": false
        }
       }
      }
     },
     "metadata": {},
     "output_type": "display_data"
    }
   ],
   "source": [
    "import gtda.mapper as map\n",
    "import sklearn.cluster as cluster\n",
    "import igraph as ig\n",
    "\n",
    "filter_func = l1_norm_trans\n",
    "cover = map.OneDimensionalCover(kind='uniform', n_intervals=30, overlap_frac=0.4)\n",
    "clusterer = cluster.DBSCAN()\n",
    "\n",
    "pipe = map.make_mapper_pipeline(\n",
    "    filter_func=filter_func,\n",
    "    cover=cover,\n",
    "    clusterer=clusterer,\n",
    "    verbose=False,\n",
    "    n_jobs=1,\n",
    ")\n",
    "\n",
    "fig = map.plot_static_mapper_graph(pipe, df_codes_array_norm_tweet, color_data = df_codes_array_norm_tweet)\n",
    "fig.show(config={'scrollZoom': True})\n"
   ]
  },
  {
   "cell_type": "code",
   "execution_count": 56,
   "metadata": {},
   "outputs": [
    {
     "ename": "KeyboardInterrupt",
     "evalue": "",
     "output_type": "error",
     "traceback": [
      "\u001b[0;31m---------------------------------------------------------------------------\u001b[0m",
      "\u001b[0;31mKeyboardInterrupt\u001b[0m                         Traceback (most recent call last)",
      "\u001b[1;32m/Users/rachelroca/Documents/GitHub/DAAAAMNdjmm/tda/playingaround.ipynb Cell 18\u001b[0m line \u001b[0;36m2\n\u001b[1;32m     <a href='vscode-notebook-cell:/Users/rachelroca/Documents/GitHub/DAAAAMNdjmm/tda/playingaround.ipynb#X23sZmlsZQ%3D%3D?line=19'>20</a>\u001b[0m fig \u001b[39m=\u001b[39m \u001b[39mmap\u001b[39m\u001b[39m.\u001b[39mplot_static_mapper_graph(pipe, df_codes_array_norm_tweet)\n\u001b[1;32m     <a href='vscode-notebook-cell:/Users/rachelroca/Documents/GitHub/DAAAAMNdjmm/tda/playingaround.ipynb#X23sZmlsZQ%3D%3D?line=20'>21</a>\u001b[0m \u001b[39m#fig.show(config={'scrollZoom': True})\u001b[39;00m\n\u001b[0;32m---> <a href='vscode-notebook-cell:/Users/rachelroca/Documents/GitHub/DAAAAMNdjmm/tda/playingaround.ipynb#X23sZmlsZQ%3D%3D?line=21'>22</a>\u001b[0m fig\u001b[39m.\u001b[39;49mwrite_image(\u001b[39m'\u001b[39;49m\u001b[39mfigures/ints_\u001b[39;49m\u001b[39m'\u001b[39;49m\u001b[39m+\u001b[39;49m\u001b[39mstr\u001b[39;49m(i)\u001b[39m+\u001b[39;49m\u001b[39m'\u001b[39;49m\u001b[39m_olfrac\u001b[39;49m\u001b[39m'\u001b[39;49m\u001b[39m+\u001b[39;49m\u001b[39mstr\u001b[39;49m(j)\u001b[39m+\u001b[39;49m\u001b[39m'\u001b[39;49m\u001b[39m.png\u001b[39;49m\u001b[39m'\u001b[39;49m)\n\u001b[1;32m     <a href='vscode-notebook-cell:/Users/rachelroca/Documents/GitHub/DAAAAMNdjmm/tda/playingaround.ipynb#X23sZmlsZQ%3D%3D?line=22'>23</a>\u001b[0m graph \u001b[39m=\u001b[39m pipe\u001b[39m.\u001b[39mfit_transform(df_codes_array_norm_tweet)\n\u001b[1;32m     <a href='vscode-notebook-cell:/Users/rachelroca/Documents/GitHub/DAAAAMNdjmm/tda/playingaround.ipynb#X23sZmlsZQ%3D%3D?line=23'>24</a>\u001b[0m \u001b[39mtype\u001b[39m(graph)\n",
      "File \u001b[0;32m~/opt/anaconda3/lib/python3.8/site-packages/plotly/basedatatypes.py:3829\u001b[0m, in \u001b[0;36mBaseFigure.write_image\u001b[0;34m(self, *args, **kwargs)\u001b[0m\n\u001b[1;32m   3769\u001b[0m \u001b[39m\"\"\"\u001b[39;00m\n\u001b[1;32m   3770\u001b[0m \u001b[39mConvert a figure to a static image and write it to a file or writeable\u001b[39;00m\n\u001b[1;32m   3771\u001b[0m \u001b[39mobject\u001b[39;00m\n\u001b[0;32m   (...)\u001b[0m\n\u001b[1;32m   3825\u001b[0m \u001b[39mNone\u001b[39;00m\n\u001b[1;32m   3826\u001b[0m \u001b[39m\"\"\"\u001b[39;00m\n\u001b[1;32m   3827\u001b[0m \u001b[39mimport\u001b[39;00m \u001b[39mplotly\u001b[39;00m\u001b[39m.\u001b[39;00m\u001b[39mio\u001b[39;00m \u001b[39mas\u001b[39;00m \u001b[39mpio\u001b[39;00m\n\u001b[0;32m-> 3829\u001b[0m \u001b[39mreturn\u001b[39;00m pio\u001b[39m.\u001b[39;49mwrite_image(\u001b[39mself\u001b[39;49m, \u001b[39m*\u001b[39;49margs, \u001b[39m*\u001b[39;49m\u001b[39m*\u001b[39;49mkwargs)\n",
      "File \u001b[0;32m~/opt/anaconda3/lib/python3.8/site-packages/plotly/io/_kaleido.py:267\u001b[0m, in \u001b[0;36mwrite_image\u001b[0;34m(fig, file, format, scale, width, height, validate, engine)\u001b[0m\n\u001b[1;32m    251\u001b[0m             \u001b[39mraise\u001b[39;00m \u001b[39mValueError\u001b[39;00m(\n\u001b[1;32m    252\u001b[0m                 \u001b[39m\"\"\"\u001b[39;00m\n\u001b[1;32m    253\u001b[0m \u001b[39mCannot infer image type from output path '{file}'.\u001b[39;00m\n\u001b[0;32m   (...)\u001b[0m\n\u001b[1;32m    261\u001b[0m                 )\n\u001b[1;32m    262\u001b[0m             )\n\u001b[1;32m    264\u001b[0m     \u001b[39m# Request image\u001b[39;00m\n\u001b[1;32m    265\u001b[0m     \u001b[39m# -------------\u001b[39;00m\n\u001b[1;32m    266\u001b[0m     \u001b[39m# Do this first so we don't create a file if image conversion fails\u001b[39;00m\n\u001b[0;32m--> 267\u001b[0m     img_data \u001b[39m=\u001b[39m to_image(\n\u001b[1;32m    268\u001b[0m         fig,\n\u001b[1;32m    269\u001b[0m         \u001b[39mformat\u001b[39;49m\u001b[39m=\u001b[39;49m\u001b[39mformat\u001b[39;49m,\n\u001b[1;32m    270\u001b[0m         scale\u001b[39m=\u001b[39;49mscale,\n\u001b[1;32m    271\u001b[0m         width\u001b[39m=\u001b[39;49mwidth,\n\u001b[1;32m    272\u001b[0m         height\u001b[39m=\u001b[39;49mheight,\n\u001b[1;32m    273\u001b[0m         validate\u001b[39m=\u001b[39;49mvalidate,\n\u001b[1;32m    274\u001b[0m         engine\u001b[39m=\u001b[39;49mengine,\n\u001b[1;32m    275\u001b[0m     )\n\u001b[1;32m    277\u001b[0m     \u001b[39m# Open file\u001b[39;00m\n\u001b[1;32m    278\u001b[0m     \u001b[39m# ---------\u001b[39;00m\n\u001b[1;32m    279\u001b[0m     \u001b[39mif\u001b[39;00m path \u001b[39mis\u001b[39;00m \u001b[39mNone\u001b[39;00m:\n\u001b[1;32m    280\u001b[0m         \u001b[39m# We previously failed to make sense of `file` as a pathlib object.\u001b[39;00m\n\u001b[1;32m    281\u001b[0m         \u001b[39m# Attempt to write to `file` as an open file descriptor.\u001b[39;00m\n",
      "File \u001b[0;32m~/opt/anaconda3/lib/python3.8/site-packages/plotly/io/_kaleido.py:144\u001b[0m, in \u001b[0;36mto_image\u001b[0;34m(fig, format, width, height, scale, validate, engine)\u001b[0m\n\u001b[1;32m    141\u001b[0m \u001b[39m# Validate figure\u001b[39;00m\n\u001b[1;32m    142\u001b[0m \u001b[39m# ---------------\u001b[39;00m\n\u001b[1;32m    143\u001b[0m fig_dict \u001b[39m=\u001b[39m validate_coerce_fig_to_dict(fig, validate)\n\u001b[0;32m--> 144\u001b[0m img_bytes \u001b[39m=\u001b[39m scope\u001b[39m.\u001b[39;49mtransform(\n\u001b[1;32m    145\u001b[0m     fig_dict, \u001b[39mformat\u001b[39;49m\u001b[39m=\u001b[39;49m\u001b[39mformat\u001b[39;49m, width\u001b[39m=\u001b[39;49mwidth, height\u001b[39m=\u001b[39;49mheight, scale\u001b[39m=\u001b[39;49mscale\n\u001b[1;32m    146\u001b[0m )\n\u001b[1;32m    148\u001b[0m \u001b[39mreturn\u001b[39;00m img_bytes\n",
      "File \u001b[0;32m~/opt/anaconda3/lib/python3.8/site-packages/kaleido/scopes/plotly.py:153\u001b[0m, in \u001b[0;36mPlotlyScope.transform\u001b[0;34m(self, figure, format, width, height, scale)\u001b[0m\n\u001b[1;32m    142\u001b[0m     \u001b[39mraise\u001b[39;00m \u001b[39mValueError\u001b[39;00m(\n\u001b[1;32m    143\u001b[0m         \u001b[39m\"\u001b[39m\u001b[39mInvalid format \u001b[39m\u001b[39m'\u001b[39m\u001b[39m{original_format}\u001b[39;00m\u001b[39m'\u001b[39m\u001b[39m.\u001b[39m\u001b[39m\\n\u001b[39;00m\u001b[39m\"\u001b[39m\n\u001b[1;32m    144\u001b[0m         \u001b[39m\"\u001b[39m\u001b[39m    Supported formats: \u001b[39m\u001b[39m{supported_formats_str}\u001b[39;00m\u001b[39m\"\u001b[39m\n\u001b[0;32m   (...)\u001b[0m\n\u001b[1;32m    148\u001b[0m         )\n\u001b[1;32m    149\u001b[0m     )\n\u001b[1;32m    151\u001b[0m \u001b[39m# Transform in using _perform_transform rather than superclass so we can access the full\u001b[39;00m\n\u001b[1;32m    152\u001b[0m \u001b[39m# response dict, including error codes.\u001b[39;00m\n\u001b[0;32m--> 153\u001b[0m response \u001b[39m=\u001b[39m \u001b[39mself\u001b[39;49m\u001b[39m.\u001b[39;49m_perform_transform(\n\u001b[1;32m    154\u001b[0m     figure, \u001b[39mformat\u001b[39;49m\u001b[39m=\u001b[39;49m\u001b[39mformat\u001b[39;49m, width\u001b[39m=\u001b[39;49mwidth, height\u001b[39m=\u001b[39;49mheight, scale\u001b[39m=\u001b[39;49mscale\n\u001b[1;32m    155\u001b[0m )\n\u001b[1;32m    157\u001b[0m \u001b[39m# Check for export error, later can customize error messages for plotly Python users\u001b[39;00m\n\u001b[1;32m    158\u001b[0m code \u001b[39m=\u001b[39m response\u001b[39m.\u001b[39mget(\u001b[39m\"\u001b[39m\u001b[39mcode\u001b[39m\u001b[39m\"\u001b[39m, \u001b[39m0\u001b[39m)\n",
      "File \u001b[0;32m~/opt/anaconda3/lib/python3.8/site-packages/kaleido/scopes/base.py:308\u001b[0m, in \u001b[0;36mBaseScope._perform_transform\u001b[0;34m(self, data, **kwargs)\u001b[0m\n\u001b[1;32m    306\u001b[0m     \u001b[39mself\u001b[39m\u001b[39m.\u001b[39m_proc\u001b[39m.\u001b[39mstdin\u001b[39m.\u001b[39mwrite(\u001b[39m\"\u001b[39m\u001b[39m\\n\u001b[39;00m\u001b[39m\"\u001b[39m\u001b[39m.\u001b[39mencode(\u001b[39m'\u001b[39m\u001b[39mutf-8\u001b[39m\u001b[39m'\u001b[39m))\n\u001b[1;32m    307\u001b[0m     \u001b[39mself\u001b[39m\u001b[39m.\u001b[39m_proc\u001b[39m.\u001b[39mstdin\u001b[39m.\u001b[39mflush()\n\u001b[0;32m--> 308\u001b[0m     response \u001b[39m=\u001b[39m \u001b[39mself\u001b[39;49m\u001b[39m.\u001b[39;49m_proc\u001b[39m.\u001b[39;49mstdout\u001b[39m.\u001b[39;49mreadline()\n\u001b[1;32m    310\u001b[0m response_string \u001b[39m=\u001b[39m response\u001b[39m.\u001b[39mdecode(\u001b[39m'\u001b[39m\u001b[39mutf-8\u001b[39m\u001b[39m'\u001b[39m)\n\u001b[1;32m    311\u001b[0m \u001b[39mif\u001b[39;00m \u001b[39mnot\u001b[39;00m response_string:\n",
      "\u001b[0;31mKeyboardInterrupt\u001b[0m: "
     ]
    }
   ],
   "source": [
    "#talk to Sarah, come up with some measure- number of connected components or size of them\n",
    "#store as igraph, connected components, 'size', vertices in mapper, number of vertices in each node\n",
    "nints= np.arange(5,55,5)\n",
    "olfrac = np.arange(0.1,.6,0.05)\n",
    "filter_func = l1_norm_trans\n",
    "\n",
    "for i in nints:\n",
    "    for j in olfrac:\n",
    "        cover = map.OneDimensionalCover(kind='uniform', n_intervals=int(i), overlap_frac=j)\n",
    "        clusterer = cluster.DBSCAN()\n",
    "\n",
    "        pipe = map.make_mapper_pipeline(\n",
    "            filter_func=filter_func,\n",
    "            cover=cover,    \n",
    "            clusterer=clusterer,\n",
    "            verbose=False,\n",
    "            n_jobs=1,\n",
    "        )\n",
    "\n",
    "        fig = map.plot_static_mapper_graph(pipe, df_codes_array_norm_tweet)\n",
    "        #fig.show(config={'scrollZoom': True})\n",
    "        fig.write_image('figures/ints_'+str(i)+'_olfrac'+str(j)+'.png')\n",
    "        graph = pipe.fit_transform(df_codes_array_norm_tweet)\n",
    "    "
   ]
  },
  {
   "cell_type": "code",
   "execution_count": null,
   "metadata": {},
   "outputs": [],
   "source": [
    "#talk to Sarah, come up with some measure- number of connected components or size of them\n",
    "#store as igraph, connected components, 'size', vertices in mapper, number of vertices in each node\n",
    "import igraph as ig\n",
    "\n",
    "nints= np.arange(5,55,5)\n",
    "olfrac = np.arange(0.1,.6,0.05)\n",
    "filter_func = l1_norm_trans\n",
    "cc_matrix = np.zeros((len(nints),len(olfrac)))\n",
    "\n",
    "for i in nints:\n",
    "    for j in olfrac:\n",
    "        cover = map.OneDimensionalCover(kind='uniform', n_intervals=int(i), overlap_frac=j)\n",
    "        clusterer = cluster.DBSCAN()\n",
    "\n",
    "        pipe = map.make_mapper_pipeline(\n",
    "            filter_func=filter_func,\n",
    "            cover=cover,    \n",
    "            clusterer=clusterer,\n",
    "            verbose=False,\n",
    "            n_jobs=1,\n",
    "        )\n",
    "\n",
    "        "
   ]
  },
  {
   "cell_type": "code",
   "execution_count": 16,
   "metadata": {},
   "outputs": [
    {
     "data": {
      "text/plain": [
       "(array([296.,  18.,   5.,   4.,   0.,   0.,   0.,   0.,   1.,   0.,   1.,\n",
       "          0.,   0.,   0.,   1.,   0.,   1.,   0.,   0.,   1.]),\n",
       " array([  1.  ,  21.85,  42.7 ,  63.55,  84.4 , 105.25, 126.1 , 146.95,\n",
       "        167.8 , 188.65, 209.5 , 230.35, 251.2 , 272.05, 292.9 , 313.75,\n",
       "        334.6 , 355.45, 376.3 , 397.15, 418.  ]),\n",
       " <BarContainer object of 20 artists>)"
      ]
     },
     "execution_count": 16,
     "metadata": {},
     "output_type": "execute_result"
    },
    {
     "data": {
      "image/png": "[encoded data removed]",
      "text/plain": [
       "<Figure size 640x480 with 1 Axes>"
      ]
     },
     "metadata": {},
     "output_type": "display_data"
    }
   ],
   "source": [
    "meh = l1_norm_trans.fit_transform(df_codes_array)\n",
    "meh\n",
    "plt.hist(meh[:,0], bins=20)"
   ]
  },
  {
   "cell_type": "code",
   "execution_count": 17,
   "metadata": {},
   "outputs": [
    {
     "data": {
      "text/plain": [
       "(array([17.,  0., 45.,  4.,  1., 48., 20., 52., 13.,  7., 29.,  6., 32.,\n",
       "         0.,  0., 46.,  0.,  6.,  0.,  2.]),\n",
       " array([1. , 1.4, 1.8, 2.2, 2.6, 3. , 3.4, 3.8, 4.2, 4.6, 5. , 5.4, 5.8,\n",
       "        6.2, 6.6, 7. , 7.4, 7.8, 8.2, 8.6, 9. ]),\n",
       " <BarContainer object of 20 artists>)"
      ]
     },
     "execution_count": 17,
     "metadata": {},
     "output_type": "execute_result"
    },
    {
     "data": {
      "image/png": "[encoded data removed]",
      "text/plain": [
       "<Figure size 640x480 with 1 Axes>"
      ]
     },
     "metadata": {},
     "output_type": "display_data"
    }
   ],
   "source": [
    "meh2 = l1_norm_trans.fit_transform(df_codes_array_norm_tweet)\n",
    "meh2\n",
    "plt.hist(meh2[:,0], bins=20)"
   ]
  },
  {
   "cell_type": "markdown",
   "metadata": {},
   "source": [
    "## MDS"
   ]
  },
  {
   "cell_type": "code",
   "execution_count": 40,
   "metadata": {},
   "outputs": [
    {
     "data": {
      "text/plain": [
       "[<matplotlib.lines.Line2D at 0x7fb64ed8d8b0>]"
      ]
     },
     "execution_count": 40,
     "metadata": {},
     "output_type": "execute_result"
    },
    {
     "data": {
      "image/png": "[encoded data removed]",
      "text/plain": [
       "<Figure size 640x480 with 1 Axes>"
      ]
     },
     "metadata": {},
     "output_type": "display_data"
    }
   ],
   "source": [
    "#let's do some mds\n",
    "from sklearn.manifold import MDS\n",
    "\n",
    "mds = MDS(n_components=2)\n",
    "X = mds.fit_transform(df_codes_array)\n",
    "plt.plot(X[:,0],X[:,1],'o')"
   ]
  },
  {
   "cell_type": "code",
   "execution_count": 19,
   "metadata": {},
   "outputs": [
    {
     "data": {
      "text/plain": [
       "[<matplotlib.lines.Line2D at 0x7fec9cfc77f0>]"
      ]
     },
     "execution_count": 19,
     "metadata": {},
     "output_type": "execute_result"
    },
    {
     "data": {
      "image/png": "[encoded data removed]",
      "text/plain": [
       "<Figure size 640x480 with 1 Axes>"
      ]
     },
     "metadata": {},
     "output_type": "display_data"
    }
   ],
   "source": [
    "#try l1 norm too\n",
    "#color by l1 norm, in a way that matches with mapper, total number of tweets, by certain code numbers\n",
    "mds = MDS(n_components=2)\n",
    "X = mds.fit_transform(df_codes_array_norm_tweet)\n",
    "plt.plot(X[:,0],X[:,1],'o')"
   ]
  },
  {
   "cell_type": "code",
   "execution_count": null,
   "metadata": {},
   "outputs": [],
   "source": []
  },
  {
   "cell_type": "markdown",
   "metadata": {},
   "source": [
    "## Lower Dim stuff"
   ]
  },
  {
   "cell_type": "code",
   "execution_count": 25,
   "metadata": {},
   "outputs": [],
   "source": [
    "\n",
    "#check both normalization, only themes or full codebook\n",
    "#reoresebt everyine\n",
    "df_codes_SO = df_codes[['amplification', 'SO impact', 'activation', 'strategic planning', 'troll']]\n",
    "df_codes_SO_array = df_codes_SO.to_numpy()\n",
    "\n",
    "df_codes_BC = df_codes[['thankful', 'talk support', 'belonging', 'emotional support', 'conversation', 'celebration', 'BC impact']]\n",
    "df_codes_BC_array = df_codes_BC.to_numpy()\n",
    "\n",
    "df_codes_BCP = df_codes[['disrupteverything', 'influencers', 'hashtags', 'virtual participation']]\n",
    "df_codes_BCP_array = df_codes_BCP.to_numpy()\n",
    "\n",
    "df_codes_CC = df_codes[['humanize', 'jmm experience', 'math experience', 'futures', 'math practice', 'current events', 'allyship in math', 'CC impact']]\n",
    "df_codes_CC_array = df_codes_CC.to_numpy()\n",
    "\n",
    "df_codes_SJEDI = df_codes[['representation', 'lgbtq', 'bipoc', 'gender',  'indigenous', 'power', 'advocacy', 'learning', 'economic', 'SJEDI impact']]\n",
    "df_codes_SJEDI_array = df_codes_SJEDI.to_numpy()"
   ]
  },
  {
   "cell_type": "code",
   "execution_count": 31,
   "metadata": {},
   "outputs": [
    {
     "data": {
      "application/vnd.plotly.v1+json": {
       "config": {
        "plotlyServerURL": "https://plot.ly"
       },
       "data": [
        {
         "hoverinfo": "none",
         "line": {
          "color": "black",
          "dash": "dash",
          "width": 1
         },
         "mode": "lines",
         "showlegend": false,
         "type": "scatter",
         "x": [
          -0.8,
          40.8
         ],
         "y": [
          -0.8,
          40.8
         ]
        },
        {
         "hoverinfo": "text",
         "hovertext": [
          "(0.0, 1.0), multiplicity: 25",
          "(0.0, 1.0), multiplicity: 25",
          "(0.0, 1.0), multiplicity: 25",
          "(0.0, 1.0), multiplicity: 25",
          "(0.0, 1.0), multiplicity: 25",
          "(0.0, 1.0), multiplicity: 25",
          "(0.0, 1.0), multiplicity: 25",
          "(0.0, 1.0), multiplicity: 25",
          "(0.0, 1.0), multiplicity: 25",
          "(0.0, 1.0), multiplicity: 25",
          "(0.0, 1.0), multiplicity: 25",
          "(0.0, 1.0), multiplicity: 25",
          "(0.0, 1.0), multiplicity: 25",
          "(0.0, 1.0), multiplicity: 25",
          "(0.0, 1.0), multiplicity: 25",
          "(0.0, 1.0), multiplicity: 25",
          "(0.0, 1.0), multiplicity: 25",
          "(0.0, 1.0), multiplicity: 25",
          "(0.0, 1.0), multiplicity: 25",
          "(0.0, 1.0), multiplicity: 25",
          "(0.0, 1.0), multiplicity: 25",
          "(0.0, 1.0), multiplicity: 25",
          "(0.0, 1.0), multiplicity: 25",
          "(0.0, 1.0), multiplicity: 25",
          "(0.0, 1.0), multiplicity: 25",
          "(0.0, 2.0), multiplicity: 4",
          "(0.0, 2.0), multiplicity: 4",
          "(0.0, 2.0), multiplicity: 4",
          "(0.0, 2.0), multiplicity: 4",
          "(0.0, 3.0), multiplicity: 2",
          "(0.0, 3.0), multiplicity: 2",
          "(0.0, 10.0), multiplicity: 2",
          "(0.0, 10.0), multiplicity: 2",
          "(0.0, 12.0)",
          "(0.0, 16.0)",
          "(0.0, 40.0)"
         ],
         "mode": "markers",
         "name": "H0",
         "type": "scatter",
         "x": [
          0,
          0,
          0,
          0,
          0,
          0,
          0,
          0,
          0,
          0,
          0,
          0,
          0,
          0,
          0,
          0,
          0,
          0,
          0,
          0,
          0,
          0,
          0,
          0,
          0,
          0,
          0,
          0,
          0,
          0,
          0,
          0,
          0,
          0,
          0,
          0
         ],
         "y": [
          1,
          1,
          1,
          1,
          1,
          1,
          1,
          1,
          1,
          1,
          1,
          1,
          1,
          1,
          1,
          1,
          1,
          1,
          1,
          1,
          1,
          1,
          1,
          1,
          1,
          2,
          2,
          2,
          2,
          3,
          3,
          10,
          10,
          12,
          16,
          40
         ]
        },
        {
         "hoverinfo": "text",
         "hovertext": [
          "(3.0, 4.0)",
          "(1.0, 2.0), multiplicity: 11",
          "(1.0, 2.0), multiplicity: 11",
          "(1.0, 2.0), multiplicity: 11",
          "(1.0, 2.0), multiplicity: 11",
          "(1.0, 2.0), multiplicity: 11",
          "(1.0, 2.0), multiplicity: 11",
          "(1.0, 2.0), multiplicity: 11",
          "(1.0, 2.0), multiplicity: 11",
          "(1.0, 2.0), multiplicity: 11",
          "(1.0, 2.0), multiplicity: 11",
          "(1.0, 2.0), multiplicity: 11"
         ],
         "mode": "markers",
         "name": "H1",
         "type": "scatter",
         "x": [
          3,
          1,
          1,
          1,
          1,
          1,
          1,
          1,
          1,
          1,
          1,
          1
         ],
         "y": [
          4,
          2,
          2,
          2,
          2,
          2,
          2,
          2,
          2,
          2,
          2,
          2
         ]
        },
        {
         "hoverinfo": "text",
         "hovertext": [],
         "mode": "markers",
         "name": "H2",
         "type": "scatter",
         "x": [],
         "y": []
        }
       ],
       "layout": {
        "height": 500,
        "plot_bgcolor": "white",
        "template": {
         "data": {
          "bar": [
           {
            "error_x": {
             "color": "#2a3f5f"
            },
            "error_y": {
             "color": "#2a3f5f"
            },
            "marker": {
             "line": {
              "color": "#E5ECF6",
              "width": 0.5
             },
             "pattern": {
              "fillmode": "overlay",
              "size": 10,
              "solidity": 0.2
             }
            },
            "type": "bar"
           }
          ],
          "barpolar": [
           {
            "marker": {
             "line": {
              "color": "#E5ECF6",
              "width": 0.5
             },
             "pattern": {
              "fillmode": "overlay",
              "size": 10,
              "solidity": 0.2
             }
            },
            "type": "barpolar"
           }
          ],
          "carpet": [
           {
            "aaxis": {
             "endlinecolor": "#2a3f5f",
             "gridcolor": "white",
             "linecolor": "white",
             "minorgridcolor": "white",
             "startlinecolor": "#2a3f5f"
            },
            "baxis": {
             "endlinecolor": "#2a3f5f",
             "gridcolor": "white",
             "linecolor": "white",
             "minorgridcolor": "white",
             "startlinecolor": "#2a3f5f"
            },
            "type": "carpet"
           }
          ],
          "choropleth": [
           {
            "colorbar": {
             "outlinewidth": 0,
             "ticks": ""
            },
            "type": "choropleth"
           }
          ],
          "contour": [
           {
            "colorbar": {
             "outlinewidth": 0,
             "ticks": ""
            },
            "colorscale": [
             [
              0,
              "#0d0887"
             ],
             [
              0.1111111111111111,
              "#46039f"
             ],
             [
              0.2222222222222222,
              "#7201a8"
             ],
             [
              0.3333333333333333,
              "#9c179e"
             ],
             [
              0.4444444444444444,
              "#bd3786"
             ],
             [
              0.5555555555555556,
              "#d8576b"
             ],
             [
              0.6666666666666666,
              "#ed7953"
             ],
             [
              0.7777777777777778,
              "#fb9f3a"
             ],
             [
              0.8888888888888888,
              "#fdca26"
             ],
             [
              1,
              "#f0f921"
             ]
            ],
            "type": "contour"
           }
          ],
          "contourcarpet": [
           {
            "colorbar": {
             "outlinewidth": 0,
             "ticks": ""
            },
            "type": "contourcarpet"
           }
          ],
          "heatmap": [
           {
            "colorbar": {
             "outlinewidth": 0,
             "ticks": ""
            },
            "colorscale": [
             [
              0,
              "#0d0887"
             ],
             [
              0.1111111111111111,
              "#46039f"
             ],
             [
              0.2222222222222222,
              "#7201a8"
             ],
             [
              0.3333333333333333,
              "#9c179e"
             ],
             [
              0.4444444444444444,
              "#bd3786"
             ],
             [
              0.5555555555555556,
              "#d8576b"
             ],
             [
              0.6666666666666666,
              "#ed7953"
             ],
             [
              0.7777777777777778,
              "#fb9f3a"
             ],
             [
              0.8888888888888888,
              "#fdca26"
             ],
             [
              1,
              "#f0f921"
             ]
            ],
            "type": "heatmap"
           }
          ],
          "heatmapgl": [
           {
            "colorbar": {
             "outlinewidth": 0,
             "ticks": ""
            },
            "colorscale": [
             [
              0,
              "#0d0887"
             ],
             [
              0.1111111111111111,
              "#46039f"
             ],
             [
              0.2222222222222222,
              "#7201a8"
             ],
             [
              0.3333333333333333,
              "#9c179e"
             ],
             [
              0.4444444444444444,
              "#bd3786"
             ],
             [
              0.5555555555555556,
              "#d8576b"
             ],
             [
              0.6666666666666666,
              "#ed7953"
             ],
             [
              0.7777777777777778,
              "#fb9f3a"
             ],
             [
              0.8888888888888888,
              "#fdca26"
             ],
             [
              1,
              "#f0f921"
             ]
            ],
            "type": "heatmapgl"
           }
          ],
          "histogram": [
           {
            "marker": {
             "pattern": {
              "fillmode": "overlay",
              "size": 10,
              "solidity": 0.2
             }
            },
            "type": "histogram"
           }
          ],
          "histogram2d": [
           {
            "colorbar": {
             "outlinewidth": 0,
             "ticks": ""
            },
            "colorscale": [
             [
              0,
              "#0d0887"
             ],
             [
              0.1111111111111111,
              "#46039f"
             ],
             [
              0.2222222222222222,
              "#7201a8"
             ],
             [
              0.3333333333333333,
              "#9c179e"
             ],
             [
              0.4444444444444444,
              "#bd3786"
             ],
             [
              0.5555555555555556,
              "#d8576b"
             ],
             [
              0.6666666666666666,
              "#ed7953"
             ],
             [
              0.7777777777777778,
              "#fb9f3a"
             ],
             [
              0.8888888888888888,
              "#fdca26"
             ],
             [
              1,
              "#f0f921"
             ]
            ],
            "type": "histogram2d"
           }
          ],
          "histogram2dcontour": [
           {
            "colorbar": {
             "outlinewidth": 0,
             "ticks": ""
            },
            "colorscale": [
             [
              0,
              "#0d0887"
             ],
             [
              0.1111111111111111,
              "#46039f"
             ],
             [
              0.2222222222222222,
              "#7201a8"
             ],
             [
              0.3333333333333333,
              "#9c179e"
             ],
             [
              0.4444444444444444,
              "#bd3786"
             ],
             [
              0.5555555555555556,
              "#d8576b"
             ],
             [
              0.6666666666666666,
              "#ed7953"
             ],
             [
              0.7777777777777778,
              "#fb9f3a"
             ],
             [
              0.8888888888888888,
              "#fdca26"
             ],
             [
              1,
              "#f0f921"
             ]
            ],
            "type": "histogram2dcontour"
           }
          ],
          "mesh3d": [
           {
            "colorbar": {
             "outlinewidth": 0,
             "ticks": ""
            },
            "type": "mesh3d"
           }
          ],
          "parcoords": [
           {
            "line": {
             "colorbar": {
              "outlinewidth": 0,
              "ticks": ""
             }
            },
            "type": "parcoords"
           }
          ],
          "pie": [
           {
            "automargin": true,
            "type": "pie"
           }
          ],
          "scatter": [
           {
            "fillpattern": {
             "fillmode": "overlay",
             "size": 10,
             "solidity": 0.2
            },
            "type": "scatter"
           }
          ],
          "scatter3d": [
           {
            "line": {
             "colorbar": {
              "outlinewidth": 0,
              "ticks": ""
             }
            },
            "marker": {
             "colorbar": {
              "outlinewidth": 0,
              "ticks": ""
             }
            },
            "type": "scatter3d"
           }
          ],
          "scattercarpet": [
           {
            "marker": {
             "colorbar": {
              "outlinewidth": 0,
              "ticks": ""
             }
            },
            "type": "scattercarpet"
           }
          ],
          "scattergeo": [
           {
            "marker": {
             "colorbar": {
              "outlinewidth": 0,
              "ticks": ""
             }
            },
            "type": "scattergeo"
           }
          ],
          "scattergl": [
           {
            "marker": {
             "colorbar": {
              "outlinewidth": 0,
              "ticks": ""
             }
            },
            "type": "scattergl"
           }
          ],
          "scattermapbox": [
           {
            "marker": {
             "colorbar": {
              "outlinewidth": 0,
              "ticks": ""
             }
            },
            "type": "scattermapbox"
           }
          ],
          "scatterpolar": [
           {
            "marker": {
             "colorbar": {
              "outlinewidth": 0,
              "ticks": ""
             }
            },
            "type": "scatterpolar"
           }
          ],
          "scatterpolargl": [
           {
            "marker": {
             "colorbar": {
              "outlinewidth": 0,
              "ticks": ""
             }
            },
            "type": "scatterpolargl"
           }
          ],
          "scatterternary": [
           {
            "marker": {
             "colorbar": {
              "outlinewidth": 0,
              "ticks": ""
             }
            },
            "type": "scatterternary"
           }
          ],
          "surface": [
           {
            "colorbar": {
             "outlinewidth": 0,
             "ticks": ""
            },
            "colorscale": [
             [
              0,
              "#0d0887"
             ],
             [
              0.1111111111111111,
              "#46039f"
             ],
             [
              0.2222222222222222,
              "#7201a8"
             ],
             [
              0.3333333333333333,
              "#9c179e"
             ],
             [
              0.4444444444444444,
              "#bd3786"
             ],
             [
              0.5555555555555556,
              "#d8576b"
             ],
             [
              0.6666666666666666,
              "#ed7953"
             ],
             [
              0.7777777777777778,
              "#fb9f3a"
             ],
             [
              0.8888888888888888,
              "#fdca26"
             ],
             [
              1,
              "#f0f921"
             ]
            ],
            "type": "surface"
           }
          ],
          "table": [
           {
            "cells": {
             "fill": {
              "color": "#EBF0F8"
             },
             "line": {
              "color": "white"
             }
            },
            "header": {
             "fill": {
              "color": "#C8D4E3"
             },
             "line": {
              "color": "white"
             }
            },
            "type": "table"
           }
          ]
         },
         "layout": {
          "annotationdefaults": {
           "arrowcolor": "#2a3f5f",
           "arrowhead": 0,
           "arrowwidth": 1
          },
          "autotypenumbers": "strict",
          "coloraxis": {
           "colorbar": {
            "outlinewidth": 0,
            "ticks": ""
           }
          },
          "colorscale": {
           "diverging": [
            [
             0,
             "#8e0152"
            ],
            [
             0.1,
             "#c51b7d"
            ],
            [
             0.2,
             "#de77ae"
            ],
            [
             0.3,
             "#f1b6da"
            ],
            [
             0.4,
             "#fde0ef"
            ],
            [
             0.5,
             "#f7f7f7"
            ],
            [
             0.6,
             "#e6f5d0"
            ],
            [
             0.7,
             "#b8e186"
            ],
            [
             0.8,
             "#7fbc41"
            ],
            [
             0.9,
             "#4d9221"
            ],
            [
             1,
             "#276419"
            ]
           ],
           "sequential": [
            [
             0,
             "#0d0887"
            ],
            [
             0.1111111111111111,
             "#46039f"
            ],
            [
             0.2222222222222222,
             "#7201a8"
            ],
            [
             0.3333333333333333,
             "#9c179e"
            ],
            [
             0.4444444444444444,
             "#bd3786"
            ],
            [
             0.5555555555555556,
             "#d8576b"
            ],
            [
             0.6666666666666666,
             "#ed7953"
            ],
            [
             0.7777777777777778,
             "#fb9f3a"
            ],
            [
             0.8888888888888888,
             "#fdca26"
            ],
            [
             1,
             "#f0f921"
            ]
           ],
           "sequentialminus": [
            [
             0,
             "#0d0887"
            ],
            [
             0.1111111111111111,
             "#46039f"
            ],
            [
             0.2222222222222222,
             "#7201a8"
            ],
            [
             0.3333333333333333,
             "#9c179e"
            ],
            [
             0.4444444444444444,
             "#bd3786"
            ],
            [
             0.5555555555555556,
             "#d8576b"
            ],
            [
             0.6666666666666666,
             "#ed7953"
            ],
            [
             0.7777777777777778,
             "#fb9f3a"
            ],
            [
             0.8888888888888888,
             "#fdca26"
            ],
            [
             1,
             "#f0f921"
            ]
           ]
          },
          "colorway": [
           "#636efa",
           "#EF553B",
           "#00cc96",
           "#ab63fa",
           "#FFA15A",
           "#19d3f3",
           "#FF6692",
           "#B6E880",
           "#FF97FF",
           "#FECB52"
          ],
          "font": {
           "color": "#2a3f5f"
          },
          "geo": {
           "bgcolor": "white",
           "lakecolor": "white",
           "landcolor": "#E5ECF6",
           "showlakes": true,
           "showland": true,
           "subunitcolor": "white"
          },
          "hoverlabel": {
           "align": "left"
          },
          "hovermode": "closest",
          "mapbox": {
           "style": "light"
          },
          "paper_bgcolor": "white",
          "plot_bgcolor": "#E5ECF6",
          "polar": {
           "angularaxis": {
            "gridcolor": "white",
            "linecolor": "white",
            "ticks": ""
           },
           "bgcolor": "#E5ECF6",
           "radialaxis": {
            "gridcolor": "white",
            "linecolor": "white",
            "ticks": ""
           }
          },
          "scene": {
           "xaxis": {
            "backgroundcolor": "#E5ECF6",
            "gridcolor": "white",
            "gridwidth": 2,
            "linecolor": "white",
            "showbackground": true,
            "ticks": "",
            "zerolinecolor": "white"
           },
           "yaxis": {
            "backgroundcolor": "#E5ECF6",
            "gridcolor": "white",
            "gridwidth": 2,
            "linecolor": "white",
            "showbackground": true,
            "ticks": "",
            "zerolinecolor": "white"
           },
           "zaxis": {
            "backgroundcolor": "#E5ECF6",
            "gridcolor": "white",
            "gridwidth": 2,
            "linecolor": "white",
            "showbackground": true,
            "ticks": "",
            "zerolinecolor": "white"
           }
          },
          "shapedefaults": {
           "line": {
            "color": "#2a3f5f"
           }
          },
          "ternary": {
           "aaxis": {
            "gridcolor": "white",
            "linecolor": "white",
            "ticks": ""
           },
           "baxis": {
            "gridcolor": "white",
            "linecolor": "white",
            "ticks": ""
           },
           "bgcolor": "#E5ECF6",
           "caxis": {
            "gridcolor": "white",
            "linecolor": "white",
            "ticks": ""
           }
          },
          "title": {
           "x": 0.05
          },
          "xaxis": {
           "automargin": true,
           "gridcolor": "white",
           "linecolor": "white",
           "ticks": "",
           "title": {
            "standoff": 15
           },
           "zerolinecolor": "white",
           "zerolinewidth": 2
          },
          "yaxis": {
           "automargin": true,
           "gridcolor": "white",
           "linecolor": "white",
           "ticks": "",
           "title": {
            "standoff": 15
           },
           "zerolinecolor": "white",
           "zerolinewidth": 2
          }
         }
        },
        "width": 500,
        "xaxis": {
         "autorange": false,
         "exponentformat": "e",
         "linecolor": "black",
         "linewidth": 1,
         "mirror": false,
         "range": [
          -0.8,
          40.8
         ],
         "showexponent": "all",
         "showline": true,
         "side": "bottom",
         "ticks": "outside",
         "title": {
          "text": "Birth"
         },
         "type": "linear",
         "zeroline": true
        },
        "yaxis": {
         "autorange": false,
         "exponentformat": "e",
         "linecolor": "black",
         "linewidth": 1,
         "mirror": false,
         "range": [
          -0.8,
          40.8
         ],
         "scaleanchor": "x",
         "scaleratio": 1,
         "showexponent": "all",
         "showline": true,
         "side": "left",
         "ticks": "outside",
         "title": {
          "text": "Death"
         },
         "type": "linear",
         "zeroline": true
        }
       }
      }
     },
     "metadata": {},
     "output_type": "display_data"
    }
   ],
   "source": [
    "#diagram = persistence.fit_transform(df_codes_SO_array[None,:,:])\n",
    "#plot_diagram(diagram[0])\n",
    "\n",
    "#diagram = persistence.fit_transform(df_codes_BC_array[None,:,:])\n",
    "#plot_diagram(diagram[0])\n",
    "\n",
    "diagram = persistence.fit_transform(df_codes_BCP_array[None,:,:])\n",
    "plot_diagram(diagram[0])\n",
    "\n",
    "#diagram = persistence.fit_transform(df_codes_CC_array[None,:,:])\n",
    "#plot_diagram(diagram[0])\n",
    "\n",
    "#diagram = persistence.fit_transform(df_codes_SJEDI_array[None,:,:])\n",
    "#plot_diagram(diagram[0])"
   ]
  },
  {
   "cell_type": "code",
   "execution_count": 32,
   "metadata": {},
   "outputs": [
    {
     "data": {
      "application/vnd.plotly.v1+json": {
       "config": {
        "plotlyServerURL": "https://plot.ly",
        "scrollZoom": true
       },
       "data": [
        {
         "hoverinfo": "none",
         "line": {
          "color": "#888",
          "width": 1
         },
         "mode": "lines",
         "name": "edge_trace",
         "type": "scatter",
         "uid": "2ec2249f-5721-4d80-b39e-1f6889edc161",
         "x": [
          1.6288846929201997,
          1.8849271885030736,
          null,
          1.6288846929201997,
          0.9968084456586496,
          null,
          1.8849271885030736,
          1.6135387943288146,
          null,
          1.6135387943288146,
          2.0427773214428204,
          null,
          0.9968084456586496,
          0.9174020053977122,
          null,
          -2.499827828183345,
          -1.8440993686512694,
          null,
          2.0427773214428204,
          1.868370253263725,
          null,
          -1.478939134348234,
          -2.1321993214202224,
          null
         ],
         "y": [
          0.9921087098694119,
          0.3317523778112793,
          null,
          0.9921087098694119,
          1.3553660453273806,
          null,
          0.3317523778112793,
          -0.34669984731640974,
          null,
          -0.34669984731640974,
          -0.9341066652064868,
          null,
          1.3553660453273806,
          2.070237665585698,
          null,
          2.26204630616763,
          2.523214228992046,
          null,
          -0.9341066652064868,
          -1.6294250099871515,
          null,
          -3.491150633978861,
          -3.2179337087332143,
          null
         ]
        },
        {
         "hoverinfo": "text",
         "hovertext": [
          "Node ID: 0<br>Pullback set label: 2<br>Partial cluster label: -1<br>Node size: 8<br>Summary statistic: 25.9",
          "Node ID: 1<br>Pullback set label: 10<br>Partial cluster label: -1<br>Node size: 1<br>Summary statistic: 1.0",
          "Node ID: 2<br>Pullback set label: 9<br>Partial cluster label: -1<br>Node size: 1<br>Summary statistic: 2.0",
          "Node ID: 3<br>Pullback set label: 3<br>Partial cluster label: -1<br>Node size: 5<br>Summary statistic: 20.2",
          "Node ID: 4<br>Pullback set label: 4<br>Partial cluster label: -1<br>Node size: 3<br>Summary statistic: 13.7",
          "Node ID: 5<br>Pullback set label: 7<br>Partial cluster label: -1<br>Node size: 2<br>Summary statistic: 9.5",
          "Node ID: 6<br>Pullback set label: 0<br>Partial cluster label: 0<br>Node size: 80<br>Summary statistic: 188.0",
          "Node ID: 7<br>Pullback set label: 1<br>Partial cluster label: -1<br>Node size: 18<br>Summary statistic: 67.2",
          "Node ID: 8<br>Pullback set label: 0<br>Partial cluster label: -1<br>Node size: 19<br>Summary statistic: 89.0",
          "Node ID: 9<br>Pullback set label: 0<br>Partial cluster label: 1<br>Node size: 158<br>Summary statistic: 189.0",
          "Node ID: 10<br>Pullback set label: 0<br>Partial cluster label: 2<br>Node size: 8<br>Summary statistic: 130.0",
          "Node ID: 11<br>Pullback set label: 1<br>Partial cluster label: 0<br>Node size: 8<br>Summary statistic: 130.0",
          "Node ID: 12<br>Pullback set label: 5<br>Partial cluster label: -1<br>Node size: 2<br>Summary statistic: 48.0",
          "Node ID: 13<br>Pullback set label: 0<br>Partial cluster label: 3<br>Node size: 7<br>Summary statistic: 168.0",
          "Node ID: 14<br>Pullback set label: 0<br>Partial cluster label: 4<br>Node size: 17<br>Summary statistic: 102.0",
          "Node ID: 15<br>Pullback set label: 0<br>Partial cluster label: 5<br>Node size: 5<br>Summary statistic: 127.0",
          "Node ID: 16<br>Pullback set label: 1<br>Partial cluster label: 1<br>Node size: 5<br>Summary statistic: 127.0",
          "Node ID: 17<br>Pullback set label: 0<br>Partial cluster label: 6<br>Node size: 5<br>Summary statistic: 163.0",
          "Node ID: 18<br>Pullback set label: 0<br>Partial cluster label: 7<br>Node size: 5<br>Summary statistic: 169.0",
          "Node ID: 19<br>Pullback set label: 6<br>Partial cluster label: -1<br>Node size: 1<br>Summary statistic: 78.0",
          "Node ID: 20<br>Pullback set label: 8<br>Partial cluster label: -1<br>Node size: 1<br>Summary statistic: 84.0"
         ],
         "marker": {
          "color": [
           25.875,
           1,
           2,
           20.2,
           13.666666666666666,
           9.5,
           187.8375,
           67.22222222222223,
           89,
           188.91139240506328,
           129.5,
           129.5,
           48,
           168.28571428571428,
           102,
           127,
           127,
           163.4,
           169,
           78,
           84
          ],
          "colorbar": {
           "thickness": 15,
           "title": {
            "side": "right",
            "text": ""
           },
           "xanchor": "left"
          },
          "colorscale": [
           [
            0,
            "#440154"
           ],
           [
            0.1111111111111111,
            "#482878"
           ],
           [
            0.2222222222222222,
            "#3e4989"
           ],
           [
            0.3333333333333333,
            "#31688e"
           ],
           [
            0.4444444444444444,
            "#26828e"
           ],
           [
            0.5555555555555556,
            "#1f9e89"
           ],
           [
            0.6666666666666666,
            "#35b779"
           ],
           [
            0.7777777777777778,
            "#6ece58"
           ],
           [
            0.8888888888888888,
            "#b5de2b"
           ],
           [
            1,
            "#fde725"
           ]
          ],
          "line": {
           "color": "#888",
           "width": 1
          },
          "opacity": 1,
          "reversescale": false,
          "showscale": true,
          "size": [
           8,
           1,
           1,
           5,
           3,
           2,
           80,
           18,
           19,
           158,
           8,
           8,
           2,
           7,
           17,
           5,
           5,
           5,
           5,
           1,
           1
          ],
          "sizemin": 4,
          "sizemode": "area",
          "sizeref": 2.1944444444444446
         },
         "mode": "markers",
         "name": "node_trace",
         "type": "scatter",
         "uid": "76efb0a0-79b3-456a-a03c-2ac19c60cae3",
         "x": [
          1.6288846929201997,
          -2.3659719025373764,
          -0.7074978512890523,
          1.8849271885030736,
          1.6135387943288146,
          1.1596619212822727,
          -3.974838070165585,
          0.9968084456586496,
          0.9174020053977122,
          -1.598792167031937,
          -2.499827828183345,
          -1.8440993686512694,
          2.0427773214428204,
          -0.5216722008075971,
          -3.948258147010634,
          -1.478939134348234,
          -2.1321993214202224,
          -0.012125108530748448,
          -3.3572881125846603,
          1.868370253263725,
          -3.5518113504373496
         ],
         "y": [
          0.9921087098694119,
          -0.9385614450645243,
          -1.7889837659170253,
          0.3317523778112793,
          -0.34669984731640974,
          -3.147956131638497,
          -1.1892879882215586,
          1.3553660453273806,
          2.070237665585698,
          0.5625757858339814,
          2.26204630616763,
          2.523214228992046,
          -0.9341066652064868,
          2.9767427109424203,
          0.1305599457802192,
          -3.491150633978861,
          -3.2179337087332143,
          -3.5743302135105983,
          -2.4147567445043685,
          -1.6294250099871515,
          1.2948226158505851
         ]
        }
       ],
       "layout": {
        "autosize": false,
        "hovermode": "closest",
        "margin": {
         "b": 20,
         "l": 5,
         "r": 5,
         "t": 40
        },
        "showlegend": false,
        "template": {
         "data": {
          "bar": [
           {
            "error_x": {
             "color": "rgb(36,36,36)"
            },
            "error_y": {
             "color": "rgb(36,36,36)"
            },
            "marker": {
             "line": {
              "color": "white",
              "width": 0.5
             },
             "pattern": {
              "fillmode": "overlay",
              "size": 10,
              "solidity": 0.2
             }
            },
            "type": "bar"
           }
          ],
          "barpolar": [
           {
            "marker": {
             "line": {
              "color": "white",
              "width": 0.5
             },
             "pattern": {
              "fillmode": "overlay",
              "size": 10,
              "solidity": 0.2
             }
            },
            "type": "barpolar"
           }
          ],
          "carpet": [
           {
            "aaxis": {
             "endlinecolor": "rgb(36,36,36)",
             "gridcolor": "white",
             "linecolor": "white",
             "minorgridcolor": "white",
             "startlinecolor": "rgb(36,36,36)"
            },
            "baxis": {
             "endlinecolor": "rgb(36,36,36)",
             "gridcolor": "white",
             "linecolor": "white",
             "minorgridcolor": "white",
             "startlinecolor": "rgb(36,36,36)"
            },
            "type": "carpet"
           }
          ],
          "choropleth": [
           {
            "colorbar": {
             "outlinewidth": 1,
             "tickcolor": "rgb(36,36,36)",
             "ticks": "outside"
            },
            "type": "choropleth"
           }
          ],
          "contour": [
           {
            "colorbar": {
             "outlinewidth": 1,
             "tickcolor": "rgb(36,36,36)",
             "ticks": "outside"
            },
            "colorscale": [
             [
              0,
              "#440154"
             ],
             [
              0.1111111111111111,
              "#482878"
             ],
             [
              0.2222222222222222,
              "#3e4989"
             ],
             [
              0.3333333333333333,
              "#31688e"
             ],
             [
              0.4444444444444444,
              "#26828e"
             ],
             [
              0.5555555555555556,
              "#1f9e89"
             ],
             [
              0.6666666666666666,
              "#35b779"
             ],
             [
              0.7777777777777778,
              "#6ece58"
             ],
             [
              0.8888888888888888,
              "#b5de2b"
             ],
             [
              1,
              "#fde725"
             ]
            ],
            "type": "contour"
           }
          ],
          "contourcarpet": [
           {
            "colorbar": {
             "outlinewidth": 1,
             "tickcolor": "rgb(36,36,36)",
             "ticks": "outside"
            },
            "type": "contourcarpet"
           }
          ],
          "heatmap": [
           {
            "colorbar": {
             "outlinewidth": 1,
             "tickcolor": "rgb(36,36,36)",
             "ticks": "outside"
            },
            "colorscale": [
             [
              0,
              "#440154"
             ],
             [
              0.1111111111111111,
              "#482878"
             ],
             [
              0.2222222222222222,
              "#3e4989"
             ],
             [
              0.3333333333333333,
              "#31688e"
             ],
             [
              0.4444444444444444,
              "#26828e"
             ],
             [
              0.5555555555555556,
              "#1f9e89"
             ],
             [
              0.6666666666666666,
              "#35b779"
             ],
             [
              0.7777777777777778,
              "#6ece58"
             ],
             [
              0.8888888888888888,
              "#b5de2b"
             ],
             [
              1,
              "#fde725"
             ]
            ],
            "type": "heatmap"
           }
          ],
          "heatmapgl": [
           {
            "colorbar": {
             "outlinewidth": 1,
             "tickcolor": "rgb(36,36,36)",
             "ticks": "outside"
            },
            "colorscale": [
             [
              0,
              "#440154"
             ],
             [
              0.1111111111111111,
              "#482878"
             ],
             [
              0.2222222222222222,
              "#3e4989"
             ],
             [
              0.3333333333333333,
              "#31688e"
             ],
             [
              0.4444444444444444,
              "#26828e"
             ],
             [
              0.5555555555555556,
              "#1f9e89"
             ],
             [
              0.6666666666666666,
              "#35b779"
             ],
             [
              0.7777777777777778,
              "#6ece58"
             ],
             [
              0.8888888888888888,
              "#b5de2b"
             ],
             [
              1,
              "#fde725"
             ]
            ],
            "type": "heatmapgl"
           }
          ],
          "histogram": [
           {
            "marker": {
             "line": {
              "color": "white",
              "width": 0.6
             }
            },
            "type": "histogram"
           }
          ],
          "histogram2d": [
           {
            "colorbar": {
             "outlinewidth": 1,
             "tickcolor": "rgb(36,36,36)",
             "ticks": "outside"
            },
            "colorscale": [
             [
              0,
              "#440154"
             ],
             [
              0.1111111111111111,
              "#482878"
             ],
             [
              0.2222222222222222,
              "#3e4989"
             ],
             [
              0.3333333333333333,
              "#31688e"
             ],
             [
              0.4444444444444444,
              "#26828e"
             ],
             [
              0.5555555555555556,
              "#1f9e89"
             ],
             [
              0.6666666666666666,
              "#35b779"
             ],
             [
              0.7777777777777778,
              "#6ece58"
             ],
             [
              0.8888888888888888,
              "#b5de2b"
             ],
             [
              1,
              "#fde725"
             ]
            ],
            "type": "histogram2d"
           }
          ],
          "histogram2dcontour": [
           {
            "colorbar": {
             "outlinewidth": 1,
             "tickcolor": "rgb(36,36,36)",
             "ticks": "outside"
            },
            "colorscale": [
             [
              0,
              "#440154"
             ],
             [
              0.1111111111111111,
              "#482878"
             ],
             [
              0.2222222222222222,
              "#3e4989"
             ],
             [
              0.3333333333333333,
              "#31688e"
             ],
             [
              0.4444444444444444,
              "#26828e"
             ],
             [
              0.5555555555555556,
              "#1f9e89"
             ],
             [
              0.6666666666666666,
              "#35b779"
             ],
             [
              0.7777777777777778,
              "#6ece58"
             ],
             [
              0.8888888888888888,
              "#b5de2b"
             ],
             [
              1,
              "#fde725"
             ]
            ],
            "type": "histogram2dcontour"
           }
          ],
          "mesh3d": [
           {
            "colorbar": {
             "outlinewidth": 1,
             "tickcolor": "rgb(36,36,36)",
             "ticks": "outside"
            },
            "type": "mesh3d"
           }
          ],
          "parcoords": [
           {
            "line": {
             "colorbar": {
              "outlinewidth": 1,
              "tickcolor": "rgb(36,36,36)",
              "ticks": "outside"
             }
            },
            "type": "parcoords"
           }
          ],
          "pie": [
           {
            "automargin": true,
            "type": "pie"
           }
          ],
          "scatter": [
           {
            "fillpattern": {
             "fillmode": "overlay",
             "size": 10,
             "solidity": 0.2
            },
            "type": "scatter"
           }
          ],
          "scatter3d": [
           {
            "line": {
             "colorbar": {
              "outlinewidth": 1,
              "tickcolor": "rgb(36,36,36)",
              "ticks": "outside"
             }
            },
            "marker": {
             "colorbar": {
              "outlinewidth": 1,
              "tickcolor": "rgb(36,36,36)",
              "ticks": "outside"
             }
            },
            "type": "scatter3d"
           }
          ],
          "scattercarpet": [
           {
            "marker": {
             "colorbar": {
              "outlinewidth": 1,
              "tickcolor": "rgb(36,36,36)",
              "ticks": "outside"
             }
            },
            "type": "scattercarpet"
           }
          ],
          "scattergeo": [
           {
            "marker": {
             "colorbar": {
              "outlinewidth": 1,
              "tickcolor": "rgb(36,36,36)",
              "ticks": "outside"
             }
            },
            "type": "scattergeo"
           }
          ],
          "scattergl": [
           {
            "marker": {
             "colorbar": {
              "outlinewidth": 1,
              "tickcolor": "rgb(36,36,36)",
              "ticks": "outside"
             }
            },
            "type": "scattergl"
           }
          ],
          "scattermapbox": [
           {
            "marker": {
             "colorbar": {
              "outlinewidth": 1,
              "tickcolor": "rgb(36,36,36)",
              "ticks": "outside"
             }
            },
            "type": "scattermapbox"
           }
          ],
          "scatterpolar": [
           {
            "marker": {
             "colorbar": {
              "outlinewidth": 1,
              "tickcolor": "rgb(36,36,36)",
              "ticks": "outside"
             }
            },
            "type": "scatterpolar"
           }
          ],
          "scatterpolargl": [
           {
            "marker": {
             "colorbar": {
              "outlinewidth": 1,
              "tickcolor": "rgb(36,36,36)",
              "ticks": "outside"
             }
            },
            "type": "scatterpolargl"
           }
          ],
          "scatterternary": [
           {
            "marker": {
             "colorbar": {
              "outlinewidth": 1,
              "tickcolor": "rgb(36,36,36)",
              "ticks": "outside"
             }
            },
            "type": "scatterternary"
           }
          ],
          "surface": [
           {
            "colorbar": {
             "outlinewidth": 1,
             "tickcolor": "rgb(36,36,36)",
             "ticks": "outside"
            },
            "colorscale": [
             [
              0,
              "#440154"
             ],
             [
              0.1111111111111111,
              "#482878"
             ],
             [
              0.2222222222222222,
              "#3e4989"
             ],
             [
              0.3333333333333333,
              "#31688e"
             ],
             [
              0.4444444444444444,
              "#26828e"
             ],
             [
              0.5555555555555556,
              "#1f9e89"
             ],
             [
              0.6666666666666666,
              "#35b779"
             ],
             [
              0.7777777777777778,
              "#6ece58"
             ],
             [
              0.8888888888888888,
              "#b5de2b"
             ],
             [
              1,
              "#fde725"
             ]
            ],
            "type": "surface"
           }
          ],
          "table": [
           {
            "cells": {
             "fill": {
              "color": "rgb(237,237,237)"
             },
             "line": {
              "color": "white"
             }
            },
            "header": {
             "fill": {
              "color": "rgb(217,217,217)"
             },
             "line": {
              "color": "white"
             }
            },
            "type": "table"
           }
          ]
         },
         "layout": {
          "annotationdefaults": {
           "arrowhead": 0,
           "arrowwidth": 1
          },
          "autotypenumbers": "strict",
          "coloraxis": {
           "colorbar": {
            "outlinewidth": 1,
            "tickcolor": "rgb(36,36,36)",
            "ticks": "outside"
           }
          },
          "colorscale": {
           "diverging": [
            [
             0,
             "rgb(103,0,31)"
            ],
            [
             0.1,
             "rgb(178,24,43)"
            ],
            [
             0.2,
             "rgb(214,96,77)"
            ],
            [
             0.3,
             "rgb(244,165,130)"
            ],
            [
             0.4,
             "rgb(253,219,199)"
            ],
            [
             0.5,
             "rgb(247,247,247)"
            ],
            [
             0.6,
             "rgb(209,229,240)"
            ],
            [
             0.7,
             "rgb(146,197,222)"
            ],
            [
             0.8,
             "rgb(67,147,195)"
            ],
            [
             0.9,
             "rgb(33,102,172)"
            ],
            [
             1,
             "rgb(5,48,97)"
            ]
           ],
           "sequential": [
            [
             0,
             "#440154"
            ],
            [
             0.1111111111111111,
             "#482878"
            ],
            [
             0.2222222222222222,
             "#3e4989"
            ],
            [
             0.3333333333333333,
             "#31688e"
            ],
            [
             0.4444444444444444,
             "#26828e"
            ],
            [
             0.5555555555555556,
             "#1f9e89"
            ],
            [
             0.6666666666666666,
             "#35b779"
            ],
            [
             0.7777777777777778,
             "#6ece58"
            ],
            [
             0.8888888888888888,
             "#b5de2b"
            ],
            [
             1,
             "#fde725"
            ]
           ],
           "sequentialminus": [
            [
             0,
             "#440154"
            ],
            [
             0.1111111111111111,
             "#482878"
            ],
            [
             0.2222222222222222,
             "#3e4989"
            ],
            [
             0.3333333333333333,
             "#31688e"
            ],
            [
             0.4444444444444444,
             "#26828e"
            ],
            [
             0.5555555555555556,
             "#1f9e89"
            ],
            [
             0.6666666666666666,
             "#35b779"
            ],
            [
             0.7777777777777778,
             "#6ece58"
            ],
            [
             0.8888888888888888,
             "#b5de2b"
            ],
            [
             1,
             "#fde725"
            ]
           ]
          },
          "colorway": [
           "#1F77B4",
           "#FF7F0E",
           "#2CA02C",
           "#D62728",
           "#9467BD",
           "#8C564B",
           "#E377C2",
           "#7F7F7F",
           "#BCBD22",
           "#17BECF"
          ],
          "font": {
           "color": "rgb(36,36,36)"
          },
          "geo": {
           "bgcolor": "white",
           "lakecolor": "white",
           "landcolor": "white",
           "showlakes": true,
           "showland": true,
           "subunitcolor": "white"
          },
          "hoverlabel": {
           "align": "left"
          },
          "hovermode": "closest",
          "mapbox": {
           "style": "light"
          },
          "paper_bgcolor": "white",
          "plot_bgcolor": "white",
          "polar": {
           "angularaxis": {
            "gridcolor": "rgb(232,232,232)",
            "linecolor": "rgb(36,36,36)",
            "showgrid": false,
            "showline": true,
            "ticks": "outside"
           },
           "bgcolor": "white",
           "radialaxis": {
            "gridcolor": "rgb(232,232,232)",
            "linecolor": "rgb(36,36,36)",
            "showgrid": false,
            "showline": true,
            "ticks": "outside"
           }
          },
          "scene": {
           "xaxis": {
            "backgroundcolor": "white",
            "gridcolor": "rgb(232,232,232)",
            "gridwidth": 2,
            "linecolor": "rgb(36,36,36)",
            "showbackground": true,
            "showgrid": false,
            "showline": true,
            "ticks": "outside",
            "zeroline": false,
            "zerolinecolor": "rgb(36,36,36)"
           },
           "yaxis": {
            "backgroundcolor": "white",
            "gridcolor": "rgb(232,232,232)",
            "gridwidth": 2,
            "linecolor": "rgb(36,36,36)",
            "showbackground": true,
            "showgrid": false,
            "showline": true,
            "ticks": "outside",
            "zeroline": false,
            "zerolinecolor": "rgb(36,36,36)"
           },
           "zaxis": {
            "backgroundcolor": "white",
            "gridcolor": "rgb(232,232,232)",
            "gridwidth": 2,
            "linecolor": "rgb(36,36,36)",
            "showbackground": true,
            "showgrid": false,
            "showline": true,
            "ticks": "outside",
            "zeroline": false,
            "zerolinecolor": "rgb(36,36,36)"
           }
          },
          "shapedefaults": {
           "fillcolor": "black",
           "line": {
            "width": 0
           },
           "opacity": 0.3
          },
          "ternary": {
           "aaxis": {
            "gridcolor": "rgb(232,232,232)",
            "linecolor": "rgb(36,36,36)",
            "showgrid": false,
            "showline": true,
            "ticks": "outside"
           },
           "baxis": {
            "gridcolor": "rgb(232,232,232)",
            "linecolor": "rgb(36,36,36)",
            "showgrid": false,
            "showline": true,
            "ticks": "outside"
           },
           "bgcolor": "white",
           "caxis": {
            "gridcolor": "rgb(232,232,232)",
            "linecolor": "rgb(36,36,36)",
            "showgrid": false,
            "showline": true,
            "ticks": "outside"
           }
          },
          "title": {
           "x": 0.05
          },
          "xaxis": {
           "automargin": true,
           "gridcolor": "rgb(232,232,232)",
           "linecolor": "rgb(36,36,36)",
           "showgrid": false,
           "showline": true,
           "ticks": "outside",
           "title": {
            "standoff": 15
           },
           "zeroline": false,
           "zerolinecolor": "rgb(36,36,36)"
          },
          "yaxis": {
           "automargin": true,
           "gridcolor": "rgb(232,232,232)",
           "linecolor": "rgb(36,36,36)",
           "showgrid": false,
           "showline": true,
           "ticks": "outside",
           "title": {
            "standoff": 15
           },
           "zeroline": false,
           "zerolinecolor": "rgb(36,36,36)"
          }
         }
        },
        "title": {
         "text": ""
        },
        "xaxis": {
         "showgrid": false,
         "showline": false,
         "showticklabels": false,
         "ticks": "",
         "title": {
          "text": ""
         },
         "zeroline": false
        },
        "yaxis": {
         "showgrid": false,
         "showline": false,
         "showticklabels": false,
         "ticks": "",
         "title": {
          "text": ""
         },
         "zeroline": false
        }
       }
      }
     },
     "metadata": {},
     "output_type": "display_data"
    },
    {
     "data": {
      "application/vnd.plotly.v1+json": {
       "config": {
        "plotlyServerURL": "https://plot.ly",
        "scrollZoom": true
       },
       "data": [
        {
         "hoverinfo": "none",
         "line": {
          "color": "#888",
          "width": 1
         },
         "mode": "lines",
         "name": "edge_trace",
         "type": "scatter",
         "uid": "3dc67585-4b10-43d6-bea3-bb89fbdbfd01",
         "x": [
          -0.0915491138016888,
          -0.25345559579274957,
          null,
          -0.0915491138016888,
          0.8802888041071165,
          null,
          -0.25345559579274957,
          -1.088732924995423,
          null,
          1.1879324951532702,
          0.9090076759995267,
          null,
          -2.0340588369461425,
          -1.088732924995423,
          null,
          -5.1128486441768874,
          -4.173161114800438,
          null
         ],
         "y": [
          1.5869118979908146,
          2.556094409107875,
          null,
          1.5869118979908146,
          1.4105035655777933,
          null,
          2.556094409107875,
          3.006508075230006,
          null,
          -0.15145299742661184,
          -1.0684161898274205,
          null,
          2.9233284680214346,
          3.006508075230006,
          null,
          -0.4747671191564197,
          -0.2476593375896934,
          null
         ]
        },
        {
         "hoverinfo": "text",
         "hovertext": [
          "Node ID: 0<br>Pullback set label: 1<br>Partial cluster label: -1<br>Node size: 31<br>Summary statistic: 81.6",
          "Node ID: 1<br>Pullback set label: 2<br>Partial cluster label: -1<br>Node size: 10<br>Summary statistic: 32.8",
          "Node ID: 2<br>Pullback set label: 9<br>Partial cluster label: -1<br>Node size: 1<br>Summary statistic: 1.0",
          "Node ID: 3<br>Pullback set label: 8<br>Partial cluster label: -1<br>Node size: 2<br>Summary statistic: 43.0",
          "Node ID: 4<br>Pullback set label: 4<br>Partial cluster label: -1<br>Node size: 3<br>Summary statistic: 33.3",
          "Node ID: 5<br>Pullback set label: 5<br>Partial cluster label: -1<br>Node size: 1<br>Summary statistic: 5.0",
          "Node ID: 6<br>Pullback set label: 6<br>Partial cluster label: -1<br>Node size: 2<br>Summary statistic: 9.5",
          "Node ID: 7<br>Pullback set label: 0<br>Partial cluster label: 0<br>Node size: 18<br>Summary statistic: 131.0",
          "Node ID: 8<br>Pullback set label: 0<br>Partial cluster label: 1<br>Node size: 5<br>Summary statistic: 155.0",
          "Node ID: 9<br>Pullback set label: 0<br>Partial cluster label: -1<br>Node size: 53<br>Summary statistic: 86.8",
          "Node ID: 10<br>Pullback set label: 3<br>Partial cluster label: -1<br>Node size: 4<br>Summary statistic: 37.5",
          "Node ID: 11<br>Pullback set label: 0<br>Partial cluster label: 2<br>Node size: 7<br>Summary statistic: 151.0",
          "Node ID: 12<br>Pullback set label: 0<br>Partial cluster label: 3<br>Node size: 8<br>Summary statistic: 152.0",
          "Node ID: 13<br>Pullback set label: 0<br>Partial cluster label: 4<br>Node size: 50<br>Summary statistic: 212.0",
          "Node ID: 14<br>Pullback set label: 0<br>Partial cluster label: 5<br>Node size: 5<br>Summary statistic: 147.0",
          "Node ID: 15<br>Pullback set label: 0<br>Partial cluster label: 6<br>Node size: 98<br>Summary statistic: 192.0",
          "Node ID: 16<br>Pullback set label: 7<br>Partial cluster label: -1<br>Node size: 1<br>Summary statistic: 84.0",
          "Node ID: 17<br>Pullback set label: 0<br>Partial cluster label: 7<br>Node size: 6<br>Summary statistic: 132.0",
          "Node ID: 18<br>Pullback set label: 0<br>Partial cluster label: 8<br>Node size: 52<br>Summary statistic: 213.0",
          "Node ID: 19<br>Pullback set label: 0<br>Partial cluster label: 9<br>Node size: 5<br>Summary statistic: 166.0"
         ],
         "marker": {
          "color": [
           81.61290322580645,
           32.8,
           1,
           43,
           33.333333333333336,
           5,
           9.5,
           130.61111111111111,
           155.4,
           86.83018867924528,
           37.5,
           151.28571428571428,
           151.625,
           212.34,
           147,
           192.26530612244898,
           84,
           131.5,
           212.51923076923077,
           165.6
          ],
          "colorbar": {
           "thickness": 15,
           "title": {
            "side": "right",
            "text": ""
           },
           "xanchor": "left"
          },
          "colorscale": [
           [
            0,
            "#440154"
           ],
           [
            0.1111111111111111,
            "#482878"
           ],
           [
            0.2222222222222222,
            "#3e4989"
           ],
           [
            0.3333333333333333,
            "#31688e"
           ],
           [
            0.4444444444444444,
            "#26828e"
           ],
           [
            0.5555555555555556,
            "#1f9e89"
           ],
           [
            0.6666666666666666,
            "#35b779"
           ],
           [
            0.7777777777777778,
            "#6ece58"
           ],
           [
            0.8888888888888888,
            "#b5de2b"
           ],
           [
            1,
            "#fde725"
           ]
          ],
          "line": {
           "color": "#888",
           "width": 1
          },
          "opacity": 1,
          "reversescale": false,
          "showscale": true,
          "size": [
           31,
           10,
           1,
           2,
           3,
           1,
           2,
           18,
           5,
           53,
           4,
           7,
           8,
           50,
           5,
           98,
           1,
           6,
           52,
           5
          ],
          "sizemin": 4,
          "sizemode": "area",
          "sizeref": 1.3611111111111112
         },
         "mode": "markers",
         "name": "node_trace",
         "type": "scatter",
         "uid": "3de5a39c-2564-4e30-bfa2-24d1a3078e25",
         "x": [
          -0.0915491138016888,
          -0.25345559579274957,
          -2.6117510501578316,
          1.1879324951532702,
          -2.0340588369461425,
          -5.1128486441768874,
          -4.173161114800438,
          -2.1077704161065376,
          -0.8787210369954149,
          0.8802888041071165,
          -1.088732924995423,
          -3.4064332115845795,
          -4.248014632504073,
          -5.018209054637391,
          -4.4519209003711175,
          -3.4024928063008737,
          0.9090076759995267,
          -2.415481599455266,
          0.196894728622486,
          -0.9087874607068624
         ],
         "y": [
          1.5869118979908146,
          2.556094409107875,
          0.8825664968196417,
          -0.15145299742661184,
          2.9233284680214346,
          -0.4747671191564197,
          -0.2476593375896934,
          -3.0788996665177923,
          -2.8124619518898606,
          1.4105035655777933,
          3.006508075230006,
          3.010191329378258,
          2.1151249078052907,
          1.1403592895124532,
          -1.9152782765582463,
          -2.72843962761242,
          -1.0684161898274205,
          -1.3017582131080014,
          -2.227018188254076,
          -0.5036835485947196
         ]
        }
       ],
       "layout": {
        "autosize": false,
        "hovermode": "closest",
        "margin": {
         "b": 20,
         "l": 5,
         "r": 5,
         "t": 40
        },
        "showlegend": false,
        "template": {
         "data": {
          "bar": [
           {
            "error_x": {
             "color": "rgb(36,36,36)"
            },
            "error_y": {
             "color": "rgb(36,36,36)"
            },
            "marker": {
             "line": {
              "color": "white",
              "width": 0.5
             },
             "pattern": {
              "fillmode": "overlay",
              "size": 10,
              "solidity": 0.2
             }
            },
            "type": "bar"
           }
          ],
          "barpolar": [
           {
            "marker": {
             "line": {
              "color": "white",
              "width": 0.5
             },
             "pattern": {
              "fillmode": "overlay",
              "size": 10,
              "solidity": 0.2
             }
            },
            "type": "barpolar"
           }
          ],
          "carpet": [
           {
            "aaxis": {
             "endlinecolor": "rgb(36,36,36)",
             "gridcolor": "white",
             "linecolor": "white",
             "minorgridcolor": "white",
             "startlinecolor": "rgb(36,36,36)"
            },
            "baxis": {
             "endlinecolor": "rgb(36,36,36)",
             "gridcolor": "white",
             "linecolor": "white",
             "minorgridcolor": "white",
             "startlinecolor": "rgb(36,36,36)"
            },
            "type": "carpet"
           }
          ],
          "choropleth": [
           {
            "colorbar": {
             "outlinewidth": 1,
             "tickcolor": "rgb(36,36,36)",
             "ticks": "outside"
            },
            "type": "choropleth"
           }
          ],
          "contour": [
           {
            "colorbar": {
             "outlinewidth": 1,
             "tickcolor": "rgb(36,36,36)",
             "ticks": "outside"
            },
            "colorscale": [
             [
              0,
              "#440154"
             ],
             [
              0.1111111111111111,
              "#482878"
             ],
             [
              0.2222222222222222,
              "#3e4989"
             ],
             [
              0.3333333333333333,
              "#31688e"
             ],
             [
              0.4444444444444444,
              "#26828e"
             ],
             [
              0.5555555555555556,
              "#1f9e89"
             ],
             [
              0.6666666666666666,
              "#35b779"
             ],
             [
              0.7777777777777778,
              "#6ece58"
             ],
             [
              0.8888888888888888,
              "#b5de2b"
             ],
             [
              1,
              "#fde725"
             ]
            ],
            "type": "contour"
           }
          ],
          "contourcarpet": [
           {
            "colorbar": {
             "outlinewidth": 1,
             "tickcolor": "rgb(36,36,36)",
             "ticks": "outside"
            },
            "type": "contourcarpet"
           }
          ],
          "heatmap": [
           {
            "colorbar": {
             "outlinewidth": 1,
             "tickcolor": "rgb(36,36,36)",
             "ticks": "outside"
            },
            "colorscale": [
             [
              0,
              "#440154"
             ],
             [
              0.1111111111111111,
              "#482878"
             ],
             [
              0.2222222222222222,
              "#3e4989"
             ],
             [
              0.3333333333333333,
              "#31688e"
             ],
             [
              0.4444444444444444,
              "#26828e"
             ],
             [
              0.5555555555555556,
              "#1f9e89"
             ],
             [
              0.6666666666666666,
              "#35b779"
             ],
             [
              0.7777777777777778,
              "#6ece58"
             ],
             [
              0.8888888888888888,
              "#b5de2b"
             ],
             [
              1,
              "#fde725"
             ]
            ],
            "type": "heatmap"
           }
          ],
          "heatmapgl": [
           {
            "colorbar": {
             "outlinewidth": 1,
             "tickcolor": "rgb(36,36,36)",
             "ticks": "outside"
            },
            "colorscale": [
             [
              0,
              "#440154"
             ],
             [
              0.1111111111111111,
              "#482878"
             ],
             [
              0.2222222222222222,
              "#3e4989"
             ],
             [
              0.3333333333333333,
              "#31688e"
             ],
             [
              0.4444444444444444,
              "#26828e"
             ],
             [
              0.5555555555555556,
              "#1f9e89"
             ],
             [
              0.6666666666666666,
              "#35b779"
             ],
             [
              0.7777777777777778,
              "#6ece58"
             ],
             [
              0.8888888888888888,
              "#b5de2b"
             ],
             [
              1,
              "#fde725"
             ]
            ],
            "type": "heatmapgl"
           }
          ],
          "histogram": [
           {
            "marker": {
             "line": {
              "color": "white",
              "width": 0.6
             }
            },
            "type": "histogram"
           }
          ],
          "histogram2d": [
           {
            "colorbar": {
             "outlinewidth": 1,
             "tickcolor": "rgb(36,36,36)",
             "ticks": "outside"
            },
            "colorscale": [
             [
              0,
              "#440154"
             ],
             [
              0.1111111111111111,
              "#482878"
             ],
             [
              0.2222222222222222,
              "#3e4989"
             ],
             [
              0.3333333333333333,
              "#31688e"
             ],
             [
              0.4444444444444444,
              "#26828e"
             ],
             [
              0.5555555555555556,
              "#1f9e89"
             ],
             [
              0.6666666666666666,
              "#35b779"
             ],
             [
              0.7777777777777778,
              "#6ece58"
             ],
             [
              0.8888888888888888,
              "#b5de2b"
             ],
             [
              1,
              "#fde725"
             ]
            ],
            "type": "histogram2d"
           }
          ],
          "histogram2dcontour": [
           {
            "colorbar": {
             "outlinewidth": 1,
             "tickcolor": "rgb(36,36,36)",
             "ticks": "outside"
            },
            "colorscale": [
             [
              0,
              "#440154"
             ],
             [
              0.1111111111111111,
              "#482878"
             ],
             [
              0.2222222222222222,
              "#3e4989"
             ],
             [
              0.3333333333333333,
              "#31688e"
             ],
             [
              0.4444444444444444,
              "#26828e"
             ],
             [
              0.5555555555555556,
              "#1f9e89"
             ],
             [
              0.6666666666666666,
              "#35b779"
             ],
             [
              0.7777777777777778,
              "#6ece58"
             ],
             [
              0.8888888888888888,
              "#b5de2b"
             ],
             [
              1,
              "#fde725"
             ]
            ],
            "type": "histogram2dcontour"
           }
          ],
          "mesh3d": [
           {
            "colorbar": {
             "outlinewidth": 1,
             "tickcolor": "rgb(36,36,36)",
             "ticks": "outside"
            },
            "type": "mesh3d"
           }
          ],
          "parcoords": [
           {
            "line": {
             "colorbar": {
              "outlinewidth": 1,
              "tickcolor": "rgb(36,36,36)",
              "ticks": "outside"
             }
            },
            "type": "parcoords"
           }
          ],
          "pie": [
           {
            "automargin": true,
            "type": "pie"
           }
          ],
          "scatter": [
           {
            "fillpattern": {
             "fillmode": "overlay",
             "size": 10,
             "solidity": 0.2
            },
            "type": "scatter"
           }
          ],
          "scatter3d": [
           {
            "line": {
             "colorbar": {
              "outlinewidth": 1,
              "tickcolor": "rgb(36,36,36)",
              "ticks": "outside"
             }
            },
            "marker": {
             "colorbar": {
              "outlinewidth": 1,
              "tickcolor": "rgb(36,36,36)",
              "ticks": "outside"
             }
            },
            "type": "scatter3d"
           }
          ],
          "scattercarpet": [
           {
            "marker": {
             "colorbar": {
              "outlinewidth": 1,
              "tickcolor": "rgb(36,36,36)",
              "ticks": "outside"
             }
            },
            "type": "scattercarpet"
           }
          ],
          "scattergeo": [
           {
            "marker": {
             "colorbar": {
              "outlinewidth": 1,
              "tickcolor": "rgb(36,36,36)",
              "ticks": "outside"
             }
            },
            "type": "scattergeo"
           }
          ],
          "scattergl": [
           {
            "marker": {
             "colorbar": {
              "outlinewidth": 1,
              "tickcolor": "rgb(36,36,36)",
              "ticks": "outside"
             }
            },
            "type": "scattergl"
           }
          ],
          "scattermapbox": [
           {
            "marker": {
             "colorbar": {
              "outlinewidth": 1,
              "tickcolor": "rgb(36,36,36)",
              "ticks": "outside"
             }
            },
            "type": "scattermapbox"
           }
          ],
          "scatterpolar": [
           {
            "marker": {
             "colorbar": {
              "outlinewidth": 1,
              "tickcolor": "rgb(36,36,36)",
              "ticks": "outside"
             }
            },
            "type": "scatterpolar"
           }
          ],
          "scatterpolargl": [
           {
            "marker": {
             "colorbar": {
              "outlinewidth": 1,
              "tickcolor": "rgb(36,36,36)",
              "ticks": "outside"
             }
            },
            "type": "scatterpolargl"
           }
          ],
          "scatterternary": [
           {
            "marker": {
             "colorbar": {
              "outlinewidth": 1,
              "tickcolor": "rgb(36,36,36)",
              "ticks": "outside"
             }
            },
            "type": "scatterternary"
           }
          ],
          "surface": [
           {
            "colorbar": {
             "outlinewidth": 1,
             "tickcolor": "rgb(36,36,36)",
             "ticks": "outside"
            },
            "colorscale": [
             [
              0,
              "#440154"
             ],
             [
              0.1111111111111111,
              "#482878"
             ],
             [
              0.2222222222222222,
              "#3e4989"
             ],
             [
              0.3333333333333333,
              "#31688e"
             ],
             [
              0.4444444444444444,
              "#26828e"
             ],
             [
              0.5555555555555556,
              "#1f9e89"
             ],
             [
              0.6666666666666666,
              "#35b779"
             ],
             [
              0.7777777777777778,
              "#6ece58"
             ],
             [
              0.8888888888888888,
              "#b5de2b"
             ],
             [
              1,
              "#fde725"
             ]
            ],
            "type": "surface"
           }
          ],
          "table": [
           {
            "cells": {
             "fill": {
              "color": "rgb(237,237,237)"
             },
             "line": {
              "color": "white"
             }
            },
            "header": {
             "fill": {
              "color": "rgb(217,217,217)"
             },
             "line": {
              "color": "white"
             }
            },
            "type": "table"
           }
          ]
         },
         "layout": {
          "annotationdefaults": {
           "arrowhead": 0,
           "arrowwidth": 1
          },
          "autotypenumbers": "strict",
          "coloraxis": {
           "colorbar": {
            "outlinewidth": 1,
            "tickcolor": "rgb(36,36,36)",
            "ticks": "outside"
           }
          },
          "colorscale": {
           "diverging": [
            [
             0,
             "rgb(103,0,31)"
            ],
            [
             0.1,
             "rgb(178,24,43)"
            ],
            [
             0.2,
             "rgb(214,96,77)"
            ],
            [
             0.3,
             "rgb(244,165,130)"
            ],
            [
             0.4,
             "rgb(253,219,199)"
            ],
            [
             0.5,
             "rgb(247,247,247)"
            ],
            [
             0.6,
             "rgb(209,229,240)"
            ],
            [
             0.7,
             "rgb(146,197,222)"
            ],
            [
             0.8,
             "rgb(67,147,195)"
            ],
            [
             0.9,
             "rgb(33,102,172)"
            ],
            [
             1,
             "rgb(5,48,97)"
            ]
           ],
           "sequential": [
            [
             0,
             "#440154"
            ],
            [
             0.1111111111111111,
             "#482878"
            ],
            [
             0.2222222222222222,
             "#3e4989"
            ],
            [
             0.3333333333333333,
             "#31688e"
            ],
            [
             0.4444444444444444,
             "#26828e"
            ],
            [
             0.5555555555555556,
             "#1f9e89"
            ],
            [
             0.6666666666666666,
             "#35b779"
            ],
            [
             0.7777777777777778,
             "#6ece58"
            ],
            [
             0.8888888888888888,
             "#b5de2b"
            ],
            [
             1,
             "#fde725"
            ]
           ],
           "sequentialminus": [
            [
             0,
             "#440154"
            ],
            [
             0.1111111111111111,
             "#482878"
            ],
            [
             0.2222222222222222,
             "#3e4989"
            ],
            [
             0.3333333333333333,
             "#31688e"
            ],
            [
             0.4444444444444444,
             "#26828e"
            ],
            [
             0.5555555555555556,
             "#1f9e89"
            ],
            [
             0.6666666666666666,
             "#35b779"
            ],
            [
             0.7777777777777778,
             "#6ece58"
            ],
            [
             0.8888888888888888,
             "#b5de2b"
            ],
            [
             1,
             "#fde725"
            ]
           ]
          },
          "colorway": [
           "#1F77B4",
           "#FF7F0E",
           "#2CA02C",
           "#D62728",
           "#9467BD",
           "#8C564B",
           "#E377C2",
           "#7F7F7F",
           "#BCBD22",
           "#17BECF"
          ],
          "font": {
           "color": "rgb(36,36,36)"
          },
          "geo": {
           "bgcolor": "white",
           "lakecolor": "white",
           "landcolor": "white",
           "showlakes": true,
           "showland": true,
           "subunitcolor": "white"
          },
          "hoverlabel": {
           "align": "left"
          },
          "hovermode": "closest",
          "mapbox": {
           "style": "light"
          },
          "paper_bgcolor": "white",
          "plot_bgcolor": "white",
          "polar": {
           "angularaxis": {
            "gridcolor": "rgb(232,232,232)",
            "linecolor": "rgb(36,36,36)",
            "showgrid": false,
            "showline": true,
            "ticks": "outside"
           },
           "bgcolor": "white",
           "radialaxis": {
            "gridcolor": "rgb(232,232,232)",
            "linecolor": "rgb(36,36,36)",
            "showgrid": false,
            "showline": true,
            "ticks": "outside"
           }
          },
          "scene": {
           "xaxis": {
            "backgroundcolor": "white",
            "gridcolor": "rgb(232,232,232)",
            "gridwidth": 2,
            "linecolor": "rgb(36,36,36)",
            "showbackground": true,
            "showgrid": false,
            "showline": true,
            "ticks": "outside",
            "zeroline": false,
            "zerolinecolor": "rgb(36,36,36)"
           },
           "yaxis": {
            "backgroundcolor": "white",
            "gridcolor": "rgb(232,232,232)",
            "gridwidth": 2,
            "linecolor": "rgb(36,36,36)",
            "showbackground": true,
            "showgrid": false,
            "showline": true,
            "ticks": "outside",
            "zeroline": false,
            "zerolinecolor": "rgb(36,36,36)"
           },
           "zaxis": {
            "backgroundcolor": "white",
            "gridcolor": "rgb(232,232,232)",
            "gridwidth": 2,
            "linecolor": "rgb(36,36,36)",
            "showbackground": true,
            "showgrid": false,
            "showline": true,
            "ticks": "outside",
            "zeroline": false,
            "zerolinecolor": "rgb(36,36,36)"
           }
          },
          "shapedefaults": {
           "fillcolor": "black",
           "line": {
            "width": 0
           },
           "opacity": 0.3
          },
          "ternary": {
           "aaxis": {
            "gridcolor": "rgb(232,232,232)",
            "linecolor": "rgb(36,36,36)",
            "showgrid": false,
            "showline": true,
            "ticks": "outside"
           },
           "baxis": {
            "gridcolor": "rgb(232,232,232)",
            "linecolor": "rgb(36,36,36)",
            "showgrid": false,
            "showline": true,
            "ticks": "outside"
           },
           "bgcolor": "white",
           "caxis": {
            "gridcolor": "rgb(232,232,232)",
            "linecolor": "rgb(36,36,36)",
            "showgrid": false,
            "showline": true,
            "ticks": "outside"
           }
          },
          "title": {
           "x": 0.05
          },
          "xaxis": {
           "automargin": true,
           "gridcolor": "rgb(232,232,232)",
           "linecolor": "rgb(36,36,36)",
           "showgrid": false,
           "showline": true,
           "ticks": "outside",
           "title": {
            "standoff": 15
           },
           "zeroline": false,
           "zerolinecolor": "rgb(36,36,36)"
          },
          "yaxis": {
           "automargin": true,
           "gridcolor": "rgb(232,232,232)",
           "linecolor": "rgb(36,36,36)",
           "showgrid": false,
           "showline": true,
           "ticks": "outside",
           "title": {
            "standoff": 15
           },
           "zeroline": false,
           "zerolinecolor": "rgb(36,36,36)"
          }
         }
        },
        "title": {
         "text": ""
        },
        "xaxis": {
         "showgrid": false,
         "showline": false,
         "showticklabels": false,
         "ticks": "",
         "title": {
          "text": ""
         },
         "zeroline": false
        },
        "yaxis": {
         "showgrid": false,
         "showline": false,
         "showticklabels": false,
         "ticks": "",
         "title": {
          "text": ""
         },
         "zeroline": false
        }
       }
      }
     },
     "metadata": {},
     "output_type": "display_data"
    },
    {
     "data": {
      "application/vnd.plotly.v1+json": {
       "config": {
        "plotlyServerURL": "https://plot.ly",
        "scrollZoom": true
       },
       "data": [
        {
         "hoverinfo": "none",
         "line": {
          "color": "#888",
          "width": 1
         },
         "mode": "lines",
         "name": "edge_trace",
         "type": "scatter",
         "uid": "d44e6d9c-9127-45c1-b3e8-f7c97a4cef6a",
         "x": [
          -0.2473164714756074,
          -0.06259993981566828,
          null,
          -0.2473164714756074,
          0.9780090941260217,
          null,
          2.073917943829319,
          1.0567184560008958,
          null,
          -0.06259993981566828,
          -0.7398956512575708,
          null,
          -3.037765382620711,
          -2.94548987579877,
          null,
          -2.5775315712325315,
          -1.863761045944963,
          null,
          -0.5849762116665294,
          -0.3409512734793955,
          null,
          -2.94548987579877,
          -1.7504850228483606,
          null
         ],
         "y": [
          2.472671974756965,
          1.2640309050015393,
          null,
          2.472671974756965,
          2.582449399797542,
          null,
          -3.030211321258176,
          -3.618916281513114,
          null,
          1.2640309050015393,
          0.24966716252725274,
          null,
          -0.2746715852025339,
          -1.4774267591406098,
          null,
          1.0816792293031792,
          2.029982877343953,
          null,
          -3.775201560039796,
          -2.6287829686569864,
          null,
          -1.4774267591406098,
          -1.5084663717594986,
          null
         ]
        },
        {
         "hoverinfo": "text",
         "hovertext": [
          "Node ID: 0<br>Pullback set label: 1<br>Partial cluster label: -1<br>Node size: 18<br>Summary statistic: 55.3",
          "Node ID: 1<br>Pullback set label: 11<br>Partial cluster label: -1<br>Node size: 2<br>Summary statistic: 42.5",
          "Node ID: 2<br>Pullback set label: 9<br>Partial cluster label: -1<br>Node size: 1<br>Summary statistic: 2.0",
          "Node ID: 3<br>Pullback set label: 2<br>Partial cluster label: -1<br>Node size: 9<br>Summary statistic: 49.3",
          "Node ID: 4<br>Pullback set label: 4<br>Partial cluster label: -1<br>Node size: 3<br>Summary statistic: 43.3",
          "Node ID: 5<br>Pullback set label: 7<br>Partial cluster label: -1<br>Node size: 1<br>Summary statistic: 5.0",
          "Node ID: 6<br>Pullback set label: 0<br>Partial cluster label: 0<br>Node size: 156<br>Summary statistic: 190.0",
          "Node ID: 7<br>Pullback set label: 0<br>Partial cluster label: -1<br>Node size: 18<br>Summary statistic: 102.0",
          "Node ID: 8<br>Pullback set label: 3<br>Partial cluster label: -1<br>Node size: 7<br>Summary statistic: 42.7",
          "Node ID: 9<br>Pullback set label: 0<br>Partial cluster label: 1<br>Node size: 11<br>Summary statistic: 121.0",
          "Node ID: 10<br>Pullback set label: 1<br>Partial cluster label: 0<br>Node size: 11<br>Summary statistic: 121.0",
          "Node ID: 11<br>Pullback set label: 8<br>Partial cluster label: -1<br>Node size: 1<br>Summary statistic: 14.0",
          "Node ID: 12<br>Pullback set label: 0<br>Partial cluster label: 2<br>Node size: 7<br>Summary statistic: 103.0",
          "Node ID: 13<br>Pullback set label: 1<br>Partial cluster label: 1<br>Node size: 7<br>Summary statistic: 103.0",
          "Node ID: 14<br>Pullback set label: 0<br>Partial cluster label: 3<br>Node size: 59<br>Summary statistic: 183.0",
          "Node ID: 15<br>Pullback set label: 5<br>Partial cluster label: -1<br>Node size: 3<br>Summary statistic: 48.0",
          "Node ID: 16<br>Pullback set label: 6<br>Partial cluster label: -1<br>Node size: 1<br>Summary statistic: 18.0",
          "Node ID: 17<br>Pullback set label: 0<br>Partial cluster label: 4<br>Node size: 35<br>Summary statistic: 152.0",
          "Node ID: 18<br>Pullback set label: 0<br>Partial cluster label: 5<br>Node size: 17<br>Summary statistic: 176.0",
          "Node ID: 19<br>Pullback set label: 10<br>Partial cluster label: -1<br>Node size: 1<br>Summary statistic: 84.0"
         ],
         "marker": {
          "color": [
           55.333333333333336,
           42.5,
           2,
           49.333333333333336,
           43.333333333333336,
           5,
           190.34615384615384,
           102.44444444444444,
           42.714285714285715,
           120.54545454545455,
           120.54545454545455,
           14,
           102.57142857142857,
           102.57142857142857,
           182.64406779661016,
           48,
           18,
           152.45714285714286,
           176.2941176470588,
           84
          ],
          "colorbar": {
           "thickness": 15,
           "title": {
            "side": "right",
            "text": ""
           },
           "xanchor": "left"
          },
          "colorscale": [
           [
            0,
            "#440154"
           ],
           [
            0.1111111111111111,
            "#482878"
           ],
           [
            0.2222222222222222,
            "#3e4989"
           ],
           [
            0.3333333333333333,
            "#31688e"
           ],
           [
            0.4444444444444444,
            "#26828e"
           ],
           [
            0.5555555555555556,
            "#1f9e89"
           ],
           [
            0.6666666666666666,
            "#35b779"
           ],
           [
            0.7777777777777778,
            "#6ece58"
           ],
           [
            0.8888888888888888,
            "#b5de2b"
           ],
           [
            1,
            "#fde725"
           ]
          ],
          "line": {
           "color": "#888",
           "width": 1
          },
          "opacity": 1,
          "reversescale": false,
          "showscale": true,
          "size": [
           18,
           2,
           1,
           9,
           3,
           1,
           156,
           18,
           7,
           11,
           11,
           1,
           7,
           7,
           59,
           3,
           1,
           35,
           17,
           1
          ],
          "sizemin": 4,
          "sizemode": "area",
          "sizeref": 2.1666666666666665
         },
         "mode": "markers",
         "name": "node_trace",
         "type": "scatter",
         "uid": "9eb466b7-09db-4400-90df-e401418d2148",
         "x": [
          -0.2473164714756074,
          2.073917943829319,
          2.9447308426439482,
          -0.06259993981566828,
          -3.037765382620711,
          1.7562825701613705,
          2.230982053547615,
          0.9780090941260217,
          -0.7398956512575708,
          -2.5775315712325315,
          -1.863761045944963,
          3.304186724539979,
          -0.5849762116665294,
          -0.3409512734793955,
          3.125669166709681,
          -2.94548987579877,
          -1.7504850228483606,
          -2.0828282306226638,
          1.0401013212173766,
          1.0567184560008958
         ],
         "y": [
          2.472671974756965,
          -3.030211321258176,
          -1.9937032894796103,
          1.2640309050015393,
          -0.2746715852025339,
          0.08398242221022927,
          1.8157507404837563,
          2.582449399797542,
          0.24966716252725274,
          1.0816792293031792,
          2.029982877343953,
          -0.7409077105136436,
          -3.775201560039796,
          -2.6287829686569864,
          0.7024159779094707,
          -1.4774267591406098,
          -1.5084663717594986,
          -3.035387619262055,
          -1.4727640605290508,
          -3.618916281513114
         ]
        }
       ],
       "layout": {
        "autosize": false,
        "hovermode": "closest",
        "margin": {
         "b": 20,
         "l": 5,
         "r": 5,
         "t": 40
        },
        "showlegend": false,
        "template": {
         "data": {
          "bar": [
           {
            "error_x": {
             "color": "rgb(36,36,36)"
            },
            "error_y": {
             "color": "rgb(36,36,36)"
            },
            "marker": {
             "line": {
              "color": "white",
              "width": 0.5
             },
             "pattern": {
              "fillmode": "overlay",
              "size": 10,
              "solidity": 0.2
             }
            },
            "type": "bar"
           }
          ],
          "barpolar": [
           {
            "marker": {
             "line": {
              "color": "white",
              "width": 0.5
             },
             "pattern": {
              "fillmode": "overlay",
              "size": 10,
              "solidity": 0.2
             }
            },
            "type": "barpolar"
           }
          ],
          "carpet": [
           {
            "aaxis": {
             "endlinecolor": "rgb(36,36,36)",
             "gridcolor": "white",
             "linecolor": "white",
             "minorgridcolor": "white",
             "startlinecolor": "rgb(36,36,36)"
            },
            "baxis": {
             "endlinecolor": "rgb(36,36,36)",
             "gridcolor": "white",
             "linecolor": "white",
             "minorgridcolor": "white",
             "startlinecolor": "rgb(36,36,36)"
            },
            "type": "carpet"
           }
          ],
          "choropleth": [
           {
            "colorbar": {
             "outlinewidth": 1,
             "tickcolor": "rgb(36,36,36)",
             "ticks": "outside"
            },
            "type": "choropleth"
           }
          ],
          "contour": [
           {
            "colorbar": {
             "outlinewidth": 1,
             "tickcolor": "rgb(36,36,36)",
             "ticks": "outside"
            },
            "colorscale": [
             [
              0,
              "#440154"
             ],
             [
              0.1111111111111111,
              "#482878"
             ],
             [
              0.2222222222222222,
              "#3e4989"
             ],
             [
              0.3333333333333333,
              "#31688e"
             ],
             [
              0.4444444444444444,
              "#26828e"
             ],
             [
              0.5555555555555556,
              "#1f9e89"
             ],
             [
              0.6666666666666666,
              "#35b779"
             ],
             [
              0.7777777777777778,
              "#6ece58"
             ],
             [
              0.8888888888888888,
              "#b5de2b"
             ],
             [
              1,
              "#fde725"
             ]
            ],
            "type": "contour"
           }
          ],
          "contourcarpet": [
           {
            "colorbar": {
             "outlinewidth": 1,
             "tickcolor": "rgb(36,36,36)",
             "ticks": "outside"
            },
            "type": "contourcarpet"
           }
          ],
          "heatmap": [
           {
            "colorbar": {
             "outlinewidth": 1,
             "tickcolor": "rgb(36,36,36)",
             "ticks": "outside"
            },
            "colorscale": [
             [
              0,
              "#440154"
             ],
             [
              0.1111111111111111,
              "#482878"
             ],
             [
              0.2222222222222222,
              "#3e4989"
             ],
             [
              0.3333333333333333,
              "#31688e"
             ],
             [
              0.4444444444444444,
              "#26828e"
             ],
             [
              0.5555555555555556,
              "#1f9e89"
             ],
             [
              0.6666666666666666,
              "#35b779"
             ],
             [
              0.7777777777777778,
              "#6ece58"
             ],
             [
              0.8888888888888888,
              "#b5de2b"
             ],
             [
              1,
              "#fde725"
             ]
            ],
            "type": "heatmap"
           }
          ],
          "heatmapgl": [
           {
            "colorbar": {
             "outlinewidth": 1,
             "tickcolor": "rgb(36,36,36)",
             "ticks": "outside"
            },
            "colorscale": [
             [
              0,
              "#440154"
             ],
             [
              0.1111111111111111,
              "#482878"
             ],
             [
              0.2222222222222222,
              "#3e4989"
             ],
             [
              0.3333333333333333,
              "#31688e"
             ],
             [
              0.4444444444444444,
              "#26828e"
             ],
             [
              0.5555555555555556,
              "#1f9e89"
             ],
             [
              0.6666666666666666,
              "#35b779"
             ],
             [
              0.7777777777777778,
              "#6ece58"
             ],
             [
              0.8888888888888888,
              "#b5de2b"
             ],
             [
              1,
              "#fde725"
             ]
            ],
            "type": "heatmapgl"
           }
          ],
          "histogram": [
           {
            "marker": {
             "line": {
              "color": "white",
              "width": 0.6
             }
            },
            "type": "histogram"
           }
          ],
          "histogram2d": [
           {
            "colorbar": {
             "outlinewidth": 1,
             "tickcolor": "rgb(36,36,36)",
             "ticks": "outside"
            },
            "colorscale": [
             [
              0,
              "#440154"
             ],
             [
              0.1111111111111111,
              "#482878"
             ],
             [
              0.2222222222222222,
              "#3e4989"
             ],
             [
              0.3333333333333333,
              "#31688e"
             ],
             [
              0.4444444444444444,
              "#26828e"
             ],
             [
              0.5555555555555556,
              "#1f9e89"
             ],
             [
              0.6666666666666666,
              "#35b779"
             ],
             [
              0.7777777777777778,
              "#6ece58"
             ],
             [
              0.8888888888888888,
              "#b5de2b"
             ],
             [
              1,
              "#fde725"
             ]
            ],
            "type": "histogram2d"
           }
          ],
          "histogram2dcontour": [
           {
            "colorbar": {
             "outlinewidth": 1,
             "tickcolor": "rgb(36,36,36)",
             "ticks": "outside"
            },
            "colorscale": [
             [
              0,
              "#440154"
             ],
             [
              0.1111111111111111,
              "#482878"
             ],
             [
              0.2222222222222222,
              "#3e4989"
             ],
             [
              0.3333333333333333,
              "#31688e"
             ],
             [
              0.4444444444444444,
              "#26828e"
             ],
             [
              0.5555555555555556,
              "#1f9e89"
             ],
             [
              0.6666666666666666,
              "#35b779"
             ],
             [
              0.7777777777777778,
              "#6ece58"
             ],
             [
              0.8888888888888888,
              "#b5de2b"
             ],
             [
              1,
              "#fde725"
             ]
            ],
            "type": "histogram2dcontour"
           }
          ],
          "mesh3d": [
           {
            "colorbar": {
             "outlinewidth": 1,
             "tickcolor": "rgb(36,36,36)",
             "ticks": "outside"
            },
            "type": "mesh3d"
           }
          ],
          "parcoords": [
           {
            "line": {
             "colorbar": {
              "outlinewidth": 1,
              "tickcolor": "rgb(36,36,36)",
              "ticks": "outside"
             }
            },
            "type": "parcoords"
           }
          ],
          "pie": [
           {
            "automargin": true,
            "type": "pie"
           }
          ],
          "scatter": [
           {
            "fillpattern": {
             "fillmode": "overlay",
             "size": 10,
             "solidity": 0.2
            },
            "type": "scatter"
           }
          ],
          "scatter3d": [
           {
            "line": {
             "colorbar": {
              "outlinewidth": 1,
              "tickcolor": "rgb(36,36,36)",
              "ticks": "outside"
             }
            },
            "marker": {
             "colorbar": {
              "outlinewidth": 1,
              "tickcolor": "rgb(36,36,36)",
              "ticks": "outside"
             }
            },
            "type": "scatter3d"
           }
          ],
          "scattercarpet": [
           {
            "marker": {
             "colorbar": {
              "outlinewidth": 1,
              "tickcolor": "rgb(36,36,36)",
              "ticks": "outside"
             }
            },
            "type": "scattercarpet"
           }
          ],
          "scattergeo": [
           {
            "marker": {
             "colorbar": {
              "outlinewidth": 1,
              "tickcolor": "rgb(36,36,36)",
              "ticks": "outside"
             }
            },
            "type": "scattergeo"
           }
          ],
          "scattergl": [
           {
            "marker": {
             "colorbar": {
              "outlinewidth": 1,
              "tickcolor": "rgb(36,36,36)",
              "ticks": "outside"
             }
            },
            "type": "scattergl"
           }
          ],
          "scattermapbox": [
           {
            "marker": {
             "colorbar": {
              "outlinewidth": 1,
              "tickcolor": "rgb(36,36,36)",
              "ticks": "outside"
             }
            },
            "type": "scattermapbox"
           }
          ],
          "scatterpolar": [
           {
            "marker": {
             "colorbar": {
              "outlinewidth": 1,
              "tickcolor": "rgb(36,36,36)",
              "ticks": "outside"
             }
            },
            "type": "scatterpolar"
           }
          ],
          "scatterpolargl": [
           {
            "marker": {
             "colorbar": {
              "outlinewidth": 1,
              "tickcolor": "rgb(36,36,36)",
              "ticks": "outside"
             }
            },
            "type": "scatterpolargl"
           }
          ],
          "scatterternary": [
           {
            "marker": {
             "colorbar": {
              "outlinewidth": 1,
              "tickcolor": "rgb(36,36,36)",
              "ticks": "outside"
             }
            },
            "type": "scatterternary"
           }
          ],
          "surface": [
           {
            "colorbar": {
             "outlinewidth": 1,
             "tickcolor": "rgb(36,36,36)",
             "ticks": "outside"
            },
            "colorscale": [
             [
              0,
              "#440154"
             ],
             [
              0.1111111111111111,
              "#482878"
             ],
             [
              0.2222222222222222,
              "#3e4989"
             ],
             [
              0.3333333333333333,
              "#31688e"
             ],
             [
              0.4444444444444444,
              "#26828e"
             ],
             [
              0.5555555555555556,
              "#1f9e89"
             ],
             [
              0.6666666666666666,
              "#35b779"
             ],
             [
              0.7777777777777778,
              "#6ece58"
             ],
             [
              0.8888888888888888,
              "#b5de2b"
             ],
             [
              1,
              "#fde725"
             ]
            ],
            "type": "surface"
           }
          ],
          "table": [
           {
            "cells": {
             "fill": {
              "color": "rgb(237,237,237)"
             },
             "line": {
              "color": "white"
             }
            },
            "header": {
             "fill": {
              "color": "rgb(217,217,217)"
             },
             "line": {
              "color": "white"
             }
            },
            "type": "table"
           }
          ]
         },
         "layout": {
          "annotationdefaults": {
           "arrowhead": 0,
           "arrowwidth": 1
          },
          "autotypenumbers": "strict",
          "coloraxis": {
           "colorbar": {
            "outlinewidth": 1,
            "tickcolor": "rgb(36,36,36)",
            "ticks": "outside"
           }
          },
          "colorscale": {
           "diverging": [
            [
             0,
             "rgb(103,0,31)"
            ],
            [
             0.1,
             "rgb(178,24,43)"
            ],
            [
             0.2,
             "rgb(214,96,77)"
            ],
            [
             0.3,
             "rgb(244,165,130)"
            ],
            [
             0.4,
             "rgb(253,219,199)"
            ],
            [
             0.5,
             "rgb(247,247,247)"
            ],
            [
             0.6,
             "rgb(209,229,240)"
            ],
            [
             0.7,
             "rgb(146,197,222)"
            ],
            [
             0.8,
             "rgb(67,147,195)"
            ],
            [
             0.9,
             "rgb(33,102,172)"
            ],
            [
             1,
             "rgb(5,48,97)"
            ]
           ],
           "sequential": [
            [
             0,
             "#440154"
            ],
            [
             0.1111111111111111,
             "#482878"
            ],
            [
             0.2222222222222222,
             "#3e4989"
            ],
            [
             0.3333333333333333,
             "#31688e"
            ],
            [
             0.4444444444444444,
             "#26828e"
            ],
            [
             0.5555555555555556,
             "#1f9e89"
            ],
            [
             0.6666666666666666,
             "#35b779"
            ],
            [
             0.7777777777777778,
             "#6ece58"
            ],
            [
             0.8888888888888888,
             "#b5de2b"
            ],
            [
             1,
             "#fde725"
            ]
           ],
           "sequentialminus": [
            [
             0,
             "#440154"
            ],
            [
             0.1111111111111111,
             "#482878"
            ],
            [
             0.2222222222222222,
             "#3e4989"
            ],
            [
             0.3333333333333333,
             "#31688e"
            ],
            [
             0.4444444444444444,
             "#26828e"
            ],
            [
             0.5555555555555556,
             "#1f9e89"
            ],
            [
             0.6666666666666666,
             "#35b779"
            ],
            [
             0.7777777777777778,
             "#6ece58"
            ],
            [
             0.8888888888888888,
             "#b5de2b"
            ],
            [
             1,
             "#fde725"
            ]
           ]
          },
          "colorway": [
           "#1F77B4",
           "#FF7F0E",
           "#2CA02C",
           "#D62728",
           "#9467BD",
           "#8C564B",
           "#E377C2",
           "#7F7F7F",
           "#BCBD22",
           "#17BECF"
          ],
          "font": {
           "color": "rgb(36,36,36)"
          },
          "geo": {
           "bgcolor": "white",
           "lakecolor": "white",
           "landcolor": "white",
           "showlakes": true,
           "showland": true,
           "subunitcolor": "white"
          },
          "hoverlabel": {
           "align": "left"
          },
          "hovermode": "closest",
          "mapbox": {
           "style": "light"
          },
          "paper_bgcolor": "white",
          "plot_bgcolor": "white",
          "polar": {
           "angularaxis": {
            "gridcolor": "rgb(232,232,232)",
            "linecolor": "rgb(36,36,36)",
            "showgrid": false,
            "showline": true,
            "ticks": "outside"
           },
           "bgcolor": "white",
           "radialaxis": {
            "gridcolor": "rgb(232,232,232)",
            "linecolor": "rgb(36,36,36)",
            "showgrid": false,
            "showline": true,
            "ticks": "outside"
           }
          },
          "scene": {
           "xaxis": {
            "backgroundcolor": "white",
            "gridcolor": "rgb(232,232,232)",
            "gridwidth": 2,
            "linecolor": "rgb(36,36,36)",
            "showbackground": true,
            "showgrid": false,
            "showline": true,
            "ticks": "outside",
            "zeroline": false,
            "zerolinecolor": "rgb(36,36,36)"
           },
           "yaxis": {
            "backgroundcolor": "white",
            "gridcolor": "rgb(232,232,232)",
            "gridwidth": 2,
            "linecolor": "rgb(36,36,36)",
            "showbackground": true,
            "showgrid": false,
            "showline": true,
            "ticks": "outside",
            "zeroline": false,
            "zerolinecolor": "rgb(36,36,36)"
           },
           "zaxis": {
            "backgroundcolor": "white",
            "gridcolor": "rgb(232,232,232)",
            "gridwidth": 2,
            "linecolor": "rgb(36,36,36)",
            "showbackground": true,
            "showgrid": false,
            "showline": true,
            "ticks": "outside",
            "zeroline": false,
            "zerolinecolor": "rgb(36,36,36)"
           }
          },
          "shapedefaults": {
           "fillcolor": "black",
           "line": {
            "width": 0
           },
           "opacity": 0.3
          },
          "ternary": {
           "aaxis": {
            "gridcolor": "rgb(232,232,232)",
            "linecolor": "rgb(36,36,36)",
            "showgrid": false,
            "showline": true,
            "ticks": "outside"
           },
           "baxis": {
            "gridcolor": "rgb(232,232,232)",
            "linecolor": "rgb(36,36,36)",
            "showgrid": false,
            "showline": true,
            "ticks": "outside"
           },
           "bgcolor": "white",
           "caxis": {
            "gridcolor": "rgb(232,232,232)",
            "linecolor": "rgb(36,36,36)",
            "showgrid": false,
            "showline": true,
            "ticks": "outside"
           }
          },
          "title": {
           "x": 0.05
          },
          "xaxis": {
           "automargin": true,
           "gridcolor": "rgb(232,232,232)",
           "linecolor": "rgb(36,36,36)",
           "showgrid": false,
           "showline": true,
           "ticks": "outside",
           "title": {
            "standoff": 15
           },
           "zeroline": false,
           "zerolinecolor": "rgb(36,36,36)"
          },
          "yaxis": {
           "automargin": true,
           "gridcolor": "rgb(232,232,232)",
           "linecolor": "rgb(36,36,36)",
           "showgrid": false,
           "showline": true,
           "ticks": "outside",
           "title": {
            "standoff": 15
           },
           "zeroline": false,
           "zerolinecolor": "rgb(36,36,36)"
          }
         }
        },
        "title": {
         "text": ""
        },
        "xaxis": {
         "showgrid": false,
         "showline": false,
         "showticklabels": false,
         "ticks": "",
         "title": {
          "text": ""
         },
         "zeroline": false
        },
        "yaxis": {
         "showgrid": false,
         "showline": false,
         "showticklabels": false,
         "ticks": "",
         "title": {
          "text": ""
         },
         "zeroline": false
        }
       }
      }
     },
     "metadata": {},
     "output_type": "display_data"
    },
    {
     "data": {
      "application/vnd.plotly.v1+json": {
       "config": {
        "plotlyServerURL": "https://plot.ly",
        "scrollZoom": true
       },
       "data": [
        {
         "hoverinfo": "none",
         "line": {
          "color": "#888",
          "width": 1
         },
         "mode": "lines",
         "name": "edge_trace",
         "type": "scatter",
         "uid": "29866402-7101-451f-85d3-128bc495ba21",
         "x": [
          -1.378327880868428,
          -0.7744666369852549,
          null,
          -1.378327880868428,
          -1.5361369470896669,
          null,
          -0.008629862956732876,
          -0.7744666369852549,
          null,
          -0.008629862956732876,
          0.35918386017892334,
          null,
          -1.2810249288411202,
          -0.731468515765148,
          null,
          -1.2810249288411202,
          -1.5361369470896669,
          null,
          3.0717511097906596,
          2.5912874415380363,
          null,
          3.158058819478915,
          3.0856986969378313,
          null
         ],
         "y": [
          -0.6056120538023491,
          -0.16557529747599728,
          null,
          -0.6056120538023491,
          -1.3345478636108135,
          null,
          -0.11138043296287771,
          -0.16557529747599728,
          null,
          -0.11138043296287771,
          0.5624028156035183,
          null,
          -2.032073170797611,
          -2.532905072479684,
          null,
          -2.032073170797611,
          -1.3345478636108135,
          null,
          -2.8424583820734637,
          -2.265858169775113,
          null,
          0.6479581371360701,
          -0.09510187730107271,
          null
         ]
        },
        {
         "hoverinfo": "text",
         "hovertext": [
          "Node ID: 0<br>Pullback set label: 3<br>Partial cluster label: -1<br>Node size: 20<br>Summary statistic: 77.6",
          "Node ID: 1<br>Pullback set label: 11<br>Partial cluster label: -1<br>Node size: 1<br>Summary statistic: 1.0",
          "Node ID: 2<br>Pullback set label: 12<br>Partial cluster label: -1<br>Node size: 1<br>Summary statistic: 2.0",
          "Node ID: 3<br>Pullback set label: 1<br>Partial cluster label: -1<br>Node size: 26<br>Summary statistic: 113.0",
          "Node ID: 4<br>Pullback set label: 2<br>Partial cluster label: -1<br>Node size: 26<br>Summary statistic: 94.0",
          "Node ID: 5<br>Pullback set label: 5<br>Partial cluster label: -1<br>Node size: 8<br>Summary statistic: 50.6",
          "Node ID: 6<br>Pullback set label: 6<br>Partial cluster label: -1<br>Node size: 2<br>Summary statistic: 34.5",
          "Node ID: 7<br>Pullback set label: 8<br>Partial cluster label: -1<br>Node size: 1<br>Summary statistic: 5.0",
          "Node ID: 8<br>Pullback set label: 0<br>Partial cluster label: 0<br>Node size: 119<br>Summary statistic: 170.0",
          "Node ID: 9<br>Pullback set label: 0<br>Partial cluster label: 1<br>Node size: 14<br>Summary statistic: 153.0",
          "Node ID: 10<br>Pullback set label: 0<br>Partial cluster label: -1<br>Node size: 16<br>Summary statistic: 97.2",
          "Node ID: 11<br>Pullback set label: 0<br>Partial cluster label: 2<br>Node size: 66<br>Summary statistic: 195.0",
          "Node ID: 12<br>Pullback set label: 4<br>Partial cluster label: -1<br>Node size: 9<br>Summary statistic: 58.8",
          "Node ID: 13<br>Pullback set label: 9<br>Partial cluster label: -1<br>Node size: 1<br>Summary statistic: 14.0",
          "Node ID: 14<br>Pullback set label: 0<br>Partial cluster label: 3<br>Node size: 5<br>Summary statistic: 167.0",
          "Node ID: 15<br>Pullback set label: 0<br>Partial cluster label: 4<br>Node size: 25<br>Summary statistic: 226.0",
          "Node ID: 16<br>Pullback set label: 1<br>Partial cluster label: 0<br>Node size: 25<br>Summary statistic: 226.0",
          "Node ID: 17<br>Pullback set label: 0<br>Partial cluster label: 5<br>Node size: 11<br>Summary statistic: 240.0",
          "Node ID: 18<br>Pullback set label: 0<br>Partial cluster label: 6<br>Node size: 17<br>Summary statistic: 151.0",
          "Node ID: 19<br>Pullback set label: 7<br>Partial cluster label: -1<br>Node size: 1<br>Summary statistic: 78.0",
          "Node ID: 20<br>Pullback set label: 10<br>Partial cluster label: -1<br>Node size: 1<br>Summary statistic: 84.0",
          "Node ID: 21<br>Pullback set label: 0<br>Partial cluster label: 7<br>Node size: 7<br>Summary statistic: 215.0",
          "Node ID: 22<br>Pullback set label: 1<br>Partial cluster label: 1<br>Node size: 7<br>Summary statistic: 215.0"
         ],
         "marker": {
          "color": [
           77.6,
           1,
           2,
           112.65384615384616,
           94.03846153846153,
           50.625,
           34.5,
           5,
           169.8655462184874,
           152.78571428571428,
           97.25,
           195.4090909090909,
           58.77777777777778,
           14,
           167.4,
           225.72,
           225.72,
           239.9090909090909,
           150.8235294117647,
           78,
           84,
           214.71428571428572,
           214.71428571428572
          ],
          "colorbar": {
           "thickness": 15,
           "title": {
            "side": "right",
            "text": ""
           },
           "xanchor": "left"
          },
          "colorscale": [
           [
            0,
            "#440154"
           ],
           [
            0.1111111111111111,
            "#482878"
           ],
           [
            0.2222222222222222,
            "#3e4989"
           ],
           [
            0.3333333333333333,
            "#31688e"
           ],
           [
            0.4444444444444444,
            "#26828e"
           ],
           [
            0.5555555555555556,
            "#1f9e89"
           ],
           [
            0.6666666666666666,
            "#35b779"
           ],
           [
            0.7777777777777778,
            "#6ece58"
           ],
           [
            0.8888888888888888,
            "#b5de2b"
           ],
           [
            1,
            "#fde725"
           ]
          ],
          "line": {
           "color": "#888",
           "width": 1
          },
          "opacity": 1,
          "reversescale": false,
          "showscale": true,
          "size": [
           20,
           1,
           1,
           26,
           26,
           8,
           2,
           1,
           119,
           14,
           16,
           66,
           9,
           1,
           5,
           25,
           25,
           11,
           17,
           1,
           1,
           7,
           7
          ],
          "sizemin": 4,
          "sizemode": "area",
          "sizeref": 1.6527777777777777
         },
         "mode": "markers",
         "name": "node_trace",
         "type": "scatter",
         "uid": "ed889bc4-8873-4fbe-bfbc-271328b77ab3",
         "x": [
          -1.378327880868428,
          4.705039175844175,
          -0.19198055882007042,
          -0.008629862956732876,
          -0.7744666369852549,
          -1.2810249288411202,
          -0.731468515765148,
          1.7429211376362324,
          1.0395794090808852,
          -1.2382194661990933,
          0.35918386017892334,
          2.7063845166409743,
          -1.5361369470896669,
          0.575733371883034,
          4.18958273603891,
          3.0717511097906596,
          2.5912874415380363,
          4.664912381896847,
          -2.2201768180228645,
          3.746875022247736,
          1.7337674409700512,
          3.158058819478915,
          3.0856986969378313
         ],
         "y": [
          -0.6056120538023491,
          -0.6801796484292979,
          3.0195433688850755,
          -0.11138043296287771,
          -0.16557529747599728,
          -2.032073170797611,
          -2.532905072479684,
          -3.4411102370550446,
          3.486875985456905,
          2.4432103957416715,
          0.5624028156035183,
          3.1614542714020386,
          -1.3345478636108135,
          -3.4829340745618347,
          -1.8894076150730241,
          -2.8424583820734637,
          -2.265858169775113,
          1.037298764809623,
          1.3081403950201287,
          2.2961194376875915,
          2.366416616344615,
          0.6479581371360701,
          -0.09510187730107271
         ]
        }
       ],
       "layout": {
        "autosize": false,
        "hovermode": "closest",
        "margin": {
         "b": 20,
         "l": 5,
         "r": 5,
         "t": 40
        },
        "showlegend": false,
        "template": {
         "data": {
          "bar": [
           {
            "error_x": {
             "color": "rgb(36,36,36)"
            },
            "error_y": {
             "color": "rgb(36,36,36)"
            },
            "marker": {
             "line": {
              "color": "white",
              "width": 0.5
             },
             "pattern": {
              "fillmode": "overlay",
              "size": 10,
              "solidity": 0.2
             }
            },
            "type": "bar"
           }
          ],
          "barpolar": [
           {
            "marker": {
             "line": {
              "color": "white",
              "width": 0.5
             },
             "pattern": {
              "fillmode": "overlay",
              "size": 10,
              "solidity": 0.2
             }
            },
            "type": "barpolar"
           }
          ],
          "carpet": [
           {
            "aaxis": {
             "endlinecolor": "rgb(36,36,36)",
             "gridcolor": "white",
             "linecolor": "white",
             "minorgridcolor": "white",
             "startlinecolor": "rgb(36,36,36)"
            },
            "baxis": {
             "endlinecolor": "rgb(36,36,36)",
             "gridcolor": "white",
             "linecolor": "white",
             "minorgridcolor": "white",
             "startlinecolor": "rgb(36,36,36)"
            },
            "type": "carpet"
           }
          ],
          "choropleth": [
           {
            "colorbar": {
             "outlinewidth": 1,
             "tickcolor": "rgb(36,36,36)",
             "ticks": "outside"
            },
            "type": "choropleth"
           }
          ],
          "contour": [
           {
            "colorbar": {
             "outlinewidth": 1,
             "tickcolor": "rgb(36,36,36)",
             "ticks": "outside"
            },
            "colorscale": [
             [
              0,
              "#440154"
             ],
             [
              0.1111111111111111,
              "#482878"
             ],
             [
              0.2222222222222222,
              "#3e4989"
             ],
             [
              0.3333333333333333,
              "#31688e"
             ],
             [
              0.4444444444444444,
              "#26828e"
             ],
             [
              0.5555555555555556,
              "#1f9e89"
             ],
             [
              0.6666666666666666,
              "#35b779"
             ],
             [
              0.7777777777777778,
              "#6ece58"
             ],
             [
              0.8888888888888888,
              "#b5de2b"
             ],
             [
              1,
              "#fde725"
             ]
            ],
            "type": "contour"
           }
          ],
          "contourcarpet": [
           {
            "colorbar": {
             "outlinewidth": 1,
             "tickcolor": "rgb(36,36,36)",
             "ticks": "outside"
            },
            "type": "contourcarpet"
           }
          ],
          "heatmap": [
           {
            "colorbar": {
             "outlinewidth": 1,
             "tickcolor": "rgb(36,36,36)",
             "ticks": "outside"
            },
            "colorscale": [
             [
              0,
              "#440154"
             ],
             [
              0.1111111111111111,
              "#482878"
             ],
             [
              0.2222222222222222,
              "#3e4989"
             ],
             [
              0.3333333333333333,
              "#31688e"
             ],
             [
              0.4444444444444444,
              "#26828e"
             ],
             [
              0.5555555555555556,
              "#1f9e89"
             ],
             [
              0.6666666666666666,
              "#35b779"
             ],
             [
              0.7777777777777778,
              "#6ece58"
             ],
             [
              0.8888888888888888,
              "#b5de2b"
             ],
             [
              1,
              "#fde725"
             ]
            ],
            "type": "heatmap"
           }
          ],
          "heatmapgl": [
           {
            "colorbar": {
             "outlinewidth": 1,
             "tickcolor": "rgb(36,36,36)",
             "ticks": "outside"
            },
            "colorscale": [
             [
              0,
              "#440154"
             ],
             [
              0.1111111111111111,
              "#482878"
             ],
             [
              0.2222222222222222,
              "#3e4989"
             ],
             [
              0.3333333333333333,
              "#31688e"
             ],
             [
              0.4444444444444444,
              "#26828e"
             ],
             [
              0.5555555555555556,
              "#1f9e89"
             ],
             [
              0.6666666666666666,
              "#35b779"
             ],
             [
              0.7777777777777778,
              "#6ece58"
             ],
             [
              0.8888888888888888,
              "#b5de2b"
             ],
             [
              1,
              "#fde725"
             ]
            ],
            "type": "heatmapgl"
           }
          ],
          "histogram": [
           {
            "marker": {
             "line": {
              "color": "white",
              "width": 0.6
             }
            },
            "type": "histogram"
           }
          ],
          "histogram2d": [
           {
            "colorbar": {
             "outlinewidth": 1,
             "tickcolor": "rgb(36,36,36)",
             "ticks": "outside"
            },
            "colorscale": [
             [
              0,
              "#440154"
             ],
             [
              0.1111111111111111,
              "#482878"
             ],
             [
              0.2222222222222222,
              "#3e4989"
             ],
             [
              0.3333333333333333,
              "#31688e"
             ],
             [
              0.4444444444444444,
              "#26828e"
             ],
             [
              0.5555555555555556,
              "#1f9e89"
             ],
             [
              0.6666666666666666,
              "#35b779"
             ],
             [
              0.7777777777777778,
              "#6ece58"
             ],
             [
              0.8888888888888888,
              "#b5de2b"
             ],
             [
              1,
              "#fde725"
             ]
            ],
            "type": "histogram2d"
           }
          ],
          "histogram2dcontour": [
           {
            "colorbar": {
             "outlinewidth": 1,
             "tickcolor": "rgb(36,36,36)",
             "ticks": "outside"
            },
            "colorscale": [
             [
              0,
              "#440154"
             ],
             [
              0.1111111111111111,
              "#482878"
             ],
             [
              0.2222222222222222,
              "#3e4989"
             ],
             [
              0.3333333333333333,
              "#31688e"
             ],
             [
              0.4444444444444444,
              "#26828e"
             ],
             [
              0.5555555555555556,
              "#1f9e89"
             ],
             [
              0.6666666666666666,
              "#35b779"
             ],
             [
              0.7777777777777778,
              "#6ece58"
             ],
             [
              0.8888888888888888,
              "#b5de2b"
             ],
             [
              1,
              "#fde725"
             ]
            ],
            "type": "histogram2dcontour"
           }
          ],
          "mesh3d": [
           {
            "colorbar": {
             "outlinewidth": 1,
             "tickcolor": "rgb(36,36,36)",
             "ticks": "outside"
            },
            "type": "mesh3d"
           }
          ],
          "parcoords": [
           {
            "line": {
             "colorbar": {
              "outlinewidth": 1,
              "tickcolor": "rgb(36,36,36)",
              "ticks": "outside"
             }
            },
            "type": "parcoords"
           }
          ],
          "pie": [
           {
            "automargin": true,
            "type": "pie"
           }
          ],
          "scatter": [
           {
            "fillpattern": {
             "fillmode": "overlay",
             "size": 10,
             "solidity": 0.2
            },
            "type": "scatter"
           }
          ],
          "scatter3d": [
           {
            "line": {
             "colorbar": {
              "outlinewidth": 1,
              "tickcolor": "rgb(36,36,36)",
              "ticks": "outside"
             }
            },
            "marker": {
             "colorbar": {
              "outlinewidth": 1,
              "tickcolor": "rgb(36,36,36)",
              "ticks": "outside"
             }
            },
            "type": "scatter3d"
           }
          ],
          "scattercarpet": [
           {
            "marker": {
             "colorbar": {
              "outlinewidth": 1,
              "tickcolor": "rgb(36,36,36)",
              "ticks": "outside"
             }
            },
            "type": "scattercarpet"
           }
          ],
          "scattergeo": [
           {
            "marker": {
             "colorbar": {
              "outlinewidth": 1,
              "tickcolor": "rgb(36,36,36)",
              "ticks": "outside"
             }
            },
            "type": "scattergeo"
           }
          ],
          "scattergl": [
           {
            "marker": {
             "colorbar": {
              "outlinewidth": 1,
              "tickcolor": "rgb(36,36,36)",
              "ticks": "outside"
             }
            },
            "type": "scattergl"
           }
          ],
          "scattermapbox": [
           {
            "marker": {
             "colorbar": {
              "outlinewidth": 1,
              "tickcolor": "rgb(36,36,36)",
              "ticks": "outside"
             }
            },
            "type": "scattermapbox"
           }
          ],
          "scatterpolar": [
           {
            "marker": {
             "colorbar": {
              "outlinewidth": 1,
              "tickcolor": "rgb(36,36,36)",
              "ticks": "outside"
             }
            },
            "type": "scatterpolar"
           }
          ],
          "scatterpolargl": [
           {
            "marker": {
             "colorbar": {
              "outlinewidth": 1,
              "tickcolor": "rgb(36,36,36)",
              "ticks": "outside"
             }
            },
            "type": "scatterpolargl"
           }
          ],
          "scatterternary": [
           {
            "marker": {
             "colorbar": {
              "outlinewidth": 1,
              "tickcolor": "rgb(36,36,36)",
              "ticks": "outside"
             }
            },
            "type": "scatterternary"
           }
          ],
          "surface": [
           {
            "colorbar": {
             "outlinewidth": 1,
             "tickcolor": "rgb(36,36,36)",
             "ticks": "outside"
            },
            "colorscale": [
             [
              0,
              "#440154"
             ],
             [
              0.1111111111111111,
              "#482878"
             ],
             [
              0.2222222222222222,
              "#3e4989"
             ],
             [
              0.3333333333333333,
              "#31688e"
             ],
             [
              0.4444444444444444,
              "#26828e"
             ],
             [
              0.5555555555555556,
              "#1f9e89"
             ],
             [
              0.6666666666666666,
              "#35b779"
             ],
             [
              0.7777777777777778,
              "#6ece58"
             ],
             [
              0.8888888888888888,
              "#b5de2b"
             ],
             [
              1,
              "#fde725"
             ]
            ],
            "type": "surface"
           }
          ],
          "table": [
           {
            "cells": {
             "fill": {
              "color": "rgb(237,237,237)"
             },
             "line": {
              "color": "white"
             }
            },
            "header": {
             "fill": {
              "color": "rgb(217,217,217)"
             },
             "line": {
              "color": "white"
             }
            },
            "type": "table"
           }
          ]
         },
         "layout": {
          "annotationdefaults": {
           "arrowhead": 0,
           "arrowwidth": 1
          },
          "autotypenumbers": "strict",
          "coloraxis": {
           "colorbar": {
            "outlinewidth": 1,
            "tickcolor": "rgb(36,36,36)",
            "ticks": "outside"
           }
          },
          "colorscale": {
           "diverging": [
            [
             0,
             "rgb(103,0,31)"
            ],
            [
             0.1,
             "rgb(178,24,43)"
            ],
            [
             0.2,
             "rgb(214,96,77)"
            ],
            [
             0.3,
             "rgb(244,165,130)"
            ],
            [
             0.4,
             "rgb(253,219,199)"
            ],
            [
             0.5,
             "rgb(247,247,247)"
            ],
            [
             0.6,
             "rgb(209,229,240)"
            ],
            [
             0.7,
             "rgb(146,197,222)"
            ],
            [
             0.8,
             "rgb(67,147,195)"
            ],
            [
             0.9,
             "rgb(33,102,172)"
            ],
            [
             1,
             "rgb(5,48,97)"
            ]
           ],
           "sequential": [
            [
             0,
             "#440154"
            ],
            [
             0.1111111111111111,
             "#482878"
            ],
            [
             0.2222222222222222,
             "#3e4989"
            ],
            [
             0.3333333333333333,
             "#31688e"
            ],
            [
             0.4444444444444444,
             "#26828e"
            ],
            [
             0.5555555555555556,
             "#1f9e89"
            ],
            [
             0.6666666666666666,
             "#35b779"
            ],
            [
             0.7777777777777778,
             "#6ece58"
            ],
            [
             0.8888888888888888,
             "#b5de2b"
            ],
            [
             1,
             "#fde725"
            ]
           ],
           "sequentialminus": [
            [
             0,
             "#440154"
            ],
            [
             0.1111111111111111,
             "#482878"
            ],
            [
             0.2222222222222222,
             "#3e4989"
            ],
            [
             0.3333333333333333,
             "#31688e"
            ],
            [
             0.4444444444444444,
             "#26828e"
            ],
            [
             0.5555555555555556,
             "#1f9e89"
            ],
            [
             0.6666666666666666,
             "#35b779"
            ],
            [
             0.7777777777777778,
             "#6ece58"
            ],
            [
             0.8888888888888888,
             "#b5de2b"
            ],
            [
             1,
             "#fde725"
            ]
           ]
          },
          "colorway": [
           "#1F77B4",
           "#FF7F0E",
           "#2CA02C",
           "#D62728",
           "#9467BD",
           "#8C564B",
           "#E377C2",
           "#7F7F7F",
           "#BCBD22",
           "#17BECF"
          ],
          "font": {
           "color": "rgb(36,36,36)"
          },
          "geo": {
           "bgcolor": "white",
           "lakecolor": "white",
           "landcolor": "white",
           "showlakes": true,
           "showland": true,
           "subunitcolor": "white"
          },
          "hoverlabel": {
           "align": "left"
          },
          "hovermode": "closest",
          "mapbox": {
           "style": "light"
          },
          "paper_bgcolor": "white",
          "plot_bgcolor": "white",
          "polar": {
           "angularaxis": {
            "gridcolor": "rgb(232,232,232)",
            "linecolor": "rgb(36,36,36)",
            "showgrid": false,
            "showline": true,
            "ticks": "outside"
           },
           "bgcolor": "white",
           "radialaxis": {
            "gridcolor": "rgb(232,232,232)",
            "linecolor": "rgb(36,36,36)",
            "showgrid": false,
            "showline": true,
            "ticks": "outside"
           }
          },
          "scene": {
           "xaxis": {
            "backgroundcolor": "white",
            "gridcolor": "rgb(232,232,232)",
            "gridwidth": 2,
            "linecolor": "rgb(36,36,36)",
            "showbackground": true,
            "showgrid": false,
            "showline": true,
            "ticks": "outside",
            "zeroline": false,
            "zerolinecolor": "rgb(36,36,36)"
           },
           "yaxis": {
            "backgroundcolor": "white",
            "gridcolor": "rgb(232,232,232)",
            "gridwidth": 2,
            "linecolor": "rgb(36,36,36)",
            "showbackground": true,
            "showgrid": false,
            "showline": true,
            "ticks": "outside",
            "zeroline": false,
            "zerolinecolor": "rgb(36,36,36)"
           },
           "zaxis": {
            "backgroundcolor": "white",
            "gridcolor": "rgb(232,232,232)",
            "gridwidth": 2,
            "linecolor": "rgb(36,36,36)",
            "showbackground": true,
            "showgrid": false,
            "showline": true,
            "ticks": "outside",
            "zeroline": false,
            "zerolinecolor": "rgb(36,36,36)"
           }
          },
          "shapedefaults": {
           "fillcolor": "black",
           "line": {
            "width": 0
           },
           "opacity": 0.3
          },
          "ternary": {
           "aaxis": {
            "gridcolor": "rgb(232,232,232)",
            "linecolor": "rgb(36,36,36)",
            "showgrid": false,
            "showline": true,
            "ticks": "outside"
           },
           "baxis": {
            "gridcolor": "rgb(232,232,232)",
            "linecolor": "rgb(36,36,36)",
            "showgrid": false,
            "showline": true,
            "ticks": "outside"
           },
           "bgcolor": "white",
           "caxis": {
            "gridcolor": "rgb(232,232,232)",
            "linecolor": "rgb(36,36,36)",
            "showgrid": false,
            "showline": true,
            "ticks": "outside"
           }
          },
          "title": {
           "x": 0.05
          },
          "xaxis": {
           "automargin": true,
           "gridcolor": "rgb(232,232,232)",
           "linecolor": "rgb(36,36,36)",
           "showgrid": false,
           "showline": true,
           "ticks": "outside",
           "title": {
            "standoff": 15
           },
           "zeroline": false,
           "zerolinecolor": "rgb(36,36,36)"
          },
          "yaxis": {
           "automargin": true,
           "gridcolor": "rgb(232,232,232)",
           "linecolor": "rgb(36,36,36)",
           "showgrid": false,
           "showline": true,
           "ticks": "outside",
           "title": {
            "standoff": 15
           },
           "zeroline": false,
           "zerolinecolor": "rgb(36,36,36)"
          }
         }
        },
        "title": {
         "text": ""
        },
        "xaxis": {
         "showgrid": false,
         "showline": false,
         "showticklabels": false,
         "ticks": "",
         "title": {
          "text": ""
         },
         "zeroline": false
        },
        "yaxis": {
         "showgrid": false,
         "showline": false,
         "showticklabels": false,
         "ticks": "",
         "title": {
          "text": ""
         },
         "zeroline": false
        }
       }
      }
     },
     "metadata": {},
     "output_type": "display_data"
    },
    {
     "data": {
      "application/vnd.plotly.v1+json": {
       "config": {
        "plotlyServerURL": "https://plot.ly",
        "scrollZoom": true
       },
       "data": [
        {
         "hoverinfo": "none",
         "line": {
          "color": "#888",
          "width": 1
         },
         "mode": "lines",
         "name": "edge_trace",
         "type": "scatter",
         "uid": "04e0e90a-29aa-416e-8ff9-e0836220014b",
         "x": [
          1.4803853089149632,
          1.6356898163103557,
          null,
          1.4803853089149632,
          1.1488042210053586,
          null,
          1.6356898163103557,
          1.532021646994224,
          null,
          1.532021646994224,
          1.1904838824127608,
          null,
          0.6908598970498898,
          1.1488042210053586,
          null,
          0.6908598970498898,
          0.13505878528182472,
          null,
          -3.454593722470157,
          -3.9658738125574895,
          null,
          -3.9658738125574895,
          -4.057793486551741,
          null,
          0.7081417209726847,
          0.13308472615848319,
          null,
          0.7081417209726847,
          1.1904838824127608,
          null,
          -3.205218223261424,
          -2.770431382604197,
          null
         ],
         "y": [
          3.3995880877273676,
          2.826497267279251,
          null,
          3.3995880877273676,
          3.8903725095108608,
          null,
          2.826497267279251,
          2.239588520513634,
          null,
          2.239588520513634,
          1.7419232022578548,
          null,
          4.264233511798976,
          3.8903725095108608,
          null,
          4.264233511798976,
          4.47360379383632,
          null,
          0.17512648712986173,
          0.48120246247292625,
          null,
          0.48120246247292625,
          1.0691917155301578,
          null,
          1.3857118094392469,
          1.207401777147576,
          null,
          1.3857118094392469,
          1.7419232022578548,
          null,
          3.3282917055683887,
          2.9078484450676543,
          null
         ]
        },
        {
         "hoverinfo": "text",
         "hovertext": [
          "Node ID: 0<br>Pullback set label: 3<br>Partial cluster label: -1<br>Node size: 9<br>Summary statistic: 72.3",
          "Node ID: 1<br>Pullback set label: 4<br>Partial cluster label: -1<br>Node size: 5<br>Summary statistic: 13.2",
          "Node ID: 2<br>Pullback set label: 14<br>Partial cluster label: -1<br>Node size: 1<br>Summary statistic: 1.0",
          "Node ID: 3<br>Pullback set label: 13<br>Partial cluster label: -1<br>Node size: 1<br>Summary statistic: 2.0",
          "Node ID: 4<br>Pullback set label: 5<br>Partial cluster label: -1<br>Node size: 3<br>Summary statistic: 19.3",
          "Node ID: 5<br>Pullback set label: 9<br>Partial cluster label: -1<br>Node size: 1<br>Summary statistic: 5.0",
          "Node ID: 6<br>Pullback set label: 0<br>Partial cluster label: 0<br>Node size: 7<br>Summary statistic: 148.0",
          "Node ID: 7<br>Pullback set label: 1<br>Partial cluster label: -1<br>Node size: 36<br>Summary statistic: 97.6",
          "Node ID: 8<br>Pullback set label: 2<br>Partial cluster label: -1<br>Node size: 27<br>Summary statistic: 105.0",
          "Node ID: 9<br>Pullback set label: 0<br>Partial cluster label: -1<br>Node size: 44<br>Summary statistic: 109.0",
          "Node ID: 10<br>Pullback set label: 10<br>Partial cluster label: -1<br>Node size: 1<br>Summary statistic: 14.0",
          "Node ID: 11<br>Pullback set label: 11<br>Partial cluster label: -1<br>Node size: 2<br>Summary statistic: 49.0",
          "Node ID: 12<br>Pullback set label: 7<br>Partial cluster label: -1<br>Node size: 2<br>Summary statistic: 48.5",
          "Node ID: 13<br>Pullback set label: 8<br>Partial cluster label: -1<br>Node size: 1<br>Summary statistic: 19.0",
          "Node ID: 14<br>Pullback set label: 0<br>Partial cluster label: 1<br>Node size: 76<br>Summary statistic: 184.0",
          "Node ID: 15<br>Pullback set label: 0<br>Partial cluster label: 2<br>Node size: 11<br>Summary statistic: 241.0",
          "Node ID: 16<br>Pullback set label: 0<br>Partial cluster label: 3<br>Node size: 25<br>Summary statistic: 165.0",
          "Node ID: 17<br>Pullback set label: 6<br>Partial cluster label: -1<br>Node size: 2<br>Summary statistic: 60.5",
          "Node ID: 18<br>Pullback set label: 0<br>Partial cluster label: 4<br>Node size: 5<br>Summary statistic: 193.0",
          "Node ID: 19<br>Pullback set label: 0<br>Partial cluster label: 5<br>Node size: 42<br>Summary statistic: 203.0",
          "Node ID: 20<br>Pullback set label: 0<br>Partial cluster label: 6<br>Node size: 8<br>Summary statistic: 124.0",
          "Node ID: 21<br>Pullback set label: 0<br>Partial cluster label: 7<br>Node size: 5<br>Summary statistic: 174.0",
          "Node ID: 22<br>Pullback set label: 12<br>Partial cluster label: -1<br>Node size: 1<br>Summary statistic: 84.0",
          "Node ID: 23<br>Pullback set label: 0<br>Partial cluster label: 8<br>Node size: 55<br>Summary statistic: 211.0",
          "Node ID: 24<br>Pullback set label: 1<br>Partial cluster label: 0<br>Node size: 55<br>Summary statistic: 211.0"
         ],
         "marker": {
          "color": [
           72.33333333333333,
           13.2,
           1,
           2,
           19.333333333333332,
           5,
           148.14285714285714,
           97.58333333333333,
           104.66666666666667,
           109.04545454545455,
           14,
           49,
           48.5,
           19,
           184.26315789473685,
           240.72727272727272,
           165.2,
           60.5,
           192.6,
           203.35714285714286,
           124.25,
           173.6,
           84,
           210.92727272727274,
           210.92727272727274
          ],
          "colorbar": {
           "thickness": 15,
           "title": {
            "side": "right",
            "text": ""
           },
           "xanchor": "left"
          },
          "colorscale": [
           [
            0,
            "#440154"
           ],
           [
            0.1111111111111111,
            "#482878"
           ],
           [
            0.2222222222222222,
            "#3e4989"
           ],
           [
            0.3333333333333333,
            "#31688e"
           ],
           [
            0.4444444444444444,
            "#26828e"
           ],
           [
            0.5555555555555556,
            "#1f9e89"
           ],
           [
            0.6666666666666666,
            "#35b779"
           ],
           [
            0.7777777777777778,
            "#6ece58"
           ],
           [
            0.8888888888888888,
            "#b5de2b"
           ],
           [
            1,
            "#fde725"
           ]
          ],
          "line": {
           "color": "#888",
           "width": 1
          },
          "opacity": 1,
          "reversescale": false,
          "showscale": true,
          "size": [
           9,
           5,
           1,
           1,
           3,
           1,
           7,
           36,
           27,
           44,
           1,
           2,
           2,
           1,
           76,
           11,
           25,
           2,
           5,
           42,
           8,
           5,
           1,
           55,
           55
          ],
          "sizemin": 4,
          "sizemode": "area",
          "sizeref": 1.0555555555555556
         },
         "mode": "markers",
         "name": "node_trace",
         "type": "scatter",
         "uid": "783140b7-fa97-495a-a7ab-8ab6d7008e8e",
         "x": [
          1.4803853089149632,
          1.6356898163103557,
          1.2272137227463311,
          -0.7966374233480074,
          1.532021646994224,
          -1.7027581811926014,
          3.0614814058207354,
          0.6908598970498898,
          1.1488042210053586,
          0.13505878528182472,
          -3.454593722470157,
          -3.9658738125574895,
          0.7081417209726847,
          0.13308472615848319,
          -1.6359572443849089,
          -1.978625525119035,
          -2.7749377661142085,
          1.1904838824127608,
          0.23634653606071815,
          2.2156643971670484,
          -4.374401760717777,
          -3.1308561065182707,
          -4.057793486551741,
          -3.205218223261424,
          -2.770431382604197
         ],
         "y": [
          3.3995880877273676,
          2.826497267279251,
          -1.4946957053330454,
          -2.002058815077181,
          2.239588520513634,
          -0.34445781860433705,
          0.48622667256173435,
          4.264233511798976,
          3.8903725095108608,
          4.47360379383632,
          0.17512648712986173,
          0.48120246247292625,
          1.3857118094392469,
          1.207401777147576,
          5.040186211249216,
          -1.9670544162464254,
          4.579293295518643,
          1.7419232022578548,
          -1.9504016911501214,
          -0.800673825463594,
          2.6007627369156547,
          -1.3983936087069933,
          1.0691917155301578,
          3.3282917055683887,
          2.9078484450676543
         ]
        }
       ],
       "layout": {
        "autosize": false,
        "hovermode": "closest",
        "margin": {
         "b": 20,
         "l": 5,
         "r": 5,
         "t": 40
        },
        "showlegend": false,
        "template": {
         "data": {
          "bar": [
           {
            "error_x": {
             "color": "rgb(36,36,36)"
            },
            "error_y": {
             "color": "rgb(36,36,36)"
            },
            "marker": {
             "line": {
              "color": "white",
              "width": 0.5
             },
             "pattern": {
              "fillmode": "overlay",
              "size": 10,
              "solidity": 0.2
             }
            },
            "type": "bar"
           }
          ],
          "barpolar": [
           {
            "marker": {
             "line": {
              "color": "white",
              "width": 0.5
             },
             "pattern": {
              "fillmode": "overlay",
              "size": 10,
              "solidity": 0.2
             }
            },
            "type": "barpolar"
           }
          ],
          "carpet": [
           {
            "aaxis": {
             "endlinecolor": "rgb(36,36,36)",
             "gridcolor": "white",
             "linecolor": "white",
             "minorgridcolor": "white",
             "startlinecolor": "rgb(36,36,36)"
            },
            "baxis": {
             "endlinecolor": "rgb(36,36,36)",
             "gridcolor": "white",
             "linecolor": "white",
             "minorgridcolor": "white",
             "startlinecolor": "rgb(36,36,36)"
            },
            "type": "carpet"
           }
          ],
          "choropleth": [
           {
            "colorbar": {
             "outlinewidth": 1,
             "tickcolor": "rgb(36,36,36)",
             "ticks": "outside"
            },
            "type": "choropleth"
           }
          ],
          "contour": [
           {
            "colorbar": {
             "outlinewidth": 1,
             "tickcolor": "rgb(36,36,36)",
             "ticks": "outside"
            },
            "colorscale": [
             [
              0,
              "#440154"
             ],
             [
              0.1111111111111111,
              "#482878"
             ],
             [
              0.2222222222222222,
              "#3e4989"
             ],
             [
              0.3333333333333333,
              "#31688e"
             ],
             [
              0.4444444444444444,
              "#26828e"
             ],
             [
              0.5555555555555556,
              "#1f9e89"
             ],
             [
              0.6666666666666666,
              "#35b779"
             ],
             [
              0.7777777777777778,
              "#6ece58"
             ],
             [
              0.8888888888888888,
              "#b5de2b"
             ],
             [
              1,
              "#fde725"
             ]
            ],
            "type": "contour"
           }
          ],
          "contourcarpet": [
           {
            "colorbar": {
             "outlinewidth": 1,
             "tickcolor": "rgb(36,36,36)",
             "ticks": "outside"
            },
            "type": "contourcarpet"
           }
          ],
          "heatmap": [
           {
            "colorbar": {
             "outlinewidth": 1,
             "tickcolor": "rgb(36,36,36)",
             "ticks": "outside"
            },
            "colorscale": [
             [
              0,
              "#440154"
             ],
             [
              0.1111111111111111,
              "#482878"
             ],
             [
              0.2222222222222222,
              "#3e4989"
             ],
             [
              0.3333333333333333,
              "#31688e"
             ],
             [
              0.4444444444444444,
              "#26828e"
             ],
             [
              0.5555555555555556,
              "#1f9e89"
             ],
             [
              0.6666666666666666,
              "#35b779"
             ],
             [
              0.7777777777777778,
              "#6ece58"
             ],
             [
              0.8888888888888888,
              "#b5de2b"
             ],
             [
              1,
              "#fde725"
             ]
            ],
            "type": "heatmap"
           }
          ],
          "heatmapgl": [
           {
            "colorbar": {
             "outlinewidth": 1,
             "tickcolor": "rgb(36,36,36)",
             "ticks": "outside"
            },
            "colorscale": [
             [
              0,
              "#440154"
             ],
             [
              0.1111111111111111,
              "#482878"
             ],
             [
              0.2222222222222222,
              "#3e4989"
             ],
             [
              0.3333333333333333,
              "#31688e"
             ],
             [
              0.4444444444444444,
              "#26828e"
             ],
             [
              0.5555555555555556,
              "#1f9e89"
             ],
             [
              0.6666666666666666,
              "#35b779"
             ],
             [
              0.7777777777777778,
              "#6ece58"
             ],
             [
              0.8888888888888888,
              "#b5de2b"
             ],
             [
              1,
              "#fde725"
             ]
            ],
            "type": "heatmapgl"
           }
          ],
          "histogram": [
           {
            "marker": {
             "line": {
              "color": "white",
              "width": 0.6
             }
            },
            "type": "histogram"
           }
          ],
          "histogram2d": [
           {
            "colorbar": {
             "outlinewidth": 1,
             "tickcolor": "rgb(36,36,36)",
             "ticks": "outside"
            },
            "colorscale": [
             [
              0,
              "#440154"
             ],
             [
              0.1111111111111111,
              "#482878"
             ],
             [
              0.2222222222222222,
              "#3e4989"
             ],
             [
              0.3333333333333333,
              "#31688e"
             ],
             [
              0.4444444444444444,
              "#26828e"
             ],
             [
              0.5555555555555556,
              "#1f9e89"
             ],
             [
              0.6666666666666666,
              "#35b779"
             ],
             [
              0.7777777777777778,
              "#6ece58"
             ],
             [
              0.8888888888888888,
              "#b5de2b"
             ],
             [
              1,
              "#fde725"
             ]
            ],
            "type": "histogram2d"
           }
          ],
          "histogram2dcontour": [
           {
            "colorbar": {
             "outlinewidth": 1,
             "tickcolor": "rgb(36,36,36)",
             "ticks": "outside"
            },
            "colorscale": [
             [
              0,
              "#440154"
             ],
             [
              0.1111111111111111,
              "#482878"
             ],
             [
              0.2222222222222222,
              "#3e4989"
             ],
             [
              0.3333333333333333,
              "#31688e"
             ],
             [
              0.4444444444444444,
              "#26828e"
             ],
             [
              0.5555555555555556,
              "#1f9e89"
             ],
             [
              0.6666666666666666,
              "#35b779"
             ],
             [
              0.7777777777777778,
              "#6ece58"
             ],
             [
              0.8888888888888888,
              "#b5de2b"
             ],
             [
              1,
              "#fde725"
             ]
            ],
            "type": "histogram2dcontour"
           }
          ],
          "mesh3d": [
           {
            "colorbar": {
             "outlinewidth": 1,
             "tickcolor": "rgb(36,36,36)",
             "ticks": "outside"
            },
            "type": "mesh3d"
           }
          ],
          "parcoords": [
           {
            "line": {
             "colorbar": {
              "outlinewidth": 1,
              "tickcolor": "rgb(36,36,36)",
              "ticks": "outside"
             }
            },
            "type": "parcoords"
           }
          ],
          "pie": [
           {
            "automargin": true,
            "type": "pie"
           }
          ],
          "scatter": [
           {
            "fillpattern": {
             "fillmode": "overlay",
             "size": 10,
             "solidity": 0.2
            },
            "type": "scatter"
           }
          ],
          "scatter3d": [
           {
            "line": {
             "colorbar": {
              "outlinewidth": 1,
              "tickcolor": "rgb(36,36,36)",
              "ticks": "outside"
             }
            },
            "marker": {
             "colorbar": {
              "outlinewidth": 1,
              "tickcolor": "rgb(36,36,36)",
              "ticks": "outside"
             }
            },
            "type": "scatter3d"
           }
          ],
          "scattercarpet": [
           {
            "marker": {
             "colorbar": {
              "outlinewidth": 1,
              "tickcolor": "rgb(36,36,36)",
              "ticks": "outside"
             }
            },
            "type": "scattercarpet"
           }
          ],
          "scattergeo": [
           {
            "marker": {
             "colorbar": {
              "outlinewidth": 1,
              "tickcolor": "rgb(36,36,36)",
              "ticks": "outside"
             }
            },
            "type": "scattergeo"
           }
          ],
          "scattergl": [
           {
            "marker": {
             "colorbar": {
              "outlinewidth": 1,
              "tickcolor": "rgb(36,36,36)",
              "ticks": "outside"
             }
            },
            "type": "scattergl"
           }
          ],
          "scattermapbox": [
           {
            "marker": {
             "colorbar": {
              "outlinewidth": 1,
              "tickcolor": "rgb(36,36,36)",
              "ticks": "outside"
             }
            },
            "type": "scattermapbox"
           }
          ],
          "scatterpolar": [
           {
            "marker": {
             "colorbar": {
              "outlinewidth": 1,
              "tickcolor": "rgb(36,36,36)",
              "ticks": "outside"
             }
            },
            "type": "scatterpolar"
           }
          ],
          "scatterpolargl": [
           {
            "marker": {
             "colorbar": {
              "outlinewidth": 1,
              "tickcolor": "rgb(36,36,36)",
              "ticks": "outside"
             }
            },
            "type": "scatterpolargl"
           }
          ],
          "scatterternary": [
           {
            "marker": {
             "colorbar": {
              "outlinewidth": 1,
              "tickcolor": "rgb(36,36,36)",
              "ticks": "outside"
             }
            },
            "type": "scatterternary"
           }
          ],
          "surface": [
           {
            "colorbar": {
             "outlinewidth": 1,
             "tickcolor": "rgb(36,36,36)",
             "ticks": "outside"
            },
            "colorscale": [
             [
              0,
              "#440154"
             ],
             [
              0.1111111111111111,
              "#482878"
             ],
             [
              0.2222222222222222,
              "#3e4989"
             ],
             [
              0.3333333333333333,
              "#31688e"
             ],
             [
              0.4444444444444444,
              "#26828e"
             ],
             [
              0.5555555555555556,
              "#1f9e89"
             ],
             [
              0.6666666666666666,
              "#35b779"
             ],
             [
              0.7777777777777778,
              "#6ece58"
             ],
             [
              0.8888888888888888,
              "#b5de2b"
             ],
             [
              1,
              "#fde725"
             ]
            ],
            "type": "surface"
           }
          ],
          "table": [
           {
            "cells": {
             "fill": {
              "color": "rgb(237,237,237)"
             },
             "line": {
              "color": "white"
             }
            },
            "header": {
             "fill": {
              "color": "rgb(217,217,217)"
             },
             "line": {
              "color": "white"
             }
            },
            "type": "table"
           }
          ]
         },
         "layout": {
          "annotationdefaults": {
           "arrowhead": 0,
           "arrowwidth": 1
          },
          "autotypenumbers": "strict",
          "coloraxis": {
           "colorbar": {
            "outlinewidth": 1,
            "tickcolor": "rgb(36,36,36)",
            "ticks": "outside"
           }
          },
          "colorscale": {
           "diverging": [
            [
             0,
             "rgb(103,0,31)"
            ],
            [
             0.1,
             "rgb(178,24,43)"
            ],
            [
             0.2,
             "rgb(214,96,77)"
            ],
            [
             0.3,
             "rgb(244,165,130)"
            ],
            [
             0.4,
             "rgb(253,219,199)"
            ],
            [
             0.5,
             "rgb(247,247,247)"
            ],
            [
             0.6,
             "rgb(209,229,240)"
            ],
            [
             0.7,
             "rgb(146,197,222)"
            ],
            [
             0.8,
             "rgb(67,147,195)"
            ],
            [
             0.9,
             "rgb(33,102,172)"
            ],
            [
             1,
             "rgb(5,48,97)"
            ]
           ],
           "sequential": [
            [
             0,
             "#440154"
            ],
            [
             0.1111111111111111,
             "#482878"
            ],
            [
             0.2222222222222222,
             "#3e4989"
            ],
            [
             0.3333333333333333,
             "#31688e"
            ],
            [
             0.4444444444444444,
             "#26828e"
            ],
            [
             0.5555555555555556,
             "#1f9e89"
            ],
            [
             0.6666666666666666,
             "#35b779"
            ],
            [
             0.7777777777777778,
             "#6ece58"
            ],
            [
             0.8888888888888888,
             "#b5de2b"
            ],
            [
             1,
             "#fde725"
            ]
           ],
           "sequentialminus": [
            [
             0,
             "#440154"
            ],
            [
             0.1111111111111111,
             "#482878"
            ],
            [
             0.2222222222222222,
             "#3e4989"
            ],
            [
             0.3333333333333333,
             "#31688e"
            ],
            [
             0.4444444444444444,
             "#26828e"
            ],
            [
             0.5555555555555556,
             "#1f9e89"
            ],
            [
             0.6666666666666666,
             "#35b779"
            ],
            [
             0.7777777777777778,
             "#6ece58"
            ],
            [
             0.8888888888888888,
             "#b5de2b"
            ],
            [
             1,
             "#fde725"
            ]
           ]
          },
          "colorway": [
           "#1F77B4",
           "#FF7F0E",
           "#2CA02C",
           "#D62728",
           "#9467BD",
           "#8C564B",
           "#E377C2",
           "#7F7F7F",
           "#BCBD22",
           "#17BECF"
          ],
          "font": {
           "color": "rgb(36,36,36)"
          },
          "geo": {
           "bgcolor": "white",
           "lakecolor": "white",
           "landcolor": "white",
           "showlakes": true,
           "showland": true,
           "subunitcolor": "white"
          },
          "hoverlabel": {
           "align": "left"
          },
          "hovermode": "closest",
          "mapbox": {
           "style": "light"
          },
          "paper_bgcolor": "white",
          "plot_bgcolor": "white",
          "polar": {
           "angularaxis": {
            "gridcolor": "rgb(232,232,232)",
            "linecolor": "rgb(36,36,36)",
            "showgrid": false,
            "showline": true,
            "ticks": "outside"
           },
           "bgcolor": "white",
           "radialaxis": {
            "gridcolor": "rgb(232,232,232)",
            "linecolor": "rgb(36,36,36)",
            "showgrid": false,
            "showline": true,
            "ticks": "outside"
           }
          },
          "scene": {
           "xaxis": {
            "backgroundcolor": "white",
            "gridcolor": "rgb(232,232,232)",
            "gridwidth": 2,
            "linecolor": "rgb(36,36,36)",
            "showbackground": true,
            "showgrid": false,
            "showline": true,
            "ticks": "outside",
            "zeroline": false,
            "zerolinecolor": "rgb(36,36,36)"
           },
           "yaxis": {
            "backgroundcolor": "white",
            "gridcolor": "rgb(232,232,232)",
            "gridwidth": 2,
            "linecolor": "rgb(36,36,36)",
            "showbackground": true,
            "showgrid": false,
            "showline": true,
            "ticks": "outside",
            "zeroline": false,
            "zerolinecolor": "rgb(36,36,36)"
           },
           "zaxis": {
            "backgroundcolor": "white",
            "gridcolor": "rgb(232,232,232)",
            "gridwidth": 2,
            "linecolor": "rgb(36,36,36)",
            "showbackground": true,
            "showgrid": false,
            "showline": true,
            "ticks": "outside",
            "zeroline": false,
            "zerolinecolor": "rgb(36,36,36)"
           }
          },
          "shapedefaults": {
           "fillcolor": "black",
           "line": {
            "width": 0
           },
           "opacity": 0.3
          },
          "ternary": {
           "aaxis": {
            "gridcolor": "rgb(232,232,232)",
            "linecolor": "rgb(36,36,36)",
            "showgrid": false,
            "showline": true,
            "ticks": "outside"
           },
           "baxis": {
            "gridcolor": "rgb(232,232,232)",
            "linecolor": "rgb(36,36,36)",
            "showgrid": false,
            "showline": true,
            "ticks": "outside"
           },
           "bgcolor": "white",
           "caxis": {
            "gridcolor": "rgb(232,232,232)",
            "linecolor": "rgb(36,36,36)",
            "showgrid": false,
            "showline": true,
            "ticks": "outside"
           }
          },
          "title": {
           "x": 0.05
          },
          "xaxis": {
           "automargin": true,
           "gridcolor": "rgb(232,232,232)",
           "linecolor": "rgb(36,36,36)",
           "showgrid": false,
           "showline": true,
           "ticks": "outside",
           "title": {
            "standoff": 15
           },
           "zeroline": false,
           "zerolinecolor": "rgb(36,36,36)"
          },
          "yaxis": {
           "automargin": true,
           "gridcolor": "rgb(232,232,232)",
           "linecolor": "rgb(36,36,36)",
           "showgrid": false,
           "showline": true,
           "ticks": "outside",
           "title": {
            "standoff": 15
           },
           "zeroline": false,
           "zerolinecolor": "rgb(36,36,36)"
          }
         }
        },
        "title": {
         "text": ""
        },
        "xaxis": {
         "showgrid": false,
         "showline": false,
         "showticklabels": false,
         "ticks": "",
         "title": {
          "text": ""
         },
         "zeroline": false
        },
        "yaxis": {
         "showgrid": false,
         "showline": false,
         "showticklabels": false,
         "ticks": "",
         "title": {
          "text": ""
         },
         "zeroline": false
        }
       }
      }
     },
     "metadata": {},
     "output_type": "display_data"
    }
   ],
   "source": [
    "filter_func = l1_norm_trans\n",
    "cover = map.OneDimensionalCover(kind='uniform', n_intervals=30, overlap_frac=0.4)\n",
    "clusterer = cluster.DBSCAN()\n",
    "\n",
    "pipe = map.make_mapper_pipeline(\n",
    "    filter_func=filter_func,\n",
    "    cover=cover,\n",
    "    clusterer=clusterer,\n",
    "    verbose=False,\n",
    "    n_jobs=1,\n",
    ")\n",
    "\n",
    "fig = map.plot_static_mapper_graph(pipe, df_codes_SO_array)\n",
    "fig.show(config={'scrollZoom': True})\n",
    "\n",
    "fig = map.plot_static_mapper_graph(pipe, df_codes_BC_array)\n",
    "fig.show(config={'scrollZoom': True})\n",
    "\n",
    "fig = map.plot_static_mapper_graph(pipe, df_codes_BCP_array)\n",
    "fig.show(config={'scrollZoom': True})\n",
    "\n",
    "fig = map.plot_static_mapper_graph(pipe, df_codes_CC_array)\n",
    "fig.show(config={'scrollZoom': True})\n",
    "\n",
    "fig = map.plot_static_mapper_graph(pipe, df_codes_SJEDI_array)\n",
    "fig.show(config={'scrollZoom': True})"
   ]
  },
  {
   "cell_type": "code",
   "execution_count": 38,
   "metadata": {},
   "outputs": [
    {
     "data": {
      "text/plain": [
       "Text(0.5, 1.0, 'SJEDI l1')"
      ]
     },
     "execution_count": 38,
     "metadata": {},
     "output_type": "execute_result"
    },
    {
     "data": {
      "image/png": "[encoded data removed]",
      "text/plain": [
       "<Figure size 640x480 with 5 Axes>"
      ]
     },
     "metadata": {},
     "output_type": "display_data"
    }
   ],
   "source": [
    "#histograms of each lower dim chunk\n",
    "plt.tight_layout()\n",
    "plt.subplot(2,3,1)\n",
    "SO_l1 = l1_norm_trans.fit_transform(df_codes_SO_array)\n",
    "plt.hist(SO_l1[:,0], bins=20)\n",
    "plt.title('SO l1')\n",
    "\n",
    "plt.subplot(2,3,2)\n",
    "BC_l1 = l1_norm_trans.fit_transform(df_codes_BC_array)\n",
    "plt.hist(BC_l1[:,0], bins=20)\n",
    "plt.title('BC l1')\n",
    "\n",
    "plt.subplot(2,3,3)\n",
    "BCP_l1 = l1_norm_trans.fit_transform(df_codes_BCP_array)\n",
    "plt.hist(BCP_l1[:,0], bins=20)\n",
    "plt.title('BCP l1')\n",
    "\n",
    "plt.subplot(2,3,4)\n",
    "CC_l1 = l1_norm_trans.fit_transform(df_codes_CC_array)\n",
    "plt.hist(CC_l1[:,0], bins=20)\n",
    "plt.title('CC l1')\n",
    "\n",
    "plt.subplot(2,3,5)\n",
    "SJEDI_l1 = l1_norm_trans.fit_transform(df_codes_SJEDI_array)\n",
    "plt.hist(SJEDI_l1[:,0], bins=20)\n",
    "plt.title('SJEDI l1')"
   ]
  },
  {
   "cell_type": "code",
   "execution_count": 51,
   "metadata": {},
   "outputs": [
    {
     "data": {
      "text/plain": [
       "[<matplotlib.lines.Line2D at 0x7fb64ef4c9a0>]"
      ]
     },
     "execution_count": 51,
     "metadata": {},
     "output_type": "execute_result"
    },
    {
     "data": {
      "image/png": "[encoded data removed]",
      "text/plain": [
       "<Figure size 640x480 with 1 Axes>"
      ]
     },
     "metadata": {},
     "output_type": "display_data"
    }
   ],
   "source": [
    "mds = MDS(n_components=2)\n",
    "X = mds.fit_transform(df_codes_SO_array)\n",
    "plt.plot(X[:,0], X[:,1],'o')"
   ]
  },
  {
   "cell_type": "code",
   "execution_count": 84,
   "metadata": {},
   "outputs": [
    {
     "data": {
      "text/plain": [
       "14"
      ]
     },
     "execution_count": 84,
     "metadata": {},
     "output_type": "execute_result"
    }
   ],
   "source": [
    "import random\n",
    "import igraph as ig\n",
    "import networkx as nx\n",
    "G = g.to_networkx()\n",
    "meh = nx.connected_components(G)\n",
    "len(list(meh))"
   ]
  },
  {
   "cell_type": "code",
   "execution_count": null,
   "metadata": {},
   "outputs": [],
   "source": []
  }
 ],
 "metadata": {
  "kernelspec": {
   "display_name": "base",
   "language": "python",
   "name": "python3"
  },
  "language_info": {
   "codemirror_mode": {
    "name": "ipython",
    "version": 3
   },
   "file_extension": ".py",
   "mimetype": "text/x-python",
   "name": "python",
   "nbconvert_exporter": "python",
   "pygments_lexer": "ipython3",
   "version": "3.8.16"
  },
  "orig_nbformat": 4
 },
 "nbformat": 4,
 "nbformat_minor": 2
}
