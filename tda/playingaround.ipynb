{
 "cells": [
  {
   "cell_type": "code",
   "execution_count": 91,
   "metadata": {},
   "outputs": [],
   "source": [
    "import numpy as np\n",
    "import pandas as pd\n",
    "import matplotlib.pyplot as plt"
   ]
  },
  {
   "cell_type": "markdown",
   "metadata": {},
   "source": [
    "## Getting the data into the shape I need it to be"
   ]
  },
  {
   "cell_type": "code",
   "execution_count": 2,
   "metadata": {},
   "outputs": [
    {
     "data": {
      "text/html": [
       "<div>\n",
       "<style scoped>\n",
       "    .dataframe tbody tr th:only-of-type {\n",
       "        vertical-align: middle;\n",
       "    }\n",
       "\n",
       "    .dataframe tbody tr th {\n",
       "        vertical-align: top;\n",
       "    }\n",
       "\n",
       "    .dataframe thead th {\n",
       "        text-align: right;\n",
       "    }\n",
       "</style>\n",
       "<table border=\"1\" class=\"dataframe\">\n",
       "  <thead>\n",
       "    <tr style=\"text-align: right;\">\n",
       "      <th></th>\n",
       "      <th>Unnamed: 0</th>\n",
       "      <th>tweet_id</th>\n",
       "      <th>user_username</th>\n",
       "      <th>text</th>\n",
       "      <th>created_at</th>\n",
       "      <th>conversation_id</th>\n",
       "      <th>lang</th>\n",
       "      <th>possibly_sensitive</th>\n",
       "      <th>author_id</th>\n",
       "      <th>source</th>\n",
       "      <th>...</th>\n",
       "      <th>Building community</th>\n",
       "      <th>BC code</th>\n",
       "      <th>Broadening the counterpublic</th>\n",
       "      <th>BtC code</th>\n",
       "      <th>Creating change in math</th>\n",
       "      <th>CCM code</th>\n",
       "      <th>SJEDI</th>\n",
       "      <th>SJEDI code</th>\n",
       "      <th>CODER</th>\n",
       "      <th>all codes</th>\n",
       "    </tr>\n",
       "  </thead>\n",
       "  <tbody>\n",
       "    <tr>\n",
       "      <th>0</th>\n",
       "      <td>1</td>\n",
       "      <td>1217856519670288384</td>\n",
       "      <td>mathyadriana</td>\n",
       "      <td>Anyone feel like looking through the list of i...</td>\n",
       "      <td>2020-01-16T17:09:55.000Z</td>\n",
       "      <td>1217856519670288384</td>\n",
       "      <td>en</td>\n",
       "      <td>False</td>\n",
       "      <td>776450766710136832</td>\n",
       "      <td>Twitter for iPhone</td>\n",
       "      <td>...</td>\n",
       "      <td>1</td>\n",
       "      <td>talk support</td>\n",
       "      <td>0</td>\n",
       "      <td></td>\n",
       "      <td>0</td>\n",
       "      <td></td>\n",
       "      <td>1</td>\n",
       "      <td>bipoc; lgbtq; gender</td>\n",
       "      <td>DL</td>\n",
       "      <td>[bipoc, gender, lgbtq, talk support]</td>\n",
       "    </tr>\n",
       "    <tr>\n",
       "      <th>1</th>\n",
       "      <td>5</td>\n",
       "      <td>1217856052579971073</td>\n",
       "      <td>mathprofcarrie</td>\n",
       "      <td>\"If you think that your right to speech is mor...</td>\n",
       "      <td>2020-01-16T17:08:04.000Z</td>\n",
       "      <td>1217856052579971073</td>\n",
       "      <td>en</td>\n",
       "      <td>False</td>\n",
       "      <td>31611970</td>\n",
       "      <td>Twitter for Android</td>\n",
       "      <td>...</td>\n",
       "      <td>1</td>\n",
       "      <td>talk support</td>\n",
       "      <td>1</td>\n",
       "      <td>influencers</td>\n",
       "      <td>0</td>\n",
       "      <td></td>\n",
       "      <td>1</td>\n",
       "      <td>representation</td>\n",
       "      <td>RR</td>\n",
       "      <td>[amplification, influencers, representation, t...</td>\n",
       "    </tr>\n",
       "    <tr>\n",
       "      <th>2</th>\n",
       "      <td>8</td>\n",
       "      <td>1217855474479046656</td>\n",
       "      <td>pwr2dppl</td>\n",
       "      <td>I ran at elevation to make it to @xl772's #Dis...</td>\n",
       "      <td>2020-01-16T17:05:46.000Z</td>\n",
       "      <td>1217855474479046656</td>\n",
       "      <td>en</td>\n",
       "      <td>False</td>\n",
       "      <td>3308531970</td>\n",
       "      <td>Twitter for Android</td>\n",
       "      <td>...</td>\n",
       "      <td>1</td>\n",
       "      <td>talk support; thankful</td>\n",
       "      <td>0</td>\n",
       "      <td></td>\n",
       "      <td>0</td>\n",
       "      <td></td>\n",
       "      <td>0</td>\n",
       "      <td></td>\n",
       "      <td>JH</td>\n",
       "      <td>[amplification, talk support, thankful]</td>\n",
       "    </tr>\n",
       "    <tr>\n",
       "      <th>3</th>\n",
       "      <td>9</td>\n",
       "      <td>1217854597747875840</td>\n",
       "      <td>mathprofcarrie</td>\n",
       "      <td>@WanderingPoint @xl772 @pwr2dppl Here!!! #disr...</td>\n",
       "      <td>2020-01-16T17:02:17.000Z</td>\n",
       "      <td>1217850650438049797</td>\n",
       "      <td>en</td>\n",
       "      <td>False</td>\n",
       "      <td>31611970</td>\n",
       "      <td>Twitter for Android</td>\n",
       "      <td>...</td>\n",
       "      <td>1</td>\n",
       "      <td>talk support; emotional support</td>\n",
       "      <td>0</td>\n",
       "      <td></td>\n",
       "      <td>0</td>\n",
       "      <td></td>\n",
       "      <td>0</td>\n",
       "      <td></td>\n",
       "      <td>DL</td>\n",
       "      <td>[emotional support, talk support]</td>\n",
       "    </tr>\n",
       "    <tr>\n",
       "      <th>4</th>\n",
       "      <td>10</td>\n",
       "      <td>1217852288385024000</td>\n",
       "      <td>mathprofcarrie</td>\n",
       "      <td>@xl772 @pwr2dppl Where and what? - let's get t...</td>\n",
       "      <td>2020-01-16T16:53:06.000Z</td>\n",
       "      <td>1217850650438049797</td>\n",
       "      <td>en</td>\n",
       "      <td>False</td>\n",
       "      <td>31611970</td>\n",
       "      <td>Twitter for Android</td>\n",
       "      <td>...</td>\n",
       "      <td>1</td>\n",
       "      <td>BC impact; talk support</td>\n",
       "      <td>0</td>\n",
       "      <td></td>\n",
       "      <td>0</td>\n",
       "      <td></td>\n",
       "      <td>0</td>\n",
       "      <td></td>\n",
       "      <td>RR</td>\n",
       "      <td>[BC impact, talk support]</td>\n",
       "    </tr>\n",
       "    <tr>\n",
       "      <th>...</th>\n",
       "      <td>...</td>\n",
       "      <td>...</td>\n",
       "      <td>...</td>\n",
       "      <td>...</td>\n",
       "      <td>...</td>\n",
       "      <td>...</td>\n",
       "      <td>...</td>\n",
       "      <td>...</td>\n",
       "      <td>...</td>\n",
       "      <td>...</td>\n",
       "      <td>...</td>\n",
       "      <td>...</td>\n",
       "      <td>...</td>\n",
       "      <td>...</td>\n",
       "      <td>...</td>\n",
       "      <td>...</td>\n",
       "      <td>...</td>\n",
       "      <td>...</td>\n",
       "      <td>...</td>\n",
       "      <td>...</td>\n",
       "      <td>...</td>\n",
       "    </tr>\n",
       "    <tr>\n",
       "      <th>1124</th>\n",
       "      <td>1124</td>\n",
       "      <td>1218635813027602432</td>\n",
       "      <td>malagonmath</td>\n",
       "      <td>RT @mathprofcarrie: AMS-AWM invited session on...</td>\n",
       "      <td>2020-01-18T20:46:33.000Z</td>\n",
       "      <td>1218635813027602432</td>\n",
       "      <td>en</td>\n",
       "      <td>False</td>\n",
       "      <td>708028111540133888</td>\n",
       "      <td>Twitter for iPhone</td>\n",
       "      <td>...</td>\n",
       "      <td>1</td>\n",
       "      <td>talk support</td>\n",
       "      <td>0</td>\n",
       "      <td></td>\n",
       "      <td>1</td>\n",
       "      <td>humanize</td>\n",
       "      <td>1</td>\n",
       "      <td>gender</td>\n",
       "      <td></td>\n",
       "      <td>[gender, humanize, talk support]</td>\n",
       "    </tr>\n",
       "    <tr>\n",
       "      <th>1125</th>\n",
       "      <td>1125</td>\n",
       "      <td>1218635334251999232</td>\n",
       "      <td>noellebeckman</td>\n",
       "      <td>RT @mathprofcarrie: AMS-AWM invited session on...</td>\n",
       "      <td>2020-01-18T20:44:39.000Z</td>\n",
       "      <td>1218635334251999232</td>\n",
       "      <td>en</td>\n",
       "      <td>False</td>\n",
       "      <td>1660843818</td>\n",
       "      <td>Twitter for iPhone</td>\n",
       "      <td>...</td>\n",
       "      <td>1</td>\n",
       "      <td>talk support</td>\n",
       "      <td>0</td>\n",
       "      <td></td>\n",
       "      <td>1</td>\n",
       "      <td>humanize</td>\n",
       "      <td>1</td>\n",
       "      <td>gender</td>\n",
       "      <td></td>\n",
       "      <td>[gender, humanize, talk support]</td>\n",
       "    </tr>\n",
       "    <tr>\n",
       "      <th>1126</th>\n",
       "      <td>1127</td>\n",
       "      <td>1218632621162483713</td>\n",
       "      <td>MarissaKawehi</td>\n",
       "      <td>RT @matthematician: “[C]arry some of this weig...</td>\n",
       "      <td>2020-01-18T20:33:52.000Z</td>\n",
       "      <td>1218632621162483713</td>\n",
       "      <td>en</td>\n",
       "      <td>False</td>\n",
       "      <td>969876723922808832</td>\n",
       "      <td>Twitter for Android</td>\n",
       "      <td>...</td>\n",
       "      <td>1</td>\n",
       "      <td>talk support</td>\n",
       "      <td>0</td>\n",
       "      <td></td>\n",
       "      <td>1</td>\n",
       "      <td>allyship in math</td>\n",
       "      <td>1</td>\n",
       "      <td>gender</td>\n",
       "      <td></td>\n",
       "      <td>[allyship in math, amplification, gender, talk...</td>\n",
       "    </tr>\n",
       "    <tr>\n",
       "      <th>1127</th>\n",
       "      <td>1128</td>\n",
       "      <td>1218630899404640256</td>\n",
       "      <td>numberdance</td>\n",
       "      <td>RT @sbagley: Kelly MacArthur now speaking abou...</td>\n",
       "      <td>2020-01-18T20:27:02.000Z</td>\n",
       "      <td>1218630899404640256</td>\n",
       "      <td>en</td>\n",
       "      <td>False</td>\n",
       "      <td>961503306</td>\n",
       "      <td>Twitter Web App</td>\n",
       "      <td>...</td>\n",
       "      <td>1</td>\n",
       "      <td>talk support</td>\n",
       "      <td>1</td>\n",
       "      <td>hashtags; influencers</td>\n",
       "      <td>1</td>\n",
       "      <td>math practice; humanize</td>\n",
       "      <td>0</td>\n",
       "      <td></td>\n",
       "      <td></td>\n",
       "      <td>[amplification, hashtags, humanize, influencer...</td>\n",
       "    </tr>\n",
       "    <tr>\n",
       "      <th>1128</th>\n",
       "      <td>1129</td>\n",
       "      <td>1218630732324597760</td>\n",
       "      <td>pwr2dppl</td>\n",
       "      <td>RT @sbagley: The stereotype of a mathematician...</td>\n",
       "      <td>2020-01-18T20:26:22.000Z</td>\n",
       "      <td>1218630732324597760</td>\n",
       "      <td>en</td>\n",
       "      <td>False</td>\n",
       "      <td>3308531970</td>\n",
       "      <td>Twitter for Android</td>\n",
       "      <td>...</td>\n",
       "      <td>0</td>\n",
       "      <td></td>\n",
       "      <td>0</td>\n",
       "      <td></td>\n",
       "      <td>1</td>\n",
       "      <td>humanize</td>\n",
       "      <td>0</td>\n",
       "      <td></td>\n",
       "      <td></td>\n",
       "      <td>[amplification, humanize]</td>\n",
       "    </tr>\n",
       "  </tbody>\n",
       "</table>\n",
       "<p>1129 rows × 45 columns</p>\n",
       "</div>"
      ],
      "text/plain": [
       "      Unnamed: 0             tweet_id   user_username  \\\n",
       "0              1  1217856519670288384    mathyadriana   \n",
       "1              5  1217856052579971073  mathprofcarrie   \n",
       "2              8  1217855474479046656        pwr2dppl   \n",
       "3              9  1217854597747875840  mathprofcarrie   \n",
       "4             10  1217852288385024000  mathprofcarrie   \n",
       "...          ...                  ...             ...   \n",
       "1124        1124  1218635813027602432     malagonmath   \n",
       "1125        1125  1218635334251999232   noellebeckman   \n",
       "1126        1127  1218632621162483713   MarissaKawehi   \n",
       "1127        1128  1218630899404640256     numberdance   \n",
       "1128        1129  1218630732324597760        pwr2dppl   \n",
       "\n",
       "                                                   text  \\\n",
       "0     Anyone feel like looking through the list of i...   \n",
       "1     \"If you think that your right to speech is mor...   \n",
       "2     I ran at elevation to make it to @xl772's #Dis...   \n",
       "3     @WanderingPoint @xl772 @pwr2dppl Here!!! #disr...   \n",
       "4     @xl772 @pwr2dppl Where and what? - let's get t...   \n",
       "...                                                 ...   \n",
       "1124  RT @mathprofcarrie: AMS-AWM invited session on...   \n",
       "1125  RT @mathprofcarrie: AMS-AWM invited session on...   \n",
       "1126  RT @matthematician: “[C]arry some of this weig...   \n",
       "1127  RT @sbagley: Kelly MacArthur now speaking abou...   \n",
       "1128  RT @sbagley: The stereotype of a mathematician...   \n",
       "\n",
       "                    created_at      conversation_id lang  possibly_sensitive  \\\n",
       "0     2020-01-16T17:09:55.000Z  1217856519670288384   en               False   \n",
       "1     2020-01-16T17:08:04.000Z  1217856052579971073   en               False   \n",
       "2     2020-01-16T17:05:46.000Z  1217855474479046656   en               False   \n",
       "3     2020-01-16T17:02:17.000Z  1217850650438049797   en               False   \n",
       "4     2020-01-16T16:53:06.000Z  1217850650438049797   en               False   \n",
       "...                        ...                  ...  ...                 ...   \n",
       "1124  2020-01-18T20:46:33.000Z  1218635813027602432   en               False   \n",
       "1125  2020-01-18T20:44:39.000Z  1218635334251999232   en               False   \n",
       "1126  2020-01-18T20:33:52.000Z  1218632621162483713   en               False   \n",
       "1127  2020-01-18T20:27:02.000Z  1218630899404640256   en               False   \n",
       "1128  2020-01-18T20:26:22.000Z  1218630732324597760   en               False   \n",
       "\n",
       "               author_id               source  ... Building community  \\\n",
       "0     776450766710136832   Twitter for iPhone  ...                  1   \n",
       "1               31611970  Twitter for Android  ...                  1   \n",
       "2             3308531970  Twitter for Android  ...                  1   \n",
       "3               31611970  Twitter for Android  ...                  1   \n",
       "4               31611970  Twitter for Android  ...                  1   \n",
       "...                  ...                  ...  ...                ...   \n",
       "1124  708028111540133888   Twitter for iPhone  ...                  1   \n",
       "1125          1660843818   Twitter for iPhone  ...                  1   \n",
       "1126  969876723922808832  Twitter for Android  ...                  1   \n",
       "1127           961503306      Twitter Web App  ...                  1   \n",
       "1128          3308531970  Twitter for Android  ...                  0   \n",
       "\n",
       "                              BC code Broadening the counterpublic  \\\n",
       "0                        talk support                            0   \n",
       "1                        talk support                            1   \n",
       "2              talk support; thankful                            0   \n",
       "3     talk support; emotional support                            0   \n",
       "4             BC impact; talk support                            0   \n",
       "...                               ...                          ...   \n",
       "1124                     talk support                            0   \n",
       "1125                     talk support                            0   \n",
       "1126                     talk support                            0   \n",
       "1127                     talk support                            1   \n",
       "1128                                                             0   \n",
       "\n",
       "                   BtC code  Creating change in math                 CCM code  \\\n",
       "0                                                  0                            \n",
       "1               influencers                        0                            \n",
       "2                                                  0                            \n",
       "3                                                  0                            \n",
       "4                                                  0                            \n",
       "...                     ...                      ...                      ...   \n",
       "1124                                               1                 humanize   \n",
       "1125                                               1                 humanize   \n",
       "1126                                               1         allyship in math   \n",
       "1127  hashtags; influencers                        1  math practice; humanize   \n",
       "1128                                               1                 humanize   \n",
       "\n",
       "     SJEDI            SJEDI code CODER  \\\n",
       "0        1  bipoc; lgbtq; gender    DL   \n",
       "1        1        representation    RR   \n",
       "2        0                          JH   \n",
       "3        0                          DL   \n",
       "4        0                          RR   \n",
       "...    ...                   ...   ...   \n",
       "1124     1                gender         \n",
       "1125     1                gender         \n",
       "1126     1                gender         \n",
       "1127     0                               \n",
       "1128     0                               \n",
       "\n",
       "                                              all codes  \n",
       "0                  [bipoc, gender, lgbtq, talk support]  \n",
       "1     [amplification, influencers, representation, t...  \n",
       "2               [amplification, talk support, thankful]  \n",
       "3                     [emotional support, talk support]  \n",
       "4                             [BC impact, talk support]  \n",
       "...                                                 ...  \n",
       "1124                   [gender, humanize, talk support]  \n",
       "1125                   [gender, humanize, talk support]  \n",
       "1126  [allyship in math, amplification, gender, talk...  \n",
       "1127  [amplification, hashtags, humanize, influencer...  \n",
       "1128                          [amplification, humanize]  \n",
       "\n",
       "[1129 rows x 45 columns]"
      ]
     },
     "execution_count": 2,
     "metadata": {},
     "output_type": "execute_result"
    }
   ],
   "source": [
    "df = pd.read_csv(\"/Users/rachelroca/Documents/GitHub/DAAAAMNdjmm/data cleaning/Final Coding.csv\",keep_default_na=False)\n",
    "#The codes were in 5 different columns; lets aggregate them into a new column\n",
    "df[\"all codes\"] = df[[\"SO code\",\"BC code\",\"BtC code\",\"CCM code\",\"SJEDI code\"]].agg(';'.join,axis=1)\n",
    "#We separated them by ;, so convert to an array \n",
    "df[\"all codes\"] = df[\"all codes\"].apply(lambda s: s.split(';'))\n",
    "#Strip out leading/trailing spaces\n",
    "df[\"all codes\"] = df[\"all codes\"].apply(lambda s: [t.strip() for t in s if t])\n",
    "#Sort the arrays, so we can be confident the same things are not listed in two different ways\n",
    "df[\"all codes\"] = np.array(df[\"all codes\"].apply(sorted))\n",
    "df\n"
   ]
  },
  {
   "cell_type": "code",
   "execution_count": 3,
   "metadata": {},
   "outputs": [
    {
     "data": {
      "text/plain": [
       "array(['mathyadriana', 'mathprofcarrie', 'pwr2dppl', 'xl772',\n",
       "       'WanderingPoint', 'LoboWithACause', 'qsideinstitute', 'frontLahn',\n",
       "       'RachelleDeCoste', 'monsoon0', 'elizabethmunch', 'MarissaKawehi',\n",
       "       'fra_berni', 'HthrLynnJ', 'sbagley', 'thewordninja_bk',\n",
       "       'matthematician', 'DrMRLD', 'VictorPiercey1', 'kmkinnaird',\n",
       "       'jensilvermath', 'KJMDPhD', 'MattBoelkins', 'susan_dagostino',\n",
       "       'FedericoArdila', 'MBarany', 'DrBKirkpatrick', 'CKalinecCraig',\n",
       "       'BikeMath', 'evainfeld', 'belladoesmath', 'BenisConsumer',\n",
       "       'BresockCalculus', 'katebelin', 'joshlaison', 'GailHWebster',\n",
       "       'JohannaF_math', 'ClaudioJacobo', 'virtualcourtney', 'StatsSam',\n",
       "       'EWhitteck', 'siwelwerd', 'Shelby_M_Scott', 'blkmathmagic',\n",
       "       'darrenglass', 'SoledadVillar5', 'diazlopezmath', 'aksir',\n",
       "       'benjamindickman', 'DrHenryGarrett', 'mathcourtney', 'kneppkatt',\n",
       "       'swirlgirl31415', 'DrBrandyMath', 'AliciaPL25', 'GoodsiePhD',\n",
       "       'DamienSBS', 'dtkung', 'jacksonfulton2', 'saracharala',\n",
       "       'DrClaireJanelle', 'sleepymathgrl', 'SuzanneSindi', 'sister_stem',\n",
       "       'holom0rph', 'mathillustrated', 'achambertloir', 'blviray',\n",
       "       'BillOpenmind', 'Cayleygrapher', 'tritesprite', 'extremefriday',\n",
       "       'RG1gal', 'KristinePelatt', 'maryepilgrim', 'malagonmath',\n",
       "       'ef_math', 'matthewando', 'wizard2048', 'PhilChodrow', 'CeritDr',\n",
       "       'MiraWaddle', 'VRiveraQPhD', 'JoFerMedina', 'JointMath',\n",
       "       'shivfesta', 'TyLKelly', 'MerGreer', 'numberdance',\n",
       "       'vindas_melendez', 'mathmodeling', 'jajensen681', 'Enchilaudanum',\n",
       "       'algebrandis', 'DingleTeach', 'sunstoneUU', 'mmcdermo',\n",
       "       'QuantumP7', 'mathdr91', 'HeyHeresSteve', 'samit_dasgupta',\n",
       "       'QCohBeef', 'RyneVanK', 'katemath', 'DeirdreM10', 'jessalynalyn',\n",
       "       'rhondajohughes', 'Miles_Ott', 'AlbertTLunde', 'drspoulsen',\n",
       "       'MathmoClaire', 'logicians', 'joshuagrochow', 'twistor',\n",
       "       'AuroraBirdialis', 'arsuaga3', 'mathzorro', 'Doc_Kat',\n",
       "       'bat_scholar', 'ilaba', 'AnnClifton9', 'j_lanier',\n",
       "       'jacksonmorris_', 'twonth', 'davewripley', 'ProfNoodlearms',\n",
       "       'AbsurdistPedant', 'dagan_karp', 'ash_wee_k', 'RubenAMartinezA',\n",
       "       'bmgilland', 'BarbaraFantechi', 'Trianglemancsd', 'QED_nerds',\n",
       "       'drbehardisty', 'rmathematicus', 'JadeMasterMath', 'KamerynJW',\n",
       "       'sarah_bockting', 'ptwiddle', 'con_nect_ed', 'EdsiNetwork',\n",
       "       'NalinPithwa', 'ctheobarker', 'CardColm', 'NeedhiBhalla',\n",
       "       'sandi_clement', 'howe', 'SherlockpHolmes', 'eterEphemeral',\n",
       "       'ryanprior', 'ssnewbery', 'roger_mansuy', 'aboufade', 'R2D2mah',\n",
       "       'PatternAvoider', 'GuldenKarakok', 'GizemKaraali_', 'NewBayes',\n",
       "       'RicciFlat', 'ArcheyDawn', 'timhsuSF', 'mathematigal',\n",
       "       'JeffGraham15', 'ecology_chris', 'Vaguery', 'susmcgowan',\n",
       "       'ChengSoonOng', 'Acertaintom', 'LauraVHawkins', 'MathTeacherJH',\n",
       "       'AlexGalarce', 'Category_Fury', 'KristinLauter', 'anitochdz',\n",
       "       'XCatepillan', 'evelynjlamb', 'uvmmathstats', 'drjamesalvarez',\n",
       "       'AlexPHoover', 'vianey_lb', 'valeriadepaiva', 'Cal_Q_L8',\n",
       "       'anna_c_nelson', 'weinburd', 'AbelOtuya', 'Moni_deni',\n",
       "       'HaydeeLindo', 'gleuschk', 'kellyyyruth', 'MathAndCobb',\n",
       "       'declan_hoare', 'WolverKeith', 'eyescientific', 'libbyk_',\n",
       "       'SineOutlook', 'rdomagalski', 'quaternion_j', 'EmilyTWinn13',\n",
       "       'notnotneil', 'FidgeyB', 'BmcChem', 'rich_homie_kuan',\n",
       "       'vanessainstem', 'RomanMathquez', 'EllisMathEd', 'trans_versality',\n",
       "       'redneurons', 'bearboyf', 'kim_yoak', 'GaryAdolphson', 'USpeaks',\n",
       "       'abbaskins', '41mikes', 'vacuou5ly_tru3', 'victorerikray',\n",
       "       'York_CDM', 'priyam886', 'nchipps', 'FolaAgusto', 'paultpearson',\n",
       "       'MaraStone2016', 'jackrsturm', 'morvjn', 'wokewahlberg',\n",
       "       'MathDeptUTK', 'jrlookingbill', 'annakmil', 'OSUSocStEd',\n",
       "       'eringriffin003', 'xanderfaber', 'astrojipjawej', 'RissaChem',\n",
       "       'karin_leiderman', 'Thalesdisciple', 'mrweathers', 'Shugars',\n",
       "       'kay314159', 'mahrudsay', 'RobEbymathdude', 'paaiiigeee',\n",
       "       'mathhombre', 'rsachsgmu', 'nwrmbing', '_pjames_', 'NanehApkarian',\n",
       "       'MrFink314', 'timchartier', 'mostnerdy', 'G2Campbell',\n",
       "       'awmadvance', 'emilyriehl', 'mathemactivist', 'AlBell42017',\n",
       "       'ComplexWales', 'mZargham', 'matienda', '1Biotensegrity',\n",
       "       'dana_neidinger', 'DrErikaBullock', 'PoonehSabouri', 'karikokka',\n",
       "       'MsFnstlua', 'ResearchWrigley', 'Zoe_MM', 'MrLeiss',\n",
       "       'JookieTookie', 'robinelgenubi', 'NepantlaTC', 'geonz',\n",
       "       'jen_loescher', 'SJMathematics', 'askmrsmartinez', 'annarden',\n",
       "       'mnemognose', 'teachnext_tmb', 'ThembaletuMbang', 'ESMathTeacher',\n",
       "       'thebasepoint', 'Audrey_Mendivil', 'heidifessenden', 'ilana_horn',\n",
       "       'LisaSkultety', 'topologybee', 'JustJules2', 'dropoutnation',\n",
       "       'ChristianJaeh', 'mariss_spear7', 'Atabey_Kaygun',\n",
       "       'hannahfenster93', 'LogPhilosophica', 'ipnosimmia',\n",
       "       'Mathy_Jessica', 'MaggitaCampos', 'teehee_sarah', 'mathvsoldage',\n",
       "       'MaliciousNoise', 'AWMmath', 'DLeslieLancs', 'Marki_MD',\n",
       "       'thecaligarmo', 'tealismaking', 'ccshan', 'Methemedantics',\n",
       "       'jennalaib', '_pmkr', 'JoannaWares', 'fraarici', 'CompStatsGeom',\n",
       "       'loumatthewslive', 'BarbaraJaneGunn', 'mathyawp', 'AJ72826261',\n",
       "       'jasonemiller', 'sajinkoroth', 'JessieLenarz', 'JasonWilliamsNY',\n",
       "       'suburbanlion', 'ONUMathStat', 'BrandauerJ', 'daveinstpaul',\n",
       "       'cjp_still', 'topolojack', 'superyarn', 'dbdoughe', 'cordesm',\n",
       "       'f_futamura', 'noellebeckman'], dtype=object)"
      ]
     },
     "execution_count": 3,
     "metadata": {},
     "output_type": "execute_result"
    }
   ],
   "source": [
    "tweeters = df['user_username'].unique()\n",
    "tweeters"
   ]
  },
  {
   "cell_type": "code",
   "execution_count": 4,
   "metadata": {},
   "outputs": [
    {
     "data": {
      "text/plain": [
       "['BC impact',\n",
       " 'CC impact',\n",
       " 'SJEDI impact',\n",
       " 'SO impact',\n",
       " 'activation',\n",
       " 'advocacy',\n",
       " 'allyship in math',\n",
       " 'amplification',\n",
       " 'belonging',\n",
       " 'beyond',\n",
       " 'bipoc',\n",
       " 'celebration',\n",
       " 'conversation',\n",
       " 'current events',\n",
       " 'disrupteverything',\n",
       " 'economic',\n",
       " 'emotional support',\n",
       " 'futures',\n",
       " 'gender',\n",
       " 'hashtags',\n",
       " 'humanize',\n",
       " 'indigenous',\n",
       " 'influencers',\n",
       " 'jmm experience',\n",
       " 'learning',\n",
       " 'lgbtq',\n",
       " 'math experience',\n",
       " 'math practice',\n",
       " 'power',\n",
       " 'representation',\n",
       " 'strategic planning',\n",
       " 'talk support',\n",
       " 'thankful',\n",
       " 'troll',\n",
       " 'virtual participation']"
      ]
     },
     "execution_count": 4,
     "metadata": {},
     "output_type": "execute_result"
    }
   ],
   "source": [
    "codes = ['advocacy', 'amplification', 'emotional support', 'gender', 'indigenous', 'jmm experience', 'representation', 'bipoc', 'hashtags', 'influencers', 'power', 'talk support', 'humanize', 'math practice', 'current events', 'lgbtq', 'strategic planning', 'allyship in math', 'math experience', 'conversation', 'thankful', 'BC impact', 'disrupteverything', 'SJEDI impact', 'SO impact', 'belonging', 'learning', 'troll', 'CC impact', 'virtual participation', 'activation', 'futures', 'economic', 'beyond', 'celebration']\n",
    "codes.sort()\n",
    "codes\n"
   ]
  },
  {
   "cell_type": "code",
   "execution_count": 5,
   "metadata": {},
   "outputs": [
    {
     "data": {
      "text/html": [
       "<div>\n",
       "<style scoped>\n",
       "    .dataframe tbody tr th:only-of-type {\n",
       "        vertical-align: middle;\n",
       "    }\n",
       "\n",
       "    .dataframe tbody tr th {\n",
       "        vertical-align: top;\n",
       "    }\n",
       "\n",
       "    .dataframe thead th {\n",
       "        text-align: right;\n",
       "    }\n",
       "</style>\n",
       "<table border=\"1\" class=\"dataframe\">\n",
       "  <thead>\n",
       "    <tr style=\"text-align: right;\">\n",
       "      <th></th>\n",
       "      <th>BC impact</th>\n",
       "      <th>CC impact</th>\n",
       "      <th>SJEDI impact</th>\n",
       "      <th>SO impact</th>\n",
       "      <th>activation</th>\n",
       "      <th>advocacy</th>\n",
       "      <th>allyship in math</th>\n",
       "      <th>amplification</th>\n",
       "      <th>belonging</th>\n",
       "      <th>beyond</th>\n",
       "      <th>...</th>\n",
       "      <th>lgbtq</th>\n",
       "      <th>math experience</th>\n",
       "      <th>math practice</th>\n",
       "      <th>power</th>\n",
       "      <th>representation</th>\n",
       "      <th>strategic planning</th>\n",
       "      <th>talk support</th>\n",
       "      <th>thankful</th>\n",
       "      <th>troll</th>\n",
       "      <th>virtual participation</th>\n",
       "    </tr>\n",
       "  </thead>\n",
       "  <tbody>\n",
       "    <tr>\n",
       "      <th>mathyadriana</th>\n",
       "      <td>1</td>\n",
       "      <td>0</td>\n",
       "      <td>0</td>\n",
       "      <td>0</td>\n",
       "      <td>0</td>\n",
       "      <td>1</td>\n",
       "      <td>0</td>\n",
       "      <td>6</td>\n",
       "      <td>0</td>\n",
       "      <td>0</td>\n",
       "      <td>...</td>\n",
       "      <td>1</td>\n",
       "      <td>0</td>\n",
       "      <td>2</td>\n",
       "      <td>1</td>\n",
       "      <td>5</td>\n",
       "      <td>2</td>\n",
       "      <td>6</td>\n",
       "      <td>0</td>\n",
       "      <td>0</td>\n",
       "      <td>0</td>\n",
       "    </tr>\n",
       "    <tr>\n",
       "      <th>mathprofcarrie</th>\n",
       "      <td>15</td>\n",
       "      <td>2</td>\n",
       "      <td>0</td>\n",
       "      <td>3</td>\n",
       "      <td>1</td>\n",
       "      <td>7</td>\n",
       "      <td>5</td>\n",
       "      <td>69</td>\n",
       "      <td>4</td>\n",
       "      <td>0</td>\n",
       "      <td>...</td>\n",
       "      <td>4</td>\n",
       "      <td>2</td>\n",
       "      <td>9</td>\n",
       "      <td>16</td>\n",
       "      <td>25</td>\n",
       "      <td>17</td>\n",
       "      <td>59</td>\n",
       "      <td>12</td>\n",
       "      <td>0</td>\n",
       "      <td>1</td>\n",
       "    </tr>\n",
       "    <tr>\n",
       "      <th>pwr2dppl</th>\n",
       "      <td>15</td>\n",
       "      <td>2</td>\n",
       "      <td>1</td>\n",
       "      <td>6</td>\n",
       "      <td>1</td>\n",
       "      <td>8</td>\n",
       "      <td>1</td>\n",
       "      <td>51</td>\n",
       "      <td>5</td>\n",
       "      <td>0</td>\n",
       "      <td>...</td>\n",
       "      <td>7</td>\n",
       "      <td>2</td>\n",
       "      <td>11</td>\n",
       "      <td>15</td>\n",
       "      <td>20</td>\n",
       "      <td>15</td>\n",
       "      <td>42</td>\n",
       "      <td>9</td>\n",
       "      <td>0</td>\n",
       "      <td>0</td>\n",
       "    </tr>\n",
       "    <tr>\n",
       "      <th>xl772</th>\n",
       "      <td>1</td>\n",
       "      <td>0</td>\n",
       "      <td>0</td>\n",
       "      <td>1</td>\n",
       "      <td>0</td>\n",
       "      <td>2</td>\n",
       "      <td>1</td>\n",
       "      <td>6</td>\n",
       "      <td>0</td>\n",
       "      <td>0</td>\n",
       "      <td>...</td>\n",
       "      <td>0</td>\n",
       "      <td>0</td>\n",
       "      <td>0</td>\n",
       "      <td>2</td>\n",
       "      <td>6</td>\n",
       "      <td>3</td>\n",
       "      <td>4</td>\n",
       "      <td>1</td>\n",
       "      <td>0</td>\n",
       "      <td>0</td>\n",
       "    </tr>\n",
       "    <tr>\n",
       "      <th>WanderingPoint</th>\n",
       "      <td>3</td>\n",
       "      <td>1</td>\n",
       "      <td>0</td>\n",
       "      <td>2</td>\n",
       "      <td>0</td>\n",
       "      <td>1</td>\n",
       "      <td>1</td>\n",
       "      <td>11</td>\n",
       "      <td>0</td>\n",
       "      <td>0</td>\n",
       "      <td>...</td>\n",
       "      <td>0</td>\n",
       "      <td>0</td>\n",
       "      <td>1</td>\n",
       "      <td>3</td>\n",
       "      <td>6</td>\n",
       "      <td>1</td>\n",
       "      <td>10</td>\n",
       "      <td>0</td>\n",
       "      <td>0</td>\n",
       "      <td>0</td>\n",
       "    </tr>\n",
       "    <tr>\n",
       "      <th>...</th>\n",
       "      <td>...</td>\n",
       "      <td>...</td>\n",
       "      <td>...</td>\n",
       "      <td>...</td>\n",
       "      <td>...</td>\n",
       "      <td>...</td>\n",
       "      <td>...</td>\n",
       "      <td>...</td>\n",
       "      <td>...</td>\n",
       "      <td>...</td>\n",
       "      <td>...</td>\n",
       "      <td>...</td>\n",
       "      <td>...</td>\n",
       "      <td>...</td>\n",
       "      <td>...</td>\n",
       "      <td>...</td>\n",
       "      <td>...</td>\n",
       "      <td>...</td>\n",
       "      <td>...</td>\n",
       "      <td>...</td>\n",
       "      <td>...</td>\n",
       "    </tr>\n",
       "    <tr>\n",
       "      <th>superyarn</th>\n",
       "      <td>0</td>\n",
       "      <td>0</td>\n",
       "      <td>0</td>\n",
       "      <td>0</td>\n",
       "      <td>0</td>\n",
       "      <td>1</td>\n",
       "      <td>0</td>\n",
       "      <td>1</td>\n",
       "      <td>0</td>\n",
       "      <td>0</td>\n",
       "      <td>...</td>\n",
       "      <td>0</td>\n",
       "      <td>0</td>\n",
       "      <td>0</td>\n",
       "      <td>0</td>\n",
       "      <td>1</td>\n",
       "      <td>0</td>\n",
       "      <td>0</td>\n",
       "      <td>0</td>\n",
       "      <td>0</td>\n",
       "      <td>0</td>\n",
       "    </tr>\n",
       "    <tr>\n",
       "      <th>dbdoughe</th>\n",
       "      <td>0</td>\n",
       "      <td>0</td>\n",
       "      <td>0</td>\n",
       "      <td>0</td>\n",
       "      <td>0</td>\n",
       "      <td>1</td>\n",
       "      <td>0</td>\n",
       "      <td>1</td>\n",
       "      <td>0</td>\n",
       "      <td>0</td>\n",
       "      <td>...</td>\n",
       "      <td>0</td>\n",
       "      <td>0</td>\n",
       "      <td>0</td>\n",
       "      <td>0</td>\n",
       "      <td>1</td>\n",
       "      <td>0</td>\n",
       "      <td>0</td>\n",
       "      <td>0</td>\n",
       "      <td>0</td>\n",
       "      <td>0</td>\n",
       "    </tr>\n",
       "    <tr>\n",
       "      <th>cordesm</th>\n",
       "      <td>0</td>\n",
       "      <td>0</td>\n",
       "      <td>0</td>\n",
       "      <td>0</td>\n",
       "      <td>0</td>\n",
       "      <td>1</td>\n",
       "      <td>0</td>\n",
       "      <td>1</td>\n",
       "      <td>0</td>\n",
       "      <td>0</td>\n",
       "      <td>...</td>\n",
       "      <td>0</td>\n",
       "      <td>0</td>\n",
       "      <td>0</td>\n",
       "      <td>0</td>\n",
       "      <td>1</td>\n",
       "      <td>0</td>\n",
       "      <td>0</td>\n",
       "      <td>0</td>\n",
       "      <td>0</td>\n",
       "      <td>0</td>\n",
       "    </tr>\n",
       "    <tr>\n",
       "      <th>f_futamura</th>\n",
       "      <td>0</td>\n",
       "      <td>0</td>\n",
       "      <td>0</td>\n",
       "      <td>0</td>\n",
       "      <td>0</td>\n",
       "      <td>1</td>\n",
       "      <td>0</td>\n",
       "      <td>1</td>\n",
       "      <td>0</td>\n",
       "      <td>0</td>\n",
       "      <td>...</td>\n",
       "      <td>0</td>\n",
       "      <td>0</td>\n",
       "      <td>0</td>\n",
       "      <td>0</td>\n",
       "      <td>1</td>\n",
       "      <td>0</td>\n",
       "      <td>0</td>\n",
       "      <td>0</td>\n",
       "      <td>0</td>\n",
       "      <td>0</td>\n",
       "    </tr>\n",
       "    <tr>\n",
       "      <th>noellebeckman</th>\n",
       "      <td>0</td>\n",
       "      <td>0</td>\n",
       "      <td>0</td>\n",
       "      <td>0</td>\n",
       "      <td>0</td>\n",
       "      <td>0</td>\n",
       "      <td>0</td>\n",
       "      <td>0</td>\n",
       "      <td>0</td>\n",
       "      <td>0</td>\n",
       "      <td>...</td>\n",
       "      <td>0</td>\n",
       "      <td>0</td>\n",
       "      <td>0</td>\n",
       "      <td>0</td>\n",
       "      <td>0</td>\n",
       "      <td>0</td>\n",
       "      <td>1</td>\n",
       "      <td>0</td>\n",
       "      <td>0</td>\n",
       "      <td>0</td>\n",
       "    </tr>\n",
       "  </tbody>\n",
       "</table>\n",
       "<p>328 rows × 35 columns</p>\n",
       "</div>"
      ],
      "text/plain": [
       "               BC impact CC impact SJEDI impact SO impact activation advocacy  \\\n",
       "mathyadriana           1         0            0         0          0        1   \n",
       "mathprofcarrie        15         2            0         3          1        7   \n",
       "pwr2dppl              15         2            1         6          1        8   \n",
       "xl772                  1         0            0         1          0        2   \n",
       "WanderingPoint         3         1            0         2          0        1   \n",
       "...                  ...       ...          ...       ...        ...      ...   \n",
       "superyarn              0         0            0         0          0        1   \n",
       "dbdoughe               0         0            0         0          0        1   \n",
       "cordesm                0         0            0         0          0        1   \n",
       "f_futamura             0         0            0         0          0        1   \n",
       "noellebeckman          0         0            0         0          0        0   \n",
       "\n",
       "               allyship in math amplification belonging beyond  ... lgbtq  \\\n",
       "mathyadriana                  0             6         0      0  ...     1   \n",
       "mathprofcarrie                5            69         4      0  ...     4   \n",
       "pwr2dppl                      1            51         5      0  ...     7   \n",
       "xl772                         1             6         0      0  ...     0   \n",
       "WanderingPoint                1            11         0      0  ...     0   \n",
       "...                         ...           ...       ...    ...  ...   ...   \n",
       "superyarn                     0             1         0      0  ...     0   \n",
       "dbdoughe                      0             1         0      0  ...     0   \n",
       "cordesm                       0             1         0      0  ...     0   \n",
       "f_futamura                    0             1         0      0  ...     0   \n",
       "noellebeckman                 0             0         0      0  ...     0   \n",
       "\n",
       "               math experience math practice power representation  \\\n",
       "mathyadriana                 0             2     1              5   \n",
       "mathprofcarrie               2             9    16             25   \n",
       "pwr2dppl                     2            11    15             20   \n",
       "xl772                        0             0     2              6   \n",
       "WanderingPoint               0             1     3              6   \n",
       "...                        ...           ...   ...            ...   \n",
       "superyarn                    0             0     0              1   \n",
       "dbdoughe                     0             0     0              1   \n",
       "cordesm                      0             0     0              1   \n",
       "f_futamura                   0             0     0              1   \n",
       "noellebeckman                0             0     0              0   \n",
       "\n",
       "               strategic planning talk support thankful troll  \\\n",
       "mathyadriana                    2            6        0     0   \n",
       "mathprofcarrie                 17           59       12     0   \n",
       "pwr2dppl                       15           42        9     0   \n",
       "xl772                           3            4        1     0   \n",
       "WanderingPoint                  1           10        0     0   \n",
       "...                           ...          ...      ...   ...   \n",
       "superyarn                       0            0        0     0   \n",
       "dbdoughe                        0            0        0     0   \n",
       "cordesm                         0            0        0     0   \n",
       "f_futamura                      0            0        0     0   \n",
       "noellebeckman                   0            1        0     0   \n",
       "\n",
       "               virtual participation  \n",
       "mathyadriana                       0  \n",
       "mathprofcarrie                     1  \n",
       "pwr2dppl                           0  \n",
       "xl772                              0  \n",
       "WanderingPoint                     0  \n",
       "...                              ...  \n",
       "superyarn                          0  \n",
       "dbdoughe                           0  \n",
       "cordesm                            0  \n",
       "f_futamura                         0  \n",
       "noellebeckman                      0  \n",
       "\n",
       "[328 rows x 35 columns]"
      ]
     },
     "execution_count": 5,
     "metadata": {},
     "output_type": "execute_result"
    }
   ],
   "source": [
    "df_codes = pd.DataFrame(columns = codes)\n",
    "for i in range(len(tweeters)):\n",
    "    df_temp = df[df['user_username'] == tweeters[i]]\n",
    "    #sum the all codes column\n",
    "    codes_sum_temp = df_temp['all codes'].sum()\n",
    "    #make a dictionary of the codes and how many times they appear in codes_sum_temp\n",
    "    codes_dict_temp = {i:codes_sum_temp.count(i) for i in codes}\n",
    "    #make the dictionary a dataframe\n",
    "    codes_dict_temp_df = pd.DataFrame.from_dict([codes_dict_temp])\n",
    "    #add the dictionary to the dataframe\n",
    "    df_codes = pd.concat([df_codes,codes_dict_temp_df], ignore_index=True)\n",
    "#make the indices the tweeters' names\n",
    "df_codes.index = tweeters\n",
    "df_codes"
   ]
  },
  {
   "cell_type": "code",
   "execution_count": 38,
   "metadata": {},
   "outputs": [],
   "source": [
    "#make the dataframe into a numpy array\n",
    "df_codes_array = df_codes.to_numpy()\n",
    "df_codes_array\n",
    "df_codes_array=df_codes_array.astype('i')"
   ]
  },
  {
   "cell_type": "code",
   "execution_count": 33,
   "metadata": {},
   "outputs": [
    {
     "data": {
      "text/html": [
       "<div>\n",
       "<style scoped>\n",
       "    .dataframe tbody tr th:only-of-type {\n",
       "        vertical-align: middle;\n",
       "    }\n",
       "\n",
       "    .dataframe tbody tr th {\n",
       "        vertical-align: top;\n",
       "    }\n",
       "\n",
       "    .dataframe thead th {\n",
       "        text-align: right;\n",
       "    }\n",
       "</style>\n",
       "<table border=\"1\" class=\"dataframe\">\n",
       "  <thead>\n",
       "    <tr style=\"text-align: right;\">\n",
       "      <th></th>\n",
       "      <th>Unnamed: 0</th>\n",
       "      <th>tweet_id</th>\n",
       "      <th>user_username</th>\n",
       "      <th>text</th>\n",
       "      <th>created_at</th>\n",
       "      <th>conversation_id</th>\n",
       "      <th>lang</th>\n",
       "      <th>possibly_sensitive</th>\n",
       "      <th>author_id</th>\n",
       "      <th>source</th>\n",
       "      <th>...</th>\n",
       "      <th>Building community</th>\n",
       "      <th>BC code</th>\n",
       "      <th>Broadening the counterpublic</th>\n",
       "      <th>BtC code</th>\n",
       "      <th>Creating change in math</th>\n",
       "      <th>CCM code</th>\n",
       "      <th>SJEDI</th>\n",
       "      <th>SJEDI code</th>\n",
       "      <th>CODER</th>\n",
       "      <th>all codes</th>\n",
       "    </tr>\n",
       "  </thead>\n",
       "  <tbody>\n",
       "    <tr>\n",
       "      <th>6</th>\n",
       "      <td>18</td>\n",
       "      <td>1217833040866631681</td>\n",
       "      <td>WanderingPoint</td>\n",
       "      <td>Emerald Stacy starts with a land acknowledgmen...</td>\n",
       "      <td>2020-01-16T15:36:37.000Z</td>\n",
       "      <td>1217833040866631681</td>\n",
       "      <td>en</td>\n",
       "      <td>False</td>\n",
       "      <td>2932698781</td>\n",
       "      <td>Twitter for iPhone</td>\n",
       "      <td>...</td>\n",
       "      <td>1</td>\n",
       "      <td>talk support</td>\n",
       "      <td>1</td>\n",
       "      <td>hashtags</td>\n",
       "      <td>0</td>\n",
       "      <td></td>\n",
       "      <td>1</td>\n",
       "      <td>indigenous</td>\n",
       "      <td>DL</td>\n",
       "      <td>[amplification, hashtags, indigenous, talk sup...</td>\n",
       "    </tr>\n",
       "    <tr>\n",
       "      <th>49</th>\n",
       "      <td>163</td>\n",
       "      <td>1123202897280491520</td>\n",
       "      <td>WanderingPoint</td>\n",
       "      <td>#DisruptJMM https://t.co/5ucbcaEpD9</td>\n",
       "      <td>2019-04-30T12:30:13.000Z</td>\n",
       "      <td>1123202897280491520</td>\n",
       "      <td>und</td>\n",
       "      <td>False</td>\n",
       "      <td>2932698781</td>\n",
       "      <td>Twitter Web Client</td>\n",
       "      <td>...</td>\n",
       "      <td>0</td>\n",
       "      <td></td>\n",
       "      <td>1</td>\n",
       "      <td>influencers; hashtags</td>\n",
       "      <td>1</td>\n",
       "      <td>humanize</td>\n",
       "      <td>1</td>\n",
       "      <td>representation</td>\n",
       "      <td>RR</td>\n",
       "      <td>[amplification, hashtags, humanize, influencer...</td>\n",
       "    </tr>\n",
       "    <tr>\n",
       "      <th>86</th>\n",
       "      <td>319</td>\n",
       "      <td>1218539796592644097</td>\n",
       "      <td>WanderingPoint</td>\n",
       "      <td>Here it is. #DisruptJMM https://t.co/pIPCd6Nu9...</td>\n",
       "      <td>2020-01-18T14:25:01.000Z</td>\n",
       "      <td>1218539796592644097</td>\n",
       "      <td>en</td>\n",
       "      <td>False</td>\n",
       "      <td>2932698781</td>\n",
       "      <td>Twitter for iPhone</td>\n",
       "      <td>...</td>\n",
       "      <td>1</td>\n",
       "      <td>emotional support</td>\n",
       "      <td>0</td>\n",
       "      <td></td>\n",
       "      <td>1</td>\n",
       "      <td>jmm experience</td>\n",
       "      <td>1</td>\n",
       "      <td>gender; indigenous; advocacy; representation</td>\n",
       "      <td>JH</td>\n",
       "      <td>[advocacy, amplification, emotional support, g...</td>\n",
       "    </tr>\n",
       "    <tr>\n",
       "      <th>118</th>\n",
       "      <td>440</td>\n",
       "      <td>1218225126333796352</td>\n",
       "      <td>WanderingPoint</td>\n",
       "      <td>Patrick Ingram starts his talk at #JMM2020 wit...</td>\n",
       "      <td>2020-01-17T17:34:38.000Z</td>\n",
       "      <td>1218225126333796352</td>\n",
       "      <td>en</td>\n",
       "      <td>False</td>\n",
       "      <td>2932698781</td>\n",
       "      <td>Twitter for iPhone</td>\n",
       "      <td>...</td>\n",
       "      <td>1</td>\n",
       "      <td>talk support</td>\n",
       "      <td>0</td>\n",
       "      <td></td>\n",
       "      <td>1</td>\n",
       "      <td>allyship in math</td>\n",
       "      <td>1</td>\n",
       "      <td>indigenous</td>\n",
       "      <td>RR</td>\n",
       "      <td>[allyship in math, amplification, indigenous, ...</td>\n",
       "    </tr>\n",
       "    <tr>\n",
       "      <th>126</th>\n",
       "      <td>459</td>\n",
       "      <td>1218203432714211328</td>\n",
       "      <td>WanderingPoint</td>\n",
       "      <td>Nervous about my #DisruptJMM spiel. Will be wo...</td>\n",
       "      <td>2020-01-17T16:08:26.000Z</td>\n",
       "      <td>1218203432714211328</td>\n",
       "      <td>en</td>\n",
       "      <td>False</td>\n",
       "      <td>2932698781</td>\n",
       "      <td>Twitter for iPhone</td>\n",
       "      <td>...</td>\n",
       "      <td>1</td>\n",
       "      <td>emotional support; talk support</td>\n",
       "      <td>0</td>\n",
       "      <td></td>\n",
       "      <td>0</td>\n",
       "      <td></td>\n",
       "      <td>0</td>\n",
       "      <td></td>\n",
       "      <td>DL</td>\n",
       "      <td>[emotional support, talk support]</td>\n",
       "    </tr>\n",
       "    <tr>\n",
       "      <th>184</th>\n",
       "      <td>621</td>\n",
       "      <td>1217878475400515586</td>\n",
       "      <td>WanderingPoint</td>\n",
       "      <td>#JMM2020 #DisruptJMM \\nAdriana Salerno @mathya...</td>\n",
       "      <td>2020-01-16T18:37:10.000Z</td>\n",
       "      <td>1217878475400515586</td>\n",
       "      <td>en</td>\n",
       "      <td>False</td>\n",
       "      <td>2932698781</td>\n",
       "      <td>Twitter for iPhone</td>\n",
       "      <td>...</td>\n",
       "      <td>1</td>\n",
       "      <td>talk support</td>\n",
       "      <td>1</td>\n",
       "      <td>influencers; hashtags</td>\n",
       "      <td>1</td>\n",
       "      <td>jmm experience</td>\n",
       "      <td>1</td>\n",
       "      <td>representation</td>\n",
       "      <td>RR</td>\n",
       "      <td>[amplification, hashtags, influencers, jmm exp...</td>\n",
       "    </tr>\n",
       "    <tr>\n",
       "      <th>197</th>\n",
       "      <td>668</td>\n",
       "      <td>1347950031333187584</td>\n",
       "      <td>WanderingPoint</td>\n",
       "      <td>\"Every professional decision we make is an opp...</td>\n",
       "      <td>2021-01-09T16:55:05.000Z</td>\n",
       "      <td>1347950031333187584</td>\n",
       "      <td>en</td>\n",
       "      <td>False</td>\n",
       "      <td>2932698781</td>\n",
       "      <td>Twitter Web App</td>\n",
       "      <td>...</td>\n",
       "      <td>1</td>\n",
       "      <td>talk support</td>\n",
       "      <td>0</td>\n",
       "      <td></td>\n",
       "      <td>1</td>\n",
       "      <td>math practice</td>\n",
       "      <td>0</td>\n",
       "      <td></td>\n",
       "      <td>JH</td>\n",
       "      <td>[amplification, math practice, talk support]</td>\n",
       "    </tr>\n",
       "    <tr>\n",
       "      <th>242</th>\n",
       "      <td>845</td>\n",
       "      <td>1277340360365268999</td>\n",
       "      <td>WanderingPoint</td>\n",
       "      <td>@pwr2dppl @mathprofcarrie @fra_berni @Federico...</td>\n",
       "      <td>2020-06-28T20:37:28.000Z</td>\n",
       "      <td>1277156211704639489</td>\n",
       "      <td>en</td>\n",
       "      <td>False</td>\n",
       "      <td>2932698781</td>\n",
       "      <td>Twitter Web App</td>\n",
       "      <td>...</td>\n",
       "      <td>1</td>\n",
       "      <td>BC impact; conversation</td>\n",
       "      <td>1</td>\n",
       "      <td>hashtags</td>\n",
       "      <td>0</td>\n",
       "      <td></td>\n",
       "      <td>0</td>\n",
       "      <td></td>\n",
       "      <td>JH</td>\n",
       "      <td>[BC impact, SO impact, conversation, hashtags,...</td>\n",
       "    </tr>\n",
       "    <tr>\n",
       "      <th>264</th>\n",
       "      <td>907</td>\n",
       "      <td>1220547434075557888</td>\n",
       "      <td>WanderingPoint</td>\n",
       "      <td>@pwr2dppl We all got emailed a survey, and the...</td>\n",
       "      <td>2020-01-24T03:22:39.000Z</td>\n",
       "      <td>1220449555499704337</td>\n",
       "      <td>en</td>\n",
       "      <td>False</td>\n",
       "      <td>2932698781</td>\n",
       "      <td>Twitter Web App</td>\n",
       "      <td>...</td>\n",
       "      <td>1</td>\n",
       "      <td>conversation</td>\n",
       "      <td>0</td>\n",
       "      <td></td>\n",
       "      <td>1</td>\n",
       "      <td>CC impact</td>\n",
       "      <td>0</td>\n",
       "      <td></td>\n",
       "      <td>DL</td>\n",
       "      <td>[CC impact, conversation]</td>\n",
       "    </tr>\n",
       "    <tr>\n",
       "      <th>265</th>\n",
       "      <td>909</td>\n",
       "      <td>1220449555499704337</td>\n",
       "      <td>WanderingPoint</td>\n",
       "      <td>I hope everyone is doing the JMM Participant S...</td>\n",
       "      <td>2020-01-23T20:53:43.000Z</td>\n",
       "      <td>1220449555499704337</td>\n",
       "      <td>en</td>\n",
       "      <td>False</td>\n",
       "      <td>2932698781</td>\n",
       "      <td>Twitter for iPhone</td>\n",
       "      <td>...</td>\n",
       "      <td>1</td>\n",
       "      <td>BC impact</td>\n",
       "      <td>0</td>\n",
       "      <td></td>\n",
       "      <td>0</td>\n",
       "      <td></td>\n",
       "      <td>0</td>\n",
       "      <td></td>\n",
       "      <td>RR</td>\n",
       "      <td>[BC impact, SO impact]</td>\n",
       "    </tr>\n",
       "    <tr>\n",
       "      <th>301</th>\n",
       "      <td>4</td>\n",
       "      <td>1217856214811451393</td>\n",
       "      <td>WanderingPoint</td>\n",
       "      <td>RT @mathprofcarrie: \"If you think that your ri...</td>\n",
       "      <td>2020-01-16T17:08:42.000Z</td>\n",
       "      <td>1217856214811451393</td>\n",
       "      <td>en</td>\n",
       "      <td>False</td>\n",
       "      <td>2932698781</td>\n",
       "      <td>Twitter for iPhone</td>\n",
       "      <td>...</td>\n",
       "      <td>1</td>\n",
       "      <td>talk support</td>\n",
       "      <td>1</td>\n",
       "      <td>influencers</td>\n",
       "      <td>0</td>\n",
       "      <td></td>\n",
       "      <td>1</td>\n",
       "      <td>representation</td>\n",
       "      <td></td>\n",
       "      <td>[amplification, influencers, representation, t...</td>\n",
       "    </tr>\n",
       "    <tr>\n",
       "      <th>566</th>\n",
       "      <td>369</td>\n",
       "      <td>1218306384296464384</td>\n",
       "      <td>WanderingPoint</td>\n",
       "      <td>RT @siwelwerd: Some unsolicited advice for my ...</td>\n",
       "      <td>2020-01-17T22:57:31.000Z</td>\n",
       "      <td>1218306384296464384</td>\n",
       "      <td>en</td>\n",
       "      <td>False</td>\n",
       "      <td>2932698781</td>\n",
       "      <td>Twitter for iPhone</td>\n",
       "      <td>...</td>\n",
       "      <td>0</td>\n",
       "      <td></td>\n",
       "      <td>0</td>\n",
       "      <td></td>\n",
       "      <td>0</td>\n",
       "      <td></td>\n",
       "      <td>0</td>\n",
       "      <td></td>\n",
       "      <td></td>\n",
       "      <td>[amplification]</td>\n",
       "    </tr>\n",
       "    <tr>\n",
       "      <th>623</th>\n",
       "      <td>446</td>\n",
       "      <td>1218218677557964800</td>\n",
       "      <td>WanderingPoint</td>\n",
       "      <td>RT @sbagley: Aaron Wangberg asking an importan...</td>\n",
       "      <td>2020-01-17T17:09:00.000Z</td>\n",
       "      <td>1218218677557964800</td>\n",
       "      <td>en</td>\n",
       "      <td>False</td>\n",
       "      <td>2932698781</td>\n",
       "      <td>Twitter for iPhone</td>\n",
       "      <td>...</td>\n",
       "      <td>1</td>\n",
       "      <td>talk support</td>\n",
       "      <td>1</td>\n",
       "      <td>influencers</td>\n",
       "      <td>0</td>\n",
       "      <td></td>\n",
       "      <td>1</td>\n",
       "      <td>representation</td>\n",
       "      <td></td>\n",
       "      <td>[amplification, influencers, representation, t...</td>\n",
       "    </tr>\n",
       "    <tr>\n",
       "      <th>627</th>\n",
       "      <td>455</td>\n",
       "      <td>1218207946972286977</td>\n",
       "      <td>WanderingPoint</td>\n",
       "      <td>RT @sbagley: I'd just like to mention that, in...</td>\n",
       "      <td>2020-01-17T16:26:22.000Z</td>\n",
       "      <td>1218207946972286977</td>\n",
       "      <td>en</td>\n",
       "      <td>False</td>\n",
       "      <td>2932698781</td>\n",
       "      <td>Twitter for iPhone</td>\n",
       "      <td>...</td>\n",
       "      <td>0</td>\n",
       "      <td></td>\n",
       "      <td>1</td>\n",
       "      <td>hashtags</td>\n",
       "      <td>0</td>\n",
       "      <td></td>\n",
       "      <td>1</td>\n",
       "      <td>representation; power</td>\n",
       "      <td></td>\n",
       "      <td>[hashtags, power, representation]</td>\n",
       "    </tr>\n",
       "    <tr>\n",
       "      <th>638</th>\n",
       "      <td>469</td>\n",
       "      <td>1218195566338985987</td>\n",
       "      <td>WanderingPoint</td>\n",
       "      <td>RT @VictorPiercey1: #DisruptJMM from @kenandoe...</td>\n",
       "      <td>2020-01-17T15:37:10.000Z</td>\n",
       "      <td>1218195566338985987</td>\n",
       "      <td>en</td>\n",
       "      <td>False</td>\n",
       "      <td>2932698781</td>\n",
       "      <td>Twitter for iPhone</td>\n",
       "      <td>...</td>\n",
       "      <td>1</td>\n",
       "      <td>talk support</td>\n",
       "      <td>1</td>\n",
       "      <td>hashtags</td>\n",
       "      <td>0</td>\n",
       "      <td></td>\n",
       "      <td>1</td>\n",
       "      <td>indigenous; power</td>\n",
       "      <td></td>\n",
       "      <td>[amplification, hashtags, indigenous, power, t...</td>\n",
       "    </tr>\n",
       "    <tr>\n",
       "      <th>640</th>\n",
       "      <td>471</td>\n",
       "      <td>1218195145276956672</td>\n",
       "      <td>WanderingPoint</td>\n",
       "      <td>RT @sbagley: Hey so @kenandoesmath gave maybe ...</td>\n",
       "      <td>2020-01-17T15:35:30.000Z</td>\n",
       "      <td>1218195145276956672</td>\n",
       "      <td>en</td>\n",
       "      <td>False</td>\n",
       "      <td>2932698781</td>\n",
       "      <td>Twitter for iPhone</td>\n",
       "      <td>...</td>\n",
       "      <td>1</td>\n",
       "      <td>talk support</td>\n",
       "      <td>1</td>\n",
       "      <td>hashtags</td>\n",
       "      <td>0</td>\n",
       "      <td></td>\n",
       "      <td>0</td>\n",
       "      <td></td>\n",
       "      <td></td>\n",
       "      <td>[amplification, hashtags, talk support]</td>\n",
       "    </tr>\n",
       "    <tr>\n",
       "      <th>804</th>\n",
       "      <td>718</td>\n",
       "      <td>1347304808152236042</td>\n",
       "      <td>WanderingPoint</td>\n",
       "      <td>RT @MarissaKawehi: Just asking a fundamental m...</td>\n",
       "      <td>2021-01-07T22:11:12.000Z</td>\n",
       "      <td>1347304808152236042</td>\n",
       "      <td>en</td>\n",
       "      <td>False</td>\n",
       "      <td>2932698781</td>\n",
       "      <td>Twitter Web App</td>\n",
       "      <td>...</td>\n",
       "      <td>1</td>\n",
       "      <td>talk support</td>\n",
       "      <td>0</td>\n",
       "      <td></td>\n",
       "      <td>1</td>\n",
       "      <td>current events</td>\n",
       "      <td>1</td>\n",
       "      <td>bipoc; power</td>\n",
       "      <td></td>\n",
       "      <td>[bipoc, current events, power, talk support]</td>\n",
       "    </tr>\n",
       "    <tr>\n",
       "      <th>832</th>\n",
       "      <td>754</td>\n",
       "      <td>1347157140209881090</td>\n",
       "      <td>WanderingPoint</td>\n",
       "      <td>RT @pwr2dppl: Apparently @amermathsoc and @maa...</td>\n",
       "      <td>2021-01-07T12:24:25.000Z</td>\n",
       "      <td>1347157140209881090</td>\n",
       "      <td>en</td>\n",
       "      <td>False</td>\n",
       "      <td>2932698781</td>\n",
       "      <td>Twitter for iPhone</td>\n",
       "      <td>...</td>\n",
       "      <td>1</td>\n",
       "      <td>BC impact; emotional support</td>\n",
       "      <td>1</td>\n",
       "      <td>influencers; hashtags</td>\n",
       "      <td>1</td>\n",
       "      <td>current events</td>\n",
       "      <td>0</td>\n",
       "      <td></td>\n",
       "      <td></td>\n",
       "      <td>[BC impact, current events, emotional support,...</td>\n",
       "    </tr>\n",
       "  </tbody>\n",
       "</table>\n",
       "<p>18 rows × 45 columns</p>\n",
       "</div>"
      ],
      "text/plain": [
       "     Unnamed: 0             tweet_id   user_username  \\\n",
       "6            18  1217833040866631681  WanderingPoint   \n",
       "49          163  1123202897280491520  WanderingPoint   \n",
       "86          319  1218539796592644097  WanderingPoint   \n",
       "118         440  1218225126333796352  WanderingPoint   \n",
       "126         459  1218203432714211328  WanderingPoint   \n",
       "184         621  1217878475400515586  WanderingPoint   \n",
       "197         668  1347950031333187584  WanderingPoint   \n",
       "242         845  1277340360365268999  WanderingPoint   \n",
       "264         907  1220547434075557888  WanderingPoint   \n",
       "265         909  1220449555499704337  WanderingPoint   \n",
       "301           4  1217856214811451393  WanderingPoint   \n",
       "566         369  1218306384296464384  WanderingPoint   \n",
       "623         446  1218218677557964800  WanderingPoint   \n",
       "627         455  1218207946972286977  WanderingPoint   \n",
       "638         469  1218195566338985987  WanderingPoint   \n",
       "640         471  1218195145276956672  WanderingPoint   \n",
       "804         718  1347304808152236042  WanderingPoint   \n",
       "832         754  1347157140209881090  WanderingPoint   \n",
       "\n",
       "                                                  text  \\\n",
       "6    Emerald Stacy starts with a land acknowledgmen...   \n",
       "49                 #DisruptJMM https://t.co/5ucbcaEpD9   \n",
       "86   Here it is. #DisruptJMM https://t.co/pIPCd6Nu9...   \n",
       "118  Patrick Ingram starts his talk at #JMM2020 wit...   \n",
       "126  Nervous about my #DisruptJMM spiel. Will be wo...   \n",
       "184  #JMM2020 #DisruptJMM \\nAdriana Salerno @mathya...   \n",
       "197  \"Every professional decision we make is an opp...   \n",
       "242  @pwr2dppl @mathprofcarrie @fra_berni @Federico...   \n",
       "264  @pwr2dppl We all got emailed a survey, and the...   \n",
       "265  I hope everyone is doing the JMM Participant S...   \n",
       "301  RT @mathprofcarrie: \"If you think that your ri...   \n",
       "566  RT @siwelwerd: Some unsolicited advice for my ...   \n",
       "623  RT @sbagley: Aaron Wangberg asking an importan...   \n",
       "627  RT @sbagley: I'd just like to mention that, in...   \n",
       "638  RT @VictorPiercey1: #DisruptJMM from @kenandoe...   \n",
       "640  RT @sbagley: Hey so @kenandoesmath gave maybe ...   \n",
       "804  RT @MarissaKawehi: Just asking a fundamental m...   \n",
       "832  RT @pwr2dppl: Apparently @amermathsoc and @maa...   \n",
       "\n",
       "                   created_at      conversation_id lang  possibly_sensitive  \\\n",
       "6    2020-01-16T15:36:37.000Z  1217833040866631681   en               False   \n",
       "49   2019-04-30T12:30:13.000Z  1123202897280491520  und               False   \n",
       "86   2020-01-18T14:25:01.000Z  1218539796592644097   en               False   \n",
       "118  2020-01-17T17:34:38.000Z  1218225126333796352   en               False   \n",
       "126  2020-01-17T16:08:26.000Z  1218203432714211328   en               False   \n",
       "184  2020-01-16T18:37:10.000Z  1217878475400515586   en               False   \n",
       "197  2021-01-09T16:55:05.000Z  1347950031333187584   en               False   \n",
       "242  2020-06-28T20:37:28.000Z  1277156211704639489   en               False   \n",
       "264  2020-01-24T03:22:39.000Z  1220449555499704337   en               False   \n",
       "265  2020-01-23T20:53:43.000Z  1220449555499704337   en               False   \n",
       "301  2020-01-16T17:08:42.000Z  1217856214811451393   en               False   \n",
       "566  2020-01-17T22:57:31.000Z  1218306384296464384   en               False   \n",
       "623  2020-01-17T17:09:00.000Z  1218218677557964800   en               False   \n",
       "627  2020-01-17T16:26:22.000Z  1218207946972286977   en               False   \n",
       "638  2020-01-17T15:37:10.000Z  1218195566338985987   en               False   \n",
       "640  2020-01-17T15:35:30.000Z  1218195145276956672   en               False   \n",
       "804  2021-01-07T22:11:12.000Z  1347304808152236042   en               False   \n",
       "832  2021-01-07T12:24:25.000Z  1347157140209881090   en               False   \n",
       "\n",
       "      author_id              source  ... Building community  \\\n",
       "6    2932698781  Twitter for iPhone  ...                  1   \n",
       "49   2932698781  Twitter Web Client  ...                  0   \n",
       "86   2932698781  Twitter for iPhone  ...                  1   \n",
       "118  2932698781  Twitter for iPhone  ...                  1   \n",
       "126  2932698781  Twitter for iPhone  ...                  1   \n",
       "184  2932698781  Twitter for iPhone  ...                  1   \n",
       "197  2932698781     Twitter Web App  ...                  1   \n",
       "242  2932698781     Twitter Web App  ...                  1   \n",
       "264  2932698781     Twitter Web App  ...                  1   \n",
       "265  2932698781  Twitter for iPhone  ...                  1   \n",
       "301  2932698781  Twitter for iPhone  ...                  1   \n",
       "566  2932698781  Twitter for iPhone  ...                  0   \n",
       "623  2932698781  Twitter for iPhone  ...                  1   \n",
       "627  2932698781  Twitter for iPhone  ...                  0   \n",
       "638  2932698781  Twitter for iPhone  ...                  1   \n",
       "640  2932698781  Twitter for iPhone  ...                  1   \n",
       "804  2932698781     Twitter Web App  ...                  1   \n",
       "832  2932698781  Twitter for iPhone  ...                  1   \n",
       "\n",
       "                             BC code Broadening the counterpublic  \\\n",
       "6                       talk support                            1   \n",
       "49                                                              1   \n",
       "86                 emotional support                            0   \n",
       "118                     talk support                            0   \n",
       "126  emotional support; talk support                            0   \n",
       "184                     talk support                            1   \n",
       "197                     talk support                            0   \n",
       "242          BC impact; conversation                            1   \n",
       "264                     conversation                            0   \n",
       "265                        BC impact                            0   \n",
       "301                     talk support                            1   \n",
       "566                                                             0   \n",
       "623                     talk support                            1   \n",
       "627                                                             1   \n",
       "638                     talk support                            1   \n",
       "640                     talk support                            1   \n",
       "804                     talk support                            0   \n",
       "832     BC impact; emotional support                            1   \n",
       "\n",
       "                  BtC code  Creating change in math          CCM code SJEDI  \\\n",
       "6                 hashtags                        0                       1   \n",
       "49   influencers; hashtags                        1          humanize     1   \n",
       "86                                                1    jmm experience     1   \n",
       "118                                               1  allyship in math     1   \n",
       "126                                               0                       0   \n",
       "184  influencers; hashtags                        1    jmm experience     1   \n",
       "197                                               1     math practice     0   \n",
       "242               hashtags                        0                       0   \n",
       "264                                               1         CC impact     0   \n",
       "265                                               0                       0   \n",
       "301            influencers                        0                       1   \n",
       "566                                               0                       0   \n",
       "623            influencers                        0                       1   \n",
       "627               hashtags                        0                       1   \n",
       "638               hashtags                        0                       1   \n",
       "640               hashtags                        0                       0   \n",
       "804                                               1    current events     1   \n",
       "832  influencers; hashtags                        1    current events     0   \n",
       "\n",
       "                                       SJEDI code CODER  \\\n",
       "6                                      indigenous    DL   \n",
       "49                                 representation    RR   \n",
       "86   gender; indigenous; advocacy; representation    JH   \n",
       "118                                    indigenous    RR   \n",
       "126                                                  DL   \n",
       "184                                representation    RR   \n",
       "197                                                  JH   \n",
       "242                                                  JH   \n",
       "264                                                  DL   \n",
       "265                                                  RR   \n",
       "301                                representation         \n",
       "566                                                       \n",
       "623                                representation         \n",
       "627                         representation; power         \n",
       "638                             indigenous; power         \n",
       "640                                                       \n",
       "804                                  bipoc; power         \n",
       "832                                                       \n",
       "\n",
       "                                             all codes  \n",
       "6    [amplification, hashtags, indigenous, talk sup...  \n",
       "49   [amplification, hashtags, humanize, influencer...  \n",
       "86   [advocacy, amplification, emotional support, g...  \n",
       "118  [allyship in math, amplification, indigenous, ...  \n",
       "126                  [emotional support, talk support]  \n",
       "184  [amplification, hashtags, influencers, jmm exp...  \n",
       "197       [amplification, math practice, talk support]  \n",
       "242  [BC impact, SO impact, conversation, hashtags,...  \n",
       "264                          [CC impact, conversation]  \n",
       "265                             [BC impact, SO impact]  \n",
       "301  [amplification, influencers, representation, t...  \n",
       "566                                    [amplification]  \n",
       "623  [amplification, influencers, representation, t...  \n",
       "627                  [hashtags, power, representation]  \n",
       "638  [amplification, hashtags, indigenous, power, t...  \n",
       "640            [amplification, hashtags, talk support]  \n",
       "804       [bipoc, current events, power, talk support]  \n",
       "832  [BC impact, current events, emotional support,...  \n",
       "\n",
       "[18 rows x 45 columns]"
      ]
     },
     "execution_count": 33,
     "metadata": {},
     "output_type": "execute_result"
    }
   ],
   "source": [
    "#testing\n",
    "\n",
    "df_test = df[df['user_username'] == 'WanderingPoint']\n",
    "df_test"
   ]
  },
  {
   "cell_type": "markdown",
   "metadata": {},
   "source": [
    "## Persistent Homology"
   ]
  },
  {
   "cell_type": "code",
   "execution_count": 8,
   "metadata": {},
   "outputs": [],
   "source": [
    "#from gtda.homology import VietorisRipsPersistence\n",
    "#from gtda.plotting import plot_diagram\n",
    "\n",
    "#persistence = VietorisRipsPersistence(\n",
    " #   metric=\"manhattan\",\n",
    "#    homology_dimensions=(0,1,2,3,4))\n",
    "\n",
    "#diagram = persistence.fit_transform(df_codes_array[None,:,:])\n",
    "#plot_diagram(diagram[0])\n"
   ]
  },
  {
   "cell_type": "markdown",
   "metadata": {},
   "source": [
    "## Mapper"
   ]
  },
  {
   "cell_type": "code",
   "execution_count": 82,
   "metadata": {},
   "outputs": [],
   "source": [
    "#l1 test\n",
    "# make a transformer for computing the l1 norm\n",
    "\n",
    "from sklearn import datasets\n",
    "data, _ = datasets.make_circles(n_samples=5000, noise=0.05, factor=0.3, random_state=42)\n",
    "\n",
    "def l1_norm(X):\n",
    "    #take the l1 norm of each row\n",
    "    return np.linalg.norm(X, ord=1, axis=1).reshape(-1, 1)\n",
    "\n",
    "def linf_norm(X):\n",
    "    #take the l1 norm of each row\n",
    "    return np.linalg.norm(X, ord=np.inf, axis=1).reshape(-1, 1)\n",
    "\n",
    "from sklearn.preprocessing import FunctionTransformer\n",
    "l1_norm_trans = FunctionTransformer(l1_norm)\n",
    "\n",
    "linf_norm_trans = FunctionTransformer(linf_norm)\n",
    "\n"
   ]
  },
  {
   "cell_type": "code",
   "execution_count": 99,
   "metadata": {},
   "outputs": [
    {
     "data": {
      "application/vnd.plotly.v1+json": {
       "config": {
        "plotlyServerURL": "https://plot.ly",
        "scrollZoom": true
       },
       "data": [
        {
         "hoverinfo": "none",
         "line": {
          "color": "#888",
          "width": 1
         },
         "mode": "lines",
         "name": "edge_trace",
         "type": "scatter",
         "uid": "0577621d-d4d5-420d-be5b-4b542d436010",
         "x": [
          -1.3636893032037432,
          -0.9206522207146418,
          null,
          -1.3636893032037432,
          -1.8053946626890918,
          null,
          -0.9206522207146418,
          -0.478350373901394,
          null,
          2.345382212213717,
          2.191045316523684,
          null,
          2.191045316523684,
          1.9622051064581354,
          null,
          1.265252064533967,
          1.64464795621995,
          null,
          1.265252064533967,
          0.8059073370840252,
          null,
          1.64464795621995,
          1.9622051064581354,
          null,
          0.24980707791841958,
          -0.2005292035731763,
          null,
          -0.2005292035731763,
          -0.5881763854194342,
          null,
          -4.413031157672234,
          -4.698843094467025,
          null,
          -4.413031157672234,
          -4.214960234121587,
          null,
          -1.0386347889586198,
          -1.4059971718014201,
          null,
          -1.0386347889586198,
          -0.5881763854194342,
          null,
          -1.4059971718014201,
          -1.8396668031106909,
          null,
          -4.214960234121587,
          -3.9447813566573164,
          null,
          0.38001538784960115,
          0.8059073370840252,
          null,
          0.38001538784960115,
          -0.0599123289105736,
          null,
          -3.379889890463369,
          -3.541684928371967,
          null,
          -3.379889890463369,
          -2.954545916315461,
          null,
          -3.541684928371967,
          -3.9447813566573164,
          null,
          -2.954545916315461,
          -2.6404544512151644,
          null,
          -2.1619080490257816,
          -1.8053946626890918,
          null,
          -2.1619080490257816,
          -2.5834098959267577,
          null,
          -1.8396668031106909,
          -2.272973673851253,
          null,
          -0.478350373901394,
          -0.0599123289105736,
          null,
          -2.272973673851253,
          -2.6404544512151644,
          null,
          -3.0241975804601187,
          -2.5834098959267577,
          null,
          -0.47802794977309765,
          -0.9357472364792304,
          null,
          3.7114238990435027,
          4.14378270914301,
          null,
          4.448411705151675,
          4.41428940296987,
          null,
          3.192005568824965,
          3.3826985215732015,
          null
         ],
         "y": [
          -1.3877100905795061,
          -1.4873223127126816,
          null,
          -1.3877100905795061,
          -1.4621972243180537,
          null,
          -1.4873223127126816,
          -1.52967575283263,
          null,
          0.04067897314658941,
          -0.3746129542391104,
          null,
          -0.3746129542391104,
          -0.756995299997498,
          null,
          -1.320148851807268,
          -1.0724944764905582,
          null,
          -1.320148851807268,
          -1.2815093721875823,
          null,
          -1.0724944764905582,
          -0.756995299997498,
          null,
          5.212059683641597,
          5.228420660334645,
          null,
          5.228420660334645,
          4.994590452156304,
          null,
          2.505529095376461,
          2.1575008763044,
          null,
          2.505529095376461,
          2.901894679150575,
          null,
          5.029725366225351,
          4.780132610855928,
          null,
          5.029725366225351,
          4.994590452156304,
          null,
          4.780132610855928,
          4.696556224281784,
          null,
          2.901894679150575,
          3.2567293499266485,
          null,
          -1.431212270026669,
          -1.2815093721875823,
          null,
          -1.431212270026669,
          -1.3580235048806282,
          null,
          3.8993634650785833,
          3.4635203685485347,
          null,
          3.8993634650785833,
          4.063076216456314,
          null,
          3.4635203685485347,
          3.2567293499266485,
          null,
          4.063076216456314,
          4.377169498545692,
          null,
          -1.7334431397264425,
          -1.4621972243180537,
          null,
          -1.7334431397264425,
          -1.8619332437965015,
          null,
          4.696556224281784,
          4.615268453442802,
          null,
          -1.52967575283263,
          -1.3580235048806282,
          null,
          4.615268453442802,
          4.377169498545692,
          null,
          -1.9081827821440607,
          -1.8619332437965015,
          null,
          -4.081206684812429,
          -4.0808504734834905,
          null,
          2.429062166430431,
          2.5222849521134574,
          null,
          0.2870159021880663,
          0.7262023215056939,
          null,
          4.2736296993041885,
          3.8714815922518206,
          null
         ]
        },
        {
         "hoverinfo": "text",
         "hovertext": [
          "Node ID: 0<br>Pullback set label: 19<br>Partial cluster label: -1<br>Node size: 6<br>Summary statistic: 41.8",
          "Node ID: 1<br>Pullback set label: 20<br>Partial cluster label: -1<br>Node size: 3<br>Summary statistic: 9.33",
          "Node ID: 2<br>Pullback set label: 29<br>Partial cluster label: -1<br>Node size: 2<br>Summary statistic: 1.5",
          "Node ID: 3<br>Pullback set label: 28<br>Partial cluster label: -1<br>Node size: 3<br>Summary statistic: 33.3",
          "Node ID: 4<br>Pullback set label: 25<br>Partial cluster label: -1<br>Node size: 2<br>Summary statistic: 11.0",
          "Node ID: 5<br>Pullback set label: 26<br>Partial cluster label: -1<br>Node size: 3<br>Summary statistic: 29.0",
          "Node ID: 6<br>Pullback set label: 27<br>Partial cluster label: -1<br>Node size: 2<br>Summary statistic: 9.5",
          "Node ID: 7<br>Pullback set label: 0<br>Partial cluster label: -1<br>Node size: 41<br>Summary statistic: 140.0",
          "Node ID: 8<br>Pullback set label: 1<br>Partial cluster label: -1<br>Node size: 78<br>Summary statistic: 174.0",
          "Node ID: 9<br>Pullback set label: 13<br>Partial cluster label: -1<br>Node size: 9<br>Summary statistic: 98.3",
          "Node ID: 10<br>Pullback set label: 14<br>Partial cluster label: -1<br>Node size: 4<br>Summary statistic: 97.5",
          "Node ID: 11<br>Pullback set label: 3<br>Partial cluster label: -1<br>Node size: 28<br>Summary statistic: 148.0",
          "Node ID: 12<br>Pullback set label: 4<br>Partial cluster label: -1<br>Node size: 9<br>Summary statistic: 79.8",
          "Node ID: 13<br>Pullback set label: 12<br>Partial cluster label: -1<br>Node size: 11<br>Summary statistic: 86.6",
          "Node ID: 14<br>Pullback set label: 23<br>Partial cluster label: -1<br>Node size: 2<br>Summary statistic: 29.5",
          "Node ID: 15<br>Pullback set label: 24<br>Partial cluster label: -1<br>Node size: 3<br>Summary statistic: 16.0",
          "Node ID: 16<br>Pullback set label: 9<br>Partial cluster label: -1<br>Node size: 7<br>Summary statistic: 86.9",
          "Node ID: 17<br>Pullback set label: 10<br>Partial cluster label: -1<br>Node size: 10<br>Summary statistic: 94.8",
          "Node ID: 18<br>Pullback set label: 8<br>Partial cluster label: -1<br>Node size: 11<br>Summary statistic: 115.0",
          "Node ID: 19<br>Pullback set label: 2<br>Partial cluster label: -1<br>Node size: 48<br>Summary statistic: 179.0",
          "Node ID: 20<br>Pullback set label: 17<br>Partial cluster label: -1<br>Node size: 5<br>Summary statistic: 117.0",
          "Node ID: 21<br>Pullback set label: 18<br>Partial cluster label: -1<br>Node size: 2<br>Summary statistic: 65.5",
          "Node ID: 22<br>Pullback set label: 5<br>Partial cluster label: -1<br>Node size: 23<br>Summary statistic: 115.0",
          "Node ID: 23<br>Pullback set label: 21<br>Partial cluster label: -1<br>Node size: 3<br>Summary statistic: 44.3",
          "Node ID: 24<br>Pullback set label: 6<br>Partial cluster label: -1<br>Node size: 16<br>Summary statistic: 102.0",
          "Node ID: 25<br>Pullback set label: 7<br>Partial cluster label: -1<br>Node size: 9<br>Summary statistic: 114.0",
          "Node ID: 26<br>Pullback set label: 22<br>Partial cluster label: -1<br>Node size: 2<br>Summary statistic: 45.5",
          "Node ID: 27<br>Pullback set label: 15<br>Partial cluster label: -1<br>Node size: 3<br>Summary statistic: 68.0",
          "Node ID: 28<br>Pullback set label: 11<br>Partial cluster label: -1<br>Node size: 6<br>Summary statistic: 109.0",
          "Node ID: 29<br>Pullback set label: 16<br>Partial cluster label: -1<br>Node size: 4<br>Summary statistic: 110.0",
          "Node ID: 30<br>Pullback set label: 1<br>Partial cluster label: 0<br>Node size: 5<br>Summary statistic: 174.0",
          "Node ID: 31<br>Pullback set label: 3<br>Partial cluster label: 0<br>Node size: 45<br>Summary statistic: 219.0",
          "Node ID: 32<br>Pullback set label: 4<br>Partial cluster label: 0<br>Node size: 45<br>Summary statistic: 219.0",
          "Node ID: 33<br>Pullback set label: 4<br>Partial cluster label: 1<br>Node size: 6<br>Summary statistic: 206.0",
          "Node ID: 34<br>Pullback set label: 5<br>Partial cluster label: 0<br>Node size: 6<br>Summary statistic: 206.0",
          "Node ID: 35<br>Pullback set label: 3<br>Partial cluster label: 1<br>Node size: 5<br>Summary statistic: 166.0",
          "Node ID: 36<br>Pullback set label: 3<br>Partial cluster label: 2<br>Node size: 26<br>Summary statistic: 220.0",
          "Node ID: 37<br>Pullback set label: 1<br>Partial cluster label: 1<br>Node size: 8<br>Summary statistic: 195.0",
          "Node ID: 38<br>Pullback set label: 2<br>Partial cluster label: 0<br>Node size: 8<br>Summary statistic: 195.0",
          "Node ID: 39<br>Pullback set label: 0<br>Partial cluster label: 0<br>Node size: 20<br>Summary statistic: 269.0",
          "Node ID: 40<br>Pullback set label: 1<br>Partial cluster label: 2<br>Node size: 20<br>Summary statistic: 269.0"
         ],
         "marker": {
          "color": [
           41.833333333333336,
           9.333333333333334,
           1.5,
           33.333333333333336,
           11,
           29,
           9.5,
           139.9512195121951,
           174.12820512820514,
           98.33333333333333,
           97.5,
           148.07142857142858,
           79.77777777777777,
           86.63636363636364,
           29.5,
           16,
           86.85714285714286,
           94.8,
           114.63636363636364,
           178.66666666666666,
           116.8,
           65.5,
           115.3913043478261,
           44.333333333333336,
           101.5625,
           114,
           45.5,
           68,
           108.83333333333333,
           109.5,
           173.6,
           219.0888888888889,
           219.0888888888889,
           206.5,
           206.5,
           166.4,
           219.80769230769232,
           195.25,
           195.25,
           268.8,
           268.8
          ],
          "colorbar": {
           "thickness": 15,
           "title": {
            "side": "right",
            "text": ""
           },
           "xanchor": "left"
          },
          "colorscale": [
           [
            0,
            "#440154"
           ],
           [
            0.1111111111111111,
            "#482878"
           ],
           [
            0.2222222222222222,
            "#3e4989"
           ],
           [
            0.3333333333333333,
            "#31688e"
           ],
           [
            0.4444444444444444,
            "#26828e"
           ],
           [
            0.5555555555555556,
            "#1f9e89"
           ],
           [
            0.6666666666666666,
            "#35b779"
           ],
           [
            0.7777777777777778,
            "#6ece58"
           ],
           [
            0.8888888888888888,
            "#b5de2b"
           ],
           [
            1,
            "#fde725"
           ]
          ],
          "line": {
           "color": "#888",
           "width": 1
          },
          "opacity": 1,
          "reversescale": false,
          "showscale": true,
          "size": [
           6,
           3,
           2,
           3,
           2,
           3,
           2,
           41,
           78,
           9,
           4,
           28,
           9,
           11,
           2,
           3,
           7,
           10,
           11,
           48,
           5,
           2,
           23,
           3,
           16,
           9,
           2,
           3,
           6,
           4,
           5,
           45,
           45,
           6,
           6,
           5,
           26,
           8,
           8,
           20,
           20
          ],
          "sizemin": 4,
          "sizemode": "area",
          "sizeref": 1.0833333333333333
         },
         "mode": "markers",
         "name": "node_trace",
         "type": "scatter",
         "uid": "74307068-2339-497b-b0bc-ab2884f17069",
         "x": [
          -1.3636893032037432,
          -0.9206522207146418,
          2.345382212213717,
          2.191045316523684,
          1.265252064533967,
          1.64464795621995,
          1.9622051064581354,
          0.24980707791841958,
          -0.2005292035731763,
          -4.413031157672234,
          -4.698843094467025,
          -1.0386347889586198,
          -1.4059971718014201,
          -4.214960234121587,
          0.38001538784960115,
          0.8059073370840252,
          -3.379889890463369,
          -3.541684928371967,
          -2.954545916315461,
          -0.5881763854194342,
          -2.1619080490257816,
          -1.8053946626890918,
          -1.8396668031106909,
          -0.478350373901394,
          -2.272973673851253,
          -2.6404544512151644,
          -0.0599123289105736,
          -3.0241975804601187,
          -3.9447813566573164,
          -2.5834098959267577,
          -1.6782762401281175,
          -0.47802794977309765,
          -0.9357472364792304,
          3.7114238990435027,
          4.14378270914301,
          2.381411855993696,
          -5.313260787340091,
          4.448411705151675,
          4.41428940296987,
          3.192005568824965,
          3.3826985215732015
         ],
         "y": [
          -1.3877100905795061,
          -1.4873223127126816,
          0.04067897314658941,
          -0.3746129542391104,
          -1.320148851807268,
          -1.0724944764905582,
          -0.756995299997498,
          5.212059683641597,
          5.228420660334645,
          2.505529095376461,
          2.1575008763044,
          5.029725366225351,
          4.780132610855928,
          2.901894679150575,
          -1.431212270026669,
          -1.2815093721875823,
          3.8993634650785833,
          3.4635203685485347,
          4.063076216456314,
          4.994590452156304,
          -1.7334431397264425,
          -1.4621972243180537,
          4.696556224281784,
          -1.52967575283263,
          4.615268453442802,
          4.377169498545692,
          -1.3580235048806282,
          -1.9081827821440607,
          3.2567293499266485,
          -1.8619332437965015,
          1.5263667101018057,
          -4.081206684812429,
          -4.0808504734834905,
          2.429062166430431,
          2.5222849521134574,
          5.187276066905088,
          -0.5160433378902474,
          0.2870159021880663,
          0.7262023215056939,
          4.2736296993041885,
          3.8714815922518206
         ]
        }
       ],
       "layout": {
        "autosize": false,
        "hovermode": "closest",
        "margin": {
         "b": 20,
         "l": 5,
         "r": 5,
         "t": 40
        },
        "showlegend": false,
        "template": {
         "data": {
          "bar": [
           {
            "error_x": {
             "color": "rgb(36,36,36)"
            },
            "error_y": {
             "color": "rgb(36,36,36)"
            },
            "marker": {
             "line": {
              "color": "white",
              "width": 0.5
             },
             "pattern": {
              "fillmode": "overlay",
              "size": 10,
              "solidity": 0.2
             }
            },
            "type": "bar"
           }
          ],
          "barpolar": [
           {
            "marker": {
             "line": {
              "color": "white",
              "width": 0.5
             },
             "pattern": {
              "fillmode": "overlay",
              "size": 10,
              "solidity": 0.2
             }
            },
            "type": "barpolar"
           }
          ],
          "carpet": [
           {
            "aaxis": {
             "endlinecolor": "rgb(36,36,36)",
             "gridcolor": "white",
             "linecolor": "white",
             "minorgridcolor": "white",
             "startlinecolor": "rgb(36,36,36)"
            },
            "baxis": {
             "endlinecolor": "rgb(36,36,36)",
             "gridcolor": "white",
             "linecolor": "white",
             "minorgridcolor": "white",
             "startlinecolor": "rgb(36,36,36)"
            },
            "type": "carpet"
           }
          ],
          "choropleth": [
           {
            "colorbar": {
             "outlinewidth": 1,
             "tickcolor": "rgb(36,36,36)",
             "ticks": "outside"
            },
            "type": "choropleth"
           }
          ],
          "contour": [
           {
            "colorbar": {
             "outlinewidth": 1,
             "tickcolor": "rgb(36,36,36)",
             "ticks": "outside"
            },
            "colorscale": [
             [
              0,
              "#440154"
             ],
             [
              0.1111111111111111,
              "#482878"
             ],
             [
              0.2222222222222222,
              "#3e4989"
             ],
             [
              0.3333333333333333,
              "#31688e"
             ],
             [
              0.4444444444444444,
              "#26828e"
             ],
             [
              0.5555555555555556,
              "#1f9e89"
             ],
             [
              0.6666666666666666,
              "#35b779"
             ],
             [
              0.7777777777777778,
              "#6ece58"
             ],
             [
              0.8888888888888888,
              "#b5de2b"
             ],
             [
              1,
              "#fde725"
             ]
            ],
            "type": "contour"
           }
          ],
          "contourcarpet": [
           {
            "colorbar": {
             "outlinewidth": 1,
             "tickcolor": "rgb(36,36,36)",
             "ticks": "outside"
            },
            "type": "contourcarpet"
           }
          ],
          "heatmap": [
           {
            "colorbar": {
             "outlinewidth": 1,
             "tickcolor": "rgb(36,36,36)",
             "ticks": "outside"
            },
            "colorscale": [
             [
              0,
              "#440154"
             ],
             [
              0.1111111111111111,
              "#482878"
             ],
             [
              0.2222222222222222,
              "#3e4989"
             ],
             [
              0.3333333333333333,
              "#31688e"
             ],
             [
              0.4444444444444444,
              "#26828e"
             ],
             [
              0.5555555555555556,
              "#1f9e89"
             ],
             [
              0.6666666666666666,
              "#35b779"
             ],
             [
              0.7777777777777778,
              "#6ece58"
             ],
             [
              0.8888888888888888,
              "#b5de2b"
             ],
             [
              1,
              "#fde725"
             ]
            ],
            "type": "heatmap"
           }
          ],
          "heatmapgl": [
           {
            "colorbar": {
             "outlinewidth": 1,
             "tickcolor": "rgb(36,36,36)",
             "ticks": "outside"
            },
            "colorscale": [
             [
              0,
              "#440154"
             ],
             [
              0.1111111111111111,
              "#482878"
             ],
             [
              0.2222222222222222,
              "#3e4989"
             ],
             [
              0.3333333333333333,
              "#31688e"
             ],
             [
              0.4444444444444444,
              "#26828e"
             ],
             [
              0.5555555555555556,
              "#1f9e89"
             ],
             [
              0.6666666666666666,
              "#35b779"
             ],
             [
              0.7777777777777778,
              "#6ece58"
             ],
             [
              0.8888888888888888,
              "#b5de2b"
             ],
             [
              1,
              "#fde725"
             ]
            ],
            "type": "heatmapgl"
           }
          ],
          "histogram": [
           {
            "marker": {
             "line": {
              "color": "white",
              "width": 0.6
             }
            },
            "type": "histogram"
           }
          ],
          "histogram2d": [
           {
            "colorbar": {
             "outlinewidth": 1,
             "tickcolor": "rgb(36,36,36)",
             "ticks": "outside"
            },
            "colorscale": [
             [
              0,
              "#440154"
             ],
             [
              0.1111111111111111,
              "#482878"
             ],
             [
              0.2222222222222222,
              "#3e4989"
             ],
             [
              0.3333333333333333,
              "#31688e"
             ],
             [
              0.4444444444444444,
              "#26828e"
             ],
             [
              0.5555555555555556,
              "#1f9e89"
             ],
             [
              0.6666666666666666,
              "#35b779"
             ],
             [
              0.7777777777777778,
              "#6ece58"
             ],
             [
              0.8888888888888888,
              "#b5de2b"
             ],
             [
              1,
              "#fde725"
             ]
            ],
            "type": "histogram2d"
           }
          ],
          "histogram2dcontour": [
           {
            "colorbar": {
             "outlinewidth": 1,
             "tickcolor": "rgb(36,36,36)",
             "ticks": "outside"
            },
            "colorscale": [
             [
              0,
              "#440154"
             ],
             [
              0.1111111111111111,
              "#482878"
             ],
             [
              0.2222222222222222,
              "#3e4989"
             ],
             [
              0.3333333333333333,
              "#31688e"
             ],
             [
              0.4444444444444444,
              "#26828e"
             ],
             [
              0.5555555555555556,
              "#1f9e89"
             ],
             [
              0.6666666666666666,
              "#35b779"
             ],
             [
              0.7777777777777778,
              "#6ece58"
             ],
             [
              0.8888888888888888,
              "#b5de2b"
             ],
             [
              1,
              "#fde725"
             ]
            ],
            "type": "histogram2dcontour"
           }
          ],
          "mesh3d": [
           {
            "colorbar": {
             "outlinewidth": 1,
             "tickcolor": "rgb(36,36,36)",
             "ticks": "outside"
            },
            "type": "mesh3d"
           }
          ],
          "parcoords": [
           {
            "line": {
             "colorbar": {
              "outlinewidth": 1,
              "tickcolor": "rgb(36,36,36)",
              "ticks": "outside"
             }
            },
            "type": "parcoords"
           }
          ],
          "pie": [
           {
            "automargin": true,
            "type": "pie"
           }
          ],
          "scatter": [
           {
            "fillpattern": {
             "fillmode": "overlay",
             "size": 10,
             "solidity": 0.2
            },
            "type": "scatter"
           }
          ],
          "scatter3d": [
           {
            "line": {
             "colorbar": {
              "outlinewidth": 1,
              "tickcolor": "rgb(36,36,36)",
              "ticks": "outside"
             }
            },
            "marker": {
             "colorbar": {
              "outlinewidth": 1,
              "tickcolor": "rgb(36,36,36)",
              "ticks": "outside"
             }
            },
            "type": "scatter3d"
           }
          ],
          "scattercarpet": [
           {
            "marker": {
             "colorbar": {
              "outlinewidth": 1,
              "tickcolor": "rgb(36,36,36)",
              "ticks": "outside"
             }
            },
            "type": "scattercarpet"
           }
          ],
          "scattergeo": [
           {
            "marker": {
             "colorbar": {
              "outlinewidth": 1,
              "tickcolor": "rgb(36,36,36)",
              "ticks": "outside"
             }
            },
            "type": "scattergeo"
           }
          ],
          "scattergl": [
           {
            "marker": {
             "colorbar": {
              "outlinewidth": 1,
              "tickcolor": "rgb(36,36,36)",
              "ticks": "outside"
             }
            },
            "type": "scattergl"
           }
          ],
          "scattermapbox": [
           {
            "marker": {
             "colorbar": {
              "outlinewidth": 1,
              "tickcolor": "rgb(36,36,36)",
              "ticks": "outside"
             }
            },
            "type": "scattermapbox"
           }
          ],
          "scatterpolar": [
           {
            "marker": {
             "colorbar": {
              "outlinewidth": 1,
              "tickcolor": "rgb(36,36,36)",
              "ticks": "outside"
             }
            },
            "type": "scatterpolar"
           }
          ],
          "scatterpolargl": [
           {
            "marker": {
             "colorbar": {
              "outlinewidth": 1,
              "tickcolor": "rgb(36,36,36)",
              "ticks": "outside"
             }
            },
            "type": "scatterpolargl"
           }
          ],
          "scatterternary": [
           {
            "marker": {
             "colorbar": {
              "outlinewidth": 1,
              "tickcolor": "rgb(36,36,36)",
              "ticks": "outside"
             }
            },
            "type": "scatterternary"
           }
          ],
          "surface": [
           {
            "colorbar": {
             "outlinewidth": 1,
             "tickcolor": "rgb(36,36,36)",
             "ticks": "outside"
            },
            "colorscale": [
             [
              0,
              "#440154"
             ],
             [
              0.1111111111111111,
              "#482878"
             ],
             [
              0.2222222222222222,
              "#3e4989"
             ],
             [
              0.3333333333333333,
              "#31688e"
             ],
             [
              0.4444444444444444,
              "#26828e"
             ],
             [
              0.5555555555555556,
              "#1f9e89"
             ],
             [
              0.6666666666666666,
              "#35b779"
             ],
             [
              0.7777777777777778,
              "#6ece58"
             ],
             [
              0.8888888888888888,
              "#b5de2b"
             ],
             [
              1,
              "#fde725"
             ]
            ],
            "type": "surface"
           }
          ],
          "table": [
           {
            "cells": {
             "fill": {
              "color": "rgb(237,237,237)"
             },
             "line": {
              "color": "white"
             }
            },
            "header": {
             "fill": {
              "color": "rgb(217,217,217)"
             },
             "line": {
              "color": "white"
             }
            },
            "type": "table"
           }
          ]
         },
         "layout": {
          "annotationdefaults": {
           "arrowhead": 0,
           "arrowwidth": 1
          },
          "autotypenumbers": "strict",
          "coloraxis": {
           "colorbar": {
            "outlinewidth": 1,
            "tickcolor": "rgb(36,36,36)",
            "ticks": "outside"
           }
          },
          "colorscale": {
           "diverging": [
            [
             0,
             "rgb(103,0,31)"
            ],
            [
             0.1,
             "rgb(178,24,43)"
            ],
            [
             0.2,
             "rgb(214,96,77)"
            ],
            [
             0.3,
             "rgb(244,165,130)"
            ],
            [
             0.4,
             "rgb(253,219,199)"
            ],
            [
             0.5,
             "rgb(247,247,247)"
            ],
            [
             0.6,
             "rgb(209,229,240)"
            ],
            [
             0.7,
             "rgb(146,197,222)"
            ],
            [
             0.8,
             "rgb(67,147,195)"
            ],
            [
             0.9,
             "rgb(33,102,172)"
            ],
            [
             1,
             "rgb(5,48,97)"
            ]
           ],
           "sequential": [
            [
             0,
             "#440154"
            ],
            [
             0.1111111111111111,
             "#482878"
            ],
            [
             0.2222222222222222,
             "#3e4989"
            ],
            [
             0.3333333333333333,
             "#31688e"
            ],
            [
             0.4444444444444444,
             "#26828e"
            ],
            [
             0.5555555555555556,
             "#1f9e89"
            ],
            [
             0.6666666666666666,
             "#35b779"
            ],
            [
             0.7777777777777778,
             "#6ece58"
            ],
            [
             0.8888888888888888,
             "#b5de2b"
            ],
            [
             1,
             "#fde725"
            ]
           ],
           "sequentialminus": [
            [
             0,
             "#440154"
            ],
            [
             0.1111111111111111,
             "#482878"
            ],
            [
             0.2222222222222222,
             "#3e4989"
            ],
            [
             0.3333333333333333,
             "#31688e"
            ],
            [
             0.4444444444444444,
             "#26828e"
            ],
            [
             0.5555555555555556,
             "#1f9e89"
            ],
            [
             0.6666666666666666,
             "#35b779"
            ],
            [
             0.7777777777777778,
             "#6ece58"
            ],
            [
             0.8888888888888888,
             "#b5de2b"
            ],
            [
             1,
             "#fde725"
            ]
           ]
          },
          "colorway": [
           "#1F77B4",
           "#FF7F0E",
           "#2CA02C",
           "#D62728",
           "#9467BD",
           "#8C564B",
           "#E377C2",
           "#7F7F7F",
           "#BCBD22",
           "#17BECF"
          ],
          "font": {
           "color": "rgb(36,36,36)"
          },
          "geo": {
           "bgcolor": "white",
           "lakecolor": "white",
           "landcolor": "white",
           "showlakes": true,
           "showland": true,
           "subunitcolor": "white"
          },
          "hoverlabel": {
           "align": "left"
          },
          "hovermode": "closest",
          "mapbox": {
           "style": "light"
          },
          "paper_bgcolor": "white",
          "plot_bgcolor": "white",
          "polar": {
           "angularaxis": {
            "gridcolor": "rgb(232,232,232)",
            "linecolor": "rgb(36,36,36)",
            "showgrid": false,
            "showline": true,
            "ticks": "outside"
           },
           "bgcolor": "white",
           "radialaxis": {
            "gridcolor": "rgb(232,232,232)",
            "linecolor": "rgb(36,36,36)",
            "showgrid": false,
            "showline": true,
            "ticks": "outside"
           }
          },
          "scene": {
           "xaxis": {
            "backgroundcolor": "white",
            "gridcolor": "rgb(232,232,232)",
            "gridwidth": 2,
            "linecolor": "rgb(36,36,36)",
            "showbackground": true,
            "showgrid": false,
            "showline": true,
            "ticks": "outside",
            "zeroline": false,
            "zerolinecolor": "rgb(36,36,36)"
           },
           "yaxis": {
            "backgroundcolor": "white",
            "gridcolor": "rgb(232,232,232)",
            "gridwidth": 2,
            "linecolor": "rgb(36,36,36)",
            "showbackground": true,
            "showgrid": false,
            "showline": true,
            "ticks": "outside",
            "zeroline": false,
            "zerolinecolor": "rgb(36,36,36)"
           },
           "zaxis": {
            "backgroundcolor": "white",
            "gridcolor": "rgb(232,232,232)",
            "gridwidth": 2,
            "linecolor": "rgb(36,36,36)",
            "showbackground": true,
            "showgrid": false,
            "showline": true,
            "ticks": "outside",
            "zeroline": false,
            "zerolinecolor": "rgb(36,36,36)"
           }
          },
          "shapedefaults": {
           "fillcolor": "black",
           "line": {
            "width": 0
           },
           "opacity": 0.3
          },
          "ternary": {
           "aaxis": {
            "gridcolor": "rgb(232,232,232)",
            "linecolor": "rgb(36,36,36)",
            "showgrid": false,
            "showline": true,
            "ticks": "outside"
           },
           "baxis": {
            "gridcolor": "rgb(232,232,232)",
            "linecolor": "rgb(36,36,36)",
            "showgrid": false,
            "showline": true,
            "ticks": "outside"
           },
           "bgcolor": "white",
           "caxis": {
            "gridcolor": "rgb(232,232,232)",
            "linecolor": "rgb(36,36,36)",
            "showgrid": false,
            "showline": true,
            "ticks": "outside"
           }
          },
          "title": {
           "x": 0.05
          },
          "xaxis": {
           "automargin": true,
           "gridcolor": "rgb(232,232,232)",
           "linecolor": "rgb(36,36,36)",
           "showgrid": false,
           "showline": true,
           "ticks": "outside",
           "title": {
            "standoff": 15
           },
           "zeroline": false,
           "zerolinecolor": "rgb(36,36,36)"
          },
          "yaxis": {
           "automargin": true,
           "gridcolor": "rgb(232,232,232)",
           "linecolor": "rgb(36,36,36)",
           "showgrid": false,
           "showline": true,
           "ticks": "outside",
           "title": {
            "standoff": 15
           },
           "zeroline": false,
           "zerolinecolor": "rgb(36,36,36)"
          }
         }
        },
        "title": {
         "text": ""
        },
        "xaxis": {
         "showgrid": false,
         "showline": false,
         "showticklabels": false,
         "ticks": "",
         "title": {
          "text": ""
         },
         "zeroline": false
        },
        "yaxis": {
         "showgrid": false,
         "showline": false,
         "showticklabels": false,
         "ticks": "",
         "title": {
          "text": ""
         },
         "zeroline": false
        }
       }
      }
     },
     "metadata": {},
     "output_type": "display_data"
    }
   ],
   "source": [
    "import gtda.mapper as map\n",
    "import sklearn.cluster as cluster\n",
    "\n",
    "\n",
    "filter_func = l1_norm_trans\n",
    "cover = map.OneDimensionalCover(kind='balanced', n_intervals=30, overlap_frac=0.4)\n",
    "clusterer = cluster.DBSCAN()\n",
    "\n",
    "pipe = map.make_mapper_pipeline(\n",
    "    filter_func=filter_func,\n",
    "    cover=cover,\n",
    "    clusterer=clusterer,\n",
    "    verbose=False,\n",
    "    n_jobs=1,\n",
    ")\n",
    "\n",
    "fig = map.plot_static_mapper_graph(pipe, df_codes_array)\n",
    "fig.show(config={'scrollZoom': True})\n"
   ]
  },
  {
   "cell_type": "code",
   "execution_count": 95,
   "metadata": {},
   "outputs": [
    {
     "data": {
      "text/plain": [
       "(array([296.,  18.,   5.,   4.,   0.,   0.,   0.,   0.,   1.,   0.,   1.,\n",
       "          0.,   0.,   0.,   1.,   0.,   1.,   0.,   0.,   1.]),\n",
       " array([  1.  ,  21.85,  42.7 ,  63.55,  84.4 , 105.25, 126.1 , 146.95,\n",
       "        167.8 , 188.65, 209.5 , 230.35, 251.2 , 272.05, 292.9 , 313.75,\n",
       "        334.6 , 355.45, 376.3 , 397.15, 418.  ]),\n",
       " <BarContainer object of 20 artists>)"
      ]
     },
     "execution_count": 95,
     "metadata": {},
     "output_type": "execute_result"
    },
    {
     "data": {
      "image/png": "[encoded data removed]",
      "text/plain": [
       "<Figure size 640x480 with 1 Axes>"
      ]
     },
     "metadata": {},
     "output_type": "display_data"
    }
   ],
   "source": [
    "meh = l1_norm_trans.fit_transform(df_codes_array)\n",
    "meh\n",
    "plt.hist(meh[:,0], bins=20)"
   ]
  },
  {
   "cell_type": "code",
   "execution_count": null,
   "metadata": {},
   "outputs": [],
   "source": []
  }
 ],
 "metadata": {
  "kernelspec": {
   "display_name": "base",
   "language": "python",
   "name": "python3"
  },
  "language_info": {
   "codemirror_mode": {
    "name": "ipython",
    "version": 3
   },
   "file_extension": ".py",
   "mimetype": "text/x-python",
   "name": "python",
   "nbconvert_exporter": "python",
   "pygments_lexer": "ipython3",
   "version": "3.8.16"
  },
  "orig_nbformat": 4
 },
 "nbformat": 4,
 "nbformat_minor": 2
}
