{
 "cells": [
  {
   "cell_type": "markdown",
   "metadata": {},
   "source": [
    "# EVERYTHING IS CHAOS"
   ]
  },
  {
   "cell_type": "code",
   "execution_count": 40,
   "metadata": {},
   "outputs": [],
   "source": [
    "import igraph as ig\n",
    "import networkx as nx\n",
    "import numpy as np\n",
    "import pandas as pd\n",
    "import matplotlib.pyplot as plt"
   ]
  },
  {
   "cell_type": "markdown",
   "metadata": {},
   "source": [
    "## Data"
   ]
  },
  {
   "cell_type": "code",
   "execution_count": 41,
   "metadata": {},
   "outputs": [],
   "source": [
    "df = pd.read_csv(\"/Users/rachelroca/Documents/GitHub/DAAAAMNdjmm/data cleaning/Final Coding.csv\",keep_default_na=False)\n",
    "#The codes were in 5 different columns; lets aggregate them into a new column\n",
    "df[\"all codes\"] = df[[\"SO code\",\"BC code\",\"BtC code\",\"CCM code\",\"SJEDI code\"]].agg(';'.join,axis=1)\n",
    "#We separated them by ;, so convert to an array \n",
    "df[\"all codes\"] = df[\"all codes\"].apply(lambda s: s.split(';'))\n",
    "#Strip out leading/trailing spaces\n",
    "df[\"all codes\"] = df[\"all codes\"].apply(lambda s: [t.strip() for t in s if t])\n",
    "#Sort the arrays, so we can be confident the same things are not listed in two different ways\n",
    "df[\"all codes\"] = np.array(df[\"all codes\"].apply(sorted))"
   ]
  },
  {
   "cell_type": "code",
   "execution_count": 42,
   "metadata": {},
   "outputs": [],
   "source": [
    "tweeters = df['user_username'].unique()\n",
    "codes = ['advocacy', 'amplification', 'emotional support', 'gender', 'indigenous', 'jmm experience', 'representation', 'bipoc', 'hashtags', 'influencers', 'power', 'talk support', 'humanize', 'math practice', 'current events', 'lgbtq', 'strategic planning', 'allyship in math', 'math experience', 'conversation', 'thankful', 'BC impact', 'disrupteverything', 'SJEDI impact', 'SO impact', 'belonging', 'learning', 'troll', 'CC impact', 'virtual participation', 'activation', 'futures', 'economic', 'beyond', 'celebration']\n"
   ]
  },
  {
   "cell_type": "code",
   "execution_count": 43,
   "metadata": {},
   "outputs": [],
   "source": [
    "df_codes = pd.DataFrame(columns = codes)\n",
    "num_tweets_retweets = np.zeros(len(tweeters))\n",
    "for i in range(len(tweeters)):\n",
    "    df_temp = df[df['user_username'] == tweeters[i]]\n",
    "    num_tweets_retweets[i] = len(df_temp)\n",
    "    #sum the all codes column\n",
    "    codes_sum_temp = df_temp['all codes'].sum()\n",
    "    #make a dictionary of the codes and how many times they appear in codes_sum_temp\n",
    "    codes_dict_temp = {i:codes_sum_temp.count(i) for i in codes}\n",
    "    #make the dictionary a dataframe\n",
    "    codes_dict_temp_df = pd.DataFrame.from_dict([codes_dict_temp])\n",
    "    #add the dictionary to the dataframe\n",
    "    df_codes = pd.concat([df_codes,codes_dict_temp_df], ignore_index=True)\n",
    "#make the indices the tweeters' names\n",
    "df_codes.index = tweeters"
   ]
  },
  {
   "cell_type": "code",
   "execution_count": 44,
   "metadata": {},
   "outputs": [],
   "source": [
    "#make the dataframe into a numpy array\n",
    "df_codes_array = df_codes.to_numpy()\n",
    "df_codes_array=df_codes_array.astype('i')"
   ]
  },
  {
   "cell_type": "code",
   "execution_count": 45,
   "metadata": {},
   "outputs": [],
   "source": [
    "#let's try normalizing because data be wild\n",
    "#divide each row by the number of tweets/retweets\n",
    "df_codes_array_norm_tweet = np.zeros((len(tweeters),len(codes)))\n",
    "for i in range(len(tweeters)):\n",
    "    df_codes_array_norm_tweet[i] = df_codes_array[i]/num_tweets_retweets[i]"
   ]
  },
  {
   "cell_type": "markdown",
   "metadata": {},
   "source": [
    "## Mapper"
   ]
  },
  {
   "cell_type": "code",
   "execution_count": 46,
   "metadata": {},
   "outputs": [],
   "source": [
    "#getting the filter function\n",
    "def l1_norm(X):\n",
    "    #take the l1 norm of each row\n",
    "    return np.linalg.norm(X, ord=1, axis=1).reshape(-1, 1)\n",
    "\n",
    "def linf_norm(X):\n",
    "    #take the l1 norm of each row\n",
    "    return np.linalg.norm(X, ord=np.inf, axis=1).reshape(-1, 1)\n",
    "\n",
    "from sklearn.preprocessing import FunctionTransformer\n",
    "l1_norm_trans = FunctionTransformer(l1_norm)\n",
    "\n",
    "linf_norm_trans = FunctionTransformer(linf_norm)"
   ]
  },
  {
   "cell_type": "code",
   "execution_count": 58,
   "metadata": {},
   "outputs": [
    {
     "data": {
      "application/vnd.plotly.v1+json": {
       "config": {
        "plotlyServerURL": "https://plot.ly",
        "scrollZoom": true
       },
       "data": [
        {
         "hoverinfo": "none",
         "line": {
          "color": "#888",
          "width": 1
         },
         "mode": "lines",
         "name": "edge_trace",
         "type": "scatter",
         "uid": "8407ecd0-3ffa-459d-b32e-427b1c2e78e8",
         "x": [
          0.03212823860788389,
          0.8123354756967378,
          null,
          0.03212823860788389,
          -0.16945954534155075,
          null,
          -0.8310965696652141,
          -1.6095224705902942,
          null,
          -0.8310965696652141,
          -0.16945954534155075,
          null,
          1.1179379251156407,
          0.8123354756967378,
          null
         ],
         "y": [
          2.9290581381236533,
          2.750545054900453,
          null,
          2.9290581381236533,
          3.7002843611138028,
          null,
          4.099159708521249,
          4.067637266581172,
          null,
          4.099159708521249,
          3.7002843611138028,
          null,
          2.0282434816917467,
          2.750545054900453,
          null
         ]
        },
        {
         "hoverinfo": "text",
         "hovertext": [
          "Node ID: 0<br>Pullback set label: 2<br>Partial cluster label: -1<br>Node size: 9<br>Summary statistic: 40.3",
          "Node ID: 1<br>Pullback set label: 10<br>Partial cluster label: -1<br>Node size: 1<br>Summary statistic: 1.0",
          "Node ID: 2<br>Pullback set label: 9<br>Partial cluster label: -1<br>Node size: 1<br>Summary statistic: 2.0",
          "Node ID: 3<br>Pullback set label: 4<br>Partial cluster label: -1<br>Node size: 3<br>Summary statistic: 13.7",
          "Node ID: 4<br>Pullback set label: 5<br>Partial cluster label: -1<br>Node size: 2<br>Summary statistic: 41.0",
          "Node ID: 5<br>Pullback set label: 6<br>Partial cluster label: -1<br>Node size: 1<br>Summary statistic: 5.0",
          "Node ID: 6<br>Pullback set label: 0<br>Partial cluster label: -1<br>Node size: 185<br>Summary statistic: 144.0",
          "Node ID: 7<br>Pullback set label: 1<br>Partial cluster label: -1<br>Node size: 37<br>Summary statistic: 89.9",
          "Node ID: 8<br>Pullback set label: 3<br>Partial cluster label: -1<br>Node size: 6<br>Summary statistic: 35.2",
          "Node ID: 9<br>Pullback set label: 7<br>Partial cluster label: -1<br>Node size: 1<br>Summary statistic: 14.0",
          "Node ID: 10<br>Pullback set label: 0<br>Partial cluster label: 0<br>Node size: 5<br>Summary statistic: 174.0",
          "Node ID: 11<br>Pullback set label: 8<br>Partial cluster label: -1<br>Node size: 1<br>Summary statistic: 84.0",
          "Node ID: 12<br>Pullback set label: 0<br>Partial cluster label: 1<br>Node size: 45<br>Summary statistic: 219.0",
          "Node ID: 13<br>Pullback set label: 0<br>Partial cluster label: 2<br>Node size: 6<br>Summary statistic: 206.0",
          "Node ID: 14<br>Pullback set label: 0<br>Partial cluster label: 3<br>Node size: 5<br>Summary statistic: 166.0",
          "Node ID: 15<br>Pullback set label: 0<br>Partial cluster label: 4<br>Node size: 26<br>Summary statistic: 220.0",
          "Node ID: 16<br>Pullback set label: 0<br>Partial cluster label: 5<br>Node size: 8<br>Summary statistic: 195.0",
          "Node ID: 17<br>Pullback set label: 0<br>Partial cluster label: 6<br>Node size: 20<br>Summary statistic: 269.0"
         ],
         "marker": {
          "color": [
           40.333333333333336,
           1,
           2,
           13.666666666666666,
           41,
           5,
           144.43783783783783,
           89.91891891891892,
           35.166666666666664,
           14,
           173.6,
           84,
           219.0888888888889,
           206.5,
           166.4,
           219.80769230769232,
           195.25,
           268.8
          ],
          "colorbar": {
           "thickness": 15,
           "title": {
            "side": "right",
            "text": ""
           },
           "xanchor": "left"
          },
          "colorscale": [
           [
            0,
            "#440154"
           ],
           [
            0.1111111111111111,
            "#482878"
           ],
           [
            0.2222222222222222,
            "#3e4989"
           ],
           [
            0.3333333333333333,
            "#31688e"
           ],
           [
            0.4444444444444444,
            "#26828e"
           ],
           [
            0.5555555555555556,
            "#1f9e89"
           ],
           [
            0.6666666666666666,
            "#35b779"
           ],
           [
            0.7777777777777778,
            "#6ece58"
           ],
           [
            0.8888888888888888,
            "#b5de2b"
           ],
           [
            1,
            "#fde725"
           ]
          ],
          "line": {
           "color": "#888",
           "width": 1
          },
          "opacity": 1,
          "reversescale": false,
          "showscale": true,
          "size": [
           9,
           1,
           1,
           3,
           2,
           1,
           185,
           37,
           6,
           1,
           5,
           1,
           45,
           6,
           5,
           26,
           8,
           20
          ],
          "sizemin": 4,
          "sizemode": "area",
          "sizeref": 2.5694444444444446
         },
         "mode": "markers",
         "name": "node_trace",
         "type": "scatter",
         "uid": "97b30d3c-b35e-41f2-a44d-3f361a2c0664",
         "x": [
          0.03212823860788389,
          -2.9266842074126136,
          -3.8450994318050906,
          -0.8310965696652141,
          -1.6095224705902942,
          1.3549972205209229,
          1.1179379251156407,
          0.8123354756967378,
          -0.16945954534155075,
          -3.1583628601147367,
          -3.799242092114605,
          -4.4416280108678405,
          -4.397899690420837,
          -2.573400234714795,
          -1.772652222631172,
          -0.47295329743506404,
          0.5519054854861078,
          -1.15890700772098
         ],
         "y": [
          2.9290581381236533,
          -0.986834464690697,
          -0.22916540296296034,
          4.099159708521249,
          4.067637266581172,
          0.4558186130481695,
          2.0282434816917467,
          2.750545054900453,
          3.7002843611138028,
          4.1933759009855684,
          3.16393673161594,
          2.157606032745415,
          0.8820746547145699,
          1.468137074864255,
          -1.4035001035096688,
          -1.277855694475863,
          -0.5045574351091581,
          0.4068907697543185
         ]
        }
       ],
       "layout": {
        "autosize": false,
        "hovermode": "closest",
        "margin": {
         "b": 20,
         "l": 5,
         "r": 5,
         "t": 40
        },
        "showlegend": false,
        "template": {
         "data": {
          "bar": [
           {
            "error_x": {
             "color": "rgb(36,36,36)"
            },
            "error_y": {
             "color": "rgb(36,36,36)"
            },
            "marker": {
             "line": {
              "color": "white",
              "width": 0.5
             },
             "pattern": {
              "fillmode": "overlay",
              "size": 10,
              "solidity": 0.2
             }
            },
            "type": "bar"
           }
          ],
          "barpolar": [
           {
            "marker": {
             "line": {
              "color": "white",
              "width": 0.5
             },
             "pattern": {
              "fillmode": "overlay",
              "size": 10,
              "solidity": 0.2
             }
            },
            "type": "barpolar"
           }
          ],
          "carpet": [
           {
            "aaxis": {
             "endlinecolor": "rgb(36,36,36)",
             "gridcolor": "white",
             "linecolor": "white",
             "minorgridcolor": "white",
             "startlinecolor": "rgb(36,36,36)"
            },
            "baxis": {
             "endlinecolor": "rgb(36,36,36)",
             "gridcolor": "white",
             "linecolor": "white",
             "minorgridcolor": "white",
             "startlinecolor": "rgb(36,36,36)"
            },
            "type": "carpet"
           }
          ],
          "choropleth": [
           {
            "colorbar": {
             "outlinewidth": 1,
             "tickcolor": "rgb(36,36,36)",
             "ticks": "outside"
            },
            "type": "choropleth"
           }
          ],
          "contour": [
           {
            "colorbar": {
             "outlinewidth": 1,
             "tickcolor": "rgb(36,36,36)",
             "ticks": "outside"
            },
            "colorscale": [
             [
              0,
              "#440154"
             ],
             [
              0.1111111111111111,
              "#482878"
             ],
             [
              0.2222222222222222,
              "#3e4989"
             ],
             [
              0.3333333333333333,
              "#31688e"
             ],
             [
              0.4444444444444444,
              "#26828e"
             ],
             [
              0.5555555555555556,
              "#1f9e89"
             ],
             [
              0.6666666666666666,
              "#35b779"
             ],
             [
              0.7777777777777778,
              "#6ece58"
             ],
             [
              0.8888888888888888,
              "#b5de2b"
             ],
             [
              1,
              "#fde725"
             ]
            ],
            "type": "contour"
           }
          ],
          "contourcarpet": [
           {
            "colorbar": {
             "outlinewidth": 1,
             "tickcolor": "rgb(36,36,36)",
             "ticks": "outside"
            },
            "type": "contourcarpet"
           }
          ],
          "heatmap": [
           {
            "colorbar": {
             "outlinewidth": 1,
             "tickcolor": "rgb(36,36,36)",
             "ticks": "outside"
            },
            "colorscale": [
             [
              0,
              "#440154"
             ],
             [
              0.1111111111111111,
              "#482878"
             ],
             [
              0.2222222222222222,
              "#3e4989"
             ],
             [
              0.3333333333333333,
              "#31688e"
             ],
             [
              0.4444444444444444,
              "#26828e"
             ],
             [
              0.5555555555555556,
              "#1f9e89"
             ],
             [
              0.6666666666666666,
              "#35b779"
             ],
             [
              0.7777777777777778,
              "#6ece58"
             ],
             [
              0.8888888888888888,
              "#b5de2b"
             ],
             [
              1,
              "#fde725"
             ]
            ],
            "type": "heatmap"
           }
          ],
          "heatmapgl": [
           {
            "colorbar": {
             "outlinewidth": 1,
             "tickcolor": "rgb(36,36,36)",
             "ticks": "outside"
            },
            "colorscale": [
             [
              0,
              "#440154"
             ],
             [
              0.1111111111111111,
              "#482878"
             ],
             [
              0.2222222222222222,
              "#3e4989"
             ],
             [
              0.3333333333333333,
              "#31688e"
             ],
             [
              0.4444444444444444,
              "#26828e"
             ],
             [
              0.5555555555555556,
              "#1f9e89"
             ],
             [
              0.6666666666666666,
              "#35b779"
             ],
             [
              0.7777777777777778,
              "#6ece58"
             ],
             [
              0.8888888888888888,
              "#b5de2b"
             ],
             [
              1,
              "#fde725"
             ]
            ],
            "type": "heatmapgl"
           }
          ],
          "histogram": [
           {
            "marker": {
             "line": {
              "color": "white",
              "width": 0.6
             }
            },
            "type": "histogram"
           }
          ],
          "histogram2d": [
           {
            "colorbar": {
             "outlinewidth": 1,
             "tickcolor": "rgb(36,36,36)",
             "ticks": "outside"
            },
            "colorscale": [
             [
              0,
              "#440154"
             ],
             [
              0.1111111111111111,
              "#482878"
             ],
             [
              0.2222222222222222,
              "#3e4989"
             ],
             [
              0.3333333333333333,
              "#31688e"
             ],
             [
              0.4444444444444444,
              "#26828e"
             ],
             [
              0.5555555555555556,
              "#1f9e89"
             ],
             [
              0.6666666666666666,
              "#35b779"
             ],
             [
              0.7777777777777778,
              "#6ece58"
             ],
             [
              0.8888888888888888,
              "#b5de2b"
             ],
             [
              1,
              "#fde725"
             ]
            ],
            "type": "histogram2d"
           }
          ],
          "histogram2dcontour": [
           {
            "colorbar": {
             "outlinewidth": 1,
             "tickcolor": "rgb(36,36,36)",
             "ticks": "outside"
            },
            "colorscale": [
             [
              0,
              "#440154"
             ],
             [
              0.1111111111111111,
              "#482878"
             ],
             [
              0.2222222222222222,
              "#3e4989"
             ],
             [
              0.3333333333333333,
              "#31688e"
             ],
             [
              0.4444444444444444,
              "#26828e"
             ],
             [
              0.5555555555555556,
              "#1f9e89"
             ],
             [
              0.6666666666666666,
              "#35b779"
             ],
             [
              0.7777777777777778,
              "#6ece58"
             ],
             [
              0.8888888888888888,
              "#b5de2b"
             ],
             [
              1,
              "#fde725"
             ]
            ],
            "type": "histogram2dcontour"
           }
          ],
          "mesh3d": [
           {
            "colorbar": {
             "outlinewidth": 1,
             "tickcolor": "rgb(36,36,36)",
             "ticks": "outside"
            },
            "type": "mesh3d"
           }
          ],
          "parcoords": [
           {
            "line": {
             "colorbar": {
              "outlinewidth": 1,
              "tickcolor": "rgb(36,36,36)",
              "ticks": "outside"
             }
            },
            "type": "parcoords"
           }
          ],
          "pie": [
           {
            "automargin": true,
            "type": "pie"
           }
          ],
          "scatter": [
           {
            "fillpattern": {
             "fillmode": "overlay",
             "size": 10,
             "solidity": 0.2
            },
            "type": "scatter"
           }
          ],
          "scatter3d": [
           {
            "line": {
             "colorbar": {
              "outlinewidth": 1,
              "tickcolor": "rgb(36,36,36)",
              "ticks": "outside"
             }
            },
            "marker": {
             "colorbar": {
              "outlinewidth": 1,
              "tickcolor": "rgb(36,36,36)",
              "ticks": "outside"
             }
            },
            "type": "scatter3d"
           }
          ],
          "scattercarpet": [
           {
            "marker": {
             "colorbar": {
              "outlinewidth": 1,
              "tickcolor": "rgb(36,36,36)",
              "ticks": "outside"
             }
            },
            "type": "scattercarpet"
           }
          ],
          "scattergeo": [
           {
            "marker": {
             "colorbar": {
              "outlinewidth": 1,
              "tickcolor": "rgb(36,36,36)",
              "ticks": "outside"
             }
            },
            "type": "scattergeo"
           }
          ],
          "scattergl": [
           {
            "marker": {
             "colorbar": {
              "outlinewidth": 1,
              "tickcolor": "rgb(36,36,36)",
              "ticks": "outside"
             }
            },
            "type": "scattergl"
           }
          ],
          "scattermapbox": [
           {
            "marker": {
             "colorbar": {
              "outlinewidth": 1,
              "tickcolor": "rgb(36,36,36)",
              "ticks": "outside"
             }
            },
            "type": "scattermapbox"
           }
          ],
          "scatterpolar": [
           {
            "marker": {
             "colorbar": {
              "outlinewidth": 1,
              "tickcolor": "rgb(36,36,36)",
              "ticks": "outside"
             }
            },
            "type": "scatterpolar"
           }
          ],
          "scatterpolargl": [
           {
            "marker": {
             "colorbar": {
              "outlinewidth": 1,
              "tickcolor": "rgb(36,36,36)",
              "ticks": "outside"
             }
            },
            "type": "scatterpolargl"
           }
          ],
          "scatterternary": [
           {
            "marker": {
             "colorbar": {
              "outlinewidth": 1,
              "tickcolor": "rgb(36,36,36)",
              "ticks": "outside"
             }
            },
            "type": "scatterternary"
           }
          ],
          "surface": [
           {
            "colorbar": {
             "outlinewidth": 1,
             "tickcolor": "rgb(36,36,36)",
             "ticks": "outside"
            },
            "colorscale": [
             [
              0,
              "#440154"
             ],
             [
              0.1111111111111111,
              "#482878"
             ],
             [
              0.2222222222222222,
              "#3e4989"
             ],
             [
              0.3333333333333333,
              "#31688e"
             ],
             [
              0.4444444444444444,
              "#26828e"
             ],
             [
              0.5555555555555556,
              "#1f9e89"
             ],
             [
              0.6666666666666666,
              "#35b779"
             ],
             [
              0.7777777777777778,
              "#6ece58"
             ],
             [
              0.8888888888888888,
              "#b5de2b"
             ],
             [
              1,
              "#fde725"
             ]
            ],
            "type": "surface"
           }
          ],
          "table": [
           {
            "cells": {
             "fill": {
              "color": "rgb(237,237,237)"
             },
             "line": {
              "color": "white"
             }
            },
            "header": {
             "fill": {
              "color": "rgb(217,217,217)"
             },
             "line": {
              "color": "white"
             }
            },
            "type": "table"
           }
          ]
         },
         "layout": {
          "annotationdefaults": {
           "arrowhead": 0,
           "arrowwidth": 1
          },
          "autotypenumbers": "strict",
          "coloraxis": {
           "colorbar": {
            "outlinewidth": 1,
            "tickcolor": "rgb(36,36,36)",
            "ticks": "outside"
           }
          },
          "colorscale": {
           "diverging": [
            [
             0,
             "rgb(103,0,31)"
            ],
            [
             0.1,
             "rgb(178,24,43)"
            ],
            [
             0.2,
             "rgb(214,96,77)"
            ],
            [
             0.3,
             "rgb(244,165,130)"
            ],
            [
             0.4,
             "rgb(253,219,199)"
            ],
            [
             0.5,
             "rgb(247,247,247)"
            ],
            [
             0.6,
             "rgb(209,229,240)"
            ],
            [
             0.7,
             "rgb(146,197,222)"
            ],
            [
             0.8,
             "rgb(67,147,195)"
            ],
            [
             0.9,
             "rgb(33,102,172)"
            ],
            [
             1,
             "rgb(5,48,97)"
            ]
           ],
           "sequential": [
            [
             0,
             "#440154"
            ],
            [
             0.1111111111111111,
             "#482878"
            ],
            [
             0.2222222222222222,
             "#3e4989"
            ],
            [
             0.3333333333333333,
             "#31688e"
            ],
            [
             0.4444444444444444,
             "#26828e"
            ],
            [
             0.5555555555555556,
             "#1f9e89"
            ],
            [
             0.6666666666666666,
             "#35b779"
            ],
            [
             0.7777777777777778,
             "#6ece58"
            ],
            [
             0.8888888888888888,
             "#b5de2b"
            ],
            [
             1,
             "#fde725"
            ]
           ],
           "sequentialminus": [
            [
             0,
             "#440154"
            ],
            [
             0.1111111111111111,
             "#482878"
            ],
            [
             0.2222222222222222,
             "#3e4989"
            ],
            [
             0.3333333333333333,
             "#31688e"
            ],
            [
             0.4444444444444444,
             "#26828e"
            ],
            [
             0.5555555555555556,
             "#1f9e89"
            ],
            [
             0.6666666666666666,
             "#35b779"
            ],
            [
             0.7777777777777778,
             "#6ece58"
            ],
            [
             0.8888888888888888,
             "#b5de2b"
            ],
            [
             1,
             "#fde725"
            ]
           ]
          },
          "colorway": [
           "#1F77B4",
           "#FF7F0E",
           "#2CA02C",
           "#D62728",
           "#9467BD",
           "#8C564B",
           "#E377C2",
           "#7F7F7F",
           "#BCBD22",
           "#17BECF"
          ],
          "font": {
           "color": "rgb(36,36,36)"
          },
          "geo": {
           "bgcolor": "white",
           "lakecolor": "white",
           "landcolor": "white",
           "showlakes": true,
           "showland": true,
           "subunitcolor": "white"
          },
          "hoverlabel": {
           "align": "left"
          },
          "hovermode": "closest",
          "mapbox": {
           "style": "light"
          },
          "paper_bgcolor": "white",
          "plot_bgcolor": "white",
          "polar": {
           "angularaxis": {
            "gridcolor": "rgb(232,232,232)",
            "linecolor": "rgb(36,36,36)",
            "showgrid": false,
            "showline": true,
            "ticks": "outside"
           },
           "bgcolor": "white",
           "radialaxis": {
            "gridcolor": "rgb(232,232,232)",
            "linecolor": "rgb(36,36,36)",
            "showgrid": false,
            "showline": true,
            "ticks": "outside"
           }
          },
          "scene": {
           "xaxis": {
            "backgroundcolor": "white",
            "gridcolor": "rgb(232,232,232)",
            "gridwidth": 2,
            "linecolor": "rgb(36,36,36)",
            "showbackground": true,
            "showgrid": false,
            "showline": true,
            "ticks": "outside",
            "zeroline": false,
            "zerolinecolor": "rgb(36,36,36)"
           },
           "yaxis": {
            "backgroundcolor": "white",
            "gridcolor": "rgb(232,232,232)",
            "gridwidth": 2,
            "linecolor": "rgb(36,36,36)",
            "showbackground": true,
            "showgrid": false,
            "showline": true,
            "ticks": "outside",
            "zeroline": false,
            "zerolinecolor": "rgb(36,36,36)"
           },
           "zaxis": {
            "backgroundcolor": "white",
            "gridcolor": "rgb(232,232,232)",
            "gridwidth": 2,
            "linecolor": "rgb(36,36,36)",
            "showbackground": true,
            "showgrid": false,
            "showline": true,
            "ticks": "outside",
            "zeroline": false,
            "zerolinecolor": "rgb(36,36,36)"
           }
          },
          "shapedefaults": {
           "fillcolor": "black",
           "line": {
            "width": 0
           },
           "opacity": 0.3
          },
          "ternary": {
           "aaxis": {
            "gridcolor": "rgb(232,232,232)",
            "linecolor": "rgb(36,36,36)",
            "showgrid": false,
            "showline": true,
            "ticks": "outside"
           },
           "baxis": {
            "gridcolor": "rgb(232,232,232)",
            "linecolor": "rgb(36,36,36)",
            "showgrid": false,
            "showline": true,
            "ticks": "outside"
           },
           "bgcolor": "white",
           "caxis": {
            "gridcolor": "rgb(232,232,232)",
            "linecolor": "rgb(36,36,36)",
            "showgrid": false,
            "showline": true,
            "ticks": "outside"
           }
          },
          "title": {
           "x": 0.05
          },
          "xaxis": {
           "automargin": true,
           "gridcolor": "rgb(232,232,232)",
           "linecolor": "rgb(36,36,36)",
           "showgrid": false,
           "showline": true,
           "ticks": "outside",
           "title": {
            "standoff": 15
           },
           "zeroline": false,
           "zerolinecolor": "rgb(36,36,36)"
          },
          "yaxis": {
           "automargin": true,
           "gridcolor": "rgb(232,232,232)",
           "linecolor": "rgb(36,36,36)",
           "showgrid": false,
           "showline": true,
           "ticks": "outside",
           "title": {
            "standoff": 15
           },
           "zeroline": false,
           "zerolinecolor": "rgb(36,36,36)"
          }
         }
        },
        "title": {
         "text": ""
        },
        "xaxis": {
         "showgrid": false,
         "showline": false,
         "showticklabels": false,
         "ticks": "",
         "title": {
          "text": ""
         },
         "zeroline": false
        },
        "yaxis": {
         "showgrid": false,
         "showline": false,
         "showticklabels": false,
         "ticks": "",
         "title": {
          "text": ""
         },
         "zeroline": false
        }
       }
      }
     },
     "metadata": {},
     "output_type": "display_data"
    }
   ],
   "source": [
    "import gtda.mapper as map\n",
    "import sklearn.cluster as cluster\n",
    "\n",
    "\n",
    "filter_func = l1_norm_trans\n",
    "cover = map.OneDimensionalCover(kind='uniform', n_intervals=30, overlap_frac=0.4)\n",
    "clusterer = cluster.DBSCAN()\n",
    "\n",
    "pipe = map.make_mapper_pipeline(\n",
    "    filter_func=filter_func,\n",
    "    cover=cover,\n",
    "    clusterer=clusterer,\n",
    "    verbose=False,\n",
    "    n_jobs=1,\n",
    ")\n",
    "\n",
    "fig = map.plot_static_mapper_graph(pipe, df_codes_array)\n",
    "fig.show(config={'scrollZoom': True})\n",
    "g = pipe.fit_transform(df_codes_array)"
   ]
  },
  {
   "cell_type": "code",
   "execution_count": 59,
   "metadata": {},
   "outputs": [
    {
     "data": {
      "image/png": "[encoded data removed]",
      "text/plain": [
       "<Figure size 640x480 with 1 Axes>"
      ]
     },
     "metadata": {},
     "output_type": "display_data"
    }
   ],
   "source": [
    "fig, ax = plt.subplots()\n",
    "ig.plot(g,target=ax,palette=ig.RainbowPalette(),\n",
    "    vertex_size=1,\n",
    "    edge_width=0.7)\n",
    "plt.show()"
   ]
  },
  {
   "cell_type": "code",
   "execution_count": 60,
   "metadata": {},
   "outputs": [
    {
     "data": {
      "text/plain": [
       "13"
      ]
     },
     "execution_count": 60,
     "metadata": {},
     "output_type": "execute_result"
    }
   ],
   "source": [
    "G = g.to_networkx()\n",
    "fuck_this = nx.connected_components(G)\n",
    "len(list(fuck_this))"
   ]
  },
  {
   "cell_type": "code",
   "execution_count": 61,
   "metadata": {},
   "outputs": [
    {
     "data": {
      "image/png": "[encoded data removed]",
      "text/plain": [
       "<Figure size 640x480 with 1 Axes>"
      ]
     },
     "metadata": {},
     "output_type": "display_data"
    }
   ],
   "source": [
    "#plot G\n",
    "nx.draw(G, node_size = 12)"
   ]
  },
  {
   "cell_type": "code",
   "execution_count": 51,
   "metadata": {},
   "outputs": [
    {
     "name": "stdout",
     "output_type": "stream",
     "text": [
      "Clustering with 29 elements and 14 clusters\n",
      "[ 0] 0, 1, 2, 3, 5, 6, 7, 8, 9, 13, 15, 16, 18\n",
      "[ 1] 4\n",
      "[ 2] 10, 11, 23\n",
      "[ 3] 12\n",
      "[ 4] 14\n",
      "[ 5] 17\n",
      "[ 6] 19\n",
      "[ 7] 20\n",
      "[ 8] 21\n",
      "[ 9] 22\n",
      "[10] 24\n",
      "[11] 25, 26\n",
      "[12] 27\n",
      "[13] 28\n"
     ]
    }
   ],
   "source": [
    "#connected components igraph\n",
    "fuck_me = ig.Graph.components(g)\n",
    "print(fuck_me)"
   ]
  },
  {
   "cell_type": "code",
   "execution_count": 52,
   "metadata": {},
   "outputs": [
    {
     "ename": "AttributeError",
     "evalue": "type object 'igraph._igraph.GraphBase' has no attribute 'connected_components'",
     "output_type": "error",
     "traceback": [
      "\u001b[0;31m---------------------------------------------------------------------------\u001b[0m",
      "\u001b[0;31mAttributeError\u001b[0m                            Traceback (most recent call last)",
      "\u001b[1;32mUntitled-1.ipynb Cell 16\u001b[0m line \u001b[0;36m1\n\u001b[0;32m----> <a href='vscode-notebook-cell:Untitled-1.ipynb?jupyter-notebook#X22sdW50aXRsZWQ%3D?line=0'>1</a>\u001b[0m fuck_me_again \u001b[39m=\u001b[39m ig\u001b[39m.\u001b[39;49mGraphBase\u001b[39m.\u001b[39;49mconnected_components(g)\n",
      "\u001b[0;31mAttributeError\u001b[0m: type object 'igraph._igraph.GraphBase' has no attribute 'connected_components'"
     ]
    }
   ],
   "source": [
    "nints= np.arange(5,55,5)\n",
    "olfrac = np.arange(0.1,.6,0.05)\n",
    "filter_func = l1_norm_trans\n",
    "\n",
    "for i in nints:\n",
    "    for j in olfrac:\n",
    "        cover = map.OneDimensionalCover(kind='uniform', n_intervals=int(i), overlap_frac=j)\n",
    "        clusterer = cluster.DBSCAN()\n",
    "\n",
    "        pipe = map.make_mapper_pipeline(\n",
    "            filter_func=filter_func,\n",
    "            cover=cover,    \n",
    "            clusterer=clusterer,\n",
    "            verbose=False,\n",
    "            n_jobs=1,\n",
    "        )\n",
    "\n",
    "        fig = map.plot_static_mapper_graph(pipe, df_codes_array_norm_tweet)\n",
    "        #fig.show(config={'scrollZoom': True})\n",
    "        fig.write_image('figures/ints_'+str(i)+'_olfrac'+str(j)+'.png')\n",
    "        graph = pipe.fit_transform(df_codes_array_norm_tweet)\n",
    "    "
   ]
  },
  {
   "cell_type": "code",
   "execution_count": null,
   "metadata": {},
   "outputs": [],
   "source": []
  }
 ],
 "metadata": {
  "kernelspec": {
   "display_name": "base",
   "language": "python",
   "name": "python3"
  },
  "language_info": {
   "codemirror_mode": {
    "name": "ipython",
    "version": 3
   },
   "file_extension": ".py",
   "mimetype": "text/x-python",
   "name": "python",
   "nbconvert_exporter": "python",
   "pygments_lexer": "ipython3",
   "version": "3.8.16"
  },
  "orig_nbformat": 4
 },
 "nbformat": 4,
 "nbformat_minor": 2
}
