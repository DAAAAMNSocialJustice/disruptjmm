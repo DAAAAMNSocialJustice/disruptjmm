{
 "cells": [
  {
   "cell_type": "markdown",
   "metadata": {},
   "source": [
    "# EVERYTHING IS CHAOS"
   ]
  },
  {
   "cell_type": "code",
   "execution_count": 1,
   "metadata": {},
   "outputs": [],
   "source": [
    "import igraph as ig\n",
    "import networkx as nx\n",
    "import numpy as np\n",
    "import pandas as pd\n",
    "import matplotlib.pyplot as plt"
   ]
  },
  {
   "cell_type": "markdown",
   "metadata": {},
   "source": [
    "## Data"
   ]
  },
  {
   "cell_type": "code",
   "execution_count": 2,
   "metadata": {},
   "outputs": [
    {
     "data": {
      "text/html": [
       "<div>\n",
       "<style scoped>\n",
       "    .dataframe tbody tr th:only-of-type {\n",
       "        vertical-align: middle;\n",
       "    }\n",
       "\n",
       "    .dataframe tbody tr th {\n",
       "        vertical-align: top;\n",
       "    }\n",
       "\n",
       "    .dataframe thead th {\n",
       "        text-align: right;\n",
       "    }\n",
       "</style>\n",
       "<table border=\"1\" class=\"dataframe\">\n",
       "  <thead>\n",
       "    <tr style=\"text-align: right;\">\n",
       "      <th></th>\n",
       "      <th>Unnamed: 0</th>\n",
       "      <th>tweet_id</th>\n",
       "      <th>user_username</th>\n",
       "      <th>text</th>\n",
       "      <th>created_at</th>\n",
       "      <th>conversation_id</th>\n",
       "      <th>lang</th>\n",
       "      <th>possibly_sensitive</th>\n",
       "      <th>author_id</th>\n",
       "      <th>source</th>\n",
       "      <th>...</th>\n",
       "      <th>Building community</th>\n",
       "      <th>BC code</th>\n",
       "      <th>Broadening the counterpublic</th>\n",
       "      <th>BtC code</th>\n",
       "      <th>Creating change in math</th>\n",
       "      <th>CCM code</th>\n",
       "      <th>SJEDI</th>\n",
       "      <th>SJEDI code</th>\n",
       "      <th>CODER</th>\n",
       "      <th>all codes</th>\n",
       "    </tr>\n",
       "  </thead>\n",
       "  <tbody>\n",
       "    <tr>\n",
       "      <th>0</th>\n",
       "      <td>1</td>\n",
       "      <td>1217856519670288384</td>\n",
       "      <td>mathyadriana</td>\n",
       "      <td>Anyone feel like looking through the list of i...</td>\n",
       "      <td>2020-01-16T17:09:55.000Z</td>\n",
       "      <td>1217856519670288384</td>\n",
       "      <td>en</td>\n",
       "      <td>False</td>\n",
       "      <td>776450766710136832</td>\n",
       "      <td>Twitter for iPhone</td>\n",
       "      <td>...</td>\n",
       "      <td>1</td>\n",
       "      <td>talk support</td>\n",
       "      <td>0</td>\n",
       "      <td></td>\n",
       "      <td>0</td>\n",
       "      <td></td>\n",
       "      <td>1</td>\n",
       "      <td>bipoc; lgbtq; gender</td>\n",
       "      <td>DL</td>\n",
       "      <td>[bipoc, gender, lgbtq, talk support]</td>\n",
       "    </tr>\n",
       "    <tr>\n",
       "      <th>1</th>\n",
       "      <td>5</td>\n",
       "      <td>1217856052579971073</td>\n",
       "      <td>mathprofcarrie</td>\n",
       "      <td>\"If you think that your right to speech is mor...</td>\n",
       "      <td>2020-01-16T17:08:04.000Z</td>\n",
       "      <td>1217856052579971073</td>\n",
       "      <td>en</td>\n",
       "      <td>False</td>\n",
       "      <td>31611970</td>\n",
       "      <td>Twitter for Android</td>\n",
       "      <td>...</td>\n",
       "      <td>1</td>\n",
       "      <td>talk support</td>\n",
       "      <td>1</td>\n",
       "      <td>influencers</td>\n",
       "      <td>0</td>\n",
       "      <td></td>\n",
       "      <td>1</td>\n",
       "      <td>representation</td>\n",
       "      <td>RR</td>\n",
       "      <td>[amplification, influencers, representation, t...</td>\n",
       "    </tr>\n",
       "    <tr>\n",
       "      <th>2</th>\n",
       "      <td>8</td>\n",
       "      <td>1217855474479046656</td>\n",
       "      <td>pwr2dppl</td>\n",
       "      <td>I ran at elevation to make it to @xl772's #Dis...</td>\n",
       "      <td>2020-01-16T17:05:46.000Z</td>\n",
       "      <td>1217855474479046656</td>\n",
       "      <td>en</td>\n",
       "      <td>False</td>\n",
       "      <td>3308531970</td>\n",
       "      <td>Twitter for Android</td>\n",
       "      <td>...</td>\n",
       "      <td>1</td>\n",
       "      <td>talk support; thankful</td>\n",
       "      <td>0</td>\n",
       "      <td></td>\n",
       "      <td>0</td>\n",
       "      <td></td>\n",
       "      <td>0</td>\n",
       "      <td></td>\n",
       "      <td>JH</td>\n",
       "      <td>[amplification, talk support, thankful]</td>\n",
       "    </tr>\n",
       "    <tr>\n",
       "      <th>3</th>\n",
       "      <td>9</td>\n",
       "      <td>1217854597747875840</td>\n",
       "      <td>mathprofcarrie</td>\n",
       "      <td>@WanderingPoint @xl772 @pwr2dppl Here!!! #disr...</td>\n",
       "      <td>2020-01-16T17:02:17.000Z</td>\n",
       "      <td>1217850650438049797</td>\n",
       "      <td>en</td>\n",
       "      <td>False</td>\n",
       "      <td>31611970</td>\n",
       "      <td>Twitter for Android</td>\n",
       "      <td>...</td>\n",
       "      <td>1</td>\n",
       "      <td>talk support; emotional support</td>\n",
       "      <td>0</td>\n",
       "      <td></td>\n",
       "      <td>0</td>\n",
       "      <td></td>\n",
       "      <td>0</td>\n",
       "      <td></td>\n",
       "      <td>DL</td>\n",
       "      <td>[emotional support, talk support]</td>\n",
       "    </tr>\n",
       "    <tr>\n",
       "      <th>4</th>\n",
       "      <td>10</td>\n",
       "      <td>1217852288385024000</td>\n",
       "      <td>mathprofcarrie</td>\n",
       "      <td>@xl772 @pwr2dppl Where and what? - let's get t...</td>\n",
       "      <td>2020-01-16T16:53:06.000Z</td>\n",
       "      <td>1217850650438049797</td>\n",
       "      <td>en</td>\n",
       "      <td>False</td>\n",
       "      <td>31611970</td>\n",
       "      <td>Twitter for Android</td>\n",
       "      <td>...</td>\n",
       "      <td>1</td>\n",
       "      <td>BC impact; talk support</td>\n",
       "      <td>0</td>\n",
       "      <td></td>\n",
       "      <td>0</td>\n",
       "      <td></td>\n",
       "      <td>0</td>\n",
       "      <td></td>\n",
       "      <td>RR</td>\n",
       "      <td>[BC impact, talk support]</td>\n",
       "    </tr>\n",
       "  </tbody>\n",
       "</table>\n",
       "<p>5 rows × 45 columns</p>\n",
       "</div>"
      ],
      "text/plain": [
       "   Unnamed: 0             tweet_id   user_username  \\\n",
       "0           1  1217856519670288384    mathyadriana   \n",
       "1           5  1217856052579971073  mathprofcarrie   \n",
       "2           8  1217855474479046656        pwr2dppl   \n",
       "3           9  1217854597747875840  mathprofcarrie   \n",
       "4          10  1217852288385024000  mathprofcarrie   \n",
       "\n",
       "                                                text  \\\n",
       "0  Anyone feel like looking through the list of i...   \n",
       "1  \"If you think that your right to speech is mor...   \n",
       "2  I ran at elevation to make it to @xl772's #Dis...   \n",
       "3  @WanderingPoint @xl772 @pwr2dppl Here!!! #disr...   \n",
       "4  @xl772 @pwr2dppl Where and what? - let's get t...   \n",
       "\n",
       "                 created_at      conversation_id lang  possibly_sensitive  \\\n",
       "0  2020-01-16T17:09:55.000Z  1217856519670288384   en               False   \n",
       "1  2020-01-16T17:08:04.000Z  1217856052579971073   en               False   \n",
       "2  2020-01-16T17:05:46.000Z  1217855474479046656   en               False   \n",
       "3  2020-01-16T17:02:17.000Z  1217850650438049797   en               False   \n",
       "4  2020-01-16T16:53:06.000Z  1217850650438049797   en               False   \n",
       "\n",
       "            author_id               source  ... Building community  \\\n",
       "0  776450766710136832   Twitter for iPhone  ...                  1   \n",
       "1            31611970  Twitter for Android  ...                  1   \n",
       "2          3308531970  Twitter for Android  ...                  1   \n",
       "3            31611970  Twitter for Android  ...                  1   \n",
       "4            31611970  Twitter for Android  ...                  1   \n",
       "\n",
       "                           BC code Broadening the counterpublic     BtC code  \\\n",
       "0                     talk support                            0                \n",
       "1                     talk support                            1  influencers   \n",
       "2           talk support; thankful                            0                \n",
       "3  talk support; emotional support                            0                \n",
       "4          BC impact; talk support                            0                \n",
       "\n",
       "   Creating change in math CCM code SJEDI            SJEDI code CODER  \\\n",
       "0                        0              1  bipoc; lgbtq; gender    DL   \n",
       "1                        0              1        representation    RR   \n",
       "2                        0              0                          JH   \n",
       "3                        0              0                          DL   \n",
       "4                        0              0                          RR   \n",
       "\n",
       "                                           all codes  \n",
       "0               [bipoc, gender, lgbtq, talk support]  \n",
       "1  [amplification, influencers, representation, t...  \n",
       "2            [amplification, talk support, thankful]  \n",
       "3                  [emotional support, talk support]  \n",
       "4                          [BC impact, talk support]  \n",
       "\n",
       "[5 rows x 45 columns]"
      ]
     },
     "execution_count": 2,
     "metadata": {},
     "output_type": "execute_result"
    }
   ],
   "source": [
    "df = pd.read_csv(\"/Users/rachelroca/Documents/Documents/GitHub/DAAAAMNdjmm/data cleaning/Final Coding.csv\",keep_default_na=False)\n",
    "#The codes were in 5 different columns; lets aggregate them into a new column\n",
    "df[\"all codes\"] = df[[\"SO code\",\"BC code\",\"BtC code\",\"CCM code\",\"SJEDI code\"]].agg(';'.join,axis=1)\n",
    "#We separated them by ;, so convert to an array \n",
    "df[\"all codes\"] = df[\"all codes\"].apply(lambda s: s.split(';'))\n",
    "#Strip out leading/trailing spaces\n",
    "df[\"all codes\"] = df[\"all codes\"].apply(lambda s: [t.strip() for t in s if t])\n",
    "#Sort the arrays, so we can be confident the same things are not listed in two different ways\n",
    "df[\"all codes\"] = np.array(df[\"all codes\"].apply(sorted))\n",
    "df.head()"
   ]
  },
  {
   "cell_type": "code",
   "execution_count": 3,
   "metadata": {},
   "outputs": [],
   "source": [
    "tweeters = df['user_username'].unique()\n",
    "codes = ['advocacy', 'amplification', 'emotional support', 'gender', 'indigenous', 'jmm experience', 'representation', 'bipoc', 'hashtags', 'influencers', 'power', 'talk support', 'humanize', 'math practice', 'current events', 'lgbtq', 'strategic planning', 'allyship in math', 'math experience', 'conversation', 'thankful', 'BC impact', 'disrupteverything', 'SJEDI impact', 'SO impact', 'belonging', 'learning', 'troll', 'CC impact', 'virtual participation', 'activation', 'futures', 'economic', 'beyond', 'celebration']\n"
   ]
  },
  {
   "cell_type": "code",
   "execution_count": 4,
   "metadata": {},
   "outputs": [],
   "source": [
    "df_codes = pd.DataFrame(columns = codes)\n",
    "num_tweets_retweets = np.zeros(len(tweeters))\n",
    "for i in range(len(tweeters)):\n",
    "    df_temp = df[df['user_username'] == tweeters[i]]\n",
    "    num_tweets_retweets[i] = len(df_temp)\n",
    "    #sum the all codes column\n",
    "    codes_sum_temp = df_temp['all codes'].sum()\n",
    "    #make a dictionary of the codes and how many times they appear in codes_sum_temp\n",
    "    codes_dict_temp = {i:codes_sum_temp.count(i) for i in codes}\n",
    "    #make the dictionary a dataframe\n",
    "    codes_dict_temp_df = pd.DataFrame.from_dict([codes_dict_temp])\n",
    "    #add the dictionary to the dataframe\n",
    "    df_codes = pd.concat([df_codes,codes_dict_temp_df], ignore_index=True)\n",
    "#make the indices the tweeters' names\n",
    "df_codes.index = tweeters"
   ]
  },
  {
   "cell_type": "code",
   "execution_count": 47,
   "metadata": {},
   "outputs": [
    {
     "data": {
      "text/html": [
       "<div>\n",
       "<style scoped>\n",
       "    .dataframe tbody tr th:only-of-type {\n",
       "        vertical-align: middle;\n",
       "    }\n",
       "\n",
       "    .dataframe tbody tr th {\n",
       "        vertical-align: top;\n",
       "    }\n",
       "\n",
       "    .dataframe thead th {\n",
       "        text-align: right;\n",
       "    }\n",
       "</style>\n",
       "<table border=\"1\" class=\"dataframe\">\n",
       "  <thead>\n",
       "    <tr style=\"text-align: right;\">\n",
       "      <th></th>\n",
       "      <th>advocacy</th>\n",
       "      <th>amplification</th>\n",
       "      <th>emotional support</th>\n",
       "      <th>gender</th>\n",
       "      <th>indigenous</th>\n",
       "      <th>jmm experience</th>\n",
       "      <th>representation</th>\n",
       "      <th>bipoc</th>\n",
       "      <th>hashtags</th>\n",
       "      <th>influencers</th>\n",
       "      <th>...</th>\n",
       "      <th>belonging</th>\n",
       "      <th>learning</th>\n",
       "      <th>troll</th>\n",
       "      <th>CC impact</th>\n",
       "      <th>virtual participation</th>\n",
       "      <th>activation</th>\n",
       "      <th>futures</th>\n",
       "      <th>economic</th>\n",
       "      <th>beyond</th>\n",
       "      <th>celebration</th>\n",
       "    </tr>\n",
       "  </thead>\n",
       "  <tbody>\n",
       "    <tr>\n",
       "      <th>mathyadriana</th>\n",
       "      <td>1</td>\n",
       "      <td>6</td>\n",
       "      <td>1</td>\n",
       "      <td>2</td>\n",
       "      <td>1</td>\n",
       "      <td>2</td>\n",
       "      <td>5</td>\n",
       "      <td>2</td>\n",
       "      <td>3</td>\n",
       "      <td>2</td>\n",
       "      <td>...</td>\n",
       "      <td>0</td>\n",
       "      <td>1</td>\n",
       "      <td>0</td>\n",
       "      <td>0</td>\n",
       "      <td>0</td>\n",
       "      <td>0</td>\n",
       "      <td>0</td>\n",
       "      <td>0</td>\n",
       "      <td>0</td>\n",
       "      <td>0</td>\n",
       "    </tr>\n",
       "    <tr>\n",
       "      <th>mathprofcarrie</th>\n",
       "      <td>7</td>\n",
       "      <td>69</td>\n",
       "      <td>3</td>\n",
       "      <td>11</td>\n",
       "      <td>14</td>\n",
       "      <td>2</td>\n",
       "      <td>25</td>\n",
       "      <td>11</td>\n",
       "      <td>47</td>\n",
       "      <td>33</td>\n",
       "      <td>...</td>\n",
       "      <td>4</td>\n",
       "      <td>6</td>\n",
       "      <td>0</td>\n",
       "      <td>2</td>\n",
       "      <td>1</td>\n",
       "      <td>1</td>\n",
       "      <td>1</td>\n",
       "      <td>1</td>\n",
       "      <td>0</td>\n",
       "      <td>0</td>\n",
       "    </tr>\n",
       "    <tr>\n",
       "      <th>pwr2dppl</th>\n",
       "      <td>8</td>\n",
       "      <td>51</td>\n",
       "      <td>7</td>\n",
       "      <td>8</td>\n",
       "      <td>12</td>\n",
       "      <td>6</td>\n",
       "      <td>20</td>\n",
       "      <td>12</td>\n",
       "      <td>39</td>\n",
       "      <td>28</td>\n",
       "      <td>...</td>\n",
       "      <td>5</td>\n",
       "      <td>1</td>\n",
       "      <td>0</td>\n",
       "      <td>2</td>\n",
       "      <td>0</td>\n",
       "      <td>1</td>\n",
       "      <td>0</td>\n",
       "      <td>0</td>\n",
       "      <td>0</td>\n",
       "      <td>0</td>\n",
       "    </tr>\n",
       "    <tr>\n",
       "      <th>xl772</th>\n",
       "      <td>2</td>\n",
       "      <td>6</td>\n",
       "      <td>1</td>\n",
       "      <td>1</td>\n",
       "      <td>2</td>\n",
       "      <td>1</td>\n",
       "      <td>6</td>\n",
       "      <td>0</td>\n",
       "      <td>3</td>\n",
       "      <td>4</td>\n",
       "      <td>...</td>\n",
       "      <td>0</td>\n",
       "      <td>0</td>\n",
       "      <td>0</td>\n",
       "      <td>0</td>\n",
       "      <td>0</td>\n",
       "      <td>0</td>\n",
       "      <td>0</td>\n",
       "      <td>0</td>\n",
       "      <td>0</td>\n",
       "      <td>0</td>\n",
       "    </tr>\n",
       "    <tr>\n",
       "      <th>WanderingPoint</th>\n",
       "      <td>1</td>\n",
       "      <td>11</td>\n",
       "      <td>3</td>\n",
       "      <td>1</td>\n",
       "      <td>4</td>\n",
       "      <td>2</td>\n",
       "      <td>6</td>\n",
       "      <td>1</td>\n",
       "      <td>8</td>\n",
       "      <td>5</td>\n",
       "      <td>...</td>\n",
       "      <td>0</td>\n",
       "      <td>0</td>\n",
       "      <td>0</td>\n",
       "      <td>1</td>\n",
       "      <td>0</td>\n",
       "      <td>0</td>\n",
       "      <td>0</td>\n",
       "      <td>0</td>\n",
       "      <td>0</td>\n",
       "      <td>0</td>\n",
       "    </tr>\n",
       "    <tr>\n",
       "      <th>...</th>\n",
       "      <td>...</td>\n",
       "      <td>...</td>\n",
       "      <td>...</td>\n",
       "      <td>...</td>\n",
       "      <td>...</td>\n",
       "      <td>...</td>\n",
       "      <td>...</td>\n",
       "      <td>...</td>\n",
       "      <td>...</td>\n",
       "      <td>...</td>\n",
       "      <td>...</td>\n",
       "      <td>...</td>\n",
       "      <td>...</td>\n",
       "      <td>...</td>\n",
       "      <td>...</td>\n",
       "      <td>...</td>\n",
       "      <td>...</td>\n",
       "      <td>...</td>\n",
       "      <td>...</td>\n",
       "      <td>...</td>\n",
       "      <td>...</td>\n",
       "    </tr>\n",
       "    <tr>\n",
       "      <th>superyarn</th>\n",
       "      <td>1</td>\n",
       "      <td>1</td>\n",
       "      <td>1</td>\n",
       "      <td>1</td>\n",
       "      <td>1</td>\n",
       "      <td>1</td>\n",
       "      <td>1</td>\n",
       "      <td>0</td>\n",
       "      <td>0</td>\n",
       "      <td>0</td>\n",
       "      <td>...</td>\n",
       "      <td>0</td>\n",
       "      <td>0</td>\n",
       "      <td>0</td>\n",
       "      <td>0</td>\n",
       "      <td>0</td>\n",
       "      <td>0</td>\n",
       "      <td>0</td>\n",
       "      <td>0</td>\n",
       "      <td>0</td>\n",
       "      <td>0</td>\n",
       "    </tr>\n",
       "    <tr>\n",
       "      <th>dbdoughe</th>\n",
       "      <td>1</td>\n",
       "      <td>1</td>\n",
       "      <td>1</td>\n",
       "      <td>1</td>\n",
       "      <td>1</td>\n",
       "      <td>1</td>\n",
       "      <td>1</td>\n",
       "      <td>0</td>\n",
       "      <td>0</td>\n",
       "      <td>0</td>\n",
       "      <td>...</td>\n",
       "      <td>0</td>\n",
       "      <td>0</td>\n",
       "      <td>0</td>\n",
       "      <td>0</td>\n",
       "      <td>0</td>\n",
       "      <td>0</td>\n",
       "      <td>0</td>\n",
       "      <td>0</td>\n",
       "      <td>0</td>\n",
       "      <td>0</td>\n",
       "    </tr>\n",
       "    <tr>\n",
       "      <th>cordesm</th>\n",
       "      <td>1</td>\n",
       "      <td>1</td>\n",
       "      <td>1</td>\n",
       "      <td>1</td>\n",
       "      <td>1</td>\n",
       "      <td>1</td>\n",
       "      <td>1</td>\n",
       "      <td>0</td>\n",
       "      <td>0</td>\n",
       "      <td>0</td>\n",
       "      <td>...</td>\n",
       "      <td>0</td>\n",
       "      <td>0</td>\n",
       "      <td>0</td>\n",
       "      <td>0</td>\n",
       "      <td>0</td>\n",
       "      <td>0</td>\n",
       "      <td>0</td>\n",
       "      <td>0</td>\n",
       "      <td>0</td>\n",
       "      <td>0</td>\n",
       "    </tr>\n",
       "    <tr>\n",
       "      <th>f_futamura</th>\n",
       "      <td>1</td>\n",
       "      <td>1</td>\n",
       "      <td>1</td>\n",
       "      <td>1</td>\n",
       "      <td>1</td>\n",
       "      <td>1</td>\n",
       "      <td>1</td>\n",
       "      <td>0</td>\n",
       "      <td>0</td>\n",
       "      <td>0</td>\n",
       "      <td>...</td>\n",
       "      <td>0</td>\n",
       "      <td>0</td>\n",
       "      <td>0</td>\n",
       "      <td>0</td>\n",
       "      <td>0</td>\n",
       "      <td>0</td>\n",
       "      <td>0</td>\n",
       "      <td>0</td>\n",
       "      <td>0</td>\n",
       "      <td>0</td>\n",
       "    </tr>\n",
       "    <tr>\n",
       "      <th>noellebeckman</th>\n",
       "      <td>0</td>\n",
       "      <td>0</td>\n",
       "      <td>0</td>\n",
       "      <td>1</td>\n",
       "      <td>0</td>\n",
       "      <td>0</td>\n",
       "      <td>0</td>\n",
       "      <td>0</td>\n",
       "      <td>0</td>\n",
       "      <td>0</td>\n",
       "      <td>...</td>\n",
       "      <td>0</td>\n",
       "      <td>0</td>\n",
       "      <td>0</td>\n",
       "      <td>0</td>\n",
       "      <td>0</td>\n",
       "      <td>0</td>\n",
       "      <td>0</td>\n",
       "      <td>0</td>\n",
       "      <td>0</td>\n",
       "      <td>0</td>\n",
       "    </tr>\n",
       "  </tbody>\n",
       "</table>\n",
       "<p>328 rows × 35 columns</p>\n",
       "</div>"
      ],
      "text/plain": [
       "               advocacy amplification emotional support gender indigenous  \\\n",
       "mathyadriana          1             6                 1      2          1   \n",
       "mathprofcarrie        7            69                 3     11         14   \n",
       "pwr2dppl              8            51                 7      8         12   \n",
       "xl772                 2             6                 1      1          2   \n",
       "WanderingPoint        1            11                 3      1          4   \n",
       "...                 ...           ...               ...    ...        ...   \n",
       "superyarn             1             1                 1      1          1   \n",
       "dbdoughe              1             1                 1      1          1   \n",
       "cordesm               1             1                 1      1          1   \n",
       "f_futamura            1             1                 1      1          1   \n",
       "noellebeckman         0             0                 0      1          0   \n",
       "\n",
       "               jmm experience representation bipoc hashtags influencers  ...  \\\n",
       "mathyadriana                2              5     2        3           2  ...   \n",
       "mathprofcarrie              2             25    11       47          33  ...   \n",
       "pwr2dppl                    6             20    12       39          28  ...   \n",
       "xl772                       1              6     0        3           4  ...   \n",
       "WanderingPoint              2              6     1        8           5  ...   \n",
       "...                       ...            ...   ...      ...         ...  ...   \n",
       "superyarn                   1              1     0        0           0  ...   \n",
       "dbdoughe                    1              1     0        0           0  ...   \n",
       "cordesm                     1              1     0        0           0  ...   \n",
       "f_futamura                  1              1     0        0           0  ...   \n",
       "noellebeckman               0              0     0        0           0  ...   \n",
       "\n",
       "               belonging learning troll CC impact virtual participation  \\\n",
       "mathyadriana           0        1     0         0                     0   \n",
       "mathprofcarrie         4        6     0         2                     1   \n",
       "pwr2dppl               5        1     0         2                     0   \n",
       "xl772                  0        0     0         0                     0   \n",
       "WanderingPoint         0        0     0         1                     0   \n",
       "...                  ...      ...   ...       ...                   ...   \n",
       "superyarn              0        0     0         0                     0   \n",
       "dbdoughe               0        0     0         0                     0   \n",
       "cordesm                0        0     0         0                     0   \n",
       "f_futamura             0        0     0         0                     0   \n",
       "noellebeckman          0        0     0         0                     0   \n",
       "\n",
       "               activation futures economic beyond celebration  \n",
       "mathyadriana            0       0        0      0           0  \n",
       "mathprofcarrie          1       1        1      0           0  \n",
       "pwr2dppl                1       0        0      0           0  \n",
       "xl772                   0       0        0      0           0  \n",
       "WanderingPoint          0       0        0      0           0  \n",
       "...                   ...     ...      ...    ...         ...  \n",
       "superyarn               0       0        0      0           0  \n",
       "dbdoughe                0       0        0      0           0  \n",
       "cordesm                 0       0        0      0           0  \n",
       "f_futamura              0       0        0      0           0  \n",
       "noellebeckman           0       0        0      0           0  \n",
       "\n",
       "[328 rows x 35 columns]"
      ]
     },
     "execution_count": 47,
     "metadata": {},
     "output_type": "execute_result"
    }
   ],
   "source": []
  },
  {
   "cell_type": "code",
   "execution_count": 5,
   "metadata": {},
   "outputs": [],
   "source": [
    "#make the dataframe into a numpy array\n",
    "df_codes_array = df_codes.to_numpy()\n",
    "df_codes_array=df_codes_array.astype('i')"
   ]
  },
  {
   "cell_type": "code",
   "execution_count": 6,
   "metadata": {},
   "outputs": [],
   "source": [
    "#let's try normalizing because data be wild\n",
    "#divide each row by the number of tweets/retweets\n",
    "df_codes_array_norm_tweet = np.zeros((len(tweeters),len(codes)))\n",
    "for i in range(len(tweeters)):\n",
    "    df_codes_array_norm_tweet[i] = df_codes_array[i]/num_tweets_retweets[i]"
   ]
  },
  {
   "cell_type": "markdown",
   "metadata": {},
   "source": [
    "## Mapper"
   ]
  },
  {
   "cell_type": "markdown",
   "metadata": {},
   "source": [
    "### L1 norm"
   ]
  },
  {
   "cell_type": "code",
   "execution_count": 7,
   "metadata": {},
   "outputs": [
    {
     "name": "stderr",
     "output_type": "stream",
     "text": [
      "<frozen importlib._bootstrap>:219: RuntimeWarning: scipy._lib.messagestream.MessageStream size changed, may indicate binary incompatibility. Expected 56 from C header, got 64 from PyObject\n"
     ]
    }
   ],
   "source": [
    "#getting the filter function\n",
    "def l1_norm(X):\n",
    "    #take the l1 norm of each row\n",
    "    return np.linalg.norm(X, ord=1, axis=1).reshape(-1, 1)\n",
    "\n",
    "def linf_norm(X):\n",
    "    #take the l1 norm of each row\n",
    "    return np.linalg.norm(X, ord=np.inf, axis=1).reshape(-1, 1)\n",
    "\n",
    "from sklearn.preprocessing import FunctionTransformer\n",
    "l1_norm_trans = FunctionTransformer(l1_norm)\n",
    "\n",
    "linf_norm_trans = FunctionTransformer(linf_norm)"
   ]
  },
  {
   "cell_type": "code",
   "execution_count": 8,
   "metadata": {},
   "outputs": [
    {
     "data": {
      "application/vnd.plotly.v1+json": {
       "config": {
        "plotlyServerURL": "https://plot.ly",
        "scrollZoom": true
       },
       "data": [
        {
         "hoverinfo": "none",
         "line": {
          "color": "#888",
          "width": 1
         },
         "mode": "lines",
         "name": "edge_trace",
         "type": "scatter",
         "uid": "0c868e61-8033-4f20-afdc-a502f0baaa3b",
         "x": [
          0.03212823860788389,
          0.8123354756967378,
          null,
          0.03212823860788389,
          -0.16945954534155075,
          null,
          -0.8310965696652141,
          -1.6095224705902942,
          null,
          -0.8310965696652141,
          -0.16945954534155075,
          null,
          1.1179379251156407,
          0.8123354756967378,
          null
         ],
         "y": [
          2.9290581381236533,
          2.750545054900453,
          null,
          2.9290581381236533,
          3.7002843611138028,
          null,
          4.099159708521249,
          4.067637266581172,
          null,
          4.099159708521249,
          3.7002843611138028,
          null,
          2.0282434816917467,
          2.750545054900453,
          null
         ]
        },
        {
         "hoverinfo": "text",
         "hovertext": [
          "Node ID: 0<br>Pullback set label: 2<br>Partial cluster label: -1<br>Node size: 9<br>Summary statistic: 40.3",
          "Node ID: 1<br>Pullback set label: 10<br>Partial cluster label: -1<br>Node size: 1<br>Summary statistic: 1.0",
          "Node ID: 2<br>Pullback set label: 9<br>Partial cluster label: -1<br>Node size: 1<br>Summary statistic: 2.0",
          "Node ID: 3<br>Pullback set label: 4<br>Partial cluster label: -1<br>Node size: 3<br>Summary statistic: 13.7",
          "Node ID: 4<br>Pullback set label: 5<br>Partial cluster label: -1<br>Node size: 2<br>Summary statistic: 41.0",
          "Node ID: 5<br>Pullback set label: 6<br>Partial cluster label: -1<br>Node size: 1<br>Summary statistic: 5.0",
          "Node ID: 6<br>Pullback set label: 0<br>Partial cluster label: -1<br>Node size: 185<br>Summary statistic: 144.0",
          "Node ID: 7<br>Pullback set label: 1<br>Partial cluster label: -1<br>Node size: 37<br>Summary statistic: 89.9",
          "Node ID: 8<br>Pullback set label: 3<br>Partial cluster label: -1<br>Node size: 6<br>Summary statistic: 35.2",
          "Node ID: 9<br>Pullback set label: 7<br>Partial cluster label: -1<br>Node size: 1<br>Summary statistic: 14.0",
          "Node ID: 10<br>Pullback set label: 0<br>Partial cluster label: 0<br>Node size: 5<br>Summary statistic: 174.0",
          "Node ID: 11<br>Pullback set label: 8<br>Partial cluster label: -1<br>Node size: 1<br>Summary statistic: 84.0",
          "Node ID: 12<br>Pullback set label: 0<br>Partial cluster label: 1<br>Node size: 45<br>Summary statistic: 219.0",
          "Node ID: 13<br>Pullback set label: 0<br>Partial cluster label: 2<br>Node size: 6<br>Summary statistic: 206.0",
          "Node ID: 14<br>Pullback set label: 0<br>Partial cluster label: 3<br>Node size: 5<br>Summary statistic: 166.0",
          "Node ID: 15<br>Pullback set label: 0<br>Partial cluster label: 4<br>Node size: 26<br>Summary statistic: 220.0",
          "Node ID: 16<br>Pullback set label: 0<br>Partial cluster label: 5<br>Node size: 8<br>Summary statistic: 195.0",
          "Node ID: 17<br>Pullback set label: 0<br>Partial cluster label: 6<br>Node size: 20<br>Summary statistic: 269.0"
         ],
         "marker": {
          "color": [
           40.333333333333336,
           1,
           2,
           13.666666666666666,
           41,
           5,
           144.43783783783783,
           89.91891891891892,
           35.166666666666664,
           14,
           173.6,
           84,
           219.0888888888889,
           206.5,
           166.4,
           219.80769230769232,
           195.25,
           268.8
          ],
          "colorbar": {
           "thickness": 15,
           "title": {
            "side": "right",
            "text": ""
           },
           "xanchor": "left"
          },
          "colorscale": [
           [
            0,
            "#440154"
           ],
           [
            0.1111111111111111,
            "#482878"
           ],
           [
            0.2222222222222222,
            "#3e4989"
           ],
           [
            0.3333333333333333,
            "#31688e"
           ],
           [
            0.4444444444444444,
            "#26828e"
           ],
           [
            0.5555555555555556,
            "#1f9e89"
           ],
           [
            0.6666666666666666,
            "#35b779"
           ],
           [
            0.7777777777777778,
            "#6ece58"
           ],
           [
            0.8888888888888888,
            "#b5de2b"
           ],
           [
            1,
            "#fde725"
           ]
          ],
          "line": {
           "color": "#888",
           "width": 1
          },
          "opacity": 1,
          "reversescale": false,
          "showscale": true,
          "size": [
           9,
           1,
           1,
           3,
           2,
           1,
           185,
           37,
           6,
           1,
           5,
           1,
           45,
           6,
           5,
           26,
           8,
           20
          ],
          "sizemin": 4,
          "sizemode": "area",
          "sizeref": 2.5694444444444446
         },
         "mode": "markers",
         "name": "node_trace",
         "type": "scatter",
         "uid": "12ae4697-fa24-4147-9fa2-defc459208f8",
         "x": [
          0.03212823860788389,
          -2.9266842074126136,
          -3.8450994318050906,
          -0.8310965696652141,
          -1.6095224705902942,
          1.3549972205209229,
          1.1179379251156407,
          0.8123354756967378,
          -0.16945954534155075,
          -3.1583628601147367,
          -3.799242092114605,
          -4.4416280108678405,
          -4.397899690420837,
          -2.573400234714795,
          -1.772652222631172,
          -0.47295329743506404,
          0.5519054854861078,
          -1.15890700772098
         ],
         "y": [
          2.9290581381236533,
          -0.986834464690697,
          -0.22916540296296034,
          4.099159708521249,
          4.067637266581172,
          0.4558186130481695,
          2.0282434816917467,
          2.750545054900453,
          3.7002843611138028,
          4.1933759009855684,
          3.16393673161594,
          2.157606032745415,
          0.8820746547145699,
          1.468137074864255,
          -1.4035001035096688,
          -1.277855694475863,
          -0.5045574351091581,
          0.4068907697543185
         ]
        }
       ],
       "layout": {
        "autosize": false,
        "hovermode": "closest",
        "margin": {
         "b": 20,
         "l": 5,
         "r": 5,
         "t": 40
        },
        "showlegend": false,
        "template": {
         "data": {
          "bar": [
           {
            "error_x": {
             "color": "rgb(36,36,36)"
            },
            "error_y": {
             "color": "rgb(36,36,36)"
            },
            "marker": {
             "line": {
              "color": "white",
              "width": 0.5
             },
             "pattern": {
              "fillmode": "overlay",
              "size": 10,
              "solidity": 0.2
             }
            },
            "type": "bar"
           }
          ],
          "barpolar": [
           {
            "marker": {
             "line": {
              "color": "white",
              "width": 0.5
             },
             "pattern": {
              "fillmode": "overlay",
              "size": 10,
              "solidity": 0.2
             }
            },
            "type": "barpolar"
           }
          ],
          "carpet": [
           {
            "aaxis": {
             "endlinecolor": "rgb(36,36,36)",
             "gridcolor": "white",
             "linecolor": "white",
             "minorgridcolor": "white",
             "startlinecolor": "rgb(36,36,36)"
            },
            "baxis": {
             "endlinecolor": "rgb(36,36,36)",
             "gridcolor": "white",
             "linecolor": "white",
             "minorgridcolor": "white",
             "startlinecolor": "rgb(36,36,36)"
            },
            "type": "carpet"
           }
          ],
          "choropleth": [
           {
            "colorbar": {
             "outlinewidth": 1,
             "tickcolor": "rgb(36,36,36)",
             "ticks": "outside"
            },
            "type": "choropleth"
           }
          ],
          "contour": [
           {
            "colorbar": {
             "outlinewidth": 1,
             "tickcolor": "rgb(36,36,36)",
             "ticks": "outside"
            },
            "colorscale": [
             [
              0,
              "#440154"
             ],
             [
              0.1111111111111111,
              "#482878"
             ],
             [
              0.2222222222222222,
              "#3e4989"
             ],
             [
              0.3333333333333333,
              "#31688e"
             ],
             [
              0.4444444444444444,
              "#26828e"
             ],
             [
              0.5555555555555556,
              "#1f9e89"
             ],
             [
              0.6666666666666666,
              "#35b779"
             ],
             [
              0.7777777777777778,
              "#6ece58"
             ],
             [
              0.8888888888888888,
              "#b5de2b"
             ],
             [
              1,
              "#fde725"
             ]
            ],
            "type": "contour"
           }
          ],
          "contourcarpet": [
           {
            "colorbar": {
             "outlinewidth": 1,
             "tickcolor": "rgb(36,36,36)",
             "ticks": "outside"
            },
            "type": "contourcarpet"
           }
          ],
          "heatmap": [
           {
            "colorbar": {
             "outlinewidth": 1,
             "tickcolor": "rgb(36,36,36)",
             "ticks": "outside"
            },
            "colorscale": [
             [
              0,
              "#440154"
             ],
             [
              0.1111111111111111,
              "#482878"
             ],
             [
              0.2222222222222222,
              "#3e4989"
             ],
             [
              0.3333333333333333,
              "#31688e"
             ],
             [
              0.4444444444444444,
              "#26828e"
             ],
             [
              0.5555555555555556,
              "#1f9e89"
             ],
             [
              0.6666666666666666,
              "#35b779"
             ],
             [
              0.7777777777777778,
              "#6ece58"
             ],
             [
              0.8888888888888888,
              "#b5de2b"
             ],
             [
              1,
              "#fde725"
             ]
            ],
            "type": "heatmap"
           }
          ],
          "heatmapgl": [
           {
            "colorbar": {
             "outlinewidth": 1,
             "tickcolor": "rgb(36,36,36)",
             "ticks": "outside"
            },
            "colorscale": [
             [
              0,
              "#440154"
             ],
             [
              0.1111111111111111,
              "#482878"
             ],
             [
              0.2222222222222222,
              "#3e4989"
             ],
             [
              0.3333333333333333,
              "#31688e"
             ],
             [
              0.4444444444444444,
              "#26828e"
             ],
             [
              0.5555555555555556,
              "#1f9e89"
             ],
             [
              0.6666666666666666,
              "#35b779"
             ],
             [
              0.7777777777777778,
              "#6ece58"
             ],
             [
              0.8888888888888888,
              "#b5de2b"
             ],
             [
              1,
              "#fde725"
             ]
            ],
            "type": "heatmapgl"
           }
          ],
          "histogram": [
           {
            "marker": {
             "line": {
              "color": "white",
              "width": 0.6
             }
            },
            "type": "histogram"
           }
          ],
          "histogram2d": [
           {
            "colorbar": {
             "outlinewidth": 1,
             "tickcolor": "rgb(36,36,36)",
             "ticks": "outside"
            },
            "colorscale": [
             [
              0,
              "#440154"
             ],
             [
              0.1111111111111111,
              "#482878"
             ],
             [
              0.2222222222222222,
              "#3e4989"
             ],
             [
              0.3333333333333333,
              "#31688e"
             ],
             [
              0.4444444444444444,
              "#26828e"
             ],
             [
              0.5555555555555556,
              "#1f9e89"
             ],
             [
              0.6666666666666666,
              "#35b779"
             ],
             [
              0.7777777777777778,
              "#6ece58"
             ],
             [
              0.8888888888888888,
              "#b5de2b"
             ],
             [
              1,
              "#fde725"
             ]
            ],
            "type": "histogram2d"
           }
          ],
          "histogram2dcontour": [
           {
            "colorbar": {
             "outlinewidth": 1,
             "tickcolor": "rgb(36,36,36)",
             "ticks": "outside"
            },
            "colorscale": [
             [
              0,
              "#440154"
             ],
             [
              0.1111111111111111,
              "#482878"
             ],
             [
              0.2222222222222222,
              "#3e4989"
             ],
             [
              0.3333333333333333,
              "#31688e"
             ],
             [
              0.4444444444444444,
              "#26828e"
             ],
             [
              0.5555555555555556,
              "#1f9e89"
             ],
             [
              0.6666666666666666,
              "#35b779"
             ],
             [
              0.7777777777777778,
              "#6ece58"
             ],
             [
              0.8888888888888888,
              "#b5de2b"
             ],
             [
              1,
              "#fde725"
             ]
            ],
            "type": "histogram2dcontour"
           }
          ],
          "mesh3d": [
           {
            "colorbar": {
             "outlinewidth": 1,
             "tickcolor": "rgb(36,36,36)",
             "ticks": "outside"
            },
            "type": "mesh3d"
           }
          ],
          "parcoords": [
           {
            "line": {
             "colorbar": {
              "outlinewidth": 1,
              "tickcolor": "rgb(36,36,36)",
              "ticks": "outside"
             }
            },
            "type": "parcoords"
           }
          ],
          "pie": [
           {
            "automargin": true,
            "type": "pie"
           }
          ],
          "scatter": [
           {
            "fillpattern": {
             "fillmode": "overlay",
             "size": 10,
             "solidity": 0.2
            },
            "type": "scatter"
           }
          ],
          "scatter3d": [
           {
            "line": {
             "colorbar": {
              "outlinewidth": 1,
              "tickcolor": "rgb(36,36,36)",
              "ticks": "outside"
             }
            },
            "marker": {
             "colorbar": {
              "outlinewidth": 1,
              "tickcolor": "rgb(36,36,36)",
              "ticks": "outside"
             }
            },
            "type": "scatter3d"
           }
          ],
          "scattercarpet": [
           {
            "marker": {
             "colorbar": {
              "outlinewidth": 1,
              "tickcolor": "rgb(36,36,36)",
              "ticks": "outside"
             }
            },
            "type": "scattercarpet"
           }
          ],
          "scattergeo": [
           {
            "marker": {
             "colorbar": {
              "outlinewidth": 1,
              "tickcolor": "rgb(36,36,36)",
              "ticks": "outside"
             }
            },
            "type": "scattergeo"
           }
          ],
          "scattergl": [
           {
            "marker": {
             "colorbar": {
              "outlinewidth": 1,
              "tickcolor": "rgb(36,36,36)",
              "ticks": "outside"
             }
            },
            "type": "scattergl"
           }
          ],
          "scattermapbox": [
           {
            "marker": {
             "colorbar": {
              "outlinewidth": 1,
              "tickcolor": "rgb(36,36,36)",
              "ticks": "outside"
             }
            },
            "type": "scattermapbox"
           }
          ],
          "scatterpolar": [
           {
            "marker": {
             "colorbar": {
              "outlinewidth": 1,
              "tickcolor": "rgb(36,36,36)",
              "ticks": "outside"
             }
            },
            "type": "scatterpolar"
           }
          ],
          "scatterpolargl": [
           {
            "marker": {
             "colorbar": {
              "outlinewidth": 1,
              "tickcolor": "rgb(36,36,36)",
              "ticks": "outside"
             }
            },
            "type": "scatterpolargl"
           }
          ],
          "scatterternary": [
           {
            "marker": {
             "colorbar": {
              "outlinewidth": 1,
              "tickcolor": "rgb(36,36,36)",
              "ticks": "outside"
             }
            },
            "type": "scatterternary"
           }
          ],
          "surface": [
           {
            "colorbar": {
             "outlinewidth": 1,
             "tickcolor": "rgb(36,36,36)",
             "ticks": "outside"
            },
            "colorscale": [
             [
              0,
              "#440154"
             ],
             [
              0.1111111111111111,
              "#482878"
             ],
             [
              0.2222222222222222,
              "#3e4989"
             ],
             [
              0.3333333333333333,
              "#31688e"
             ],
             [
              0.4444444444444444,
              "#26828e"
             ],
             [
              0.5555555555555556,
              "#1f9e89"
             ],
             [
              0.6666666666666666,
              "#35b779"
             ],
             [
              0.7777777777777778,
              "#6ece58"
             ],
             [
              0.8888888888888888,
              "#b5de2b"
             ],
             [
              1,
              "#fde725"
             ]
            ],
            "type": "surface"
           }
          ],
          "table": [
           {
            "cells": {
             "fill": {
              "color": "rgb(237,237,237)"
             },
             "line": {
              "color": "white"
             }
            },
            "header": {
             "fill": {
              "color": "rgb(217,217,217)"
             },
             "line": {
              "color": "white"
             }
            },
            "type": "table"
           }
          ]
         },
         "layout": {
          "annotationdefaults": {
           "arrowhead": 0,
           "arrowwidth": 1
          },
          "autotypenumbers": "strict",
          "coloraxis": {
           "colorbar": {
            "outlinewidth": 1,
            "tickcolor": "rgb(36,36,36)",
            "ticks": "outside"
           }
          },
          "colorscale": {
           "diverging": [
            [
             0,
             "rgb(103,0,31)"
            ],
            [
             0.1,
             "rgb(178,24,43)"
            ],
            [
             0.2,
             "rgb(214,96,77)"
            ],
            [
             0.3,
             "rgb(244,165,130)"
            ],
            [
             0.4,
             "rgb(253,219,199)"
            ],
            [
             0.5,
             "rgb(247,247,247)"
            ],
            [
             0.6,
             "rgb(209,229,240)"
            ],
            [
             0.7,
             "rgb(146,197,222)"
            ],
            [
             0.8,
             "rgb(67,147,195)"
            ],
            [
             0.9,
             "rgb(33,102,172)"
            ],
            [
             1,
             "rgb(5,48,97)"
            ]
           ],
           "sequential": [
            [
             0,
             "#440154"
            ],
            [
             0.1111111111111111,
             "#482878"
            ],
            [
             0.2222222222222222,
             "#3e4989"
            ],
            [
             0.3333333333333333,
             "#31688e"
            ],
            [
             0.4444444444444444,
             "#26828e"
            ],
            [
             0.5555555555555556,
             "#1f9e89"
            ],
            [
             0.6666666666666666,
             "#35b779"
            ],
            [
             0.7777777777777778,
             "#6ece58"
            ],
            [
             0.8888888888888888,
             "#b5de2b"
            ],
            [
             1,
             "#fde725"
            ]
           ],
           "sequentialminus": [
            [
             0,
             "#440154"
            ],
            [
             0.1111111111111111,
             "#482878"
            ],
            [
             0.2222222222222222,
             "#3e4989"
            ],
            [
             0.3333333333333333,
             "#31688e"
            ],
            [
             0.4444444444444444,
             "#26828e"
            ],
            [
             0.5555555555555556,
             "#1f9e89"
            ],
            [
             0.6666666666666666,
             "#35b779"
            ],
            [
             0.7777777777777778,
             "#6ece58"
            ],
            [
             0.8888888888888888,
             "#b5de2b"
            ],
            [
             1,
             "#fde725"
            ]
           ]
          },
          "colorway": [
           "#1F77B4",
           "#FF7F0E",
           "#2CA02C",
           "#D62728",
           "#9467BD",
           "#8C564B",
           "#E377C2",
           "#7F7F7F",
           "#BCBD22",
           "#17BECF"
          ],
          "font": {
           "color": "rgb(36,36,36)"
          },
          "geo": {
           "bgcolor": "white",
           "lakecolor": "white",
           "landcolor": "white",
           "showlakes": true,
           "showland": true,
           "subunitcolor": "white"
          },
          "hoverlabel": {
           "align": "left"
          },
          "hovermode": "closest",
          "mapbox": {
           "style": "light"
          },
          "paper_bgcolor": "white",
          "plot_bgcolor": "white",
          "polar": {
           "angularaxis": {
            "gridcolor": "rgb(232,232,232)",
            "linecolor": "rgb(36,36,36)",
            "showgrid": false,
            "showline": true,
            "ticks": "outside"
           },
           "bgcolor": "white",
           "radialaxis": {
            "gridcolor": "rgb(232,232,232)",
            "linecolor": "rgb(36,36,36)",
            "showgrid": false,
            "showline": true,
            "ticks": "outside"
           }
          },
          "scene": {
           "xaxis": {
            "backgroundcolor": "white",
            "gridcolor": "rgb(232,232,232)",
            "gridwidth": 2,
            "linecolor": "rgb(36,36,36)",
            "showbackground": true,
            "showgrid": false,
            "showline": true,
            "ticks": "outside",
            "zeroline": false,
            "zerolinecolor": "rgb(36,36,36)"
           },
           "yaxis": {
            "backgroundcolor": "white",
            "gridcolor": "rgb(232,232,232)",
            "gridwidth": 2,
            "linecolor": "rgb(36,36,36)",
            "showbackground": true,
            "showgrid": false,
            "showline": true,
            "ticks": "outside",
            "zeroline": false,
            "zerolinecolor": "rgb(36,36,36)"
           },
           "zaxis": {
            "backgroundcolor": "white",
            "gridcolor": "rgb(232,232,232)",
            "gridwidth": 2,
            "linecolor": "rgb(36,36,36)",
            "showbackground": true,
            "showgrid": false,
            "showline": true,
            "ticks": "outside",
            "zeroline": false,
            "zerolinecolor": "rgb(36,36,36)"
           }
          },
          "shapedefaults": {
           "fillcolor": "black",
           "line": {
            "width": 0
           },
           "opacity": 0.3
          },
          "ternary": {
           "aaxis": {
            "gridcolor": "rgb(232,232,232)",
            "linecolor": "rgb(36,36,36)",
            "showgrid": false,
            "showline": true,
            "ticks": "outside"
           },
           "baxis": {
            "gridcolor": "rgb(232,232,232)",
            "linecolor": "rgb(36,36,36)",
            "showgrid": false,
            "showline": true,
            "ticks": "outside"
           },
           "bgcolor": "white",
           "caxis": {
            "gridcolor": "rgb(232,232,232)",
            "linecolor": "rgb(36,36,36)",
            "showgrid": false,
            "showline": true,
            "ticks": "outside"
           }
          },
          "title": {
           "x": 0.05
          },
          "xaxis": {
           "automargin": true,
           "gridcolor": "rgb(232,232,232)",
           "linecolor": "rgb(36,36,36)",
           "showgrid": false,
           "showline": true,
           "ticks": "outside",
           "title": {
            "standoff": 15
           },
           "zeroline": false,
           "zerolinecolor": "rgb(36,36,36)"
          },
          "yaxis": {
           "automargin": true,
           "gridcolor": "rgb(232,232,232)",
           "linecolor": "rgb(36,36,36)",
           "showgrid": false,
           "showline": true,
           "ticks": "outside",
           "title": {
            "standoff": 15
           },
           "zeroline": false,
           "zerolinecolor": "rgb(36,36,36)"
          }
         }
        },
        "title": {
         "text": ""
        },
        "xaxis": {
         "showgrid": false,
         "showline": false,
         "showticklabels": false,
         "ticks": "",
         "title": {
          "text": ""
         },
         "zeroline": false
        },
        "yaxis": {
         "showgrid": false,
         "showline": false,
         "showticklabels": false,
         "ticks": "",
         "title": {
          "text": ""
         },
         "zeroline": false
        }
       }
      }
     },
     "metadata": {},
     "output_type": "display_data"
    }
   ],
   "source": [
    "import gtda.mapper as map\n",
    "import sklearn.cluster as cluster\n",
    "\n",
    "\n",
    "filter_func = l1_norm_trans\n",
    "cover = map.OneDimensionalCover(kind='uniform', n_intervals=30, overlap_frac=0.4)\n",
    "clusterer = cluster.DBSCAN()\n",
    "\n",
    "pipe = map.make_mapper_pipeline(\n",
    "    filter_func=filter_func,\n",
    "    cover=cover,\n",
    "    clusterer=clusterer,\n",
    "    verbose=False,\n",
    "    n_jobs=1,\n",
    ")\n",
    "\n",
    "fig = map.plot_static_mapper_graph(pipe, df_codes_array)\n",
    "fig.show(config={'scrollZoom': True})\n",
    "g = pipe.fit_transform(df_codes_array)"
   ]
  },
  {
   "cell_type": "code",
   "execution_count": 9,
   "metadata": {},
   "outputs": [
    {
     "data": {
      "image/png": "[encoded data removed]",
      "text/plain": [
       "<Figure size 640x480 with 1 Axes>"
      ]
     },
     "metadata": {},
     "output_type": "display_data"
    }
   ],
   "source": [
    "fig, ax = plt.subplots()\n",
    "ig.plot(g,target=ax,palette=ig.RainbowPalette(),\n",
    "    vertex_size=1,\n",
    "    edge_width=0.7)\n",
    "plt.show()"
   ]
  },
  {
   "cell_type": "code",
   "execution_count": 10,
   "metadata": {},
   "outputs": [
    {
     "data": {
      "text/plain": [
       "13"
      ]
     },
     "execution_count": 10,
     "metadata": {},
     "output_type": "execute_result"
    }
   ],
   "source": [
    "G = g.to_networkx()\n",
    "fuck_this = nx.connected_components(G)\n",
    "len(list(fuck_this))\n"
   ]
  },
  {
   "cell_type": "code",
   "execution_count": 11,
   "metadata": {},
   "outputs": [
    {
     "name": "stdout",
     "output_type": "stream",
     "text": [
      "Clustering with 18 elements and 13 clusters\n",
      "[ 0] 0, 3, 4, 6, 7, 8\n",
      "[ 1] 1\n",
      "[ 2] 2\n",
      "[ 3] 5\n",
      "[ 4] 9\n",
      "[ 5] 10\n",
      "[ 6] 11\n",
      "[ 7] 12\n",
      "[ 8] 13\n",
      "[ 9] 14\n",
      "[10] 15\n",
      "[11] 16\n",
      "[12] 17\n"
     ]
    }
   ],
   "source": [
    "#connected components igraph\n",
    "fuck_me = ig.Graph.components(g)\n",
    "print(fuck_me)"
   ]
  },
  {
   "cell_type": "code",
   "execution_count": 12,
   "metadata": {},
   "outputs": [],
   "source": [
    "nints= np.arange(5,55,5)\n",
    "olfrac = np.arange(0.1,.6,0.05)\n",
    "filter_func = l1_norm_trans\n",
    "\n",
    "for i in nints:\n",
    "    for j in olfrac:\n",
    "        cover = map.OneDimensionalCover(kind='uniform', n_intervals=int(i), overlap_frac=j)\n",
    "        clusterer = cluster.DBSCAN()\n",
    "\n",
    "        pipe = map.make_mapper_pipeline(\n",
    "            filter_func=filter_func,\n",
    "            cover=cover,    \n",
    "            clusterer=clusterer,\n",
    "            verbose=False,\n",
    "            n_jobs=1,\n",
    "        )\n",
    "\n",
    "        fig = map.plot_static_mapper_graph(pipe, df_codes_array_norm_tweet)\n",
    "        #fig.show(config={'scrollZoom': True})\n",
    "        #fig.write_image('figures/ints_'+str(i)+'_olfrac'+str(j)+'.png')\n",
    "        graph = pipe.fit_transform(df_codes_array_norm_tweet)\n",
    "    "
   ]
  },
  {
   "cell_type": "code",
   "execution_count": 24,
   "metadata": {},
   "outputs": [],
   "source": [
    "nints= np.arange(5,55,5)\n",
    "olfrac = np.arange(0.1,.6,0.05)\n",
    "filter_func = l1_norm_trans\n",
    "connected_components_matrix = np.zeros((len(nints), len(olfrac)))\n",
    "degree_matrix = np.zeros((len(nints), len(olfrac)))\n",
    "max_cc_matrix = np.zeros((len(nints), len(olfrac)))\n",
    "\n",
    "for i in range(len(nints)):\n",
    "    for j in range(len(olfrac)):\n",
    "        cover = map.OneDimensionalCover(kind='uniform', n_intervals=int(nints[i]), overlap_frac=olfrac[j])\n",
    "        clusterer = cluster.DBSCAN()\n",
    "\n",
    "        pipe = map.make_mapper_pipeline(\n",
    "            filter_func=filter_func,\n",
    "            cover=cover,    \n",
    "            clusterer=clusterer,\n",
    "            verbose=False,\n",
    "            n_jobs=1,\n",
    "        )\n",
    "        graph = pipe.fit_transform(df_codes_array_norm_tweet)\n",
    "        G = graph.to_networkx()\n",
    "        cc = nx.connected_components(G)\n",
    "        connected_components_matrix[i,j] = len(list(cc))\n",
    "        degrees = [val for (node, val) in G.degree()]\n",
    "        degree_matrix[i,j] = np.max(degrees)\n",
    "        largest_cc = max(nx.connected_components(G), key=len)\n",
    "        max_cc_matrix[i,j] = len(largest_cc)\n",
    "\n",
    "        \n",
    "    "
   ]
  },
  {
   "cell_type": "code",
   "execution_count": 25,
   "metadata": {},
   "outputs": [
    {
     "data": {
      "text/plain": [
       "([<matplotlib.axis.YTick at 0x7ff5c8734280>,\n",
       "  <matplotlib.axis.YTick at 0x7ff5c873f9d0>,\n",
       "  <matplotlib.axis.YTick at 0x7ff5c8a3ef10>,\n",
       "  <matplotlib.axis.YTick at 0x7ff5c8a689a0>,\n",
       "  <matplotlib.axis.YTick at 0x7ff5c8a6d490>,\n",
       "  <matplotlib.axis.YTick at 0x7ff5c8a6df40>,\n",
       "  <matplotlib.axis.YTick at 0x7ff5c8a68250>,\n",
       "  <matplotlib.axis.YTick at 0x7ff5c8a71880>,\n",
       "  <matplotlib.axis.YTick at 0x7ff5c8a78370>,\n",
       "  <matplotlib.axis.YTick at 0x7ff5c8a78e20>],\n",
       " [Text(0, 0, '5'),\n",
       "  Text(0, 1, '10'),\n",
       "  Text(0, 2, '15'),\n",
       "  Text(0, 3, '20'),\n",
       "  Text(0, 4, '25'),\n",
       "  Text(0, 5, '30'),\n",
       "  Text(0, 6, '35'),\n",
       "  Text(0, 7, '40'),\n",
       "  Text(0, 8, '45'),\n",
       "  Text(0, 9, '50')])"
      ]
     },
     "execution_count": 25,
     "metadata": {},
     "output_type": "execute_result"
    },
    {
     "data": {
      "image/png": "[encoded data removed]",
      "text/plain": [
       "<Figure size 640x480 with 2 Axes>"
      ]
     },
     "metadata": {},
     "output_type": "display_data"
    }
   ],
   "source": [
    "#make a heatmap of the connected components matrix\n",
    "import seaborn as sns\n",
    "sns.heatmap(connected_components_matrix, annot=True)\n",
    "#add labels\n",
    "plt.title(\"Connected Components\")\n",
    "plt.xlabel(\"Overlap Fraction\")\n",
    "plt.ylabel(\"Number of Intervals\")\n",
    "plt.xticks(np.arange(len(olfrac)), np.round(olfrac,2))\n",
    "plt.yticks(np.arange(len(nints)), nints)\n"
   ]
  },
  {
   "cell_type": "code",
   "execution_count": 26,
   "metadata": {},
   "outputs": [
    {
     "data": {
      "text/plain": [
       "([<matplotlib.axis.YTick at 0x7ff5c8b95a90>,\n",
       "  <matplotlib.axis.YTick at 0x7ff5c8b95be0>,\n",
       "  <matplotlib.axis.YTick at 0x7ff5c8de4400>,\n",
       "  <matplotlib.axis.YTick at 0x7ff5c8df15b0>,\n",
       "  <matplotlib.axis.YTick at 0x7ff5c8e0af40>,\n",
       "  <matplotlib.axis.YTick at 0x7ff5c8e0a6a0>,\n",
       "  <matplotlib.axis.YTick at 0x7ff5c8df7280>,\n",
       "  <matplotlib.axis.YTick at 0x7ff5c8e11c10>,\n",
       "  <matplotlib.axis.YTick at 0x7ff5c8e1e430>,\n",
       "  <matplotlib.axis.YTick at 0x7ff5c8e1ec10>],\n",
       " [Text(0, 0, '5'),\n",
       "  Text(0, 1, '10'),\n",
       "  Text(0, 2, '15'),\n",
       "  Text(0, 3, '20'),\n",
       "  Text(0, 4, '25'),\n",
       "  Text(0, 5, '30'),\n",
       "  Text(0, 6, '35'),\n",
       "  Text(0, 7, '40'),\n",
       "  Text(0, 8, '45'),\n",
       "  Text(0, 9, '50')])"
      ]
     },
     "execution_count": 26,
     "metadata": {},
     "output_type": "execute_result"
    },
    {
     "data": {
      "image/png": "[encoded data removed]",
      "text/plain": [
       "<Figure size 640x480 with 2 Axes>"
      ]
     },
     "metadata": {},
     "output_type": "display_data"
    }
   ],
   "source": [
    "import seaborn as sns\n",
    "sns.heatmap(degree_matrix, annot=True)\n",
    "#add labels\n",
    "plt.title(\"Degree\")\n",
    "plt.xlabel(\"Overlap Fraction\")\n",
    "plt.ylabel(\"Number of Intervals\")\n",
    "plt.xticks(np.arange(len(olfrac)), np.round(olfrac,2))\n",
    "plt.yticks(np.arange(len(nints)), nints)\n"
   ]
  },
  {
   "cell_type": "code",
   "execution_count": 29,
   "metadata": {},
   "outputs": [
    {
     "data": {
      "text/plain": [
       "([<matplotlib.axis.YTick at 0x7ff5c8f4f2b0>,\n",
       "  <matplotlib.axis.YTick at 0x7ff5c8f22c10>,\n",
       "  <matplotlib.axis.YTick at 0x7ff5c8fb2250>,\n",
       "  <matplotlib.axis.YTick at 0x7ff5c8fbf550>,\n",
       "  <matplotlib.axis.YTick at 0x7ff5c8fd6d60>,\n",
       "  <matplotlib.axis.YTick at 0x7ff5c8fdf580>,\n",
       "  <matplotlib.axis.YTick at 0x7ff5c8fd6700>,\n",
       "  <matplotlib.axis.YTick at 0x7ff5c8fc5ee0>,\n",
       "  <matplotlib.axis.YTick at 0x7ff5c8fdff10>,\n",
       "  <matplotlib.axis.YTick at 0x7ff5c8fe8730>],\n",
       " [Text(0, 0, '5'),\n",
       "  Text(0, 1, '10'),\n",
       "  Text(0, 2, '15'),\n",
       "  Text(0, 3, '20'),\n",
       "  Text(0, 4, '25'),\n",
       "  Text(0, 5, '30'),\n",
       "  Text(0, 6, '35'),\n",
       "  Text(0, 7, '40'),\n",
       "  Text(0, 8, '45'),\n",
       "  Text(0, 9, '50')])"
      ]
     },
     "execution_count": 29,
     "metadata": {},
     "output_type": "execute_result"
    },
    {
     "data": {
      "image/png": "[encoded data removed]",
      "text/plain": [
       "<Figure size 640x480 with 2 Axes>"
      ]
     },
     "metadata": {},
     "output_type": "display_data"
    }
   ],
   "source": [
    "import seaborn as sns\n",
    "sns.heatmap(max_cc_matrix, annot=True)\n",
    "#add labels\n",
    "plt.title(\"Largest Connected Component\")\n",
    "plt.xlabel(\"Overlap Fraction\")\n",
    "plt.ylabel(\"Number of Intervals\")\n",
    "plt.xticks(np.arange(len(olfrac)), np.round(olfrac,2))\n",
    "plt.yticks(np.arange(len(nints)), nints)"
   ]
  },
  {
   "cell_type": "markdown",
   "metadata": {},
   "source": [
    "### Eccentricity"
   ]
  },
  {
   "cell_type": "code",
   "execution_count": 39,
   "metadata": {},
   "outputs": [],
   "source": [
    "nints= np.arange(5,55,5)\n",
    "olfrac = np.arange(0.1,.6,0.05)\n",
    "filter_func = map.Eccentricity() #default is p = 2, metric = 'euclidean'\n",
    "connected_components_matrix = np.zeros((len(nints), len(olfrac)))\n",
    "degree_matrix = np.zeros((len(nints), len(olfrac)))\n",
    "max_cc_matrix = np.zeros((len(nints), len(olfrac)))\n",
    "\n",
    "for i in range(len(nints)):\n",
    "    for j in range(len(olfrac)):\n",
    "        cover = map.OneDimensionalCover(kind='uniform', n_intervals=int(nints[i]), overlap_frac=olfrac[j])\n",
    "        clusterer = cluster.DBSCAN()\n",
    "\n",
    "        pipe = map.make_mapper_pipeline(\n",
    "            filter_func=filter_func,\n",
    "            cover=cover,    \n",
    "            clusterer=clusterer,\n",
    "            verbose=False,\n",
    "            n_jobs=1,\n",
    "        )\n",
    "        fig = map.plot_static_mapper_graph(pipe, df_codes_array_norm_tweet)\n",
    "        fig.write_image('figures/eccentricity/ints_'+str(i)+'_olfrac'+str(j)+'.png')\n",
    "        graph = pipe.fit_transform(df_codes_array_norm_tweet)\n",
    "        G = graph.to_networkx()\n",
    "        cc = nx.connected_components(G)\n",
    "        connected_components_matrix[i,j] = len(list(cc))\n",
    "        degrees = [val for (node, val) in G.degree()]\n",
    "        degree_matrix[i,j] = np.max(degrees)\n",
    "        largest_cc = max(nx.connected_components(G), key=len)\n",
    "        max_cc_matrix[i,j] = len(largest_cc)\n",
    "\n",
    "        \n",
    "    "
   ]
  },
  {
   "cell_type": "code",
   "execution_count": 54,
   "metadata": {},
   "outputs": [
    {
     "data": {
      "application/vnd.plotly.v1+json": {
       "config": {
        "plotlyServerURL": "https://plot.ly",
        "scrollZoom": true
       },
       "data": [
        {
         "hoverinfo": "none",
         "line": {
          "color": "#888",
          "width": 1
         },
         "mode": "lines",
         "name": "edge_trace",
         "type": "scatter",
         "uid": "1dfb1a3d-2267-490d-ac05-339da96898e9",
         "x": [
          3.136290961876144,
          2.6086932530934956,
          null,
          2.6086932530934956,
          2.2612199270449613,
          null,
          2.6086932530934956,
          2.4567325532334254,
          null,
          -3.599036060956092,
          -3.4602161397745035,
          null,
          -3.599036060956092,
          -4.010258445037841,
          null,
          1.9659698403948411,
          2.0497160250973034,
          null,
          1.9659698403948411,
          1.6022573746277924,
          null,
          -3.4602161397745035,
          -3.553232473800539,
          null,
          2.2612199270449613,
          2.0497160250973034,
          null,
          0.674788758685376,
          1.0916557294556786,
          null,
          0.674788758685376,
          0.5486288435779116,
          null,
          1.6022573746277924,
          1.0916557294556786,
          null,
          0.05661988739986992,
          -0.4419850418193292,
          null,
          -0.4419850418193292,
          -0.8615153792362992,
          null,
          0.18671621834485128,
          -0.29619780645790716,
          null,
          0.18671621834485128,
          0.5486288435779116,
          null,
          -0.29619780645790716,
          -0.7959322664660311,
          null,
          -4.358863174590605,
          -4.306435094343669,
          null,
          -4.358863174590605,
          -4.252575392932204,
          null,
          -4.306435094343669,
          -4.010258445037841,
          null,
          -1.0400517603583601,
          -0.9638052760368929,
          null,
          -1.0400517603583601,
          -0.8615153792362992,
          null,
          -0.7959322664660311,
          -1.2756042862771402,
          null,
          -4.413687376739395,
          -4.626349641787112,
          null,
          -4.413687376739395,
          -3.9993898902374982,
          null,
          2.279474333814304,
          1.830361164521929,
          null
         ],
         "y": [
          0.7325660692126952,
          0.6738442846906101,
          null,
          0.6738442846906101,
          1.0495208974734882,
          null,
          0.6738442846906101,
          0.16046118192681488,
          null,
          -1.0691653465095852,
          -1.5386119917732801,
          null,
          -1.0691653465095852,
          -0.7979966458961534,
          null,
          1.989600541564441,
          1.4917258319445201,
          null,
          1.989600541564441,
          2.3268114204298174,
          null,
          -1.5386119917732801,
          -2.0218073114745634,
          null,
          1.0495208974734882,
          1.4917258319445201,
          null,
          2.6311283772505067,
          2.367868012326516,
          null,
          2.6311283772505067,
          3.120907886649235,
          null,
          2.3268114204298174,
          2.367868012326516,
          null,
          -3.398532672521374,
          -3.3724444987921545,
          null,
          -3.3724444987921545,
          -3.107394462461525,
          null,
          3.462484979306118,
          3.5823796961153254,
          null,
          3.462484979306118,
          3.120907886649235,
          null,
          3.5823796961153254,
          3.5574256952635714,
          null,
          0.06433442678154139,
          -0.4187640346709467,
          null,
          0.06433442678154139,
          0.5388335709008051,
          null,
          -0.4187640346709467,
          -0.7979966458961534,
          null,
          -2.647215052692371,
          -2.158377579242396,
          null,
          -2.647215052692371,
          -3.107394462461525,
          null,
          3.5574256952635714,
          3.4010798818289665,
          null,
          2.950792468865892,
          2.512894267496628,
          null,
          2.950792468865892,
          3.216467116810862,
          null,
          -2.5289780235366317,
          -2.7125701716244186,
          null
         ]
        },
        {
         "hoverinfo": "text",
         "hovertext": [
          "Node ID: 0<br>Pullback set label: 0<br>Partial cluster label: 0<br>Node size: 14<br>Summary statistic: 0.131",
          "Node ID: 1<br>Pullback set label: 1<br>Partial cluster label: -1<br>Node size: 14<br>Summary statistic: 0.169",
          "Node ID: 2<br>Pullback set label: 17<br>Partial cluster label: -1<br>Node size: 24<br>Summary statistic: 0.292",
          "Node ID: 3<br>Pullback set label: 4<br>Partial cluster label: -1<br>Node size: 13<br>Summary statistic: 0.159",
          "Node ID: 4<br>Pullback set label: 18<br>Partial cluster label: -1<br>Node size: 16<br>Summary statistic: 0",
          "Node ID: 5<br>Pullback set label: 2<br>Partial cluster label: -1<br>Node size: 12<br>Summary statistic: 0.172",
          "Node ID: 6<br>Pullback set label: 3<br>Partial cluster label: -1<br>Node size: 7<br>Summary statistic: 0.236",
          "Node ID: 7<br>Pullback set label: 7<br>Partial cluster label: -1<br>Node size: 13<br>Summary statistic: 0.141",
          "Node ID: 8<br>Pullback set label: 5<br>Partial cluster label: -1<br>Node size: 16<br>Summary statistic: 0.135",
          "Node ID: 9<br>Pullback set label: 6<br>Partial cluster label: -1<br>Node size: 18<br>Summary statistic: 0.134",
          "Node ID: 10<br>Pullback set label: 20<br>Partial cluster label: -1<br>Node size: 11<br>Summary statistic: 0",
          "Node ID: 11<br>Pullback set label: 21<br>Partial cluster label: -1<br>Node size: 3<br>Summary statistic: 0.333",
          "Node ID: 12<br>Pullback set label: 9<br>Partial cluster label: -1<br>Node size: 8<br>Summary statistic: 0.0625",
          "Node ID: 13<br>Pullback set label: 10<br>Partial cluster label: -1<br>Node size: 17<br>Summary statistic: 0.0588",
          "Node ID: 14<br>Pullback set label: 0<br>Partial cluster label: -1<br>Node size: 6<br>Summary statistic: 0.263",
          "Node ID: 15<br>Pullback set label: 14<br>Partial cluster label: -1<br>Node size: 22<br>Summary statistic: 0.0227",
          "Node ID: 16<br>Pullback set label: 15<br>Partial cluster label: -1<br>Node size: 17<br>Summary statistic: 0.0441",
          "Node ID: 17<br>Pullback set label: 23<br>Partial cluster label: -1<br>Node size: 3<br>Summary statistic: 0.333",
          "Node ID: 18<br>Pullback set label: 24<br>Partial cluster label: -1<br>Node size: 1<br>Summary statistic: 0",
          "Node ID: 19<br>Pullback set label: 11<br>Partial cluster label: -1<br>Node size: 8<br>Summary statistic: 0",
          "Node ID: 20<br>Pullback set label: 13<br>Partial cluster label: -1<br>Node size: 15<br>Summary statistic: 0.0333",
          "Node ID: 21<br>Pullback set label: 16<br>Partial cluster label: -1<br>Node size: 26<br>Summary statistic: 0.144",
          "Node ID: 22<br>Pullback set label: 8<br>Partial cluster label: -1<br>Node size: 8<br>Summary statistic: 0.188",
          "Node ID: 23<br>Pullback set label: 27<br>Partial cluster label: -1<br>Node size: 5<br>Summary statistic: 0",
          "Node ID: 24<br>Pullback set label: 28<br>Partial cluster label: -1<br>Node size: 5<br>Summary statistic: 0",
          "Node ID: 25<br>Pullback set label: 12<br>Partial cluster label: -1<br>Node size: 4<br>Summary statistic: 0.0833",
          "Node ID: 26<br>Pullback set label: 22<br>Partial cluster label: -1<br>Node size: 6<br>Summary statistic: 0.333",
          "Node ID: 27<br>Pullback set label: 14<br>Partial cluster label: 0<br>Node size: 5<br>Summary statistic: 0",
          "Node ID: 28<br>Pullback set label: 19<br>Partial cluster label: -1<br>Node size: 11<br>Summary statistic: 0",
          "Node ID: 29<br>Pullback set label: 25<br>Partial cluster label: 0<br>Node size: 45<br>Summary statistic: 1.0",
          "Node ID: 30<br>Pullback set label: 28<br>Partial cluster label: 0<br>Node size: 6<br>Summary statistic: 1.0",
          "Node ID: 31<br>Pullback set label: 19<br>Partial cluster label: 0<br>Node size: 5<br>Summary statistic: 0",
          "Node ID: 32<br>Pullback set label: 21<br>Partial cluster label: 0<br>Node size: 26<br>Summary statistic: 0",
          "Node ID: 33<br>Pullback set label: 22<br>Partial cluster label: 0<br>Node size: 8<br>Summary statistic: 0",
          "Node ID: 34<br>Pullback set label: 26<br>Partial cluster label: -1<br>Node size: 4<br>Summary statistic: 0",
          "Node ID: 35<br>Pullback set label: 17<br>Partial cluster label: 0<br>Node size: 20<br>Summary statistic: 0",
          "Node ID: 36<br>Pullback set label: 18<br>Partial cluster label: 0<br>Node size: 20<br>Summary statistic: 0"
         ],
         "marker": {
          "color": [
           0.13120416847068397,
           0.16856321782792372,
           0.2916666666666667,
           0.15897435897435896,
           0,
           0.1724537037037037,
           0.2357142857142857,
           0.14102564102564102,
           0.13541666666666666,
           0.13425925925925924,
           0,
           0.3333333333333333,
           0.0625,
           0.058823529411764705,
           0.26269841269841265,
           0.022727272727272728,
           0.04411764705882353,
           0.3333333333333333,
           0,
           0,
           0.03333333333333333,
           0.14423076923076922,
           0.1875,
           0,
           0,
           0.08333333333333333,
           0.3333333333333333,
           0,
           0,
           1,
           1,
           0,
           0,
           0,
           0,
           0,
           0
          ],
          "colorbar": {
           "thickness": 15,
           "title": {
            "side": "right",
            "text": ""
           },
           "xanchor": "left"
          },
          "colorscale": [
           [
            0,
            "#440154"
           ],
           [
            0.1111111111111111,
            "#482878"
           ],
           [
            0.2222222222222222,
            "#3e4989"
           ],
           [
            0.3333333333333333,
            "#31688e"
           ],
           [
            0.4444444444444444,
            "#26828e"
           ],
           [
            0.5555555555555556,
            "#1f9e89"
           ],
           [
            0.6666666666666666,
            "#35b779"
           ],
           [
            0.7777777777777778,
            "#6ece58"
           ],
           [
            0.8888888888888888,
            "#b5de2b"
           ],
           [
            1,
            "#fde725"
           ]
          ],
          "line": {
           "color": "#888",
           "width": 1
          },
          "opacity": 1,
          "reversescale": false,
          "showscale": true,
          "size": [
           14,
           14,
           24,
           13,
           16,
           12,
           7,
           13,
           16,
           18,
           11,
           3,
           8,
           17,
           6,
           22,
           17,
           3,
           1,
           8,
           15,
           26,
           8,
           5,
           5,
           4,
           6,
           5,
           11,
           45,
           6,
           5,
           26,
           8,
           4,
           20,
           20
          ],
          "sizemin": 4,
          "sizemode": "area",
          "sizeref": 0.625
         },
         "mode": "markers",
         "name": "node_trace",
         "type": "scatter",
         "uid": "bfa272da-f7a3-4afe-81ee-88e8fb2a0e9a",
         "x": [
          3.136290961876144,
          2.6086932530934956,
          -3.599036060956092,
          1.9659698403948411,
          -3.4602161397745035,
          2.2612199270449613,
          2.0497160250973034,
          0.674788758685376,
          1.6022573746277924,
          1.0916557294556786,
          0.05661988739986992,
          -0.4419850418193292,
          0.18671621834485128,
          -0.29619780645790716,
          2.4567325532334254,
          -4.358863174590605,
          -4.306435094343669,
          -1.0400517603583601,
          -0.9638052760368929,
          -0.7959322664660311,
          -4.252575392932204,
          -4.010258445037841,
          0.5486288435779116,
          -4.413687376739395,
          -4.626349641787112,
          -1.2756042862771402,
          -0.8615153792362992,
          -2.38808687787087,
          -3.553232473800539,
          4.275698076846688,
          3.5537652457701294,
          -0.5980435009666811,
          -3.4091058515819714,
          2.146300340400875,
          -3.9993898902374982,
          2.279474333814304,
          1.830361164521929
         ],
         "y": [
          0.7325660692126952,
          0.6738442846906101,
          -1.0691653465095852,
          1.989600541564441,
          -1.5386119917732801,
          1.0495208974734882,
          1.4917258319445201,
          2.6311283772505067,
          2.3268114204298174,
          2.367868012326516,
          -3.398532672521374,
          -3.3724444987921545,
          3.462484979306118,
          3.5823796961153254,
          0.16046118192681488,
          0.06433442678154139,
          -0.4187640346709467,
          -2.647215052692371,
          -2.158377579242396,
          3.5574256952635714,
          0.5388335709008051,
          -0.7979966458961534,
          3.120907886649235,
          2.950792468865892,
          2.512894267496628,
          3.4010798818289665,
          -3.107394462461525,
          5.382460061732472,
          -2.0218073114745634,
          2.6995395322595965,
          -1.6843647615258905,
          5.928994520288355,
          4.60834094662759,
          5.220675263271045,
          3.216467116810862,
          -2.5289780235366317,
          -2.7125701716244186
         ]
        }
       ],
       "layout": {
        "annotations": [
         {
          "align": "left",
          "showarrow": false,
          "text": "Color by:",
          "x": 0,
          "xref": "paper",
          "y": 1.0550000000000002,
          "yref": "paper"
         }
        ],
        "autosize": false,
        "hovermode": "closest",
        "margin": {
         "b": 20,
         "l": 5,
         "r": 5,
         "t": 40
        },
        "showlegend": false,
        "template": {
         "data": {
          "bar": [
           {
            "error_x": {
             "color": "rgb(36,36,36)"
            },
            "error_y": {
             "color": "rgb(36,36,36)"
            },
            "marker": {
             "line": {
              "color": "white",
              "width": 0.5
             },
             "pattern": {
              "fillmode": "overlay",
              "size": 10,
              "solidity": 0.2
             }
            },
            "type": "bar"
           }
          ],
          "barpolar": [
           {
            "marker": {
             "line": {
              "color": "white",
              "width": 0.5
             },
             "pattern": {
              "fillmode": "overlay",
              "size": 10,
              "solidity": 0.2
             }
            },
            "type": "barpolar"
           }
          ],
          "carpet": [
           {
            "aaxis": {
             "endlinecolor": "rgb(36,36,36)",
             "gridcolor": "white",
             "linecolor": "white",
             "minorgridcolor": "white",
             "startlinecolor": "rgb(36,36,36)"
            },
            "baxis": {
             "endlinecolor": "rgb(36,36,36)",
             "gridcolor": "white",
             "linecolor": "white",
             "minorgridcolor": "white",
             "startlinecolor": "rgb(36,36,36)"
            },
            "type": "carpet"
           }
          ],
          "choropleth": [
           {
            "colorbar": {
             "outlinewidth": 1,
             "tickcolor": "rgb(36,36,36)",
             "ticks": "outside"
            },
            "type": "choropleth"
           }
          ],
          "contour": [
           {
            "colorbar": {
             "outlinewidth": 1,
             "tickcolor": "rgb(36,36,36)",
             "ticks": "outside"
            },
            "colorscale": [
             [
              0,
              "#440154"
             ],
             [
              0.1111111111111111,
              "#482878"
             ],
             [
              0.2222222222222222,
              "#3e4989"
             ],
             [
              0.3333333333333333,
              "#31688e"
             ],
             [
              0.4444444444444444,
              "#26828e"
             ],
             [
              0.5555555555555556,
              "#1f9e89"
             ],
             [
              0.6666666666666666,
              "#35b779"
             ],
             [
              0.7777777777777778,
              "#6ece58"
             ],
             [
              0.8888888888888888,
              "#b5de2b"
             ],
             [
              1,
              "#fde725"
             ]
            ],
            "type": "contour"
           }
          ],
          "contourcarpet": [
           {
            "colorbar": {
             "outlinewidth": 1,
             "tickcolor": "rgb(36,36,36)",
             "ticks": "outside"
            },
            "type": "contourcarpet"
           }
          ],
          "heatmap": [
           {
            "colorbar": {
             "outlinewidth": 1,
             "tickcolor": "rgb(36,36,36)",
             "ticks": "outside"
            },
            "colorscale": [
             [
              0,
              "#440154"
             ],
             [
              0.1111111111111111,
              "#482878"
             ],
             [
              0.2222222222222222,
              "#3e4989"
             ],
             [
              0.3333333333333333,
              "#31688e"
             ],
             [
              0.4444444444444444,
              "#26828e"
             ],
             [
              0.5555555555555556,
              "#1f9e89"
             ],
             [
              0.6666666666666666,
              "#35b779"
             ],
             [
              0.7777777777777778,
              "#6ece58"
             ],
             [
              0.8888888888888888,
              "#b5de2b"
             ],
             [
              1,
              "#fde725"
             ]
            ],
            "type": "heatmap"
           }
          ],
          "heatmapgl": [
           {
            "colorbar": {
             "outlinewidth": 1,
             "tickcolor": "rgb(36,36,36)",
             "ticks": "outside"
            },
            "colorscale": [
             [
              0,
              "#440154"
             ],
             [
              0.1111111111111111,
              "#482878"
             ],
             [
              0.2222222222222222,
              "#3e4989"
             ],
             [
              0.3333333333333333,
              "#31688e"
             ],
             [
              0.4444444444444444,
              "#26828e"
             ],
             [
              0.5555555555555556,
              "#1f9e89"
             ],
             [
              0.6666666666666666,
              "#35b779"
             ],
             [
              0.7777777777777778,
              "#6ece58"
             ],
             [
              0.8888888888888888,
              "#b5de2b"
             ],
             [
              1,
              "#fde725"
             ]
            ],
            "type": "heatmapgl"
           }
          ],
          "histogram": [
           {
            "marker": {
             "line": {
              "color": "white",
              "width": 0.6
             }
            },
            "type": "histogram"
           }
          ],
          "histogram2d": [
           {
            "colorbar": {
             "outlinewidth": 1,
             "tickcolor": "rgb(36,36,36)",
             "ticks": "outside"
            },
            "colorscale": [
             [
              0,
              "#440154"
             ],
             [
              0.1111111111111111,
              "#482878"
             ],
             [
              0.2222222222222222,
              "#3e4989"
             ],
             [
              0.3333333333333333,
              "#31688e"
             ],
             [
              0.4444444444444444,
              "#26828e"
             ],
             [
              0.5555555555555556,
              "#1f9e89"
             ],
             [
              0.6666666666666666,
              "#35b779"
             ],
             [
              0.7777777777777778,
              "#6ece58"
             ],
             [
              0.8888888888888888,
              "#b5de2b"
             ],
             [
              1,
              "#fde725"
             ]
            ],
            "type": "histogram2d"
           }
          ],
          "histogram2dcontour": [
           {
            "colorbar": {
             "outlinewidth": 1,
             "tickcolor": "rgb(36,36,36)",
             "ticks": "outside"
            },
            "colorscale": [
             [
              0,
              "#440154"
             ],
             [
              0.1111111111111111,
              "#482878"
             ],
             [
              0.2222222222222222,
              "#3e4989"
             ],
             [
              0.3333333333333333,
              "#31688e"
             ],
             [
              0.4444444444444444,
              "#26828e"
             ],
             [
              0.5555555555555556,
              "#1f9e89"
             ],
             [
              0.6666666666666666,
              "#35b779"
             ],
             [
              0.7777777777777778,
              "#6ece58"
             ],
             [
              0.8888888888888888,
              "#b5de2b"
             ],
             [
              1,
              "#fde725"
             ]
            ],
            "type": "histogram2dcontour"
           }
          ],
          "mesh3d": [
           {
            "colorbar": {
             "outlinewidth": 1,
             "tickcolor": "rgb(36,36,36)",
             "ticks": "outside"
            },
            "type": "mesh3d"
           }
          ],
          "parcoords": [
           {
            "line": {
             "colorbar": {
              "outlinewidth": 1,
              "tickcolor": "rgb(36,36,36)",
              "ticks": "outside"
             }
            },
            "type": "parcoords"
           }
          ],
          "pie": [
           {
            "automargin": true,
            "type": "pie"
           }
          ],
          "scatter": [
           {
            "fillpattern": {
             "fillmode": "overlay",
             "size": 10,
             "solidity": 0.2
            },
            "type": "scatter"
           }
          ],
          "scatter3d": [
           {
            "line": {
             "colorbar": {
              "outlinewidth": 1,
              "tickcolor": "rgb(36,36,36)",
              "ticks": "outside"
             }
            },
            "marker": {
             "colorbar": {
              "outlinewidth": 1,
              "tickcolor": "rgb(36,36,36)",
              "ticks": "outside"
             }
            },
            "type": "scatter3d"
           }
          ],
          "scattercarpet": [
           {
            "marker": {
             "colorbar": {
              "outlinewidth": 1,
              "tickcolor": "rgb(36,36,36)",
              "ticks": "outside"
             }
            },
            "type": "scattercarpet"
           }
          ],
          "scattergeo": [
           {
            "marker": {
             "colorbar": {
              "outlinewidth": 1,
              "tickcolor": "rgb(36,36,36)",
              "ticks": "outside"
             }
            },
            "type": "scattergeo"
           }
          ],
          "scattergl": [
           {
            "marker": {
             "colorbar": {
              "outlinewidth": 1,
              "tickcolor": "rgb(36,36,36)",
              "ticks": "outside"
             }
            },
            "type": "scattergl"
           }
          ],
          "scattermapbox": [
           {
            "marker": {
             "colorbar": {
              "outlinewidth": 1,
              "tickcolor": "rgb(36,36,36)",
              "ticks": "outside"
             }
            },
            "type": "scattermapbox"
           }
          ],
          "scatterpolar": [
           {
            "marker": {
             "colorbar": {
              "outlinewidth": 1,
              "tickcolor": "rgb(36,36,36)",
              "ticks": "outside"
             }
            },
            "type": "scatterpolar"
           }
          ],
          "scatterpolargl": [
           {
            "marker": {
             "colorbar": {
              "outlinewidth": 1,
              "tickcolor": "rgb(36,36,36)",
              "ticks": "outside"
             }
            },
            "type": "scatterpolargl"
           }
          ],
          "scatterternary": [
           {
            "marker": {
             "colorbar": {
              "outlinewidth": 1,
              "tickcolor": "rgb(36,36,36)",
              "ticks": "outside"
             }
            },
            "type": "scatterternary"
           }
          ],
          "surface": [
           {
            "colorbar": {
             "outlinewidth": 1,
             "tickcolor": "rgb(36,36,36)",
             "ticks": "outside"
            },
            "colorscale": [
             [
              0,
              "#440154"
             ],
             [
              0.1111111111111111,
              "#482878"
             ],
             [
              0.2222222222222222,
              "#3e4989"
             ],
             [
              0.3333333333333333,
              "#31688e"
             ],
             [
              0.4444444444444444,
              "#26828e"
             ],
             [
              0.5555555555555556,
              "#1f9e89"
             ],
             [
              0.6666666666666666,
              "#35b779"
             ],
             [
              0.7777777777777778,
              "#6ece58"
             ],
             [
              0.8888888888888888,
              "#b5de2b"
             ],
             [
              1,
              "#fde725"
             ]
            ],
            "type": "surface"
           }
          ],
          "table": [
           {
            "cells": {
             "fill": {
              "color": "rgb(237,237,237)"
             },
             "line": {
              "color": "white"
             }
            },
            "header": {
             "fill": {
              "color": "rgb(217,217,217)"
             },
             "line": {
              "color": "white"
             }
            },
            "type": "table"
           }
          ]
         },
         "layout": {
          "annotationdefaults": {
           "arrowhead": 0,
           "arrowwidth": 1
          },
          "autotypenumbers": "strict",
          "coloraxis": {
           "colorbar": {
            "outlinewidth": 1,
            "tickcolor": "rgb(36,36,36)",
            "ticks": "outside"
           }
          },
          "colorscale": {
           "diverging": [
            [
             0,
             "rgb(103,0,31)"
            ],
            [
             0.1,
             "rgb(178,24,43)"
            ],
            [
             0.2,
             "rgb(214,96,77)"
            ],
            [
             0.3,
             "rgb(244,165,130)"
            ],
            [
             0.4,
             "rgb(253,219,199)"
            ],
            [
             0.5,
             "rgb(247,247,247)"
            ],
            [
             0.6,
             "rgb(209,229,240)"
            ],
            [
             0.7,
             "rgb(146,197,222)"
            ],
            [
             0.8,
             "rgb(67,147,195)"
            ],
            [
             0.9,
             "rgb(33,102,172)"
            ],
            [
             1,
             "rgb(5,48,97)"
            ]
           ],
           "sequential": [
            [
             0,
             "#440154"
            ],
            [
             0.1111111111111111,
             "#482878"
            ],
            [
             0.2222222222222222,
             "#3e4989"
            ],
            [
             0.3333333333333333,
             "#31688e"
            ],
            [
             0.4444444444444444,
             "#26828e"
            ],
            [
             0.5555555555555556,
             "#1f9e89"
            ],
            [
             0.6666666666666666,
             "#35b779"
            ],
            [
             0.7777777777777778,
             "#6ece58"
            ],
            [
             0.8888888888888888,
             "#b5de2b"
            ],
            [
             1,
             "#fde725"
            ]
           ],
           "sequentialminus": [
            [
             0,
             "#440154"
            ],
            [
             0.1111111111111111,
             "#482878"
            ],
            [
             0.2222222222222222,
             "#3e4989"
            ],
            [
             0.3333333333333333,
             "#31688e"
            ],
            [
             0.4444444444444444,
             "#26828e"
            ],
            [
             0.5555555555555556,
             "#1f9e89"
            ],
            [
             0.6666666666666666,
             "#35b779"
            ],
            [
             0.7777777777777778,
             "#6ece58"
            ],
            [
             0.8888888888888888,
             "#b5de2b"
            ],
            [
             1,
             "#fde725"
            ]
           ]
          },
          "colorway": [
           "#1F77B4",
           "#FF7F0E",
           "#2CA02C",
           "#D62728",
           "#9467BD",
           "#8C564B",
           "#E377C2",
           "#7F7F7F",
           "#BCBD22",
           "#17BECF"
          ],
          "font": {
           "color": "rgb(36,36,36)"
          },
          "geo": {
           "bgcolor": "white",
           "lakecolor": "white",
           "landcolor": "white",
           "showlakes": true,
           "showland": true,
           "subunitcolor": "white"
          },
          "hoverlabel": {
           "align": "left"
          },
          "hovermode": "closest",
          "mapbox": {
           "style": "light"
          },
          "paper_bgcolor": "white",
          "plot_bgcolor": "white",
          "polar": {
           "angularaxis": {
            "gridcolor": "rgb(232,232,232)",
            "linecolor": "rgb(36,36,36)",
            "showgrid": false,
            "showline": true,
            "ticks": "outside"
           },
           "bgcolor": "white",
           "radialaxis": {
            "gridcolor": "rgb(232,232,232)",
            "linecolor": "rgb(36,36,36)",
            "showgrid": false,
            "showline": true,
            "ticks": "outside"
           }
          },
          "scene": {
           "xaxis": {
            "backgroundcolor": "white",
            "gridcolor": "rgb(232,232,232)",
            "gridwidth": 2,
            "linecolor": "rgb(36,36,36)",
            "showbackground": true,
            "showgrid": false,
            "showline": true,
            "ticks": "outside",
            "zeroline": false,
            "zerolinecolor": "rgb(36,36,36)"
           },
           "yaxis": {
            "backgroundcolor": "white",
            "gridcolor": "rgb(232,232,232)",
            "gridwidth": 2,
            "linecolor": "rgb(36,36,36)",
            "showbackground": true,
            "showgrid": false,
            "showline": true,
            "ticks": "outside",
            "zeroline": false,
            "zerolinecolor": "rgb(36,36,36)"
           },
           "zaxis": {
            "backgroundcolor": "white",
            "gridcolor": "rgb(232,232,232)",
            "gridwidth": 2,
            "linecolor": "rgb(36,36,36)",
            "showbackground": true,
            "showgrid": false,
            "showline": true,
            "ticks": "outside",
            "zeroline": false,
            "zerolinecolor": "rgb(36,36,36)"
           }
          },
          "shapedefaults": {
           "fillcolor": "black",
           "line": {
            "width": 0
           },
           "opacity": 0.3
          },
          "ternary": {
           "aaxis": {
            "gridcolor": "rgb(232,232,232)",
            "linecolor": "rgb(36,36,36)",
            "showgrid": false,
            "showline": true,
            "ticks": "outside"
           },
           "baxis": {
            "gridcolor": "rgb(232,232,232)",
            "linecolor": "rgb(36,36,36)",
            "showgrid": false,
            "showline": true,
            "ticks": "outside"
           },
           "bgcolor": "white",
           "caxis": {
            "gridcolor": "rgb(232,232,232)",
            "linecolor": "rgb(36,36,36)",
            "showgrid": false,
            "showline": true,
            "ticks": "outside"
           }
          },
          "title": {
           "x": 0.05
          },
          "xaxis": {
           "automargin": true,
           "gridcolor": "rgb(232,232,232)",
           "linecolor": "rgb(36,36,36)",
           "showgrid": false,
           "showline": true,
           "ticks": "outside",
           "title": {
            "standoff": 15
           },
           "zeroline": false,
           "zerolinecolor": "rgb(36,36,36)"
          },
          "yaxis": {
           "automargin": true,
           "gridcolor": "rgb(232,232,232)",
           "linecolor": "rgb(36,36,36)",
           "showgrid": false,
           "showline": true,
           "ticks": "outside",
           "title": {
            "standoff": 15
           },
           "zeroline": false,
           "zerolinecolor": "rgb(36,36,36)"
          }
         }
        },
        "title": {
         "text": ""
        },
        "updatemenus": [
         {
          "buttons": [
           {
            "args": [
             {
              "hovertext": [
               null,
               [
                "Node ID: 0<br>Pullback set label: 0<br>Partial cluster label: 0<br>Node size: 14<br>Summary statistic: 0.131",
                "Node ID: 1<br>Pullback set label: 1<br>Partial cluster label: -1<br>Node size: 14<br>Summary statistic: 0.169",
                "Node ID: 2<br>Pullback set label: 17<br>Partial cluster label: -1<br>Node size: 24<br>Summary statistic: 0.292",
                "Node ID: 3<br>Pullback set label: 4<br>Partial cluster label: -1<br>Node size: 13<br>Summary statistic: 0.159",
                "Node ID: 4<br>Pullback set label: 18<br>Partial cluster label: -1<br>Node size: 16<br>Summary statistic: 0",
                "Node ID: 5<br>Pullback set label: 2<br>Partial cluster label: -1<br>Node size: 12<br>Summary statistic: 0.172",
                "Node ID: 6<br>Pullback set label: 3<br>Partial cluster label: -1<br>Node size: 7<br>Summary statistic: 0.236",
                "Node ID: 7<br>Pullback set label: 7<br>Partial cluster label: -1<br>Node size: 13<br>Summary statistic: 0.141",
                "Node ID: 8<br>Pullback set label: 5<br>Partial cluster label: -1<br>Node size: 16<br>Summary statistic: 0.135",
                "Node ID: 9<br>Pullback set label: 6<br>Partial cluster label: -1<br>Node size: 18<br>Summary statistic: 0.134",
                "Node ID: 10<br>Pullback set label: 20<br>Partial cluster label: -1<br>Node size: 11<br>Summary statistic: 0",
                "Node ID: 11<br>Pullback set label: 21<br>Partial cluster label: -1<br>Node size: 3<br>Summary statistic: 0.333",
                "Node ID: 12<br>Pullback set label: 9<br>Partial cluster label: -1<br>Node size: 8<br>Summary statistic: 0.0625",
                "Node ID: 13<br>Pullback set label: 10<br>Partial cluster label: -1<br>Node size: 17<br>Summary statistic: 0.0588",
                "Node ID: 14<br>Pullback set label: 0<br>Partial cluster label: -1<br>Node size: 6<br>Summary statistic: 0.263",
                "Node ID: 15<br>Pullback set label: 14<br>Partial cluster label: -1<br>Node size: 22<br>Summary statistic: 0.0227",
                "Node ID: 16<br>Pullback set label: 15<br>Partial cluster label: -1<br>Node size: 17<br>Summary statistic: 0.0441",
                "Node ID: 17<br>Pullback set label: 23<br>Partial cluster label: -1<br>Node size: 3<br>Summary statistic: 0.333",
                "Node ID: 18<br>Pullback set label: 24<br>Partial cluster label: -1<br>Node size: 1<br>Summary statistic: 0",
                "Node ID: 19<br>Pullback set label: 11<br>Partial cluster label: -1<br>Node size: 8<br>Summary statistic: 0",
                "Node ID: 20<br>Pullback set label: 13<br>Partial cluster label: -1<br>Node size: 15<br>Summary statistic: 0.0333",
                "Node ID: 21<br>Pullback set label: 16<br>Partial cluster label: -1<br>Node size: 26<br>Summary statistic: 0.144",
                "Node ID: 22<br>Pullback set label: 8<br>Partial cluster label: -1<br>Node size: 8<br>Summary statistic: 0.188",
                "Node ID: 23<br>Pullback set label: 27<br>Partial cluster label: -1<br>Node size: 5<br>Summary statistic: 0",
                "Node ID: 24<br>Pullback set label: 28<br>Partial cluster label: -1<br>Node size: 5<br>Summary statistic: 0",
                "Node ID: 25<br>Pullback set label: 12<br>Partial cluster label: -1<br>Node size: 4<br>Summary statistic: 0.0833",
                "Node ID: 26<br>Pullback set label: 22<br>Partial cluster label: -1<br>Node size: 6<br>Summary statistic: 0.333",
                "Node ID: 27<br>Pullback set label: 14<br>Partial cluster label: 0<br>Node size: 5<br>Summary statistic: 0",
                "Node ID: 28<br>Pullback set label: 19<br>Partial cluster label: -1<br>Node size: 11<br>Summary statistic: 0",
                "Node ID: 29<br>Pullback set label: 25<br>Partial cluster label: 0<br>Node size: 45<br>Summary statistic: 1.0",
                "Node ID: 30<br>Pullback set label: 28<br>Partial cluster label: 0<br>Node size: 6<br>Summary statistic: 1.0",
                "Node ID: 31<br>Pullback set label: 19<br>Partial cluster label: 0<br>Node size: 5<br>Summary statistic: 0",
                "Node ID: 32<br>Pullback set label: 21<br>Partial cluster label: 0<br>Node size: 26<br>Summary statistic: 0",
                "Node ID: 33<br>Pullback set label: 22<br>Partial cluster label: 0<br>Node size: 8<br>Summary statistic: 0",
                "Node ID: 34<br>Pullback set label: 26<br>Partial cluster label: -1<br>Node size: 4<br>Summary statistic: 0",
                "Node ID: 35<br>Pullback set label: 17<br>Partial cluster label: 0<br>Node size: 20<br>Summary statistic: 0",
                "Node ID: 36<br>Pullback set label: 18<br>Partial cluster label: 0<br>Node size: 20<br>Summary statistic: 0"
               ]
              ],
              "marker.color": [
               null,
               [
                0.13120416847068397,
                0.16856321782792372,
                0.2916666666666667,
                0.15897435897435896,
                0,
                0.1724537037037037,
                0.2357142857142857,
                0.14102564102564102,
                0.13541666666666666,
                0.13425925925925924,
                0,
                0.3333333333333333,
                0.0625,
                0.058823529411764705,
                0.26269841269841265,
                0.022727272727272728,
                0.04411764705882353,
                0.3333333333333333,
                0,
                0,
                0.03333333333333333,
                0.14423076923076922,
                0.1875,
                0,
                0,
                0.08333333333333333,
                0.3333333333333333,
                0,
                0,
                1,
                1,
                0,
                0,
                0,
                0,
                0,
                0
               ]
              ]
             }
            ],
            "label": "0",
            "method": "restyle"
           },
           {
            "args": [
             {
              "hovertext": [
               null,
               [
                "Node ID: 0<br>Pullback set label: 0<br>Partial cluster label: 0<br>Node size: 14<br>Summary statistic: 0.551",
                "Node ID: 1<br>Pullback set label: 1<br>Partial cluster label: -1<br>Node size: 14<br>Summary statistic: 0.528",
                "Node ID: 2<br>Pullback set label: 17<br>Partial cluster label: -1<br>Node size: 24<br>Summary statistic: 0.688",
                "Node ID: 3<br>Pullback set label: 4<br>Partial cluster label: -1<br>Node size: 13<br>Summary statistic: 0.49",
                "Node ID: 4<br>Pullback set label: 18<br>Partial cluster label: -1<br>Node size: 16<br>Summary statistic: 0.281",
                "Node ID: 5<br>Pullback set label: 2<br>Partial cluster label: -1<br>Node size: 12<br>Summary statistic: 0.551",
                "Node ID: 6<br>Pullback set label: 3<br>Partial cluster label: -1<br>Node size: 7<br>Summary statistic: 0.707",
                "Node ID: 7<br>Pullback set label: 7<br>Partial cluster label: -1<br>Node size: 13<br>Summary statistic: 0.673",
                "Node ID: 8<br>Pullback set label: 5<br>Partial cluster label: -1<br>Node size: 16<br>Summary statistic: 0.417",
                "Node ID: 9<br>Pullback set label: 6<br>Partial cluster label: -1<br>Node size: 18<br>Summary statistic: 0.625",
                "Node ID: 10<br>Pullback set label: 20<br>Partial cluster label: -1<br>Node size: 11<br>Summary statistic: 0.0909",
                "Node ID: 11<br>Pullback set label: 21<br>Partial cluster label: -1<br>Node size: 3<br>Summary statistic: 0.667",
                "Node ID: 12<br>Pullback set label: 9<br>Partial cluster label: -1<br>Node size: 8<br>Summary statistic: 0.708",
                "Node ID: 13<br>Pullback set label: 10<br>Partial cluster label: -1<br>Node size: 17<br>Summary statistic: 0.539",
                "Node ID: 14<br>Pullback set label: 0<br>Partial cluster label: -1<br>Node size: 6<br>Summary statistic: 0.644",
                "Node ID: 15<br>Pullback set label: 14<br>Partial cluster label: -1<br>Node size: 22<br>Summary statistic: 0.311",
                "Node ID: 16<br>Pullback set label: 15<br>Partial cluster label: -1<br>Node size: 17<br>Summary statistic: 0.564",
                "Node ID: 17<br>Pullback set label: 23<br>Partial cluster label: -1<br>Node size: 3<br>Summary statistic: 0",
                "Node ID: 18<br>Pullback set label: 24<br>Partial cluster label: -1<br>Node size: 1<br>Summary statistic: 0",
                "Node ID: 19<br>Pullback set label: 11<br>Partial cluster label: -1<br>Node size: 8<br>Summary statistic: 0.5",
                "Node ID: 20<br>Pullback set label: 13<br>Partial cluster label: -1<br>Node size: 15<br>Summary statistic: 0.467",
                "Node ID: 21<br>Pullback set label: 16<br>Partial cluster label: -1<br>Node size: 26<br>Summary statistic: 0.625",
                "Node ID: 22<br>Pullback set label: 8<br>Partial cluster label: -1<br>Node size: 8<br>Summary statistic: 0.667",
                "Node ID: 23<br>Pullback set label: 27<br>Partial cluster label: -1<br>Node size: 5<br>Summary statistic: 0.6",
                "Node ID: 24<br>Pullback set label: 28<br>Partial cluster label: -1<br>Node size: 5<br>Summary statistic: 0.4",
                "Node ID: 25<br>Pullback set label: 12<br>Partial cluster label: -1<br>Node size: 4<br>Summary statistic: 0.417",
                "Node ID: 26<br>Pullback set label: 22<br>Partial cluster label: -1<br>Node size: 6<br>Summary statistic: 0.333",
                "Node ID: 27<br>Pullback set label: 14<br>Partial cluster label: 0<br>Node size: 5<br>Summary statistic: 1.0",
                "Node ID: 28<br>Pullback set label: 19<br>Partial cluster label: -1<br>Node size: 11<br>Summary statistic: 0",
                "Node ID: 29<br>Pullback set label: 25<br>Partial cluster label: 0<br>Node size: 45<br>Summary statistic: 1.0",
                "Node ID: 30<br>Pullback set label: 28<br>Partial cluster label: 0<br>Node size: 6<br>Summary statistic: 1.0",
                "Node ID: 31<br>Pullback set label: 19<br>Partial cluster label: 0<br>Node size: 5<br>Summary statistic: 1.0",
                "Node ID: 32<br>Pullback set label: 21<br>Partial cluster label: 0<br>Node size: 26<br>Summary statistic: 1.0",
                "Node ID: 33<br>Pullback set label: 22<br>Partial cluster label: 0<br>Node size: 8<br>Summary statistic: 0",
                "Node ID: 34<br>Pullback set label: 26<br>Partial cluster label: -1<br>Node size: 4<br>Summary statistic: 0.25",
                "Node ID: 35<br>Pullback set label: 17<br>Partial cluster label: 0<br>Node size: 20<br>Summary statistic: 0",
                "Node ID: 36<br>Pullback set label: 18<br>Partial cluster label: 0<br>Node size: 20<br>Summary statistic: 0"
               ]
              ],
              "marker.color": [
               null,
               [
                0.5506254521241208,
                0.5284166930175334,
                0.6875,
                0.4897435897435897,
                0.28125,
                0.5514219576719578,
                0.7068027210884354,
                0.6730769230769231,
                0.41666666666666663,
                0.6249999999999999,
                0.09090909090909091,
                0.6666666666666666,
                0.7083333333333333,
                0.5392156862745098,
                0.6436507936507936,
                0.3106060606060606,
                0.5637254901960784,
                0,
                0,
                0.5,
                0.4666666666666667,
                0.625,
                0.6666666666666666,
                0.6,
                0.4,
                0.41666666666666663,
                0.3333333333333333,
                1,
                0,
                1,
                1,
                1,
                1,
                0,
                0.25,
                0,
                0
               ]
              ]
             }
            ],
            "label": "1",
            "method": "restyle"
           },
           {
            "args": [
             {
              "hovertext": [
               null,
               [
                "Node ID: 0<br>Pullback set label: 0<br>Partial cluster label: 0<br>Node size: 14<br>Summary statistic: 0.0735",
                "Node ID: 1<br>Pullback set label: 1<br>Partial cluster label: -1<br>Node size: 14<br>Summary statistic: 0.102",
                "Node ID: 2<br>Pullback set label: 17<br>Partial cluster label: -1<br>Node size: 24<br>Summary statistic: 0",
                "Node ID: 3<br>Pullback set label: 4<br>Partial cluster label: -1<br>Node size: 13<br>Summary statistic: 0.108",
                "Node ID: 4<br>Pullback set label: 18<br>Partial cluster label: -1<br>Node size: 16<br>Summary statistic: 0",
                "Node ID: 5<br>Pullback set label: 2<br>Partial cluster label: -1<br>Node size: 12<br>Summary statistic: 0.16",
                "Node ID: 6<br>Pullback set label: 3<br>Partial cluster label: -1<br>Node size: 7<br>Summary statistic: 0.14",
                "Node ID: 7<br>Pullback set label: 7<br>Partial cluster label: -1<br>Node size: 13<br>Summary statistic: 0.0641",
                "Node ID: 8<br>Pullback set label: 5<br>Partial cluster label: -1<br>Node size: 16<br>Summary statistic: 0.115",
                "Node ID: 9<br>Pullback set label: 6<br>Partial cluster label: -1<br>Node size: 18<br>Summary statistic: 0.134",
                "Node ID: 10<br>Pullback set label: 20<br>Partial cluster label: -1<br>Node size: 11<br>Summary statistic: 0",
                "Node ID: 11<br>Pullback set label: 21<br>Partial cluster label: -1<br>Node size: 3<br>Summary statistic: 0",
                "Node ID: 12<br>Pullback set label: 9<br>Partial cluster label: -1<br>Node size: 8<br>Summary statistic: 0",
                "Node ID: 13<br>Pullback set label: 10<br>Partial cluster label: -1<br>Node size: 17<br>Summary statistic: 0.0294",
                "Node ID: 14<br>Pullback set label: 0<br>Partial cluster label: -1<br>Node size: 6<br>Summary statistic: 0.192",
                "Node ID: 15<br>Pullback set label: 14<br>Partial cluster label: -1<br>Node size: 22<br>Summary statistic: 0.0455",
                "Node ID: 16<br>Pullback set label: 15<br>Partial cluster label: -1<br>Node size: 17<br>Summary statistic: 0",
                "Node ID: 17<br>Pullback set label: 23<br>Partial cluster label: -1<br>Node size: 3<br>Summary statistic: 0.333",
                "Node ID: 18<br>Pullback set label: 24<br>Partial cluster label: -1<br>Node size: 1<br>Summary statistic: 1.0",
                "Node ID: 19<br>Pullback set label: 11<br>Partial cluster label: -1<br>Node size: 8<br>Summary statistic: 0",
                "Node ID: 20<br>Pullback set label: 13<br>Partial cluster label: -1<br>Node size: 15<br>Summary statistic: 0.0667",
                "Node ID: 21<br>Pullback set label: 16<br>Partial cluster label: -1<br>Node size: 26<br>Summary statistic: 0.115",
                "Node ID: 22<br>Pullback set label: 8<br>Partial cluster label: -1<br>Node size: 8<br>Summary statistic: 0.125",
                "Node ID: 23<br>Pullback set label: 27<br>Partial cluster label: -1<br>Node size: 5<br>Summary statistic: 0",
                "Node ID: 24<br>Pullback set label: 28<br>Partial cluster label: -1<br>Node size: 5<br>Summary statistic: 0",
                "Node ID: 25<br>Pullback set label: 12<br>Partial cluster label: -1<br>Node size: 4<br>Summary statistic: 0.25",
                "Node ID: 26<br>Pullback set label: 22<br>Partial cluster label: -1<br>Node size: 6<br>Summary statistic: 0",
                "Node ID: 27<br>Pullback set label: 14<br>Partial cluster label: 0<br>Node size: 5<br>Summary statistic: 0",
                "Node ID: 28<br>Pullback set label: 19<br>Partial cluster label: -1<br>Node size: 11<br>Summary statistic: 0",
                "Node ID: 29<br>Pullback set label: 25<br>Partial cluster label: 0<br>Node size: 45<br>Summary statistic: 1.0",
                "Node ID: 30<br>Pullback set label: 28<br>Partial cluster label: 0<br>Node size: 6<br>Summary statistic: 0",
                "Node ID: 31<br>Pullback set label: 19<br>Partial cluster label: 0<br>Node size: 5<br>Summary statistic: 0",
                "Node ID: 32<br>Pullback set label: 21<br>Partial cluster label: 0<br>Node size: 26<br>Summary statistic: 0",
                "Node ID: 33<br>Pullback set label: 22<br>Partial cluster label: 0<br>Node size: 8<br>Summary statistic: 0",
                "Node ID: 34<br>Pullback set label: 26<br>Partial cluster label: -1<br>Node size: 4<br>Summary statistic: 0.25",
                "Node ID: 35<br>Pullback set label: 17<br>Partial cluster label: 0<br>Node size: 20<br>Summary statistic: 0",
                "Node ID: 36<br>Pullback set label: 18<br>Partial cluster label: 0<br>Node size: 20<br>Summary statistic: 0"
               ]
              ],
              "marker.color": [
               null,
               [
                0.07347843069928935,
                0.10151882431294197,
                0,
                0.10769230769230768,
                0,
                0.16041666666666668,
                0.14047619047619048,
                0.0641025641025641,
                0.11458333333333331,
                0.13425925925925924,
                0,
                0,
                0,
                0.029411764705882353,
                0.19206349206349208,
                0.045454545454545456,
                0,
                0.3333333333333333,
                1,
                0,
                0.06666666666666667,
                0.11538461538461539,
                0.125,
                0,
                0,
                0.25,
                0,
                0,
                0,
                1,
                0,
                0,
                0,
                0,
                0.25,
                0,
                0
               ]
              ]
             }
            ],
            "label": "2",
            "method": "restyle"
           },
           {
            "args": [
             {
              "hovertext": [
               null,
               [
                "Node ID: 0<br>Pullback set label: 0<br>Partial cluster label: 0<br>Node size: 14<br>Summary statistic: 0.138",
                "Node ID: 1<br>Pullback set label: 1<br>Partial cluster label: -1<br>Node size: 14<br>Summary statistic: 0.176",
                "Node ID: 2<br>Pullback set label: 17<br>Partial cluster label: -1<br>Node size: 24<br>Summary statistic: 0.292",
                "Node ID: 3<br>Pullback set label: 4<br>Partial cluster label: -1<br>Node size: 13<br>Summary statistic: 0.195",
                "Node ID: 4<br>Pullback set label: 18<br>Partial cluster label: -1<br>Node size: 16<br>Summary statistic: 0.125",
                "Node ID: 5<br>Pullback set label: 2<br>Partial cluster label: -1<br>Node size: 12<br>Summary statistic: 0.252",
                "Node ID: 6<br>Pullback set label: 3<br>Partial cluster label: -1<br>Node size: 7<br>Summary statistic: 0.289",
                "Node ID: 7<br>Pullback set label: 7<br>Partial cluster label: -1<br>Node size: 13<br>Summary statistic: 0.159",
                "Node ID: 8<br>Pullback set label: 5<br>Partial cluster label: -1<br>Node size: 16<br>Summary statistic: 0.167",
                "Node ID: 9<br>Pullback set label: 6<br>Partial cluster label: -1<br>Node size: 18<br>Summary statistic: 0.161",
                "Node ID: 10<br>Pullback set label: 20<br>Partial cluster label: -1<br>Node size: 11<br>Summary statistic: 0.182",
                "Node ID: 11<br>Pullback set label: 21<br>Partial cluster label: -1<br>Node size: 3<br>Summary statistic: 0",
                "Node ID: 12<br>Pullback set label: 9<br>Partial cluster label: -1<br>Node size: 8<br>Summary statistic: 0.281",
                "Node ID: 13<br>Pullback set label: 10<br>Partial cluster label: -1<br>Node size: 17<br>Summary statistic: 0.294",
                "Node ID: 14<br>Pullback set label: 0<br>Partial cluster label: -1<br>Node size: 6<br>Summary statistic: 0.237",
                "Node ID: 15<br>Pullback set label: 14<br>Partial cluster label: -1<br>Node size: 22<br>Summary statistic: 0.121",
                "Node ID: 16<br>Pullback set label: 15<br>Partial cluster label: -1<br>Node size: 17<br>Summary statistic: 0.0392",
                "Node ID: 17<br>Pullback set label: 23<br>Partial cluster label: -1<br>Node size: 3<br>Summary statistic: 0.333",
                "Node ID: 18<br>Pullback set label: 24<br>Partial cluster label: -1<br>Node size: 1<br>Summary statistic: 0",
                "Node ID: 19<br>Pullback set label: 11<br>Partial cluster label: -1<br>Node size: 8<br>Summary statistic: 0.312",
                "Node ID: 20<br>Pullback set label: 13<br>Partial cluster label: -1<br>Node size: 15<br>Summary statistic: 0.0667",
                "Node ID: 21<br>Pullback set label: 16<br>Partial cluster label: -1<br>Node size: 26<br>Summary statistic: 0.231",
                "Node ID: 22<br>Pullback set label: 8<br>Partial cluster label: -1<br>Node size: 8<br>Summary statistic: 0.323",
                "Node ID: 23<br>Pullback set label: 27<br>Partial cluster label: -1<br>Node size: 5<br>Summary statistic: 0.4",
                "Node ID: 24<br>Pullback set label: 28<br>Partial cluster label: -1<br>Node size: 5<br>Summary statistic: 0.4",
                "Node ID: 25<br>Pullback set label: 12<br>Partial cluster label: -1<br>Node size: 4<br>Summary statistic: 0.167",
                "Node ID: 26<br>Pullback set label: 22<br>Partial cluster label: -1<br>Node size: 6<br>Summary statistic: 0.167",
                "Node ID: 27<br>Pullback set label: 14<br>Partial cluster label: 0<br>Node size: 5<br>Summary statistic: 0",
                "Node ID: 28<br>Pullback set label: 19<br>Partial cluster label: -1<br>Node size: 11<br>Summary statistic: 0",
                "Node ID: 29<br>Pullback set label: 25<br>Partial cluster label: 0<br>Node size: 45<br>Summary statistic: 1.0",
                "Node ID: 30<br>Pullback set label: 28<br>Partial cluster label: 0<br>Node size: 6<br>Summary statistic: 1.0",
                "Node ID: 31<br>Pullback set label: 19<br>Partial cluster label: 0<br>Node size: 5<br>Summary statistic: 0",
                "Node ID: 32<br>Pullback set label: 21<br>Partial cluster label: 0<br>Node size: 26<br>Summary statistic: 0",
                "Node ID: 33<br>Pullback set label: 22<br>Partial cluster label: 0<br>Node size: 8<br>Summary statistic: 0",
                "Node ID: 34<br>Pullback set label: 26<br>Partial cluster label: -1<br>Node size: 4<br>Summary statistic: 0",
                "Node ID: 35<br>Pullback set label: 17<br>Partial cluster label: 0<br>Node size: 20<br>Summary statistic: 0",
                "Node ID: 36<br>Pullback set label: 18<br>Partial cluster label: 0<br>Node size: 20<br>Summary statistic: 0"
               ]
              ],
              "marker.color": [
               null,
               [
                0.13841928645260868,
                0.1761566281524265,
                0.2916666666666667,
                0.19487179487179487,
                0.125,
                0.2524140211640212,
                0.2894557823129252,
                0.15897435897435896,
                0.16666666666666666,
                0.1611111111111111,
                0.18181818181818182,
                0,
                0.28125,
                0.29411764705882354,
                0.23650793650793653,
                0.1212121212121212,
                0.0392156862745098,
                0.3333333333333333,
                0,
                0.3125,
                0.06666666666666667,
                0.23076923076923078,
                0.32291666666666663,
                0.4,
                0.4,
                0.16666666666666666,
                0.16666666666666666,
                0,
                0,
                1,
                1,
                0,
                0,
                0,
                0,
                0,
                0
               ]
              ]
             }
            ],
            "label": "3",
            "method": "restyle"
           },
           {
            "args": [
             {
              "hovertext": [
               null,
               [
                "Node ID: 0<br>Pullback set label: 0<br>Partial cluster label: 0<br>Node size: 14<br>Summary statistic: 0.154",
                "Node ID: 1<br>Pullback set label: 1<br>Partial cluster label: -1<br>Node size: 14<br>Summary statistic: 0.225",
                "Node ID: 2<br>Pullback set label: 17<br>Partial cluster label: -1<br>Node size: 24<br>Summary statistic: 0.167",
                "Node ID: 3<br>Pullback set label: 4<br>Partial cluster label: -1<br>Node size: 13<br>Summary statistic: 0.145",
                "Node ID: 4<br>Pullback set label: 18<br>Partial cluster label: -1<br>Node size: 16<br>Summary statistic: 0.125",
                "Node ID: 5<br>Pullback set label: 2<br>Partial cluster label: -1<br>Node size: 12<br>Summary statistic: 0.226",
                "Node ID: 6<br>Pullback set label: 3<br>Partial cluster label: -1<br>Node size: 7<br>Summary statistic: 0.169",
                "Node ID: 7<br>Pullback set label: 7<br>Partial cluster label: -1<br>Node size: 13<br>Summary statistic: 0.121",
                "Node ID: 8<br>Pullback set label: 5<br>Partial cluster label: -1<br>Node size: 16<br>Summary statistic: 0.151",
                "Node ID: 9<br>Pullback set label: 6<br>Partial cluster label: -1<br>Node size: 18<br>Summary statistic: 0.175",
                "Node ID: 10<br>Pullback set label: 20<br>Partial cluster label: -1<br>Node size: 11<br>Summary statistic: 0.273",
                "Node ID: 11<br>Pullback set label: 21<br>Partial cluster label: -1<br>Node size: 3<br>Summary statistic: 0.333",
                "Node ID: 12<br>Pullback set label: 9<br>Partial cluster label: -1<br>Node size: 8<br>Summary statistic: 0.135",
                "Node ID: 13<br>Pullback set label: 10<br>Partial cluster label: -1<br>Node size: 17<br>Summary statistic: 0.118",
                "Node ID: 14<br>Pullback set label: 0<br>Partial cluster label: -1<br>Node size: 6<br>Summary statistic: 0.287",
                "Node ID: 15<br>Pullback set label: 14<br>Partial cluster label: -1<br>Node size: 22<br>Summary statistic: 0.053",
                "Node ID: 16<br>Pullback set label: 15<br>Partial cluster label: -1<br>Node size: 17<br>Summary statistic: 0.098",
                "Node ID: 17<br>Pullback set label: 23<br>Partial cluster label: -1<br>Node size: 3<br>Summary statistic: 0",
                "Node ID: 18<br>Pullback set label: 24<br>Partial cluster label: -1<br>Node size: 1<br>Summary statistic: 0",
                "Node ID: 19<br>Pullback set label: 11<br>Partial cluster label: -1<br>Node size: 8<br>Summary statistic: 0.125",
                "Node ID: 20<br>Pullback set label: 13<br>Partial cluster label: -1<br>Node size: 15<br>Summary statistic: 0.167",
                "Node ID: 21<br>Pullback set label: 16<br>Partial cluster label: -1<br>Node size: 26<br>Summary statistic: 0.0769",
                "Node ID: 22<br>Pullback set label: 8<br>Partial cluster label: -1<br>Node size: 8<br>Summary statistic: 0.198",
                "Node ID: 23<br>Pullback set label: 27<br>Partial cluster label: -1<br>Node size: 5<br>Summary statistic: 0.6",
                "Node ID: 24<br>Pullback set label: 28<br>Partial cluster label: -1<br>Node size: 5<br>Summary statistic: 0.4",
                "Node ID: 25<br>Pullback set label: 12<br>Partial cluster label: -1<br>Node size: 4<br>Summary statistic: 0.0833",
                "Node ID: 26<br>Pullback set label: 22<br>Partial cluster label: -1<br>Node size: 6<br>Summary statistic: 0",
                "Node ID: 27<br>Pullback set label: 14<br>Partial cluster label: 0<br>Node size: 5<br>Summary statistic: 0",
                "Node ID: 28<br>Pullback set label: 19<br>Partial cluster label: -1<br>Node size: 11<br>Summary statistic: 0.0909",
                "Node ID: 29<br>Pullback set label: 25<br>Partial cluster label: 0<br>Node size: 45<br>Summary statistic: 1.0",
                "Node ID: 30<br>Pullback set label: 28<br>Partial cluster label: 0<br>Node size: 6<br>Summary statistic: 1.0",
                "Node ID: 31<br>Pullback set label: 19<br>Partial cluster label: 0<br>Node size: 5<br>Summary statistic: 0",
                "Node ID: 32<br>Pullback set label: 21<br>Partial cluster label: 0<br>Node size: 26<br>Summary statistic: 0",
                "Node ID: 33<br>Pullback set label: 22<br>Partial cluster label: 0<br>Node size: 8<br>Summary statistic: 0",
                "Node ID: 34<br>Pullback set label: 26<br>Partial cluster label: -1<br>Node size: 4<br>Summary statistic: 0.25",
                "Node ID: 35<br>Pullback set label: 17<br>Partial cluster label: 0<br>Node size: 20<br>Summary statistic: 0",
                "Node ID: 36<br>Pullback set label: 18<br>Partial cluster label: 0<br>Node size: 20<br>Summary statistic: 0"
               ]
              ],
              "marker.color": [
               null,
               [
                0.15386492990650993,
                0.22524781474361308,
                0.16666666666666666,
                0.14487179487179486,
                0.125,
                0.22638888888888886,
                0.16904761904761906,
                0.12051282051282051,
                0.15104166666666666,
                0.175,
                0.2727272727272727,
                0.3333333333333333,
                0.13541666666666666,
                0.11764705882352941,
                0.2865079365079365,
                0.053030303030303025,
                0.0980392156862745,
                0,
                0,
                0.125,
                0.16666666666666666,
                0.07692307692307693,
                0.19791666666666666,
                0.6,
                0.4,
                0.08333333333333333,
                0,
                0,
                0.09090909090909091,
                1,
                1,
                0,
                0,
                0,
                0.25,
                0,
                0
               ]
              ]
             }
            ],
            "label": "4",
            "method": "restyle"
           },
           {
            "args": [
             {
              "hovertext": [
               null,
               [
                "Node ID: 0<br>Pullback set label: 0<br>Partial cluster label: 0<br>Node size: 14<br>Summary statistic: 0.0827",
                "Node ID: 1<br>Pullback set label: 1<br>Partial cluster label: -1<br>Node size: 14<br>Summary statistic: 0.097",
                "Node ID: 2<br>Pullback set label: 17<br>Partial cluster label: -1<br>Node size: 24<br>Summary statistic: 0",
                "Node ID: 3<br>Pullback set label: 4<br>Partial cluster label: -1<br>Node size: 13<br>Summary statistic: 0.0923",
                "Node ID: 4<br>Pullback set label: 18<br>Partial cluster label: -1<br>Node size: 16<br>Summary statistic: 0",
                "Node ID: 5<br>Pullback set label: 2<br>Partial cluster label: -1<br>Node size: 12<br>Summary statistic: 0.171",
                "Node ID: 6<br>Pullback set label: 3<br>Partial cluster label: -1<br>Node size: 7<br>Summary statistic: 0.14",
                "Node ID: 7<br>Pullback set label: 7<br>Partial cluster label: -1<br>Node size: 13<br>Summary statistic: 0.0641",
                "Node ID: 8<br>Pullback set label: 5<br>Partial cluster label: -1<br>Node size: 16<br>Summary statistic: 0.099",
                "Node ID: 9<br>Pullback set label: 6<br>Partial cluster label: -1<br>Node size: 18<br>Summary statistic: 0.12",
                "Node ID: 10<br>Pullback set label: 20<br>Partial cluster label: -1<br>Node size: 11<br>Summary statistic: 0",
                "Node ID: 11<br>Pullback set label: 21<br>Partial cluster label: -1<br>Node size: 3<br>Summary statistic: 0",
                "Node ID: 12<br>Pullback set label: 9<br>Partial cluster label: -1<br>Node size: 8<br>Summary statistic: 0.125",
                "Node ID: 13<br>Pullback set label: 10<br>Partial cluster label: -1<br>Node size: 17<br>Summary statistic: 0.0588",
                "Node ID: 14<br>Pullback set label: 0<br>Partial cluster label: -1<br>Node size: 6<br>Summary statistic: 0.192",
                "Node ID: 15<br>Pullback set label: 14<br>Partial cluster label: -1<br>Node size: 22<br>Summary statistic: 0.0455",
                "Node ID: 16<br>Pullback set label: 15<br>Partial cluster label: -1<br>Node size: 17<br>Summary statistic: 0",
                "Node ID: 17<br>Pullback set label: 23<br>Partial cluster label: -1<br>Node size: 3<br>Summary statistic: 0",
                "Node ID: 18<br>Pullback set label: 24<br>Partial cluster label: -1<br>Node size: 1<br>Summary statistic: 0",
                "Node ID: 19<br>Pullback set label: 11<br>Partial cluster label: -1<br>Node size: 8<br>Summary statistic: 0",
                "Node ID: 20<br>Pullback set label: 13<br>Partial cluster label: -1<br>Node size: 15<br>Summary statistic: 0.0667",
                "Node ID: 21<br>Pullback set label: 16<br>Partial cluster label: -1<br>Node size: 26<br>Summary statistic: 0.115",
                "Node ID: 22<br>Pullback set label: 8<br>Partial cluster label: -1<br>Node size: 8<br>Summary statistic: 0.25",
                "Node ID: 23<br>Pullback set label: 27<br>Partial cluster label: -1<br>Node size: 5<br>Summary statistic: 0",
                "Node ID: 24<br>Pullback set label: 28<br>Partial cluster label: -1<br>Node size: 5<br>Summary statistic: 0",
                "Node ID: 25<br>Pullback set label: 12<br>Partial cluster label: -1<br>Node size: 4<br>Summary statistic: 0",
                "Node ID: 26<br>Pullback set label: 22<br>Partial cluster label: -1<br>Node size: 6<br>Summary statistic: 0",
                "Node ID: 27<br>Pullback set label: 14<br>Partial cluster label: 0<br>Node size: 5<br>Summary statistic: 0",
                "Node ID: 28<br>Pullback set label: 19<br>Partial cluster label: -1<br>Node size: 11<br>Summary statistic: 0",
                "Node ID: 29<br>Pullback set label: 25<br>Partial cluster label: 0<br>Node size: 45<br>Summary statistic: 1.0",
                "Node ID: 30<br>Pullback set label: 28<br>Partial cluster label: 0<br>Node size: 6<br>Summary statistic: 0",
                "Node ID: 31<br>Pullback set label: 19<br>Partial cluster label: 0<br>Node size: 5<br>Summary statistic: 1.0",
                "Node ID: 32<br>Pullback set label: 21<br>Partial cluster label: 0<br>Node size: 26<br>Summary statistic: 0",
                "Node ID: 33<br>Pullback set label: 22<br>Partial cluster label: 0<br>Node size: 8<br>Summary statistic: 0",
                "Node ID: 34<br>Pullback set label: 26<br>Partial cluster label: -1<br>Node size: 4<br>Summary statistic: 0",
                "Node ID: 35<br>Pullback set label: 17<br>Partial cluster label: 0<br>Node size: 20<br>Summary statistic: 0",
                "Node ID: 36<br>Pullback set label: 18<br>Partial cluster label: 0<br>Node size: 20<br>Summary statistic: 0"
               ]
              ],
              "marker.color": [
               null,
               [
                0.0827341766635801,
                0.09700201759025288,
                0,
                0.0923076923076923,
                0,
                0.1708333333333333,
                0.14047619047619048,
                0.0641025641025641,
                0.09895833333333331,
                0.12037037037037036,
                0,
                0,
                0.125,
                0.058823529411764705,
                0.19206349206349208,
                0.045454545454545456,
                0,
                0,
                0,
                0,
                0.06666666666666667,
                0.11538461538461539,
                0.25,
                0,
                0,
                0,
                0,
                0,
                0,
                1,
                0,
                1,
                0,
                0,
                0,
                0,
                0
               ]
              ]
             }
            ],
            "label": "5",
            "method": "restyle"
           },
           {
            "args": [
             {
              "hovertext": [
               null,
               [
                "Node ID: 0<br>Pullback set label: 0<br>Partial cluster label: 0<br>Node size: 14<br>Summary statistic: 0.277",
                "Node ID: 1<br>Pullback set label: 1<br>Partial cluster label: -1<br>Node size: 14<br>Summary statistic: 0.245",
                "Node ID: 2<br>Pullback set label: 17<br>Partial cluster label: -1<br>Node size: 24<br>Summary statistic: 0.0417",
                "Node ID: 3<br>Pullback set label: 4<br>Partial cluster label: -1<br>Node size: 13<br>Summary statistic: 0.178",
                "Node ID: 4<br>Pullback set label: 18<br>Partial cluster label: -1<br>Node size: 16<br>Summary statistic: 0.25",
                "Node ID: 5<br>Pullback set label: 2<br>Partial cluster label: -1<br>Node size: 12<br>Summary statistic: 0.325",
                "Node ID: 6<br>Pullback set label: 3<br>Partial cluster label: -1<br>Node size: 7<br>Summary statistic: 0.293",
                "Node ID: 7<br>Pullback set label: 7<br>Partial cluster label: -1<br>Node size: 13<br>Summary statistic: 0.256",
                "Node ID: 8<br>Pullback set label: 5<br>Partial cluster label: -1<br>Node size: 16<br>Summary statistic: 0.234",
                "Node ID: 9<br>Pullback set label: 6<br>Partial cluster label: -1<br>Node size: 18<br>Summary statistic: 0.273",
                "Node ID: 10<br>Pullback set label: 20<br>Partial cluster label: -1<br>Node size: 11<br>Summary statistic: 0",
                "Node ID: 11<br>Pullback set label: 21<br>Partial cluster label: -1<br>Node size: 3<br>Summary statistic: 0",
                "Node ID: 12<br>Pullback set label: 9<br>Partial cluster label: -1<br>Node size: 8<br>Summary statistic: 0.438",
                "Node ID: 13<br>Pullback set label: 10<br>Partial cluster label: -1<br>Node size: 17<br>Summary statistic: 0.304",
                "Node ID: 14<br>Pullback set label: 0<br>Partial cluster label: -1<br>Node size: 6<br>Summary statistic: 0.279",
                "Node ID: 15<br>Pullback set label: 14<br>Partial cluster label: -1<br>Node size: 22<br>Summary statistic: 0.227",
                "Node ID: 16<br>Pullback set label: 15<br>Partial cluster label: -1<br>Node size: 17<br>Summary statistic: 0.0882",
                "Node ID: 17<br>Pullback set label: 23<br>Partial cluster label: -1<br>Node size: 3<br>Summary statistic: 0.667",
                "Node ID: 18<br>Pullback set label: 24<br>Partial cluster label: -1<br>Node size: 1<br>Summary statistic: 0",
                "Node ID: 19<br>Pullback set label: 11<br>Partial cluster label: -1<br>Node size: 8<br>Summary statistic: 0.0625",
                "Node ID: 20<br>Pullback set label: 13<br>Partial cluster label: -1<br>Node size: 15<br>Summary statistic: 0.3",
                "Node ID: 21<br>Pullback set label: 16<br>Partial cluster label: -1<br>Node size: 26<br>Summary statistic: 0.115",
                "Node ID: 22<br>Pullback set label: 8<br>Partial cluster label: -1<br>Node size: 8<br>Summary statistic: 0.25",
                "Node ID: 23<br>Pullback set label: 27<br>Partial cluster label: -1<br>Node size: 5<br>Summary statistic: 0.4",
                "Node ID: 24<br>Pullback set label: 28<br>Partial cluster label: -1<br>Node size: 5<br>Summary statistic: 0.4",
                "Node ID: 25<br>Pullback set label: 12<br>Partial cluster label: -1<br>Node size: 4<br>Summary statistic: 0",
                "Node ID: 26<br>Pullback set label: 22<br>Partial cluster label: -1<br>Node size: 6<br>Summary statistic: 0.333",
                "Node ID: 27<br>Pullback set label: 14<br>Partial cluster label: 0<br>Node size: 5<br>Summary statistic: 0",
                "Node ID: 28<br>Pullback set label: 19<br>Partial cluster label: -1<br>Node size: 11<br>Summary statistic: 0.364",
                "Node ID: 29<br>Pullback set label: 25<br>Partial cluster label: 0<br>Node size: 45<br>Summary statistic: 1.0",
                "Node ID: 30<br>Pullback set label: 28<br>Partial cluster label: 0<br>Node size: 6<br>Summary statistic: 1.0",
                "Node ID: 31<br>Pullback set label: 19<br>Partial cluster label: 0<br>Node size: 5<br>Summary statistic: 1.0",
                "Node ID: 32<br>Pullback set label: 21<br>Partial cluster label: 0<br>Node size: 26<br>Summary statistic: 0",
                "Node ID: 33<br>Pullback set label: 22<br>Partial cluster label: 0<br>Node size: 8<br>Summary statistic: 0",
                "Node ID: 34<br>Pullback set label: 26<br>Partial cluster label: -1<br>Node size: 4<br>Summary statistic: 0",
                "Node ID: 35<br>Pullback set label: 17<br>Partial cluster label: 0<br>Node size: 20<br>Summary statistic: 0",
                "Node ID: 36<br>Pullback set label: 18<br>Partial cluster label: 0<br>Node size: 20<br>Summary statistic: 0"
               ]
              ],
              "marker.color": [
               null,
               [
                0.2771871227431174,
                0.24542490655936033,
                0.041666666666666664,
                0.17820512820512818,
                0.25,
                0.324537037037037,
                0.2928571428571428,
                0.2564102564102564,
                0.234375,
                0.27314814814814814,
                0,
                0,
                0.4375,
                0.30392156862745096,
                0.2793650793650793,
                0.22727272727272727,
                0.08823529411764706,
                0.6666666666666666,
                0,
                0.0625,
                0.3,
                0.11538461538461539,
                0.25,
                0.4,
                0.4,
                0,
                0.3333333333333333,
                0,
                0.36363636363636365,
                1,
                1,
                1,
                0,
                0,
                0,
                0,
                0
               ]
              ]
             }
            ],
            "label": "6",
            "method": "restyle"
           },
           {
            "args": [
             {
              "hovertext": [
               null,
               [
                "Node ID: 0<br>Pullback set label: 0<br>Partial cluster label: 0<br>Node size: 14<br>Summary statistic: 0.0964",
                "Node ID: 1<br>Pullback set label: 1<br>Partial cluster label: -1<br>Node size: 14<br>Summary statistic: 0.0795",
                "Node ID: 2<br>Pullback set label: 17<br>Partial cluster label: -1<br>Node size: 24<br>Summary statistic: 0.0208",
                "Node ID: 3<br>Pullback set label: 4<br>Partial cluster label: -1<br>Node size: 13<br>Summary statistic: 0.119",
                "Node ID: 4<br>Pullback set label: 18<br>Partial cluster label: -1<br>Node size: 16<br>Summary statistic: 0.156",
                "Node ID: 5<br>Pullback set label: 2<br>Partial cluster label: -1<br>Node size: 12<br>Summary statistic: 0.0911",
                "Node ID: 6<br>Pullback set label: 3<br>Partial cluster label: -1<br>Node size: 7<br>Summary statistic: 0.049",
                "Node ID: 7<br>Pullback set label: 7<br>Partial cluster label: -1<br>Node size: 13<br>Summary statistic: 0.162",
                "Node ID: 8<br>Pullback set label: 5<br>Partial cluster label: -1<br>Node size: 16<br>Summary statistic: 0.0885",
                "Node ID: 9<br>Pullback set label: 6<br>Partial cluster label: -1<br>Node size: 18<br>Summary statistic: 0.144",
                "Node ID: 10<br>Pullback set label: 20<br>Partial cluster label: -1<br>Node size: 11<br>Summary statistic: 0",
                "Node ID: 11<br>Pullback set label: 21<br>Partial cluster label: -1<br>Node size: 3<br>Summary statistic: 0.333",
                "Node ID: 12<br>Pullback set label: 9<br>Partial cluster label: -1<br>Node size: 8<br>Summary statistic: 0.333",
                "Node ID: 13<br>Pullback set label: 10<br>Partial cluster label: -1<br>Node size: 17<br>Summary statistic: 0.0588",
                "Node ID: 14<br>Pullback set label: 0<br>Partial cluster label: -1<br>Node size: 6<br>Summary statistic: 0.133",
                "Node ID: 15<br>Pullback set label: 14<br>Partial cluster label: -1<br>Node size: 22<br>Summary statistic: 0.0909",
                "Node ID: 16<br>Pullback set label: 15<br>Partial cluster label: -1<br>Node size: 17<br>Summary statistic: 0.0588",
                "Node ID: 17<br>Pullback set label: 23<br>Partial cluster label: -1<br>Node size: 3<br>Summary statistic: 0",
                "Node ID: 18<br>Pullback set label: 24<br>Partial cluster label: -1<br>Node size: 1<br>Summary statistic: 0",
                "Node ID: 19<br>Pullback set label: 11<br>Partial cluster label: -1<br>Node size: 8<br>Summary statistic: 0.0625",
                "Node ID: 20<br>Pullback set label: 13<br>Partial cluster label: -1<br>Node size: 15<br>Summary statistic: 0.0667",
                "Node ID: 21<br>Pullback set label: 16<br>Partial cluster label: -1<br>Node size: 26<br>Summary statistic: 0",
                "Node ID: 22<br>Pullback set label: 8<br>Partial cluster label: -1<br>Node size: 8<br>Summary statistic: 0.396",
                "Node ID: 23<br>Pullback set label: 27<br>Partial cluster label: -1<br>Node size: 5<br>Summary statistic: 0.2",
                "Node ID: 24<br>Pullback set label: 28<br>Partial cluster label: -1<br>Node size: 5<br>Summary statistic: 0.6",
                "Node ID: 25<br>Pullback set label: 12<br>Partial cluster label: -1<br>Node size: 4<br>Summary statistic: 0.167",
                "Node ID: 26<br>Pullback set label: 22<br>Partial cluster label: -1<br>Node size: 6<br>Summary statistic: 0",
                "Node ID: 27<br>Pullback set label: 14<br>Partial cluster label: 0<br>Node size: 5<br>Summary statistic: 0",
                "Node ID: 28<br>Pullback set label: 19<br>Partial cluster label: -1<br>Node size: 11<br>Summary statistic: 0.0909",
                "Node ID: 29<br>Pullback set label: 25<br>Partial cluster label: 0<br>Node size: 45<br>Summary statistic: 0",
                "Node ID: 30<br>Pullback set label: 28<br>Partial cluster label: 0<br>Node size: 6<br>Summary statistic: 0",
                "Node ID: 31<br>Pullback set label: 19<br>Partial cluster label: 0<br>Node size: 5<br>Summary statistic: 0",
                "Node ID: 32<br>Pullback set label: 21<br>Partial cluster label: 0<br>Node size: 26<br>Summary statistic: 1.0",
                "Node ID: 33<br>Pullback set label: 22<br>Partial cluster label: 0<br>Node size: 8<br>Summary statistic: 1.0",
                "Node ID: 34<br>Pullback set label: 26<br>Partial cluster label: -1<br>Node size: 4<br>Summary statistic: 0.25",
                "Node ID: 35<br>Pullback set label: 17<br>Partial cluster label: 0<br>Node size: 20<br>Summary statistic: 0",
                "Node ID: 36<br>Pullback set label: 18<br>Partial cluster label: 0<br>Node size: 20<br>Summary statistic: 0"
               ]
              ],
              "marker.color": [
               null,
               [
                0.09641327208720506,
                0.07947332779265552,
                0.020833333333333332,
                0.11923076923076922,
                0.15625,
                0.09107142857142857,
                0.04897959183673469,
                0.16153846153846155,
                0.08854166666666666,
                0.14444444444444446,
                0,
                0.3333333333333333,
                0.3333333333333333,
                0.058823529411764705,
                0.13333333333333333,
                0.09090909090909091,
                0.058823529411764705,
                0,
                0,
                0.0625,
                0.06666666666666667,
                0,
                0.3958333333333333,
                0.2,
                0.6,
                0.16666666666666666,
                0,
                0,
                0.09090909090909091,
                0,
                0,
                0,
                1,
                1,
                0.25,
                0,
                0
               ]
              ]
             }
            ],
            "label": "7",
            "method": "restyle"
           },
           {
            "args": [
             {
              "hovertext": [
               null,
               [
                "Node ID: 0<br>Pullback set label: 0<br>Partial cluster label: 0<br>Node size: 14<br>Summary statistic: 0.365",
                "Node ID: 1<br>Pullback set label: 1<br>Partial cluster label: -1<br>Node size: 14<br>Summary statistic: 0.382",
                "Node ID: 2<br>Pullback set label: 17<br>Partial cluster label: -1<br>Node size: 24<br>Summary statistic: 0.375",
                "Node ID: 3<br>Pullback set label: 4<br>Partial cluster label: -1<br>Node size: 13<br>Summary statistic: 0.354",
                "Node ID: 4<br>Pullback set label: 18<br>Partial cluster label: -1<br>Node size: 16<br>Summary statistic: 0.688",
                "Node ID: 5<br>Pullback set label: 2<br>Partial cluster label: -1<br>Node size: 12<br>Summary statistic: 0.385",
                "Node ID: 6<br>Pullback set label: 3<br>Partial cluster label: -1<br>Node size: 7<br>Summary statistic: 0.402",
                "Node ID: 7<br>Pullback set label: 7<br>Partial cluster label: -1<br>Node size: 13<br>Summary statistic: 0.246",
                "Node ID: 8<br>Pullback set label: 5<br>Partial cluster label: -1<br>Node size: 16<br>Summary statistic: 0.203",
                "Node ID: 9<br>Pullback set label: 6<br>Partial cluster label: -1<br>Node size: 18<br>Summary statistic: 0.21",
                "Node ID: 10<br>Pullback set label: 20<br>Partial cluster label: -1<br>Node size: 11<br>Summary statistic: 0.364",
                "Node ID: 11<br>Pullback set label: 21<br>Partial cluster label: -1<br>Node size: 3<br>Summary statistic: 0.667",
                "Node ID: 12<br>Pullback set label: 9<br>Partial cluster label: -1<br>Node size: 8<br>Summary statistic: 0.104",
                "Node ID: 13<br>Pullback set label: 10<br>Partial cluster label: -1<br>Node size: 17<br>Summary statistic: 0.324",
                "Node ID: 14<br>Pullback set label: 0<br>Partial cluster label: -1<br>Node size: 6<br>Summary statistic: 0.309",
                "Node ID: 15<br>Pullback set label: 14<br>Partial cluster label: -1<br>Node size: 22<br>Summary statistic: 0.227",
                "Node ID: 16<br>Pullback set label: 15<br>Partial cluster label: -1<br>Node size: 17<br>Summary statistic: 0.353",
                "Node ID: 17<br>Pullback set label: 23<br>Partial cluster label: -1<br>Node size: 3<br>Summary statistic: 0",
                "Node ID: 18<br>Pullback set label: 24<br>Partial cluster label: -1<br>Node size: 1<br>Summary statistic: 0",
                "Node ID: 19<br>Pullback set label: 11<br>Partial cluster label: -1<br>Node size: 8<br>Summary statistic: 0.188",
                "Node ID: 20<br>Pullback set label: 13<br>Partial cluster label: -1<br>Node size: 15<br>Summary statistic: 0.2",
                "Node ID: 21<br>Pullback set label: 16<br>Partial cluster label: -1<br>Node size: 26<br>Summary statistic: 0.308",
                "Node ID: 22<br>Pullback set label: 8<br>Partial cluster label: -1<br>Node size: 8<br>Summary statistic: 0.312",
                "Node ID: 23<br>Pullback set label: 27<br>Partial cluster label: -1<br>Node size: 5<br>Summary statistic: 0.8",
                "Node ID: 24<br>Pullback set label: 28<br>Partial cluster label: -1<br>Node size: 5<br>Summary statistic: 1.0",
                "Node ID: 25<br>Pullback set label: 12<br>Partial cluster label: -1<br>Node size: 4<br>Summary statistic: 0.0833",
                "Node ID: 26<br>Pullback set label: 22<br>Partial cluster label: -1<br>Node size: 6<br>Summary statistic: 0.5",
                "Node ID: 27<br>Pullback set label: 14<br>Partial cluster label: 0<br>Node size: 5<br>Summary statistic: 0",
                "Node ID: 28<br>Pullback set label: 19<br>Partial cluster label: -1<br>Node size: 11<br>Summary statistic: 0.818",
                "Node ID: 29<br>Pullback set label: 25<br>Partial cluster label: 0<br>Node size: 45<br>Summary statistic: 0",
                "Node ID: 30<br>Pullback set label: 28<br>Partial cluster label: 0<br>Node size: 6<br>Summary statistic: 0",
                "Node ID: 31<br>Pullback set label: 19<br>Partial cluster label: 0<br>Node size: 5<br>Summary statistic: 1.0",
                "Node ID: 32<br>Pullback set label: 21<br>Partial cluster label: 0<br>Node size: 26<br>Summary statistic: 1.0",
                "Node ID: 33<br>Pullback set label: 22<br>Partial cluster label: 0<br>Node size: 8<br>Summary statistic: 0",
                "Node ID: 34<br>Pullback set label: 26<br>Partial cluster label: -1<br>Node size: 4<br>Summary statistic: 0.75",
                "Node ID: 35<br>Pullback set label: 17<br>Partial cluster label: 0<br>Node size: 20<br>Summary statistic: 0",
                "Node ID: 36<br>Pullback set label: 18<br>Partial cluster label: 0<br>Node size: 20<br>Summary statistic: 0"
               ]
              ],
              "marker.color": [
               null,
               [
                0.36475841484785654,
                0.3819217780352234,
                0.375,
                0.3538461538461538,
                0.6875,
                0.3850198412698413,
                0.40170068027210887,
                0.24615384615384617,
                0.203125,
                0.21018518518518517,
                0.36363636363636365,
                0.6666666666666666,
                0.10416666666666666,
                0.3235294117647059,
                0.3087301587301587,
                0.22727272727272727,
                0.35294117647058826,
                0,
                0,
                0.1875,
                0.2,
                0.3076923076923077,
                0.3125,
                0.8,
                1,
                0.08333333333333333,
                0.5,
                0,
                0.8181818181818182,
                0,
                0,
                1,
                1,
                0,
                0.75,
                0,
                0
               ]
              ]
             }
            ],
            "label": "8",
            "method": "restyle"
           },
           {
            "args": [
             {
              "hovertext": [
               null,
               [
                "Node ID: 0<br>Pullback set label: 0<br>Partial cluster label: 0<br>Node size: 14<br>Summary statistic: 0.313",
                "Node ID: 1<br>Pullback set label: 1<br>Partial cluster label: -1<br>Node size: 14<br>Summary statistic: 0.345",
                "Node ID: 2<br>Pullback set label: 17<br>Partial cluster label: -1<br>Node size: 24<br>Summary statistic: 0.167",
                "Node ID: 3<br>Pullback set label: 4<br>Partial cluster label: -1<br>Node size: 13<br>Summary statistic: 0.306",
                "Node ID: 4<br>Pullback set label: 18<br>Partial cluster label: -1<br>Node size: 16<br>Summary statistic: 0.25",
                "Node ID: 5<br>Pullback set label: 2<br>Partial cluster label: -1<br>Node size: 12<br>Summary statistic: 0.305",
                "Node ID: 6<br>Pullback set label: 3<br>Partial cluster label: -1<br>Node size: 7<br>Summary statistic: 0.409",
                "Node ID: 7<br>Pullback set label: 7<br>Partial cluster label: -1<br>Node size: 13<br>Summary statistic: 0.233",
                "Node ID: 8<br>Pullback set label: 5<br>Partial cluster label: -1<br>Node size: 16<br>Summary statistic: 0.245",
                "Node ID: 9<br>Pullback set label: 6<br>Partial cluster label: -1<br>Node size: 18<br>Summary statistic: 0.21",
                "Node ID: 10<br>Pullback set label: 20<br>Partial cluster label: -1<br>Node size: 11<br>Summary statistic: 0",
                "Node ID: 11<br>Pullback set label: 21<br>Partial cluster label: -1<br>Node size: 3<br>Summary statistic: 0.333",
                "Node ID: 12<br>Pullback set label: 9<br>Partial cluster label: -1<br>Node size: 8<br>Summary statistic: 0.177",
                "Node ID: 13<br>Pullback set label: 10<br>Partial cluster label: -1<br>Node size: 17<br>Summary statistic: 0.0882",
                "Node ID: 14<br>Pullback set label: 0<br>Partial cluster label: -1<br>Node size: 6<br>Summary statistic: 0.279",
                "Node ID: 15<br>Pullback set label: 14<br>Partial cluster label: -1<br>Node size: 22<br>Summary statistic: 0.386",
                "Node ID: 16<br>Pullback set label: 15<br>Partial cluster label: -1<br>Node size: 17<br>Summary statistic: 0.412",
                "Node ID: 17<br>Pullback set label: 23<br>Partial cluster label: -1<br>Node size: 3<br>Summary statistic: 0",
                "Node ID: 18<br>Pullback set label: 24<br>Partial cluster label: -1<br>Node size: 1<br>Summary statistic: 0",
                "Node ID: 19<br>Pullback set label: 11<br>Partial cluster label: -1<br>Node size: 8<br>Summary statistic: 0.25",
                "Node ID: 20<br>Pullback set label: 13<br>Partial cluster label: -1<br>Node size: 15<br>Summary statistic: 0.333",
                "Node ID: 21<br>Pullback set label: 16<br>Partial cluster label: -1<br>Node size: 26<br>Summary statistic: 0.308",
                "Node ID: 22<br>Pullback set label: 8<br>Partial cluster label: -1<br>Node size: 8<br>Summary statistic: 0.156",
                "Node ID: 23<br>Pullback set label: 27<br>Partial cluster label: -1<br>Node size: 5<br>Summary statistic: 0.8",
                "Node ID: 24<br>Pullback set label: 28<br>Partial cluster label: -1<br>Node size: 5<br>Summary statistic: 0.4",
                "Node ID: 25<br>Pullback set label: 12<br>Partial cluster label: -1<br>Node size: 4<br>Summary statistic: 0.25",
                "Node ID: 26<br>Pullback set label: 22<br>Partial cluster label: -1<br>Node size: 6<br>Summary statistic: 0.333",
                "Node ID: 27<br>Pullback set label: 14<br>Partial cluster label: 0<br>Node size: 5<br>Summary statistic: 0",
                "Node ID: 28<br>Pullback set label: 19<br>Partial cluster label: -1<br>Node size: 11<br>Summary statistic: 0.273",
                "Node ID: 29<br>Pullback set label: 25<br>Partial cluster label: 0<br>Node size: 45<br>Summary statistic: 0",
                "Node ID: 30<br>Pullback set label: 28<br>Partial cluster label: 0<br>Node size: 6<br>Summary statistic: 0",
                "Node ID: 31<br>Pullback set label: 19<br>Partial cluster label: 0<br>Node size: 5<br>Summary statistic: 1.0",
                "Node ID: 32<br>Pullback set label: 21<br>Partial cluster label: 0<br>Node size: 26<br>Summary statistic: 1.0",
                "Node ID: 33<br>Pullback set label: 22<br>Partial cluster label: 0<br>Node size: 8<br>Summary statistic: 0",
                "Node ID: 34<br>Pullback set label: 26<br>Partial cluster label: -1<br>Node size: 4<br>Summary statistic: 0.75",
                "Node ID: 35<br>Pullback set label: 17<br>Partial cluster label: 0<br>Node size: 20<br>Summary statistic: 0",
                "Node ID: 36<br>Pullback set label: 18<br>Partial cluster label: 0<br>Node size: 20<br>Summary statistic: 0"
               ]
              ],
              "marker.color": [
               null,
               [
                0.31346590264345486,
                0.34535972897317435,
                0.16666666666666666,
                0.3064102564102564,
                0.25,
                0.3051587301587302,
                0.408843537414966,
                0.23333333333333334,
                0.24479166666666666,
                0.21018518518518517,
                0,
                0.3333333333333333,
                0.17708333333333331,
                0.08823529411764706,
                0.27936507936507937,
                0.38636363636363635,
                0.4117647058823529,
                0,
                0,
                0.25,
                0.3333333333333333,
                0.3076923076923077,
                0.15625,
                0.8,
                0.4,
                0.25,
                0.3333333333333333,
                0,
                0.2727272727272727,
                0,
                0,
                1,
                1,
                0,
                0.75,
                0,
                0
               ]
              ]
             }
            ],
            "label": "9",
            "method": "restyle"
           },
           {
            "args": [
             {
              "hovertext": [
               null,
               [
                "Node ID: 0<br>Pullback set label: 0<br>Partial cluster label: 0<br>Node size: 14<br>Summary statistic: 0.15",
                "Node ID: 1<br>Pullback set label: 1<br>Partial cluster label: -1<br>Node size: 14<br>Summary statistic: 0.169",
                "Node ID: 2<br>Pullback set label: 17<br>Partial cluster label: -1<br>Node size: 24<br>Summary statistic: 0.188",
                "Node ID: 3<br>Pullback set label: 4<br>Partial cluster label: -1<br>Node size: 13<br>Summary statistic: 0.132",
                "Node ID: 4<br>Pullback set label: 18<br>Partial cluster label: -1<br>Node size: 16<br>Summary statistic: 0.156",
                "Node ID: 5<br>Pullback set label: 2<br>Partial cluster label: -1<br>Node size: 12<br>Summary statistic: 0.064",
                "Node ID: 6<br>Pullback set label: 3<br>Partial cluster label: -1<br>Node size: 7<br>Summary statistic: 0.137",
                "Node ID: 7<br>Pullback set label: 7<br>Partial cluster label: -1<br>Node size: 13<br>Summary statistic: 0.159",
                "Node ID: 8<br>Pullback set label: 5<br>Partial cluster label: -1<br>Node size: 16<br>Summary statistic: 0.151",
                "Node ID: 9<br>Pullback set label: 6<br>Partial cluster label: -1<br>Node size: 18<br>Summary statistic: 0.17",
                "Node ID: 10<br>Pullback set label: 20<br>Partial cluster label: -1<br>Node size: 11<br>Summary statistic: 0.182",
                "Node ID: 11<br>Pullback set label: 21<br>Partial cluster label: -1<br>Node size: 3<br>Summary statistic: 0",
                "Node ID: 12<br>Pullback set label: 9<br>Partial cluster label: -1<br>Node size: 8<br>Summary statistic: 0.208",
                "Node ID: 13<br>Pullback set label: 10<br>Partial cluster label: -1<br>Node size: 17<br>Summary statistic: 0.0294",
                "Node ID: 14<br>Pullback set label: 0<br>Partial cluster label: -1<br>Node size: 6<br>Summary statistic: 0.268",
                "Node ID: 15<br>Pullback set label: 14<br>Partial cluster label: -1<br>Node size: 22<br>Summary statistic: 0.106",
                "Node ID: 16<br>Pullback set label: 15<br>Partial cluster label: -1<br>Node size: 17<br>Summary statistic: 0.123",
                "Node ID: 17<br>Pullback set label: 23<br>Partial cluster label: -1<br>Node size: 3<br>Summary statistic: 0",
                "Node ID: 18<br>Pullback set label: 24<br>Partial cluster label: -1<br>Node size: 1<br>Summary statistic: 0",
                "Node ID: 19<br>Pullback set label: 11<br>Partial cluster label: -1<br>Node size: 8<br>Summary statistic: 0.0625",
                "Node ID: 20<br>Pullback set label: 13<br>Partial cluster label: -1<br>Node size: 15<br>Summary statistic: 0.0333",
                "Node ID: 21<br>Pullback set label: 16<br>Partial cluster label: -1<br>Node size: 26<br>Summary statistic: 0.00962",
                "Node ID: 22<br>Pullback set label: 8<br>Partial cluster label: -1<br>Node size: 8<br>Summary statistic: 0.188",
                "Node ID: 23<br>Pullback set label: 27<br>Partial cluster label: -1<br>Node size: 5<br>Summary statistic: 0.6",
                "Node ID: 24<br>Pullback set label: 28<br>Partial cluster label: -1<br>Node size: 5<br>Summary statistic: 1.0",
                "Node ID: 25<br>Pullback set label: 12<br>Partial cluster label: -1<br>Node size: 4<br>Summary statistic: 0.25",
                "Node ID: 26<br>Pullback set label: 22<br>Partial cluster label: -1<br>Node size: 6<br>Summary statistic: 0",
                "Node ID: 27<br>Pullback set label: 14<br>Partial cluster label: 0<br>Node size: 5<br>Summary statistic: 0",
                "Node ID: 28<br>Pullback set label: 19<br>Partial cluster label: -1<br>Node size: 11<br>Summary statistic: 0.0909",
                "Node ID: 29<br>Pullback set label: 25<br>Partial cluster label: 0<br>Node size: 45<br>Summary statistic: 0",
                "Node ID: 30<br>Pullback set label: 28<br>Partial cluster label: 0<br>Node size: 6<br>Summary statistic: 0",
                "Node ID: 31<br>Pullback set label: 19<br>Partial cluster label: 0<br>Node size: 5<br>Summary statistic: 0",
                "Node ID: 32<br>Pullback set label: 21<br>Partial cluster label: 0<br>Node size: 26<br>Summary statistic: 1.0",
                "Node ID: 33<br>Pullback set label: 22<br>Partial cluster label: 0<br>Node size: 8<br>Summary statistic: 1.0",
                "Node ID: 34<br>Pullback set label: 26<br>Partial cluster label: -1<br>Node size: 4<br>Summary statistic: 0.25",
                "Node ID: 35<br>Pullback set label: 17<br>Partial cluster label: 0<br>Node size: 20<br>Summary statistic: 0",
                "Node ID: 36<br>Pullback set label: 18<br>Partial cluster label: 0<br>Node size: 20<br>Summary statistic: 0"
               ]
              ],
              "marker.color": [
               null,
               [
                0.1497749193148145,
                0.16927709312163094,
                0.1875,
                0.13205128205128205,
                0.15625,
                0.06398809523809523,
                0.13707482993197279,
                0.15897435897435896,
                0.15104166666666666,
                0.1703703703703704,
                0.18181818181818182,
                0,
                0.20833333333333331,
                0.029411764705882353,
                0.26825396825396824,
                0.10606060606060605,
                0.12254901960784312,
                0,
                0,
                0.0625,
                0.03333333333333333,
                0.009615384615384616,
                0.1875,
                0.6,
                1,
                0.25,
                0,
                0,
                0.09090909090909091,
                0,
                0,
                0,
                1,
                1,
                0.25,
                0,
                0
               ]
              ]
             }
            ],
            "label": "10",
            "method": "restyle"
           },
           {
            "args": [
             {
              "hovertext": [
               null,
               [
                "Node ID: 0<br>Pullback set label: 0<br>Partial cluster label: 0<br>Node size: 14<br>Summary statistic: 0.435",
                "Node ID: 1<br>Pullback set label: 1<br>Partial cluster label: -1<br>Node size: 14<br>Summary statistic: 0.507",
                "Node ID: 2<br>Pullback set label: 17<br>Partial cluster label: -1<br>Node size: 24<br>Summary statistic: 0.667",
                "Node ID: 3<br>Pullback set label: 4<br>Partial cluster label: -1<br>Node size: 13<br>Summary statistic: 0.436",
                "Node ID: 4<br>Pullback set label: 18<br>Partial cluster label: -1<br>Node size: 16<br>Summary statistic: 0.312",
                "Node ID: 5<br>Pullback set label: 2<br>Partial cluster label: -1<br>Node size: 12<br>Summary statistic: 0.435",
                "Node ID: 6<br>Pullback set label: 3<br>Partial cluster label: -1<br>Node size: 7<br>Summary statistic: 0.427",
                "Node ID: 7<br>Pullback set label: 7<br>Partial cluster label: -1<br>Node size: 13<br>Summary statistic: 0.481",
                "Node ID: 8<br>Pullback set label: 5<br>Partial cluster label: -1<br>Node size: 16<br>Summary statistic: 0.448",
                "Node ID: 9<br>Pullback set label: 6<br>Partial cluster label: -1<br>Node size: 18<br>Summary statistic: 0.449",
                "Node ID: 10<br>Pullback set label: 20<br>Partial cluster label: -1<br>Node size: 11<br>Summary statistic: 0.273",
                "Node ID: 11<br>Pullback set label: 21<br>Partial cluster label: -1<br>Node size: 3<br>Summary statistic: 0.333",
                "Node ID: 12<br>Pullback set label: 9<br>Partial cluster label: -1<br>Node size: 8<br>Summary statistic: 0.438",
                "Node ID: 13<br>Pullback set label: 10<br>Partial cluster label: -1<br>Node size: 17<br>Summary statistic: 0.373",
                "Node ID: 14<br>Pullback set label: 0<br>Partial cluster label: -1<br>Node size: 6<br>Summary statistic: 0.505",
                "Node ID: 15<br>Pullback set label: 14<br>Partial cluster label: -1<br>Node size: 22<br>Summary statistic: 0.455",
                "Node ID: 16<br>Pullback set label: 15<br>Partial cluster label: -1<br>Node size: 17<br>Summary statistic: 0.691",
                "Node ID: 17<br>Pullback set label: 23<br>Partial cluster label: -1<br>Node size: 3<br>Summary statistic: 0",
                "Node ID: 18<br>Pullback set label: 24<br>Partial cluster label: -1<br>Node size: 1<br>Summary statistic: 0",
                "Node ID: 19<br>Pullback set label: 11<br>Partial cluster label: -1<br>Node size: 8<br>Summary statistic: 0.625",
                "Node ID: 20<br>Pullback set label: 13<br>Partial cluster label: -1<br>Node size: 15<br>Summary statistic: 0.5",
                "Node ID: 21<br>Pullback set label: 16<br>Partial cluster label: -1<br>Node size: 26<br>Summary statistic: 0.779",
                "Node ID: 22<br>Pullback set label: 8<br>Partial cluster label: -1<br>Node size: 8<br>Summary statistic: 0.562",
                "Node ID: 23<br>Pullback set label: 27<br>Partial cluster label: -1<br>Node size: 5<br>Summary statistic: 0.6",
                "Node ID: 24<br>Pullback set label: 28<br>Partial cluster label: -1<br>Node size: 5<br>Summary statistic: 0.4",
                "Node ID: 25<br>Pullback set label: 12<br>Partial cluster label: -1<br>Node size: 4<br>Summary statistic: 0.5",
                "Node ID: 26<br>Pullback set label: 22<br>Partial cluster label: -1<br>Node size: 6<br>Summary statistic: 0.167",
                "Node ID: 27<br>Pullback set label: 14<br>Partial cluster label: 0<br>Node size: 5<br>Summary statistic: 1.0",
                "Node ID: 28<br>Pullback set label: 19<br>Partial cluster label: -1<br>Node size: 11<br>Summary statistic: 0.0909",
                "Node ID: 29<br>Pullback set label: 25<br>Partial cluster label: 0<br>Node size: 45<br>Summary statistic: 0",
                "Node ID: 30<br>Pullback set label: 28<br>Partial cluster label: 0<br>Node size: 6<br>Summary statistic: 1.0",
                "Node ID: 31<br>Pullback set label: 19<br>Partial cluster label: 0<br>Node size: 5<br>Summary statistic: 1.0",
                "Node ID: 32<br>Pullback set label: 21<br>Partial cluster label: 0<br>Node size: 26<br>Summary statistic: 1.0",
                "Node ID: 33<br>Pullback set label: 22<br>Partial cluster label: 0<br>Node size: 8<br>Summary statistic: 1.0",
                "Node ID: 34<br>Pullback set label: 26<br>Partial cluster label: -1<br>Node size: 4<br>Summary statistic: 0.25",
                "Node ID: 35<br>Pullback set label: 17<br>Partial cluster label: 0<br>Node size: 20<br>Summary statistic: 0",
                "Node ID: 36<br>Pullback set label: 18<br>Partial cluster label: 0<br>Node size: 20<br>Summary statistic: 0"
               ]
              ],
              "marker.color": [
               null,
               [
                0.4349068292298803,
                0.507271031955906,
                0.6666666666666666,
                0.4358974358974359,
                0.3125,
                0.4348875661375662,
                0.42687074829931976,
                0.4807692307692308,
                0.44791666666666663,
                0.449074074074074,
                0.2727272727272727,
                0.3333333333333333,
                0.4375,
                0.37254901960784315,
                0.5047619047619047,
                0.45454545454545453,
                0.6911764705882353,
                0,
                0,
                0.625,
                0.5,
                0.7788461538461539,
                0.5625,
                0.6,
                0.4,
                0.5,
                0.16666666666666666,
                1,
                0.09090909090909091,
                0,
                1,
                1,
                1,
                1,
                0.25,
                0,
                0
               ]
              ]
             }
            ],
            "label": "11",
            "method": "restyle"
           },
           {
            "args": [
             {
              "hovertext": [
               null,
               [
                "Node ID: 0<br>Pullback set label: 0<br>Partial cluster label: 0<br>Node size: 14<br>Summary statistic: 0.122",
                "Node ID: 1<br>Pullback set label: 1<br>Partial cluster label: -1<br>Node size: 14<br>Summary statistic: 0.131",
                "Node ID: 2<br>Pullback set label: 17<br>Partial cluster label: -1<br>Node size: 24<br>Summary statistic: 0.125",
                "Node ID: 3<br>Pullback set label: 4<br>Partial cluster label: -1<br>Node size: 13<br>Summary statistic: 0.185",
                "Node ID: 4<br>Pullback set label: 18<br>Partial cluster label: -1<br>Node size: 16<br>Summary statistic: 0.188",
                "Node ID: 5<br>Pullback set label: 2<br>Partial cluster label: -1<br>Node size: 12<br>Summary statistic: 0.0861",
                "Node ID: 6<br>Pullback set label: 3<br>Partial cluster label: -1<br>Node size: 7<br>Summary statistic: 0.0643",
                "Node ID: 7<br>Pullback set label: 7<br>Partial cluster label: -1<br>Node size: 13<br>Summary statistic: 0.156",
                "Node ID: 8<br>Pullback set label: 5<br>Partial cluster label: -1<br>Node size: 16<br>Summary statistic: 0.182",
                "Node ID: 9<br>Pullback set label: 6<br>Partial cluster label: -1<br>Node size: 18<br>Summary statistic: 0.159",
                "Node ID: 10<br>Pullback set label: 20<br>Partial cluster label: -1<br>Node size: 11<br>Summary statistic: 0",
                "Node ID: 11<br>Pullback set label: 21<br>Partial cluster label: -1<br>Node size: 3<br>Summary statistic: 0",
                "Node ID: 12<br>Pullback set label: 9<br>Partial cluster label: -1<br>Node size: 8<br>Summary statistic: 0.0312",
                "Node ID: 13<br>Pullback set label: 10<br>Partial cluster label: -1<br>Node size: 17<br>Summary statistic: 0.0882",
                "Node ID: 14<br>Pullback set label: 0<br>Partial cluster label: -1<br>Node size: 6<br>Summary statistic: 0.156",
                "Node ID: 15<br>Pullback set label: 14<br>Partial cluster label: -1<br>Node size: 22<br>Summary statistic: 0.0455",
                "Node ID: 16<br>Pullback set label: 15<br>Partial cluster label: -1<br>Node size: 17<br>Summary statistic: 0.265",
                "Node ID: 17<br>Pullback set label: 23<br>Partial cluster label: -1<br>Node size: 3<br>Summary statistic: 0",
                "Node ID: 18<br>Pullback set label: 24<br>Partial cluster label: -1<br>Node size: 1<br>Summary statistic: 0",
                "Node ID: 19<br>Pullback set label: 11<br>Partial cluster label: -1<br>Node size: 8<br>Summary statistic: 0.188",
                "Node ID: 20<br>Pullback set label: 13<br>Partial cluster label: -1<br>Node size: 15<br>Summary statistic: 0",
                "Node ID: 21<br>Pullback set label: 16<br>Partial cluster label: -1<br>Node size: 26<br>Summary statistic: 0.192",
                "Node ID: 22<br>Pullback set label: 8<br>Partial cluster label: -1<br>Node size: 8<br>Summary statistic: 0.0312",
                "Node ID: 23<br>Pullback set label: 27<br>Partial cluster label: -1<br>Node size: 5<br>Summary statistic: 0.6",
                "Node ID: 24<br>Pullback set label: 28<br>Partial cluster label: -1<br>Node size: 5<br>Summary statistic: 0",
                "Node ID: 25<br>Pullback set label: 12<br>Partial cluster label: -1<br>Node size: 4<br>Summary statistic: 0.25",
                "Node ID: 26<br>Pullback set label: 22<br>Partial cluster label: -1<br>Node size: 6<br>Summary statistic: 0",
                "Node ID: 27<br>Pullback set label: 14<br>Partial cluster label: 0<br>Node size: 5<br>Summary statistic: 0",
                "Node ID: 28<br>Pullback set label: 19<br>Partial cluster label: -1<br>Node size: 11<br>Summary statistic: 0.0909",
                "Node ID: 29<br>Pullback set label: 25<br>Partial cluster label: 0<br>Node size: 45<br>Summary statistic: 0",
                "Node ID: 30<br>Pullback set label: 28<br>Partial cluster label: 0<br>Node size: 6<br>Summary statistic: 0",
                "Node ID: 31<br>Pullback set label: 19<br>Partial cluster label: 0<br>Node size: 5<br>Summary statistic: 0",
                "Node ID: 32<br>Pullback set label: 21<br>Partial cluster label: 0<br>Node size: 26<br>Summary statistic: 0",
                "Node ID: 33<br>Pullback set label: 22<br>Partial cluster label: 0<br>Node size: 8<br>Summary statistic: 0",
                "Node ID: 34<br>Pullback set label: 26<br>Partial cluster label: -1<br>Node size: 4<br>Summary statistic: 0.75",
                "Node ID: 35<br>Pullback set label: 17<br>Partial cluster label: 0<br>Node size: 20<br>Summary statistic: 1.0",
                "Node ID: 36<br>Pullback set label: 18<br>Partial cluster label: 0<br>Node size: 20<br>Summary statistic: 1.0"
               ]
              ],
              "marker.color": [
               null,
               [
                0.1217722093684112,
                0.13075115827216668,
                0.125,
                0.18461538461538465,
                0.1875,
                0.0861111111111111,
                0.0642857142857143,
                0.1564102564102564,
                0.18229166666666666,
                0.15925925925925924,
                0,
                0,
                0.03125,
                0.08823529411764706,
                0.15555555555555556,
                0.045454545454545456,
                0.2647058823529412,
                0,
                0,
                0.1875,
                0,
                0.19230769230769232,
                0.03125,
                0.6,
                0,
                0.25,
                0,
                0,
                0.09090909090909091,
                0,
                0,
                0,
                0,
                0,
                0.75,
                1,
                1
               ]
              ]
             }
            ],
            "label": "12",
            "method": "restyle"
           },
           {
            "args": [
             {
              "hovertext": [
               null,
               [
                "Node ID: 0<br>Pullback set label: 0<br>Partial cluster label: 0<br>Node size: 14<br>Summary statistic: 0.0786",
                "Node ID: 1<br>Pullback set label: 1<br>Partial cluster label: -1<br>Node size: 14<br>Summary statistic: 0.121",
                "Node ID: 2<br>Pullback set label: 17<br>Partial cluster label: -1<br>Node size: 24<br>Summary statistic: 0.0417",
                "Node ID: 3<br>Pullback set label: 4<br>Partial cluster label: -1<br>Node size: 13<br>Summary statistic: 0.201",
                "Node ID: 4<br>Pullback set label: 18<br>Partial cluster label: -1<br>Node size: 16<br>Summary statistic: 0.0625",
                "Node ID: 5<br>Pullback set label: 2<br>Partial cluster label: -1<br>Node size: 12<br>Summary statistic: 0.126",
                "Node ID: 6<br>Pullback set label: 3<br>Partial cluster label: -1<br>Node size: 7<br>Summary statistic: 0.161",
                "Node ID: 7<br>Pullback set label: 7<br>Partial cluster label: -1<br>Node size: 13<br>Summary statistic: 0.169",
                "Node ID: 8<br>Pullback set label: 5<br>Partial cluster label: -1<br>Node size: 16<br>Summary statistic: 0.198",
                "Node ID: 9<br>Pullback set label: 6<br>Partial cluster label: -1<br>Node size: 18<br>Summary statistic: 0.233",
                "Node ID: 10<br>Pullback set label: 20<br>Partial cluster label: -1<br>Node size: 11<br>Summary statistic: 0",
                "Node ID: 11<br>Pullback set label: 21<br>Partial cluster label: -1<br>Node size: 3<br>Summary statistic: 0",
                "Node ID: 12<br>Pullback set label: 9<br>Partial cluster label: -1<br>Node size: 8<br>Summary statistic: 0",
                "Node ID: 13<br>Pullback set label: 10<br>Partial cluster label: -1<br>Node size: 17<br>Summary statistic: 0.0588",
                "Node ID: 14<br>Pullback set label: 0<br>Partial cluster label: -1<br>Node size: 6<br>Summary statistic: 0.163",
                "Node ID: 15<br>Pullback set label: 14<br>Partial cluster label: -1<br>Node size: 22<br>Summary statistic: 0.0682",
                "Node ID: 16<br>Pullback set label: 15<br>Partial cluster label: -1<br>Node size: 17<br>Summary statistic: 0.147",
                "Node ID: 17<br>Pullback set label: 23<br>Partial cluster label: -1<br>Node size: 3<br>Summary statistic: 0",
                "Node ID: 18<br>Pullback set label: 24<br>Partial cluster label: -1<br>Node size: 1<br>Summary statistic: 0",
                "Node ID: 19<br>Pullback set label: 11<br>Partial cluster label: -1<br>Node size: 8<br>Summary statistic: 0.0625",
                "Node ID: 20<br>Pullback set label: 13<br>Partial cluster label: -1<br>Node size: 15<br>Summary statistic: 0.0667",
                "Node ID: 21<br>Pullback set label: 16<br>Partial cluster label: -1<br>Node size: 26<br>Summary statistic: 0.154",
                "Node ID: 22<br>Pullback set label: 8<br>Partial cluster label: -1<br>Node size: 8<br>Summary statistic: 0",
                "Node ID: 23<br>Pullback set label: 27<br>Partial cluster label: -1<br>Node size: 5<br>Summary statistic: 0.4",
                "Node ID: 24<br>Pullback set label: 28<br>Partial cluster label: -1<br>Node size: 5<br>Summary statistic: 0.4",
                "Node ID: 25<br>Pullback set label: 12<br>Partial cluster label: -1<br>Node size: 4<br>Summary statistic: 0",
                "Node ID: 26<br>Pullback set label: 22<br>Partial cluster label: -1<br>Node size: 6<br>Summary statistic: 0",
                "Node ID: 27<br>Pullback set label: 14<br>Partial cluster label: 0<br>Node size: 5<br>Summary statistic: 0",
                "Node ID: 28<br>Pullback set label: 19<br>Partial cluster label: -1<br>Node size: 11<br>Summary statistic: 0.182",
                "Node ID: 29<br>Pullback set label: 25<br>Partial cluster label: 0<br>Node size: 45<br>Summary statistic: 0",
                "Node ID: 30<br>Pullback set label: 28<br>Partial cluster label: 0<br>Node size: 6<br>Summary statistic: 0",
                "Node ID: 31<br>Pullback set label: 19<br>Partial cluster label: 0<br>Node size: 5<br>Summary statistic: 0",
                "Node ID: 32<br>Pullback set label: 21<br>Partial cluster label: 0<br>Node size: 26<br>Summary statistic: 0",
                "Node ID: 33<br>Pullback set label: 22<br>Partial cluster label: 0<br>Node size: 8<br>Summary statistic: 0",
                "Node ID: 34<br>Pullback set label: 26<br>Partial cluster label: -1<br>Node size: 4<br>Summary statistic: 0",
                "Node ID: 35<br>Pullback set label: 17<br>Partial cluster label: 0<br>Node size: 20<br>Summary statistic: 1.0",
                "Node ID: 36<br>Pullback set label: 18<br>Partial cluster label: 0<br>Node size: 20<br>Summary statistic: 1.0"
               ]
              ],
              "marker.color": [
               null,
               [
                0.07863544821330411,
                0.12051487261571293,
                0.041666666666666664,
                0.20128205128205126,
                0.0625,
                0.12645502645502643,
                0.16122448979591836,
                0.16923076923076924,
                0.19791666666666666,
                0.23333333333333328,
                0,
                0,
                0,
                0.058823529411764705,
                0.16269841269841268,
                0.06818181818181818,
                0.14705882352941177,
                0,
                0,
                0.0625,
                0.06666666666666667,
                0.15384615384615385,
                0,
                0.4,
                0.4,
                0,
                0,
                0,
                0.18181818181818182,
                0,
                0,
                0,
                0,
                0,
                0,
                1,
                1
               ]
              ]
             }
            ],
            "label": "13",
            "method": "restyle"
           },
           {
            "args": [
             {
              "hovertext": [
               null,
               [
                "Node ID: 0<br>Pullback set label: 0<br>Partial cluster label: 0<br>Node size: 14<br>Summary statistic: 0.0464",
                "Node ID: 1<br>Pullback set label: 1<br>Partial cluster label: -1<br>Node size: 14<br>Summary statistic: 0.0669",
                "Node ID: 2<br>Pullback set label: 17<br>Partial cluster label: -1<br>Node size: 24<br>Summary statistic: 0.0417",
                "Node ID: 3<br>Pullback set label: 4<br>Partial cluster label: -1<br>Node size: 13<br>Summary statistic: 0.0808",
                "Node ID: 4<br>Pullback set label: 18<br>Partial cluster label: -1<br>Node size: 16<br>Summary statistic: 0.0625",
                "Node ID: 5<br>Pullback set label: 2<br>Partial cluster label: -1<br>Node size: 12<br>Summary statistic: 0.0139",
                "Node ID: 6<br>Pullback set label: 3<br>Partial cluster label: -1<br>Node size: 7<br>Summary statistic: 0",
                "Node ID: 7<br>Pullback set label: 7<br>Partial cluster label: -1<br>Node size: 13<br>Summary statistic: 0.0282",
                "Node ID: 8<br>Pullback set label: 5<br>Partial cluster label: -1<br>Node size: 16<br>Summary statistic: 0.0469",
                "Node ID: 9<br>Pullback set label: 6<br>Partial cluster label: -1<br>Node size: 18<br>Summary statistic: 0.0667",
                "Node ID: 10<br>Pullback set label: 20<br>Partial cluster label: -1<br>Node size: 11<br>Summary statistic: 0",
                "Node ID: 11<br>Pullback set label: 21<br>Partial cluster label: -1<br>Node size: 3<br>Summary statistic: 0.333",
                "Node ID: 12<br>Pullback set label: 9<br>Partial cluster label: -1<br>Node size: 8<br>Summary statistic: 0.104",
                "Node ID: 13<br>Pullback set label: 10<br>Partial cluster label: -1<br>Node size: 17<br>Summary statistic: 0",
                "Node ID: 14<br>Pullback set label: 0<br>Partial cluster label: -1<br>Node size: 6<br>Summary statistic: 0.107",
                "Node ID: 15<br>Pullback set label: 14<br>Partial cluster label: -1<br>Node size: 22<br>Summary statistic: 0.053",
                "Node ID: 16<br>Pullback set label: 15<br>Partial cluster label: -1<br>Node size: 17<br>Summary statistic: 0.157",
                "Node ID: 17<br>Pullback set label: 23<br>Partial cluster label: -1<br>Node size: 3<br>Summary statistic: 0",
                "Node ID: 18<br>Pullback set label: 24<br>Partial cluster label: -1<br>Node size: 1<br>Summary statistic: 0",
                "Node ID: 19<br>Pullback set label: 11<br>Partial cluster label: -1<br>Node size: 8<br>Summary statistic: 0",
                "Node ID: 20<br>Pullback set label: 13<br>Partial cluster label: -1<br>Node size: 15<br>Summary statistic: 0.0333",
                "Node ID: 21<br>Pullback set label: 16<br>Partial cluster label: -1<br>Node size: 26<br>Summary statistic: 0.0769",
                "Node ID: 22<br>Pullback set label: 8<br>Partial cluster label: -1<br>Node size: 8<br>Summary statistic: 0.104",
                "Node ID: 23<br>Pullback set label: 27<br>Partial cluster label: -1<br>Node size: 5<br>Summary statistic: 0.6",
                "Node ID: 24<br>Pullback set label: 28<br>Partial cluster label: -1<br>Node size: 5<br>Summary statistic: 0",
                "Node ID: 25<br>Pullback set label: 12<br>Partial cluster label: -1<br>Node size: 4<br>Summary statistic: 0.0833",
                "Node ID: 26<br>Pullback set label: 22<br>Partial cluster label: -1<br>Node size: 6<br>Summary statistic: 0",
                "Node ID: 27<br>Pullback set label: 14<br>Partial cluster label: 0<br>Node size: 5<br>Summary statistic: 0",
                "Node ID: 28<br>Pullback set label: 19<br>Partial cluster label: -1<br>Node size: 11<br>Summary statistic: 0",
                "Node ID: 29<br>Pullback set label: 25<br>Partial cluster label: 0<br>Node size: 45<br>Summary statistic: 0",
                "Node ID: 30<br>Pullback set label: 28<br>Partial cluster label: 0<br>Node size: 6<br>Summary statistic: 0",
                "Node ID: 31<br>Pullback set label: 19<br>Partial cluster label: 0<br>Node size: 5<br>Summary statistic: 0",
                "Node ID: 32<br>Pullback set label: 21<br>Partial cluster label: 0<br>Node size: 26<br>Summary statistic: 0",
                "Node ID: 33<br>Pullback set label: 22<br>Partial cluster label: 0<br>Node size: 8<br>Summary statistic: 1.0",
                "Node ID: 34<br>Pullback set label: 26<br>Partial cluster label: -1<br>Node size: 4<br>Summary statistic: 1.0",
                "Node ID: 35<br>Pullback set label: 17<br>Partial cluster label: 0<br>Node size: 20<br>Summary statistic: 0",
                "Node ID: 36<br>Pullback set label: 18<br>Partial cluster label: 0<br>Node size: 20<br>Summary statistic: 0"
               ]
              ],
              "marker.color": [
               null,
               [
                0.04641559911601096,
                0.06692702722114487,
                0.041666666666666664,
                0.08076923076923077,
                0.0625,
                0.013888888888888888,
                0,
                0.02820512820512821,
                0.046875,
                0.06666666666666667,
                0,
                0.3333333333333333,
                0.10416666666666666,
                0,
                0.10714285714285715,
                0.053030303030303025,
                0.1568627450980392,
                0,
                0,
                0,
                0.03333333333333333,
                0.07692307692307693,
                0.10416666666666666,
                0.6,
                0,
                0.08333333333333333,
                0,
                0,
                0,
                0,
                0,
                0,
                0,
                1,
                1,
                0,
                0
               ]
              ]
             }
            ],
            "label": "14",
            "method": "restyle"
           },
           {
            "args": [
             {
              "hovertext": [
               null,
               [
                "Node ID: 0<br>Pullback set label: 0<br>Partial cluster label: 0<br>Node size: 14<br>Summary statistic: 0.0374",
                "Node ID: 1<br>Pullback set label: 1<br>Partial cluster label: -1<br>Node size: 14<br>Summary statistic: 0.0232",
                "Node ID: 2<br>Pullback set label: 17<br>Partial cluster label: -1<br>Node size: 24<br>Summary statistic: 0",
                "Node ID: 3<br>Pullback set label: 4<br>Partial cluster label: -1<br>Node size: 13<br>Summary statistic: 0.0885",
                "Node ID: 4<br>Pullback set label: 18<br>Partial cluster label: -1<br>Node size: 16<br>Summary statistic: 0",
                "Node ID: 5<br>Pullback set label: 2<br>Partial cluster label: -1<br>Node size: 12<br>Summary statistic: 0.0375",
                "Node ID: 6<br>Pullback set label: 3<br>Partial cluster label: -1<br>Node size: 7<br>Summary statistic: 0.0929",
                "Node ID: 7<br>Pullback set label: 7<br>Partial cluster label: -1<br>Node size: 13<br>Summary statistic: 0",
                "Node ID: 8<br>Pullback set label: 5<br>Partial cluster label: -1<br>Node size: 16<br>Summary statistic: 0",
                "Node ID: 9<br>Pullback set label: 6<br>Partial cluster label: -1<br>Node size: 18<br>Summary statistic: 0",
                "Node ID: 10<br>Pullback set label: 20<br>Partial cluster label: -1<br>Node size: 11<br>Summary statistic: 0",
                "Node ID: 11<br>Pullback set label: 21<br>Partial cluster label: -1<br>Node size: 3<br>Summary statistic: 0.333",
                "Node ID: 12<br>Pullback set label: 9<br>Partial cluster label: -1<br>Node size: 8<br>Summary statistic: 0",
                "Node ID: 13<br>Pullback set label: 10<br>Partial cluster label: -1<br>Node size: 17<br>Summary statistic: 0",
                "Node ID: 14<br>Pullback set label: 0<br>Partial cluster label: -1<br>Node size: 6<br>Summary statistic: 0",
                "Node ID: 15<br>Pullback set label: 14<br>Partial cluster label: -1<br>Node size: 22<br>Summary statistic: 0",
                "Node ID: 16<br>Pullback set label: 15<br>Partial cluster label: -1<br>Node size: 17<br>Summary statistic: 0.0441",
                "Node ID: 17<br>Pullback set label: 23<br>Partial cluster label: -1<br>Node size: 3<br>Summary statistic: 0",
                "Node ID: 18<br>Pullback set label: 24<br>Partial cluster label: -1<br>Node size: 1<br>Summary statistic: 0",
                "Node ID: 19<br>Pullback set label: 11<br>Partial cluster label: -1<br>Node size: 8<br>Summary statistic: 0",
                "Node ID: 20<br>Pullback set label: 13<br>Partial cluster label: -1<br>Node size: 15<br>Summary statistic: 0",
                "Node ID: 21<br>Pullback set label: 16<br>Partial cluster label: -1<br>Node size: 26<br>Summary statistic: 0.0288",
                "Node ID: 22<br>Pullback set label: 8<br>Partial cluster label: -1<br>Node size: 8<br>Summary statistic: 0",
                "Node ID: 23<br>Pullback set label: 27<br>Partial cluster label: -1<br>Node size: 5<br>Summary statistic: 0",
                "Node ID: 24<br>Pullback set label: 28<br>Partial cluster label: -1<br>Node size: 5<br>Summary statistic: 0",
                "Node ID: 25<br>Pullback set label: 12<br>Partial cluster label: -1<br>Node size: 4<br>Summary statistic: 0",
                "Node ID: 26<br>Pullback set label: 22<br>Partial cluster label: -1<br>Node size: 6<br>Summary statistic: 0.167",
                "Node ID: 27<br>Pullback set label: 14<br>Partial cluster label: 0<br>Node size: 5<br>Summary statistic: 1.0",
                "Node ID: 28<br>Pullback set label: 19<br>Partial cluster label: -1<br>Node size: 11<br>Summary statistic: 0",
                "Node ID: 29<br>Pullback set label: 25<br>Partial cluster label: 0<br>Node size: 45<br>Summary statistic: 0",
                "Node ID: 30<br>Pullback set label: 28<br>Partial cluster label: 0<br>Node size: 6<br>Summary statistic: 0",
                "Node ID: 31<br>Pullback set label: 19<br>Partial cluster label: 0<br>Node size: 5<br>Summary statistic: 0",
                "Node ID: 32<br>Pullback set label: 21<br>Partial cluster label: 0<br>Node size: 26<br>Summary statistic: 0",
                "Node ID: 33<br>Pullback set label: 22<br>Partial cluster label: 0<br>Node size: 8<br>Summary statistic: 0",
                "Node ID: 34<br>Pullback set label: 26<br>Partial cluster label: -1<br>Node size: 4<br>Summary statistic: 0",
                "Node ID: 35<br>Pullback set label: 17<br>Partial cluster label: 0<br>Node size: 20<br>Summary statistic: 0",
                "Node ID: 36<br>Pullback set label: 18<br>Partial cluster label: 0<br>Node size: 20<br>Summary statistic: 0"
               ]
              ],
              "marker.color": [
               null,
               [
                0.03737057846748753,
                0.023202614379084965,
                0,
                0.08846153846153845,
                0,
                0.0375,
                0.09285714285714286,
                0,
                0,
                0,
                0,
                0.3333333333333333,
                0,
                0,
                0,
                0,
                0.04411764705882353,
                0,
                0,
                0,
                0,
                0.028846153846153848,
                0,
                0,
                0,
                0,
                0.16666666666666666,
                1,
                0,
                0,
                0,
                0,
                0,
                0,
                0,
                0,
                0
               ]
              ]
             }
            ],
            "label": "15",
            "method": "restyle"
           },
           {
            "args": [
             {
              "hovertext": [
               null,
               [
                "Node ID: 0<br>Pullback set label: 0<br>Partial cluster label: 0<br>Node size: 14<br>Summary statistic: 0.111",
                "Node ID: 1<br>Pullback set label: 1<br>Partial cluster label: -1<br>Node size: 14<br>Summary statistic: 0.104",
                "Node ID: 2<br>Pullback set label: 17<br>Partial cluster label: -1<br>Node size: 24<br>Summary statistic: 0",
                "Node ID: 3<br>Pullback set label: 4<br>Partial cluster label: -1<br>Node size: 13<br>Summary statistic: 0.0128",
                "Node ID: 4<br>Pullback set label: 18<br>Partial cluster label: -1<br>Node size: 16<br>Summary statistic: 0.25",
                "Node ID: 5<br>Pullback set label: 2<br>Partial cluster label: -1<br>Node size: 12<br>Summary statistic: 0.138",
                "Node ID: 6<br>Pullback set label: 3<br>Partial cluster label: -1<br>Node size: 7<br>Summary statistic: 0.152",
                "Node ID: 7<br>Pullback set label: 7<br>Partial cluster label: -1<br>Node size: 13<br>Summary statistic: 0.0705",
                "Node ID: 8<br>Pullback set label: 5<br>Partial cluster label: -1<br>Node size: 16<br>Summary statistic: 0.0208",
                "Node ID: 9<br>Pullback set label: 6<br>Partial cluster label: -1<br>Node size: 18<br>Summary statistic: 0.037",
                "Node ID: 10<br>Pullback set label: 20<br>Partial cluster label: -1<br>Node size: 11<br>Summary statistic: 0",
                "Node ID: 11<br>Pullback set label: 21<br>Partial cluster label: -1<br>Node size: 3<br>Summary statistic: 0",
                "Node ID: 12<br>Pullback set label: 9<br>Partial cluster label: -1<br>Node size: 8<br>Summary statistic: 0",
                "Node ID: 13<br>Pullback set label: 10<br>Partial cluster label: -1<br>Node size: 17<br>Summary statistic: 0.0392",
                "Node ID: 14<br>Pullback set label: 0<br>Partial cluster label: -1<br>Node size: 6<br>Summary statistic: 0.05",
                "Node ID: 15<br>Pullback set label: 14<br>Partial cluster label: -1<br>Node size: 22<br>Summary statistic: 0.0227",
                "Node ID: 16<br>Pullback set label: 15<br>Partial cluster label: -1<br>Node size: 17<br>Summary statistic: 0",
                "Node ID: 17<br>Pullback set label: 23<br>Partial cluster label: -1<br>Node size: 3<br>Summary statistic: 0",
                "Node ID: 18<br>Pullback set label: 24<br>Partial cluster label: -1<br>Node size: 1<br>Summary statistic: 0",
                "Node ID: 19<br>Pullback set label: 11<br>Partial cluster label: -1<br>Node size: 8<br>Summary statistic: 0",
                "Node ID: 20<br>Pullback set label: 13<br>Partial cluster label: -1<br>Node size: 15<br>Summary statistic: 0",
                "Node ID: 21<br>Pullback set label: 16<br>Partial cluster label: -1<br>Node size: 26<br>Summary statistic: 0",
                "Node ID: 22<br>Pullback set label: 8<br>Partial cluster label: -1<br>Node size: 8<br>Summary statistic: 0.125",
                "Node ID: 23<br>Pullback set label: 27<br>Partial cluster label: -1<br>Node size: 5<br>Summary statistic: 0",
                "Node ID: 24<br>Pullback set label: 28<br>Partial cluster label: -1<br>Node size: 5<br>Summary statistic: 0",
                "Node ID: 25<br>Pullback set label: 12<br>Partial cluster label: -1<br>Node size: 4<br>Summary statistic: 0",
                "Node ID: 26<br>Pullback set label: 22<br>Partial cluster label: -1<br>Node size: 6<br>Summary statistic: 0.333",
                "Node ID: 27<br>Pullback set label: 14<br>Partial cluster label: 0<br>Node size: 5<br>Summary statistic: 0",
                "Node ID: 28<br>Pullback set label: 19<br>Partial cluster label: -1<br>Node size: 11<br>Summary statistic: 0.364",
                "Node ID: 29<br>Pullback set label: 25<br>Partial cluster label: 0<br>Node size: 45<br>Summary statistic: 0",
                "Node ID: 30<br>Pullback set label: 28<br>Partial cluster label: 0<br>Node size: 6<br>Summary statistic: 0",
                "Node ID: 31<br>Pullback set label: 19<br>Partial cluster label: 0<br>Node size: 5<br>Summary statistic: 0",
                "Node ID: 32<br>Pullback set label: 21<br>Partial cluster label: 0<br>Node size: 26<br>Summary statistic: 0",
                "Node ID: 33<br>Pullback set label: 22<br>Partial cluster label: 0<br>Node size: 8<br>Summary statistic: 0",
                "Node ID: 34<br>Pullback set label: 26<br>Partial cluster label: -1<br>Node size: 4<br>Summary statistic: 0",
                "Node ID: 35<br>Pullback set label: 17<br>Partial cluster label: 0<br>Node size: 20<br>Summary statistic: 0",
                "Node ID: 36<br>Pullback set label: 18<br>Partial cluster label: 0<br>Node size: 20<br>Summary statistic: 0"
               ]
              ],
              "marker.color": [
               null,
               [
                0.11051550925708509,
                0.10412399225424433,
                0,
                0.01282051282051282,
                0.25,
                0.13773148148148148,
                0.15238095238095237,
                0.0705128205128205,
                0.020833333333333332,
                0.037037037037037035,
                0,
                0,
                0,
                0.0392156862745098,
                0.049999999999999996,
                0.022727272727272728,
                0,
                0,
                0,
                0,
                0,
                0,
                0.125,
                0,
                0,
                0,
                0.3333333333333333,
                0,
                0.36363636363636365,
                0,
                0,
                0,
                0,
                0,
                0,
                0,
                0
               ]
              ]
             }
            ],
            "label": "16",
            "method": "restyle"
           },
           {
            "args": [
             {
              "hovertext": [
               null,
               [
                "Node ID: 0<br>Pullback set label: 0<br>Partial cluster label: 0<br>Node size: 14<br>Summary statistic: 0.0586",
                "Node ID: 1<br>Pullback set label: 1<br>Partial cluster label: -1<br>Node size: 14<br>Summary statistic: 0.0633",
                "Node ID: 2<br>Pullback set label: 17<br>Partial cluster label: -1<br>Node size: 24<br>Summary statistic: 0.167",
                "Node ID: 3<br>Pullback set label: 4<br>Partial cluster label: -1<br>Node size: 13<br>Summary statistic: 0.0192",
                "Node ID: 4<br>Pullback set label: 18<br>Partial cluster label: -1<br>Node size: 16<br>Summary statistic: 0",
                "Node ID: 5<br>Pullback set label: 2<br>Partial cluster label: -1<br>Node size: 12<br>Summary statistic: 0.0351",
                "Node ID: 6<br>Pullback set label: 3<br>Partial cluster label: -1<br>Node size: 7<br>Summary statistic: 0.0561",
                "Node ID: 7<br>Pullback set label: 7<br>Partial cluster label: -1<br>Node size: 13<br>Summary statistic: 0.0538",
                "Node ID: 8<br>Pullback set label: 5<br>Partial cluster label: -1<br>Node size: 16<br>Summary statistic: 0.0312",
                "Node ID: 9<br>Pullback set label: 6<br>Partial cluster label: -1<br>Node size: 18<br>Summary statistic: 0.0296",
                "Node ID: 10<br>Pullback set label: 20<br>Partial cluster label: -1<br>Node size: 11<br>Summary statistic: 0.0909",
                "Node ID: 11<br>Pullback set label: 21<br>Partial cluster label: -1<br>Node size: 3<br>Summary statistic: 0.333",
                "Node ID: 12<br>Pullback set label: 9<br>Partial cluster label: -1<br>Node size: 8<br>Summary statistic: 0.0625",
                "Node ID: 13<br>Pullback set label: 10<br>Partial cluster label: -1<br>Node size: 17<br>Summary statistic: 0.0294",
                "Node ID: 14<br>Pullback set label: 0<br>Partial cluster label: -1<br>Node size: 6<br>Summary statistic: 0.0778",
                "Node ID: 15<br>Pullback set label: 14<br>Partial cluster label: -1<br>Node size: 22<br>Summary statistic: 0",
                "Node ID: 16<br>Pullback set label: 15<br>Partial cluster label: -1<br>Node size: 17<br>Summary statistic: 0",
                "Node ID: 17<br>Pullback set label: 23<br>Partial cluster label: -1<br>Node size: 3<br>Summary statistic: 0",
                "Node ID: 18<br>Pullback set label: 24<br>Partial cluster label: -1<br>Node size: 1<br>Summary statistic: 0",
                "Node ID: 19<br>Pullback set label: 11<br>Partial cluster label: -1<br>Node size: 8<br>Summary statistic: 0",
                "Node ID: 20<br>Pullback set label: 13<br>Partial cluster label: -1<br>Node size: 15<br>Summary statistic: 0",
                "Node ID: 21<br>Pullback set label: 16<br>Partial cluster label: -1<br>Node size: 26<br>Summary statistic: 0.154",
                "Node ID: 22<br>Pullback set label: 8<br>Partial cluster label: -1<br>Node size: 8<br>Summary statistic: 0",
                "Node ID: 23<br>Pullback set label: 27<br>Partial cluster label: -1<br>Node size: 5<br>Summary statistic: 0",
                "Node ID: 24<br>Pullback set label: 28<br>Partial cluster label: -1<br>Node size: 5<br>Summary statistic: 0",
                "Node ID: 25<br>Pullback set label: 12<br>Partial cluster label: -1<br>Node size: 4<br>Summary statistic: 0",
                "Node ID: 26<br>Pullback set label: 22<br>Partial cluster label: -1<br>Node size: 6<br>Summary statistic: 0",
                "Node ID: 27<br>Pullback set label: 14<br>Partial cluster label: 0<br>Node size: 5<br>Summary statistic: 0",
                "Node ID: 28<br>Pullback set label: 19<br>Partial cluster label: -1<br>Node size: 11<br>Summary statistic: 0",
                "Node ID: 29<br>Pullback set label: 25<br>Partial cluster label: 0<br>Node size: 45<br>Summary statistic: 0",
                "Node ID: 30<br>Pullback set label: 28<br>Partial cluster label: 0<br>Node size: 6<br>Summary statistic: 1.0",
                "Node ID: 31<br>Pullback set label: 19<br>Partial cluster label: 0<br>Node size: 5<br>Summary statistic: 0",
                "Node ID: 32<br>Pullback set label: 21<br>Partial cluster label: 0<br>Node size: 26<br>Summary statistic: 0",
                "Node ID: 33<br>Pullback set label: 22<br>Partial cluster label: 0<br>Node size: 8<br>Summary statistic: 0",
                "Node ID: 34<br>Pullback set label: 26<br>Partial cluster label: -1<br>Node size: 4<br>Summary statistic: 0",
                "Node ID: 35<br>Pullback set label: 17<br>Partial cluster label: 0<br>Node size: 20<br>Summary statistic: 0",
                "Node ID: 36<br>Pullback set label: 18<br>Partial cluster label: 0<br>Node size: 20<br>Summary statistic: 0"
               ]
              ],
              "marker.color": [
               null,
               [
                0.058636101917052916,
                0.06325621157553932,
                0.16666666666666666,
                0.019230769230769232,
                0,
                0.03505291005291005,
                0.05612244897959184,
                0.05384615384615384,
                0.03125,
                0.02962962962962963,
                0.09090909090909091,
                0.3333333333333333,
                0.0625,
                0.029411764705882353,
                0.07777777777777778,
                0,
                0,
                0,
                0,
                0,
                0,
                0.15384615384615385,
                0,
                0,
                0,
                0,
                0,
                0,
                0,
                0,
                1,
                0,
                0,
                0,
                0,
                0,
                0
               ]
              ]
             }
            ],
            "label": "17",
            "method": "restyle"
           },
           {
            "args": [
             {
              "hovertext": [
               null,
               [
                "Node ID: 0<br>Pullback set label: 0<br>Partial cluster label: 0<br>Node size: 14<br>Summary statistic: 0.0174",
                "Node ID: 1<br>Pullback set label: 1<br>Partial cluster label: -1<br>Node size: 14<br>Summary statistic: 0.0258",
                "Node ID: 2<br>Pullback set label: 17<br>Partial cluster label: -1<br>Node size: 24<br>Summary statistic: 0",
                "Node ID: 3<br>Pullback set label: 4<br>Partial cluster label: -1<br>Node size: 13<br>Summary statistic: 0",
                "Node ID: 4<br>Pullback set label: 18<br>Partial cluster label: -1<br>Node size: 16<br>Summary statistic: 0",
                "Node ID: 5<br>Pullback set label: 2<br>Partial cluster label: -1<br>Node size: 12<br>Summary statistic: 0.0231",
                "Node ID: 6<br>Pullback set label: 3<br>Partial cluster label: -1<br>Node size: 7<br>Summary statistic: 0",
                "Node ID: 7<br>Pullback set label: 7<br>Partial cluster label: -1<br>Node size: 13<br>Summary statistic: 0",
                "Node ID: 8<br>Pullback set label: 5<br>Partial cluster label: -1<br>Node size: 16<br>Summary statistic: 0",
                "Node ID: 9<br>Pullback set label: 6<br>Partial cluster label: -1<br>Node size: 18<br>Summary statistic: 0",
                "Node ID: 10<br>Pullback set label: 20<br>Partial cluster label: -1<br>Node size: 11<br>Summary statistic: 0",
                "Node ID: 11<br>Pullback set label: 21<br>Partial cluster label: -1<br>Node size: 3<br>Summary statistic: 0",
                "Node ID: 12<br>Pullback set label: 9<br>Partial cluster label: -1<br>Node size: 8<br>Summary statistic: 0.0625",
                "Node ID: 13<br>Pullback set label: 10<br>Partial cluster label: -1<br>Node size: 17<br>Summary statistic: 0.0294",
                "Node ID: 14<br>Pullback set label: 0<br>Partial cluster label: -1<br>Node size: 6<br>Summary statistic: 0.0278",
                "Node ID: 15<br>Pullback set label: 14<br>Partial cluster label: -1<br>Node size: 22<br>Summary statistic: 0",
                "Node ID: 16<br>Pullback set label: 15<br>Partial cluster label: -1<br>Node size: 17<br>Summary statistic: 0",
                "Node ID: 17<br>Pullback set label: 23<br>Partial cluster label: -1<br>Node size: 3<br>Summary statistic: 0",
                "Node ID: 18<br>Pullback set label: 24<br>Partial cluster label: -1<br>Node size: 1<br>Summary statistic: 0",
                "Node ID: 19<br>Pullback set label: 11<br>Partial cluster label: -1<br>Node size: 8<br>Summary statistic: 0",
                "Node ID: 20<br>Pullback set label: 13<br>Partial cluster label: -1<br>Node size: 15<br>Summary statistic: 0",
                "Node ID: 21<br>Pullback set label: 16<br>Partial cluster label: -1<br>Node size: 26<br>Summary statistic: 0",
                "Node ID: 22<br>Pullback set label: 8<br>Partial cluster label: -1<br>Node size: 8<br>Summary statistic: 0",
                "Node ID: 23<br>Pullback set label: 27<br>Partial cluster label: -1<br>Node size: 5<br>Summary statistic: 0",
                "Node ID: 24<br>Pullback set label: 28<br>Partial cluster label: -1<br>Node size: 5<br>Summary statistic: 0",
                "Node ID: 25<br>Pullback set label: 12<br>Partial cluster label: -1<br>Node size: 4<br>Summary statistic: 0",
                "Node ID: 26<br>Pullback set label: 22<br>Partial cluster label: -1<br>Node size: 6<br>Summary statistic: 0",
                "Node ID: 27<br>Pullback set label: 14<br>Partial cluster label: 0<br>Node size: 5<br>Summary statistic: 0",
                "Node ID: 28<br>Pullback set label: 19<br>Partial cluster label: -1<br>Node size: 11<br>Summary statistic: 0",
                "Node ID: 29<br>Pullback set label: 25<br>Partial cluster label: 0<br>Node size: 45<br>Summary statistic: 0",
                "Node ID: 30<br>Pullback set label: 28<br>Partial cluster label: 0<br>Node size: 6<br>Summary statistic: 1.0",
                "Node ID: 31<br>Pullback set label: 19<br>Partial cluster label: 0<br>Node size: 5<br>Summary statistic: 0",
                "Node ID: 32<br>Pullback set label: 21<br>Partial cluster label: 0<br>Node size: 26<br>Summary statistic: 0",
                "Node ID: 33<br>Pullback set label: 22<br>Partial cluster label: 0<br>Node size: 8<br>Summary statistic: 0",
                "Node ID: 34<br>Pullback set label: 26<br>Partial cluster label: -1<br>Node size: 4<br>Summary statistic: 0",
                "Node ID: 35<br>Pullback set label: 17<br>Partial cluster label: 0<br>Node size: 20<br>Summary statistic: 0",
                "Node ID: 36<br>Pullback set label: 18<br>Partial cluster label: 0<br>Node size: 20<br>Summary statistic: 0"
               ]
              ],
              "marker.color": [
               null,
               [
                0.017369142376422515,
                0.025840336134453776,
                0,
                0,
                0,
                0.02314814814814815,
                0,
                0,
                0,
                0,
                0,
                0,
                0.0625,
                0.029411764705882353,
                0.027777777777777776,
                0,
                0,
                0,
                0,
                0,
                0,
                0,
                0,
                0,
                0,
                0,
                0,
                0,
                0,
                0,
                1,
                0,
                0,
                0,
                0,
                0,
                0
               ]
              ]
             }
            ],
            "label": "18",
            "method": "restyle"
           },
           {
            "args": [
             {
              "hovertext": [
               null,
               [
                "Node ID: 0<br>Pullback set label: 0<br>Partial cluster label: 0<br>Node size: 14<br>Summary statistic: 0.0566",
                "Node ID: 1<br>Pullback set label: 1<br>Partial cluster label: -1<br>Node size: 14<br>Summary statistic: 0.0534",
                "Node ID: 2<br>Pullback set label: 17<br>Partial cluster label: -1<br>Node size: 24<br>Summary statistic: 0.0208",
                "Node ID: 3<br>Pullback set label: 4<br>Partial cluster label: -1<br>Node size: 13<br>Summary statistic: 0.0256",
                "Node ID: 4<br>Pullback set label: 18<br>Partial cluster label: -1<br>Node size: 16<br>Summary statistic: 0.0312",
                "Node ID: 5<br>Pullback set label: 2<br>Partial cluster label: -1<br>Node size: 12<br>Summary statistic: 0.0438",
                "Node ID: 6<br>Pullback set label: 3<br>Partial cluster label: -1<br>Node size: 7<br>Summary statistic: 0",
                "Node ID: 7<br>Pullback set label: 7<br>Partial cluster label: -1<br>Node size: 13<br>Summary statistic: 0.0513",
                "Node ID: 8<br>Pullback set label: 5<br>Partial cluster label: -1<br>Node size: 16<br>Summary statistic: 0.0417",
                "Node ID: 9<br>Pullback set label: 6<br>Partial cluster label: -1<br>Node size: 18<br>Summary statistic: 0.037",
                "Node ID: 10<br>Pullback set label: 20<br>Partial cluster label: -1<br>Node size: 11<br>Summary statistic: 0.0909",
                "Node ID: 11<br>Pullback set label: 21<br>Partial cluster label: -1<br>Node size: 3<br>Summary statistic: 0",
                "Node ID: 12<br>Pullback set label: 9<br>Partial cluster label: -1<br>Node size: 8<br>Summary statistic: 0",
                "Node ID: 13<br>Pullback set label: 10<br>Partial cluster label: -1<br>Node size: 17<br>Summary statistic: 0",
                "Node ID: 14<br>Pullback set label: 0<br>Partial cluster label: -1<br>Node size: 6<br>Summary statistic: 0",
                "Node ID: 15<br>Pullback set label: 14<br>Partial cluster label: -1<br>Node size: 22<br>Summary statistic: 0.0455",
                "Node ID: 16<br>Pullback set label: 15<br>Partial cluster label: -1<br>Node size: 17<br>Summary statistic: 0.118",
                "Node ID: 17<br>Pullback set label: 23<br>Partial cluster label: -1<br>Node size: 3<br>Summary statistic: 0.333",
                "Node ID: 18<br>Pullback set label: 24<br>Partial cluster label: -1<br>Node size: 1<br>Summary statistic: 0",
                "Node ID: 19<br>Pullback set label: 11<br>Partial cluster label: -1<br>Node size: 8<br>Summary statistic: 0",
                "Node ID: 20<br>Pullback set label: 13<br>Partial cluster label: -1<br>Node size: 15<br>Summary statistic: 0",
                "Node ID: 21<br>Pullback set label: 16<br>Partial cluster label: -1<br>Node size: 26<br>Summary statistic: 0",
                "Node ID: 22<br>Pullback set label: 8<br>Partial cluster label: -1<br>Node size: 8<br>Summary statistic: 0",
                "Node ID: 23<br>Pullback set label: 27<br>Partial cluster label: -1<br>Node size: 5<br>Summary statistic: 0",
                "Node ID: 24<br>Pullback set label: 28<br>Partial cluster label: -1<br>Node size: 5<br>Summary statistic: 0",
                "Node ID: 25<br>Pullback set label: 12<br>Partial cluster label: -1<br>Node size: 4<br>Summary statistic: 0.0833",
                "Node ID: 26<br>Pullback set label: 22<br>Partial cluster label: -1<br>Node size: 6<br>Summary statistic: 0.167",
                "Node ID: 27<br>Pullback set label: 14<br>Partial cluster label: 0<br>Node size: 5<br>Summary statistic: 0",
                "Node ID: 28<br>Pullback set label: 19<br>Partial cluster label: -1<br>Node size: 11<br>Summary statistic: 0",
                "Node ID: 29<br>Pullback set label: 25<br>Partial cluster label: 0<br>Node size: 45<br>Summary statistic: 0",
                "Node ID: 30<br>Pullback set label: 28<br>Partial cluster label: 0<br>Node size: 6<br>Summary statistic: 0",
                "Node ID: 31<br>Pullback set label: 19<br>Partial cluster label: 0<br>Node size: 5<br>Summary statistic: 0",
                "Node ID: 32<br>Pullback set label: 21<br>Partial cluster label: 0<br>Node size: 26<br>Summary statistic: 0",
                "Node ID: 33<br>Pullback set label: 22<br>Partial cluster label: 0<br>Node size: 8<br>Summary statistic: 0",
                "Node ID: 34<br>Pullback set label: 26<br>Partial cluster label: -1<br>Node size: 4<br>Summary statistic: 0",
                "Node ID: 35<br>Pullback set label: 17<br>Partial cluster label: 0<br>Node size: 20<br>Summary statistic: 0",
                "Node ID: 36<br>Pullback set label: 18<br>Partial cluster label: 0<br>Node size: 20<br>Summary statistic: 0"
               ]
              ],
              "marker.color": [
               null,
               [
                0.05656390086095137,
                0.053411889231216966,
                0.020833333333333332,
                0.02564102564102564,
                0.03125,
                0.043750000000000004,
                0,
                0.05128205128205128,
                0.041666666666666664,
                0.037037037037037035,
                0.09090909090909091,
                0,
                0,
                0,
                0,
                0.045454545454545456,
                0.11764705882352941,
                0.3333333333333333,
                0,
                0,
                0,
                0,
                0,
                0,
                0,
                0.08333333333333333,
                0.16666666666666666,
                0,
                0,
                0,
                0,
                0,
                0,
                0,
                0,
                0,
                0
               ]
              ]
             }
            ],
            "label": "19",
            "method": "restyle"
           },
           {
            "args": [
             {
              "hovertext": [
               null,
               [
                "Node ID: 0<br>Pullback set label: 0<br>Partial cluster label: 0<br>Node size: 14<br>Summary statistic: 0.0713",
                "Node ID: 1<br>Pullback set label: 1<br>Partial cluster label: -1<br>Node size: 14<br>Summary statistic: 0.0438",
                "Node ID: 2<br>Pullback set label: 17<br>Partial cluster label: -1<br>Node size: 24<br>Summary statistic: 0.188",
                "Node ID: 3<br>Pullback set label: 4<br>Partial cluster label: -1<br>Node size: 13<br>Summary statistic: 0.131",
                "Node ID: 4<br>Pullback set label: 18<br>Partial cluster label: -1<br>Node size: 16<br>Summary statistic: 0.156",
                "Node ID: 5<br>Pullback set label: 2<br>Partial cluster label: -1<br>Node size: 12<br>Summary statistic: 0.0315",
                "Node ID: 6<br>Pullback set label: 3<br>Partial cluster label: -1<br>Node size: 7<br>Summary statistic: 0",
                "Node ID: 7<br>Pullback set label: 7<br>Partial cluster label: -1<br>Node size: 13<br>Summary statistic: 0",
                "Node ID: 8<br>Pullback set label: 5<br>Partial cluster label: -1<br>Node size: 16<br>Summary statistic: 0.0625",
                "Node ID: 9<br>Pullback set label: 6<br>Partial cluster label: -1<br>Node size: 18<br>Summary statistic: 0.0324",
                "Node ID: 10<br>Pullback set label: 20<br>Partial cluster label: -1<br>Node size: 11<br>Summary statistic: 0.364",
                "Node ID: 11<br>Pullback set label: 21<br>Partial cluster label: -1<br>Node size: 3<br>Summary statistic: 0",
                "Node ID: 12<br>Pullback set label: 9<br>Partial cluster label: -1<br>Node size: 8<br>Summary statistic: 0.125",
                "Node ID: 13<br>Pullback set label: 10<br>Partial cluster label: -1<br>Node size: 17<br>Summary statistic: 0.118",
                "Node ID: 14<br>Pullback set label: 0<br>Partial cluster label: -1<br>Node size: 6<br>Summary statistic: 0.0238",
                "Node ID: 15<br>Pullback set label: 14<br>Partial cluster label: -1<br>Node size: 22<br>Summary statistic: 0.182",
                "Node ID: 16<br>Pullback set label: 15<br>Partial cluster label: -1<br>Node size: 17<br>Summary statistic: 0",
                "Node ID: 17<br>Pullback set label: 23<br>Partial cluster label: -1<br>Node size: 3<br>Summary statistic: 0.333",
                "Node ID: 18<br>Pullback set label: 24<br>Partial cluster label: -1<br>Node size: 1<br>Summary statistic: 1.0",
                "Node ID: 19<br>Pullback set label: 11<br>Partial cluster label: -1<br>Node size: 8<br>Summary statistic: 0.125",
                "Node ID: 20<br>Pullback set label: 13<br>Partial cluster label: -1<br>Node size: 15<br>Summary statistic: 0.267",
                "Node ID: 21<br>Pullback set label: 16<br>Partial cluster label: -1<br>Node size: 26<br>Summary statistic: 0.0769",
                "Node ID: 22<br>Pullback set label: 8<br>Partial cluster label: -1<br>Node size: 8<br>Summary statistic: 0.104",
                "Node ID: 23<br>Pullback set label: 27<br>Partial cluster label: -1<br>Node size: 5<br>Summary statistic: 0",
                "Node ID: 24<br>Pullback set label: 28<br>Partial cluster label: -1<br>Node size: 5<br>Summary statistic: 0",
                "Node ID: 25<br>Pullback set label: 12<br>Partial cluster label: -1<br>Node size: 4<br>Summary statistic: 0",
                "Node ID: 26<br>Pullback set label: 22<br>Partial cluster label: -1<br>Node size: 6<br>Summary statistic: 0.167",
                "Node ID: 27<br>Pullback set label: 14<br>Partial cluster label: 0<br>Node size: 5<br>Summary statistic: 0",
                "Node ID: 28<br>Pullback set label: 19<br>Partial cluster label: -1<br>Node size: 11<br>Summary statistic: 0",
                "Node ID: 29<br>Pullback set label: 25<br>Partial cluster label: 0<br>Node size: 45<br>Summary statistic: 0",
                "Node ID: 30<br>Pullback set label: 28<br>Partial cluster label: 0<br>Node size: 6<br>Summary statistic: 0",
                "Node ID: 31<br>Pullback set label: 19<br>Partial cluster label: 0<br>Node size: 5<br>Summary statistic: 0",
                "Node ID: 32<br>Pullback set label: 21<br>Partial cluster label: 0<br>Node size: 26<br>Summary statistic: 0",
                "Node ID: 33<br>Pullback set label: 22<br>Partial cluster label: 0<br>Node size: 8<br>Summary statistic: 0",
                "Node ID: 34<br>Pullback set label: 26<br>Partial cluster label: -1<br>Node size: 4<br>Summary statistic: 0",
                "Node ID: 35<br>Pullback set label: 17<br>Partial cluster label: 0<br>Node size: 20<br>Summary statistic: 0",
                "Node ID: 36<br>Pullback set label: 18<br>Partial cluster label: 0<br>Node size: 20<br>Summary statistic: 0"
               ]
              ],
              "marker.color": [
               null,
               [
                0.07134246333950969,
                0.04380407174524822,
                0.1875,
                0.13076923076923078,
                0.15625,
                0.03148148148148148,
                0,
                0,
                0.0625,
                0.032407407407407406,
                0.36363636363636365,
                0,
                0.125,
                0.11764705882352941,
                0.023809523809523808,
                0.18181818181818182,
                0,
                0.3333333333333333,
                1,
                0.125,
                0.26666666666666666,
                0.07692307692307693,
                0.10416666666666666,
                0,
                0,
                0,
                0.16666666666666666,
                0,
                0,
                0,
                0,
                0,
                0,
                0,
                0,
                0,
                0
               ]
              ]
             }
            ],
            "label": "20",
            "method": "restyle"
           },
           {
            "args": [
             {
              "hovertext": [
               null,
               [
                "Node ID: 0<br>Pullback set label: 0<br>Partial cluster label: 0<br>Node size: 14<br>Summary statistic: 0.128",
                "Node ID: 1<br>Pullback set label: 1<br>Partial cluster label: -1<br>Node size: 14<br>Summary statistic: 0.0964",
                "Node ID: 2<br>Pullback set label: 17<br>Partial cluster label: -1<br>Node size: 24<br>Summary statistic: 0.25",
                "Node ID: 3<br>Pullback set label: 4<br>Partial cluster label: -1<br>Node size: 13<br>Summary statistic: 0.0641",
                "Node ID: 4<br>Pullback set label: 18<br>Partial cluster label: -1<br>Node size: 16<br>Summary statistic: 0.25",
                "Node ID: 5<br>Pullback set label: 2<br>Partial cluster label: -1<br>Node size: 12<br>Summary statistic: 0.0829",
                "Node ID: 6<br>Pullback set label: 3<br>Partial cluster label: -1<br>Node size: 7<br>Summary statistic: 0.0524",
                "Node ID: 7<br>Pullback set label: 7<br>Partial cluster label: -1<br>Node size: 13<br>Summary statistic: 0.0256",
                "Node ID: 8<br>Pullback set label: 5<br>Partial cluster label: -1<br>Node size: 16<br>Summary statistic: 0.156",
                "Node ID: 9<br>Pullback set label: 6<br>Partial cluster label: -1<br>Node size: 18<br>Summary statistic: 0.0324",
                "Node ID: 10<br>Pullback set label: 20<br>Partial cluster label: -1<br>Node size: 11<br>Summary statistic: 0.0909",
                "Node ID: 11<br>Pullback set label: 21<br>Partial cluster label: -1<br>Node size: 3<br>Summary statistic: 0.333",
                "Node ID: 12<br>Pullback set label: 9<br>Partial cluster label: -1<br>Node size: 8<br>Summary statistic: 0.0625",
                "Node ID: 13<br>Pullback set label: 10<br>Partial cluster label: -1<br>Node size: 17<br>Summary statistic: 0.0882",
                "Node ID: 14<br>Pullback set label: 0<br>Partial cluster label: -1<br>Node size: 6<br>Summary statistic: 0.081",
                "Node ID: 15<br>Pullback set label: 14<br>Partial cluster label: -1<br>Node size: 22<br>Summary statistic: 0.159",
                "Node ID: 16<br>Pullback set label: 15<br>Partial cluster label: -1<br>Node size: 17<br>Summary statistic: 0.147",
                "Node ID: 17<br>Pullback set label: 23<br>Partial cluster label: -1<br>Node size: 3<br>Summary statistic: 0",
                "Node ID: 18<br>Pullback set label: 24<br>Partial cluster label: -1<br>Node size: 1<br>Summary statistic: 0",
                "Node ID: 19<br>Pullback set label: 11<br>Partial cluster label: -1<br>Node size: 8<br>Summary statistic: 0.125",
                "Node ID: 20<br>Pullback set label: 13<br>Partial cluster label: -1<br>Node size: 15<br>Summary statistic: 0.167",
                "Node ID: 21<br>Pullback set label: 16<br>Partial cluster label: -1<br>Node size: 26<br>Summary statistic: 0.0769",
                "Node ID: 22<br>Pullback set label: 8<br>Partial cluster label: -1<br>Node size: 8<br>Summary statistic: 0",
                "Node ID: 23<br>Pullback set label: 27<br>Partial cluster label: -1<br>Node size: 5<br>Summary statistic: 0.4",
                "Node ID: 24<br>Pullback set label: 28<br>Partial cluster label: -1<br>Node size: 5<br>Summary statistic: 0",
                "Node ID: 25<br>Pullback set label: 12<br>Partial cluster label: -1<br>Node size: 4<br>Summary statistic: 0",
                "Node ID: 26<br>Pullback set label: 22<br>Partial cluster label: -1<br>Node size: 6<br>Summary statistic: 0",
                "Node ID: 27<br>Pullback set label: 14<br>Partial cluster label: 0<br>Node size: 5<br>Summary statistic: 0",
                "Node ID: 28<br>Pullback set label: 19<br>Partial cluster label: -1<br>Node size: 11<br>Summary statistic: 0.273",
                "Node ID: 29<br>Pullback set label: 25<br>Partial cluster label: 0<br>Node size: 45<br>Summary statistic: 0",
                "Node ID: 30<br>Pullback set label: 28<br>Partial cluster label: 0<br>Node size: 6<br>Summary statistic: 0",
                "Node ID: 31<br>Pullback set label: 19<br>Partial cluster label: 0<br>Node size: 5<br>Summary statistic: 0",
                "Node ID: 32<br>Pullback set label: 21<br>Partial cluster label: 0<br>Node size: 26<br>Summary statistic: 0",
                "Node ID: 33<br>Pullback set label: 22<br>Partial cluster label: 0<br>Node size: 8<br>Summary statistic: 0",
                "Node ID: 34<br>Pullback set label: 26<br>Partial cluster label: -1<br>Node size: 4<br>Summary statistic: 0.75",
                "Node ID: 35<br>Pullback set label: 17<br>Partial cluster label: 0<br>Node size: 20<br>Summary statistic: 0",
                "Node ID: 36<br>Pullback set label: 18<br>Partial cluster label: 0<br>Node size: 20<br>Summary statistic: 0"
               ]
              ],
              "marker.color": [
               null,
               [
                0.1275813507451955,
                0.09636509615501213,
                0.25,
                0.0641025641025641,
                0.25,
                0.08287037037037037,
                0.05238095238095238,
                0.02564102564102564,
                0.15625,
                0.032407407407407406,
                0.09090909090909091,
                0.3333333333333333,
                0.0625,
                0.08823529411764706,
                0.08095238095238096,
                0.1590909090909091,
                0.14705882352941177,
                0,
                0,
                0.125,
                0.16666666666666666,
                0.07692307692307693,
                0,
                0.4,
                0,
                0,
                0,
                0,
                0.2727272727272727,
                0,
                0,
                0,
                0,
                0,
                0.75,
                0,
                0
               ]
              ]
             }
            ],
            "label": "21",
            "method": "restyle"
           },
           {
            "args": [
             {
              "hovertext": [
               null,
               [
                "Node ID: 0<br>Pullback set label: 0<br>Partial cluster label: 0<br>Node size: 14<br>Summary statistic: 0.0059",
                "Node ID: 1<br>Pullback set label: 1<br>Partial cluster label: -1<br>Node size: 14<br>Summary statistic: 0.0153",
                "Node ID: 2<br>Pullback set label: 17<br>Partial cluster label: -1<br>Node size: 24<br>Summary statistic: 0",
                "Node ID: 3<br>Pullback set label: 4<br>Partial cluster label: -1<br>Node size: 13<br>Summary statistic: 0",
                "Node ID: 4<br>Pullback set label: 18<br>Partial cluster label: -1<br>Node size: 16<br>Summary statistic: 0",
                "Node ID: 5<br>Pullback set label: 2<br>Partial cluster label: -1<br>Node size: 12<br>Summary statistic: 0.037",
                "Node ID: 6<br>Pullback set label: 3<br>Partial cluster label: -1<br>Node size: 7<br>Summary statistic: 0.0476",
                "Node ID: 7<br>Pullback set label: 7<br>Partial cluster label: -1<br>Node size: 13<br>Summary statistic: 0.0128",
                "Node ID: 8<br>Pullback set label: 5<br>Partial cluster label: -1<br>Node size: 16<br>Summary statistic: 0",
                "Node ID: 9<br>Pullback set label: 6<br>Partial cluster label: -1<br>Node size: 18<br>Summary statistic: 0",
                "Node ID: 10<br>Pullback set label: 20<br>Partial cluster label: -1<br>Node size: 11<br>Summary statistic: 0",
                "Node ID: 11<br>Pullback set label: 21<br>Partial cluster label: -1<br>Node size: 3<br>Summary statistic: 0",
                "Node ID: 12<br>Pullback set label: 9<br>Partial cluster label: -1<br>Node size: 8<br>Summary statistic: 0",
                "Node ID: 13<br>Pullback set label: 10<br>Partial cluster label: -1<br>Node size: 17<br>Summary statistic: 0",
                "Node ID: 14<br>Pullback set label: 0<br>Partial cluster label: -1<br>Node size: 6<br>Summary statistic: 0.0167",
                "Node ID: 15<br>Pullback set label: 14<br>Partial cluster label: -1<br>Node size: 22<br>Summary statistic: 0.0227",
                "Node ID: 16<br>Pullback set label: 15<br>Partial cluster label: -1<br>Node size: 17<br>Summary statistic: 0",
                "Node ID: 17<br>Pullback set label: 23<br>Partial cluster label: -1<br>Node size: 3<br>Summary statistic: 0",
                "Node ID: 18<br>Pullback set label: 24<br>Partial cluster label: -1<br>Node size: 1<br>Summary statistic: 0",
                "Node ID: 19<br>Pullback set label: 11<br>Partial cluster label: -1<br>Node size: 8<br>Summary statistic: 0",
                "Node ID: 20<br>Pullback set label: 13<br>Partial cluster label: -1<br>Node size: 15<br>Summary statistic: 0",
                "Node ID: 21<br>Pullback set label: 16<br>Partial cluster label: -1<br>Node size: 26<br>Summary statistic: 0",
                "Node ID: 22<br>Pullback set label: 8<br>Partial cluster label: -1<br>Node size: 8<br>Summary statistic: 0.0625",
                "Node ID: 23<br>Pullback set label: 27<br>Partial cluster label: -1<br>Node size: 5<br>Summary statistic: 0",
                "Node ID: 24<br>Pullback set label: 28<br>Partial cluster label: -1<br>Node size: 5<br>Summary statistic: 0",
                "Node ID: 25<br>Pullback set label: 12<br>Partial cluster label: -1<br>Node size: 4<br>Summary statistic: 0",
                "Node ID: 26<br>Pullback set label: 22<br>Partial cluster label: -1<br>Node size: 6<br>Summary statistic: 0.333",
                "Node ID: 27<br>Pullback set label: 14<br>Partial cluster label: 0<br>Node size: 5<br>Summary statistic: 0",
                "Node ID: 28<br>Pullback set label: 19<br>Partial cluster label: -1<br>Node size: 11<br>Summary statistic: 0",
                "Node ID: 29<br>Pullback set label: 25<br>Partial cluster label: 0<br>Node size: 45<br>Summary statistic: 0",
                "Node ID: 30<br>Pullback set label: 28<br>Partial cluster label: 0<br>Node size: 6<br>Summary statistic: 0",
                "Node ID: 31<br>Pullback set label: 19<br>Partial cluster label: 0<br>Node size: 5<br>Summary statistic: 0",
                "Node ID: 32<br>Pullback set label: 21<br>Partial cluster label: 0<br>Node size: 26<br>Summary statistic: 0",
                "Node ID: 33<br>Pullback set label: 22<br>Partial cluster label: 0<br>Node size: 8<br>Summary statistic: 0",
                "Node ID: 34<br>Pullback set label: 26<br>Partial cluster label: -1<br>Node size: 4<br>Summary statistic: 0",
                "Node ID: 35<br>Pullback set label: 17<br>Partial cluster label: 0<br>Node size: 20<br>Summary statistic: 0",
                "Node ID: 36<br>Pullback set label: 18<br>Partial cluster label: 0<br>Node size: 20<br>Summary statistic: 0"
               ]
              ],
              "marker.color": [
               null,
               [
                0.0058956916099773245,
                0.015306122448979593,
                0,
                0,
                0,
                0.037037037037037035,
                0.047619047619047616,
                0.01282051282051282,
                0,
                0,
                0,
                0,
                0,
                0,
                0.016666666666666666,
                0.022727272727272728,
                0,
                0,
                0,
                0,
                0,
                0,
                0.0625,
                0,
                0,
                0,
                0.3333333333333333,
                0,
                0,
                0,
                0,
                0,
                0,
                0,
                0,
                0,
                0
               ]
              ]
             }
            ],
            "label": "22",
            "method": "restyle"
           },
           {
            "args": [
             {
              "hovertext": [
               null,
               [
                "Node ID: 0<br>Pullback set label: 0<br>Partial cluster label: 0<br>Node size: 14<br>Summary statistic: 0.0236",
                "Node ID: 1<br>Pullback set label: 1<br>Partial cluster label: -1<br>Node size: 14<br>Summary statistic: 0.00424",
                "Node ID: 2<br>Pullback set label: 17<br>Partial cluster label: -1<br>Node size: 24<br>Summary statistic: 0.0208",
                "Node ID: 3<br>Pullback set label: 4<br>Partial cluster label: -1<br>Node size: 13<br>Summary statistic: 0.0192",
                "Node ID: 4<br>Pullback set label: 18<br>Partial cluster label: -1<br>Node size: 16<br>Summary statistic: 0.0312",
                "Node ID: 5<br>Pullback set label: 2<br>Partial cluster label: -1<br>Node size: 12<br>Summary statistic: 0",
                "Node ID: 6<br>Pullback set label: 3<br>Partial cluster label: -1<br>Node size: 7<br>Summary statistic: 0",
                "Node ID: 7<br>Pullback set label: 7<br>Partial cluster label: -1<br>Node size: 13<br>Summary statistic: 0",
                "Node ID: 8<br>Pullback set label: 5<br>Partial cluster label: -1<br>Node size: 16<br>Summary statistic: 0.0365",
                "Node ID: 9<br>Pullback set label: 6<br>Partial cluster label: -1<br>Node size: 18<br>Summary statistic: 0.0185",
                "Node ID: 10<br>Pullback set label: 20<br>Partial cluster label: -1<br>Node size: 11<br>Summary statistic: 0",
                "Node ID: 11<br>Pullback set label: 21<br>Partial cluster label: -1<br>Node size: 3<br>Summary statistic: 0",
                "Node ID: 12<br>Pullback set label: 9<br>Partial cluster label: -1<br>Node size: 8<br>Summary statistic: 0.0625",
                "Node ID: 13<br>Pullback set label: 10<br>Partial cluster label: -1<br>Node size: 17<br>Summary statistic: 0.0294",
                "Node ID: 14<br>Pullback set label: 0<br>Partial cluster label: -1<br>Node size: 6<br>Summary statistic: 0",
                "Node ID: 15<br>Pullback set label: 14<br>Partial cluster label: -1<br>Node size: 22<br>Summary statistic: 0",
                "Node ID: 16<br>Pullback set label: 15<br>Partial cluster label: -1<br>Node size: 17<br>Summary statistic: 0",
                "Node ID: 17<br>Pullback set label: 23<br>Partial cluster label: -1<br>Node size: 3<br>Summary statistic: 0",
                "Node ID: 18<br>Pullback set label: 24<br>Partial cluster label: -1<br>Node size: 1<br>Summary statistic: 0",
                "Node ID: 19<br>Pullback set label: 11<br>Partial cluster label: -1<br>Node size: 8<br>Summary statistic: 0",
                "Node ID: 20<br>Pullback set label: 13<br>Partial cluster label: -1<br>Node size: 15<br>Summary statistic: 0",
                "Node ID: 21<br>Pullback set label: 16<br>Partial cluster label: -1<br>Node size: 26<br>Summary statistic: 0",
                "Node ID: 22<br>Pullback set label: 8<br>Partial cluster label: -1<br>Node size: 8<br>Summary statistic: 0",
                "Node ID: 23<br>Pullback set label: 27<br>Partial cluster label: -1<br>Node size: 5<br>Summary statistic: 0",
                "Node ID: 24<br>Pullback set label: 28<br>Partial cluster label: -1<br>Node size: 5<br>Summary statistic: 0",
                "Node ID: 25<br>Pullback set label: 12<br>Partial cluster label: -1<br>Node size: 4<br>Summary statistic: 0",
                "Node ID: 26<br>Pullback set label: 22<br>Partial cluster label: -1<br>Node size: 6<br>Summary statistic: 0",
                "Node ID: 27<br>Pullback set label: 14<br>Partial cluster label: 0<br>Node size: 5<br>Summary statistic: 0",
                "Node ID: 28<br>Pullback set label: 19<br>Partial cluster label: -1<br>Node size: 11<br>Summary statistic: 0",
                "Node ID: 29<br>Pullback set label: 25<br>Partial cluster label: 0<br>Node size: 45<br>Summary statistic: 0",
                "Node ID: 30<br>Pullback set label: 28<br>Partial cluster label: 0<br>Node size: 6<br>Summary statistic: 0",
                "Node ID: 31<br>Pullback set label: 19<br>Partial cluster label: 0<br>Node size: 5<br>Summary statistic: 0",
                "Node ID: 32<br>Pullback set label: 21<br>Partial cluster label: 0<br>Node size: 26<br>Summary statistic: 0",
                "Node ID: 33<br>Pullback set label: 22<br>Partial cluster label: 0<br>Node size: 8<br>Summary statistic: 0",
                "Node ID: 34<br>Pullback set label: 26<br>Partial cluster label: -1<br>Node size: 4<br>Summary statistic: 0",
                "Node ID: 35<br>Pullback set label: 17<br>Partial cluster label: 0<br>Node size: 20<br>Summary statistic: 0",
                "Node ID: 36<br>Pullback set label: 18<br>Partial cluster label: 0<br>Node size: 20<br>Summary statistic: 0"
               ]
              ],
              "marker.color": [
               null,
               [
                0.023606373242366252,
                0.0042416966786714685,
                0.020833333333333332,
                0.019230769230769232,
                0.03125,
                0,
                0,
                0,
                0.03645833333333333,
                0.018518518518518517,
                0,
                0,
                0.0625,
                0.029411764705882353,
                0,
                0,
                0,
                0,
                0,
                0,
                0,
                0,
                0,
                0,
                0,
                0,
                0,
                0,
                0,
                0,
                0,
                0,
                0,
                0,
                0,
                0,
                0
               ]
              ]
             }
            ],
            "label": "23",
            "method": "restyle"
           },
           {
            "args": [
             {
              "hovertext": [
               null,
               [
                "Node ID: 0<br>Pullback set label: 0<br>Partial cluster label: 0<br>Node size: 14<br>Summary statistic: 0.0351",
                "Node ID: 1<br>Pullback set label: 1<br>Partial cluster label: -1<br>Node size: 14<br>Summary statistic: 0.0273",
                "Node ID: 2<br>Pullback set label: 17<br>Partial cluster label: -1<br>Node size: 24<br>Summary statistic: 0.0208",
                "Node ID: 3<br>Pullback set label: 4<br>Partial cluster label: -1<br>Node size: 13<br>Summary statistic: 0.0385",
                "Node ID: 4<br>Pullback set label: 18<br>Partial cluster label: -1<br>Node size: 16<br>Summary statistic: 0.0312",
                "Node ID: 5<br>Pullback set label: 2<br>Partial cluster label: -1<br>Node size: 12<br>Summary statistic: 0",
                "Node ID: 6<br>Pullback set label: 3<br>Partial cluster label: -1<br>Node size: 7<br>Summary statistic: 0",
                "Node ID: 7<br>Pullback set label: 7<br>Partial cluster label: -1<br>Node size: 13<br>Summary statistic: 0.0256",
                "Node ID: 8<br>Pullback set label: 5<br>Partial cluster label: -1<br>Node size: 16<br>Summary statistic: 0.0417",
                "Node ID: 9<br>Pullback set label: 6<br>Partial cluster label: -1<br>Node size: 18<br>Summary statistic: 0.037",
                "Node ID: 10<br>Pullback set label: 20<br>Partial cluster label: -1<br>Node size: 11<br>Summary statistic: 0.455",
                "Node ID: 11<br>Pullback set label: 21<br>Partial cluster label: -1<br>Node size: 3<br>Summary statistic: 0",
                "Node ID: 12<br>Pullback set label: 9<br>Partial cluster label: -1<br>Node size: 8<br>Summary statistic: 0",
                "Node ID: 13<br>Pullback set label: 10<br>Partial cluster label: -1<br>Node size: 17<br>Summary statistic: 0.0294",
                "Node ID: 14<br>Pullback set label: 0<br>Partial cluster label: -1<br>Node size: 6<br>Summary statistic: 0.0238",
                "Node ID: 15<br>Pullback set label: 14<br>Partial cluster label: -1<br>Node size: 22<br>Summary statistic: 0.0455",
                "Node ID: 16<br>Pullback set label: 15<br>Partial cluster label: -1<br>Node size: 17<br>Summary statistic: 0",
                "Node ID: 17<br>Pullback set label: 23<br>Partial cluster label: -1<br>Node size: 3<br>Summary statistic: 0",
                "Node ID: 18<br>Pullback set label: 24<br>Partial cluster label: -1<br>Node size: 1<br>Summary statistic: 0",
                "Node ID: 19<br>Pullback set label: 11<br>Partial cluster label: -1<br>Node size: 8<br>Summary statistic: 0.0625",
                "Node ID: 20<br>Pullback set label: 13<br>Partial cluster label: -1<br>Node size: 15<br>Summary statistic: 0",
                "Node ID: 21<br>Pullback set label: 16<br>Partial cluster label: -1<br>Node size: 26<br>Summary statistic: 0",
                "Node ID: 22<br>Pullback set label: 8<br>Partial cluster label: -1<br>Node size: 8<br>Summary statistic: 0",
                "Node ID: 23<br>Pullback set label: 27<br>Partial cluster label: -1<br>Node size: 5<br>Summary statistic: 0",
                "Node ID: 24<br>Pullback set label: 28<br>Partial cluster label: -1<br>Node size: 5<br>Summary statistic: 0.6",
                "Node ID: 25<br>Pullback set label: 12<br>Partial cluster label: -1<br>Node size: 4<br>Summary statistic: 0",
                "Node ID: 26<br>Pullback set label: 22<br>Partial cluster label: -1<br>Node size: 6<br>Summary statistic: 0.167",
                "Node ID: 27<br>Pullback set label: 14<br>Partial cluster label: 0<br>Node size: 5<br>Summary statistic: 0",
                "Node ID: 28<br>Pullback set label: 19<br>Partial cluster label: -1<br>Node size: 11<br>Summary statistic: 0",
                "Node ID: 29<br>Pullback set label: 25<br>Partial cluster label: 0<br>Node size: 45<br>Summary statistic: 0",
                "Node ID: 30<br>Pullback set label: 28<br>Partial cluster label: 0<br>Node size: 6<br>Summary statistic: 0",
                "Node ID: 31<br>Pullback set label: 19<br>Partial cluster label: 0<br>Node size: 5<br>Summary statistic: 0",
                "Node ID: 32<br>Pullback set label: 21<br>Partial cluster label: 0<br>Node size: 26<br>Summary statistic: 0",
                "Node ID: 33<br>Pullback set label: 22<br>Partial cluster label: 0<br>Node size: 8<br>Summary statistic: 0",
                "Node ID: 34<br>Pullback set label: 26<br>Partial cluster label: -1<br>Node size: 4<br>Summary statistic: 0",
                "Node ID: 35<br>Pullback set label: 17<br>Partial cluster label: 0<br>Node size: 20<br>Summary statistic: 0",
                "Node ID: 36<br>Pullback set label: 18<br>Partial cluster label: 0<br>Node size: 20<br>Summary statistic: 0"
               ]
              ],
              "marker.color": [
               null,
               [
                0.03510736953047045,
                0.027326455057547494,
                0.020833333333333332,
                0.038461538461538464,
                0.03125,
                0,
                0,
                0.02564102564102564,
                0.041666666666666664,
                0.037037037037037035,
                0.45454545454545453,
                0,
                0,
                0.029411764705882353,
                0.023809523809523808,
                0.045454545454545456,
                0,
                0,
                0,
                0.0625,
                0,
                0,
                0,
                0,
                0.6,
                0,
                0.16666666666666666,
                0,
                0,
                0,
                0,
                0,
                0,
                0,
                0,
                0,
                0
               ]
              ]
             }
            ],
            "label": "24",
            "method": "restyle"
           },
           {
            "args": [
             {
              "hovertext": [
               null,
               [
                "Node ID: 0<br>Pullback set label: 0<br>Partial cluster label: 0<br>Node size: 14<br>Summary statistic: 0.0237",
                "Node ID: 1<br>Pullback set label: 1<br>Partial cluster label: -1<br>Node size: 14<br>Summary statistic: 0.0412",
                "Node ID: 2<br>Pullback set label: 17<br>Partial cluster label: -1<br>Node size: 24<br>Summary statistic: 0",
                "Node ID: 3<br>Pullback set label: 4<br>Partial cluster label: -1<br>Node size: 13<br>Summary statistic: 0",
                "Node ID: 4<br>Pullback set label: 18<br>Partial cluster label: -1<br>Node size: 16<br>Summary statistic: 0",
                "Node ID: 5<br>Pullback set label: 2<br>Partial cluster label: -1<br>Node size: 12<br>Summary statistic: 0.025",
                "Node ID: 6<br>Pullback set label: 3<br>Partial cluster label: -1<br>Node size: 7<br>Summary statistic: 0.0286",
                "Node ID: 7<br>Pullback set label: 7<br>Partial cluster label: -1<br>Node size: 13<br>Summary statistic: 0",
                "Node ID: 8<br>Pullback set label: 5<br>Partial cluster label: -1<br>Node size: 16<br>Summary statistic: 0.0156",
                "Node ID: 9<br>Pullback set label: 6<br>Partial cluster label: -1<br>Node size: 18<br>Summary statistic: 0.0324",
                "Node ID: 10<br>Pullback set label: 20<br>Partial cluster label: -1<br>Node size: 11<br>Summary statistic: 0",
                "Node ID: 11<br>Pullback set label: 21<br>Partial cluster label: -1<br>Node size: 3<br>Summary statistic: 0",
                "Node ID: 12<br>Pullback set label: 9<br>Partial cluster label: -1<br>Node size: 8<br>Summary statistic: 0",
                "Node ID: 13<br>Pullback set label: 10<br>Partial cluster label: -1<br>Node size: 17<br>Summary statistic: 0.0196",
                "Node ID: 14<br>Pullback set label: 0<br>Partial cluster label: -1<br>Node size: 6<br>Summary statistic: 0",
                "Node ID: 15<br>Pullback set label: 14<br>Partial cluster label: -1<br>Node size: 22<br>Summary statistic: 0",
                "Node ID: 16<br>Pullback set label: 15<br>Partial cluster label: -1<br>Node size: 17<br>Summary statistic: 0",
                "Node ID: 17<br>Pullback set label: 23<br>Partial cluster label: -1<br>Node size: 3<br>Summary statistic: 0",
                "Node ID: 18<br>Pullback set label: 24<br>Partial cluster label: -1<br>Node size: 1<br>Summary statistic: 0",
                "Node ID: 19<br>Pullback set label: 11<br>Partial cluster label: -1<br>Node size: 8<br>Summary statistic: 0",
                "Node ID: 20<br>Pullback set label: 13<br>Partial cluster label: -1<br>Node size: 15<br>Summary statistic: 0",
                "Node ID: 21<br>Pullback set label: 16<br>Partial cluster label: -1<br>Node size: 26<br>Summary statistic: 0",
                "Node ID: 22<br>Pullback set label: 8<br>Partial cluster label: -1<br>Node size: 8<br>Summary statistic: 0",
                "Node ID: 23<br>Pullback set label: 27<br>Partial cluster label: -1<br>Node size: 5<br>Summary statistic: 0",
                "Node ID: 24<br>Pullback set label: 28<br>Partial cluster label: -1<br>Node size: 5<br>Summary statistic: 0",
                "Node ID: 25<br>Pullback set label: 12<br>Partial cluster label: -1<br>Node size: 4<br>Summary statistic: 0",
                "Node ID: 26<br>Pullback set label: 22<br>Partial cluster label: -1<br>Node size: 6<br>Summary statistic: 0",
                "Node ID: 27<br>Pullback set label: 14<br>Partial cluster label: 0<br>Node size: 5<br>Summary statistic: 0",
                "Node ID: 28<br>Pullback set label: 19<br>Partial cluster label: -1<br>Node size: 11<br>Summary statistic: 0.182",
                "Node ID: 29<br>Pullback set label: 25<br>Partial cluster label: 0<br>Node size: 45<br>Summary statistic: 0",
                "Node ID: 30<br>Pullback set label: 28<br>Partial cluster label: 0<br>Node size: 6<br>Summary statistic: 0",
                "Node ID: 31<br>Pullback set label: 19<br>Partial cluster label: 0<br>Node size: 5<br>Summary statistic: 0",
                "Node ID: 32<br>Pullback set label: 21<br>Partial cluster label: 0<br>Node size: 26<br>Summary statistic: 0",
                "Node ID: 33<br>Pullback set label: 22<br>Partial cluster label: 0<br>Node size: 8<br>Summary statistic: 0",
                "Node ID: 34<br>Pullback set label: 26<br>Partial cluster label: -1<br>Node size: 4<br>Summary statistic: 0",
                "Node ID: 35<br>Pullback set label: 17<br>Partial cluster label: 0<br>Node size: 20<br>Summary statistic: 0",
                "Node ID: 36<br>Pullback set label: 18<br>Partial cluster label: 0<br>Node size: 20<br>Summary statistic: 0"
               ]
              ],
              "marker.color": [
               null,
               [
                0.02370163411899413,
                0.041174418485342854,
                0,
                0,
                0,
                0.025000000000000005,
                0.028571428571428574,
                0,
                0.015625,
                0.032407407407407406,
                0,
                0,
                0,
                0.0196078431372549,
                0,
                0,
                0,
                0,
                0,
                0,
                0,
                0,
                0,
                0,
                0,
                0,
                0,
                0,
                0.18181818181818182,
                0,
                0,
                0,
                0,
                0,
                0,
                0,
                0
               ]
              ]
             }
            ],
            "label": "25",
            "method": "restyle"
           },
           {
            "args": [
             {
              "hovertext": [
               null,
               [
                "Node ID: 0<br>Pullback set label: 0<br>Partial cluster label: 0<br>Node size: 14<br>Summary statistic: 0.0308",
                "Node ID: 1<br>Pullback set label: 1<br>Partial cluster label: -1<br>Node size: 14<br>Summary statistic: 0.0448",
                "Node ID: 2<br>Pullback set label: 17<br>Partial cluster label: -1<br>Node size: 24<br>Summary statistic: 0.0208",
                "Node ID: 3<br>Pullback set label: 4<br>Partial cluster label: -1<br>Node size: 13<br>Summary statistic: 0.0833",
                "Node ID: 4<br>Pullback set label: 18<br>Partial cluster label: -1<br>Node size: 16<br>Summary statistic: 0.0312",
                "Node ID: 5<br>Pullback set label: 2<br>Partial cluster label: -1<br>Node size: 12<br>Summary statistic: 0.039",
                "Node ID: 6<br>Pullback set label: 3<br>Partial cluster label: -1<br>Node size: 7<br>Summary statistic: 0.0561",
                "Node ID: 7<br>Pullback set label: 7<br>Partial cluster label: -1<br>Node size: 13<br>Summary statistic: 0",
                "Node ID: 8<br>Pullback set label: 5<br>Partial cluster label: -1<br>Node size: 16<br>Summary statistic: 0.0781",
                "Node ID: 9<br>Pullback set label: 6<br>Partial cluster label: -1<br>Node size: 18<br>Summary statistic: 0.037",
                "Node ID: 10<br>Pullback set label: 20<br>Partial cluster label: -1<br>Node size: 11<br>Summary statistic: 0.0909",
                "Node ID: 11<br>Pullback set label: 21<br>Partial cluster label: -1<br>Node size: 3<br>Summary statistic: 0",
                "Node ID: 12<br>Pullback set label: 9<br>Partial cluster label: -1<br>Node size: 8<br>Summary statistic: 0",
                "Node ID: 13<br>Pullback set label: 10<br>Partial cluster label: -1<br>Node size: 17<br>Summary statistic: 0",
                "Node ID: 14<br>Pullback set label: 0<br>Partial cluster label: -1<br>Node size: 6<br>Summary statistic: 0.0278",
                "Node ID: 15<br>Pullback set label: 14<br>Partial cluster label: -1<br>Node size: 22<br>Summary statistic: 0.0227",
                "Node ID: 16<br>Pullback set label: 15<br>Partial cluster label: -1<br>Node size: 17<br>Summary statistic: 0",
                "Node ID: 17<br>Pullback set label: 23<br>Partial cluster label: -1<br>Node size: 3<br>Summary statistic: 0",
                "Node ID: 18<br>Pullback set label: 24<br>Partial cluster label: -1<br>Node size: 1<br>Summary statistic: 0",
                "Node ID: 19<br>Pullback set label: 11<br>Partial cluster label: -1<br>Node size: 8<br>Summary statistic: 0",
                "Node ID: 20<br>Pullback set label: 13<br>Partial cluster label: -1<br>Node size: 15<br>Summary statistic: 0",
                "Node ID: 21<br>Pullback set label: 16<br>Partial cluster label: -1<br>Node size: 26<br>Summary statistic: 0",
                "Node ID: 22<br>Pullback set label: 8<br>Partial cluster label: -1<br>Node size: 8<br>Summary statistic: 0",
                "Node ID: 23<br>Pullback set label: 27<br>Partial cluster label: -1<br>Node size: 5<br>Summary statistic: 0",
                "Node ID: 24<br>Pullback set label: 28<br>Partial cluster label: -1<br>Node size: 5<br>Summary statistic: 0",
                "Node ID: 25<br>Pullback set label: 12<br>Partial cluster label: -1<br>Node size: 4<br>Summary statistic: 0",
                "Node ID: 26<br>Pullback set label: 22<br>Partial cluster label: -1<br>Node size: 6<br>Summary statistic: 0",
                "Node ID: 27<br>Pullback set label: 14<br>Partial cluster label: 0<br>Node size: 5<br>Summary statistic: 0",
                "Node ID: 28<br>Pullback set label: 19<br>Partial cluster label: -1<br>Node size: 11<br>Summary statistic: 0",
                "Node ID: 29<br>Pullback set label: 25<br>Partial cluster label: 0<br>Node size: 45<br>Summary statistic: 0",
                "Node ID: 30<br>Pullback set label: 28<br>Partial cluster label: 0<br>Node size: 6<br>Summary statistic: 0",
                "Node ID: 31<br>Pullback set label: 19<br>Partial cluster label: 0<br>Node size: 5<br>Summary statistic: 0",
                "Node ID: 32<br>Pullback set label: 21<br>Partial cluster label: 0<br>Node size: 26<br>Summary statistic: 0",
                "Node ID: 33<br>Pullback set label: 22<br>Partial cluster label: 0<br>Node size: 8<br>Summary statistic: 0",
                "Node ID: 34<br>Pullback set label: 26<br>Partial cluster label: -1<br>Node size: 4<br>Summary statistic: 0",
                "Node ID: 35<br>Pullback set label: 17<br>Partial cluster label: 0<br>Node size: 20<br>Summary statistic: 0",
                "Node ID: 36<br>Pullback set label: 18<br>Partial cluster label: 0<br>Node size: 20<br>Summary statistic: 0"
               ]
              ],
              "marker.color": [
               null,
               [
                0.0307838596215333,
                0.04478291316526611,
                0.020833333333333332,
                0.08333333333333333,
                0.03125,
                0.03898809523809524,
                0.05612244897959184,
                0,
                0.078125,
                0.037037037037037035,
                0.09090909090909091,
                0,
                0,
                0,
                0.027777777777777776,
                0.022727272727272728,
                0,
                0,
                0,
                0,
                0,
                0,
                0,
                0,
                0,
                0,
                0,
                0,
                0,
                0,
                0,
                0,
                0,
                0,
                0,
                0,
                0
               ]
              ]
             }
            ],
            "label": "26",
            "method": "restyle"
           },
           {
            "args": [
             {
              "hovertext": [
               null,
               [
                "Node ID: 0<br>Pullback set label: 0<br>Partial cluster label: 0<br>Node size: 14<br>Summary statistic: 0",
                "Node ID: 1<br>Pullback set label: 1<br>Partial cluster label: -1<br>Node size: 14<br>Summary statistic: 0",
                "Node ID: 2<br>Pullback set label: 17<br>Partial cluster label: -1<br>Node size: 24<br>Summary statistic: 0",
                "Node ID: 3<br>Pullback set label: 4<br>Partial cluster label: -1<br>Node size: 13<br>Summary statistic: 0",
                "Node ID: 4<br>Pullback set label: 18<br>Partial cluster label: -1<br>Node size: 16<br>Summary statistic: 0",
                "Node ID: 5<br>Pullback set label: 2<br>Partial cluster label: -1<br>Node size: 12<br>Summary statistic: 0",
                "Node ID: 6<br>Pullback set label: 3<br>Partial cluster label: -1<br>Node size: 7<br>Summary statistic: 0",
                "Node ID: 7<br>Pullback set label: 7<br>Partial cluster label: -1<br>Node size: 13<br>Summary statistic: 0",
                "Node ID: 8<br>Pullback set label: 5<br>Partial cluster label: -1<br>Node size: 16<br>Summary statistic: 0",
                "Node ID: 9<br>Pullback set label: 6<br>Partial cluster label: -1<br>Node size: 18<br>Summary statistic: 0",
                "Node ID: 10<br>Pullback set label: 20<br>Partial cluster label: -1<br>Node size: 11<br>Summary statistic: 0.182",
                "Node ID: 11<br>Pullback set label: 21<br>Partial cluster label: -1<br>Node size: 3<br>Summary statistic: 0",
                "Node ID: 12<br>Pullback set label: 9<br>Partial cluster label: -1<br>Node size: 8<br>Summary statistic: 0",
                "Node ID: 13<br>Pullback set label: 10<br>Partial cluster label: -1<br>Node size: 17<br>Summary statistic: 0",
                "Node ID: 14<br>Pullback set label: 0<br>Partial cluster label: -1<br>Node size: 6<br>Summary statistic: 0",
                "Node ID: 15<br>Pullback set label: 14<br>Partial cluster label: -1<br>Node size: 22<br>Summary statistic: 0",
                "Node ID: 16<br>Pullback set label: 15<br>Partial cluster label: -1<br>Node size: 17<br>Summary statistic: 0",
                "Node ID: 17<br>Pullback set label: 23<br>Partial cluster label: -1<br>Node size: 3<br>Summary statistic: 0",
                "Node ID: 18<br>Pullback set label: 24<br>Partial cluster label: -1<br>Node size: 1<br>Summary statistic: 0",
                "Node ID: 19<br>Pullback set label: 11<br>Partial cluster label: -1<br>Node size: 8<br>Summary statistic: 0",
                "Node ID: 20<br>Pullback set label: 13<br>Partial cluster label: -1<br>Node size: 15<br>Summary statistic: 0",
                "Node ID: 21<br>Pullback set label: 16<br>Partial cluster label: -1<br>Node size: 26<br>Summary statistic: 0",
                "Node ID: 22<br>Pullback set label: 8<br>Partial cluster label: -1<br>Node size: 8<br>Summary statistic: 0",
                "Node ID: 23<br>Pullback set label: 27<br>Partial cluster label: -1<br>Node size: 5<br>Summary statistic: 0",
                "Node ID: 24<br>Pullback set label: 28<br>Partial cluster label: -1<br>Node size: 5<br>Summary statistic: 0.6",
                "Node ID: 25<br>Pullback set label: 12<br>Partial cluster label: -1<br>Node size: 4<br>Summary statistic: 0",
                "Node ID: 26<br>Pullback set label: 22<br>Partial cluster label: -1<br>Node size: 6<br>Summary statistic: 0",
                "Node ID: 27<br>Pullback set label: 14<br>Partial cluster label: 0<br>Node size: 5<br>Summary statistic: 0",
                "Node ID: 28<br>Pullback set label: 19<br>Partial cluster label: -1<br>Node size: 11<br>Summary statistic: 0",
                "Node ID: 29<br>Pullback set label: 25<br>Partial cluster label: 0<br>Node size: 45<br>Summary statistic: 0",
                "Node ID: 30<br>Pullback set label: 28<br>Partial cluster label: 0<br>Node size: 6<br>Summary statistic: 0",
                "Node ID: 31<br>Pullback set label: 19<br>Partial cluster label: 0<br>Node size: 5<br>Summary statistic: 0",
                "Node ID: 32<br>Pullback set label: 21<br>Partial cluster label: 0<br>Node size: 26<br>Summary statistic: 0",
                "Node ID: 33<br>Pullback set label: 22<br>Partial cluster label: 0<br>Node size: 8<br>Summary statistic: 0",
                "Node ID: 34<br>Pullback set label: 26<br>Partial cluster label: -1<br>Node size: 4<br>Summary statistic: 0",
                "Node ID: 35<br>Pullback set label: 17<br>Partial cluster label: 0<br>Node size: 20<br>Summary statistic: 0",
                "Node ID: 36<br>Pullback set label: 18<br>Partial cluster label: 0<br>Node size: 20<br>Summary statistic: 0"
               ]
              ],
              "marker.color": [
               null,
               [
                0,
                0,
                0,
                0,
                0,
                0,
                0,
                0,
                0,
                0,
                0.18181818181818182,
                0,
                0,
                0,
                0,
                0,
                0,
                0,
                0,
                0,
                0,
                0,
                0,
                0,
                0.6,
                0,
                0,
                0,
                0,
                0,
                0,
                0,
                0,
                0,
                0,
                0,
                0
               ]
              ]
             }
            ],
            "label": "27",
            "method": "restyle"
           },
           {
            "args": [
             {
              "hovertext": [
               null,
               [
                "Node ID: 0<br>Pullback set label: 0<br>Partial cluster label: 0<br>Node size: 14<br>Summary statistic: 0.0082",
                "Node ID: 1<br>Pullback set label: 1<br>Partial cluster label: -1<br>Node size: 14<br>Summary statistic: 0.016",
                "Node ID: 2<br>Pullback set label: 17<br>Partial cluster label: -1<br>Node size: 24<br>Summary statistic: 0.0208",
                "Node ID: 3<br>Pullback set label: 4<br>Partial cluster label: -1<br>Node size: 13<br>Summary statistic: 0",
                "Node ID: 4<br>Pullback set label: 18<br>Partial cluster label: -1<br>Node size: 16<br>Summary statistic: 0.0312",
                "Node ID: 5<br>Pullback set label: 2<br>Partial cluster label: -1<br>Node size: 12<br>Summary statistic: 0.0139",
                "Node ID: 6<br>Pullback set label: 3<br>Partial cluster label: -1<br>Node size: 7<br>Summary statistic: 0.0238",
                "Node ID: 7<br>Pullback set label: 7<br>Partial cluster label: -1<br>Node size: 13<br>Summary statistic: 0",
                "Node ID: 8<br>Pullback set label: 5<br>Partial cluster label: -1<br>Node size: 16<br>Summary statistic: 0",
                "Node ID: 9<br>Pullback set label: 6<br>Partial cluster label: -1<br>Node size: 18<br>Summary statistic: 0",
                "Node ID: 10<br>Pullback set label: 20<br>Partial cluster label: -1<br>Node size: 11<br>Summary statistic: 0",
                "Node ID: 11<br>Pullback set label: 21<br>Partial cluster label: -1<br>Node size: 3<br>Summary statistic: 0",
                "Node ID: 12<br>Pullback set label: 9<br>Partial cluster label: -1<br>Node size: 8<br>Summary statistic: 0",
                "Node ID: 13<br>Pullback set label: 10<br>Partial cluster label: -1<br>Node size: 17<br>Summary statistic: 0",
                "Node ID: 14<br>Pullback set label: 0<br>Partial cluster label: -1<br>Node size: 6<br>Summary statistic: 0.0333",
                "Node ID: 15<br>Pullback set label: 14<br>Partial cluster label: -1<br>Node size: 22<br>Summary statistic: 0",
                "Node ID: 16<br>Pullback set label: 15<br>Partial cluster label: -1<br>Node size: 17<br>Summary statistic: 0",
                "Node ID: 17<br>Pullback set label: 23<br>Partial cluster label: -1<br>Node size: 3<br>Summary statistic: 0",
                "Node ID: 18<br>Pullback set label: 24<br>Partial cluster label: -1<br>Node size: 1<br>Summary statistic: 0",
                "Node ID: 19<br>Pullback set label: 11<br>Partial cluster label: -1<br>Node size: 8<br>Summary statistic: 0",
                "Node ID: 20<br>Pullback set label: 13<br>Partial cluster label: -1<br>Node size: 15<br>Summary statistic: 0",
                "Node ID: 21<br>Pullback set label: 16<br>Partial cluster label: -1<br>Node size: 26<br>Summary statistic: 0",
                "Node ID: 22<br>Pullback set label: 8<br>Partial cluster label: -1<br>Node size: 8<br>Summary statistic: 0",
                "Node ID: 23<br>Pullback set label: 27<br>Partial cluster label: -1<br>Node size: 5<br>Summary statistic: 0",
                "Node ID: 24<br>Pullback set label: 28<br>Partial cluster label: -1<br>Node size: 5<br>Summary statistic: 0",
                "Node ID: 25<br>Pullback set label: 12<br>Partial cluster label: -1<br>Node size: 4<br>Summary statistic: 0",
                "Node ID: 26<br>Pullback set label: 22<br>Partial cluster label: -1<br>Node size: 6<br>Summary statistic: 0",
                "Node ID: 27<br>Pullback set label: 14<br>Partial cluster label: 0<br>Node size: 5<br>Summary statistic: 0",
                "Node ID: 28<br>Pullback set label: 19<br>Partial cluster label: -1<br>Node size: 11<br>Summary statistic: 0",
                "Node ID: 29<br>Pullback set label: 25<br>Partial cluster label: 0<br>Node size: 45<br>Summary statistic: 0",
                "Node ID: 30<br>Pullback set label: 28<br>Partial cluster label: 0<br>Node size: 6<br>Summary statistic: 0",
                "Node ID: 31<br>Pullback set label: 19<br>Partial cluster label: 0<br>Node size: 5<br>Summary statistic: 0",
                "Node ID: 32<br>Pullback set label: 21<br>Partial cluster label: 0<br>Node size: 26<br>Summary statistic: 0",
                "Node ID: 33<br>Pullback set label: 22<br>Partial cluster label: 0<br>Node size: 8<br>Summary statistic: 0",
                "Node ID: 34<br>Pullback set label: 26<br>Partial cluster label: -1<br>Node size: 4<br>Summary statistic: 0",
                "Node ID: 35<br>Pullback set label: 17<br>Partial cluster label: 0<br>Node size: 20<br>Summary statistic: 0",
                "Node ID: 36<br>Pullback set label: 18<br>Partial cluster label: 0<br>Node size: 20<br>Summary statistic: 0"
               ]
              ],
              "marker.color": [
               null,
               [
                0.008197140242235508,
                0.01596638655462185,
                0.020833333333333332,
                0,
                0.03125,
                0.013888888888888888,
                0.023809523809523808,
                0,
                0,
                0,
                0,
                0,
                0,
                0,
                0.03333333333333333,
                0,
                0,
                0,
                0,
                0,
                0,
                0,
                0,
                0,
                0,
                0,
                0,
                0,
                0,
                0,
                0,
                0,
                0,
                0,
                0,
                0,
                0
               ]
              ]
             }
            ],
            "label": "28",
            "method": "restyle"
           },
           {
            "args": [
             {
              "hovertext": [
               null,
               [
                "Node ID: 0<br>Pullback set label: 0<br>Partial cluster label: 0<br>Node size: 14<br>Summary statistic: 0.00839",
                "Node ID: 1<br>Pullback set label: 1<br>Partial cluster label: -1<br>Node size: 14<br>Summary statistic: 0.00084",
                "Node ID: 2<br>Pullback set label: 17<br>Partial cluster label: -1<br>Node size: 24<br>Summary statistic: 0",
                "Node ID: 3<br>Pullback set label: 4<br>Partial cluster label: -1<br>Node size: 13<br>Summary statistic: 0.0192",
                "Node ID: 4<br>Pullback set label: 18<br>Partial cluster label: -1<br>Node size: 16<br>Summary statistic: 0",
                "Node ID: 5<br>Pullback set label: 2<br>Partial cluster label: -1<br>Node size: 12<br>Summary statistic: 0",
                "Node ID: 6<br>Pullback set label: 3<br>Partial cluster label: -1<br>Node size: 7<br>Summary statistic: 0",
                "Node ID: 7<br>Pullback set label: 7<br>Partial cluster label: -1<br>Node size: 13<br>Summary statistic: 0",
                "Node ID: 8<br>Pullback set label: 5<br>Partial cluster label: -1<br>Node size: 16<br>Summary statistic: 0.0156",
                "Node ID: 9<br>Pullback set label: 6<br>Partial cluster label: -1<br>Node size: 18<br>Summary statistic: 0",
                "Node ID: 10<br>Pullback set label: 20<br>Partial cluster label: -1<br>Node size: 11<br>Summary statistic: 0.182",
                "Node ID: 11<br>Pullback set label: 21<br>Partial cluster label: -1<br>Node size: 3<br>Summary statistic: 0",
                "Node ID: 12<br>Pullback set label: 9<br>Partial cluster label: -1<br>Node size: 8<br>Summary statistic: 0.0312",
                "Node ID: 13<br>Pullback set label: 10<br>Partial cluster label: -1<br>Node size: 17<br>Summary statistic: 0.0294",
                "Node ID: 14<br>Pullback set label: 0<br>Partial cluster label: -1<br>Node size: 6<br>Summary statistic: 0",
                "Node ID: 15<br>Pullback set label: 14<br>Partial cluster label: -1<br>Node size: 22<br>Summary statistic: 0",
                "Node ID: 16<br>Pullback set label: 15<br>Partial cluster label: -1<br>Node size: 17<br>Summary statistic: 0",
                "Node ID: 17<br>Pullback set label: 23<br>Partial cluster label: -1<br>Node size: 3<br>Summary statistic: 0",
                "Node ID: 18<br>Pullback set label: 24<br>Partial cluster label: -1<br>Node size: 1<br>Summary statistic: 0",
                "Node ID: 19<br>Pullback set label: 11<br>Partial cluster label: -1<br>Node size: 8<br>Summary statistic: 0.0625",
                "Node ID: 20<br>Pullback set label: 13<br>Partial cluster label: -1<br>Node size: 15<br>Summary statistic: 0",
                "Node ID: 21<br>Pullback set label: 16<br>Partial cluster label: -1<br>Node size: 26<br>Summary statistic: 0",
                "Node ID: 22<br>Pullback set label: 8<br>Partial cluster label: -1<br>Node size: 8<br>Summary statistic: 0.0312",
                "Node ID: 23<br>Pullback set label: 27<br>Partial cluster label: -1<br>Node size: 5<br>Summary statistic: 0",
                "Node ID: 24<br>Pullback set label: 28<br>Partial cluster label: -1<br>Node size: 5<br>Summary statistic: 0",
                "Node ID: 25<br>Pullback set label: 12<br>Partial cluster label: -1<br>Node size: 4<br>Summary statistic: 0",
                "Node ID: 26<br>Pullback set label: 22<br>Partial cluster label: -1<br>Node size: 6<br>Summary statistic: 0",
                "Node ID: 27<br>Pullback set label: 14<br>Partial cluster label: 0<br>Node size: 5<br>Summary statistic: 0",
                "Node ID: 28<br>Pullback set label: 19<br>Partial cluster label: -1<br>Node size: 11<br>Summary statistic: 0",
                "Node ID: 29<br>Pullback set label: 25<br>Partial cluster label: 0<br>Node size: 45<br>Summary statistic: 0",
                "Node ID: 30<br>Pullback set label: 28<br>Partial cluster label: 0<br>Node size: 6<br>Summary statistic: 0",
                "Node ID: 31<br>Pullback set label: 19<br>Partial cluster label: 0<br>Node size: 5<br>Summary statistic: 0",
                "Node ID: 32<br>Pullback set label: 21<br>Partial cluster label: 0<br>Node size: 26<br>Summary statistic: 0",
                "Node ID: 33<br>Pullback set label: 22<br>Partial cluster label: 0<br>Node size: 8<br>Summary statistic: 0",
                "Node ID: 34<br>Pullback set label: 26<br>Partial cluster label: -1<br>Node size: 4<br>Summary statistic: 0",
                "Node ID: 35<br>Pullback set label: 17<br>Partial cluster label: 0<br>Node size: 20<br>Summary statistic: 0",
                "Node ID: 36<br>Pullback set label: 18<br>Partial cluster label: 0<br>Node size: 20<br>Summary statistic: 0"
               ]
              ],
              "marker.color": [
               null,
               [
                0.008389830291090795,
                0.0008403361344537815,
                0,
                0.019230769230769232,
                0,
                0,
                0,
                0,
                0.015625,
                0,
                0.18181818181818182,
                0,
                0.03125,
                0.029411764705882353,
                0,
                0,
                0,
                0,
                0,
                0.0625,
                0,
                0,
                0.03125,
                0,
                0,
                0,
                0,
                0,
                0,
                0,
                0,
                0,
                0,
                0,
                0,
                0,
                0
               ]
              ]
             }
            ],
            "label": "29",
            "method": "restyle"
           },
           {
            "args": [
             {
              "hovertext": [
               null,
               [
                "Node ID: 0<br>Pullback set label: 0<br>Partial cluster label: 0<br>Node size: 14<br>Summary statistic: 0.00211",
                "Node ID: 1<br>Pullback set label: 1<br>Partial cluster label: -1<br>Node size: 14<br>Summary statistic: 0.00798",
                "Node ID: 2<br>Pullback set label: 17<br>Partial cluster label: -1<br>Node size: 24<br>Summary statistic: 0",
                "Node ID: 3<br>Pullback set label: 4<br>Partial cluster label: -1<br>Node size: 13<br>Summary statistic: 0",
                "Node ID: 4<br>Pullback set label: 18<br>Partial cluster label: -1<br>Node size: 16<br>Summary statistic: 0",
                "Node ID: 5<br>Pullback set label: 2<br>Partial cluster label: -1<br>Node size: 12<br>Summary statistic: 0.00833",
                "Node ID: 6<br>Pullback set label: 3<br>Partial cluster label: -1<br>Node size: 7<br>Summary statistic: 0",
                "Node ID: 7<br>Pullback set label: 7<br>Partial cluster label: -1<br>Node size: 13<br>Summary statistic: 0.0256",
                "Node ID: 8<br>Pullback set label: 5<br>Partial cluster label: -1<br>Node size: 16<br>Summary statistic: 0",
                "Node ID: 9<br>Pullback set label: 6<br>Partial cluster label: -1<br>Node size: 18<br>Summary statistic: 0.0185",
                "Node ID: 10<br>Pullback set label: 20<br>Partial cluster label: -1<br>Node size: 11<br>Summary statistic: 0",
                "Node ID: 11<br>Pullback set label: 21<br>Partial cluster label: -1<br>Node size: 3<br>Summary statistic: 0",
                "Node ID: 12<br>Pullback set label: 9<br>Partial cluster label: -1<br>Node size: 8<br>Summary statistic: 0",
                "Node ID: 13<br>Pullback set label: 10<br>Partial cluster label: -1<br>Node size: 17<br>Summary statistic: 0",
                "Node ID: 14<br>Pullback set label: 0<br>Partial cluster label: -1<br>Node size: 6<br>Summary statistic: 0",
                "Node ID: 15<br>Pullback set label: 14<br>Partial cluster label: -1<br>Node size: 22<br>Summary statistic: 0.0455",
                "Node ID: 16<br>Pullback set label: 15<br>Partial cluster label: -1<br>Node size: 17<br>Summary statistic: 0.0588",
                "Node ID: 17<br>Pullback set label: 23<br>Partial cluster label: -1<br>Node size: 3<br>Summary statistic: 0.333",
                "Node ID: 18<br>Pullback set label: 24<br>Partial cluster label: -1<br>Node size: 1<br>Summary statistic: 0",
                "Node ID: 19<br>Pullback set label: 11<br>Partial cluster label: -1<br>Node size: 8<br>Summary statistic: 0",
                "Node ID: 20<br>Pullback set label: 13<br>Partial cluster label: -1<br>Node size: 15<br>Summary statistic: 0",
                "Node ID: 21<br>Pullback set label: 16<br>Partial cluster label: -1<br>Node size: 26<br>Summary statistic: 0",
                "Node ID: 22<br>Pullback set label: 8<br>Partial cluster label: -1<br>Node size: 8<br>Summary statistic: 0",
                "Node ID: 23<br>Pullback set label: 27<br>Partial cluster label: -1<br>Node size: 5<br>Summary statistic: 0",
                "Node ID: 24<br>Pullback set label: 28<br>Partial cluster label: -1<br>Node size: 5<br>Summary statistic: 0",
                "Node ID: 25<br>Pullback set label: 12<br>Partial cluster label: -1<br>Node size: 4<br>Summary statistic: 0",
                "Node ID: 26<br>Pullback set label: 22<br>Partial cluster label: -1<br>Node size: 6<br>Summary statistic: 0.167",
                "Node ID: 27<br>Pullback set label: 14<br>Partial cluster label: 0<br>Node size: 5<br>Summary statistic: 0",
                "Node ID: 28<br>Pullback set label: 19<br>Partial cluster label: -1<br>Node size: 11<br>Summary statistic: 0",
                "Node ID: 29<br>Pullback set label: 25<br>Partial cluster label: 0<br>Node size: 45<br>Summary statistic: 0",
                "Node ID: 30<br>Pullback set label: 28<br>Partial cluster label: 0<br>Node size: 6<br>Summary statistic: 0",
                "Node ID: 31<br>Pullback set label: 19<br>Partial cluster label: 0<br>Node size: 5<br>Summary statistic: 0",
                "Node ID: 32<br>Pullback set label: 21<br>Partial cluster label: 0<br>Node size: 26<br>Summary statistic: 0",
                "Node ID: 33<br>Pullback set label: 22<br>Partial cluster label: 0<br>Node size: 8<br>Summary statistic: 0",
                "Node ID: 34<br>Pullback set label: 26<br>Partial cluster label: -1<br>Node size: 4<br>Summary statistic: 0",
                "Node ID: 35<br>Pullback set label: 17<br>Partial cluster label: 0<br>Node size: 20<br>Summary statistic: 0",
                "Node ID: 36<br>Pullback set label: 18<br>Partial cluster label: 0<br>Node size: 20<br>Summary statistic: 0"
               ]
              ],
              "marker.color": [
               null,
               [
                0.00211444313699077,
                0.007983193277310925,
                0,
                0,
                0,
                0.008333333333333333,
                0,
                0.02564102564102564,
                0,
                0.018518518518518517,
                0,
                0,
                0,
                0,
                0,
                0.045454545454545456,
                0.058823529411764705,
                0.3333333333333333,
                0,
                0,
                0,
                0,
                0,
                0,
                0,
                0,
                0.16666666666666666,
                0,
                0,
                0,
                0,
                0,
                0,
                0,
                0,
                0,
                0
               ]
              ]
             }
            ],
            "label": "30",
            "method": "restyle"
           },
           {
            "args": [
             {
              "hovertext": [
               null,
               [
                "Node ID: 0<br>Pullback set label: 0<br>Partial cluster label: 0<br>Node size: 14<br>Summary statistic: 0.0029",
                "Node ID: 1<br>Pullback set label: 1<br>Partial cluster label: -1<br>Node size: 14<br>Summary statistic: 0.00084",
                "Node ID: 2<br>Pullback set label: 17<br>Partial cluster label: -1<br>Node size: 24<br>Summary statistic: 0",
                "Node ID: 3<br>Pullback set label: 4<br>Partial cluster label: -1<br>Node size: 13<br>Summary statistic: 0.0449",
                "Node ID: 4<br>Pullback set label: 18<br>Partial cluster label: -1<br>Node size: 16<br>Summary statistic: 0",
                "Node ID: 5<br>Pullback set label: 2<br>Partial cluster label: -1<br>Node size: 12<br>Summary statistic: 0.0167",
                "Node ID: 6<br>Pullback set label: 3<br>Partial cluster label: -1<br>Node size: 7<br>Summary statistic: 0",
                "Node ID: 7<br>Pullback set label: 7<br>Partial cluster label: -1<br>Node size: 13<br>Summary statistic: 0.0256",
                "Node ID: 8<br>Pullback set label: 5<br>Partial cluster label: -1<br>Node size: 16<br>Summary statistic: 0.0365",
                "Node ID: 9<br>Pullback set label: 6<br>Partial cluster label: -1<br>Node size: 18<br>Summary statistic: 0.0185",
                "Node ID: 10<br>Pullback set label: 20<br>Partial cluster label: -1<br>Node size: 11<br>Summary statistic: 0",
                "Node ID: 11<br>Pullback set label: 21<br>Partial cluster label: -1<br>Node size: 3<br>Summary statistic: 0",
                "Node ID: 12<br>Pullback set label: 9<br>Partial cluster label: -1<br>Node size: 8<br>Summary statistic: 0",
                "Node ID: 13<br>Pullback set label: 10<br>Partial cluster label: -1<br>Node size: 17<br>Summary statistic: 0",
                "Node ID: 14<br>Pullback set label: 0<br>Partial cluster label: -1<br>Node size: 6<br>Summary statistic: 0",
                "Node ID: 15<br>Pullback set label: 14<br>Partial cluster label: -1<br>Node size: 22<br>Summary statistic: 0",
                "Node ID: 16<br>Pullback set label: 15<br>Partial cluster label: -1<br>Node size: 17<br>Summary statistic: 0",
                "Node ID: 17<br>Pullback set label: 23<br>Partial cluster label: -1<br>Node size: 3<br>Summary statistic: 0.667",
                "Node ID: 18<br>Pullback set label: 24<br>Partial cluster label: -1<br>Node size: 1<br>Summary statistic: 1.0",
                "Node ID: 19<br>Pullback set label: 11<br>Partial cluster label: -1<br>Node size: 8<br>Summary statistic: 0",
                "Node ID: 20<br>Pullback set label: 13<br>Partial cluster label: -1<br>Node size: 15<br>Summary statistic: 0",
                "Node ID: 21<br>Pullback set label: 16<br>Partial cluster label: -1<br>Node size: 26<br>Summary statistic: 0",
                "Node ID: 22<br>Pullback set label: 8<br>Partial cluster label: -1<br>Node size: 8<br>Summary statistic: 0",
                "Node ID: 23<br>Pullback set label: 27<br>Partial cluster label: -1<br>Node size: 5<br>Summary statistic: 0",
                "Node ID: 24<br>Pullback set label: 28<br>Partial cluster label: -1<br>Node size: 5<br>Summary statistic: 0",
                "Node ID: 25<br>Pullback set label: 12<br>Partial cluster label: -1<br>Node size: 4<br>Summary statistic: 0",
                "Node ID: 26<br>Pullback set label: 22<br>Partial cluster label: -1<br>Node size: 6<br>Summary statistic: 0.167",
                "Node ID: 27<br>Pullback set label: 14<br>Partial cluster label: 0<br>Node size: 5<br>Summary statistic: 0",
                "Node ID: 28<br>Pullback set label: 19<br>Partial cluster label: -1<br>Node size: 11<br>Summary statistic: 0",
                "Node ID: 29<br>Pullback set label: 25<br>Partial cluster label: 0<br>Node size: 45<br>Summary statistic: 0",
                "Node ID: 30<br>Pullback set label: 28<br>Partial cluster label: 0<br>Node size: 6<br>Summary statistic: 0",
                "Node ID: 31<br>Pullback set label: 19<br>Partial cluster label: 0<br>Node size: 5<br>Summary statistic: 0",
                "Node ID: 32<br>Pullback set label: 21<br>Partial cluster label: 0<br>Node size: 26<br>Summary statistic: 0",
                "Node ID: 33<br>Pullback set label: 22<br>Partial cluster label: 0<br>Node size: 8<br>Summary statistic: 0",
                "Node ID: 34<br>Pullback set label: 26<br>Partial cluster label: -1<br>Node size: 4<br>Summary statistic: 0",
                "Node ID: 35<br>Pullback set label: 17<br>Partial cluster label: 0<br>Node size: 20<br>Summary statistic: 0",
                "Node ID: 36<br>Pullback set label: 18<br>Partial cluster label: 0<br>Node size: 20<br>Summary statistic: 0"
               ]
              ],
              "marker.color": [
               null,
               [
                0.0028953247965853002,
                0.0008403361344537815,
                0,
                0.044871794871794865,
                0,
                0.016666666666666666,
                0,
                0.02564102564102564,
                0.03645833333333333,
                0.018518518518518517,
                0,
                0,
                0,
                0,
                0,
                0,
                0,
                0.6666666666666666,
                1,
                0,
                0,
                0,
                0,
                0,
                0,
                0,
                0.16666666666666666,
                0,
                0,
                0,
                0,
                0,
                0,
                0,
                0,
                0,
                0
               ]
              ]
             }
            ],
            "label": "31",
            "method": "restyle"
           },
           {
            "args": [
             {
              "hovertext": [
               null,
               [
                "Node ID: 0<br>Pullback set label: 0<br>Partial cluster label: 0<br>Node size: 14<br>Summary statistic: 0.000567",
                "Node ID: 1<br>Pullback set label: 1<br>Partial cluster label: -1<br>Node size: 14<br>Summary statistic: 0.00238",
                "Node ID: 2<br>Pullback set label: 17<br>Partial cluster label: -1<br>Node size: 24<br>Summary statistic: 0",
                "Node ID: 3<br>Pullback set label: 4<br>Partial cluster label: -1<br>Node size: 13<br>Summary statistic: 0",
                "Node ID: 4<br>Pullback set label: 18<br>Partial cluster label: -1<br>Node size: 16<br>Summary statistic: 0",
                "Node ID: 5<br>Pullback set label: 2<br>Partial cluster label: -1<br>Node size: 12<br>Summary statistic: 0",
                "Node ID: 6<br>Pullback set label: 3<br>Partial cluster label: -1<br>Node size: 7<br>Summary statistic: 0",
                "Node ID: 7<br>Pullback set label: 7<br>Partial cluster label: -1<br>Node size: 13<br>Summary statistic: 0",
                "Node ID: 8<br>Pullback set label: 5<br>Partial cluster label: -1<br>Node size: 16<br>Summary statistic: 0",
                "Node ID: 9<br>Pullback set label: 6<br>Partial cluster label: -1<br>Node size: 18<br>Summary statistic: 0",
                "Node ID: 10<br>Pullback set label: 20<br>Partial cluster label: -1<br>Node size: 11<br>Summary statistic: 0",
                "Node ID: 11<br>Pullback set label: 21<br>Partial cluster label: -1<br>Node size: 3<br>Summary statistic: 0",
                "Node ID: 12<br>Pullback set label: 9<br>Partial cluster label: -1<br>Node size: 8<br>Summary statistic: 0",
                "Node ID: 13<br>Pullback set label: 10<br>Partial cluster label: -1<br>Node size: 17<br>Summary statistic: 0",
                "Node ID: 14<br>Pullback set label: 0<br>Partial cluster label: -1<br>Node size: 6<br>Summary statistic: 0",
                "Node ID: 15<br>Pullback set label: 14<br>Partial cluster label: -1<br>Node size: 22<br>Summary statistic: 0",
                "Node ID: 16<br>Pullback set label: 15<br>Partial cluster label: -1<br>Node size: 17<br>Summary statistic: 0",
                "Node ID: 17<br>Pullback set label: 23<br>Partial cluster label: -1<br>Node size: 3<br>Summary statistic: 0",
                "Node ID: 18<br>Pullback set label: 24<br>Partial cluster label: -1<br>Node size: 1<br>Summary statistic: 0",
                "Node ID: 19<br>Pullback set label: 11<br>Partial cluster label: -1<br>Node size: 8<br>Summary statistic: 0",
                "Node ID: 20<br>Pullback set label: 13<br>Partial cluster label: -1<br>Node size: 15<br>Summary statistic: 0",
                "Node ID: 21<br>Pullback set label: 16<br>Partial cluster label: -1<br>Node size: 26<br>Summary statistic: 0",
                "Node ID: 22<br>Pullback set label: 8<br>Partial cluster label: -1<br>Node size: 8<br>Summary statistic: 0",
                "Node ID: 23<br>Pullback set label: 27<br>Partial cluster label: -1<br>Node size: 5<br>Summary statistic: 0",
                "Node ID: 24<br>Pullback set label: 28<br>Partial cluster label: -1<br>Node size: 5<br>Summary statistic: 0",
                "Node ID: 25<br>Pullback set label: 12<br>Partial cluster label: -1<br>Node size: 4<br>Summary statistic: 0",
                "Node ID: 26<br>Pullback set label: 22<br>Partial cluster label: -1<br>Node size: 6<br>Summary statistic: 0",
                "Node ID: 27<br>Pullback set label: 14<br>Partial cluster label: 0<br>Node size: 5<br>Summary statistic: 0",
                "Node ID: 28<br>Pullback set label: 19<br>Partial cluster label: -1<br>Node size: 11<br>Summary statistic: 0",
                "Node ID: 29<br>Pullback set label: 25<br>Partial cluster label: 0<br>Node size: 45<br>Summary statistic: 0",
                "Node ID: 30<br>Pullback set label: 28<br>Partial cluster label: 0<br>Node size: 6<br>Summary statistic: 0",
                "Node ID: 31<br>Pullback set label: 19<br>Partial cluster label: 0<br>Node size: 5<br>Summary statistic: 0",
                "Node ID: 32<br>Pullback set label: 21<br>Partial cluster label: 0<br>Node size: 26<br>Summary statistic: 0",
                "Node ID: 33<br>Pullback set label: 22<br>Partial cluster label: 0<br>Node size: 8<br>Summary statistic: 0",
                "Node ID: 34<br>Pullback set label: 26<br>Partial cluster label: -1<br>Node size: 4<br>Summary statistic: 0",
                "Node ID: 35<br>Pullback set label: 17<br>Partial cluster label: 0<br>Node size: 20<br>Summary statistic: 0",
                "Node ID: 36<br>Pullback set label: 18<br>Partial cluster label: 0<br>Node size: 20<br>Summary statistic: 0"
               ]
              ],
              "marker.color": [
               null,
               [
                0.0005668934240362812,
                0.0023809523809523807,
                0,
                0,
                0,
                0,
                0,
                0,
                0,
                0,
                0,
                0,
                0,
                0,
                0,
                0,
                0,
                0,
                0,
                0,
                0,
                0,
                0,
                0,
                0,
                0,
                0,
                0,
                0,
                0,
                0,
                0,
                0,
                0,
                0,
                0,
                0
               ]
              ]
             }
            ],
            "label": "32",
            "method": "restyle"
           },
           {
            "args": [
             {
              "hovertext": [
               null,
               [
                "Node ID: 0<br>Pullback set label: 0<br>Partial cluster label: 0<br>Node size: 14<br>Summary statistic: 0",
                "Node ID: 1<br>Pullback set label: 1<br>Partial cluster label: -1<br>Node size: 14<br>Summary statistic: 0",
                "Node ID: 2<br>Pullback set label: 17<br>Partial cluster label: -1<br>Node size: 24<br>Summary statistic: 0",
                "Node ID: 3<br>Pullback set label: 4<br>Partial cluster label: -1<br>Node size: 13<br>Summary statistic: 0",
                "Node ID: 4<br>Pullback set label: 18<br>Partial cluster label: -1<br>Node size: 16<br>Summary statistic: 0",
                "Node ID: 5<br>Pullback set label: 2<br>Partial cluster label: -1<br>Node size: 12<br>Summary statistic: 0",
                "Node ID: 6<br>Pullback set label: 3<br>Partial cluster label: -1<br>Node size: 7<br>Summary statistic: 0",
                "Node ID: 7<br>Pullback set label: 7<br>Partial cluster label: -1<br>Node size: 13<br>Summary statistic: 0",
                "Node ID: 8<br>Pullback set label: 5<br>Partial cluster label: -1<br>Node size: 16<br>Summary statistic: 0.0208",
                "Node ID: 9<br>Pullback set label: 6<br>Partial cluster label: -1<br>Node size: 18<br>Summary statistic: 0",
                "Node ID: 10<br>Pullback set label: 20<br>Partial cluster label: -1<br>Node size: 11<br>Summary statistic: 0",
                "Node ID: 11<br>Pullback set label: 21<br>Partial cluster label: -1<br>Node size: 3<br>Summary statistic: 0",
                "Node ID: 12<br>Pullback set label: 9<br>Partial cluster label: -1<br>Node size: 8<br>Summary statistic: 0",
                "Node ID: 13<br>Pullback set label: 10<br>Partial cluster label: -1<br>Node size: 17<br>Summary statistic: 0",
                "Node ID: 14<br>Pullback set label: 0<br>Partial cluster label: -1<br>Node size: 6<br>Summary statistic: 0",
                "Node ID: 15<br>Pullback set label: 14<br>Partial cluster label: -1<br>Node size: 22<br>Summary statistic: 0",
                "Node ID: 16<br>Pullback set label: 15<br>Partial cluster label: -1<br>Node size: 17<br>Summary statistic: 0",
                "Node ID: 17<br>Pullback set label: 23<br>Partial cluster label: -1<br>Node size: 3<br>Summary statistic: 0",
                "Node ID: 18<br>Pullback set label: 24<br>Partial cluster label: -1<br>Node size: 1<br>Summary statistic: 0",
                "Node ID: 19<br>Pullback set label: 11<br>Partial cluster label: -1<br>Node size: 8<br>Summary statistic: 0",
                "Node ID: 20<br>Pullback set label: 13<br>Partial cluster label: -1<br>Node size: 15<br>Summary statistic: 0",
                "Node ID: 21<br>Pullback set label: 16<br>Partial cluster label: -1<br>Node size: 26<br>Summary statistic: 0",
                "Node ID: 22<br>Pullback set label: 8<br>Partial cluster label: -1<br>Node size: 8<br>Summary statistic: 0",
                "Node ID: 23<br>Pullback set label: 27<br>Partial cluster label: -1<br>Node size: 5<br>Summary statistic: 0",
                "Node ID: 24<br>Pullback set label: 28<br>Partial cluster label: -1<br>Node size: 5<br>Summary statistic: 0",
                "Node ID: 25<br>Pullback set label: 12<br>Partial cluster label: -1<br>Node size: 4<br>Summary statistic: 0",
                "Node ID: 26<br>Pullback set label: 22<br>Partial cluster label: -1<br>Node size: 6<br>Summary statistic: 0",
                "Node ID: 27<br>Pullback set label: 14<br>Partial cluster label: 0<br>Node size: 5<br>Summary statistic: 0",
                "Node ID: 28<br>Pullback set label: 19<br>Partial cluster label: -1<br>Node size: 11<br>Summary statistic: 0",
                "Node ID: 29<br>Pullback set label: 25<br>Partial cluster label: 0<br>Node size: 45<br>Summary statistic: 0",
                "Node ID: 30<br>Pullback set label: 28<br>Partial cluster label: 0<br>Node size: 6<br>Summary statistic: 0",
                "Node ID: 31<br>Pullback set label: 19<br>Partial cluster label: 0<br>Node size: 5<br>Summary statistic: 0",
                "Node ID: 32<br>Pullback set label: 21<br>Partial cluster label: 0<br>Node size: 26<br>Summary statistic: 0",
                "Node ID: 33<br>Pullback set label: 22<br>Partial cluster label: 0<br>Node size: 8<br>Summary statistic: 0",
                "Node ID: 34<br>Pullback set label: 26<br>Partial cluster label: -1<br>Node size: 4<br>Summary statistic: 0",
                "Node ID: 35<br>Pullback set label: 17<br>Partial cluster label: 0<br>Node size: 20<br>Summary statistic: 0",
                "Node ID: 36<br>Pullback set label: 18<br>Partial cluster label: 0<br>Node size: 20<br>Summary statistic: 0"
               ]
              ],
              "marker.color": [
               null,
               [
                0,
                0,
                0,
                0,
                0,
                0,
                0,
                0,
                0.020833333333333332,
                0,
                0,
                0,
                0,
                0,
                0,
                0,
                0,
                0,
                0,
                0,
                0,
                0,
                0,
                0,
                0,
                0,
                0,
                0,
                0,
                0,
                0,
                0,
                0,
                0,
                0,
                0,
                0
               ]
              ]
             }
            ],
            "label": "33",
            "method": "restyle"
           },
           {
            "args": [
             {
              "hovertext": [
               null,
               [
                "Node ID: 0<br>Pullback set label: 0<br>Partial cluster label: 0<br>Node size: 14<br>Summary statistic: 0",
                "Node ID: 1<br>Pullback set label: 1<br>Partial cluster label: -1<br>Node size: 14<br>Summary statistic: 0",
                "Node ID: 2<br>Pullback set label: 17<br>Partial cluster label: -1<br>Node size: 24<br>Summary statistic: 0",
                "Node ID: 3<br>Pullback set label: 4<br>Partial cluster label: -1<br>Node size: 13<br>Summary statistic: 0",
                "Node ID: 4<br>Pullback set label: 18<br>Partial cluster label: -1<br>Node size: 16<br>Summary statistic: 0",
                "Node ID: 5<br>Pullback set label: 2<br>Partial cluster label: -1<br>Node size: 12<br>Summary statistic: 0.00926",
                "Node ID: 6<br>Pullback set label: 3<br>Partial cluster label: -1<br>Node size: 7<br>Summary statistic: 0",
                "Node ID: 7<br>Pullback set label: 7<br>Partial cluster label: -1<br>Node size: 13<br>Summary statistic: 0",
                "Node ID: 8<br>Pullback set label: 5<br>Partial cluster label: -1<br>Node size: 16<br>Summary statistic: 0.0156",
                "Node ID: 9<br>Pullback set label: 6<br>Partial cluster label: -1<br>Node size: 18<br>Summary statistic: 0",
                "Node ID: 10<br>Pullback set label: 20<br>Partial cluster label: -1<br>Node size: 11<br>Summary statistic: 0",
                "Node ID: 11<br>Pullback set label: 21<br>Partial cluster label: -1<br>Node size: 3<br>Summary statistic: 0",
                "Node ID: 12<br>Pullback set label: 9<br>Partial cluster label: -1<br>Node size: 8<br>Summary statistic: 0",
                "Node ID: 13<br>Pullback set label: 10<br>Partial cluster label: -1<br>Node size: 17<br>Summary statistic: 0",
                "Node ID: 14<br>Pullback set label: 0<br>Partial cluster label: -1<br>Node size: 6<br>Summary statistic: 0",
                "Node ID: 15<br>Pullback set label: 14<br>Partial cluster label: -1<br>Node size: 22<br>Summary statistic: 0",
                "Node ID: 16<br>Pullback set label: 15<br>Partial cluster label: -1<br>Node size: 17<br>Summary statistic: 0",
                "Node ID: 17<br>Pullback set label: 23<br>Partial cluster label: -1<br>Node size: 3<br>Summary statistic: 0",
                "Node ID: 18<br>Pullback set label: 24<br>Partial cluster label: -1<br>Node size: 1<br>Summary statistic: 0",
                "Node ID: 19<br>Pullback set label: 11<br>Partial cluster label: -1<br>Node size: 8<br>Summary statistic: 0",
                "Node ID: 20<br>Pullback set label: 13<br>Partial cluster label: -1<br>Node size: 15<br>Summary statistic: 0",
                "Node ID: 21<br>Pullback set label: 16<br>Partial cluster label: -1<br>Node size: 26<br>Summary statistic: 0",
                "Node ID: 22<br>Pullback set label: 8<br>Partial cluster label: -1<br>Node size: 8<br>Summary statistic: 0",
                "Node ID: 23<br>Pullback set label: 27<br>Partial cluster label: -1<br>Node size: 5<br>Summary statistic: 0",
                "Node ID: 24<br>Pullback set label: 28<br>Partial cluster label: -1<br>Node size: 5<br>Summary statistic: 0",
                "Node ID: 25<br>Pullback set label: 12<br>Partial cluster label: -1<br>Node size: 4<br>Summary statistic: 0",
                "Node ID: 26<br>Pullback set label: 22<br>Partial cluster label: -1<br>Node size: 6<br>Summary statistic: 0",
                "Node ID: 27<br>Pullback set label: 14<br>Partial cluster label: 0<br>Node size: 5<br>Summary statistic: 0",
                "Node ID: 28<br>Pullback set label: 19<br>Partial cluster label: -1<br>Node size: 11<br>Summary statistic: 0",
                "Node ID: 29<br>Pullback set label: 25<br>Partial cluster label: 0<br>Node size: 45<br>Summary statistic: 0",
                "Node ID: 30<br>Pullback set label: 28<br>Partial cluster label: 0<br>Node size: 6<br>Summary statistic: 0",
                "Node ID: 31<br>Pullback set label: 19<br>Partial cluster label: 0<br>Node size: 5<br>Summary statistic: 0",
                "Node ID: 32<br>Pullback set label: 21<br>Partial cluster label: 0<br>Node size: 26<br>Summary statistic: 0",
                "Node ID: 33<br>Pullback set label: 22<br>Partial cluster label: 0<br>Node size: 8<br>Summary statistic: 0",
                "Node ID: 34<br>Pullback set label: 26<br>Partial cluster label: -1<br>Node size: 4<br>Summary statistic: 0",
                "Node ID: 35<br>Pullback set label: 17<br>Partial cluster label: 0<br>Node size: 20<br>Summary statistic: 0",
                "Node ID: 36<br>Pullback set label: 18<br>Partial cluster label: 0<br>Node size: 20<br>Summary statistic: 0"
               ]
              ],
              "marker.color": [
               null,
               [
                0,
                0,
                0,
                0,
                0,
                0.009259259259259259,
                0,
                0,
                0.015625,
                0,
                0,
                0,
                0,
                0,
                0,
                0,
                0,
                0,
                0,
                0,
                0,
                0,
                0,
                0,
                0,
                0,
                0,
                0,
                0,
                0,
                0,
                0,
                0,
                0,
                0,
                0,
                0
               ]
              ]
             }
            ],
            "label": "34",
            "method": "restyle"
           }
          ],
          "direction": "down",
          "pad": {
           "r": 10,
           "t": 10
          },
          "showactive": true,
          "x": 0.11,
          "xanchor": "left",
          "y": 1.1,
          "yanchor": "top"
         }
        ],
        "xaxis": {
         "showgrid": false,
         "showline": false,
         "showticklabels": false,
         "ticks": "",
         "title": {
          "text": ""
         },
         "zeroline": false
        },
        "yaxis": {
         "showgrid": false,
         "showline": false,
         "showticklabels": false,
         "ticks": "",
         "title": {
          "text": ""
         },
         "zeroline": false
        }
       }
      }
     },
     "metadata": {},
     "output_type": "display_data"
    }
   ],
   "source": [
    "cover = map.OneDimensionalCover(kind='uniform', n_intervals=30, overlap_frac=.35)\n",
    "clusterer = cluster.DBSCAN()\n",
    "\n",
    "pipe = map.make_mapper_pipeline(\n",
    "    filter_func=filter_func,\n",
    "    cover=cover,    \n",
    "    clusterer=clusterer,\n",
    "    verbose=False,\n",
    "    n_jobs=1,\n",
    ")\n",
    "\n",
    "fig = map.plot_static_mapper_graph(pipe, df_codes_array_norm_tweet, color_data=df_codes_array_norm_tweet)\n",
    "fig.show(config={'scrollZoom': True})\n",
    "graph = pipe.fit_transform(df_codes_array_norm_tweet)\n",
    "\n",
    "#check out 1, 8, 11, 26\n"
   ]
  },
  {
   "cell_type": "code",
   "execution_count": 46,
   "metadata": {},
   "outputs": [
    {
     "data": {
      "text/plain": [
       "[17, 11, 8, 5, 4, 2, 2, 2, 2, 2, 1, 1, 1, 1]"
      ]
     },
     "execution_count": 46,
     "metadata": {},
     "output_type": "execute_result"
    }
   ],
   "source": [
    "[len(c) for c in sorted(nx.connected_components(G), key=len, reverse=True)]"
   ]
  },
  {
   "cell_type": "code",
   "execution_count": 40,
   "metadata": {},
   "outputs": [
    {
     "data": {
      "text/plain": [
       "([<matplotlib.axis.YTick at 0x7ff5ceb9cf40>,\n",
       "  <matplotlib.axis.YTick at 0x7ff5ceb9ca90>,\n",
       "  <matplotlib.axis.YTick at 0x7ff5cec27dc0>,\n",
       "  <matplotlib.axis.YTick at 0x7ff5cec46ca0>,\n",
       "  <matplotlib.axis.YTick at 0x7ff5cec58cd0>,\n",
       "  <matplotlib.axis.YTick at 0x7ff5cec5e7c0>,\n",
       "  <matplotlib.axis.YTick at 0x7ff5cec662b0>,\n",
       "  <matplotlib.axis.YTick at 0x7ff5cec5eb50>,\n",
       "  <matplotlib.axis.YTick at 0x7ff5cec51490>,\n",
       "  <matplotlib.axis.YTick at 0x7ff5cec6d610>],\n",
       " [Text(0, 0, '5'),\n",
       "  Text(0, 1, '10'),\n",
       "  Text(0, 2, '15'),\n",
       "  Text(0, 3, '20'),\n",
       "  Text(0, 4, '25'),\n",
       "  Text(0, 5, '30'),\n",
       "  Text(0, 6, '35'),\n",
       "  Text(0, 7, '40'),\n",
       "  Text(0, 8, '45'),\n",
       "  Text(0, 9, '50')])"
      ]
     },
     "execution_count": 40,
     "metadata": {},
     "output_type": "execute_result"
    },
    {
     "data": {
      "image/png": "[encoded data removed]",
      "text/plain": [
       "<Figure size 640x480 with 2 Axes>"
      ]
     },
     "metadata": {},
     "output_type": "display_data"
    }
   ],
   "source": [
    "#make a heatmap of the connected components matrix\n",
    "import seaborn as sns\n",
    "sns.heatmap(connected_components_matrix, annot=True)\n",
    "#add labels\n",
    "plt.title(\"Connected Components\")\n",
    "plt.xlabel(\"Overlap Fraction\")\n",
    "plt.ylabel(\"Number of Intervals\")\n",
    "plt.xticks(np.arange(len(olfrac)), np.round(olfrac,2))\n",
    "plt.yticks(np.arange(len(nints)), nints)\n"
   ]
  },
  {
   "cell_type": "code",
   "execution_count": 36,
   "metadata": {},
   "outputs": [
    {
     "data": {
      "text/plain": [
       "([<matplotlib.axis.YTick at 0x7ff5ca49b970>,\n",
       "  <matplotlib.axis.YTick at 0x7ff5ca49b310>,\n",
       "  <matplotlib.axis.YTick at 0x7ff5ca5cb130>,\n",
       "  <matplotlib.axis.YTick at 0x7ff5ca60ffa0>,\n",
       "  <matplotlib.axis.YTick at 0x7ff5ca6177c0>,\n",
       "  <matplotlib.axis.YTick at 0x7ff5ca60f910>,\n",
       "  <matplotlib.axis.YTick at 0x7ff5ca617250>,\n",
       "  <matplotlib.axis.YTick at 0x7ff5ca617f40>,\n",
       "  <matplotlib.axis.YTick at 0x7ff5ca61f970>,\n",
       "  <matplotlib.axis.YTick at 0x7ff5ca61ff40>],\n",
       " [Text(0, 0, '5'),\n",
       "  Text(0, 1, '10'),\n",
       "  Text(0, 2, '15'),\n",
       "  Text(0, 3, '20'),\n",
       "  Text(0, 4, '25'),\n",
       "  Text(0, 5, '30'),\n",
       "  Text(0, 6, '35'),\n",
       "  Text(0, 7, '40'),\n",
       "  Text(0, 8, '45'),\n",
       "  Text(0, 9, '50')])"
      ]
     },
     "execution_count": 36,
     "metadata": {},
     "output_type": "execute_result"
    },
    {
     "data": {
      "image/png": "[encoded data removed]",
      "text/plain": [
       "<Figure size 640x480 with 2 Axes>"
      ]
     },
     "metadata": {},
     "output_type": "display_data"
    }
   ],
   "source": [
    "import seaborn as sns\n",
    "sns.heatmap(degree_matrix, annot=True)\n",
    "#add labels\n",
    "plt.title(\"Degree\")\n",
    "plt.xlabel(\"Overlap Fraction\")\n",
    "plt.ylabel(\"Number of Intervals\")\n",
    "plt.xticks(np.arange(len(olfrac)), np.round(olfrac,2))\n",
    "plt.yticks(np.arange(len(nints)), nints)\n"
   ]
  },
  {
   "cell_type": "code",
   "execution_count": 37,
   "metadata": {},
   "outputs": [
    {
     "data": {
      "text/plain": [
       "([<matplotlib.axis.YTick at 0x7ff5ca730df0>,\n",
       "  <matplotlib.axis.YTick at 0x7ff5ca730be0>,\n",
       "  <matplotlib.axis.YTick at 0x7ff5ca9780d0>,\n",
       "  <matplotlib.axis.YTick at 0x7ff5ca9882b0>,\n",
       "  <matplotlib.axis.YTick at 0x7ff5ca99dd60>,\n",
       "  <matplotlib.axis.YTick at 0x7ff5ca99deb0>,\n",
       "  <matplotlib.axis.YTick at 0x7ff5ca993cd0>,\n",
       "  <matplotlib.axis.YTick at 0x7ff5ca9a5220>,\n",
       "  <matplotlib.axis.YTick at 0x7ff5ca993bb0>,\n",
       "  <matplotlib.axis.YTick at 0x7ff5ca9b19a0>],\n",
       " [Text(0, 0, '5'),\n",
       "  Text(0, 1, '10'),\n",
       "  Text(0, 2, '15'),\n",
       "  Text(0, 3, '20'),\n",
       "  Text(0, 4, '25'),\n",
       "  Text(0, 5, '30'),\n",
       "  Text(0, 6, '35'),\n",
       "  Text(0, 7, '40'),\n",
       "  Text(0, 8, '45'),\n",
       "  Text(0, 9, '50')])"
      ]
     },
     "execution_count": 37,
     "metadata": {},
     "output_type": "execute_result"
    },
    {
     "data": {
      "image/png": "[encoded data removed]",
      "text/plain": [
       "<Figure size 640x480 with 2 Axes>"
      ]
     },
     "metadata": {},
     "output_type": "display_data"
    }
   ],
   "source": [
    "import seaborn as sns\n",
    "sns.heatmap(max_cc_matrix, annot=True)\n",
    "#add labels\n",
    "plt.title(\"Largest Connected Component\")\n",
    "plt.xlabel(\"Overlap Fraction\")\n",
    "plt.ylabel(\"Number of Intervals\")\n",
    "plt.xticks(np.arange(len(olfrac)), np.round(olfrac,2))\n",
    "plt.yticks(np.arange(len(nints)), nints)"
   ]
  },
  {
   "cell_type": "markdown",
   "metadata": {},
   "source": [
    "### Projecting onto Amplification Code"
   ]
  },
  {
   "cell_type": "code",
   "execution_count": 30,
   "metadata": {},
   "outputs": [],
   "source": [
    "#project onto amplification\n",
    "nints= np.arange(5,55,5)\n",
    "olfrac = np.arange(0.1,.6,0.05)\n",
    "filter_func = map.Projection(columns=[1])\n",
    "connected_components_matrix = np.zeros((len(nints), len(olfrac)))\n",
    "degree_matrix = np.zeros((len(nints), len(olfrac)))\n",
    "max_cc_matrix = np.zeros((len(nints), len(olfrac)))\n",
    "\n",
    "for i in range(len(nints)):\n",
    "    for j in range(len(olfrac)):\n",
    "        cover = map.OneDimensionalCover(kind='uniform', n_intervals=int(nints[i]), overlap_frac=olfrac[j])\n",
    "        clusterer = cluster.DBSCAN()\n",
    "\n",
    "        pipe = map.make_mapper_pipeline(\n",
    "            filter_func=filter_func,\n",
    "            cover=cover,    \n",
    "            clusterer=clusterer,\n",
    "            verbose=False,\n",
    "            n_jobs=1,\n",
    "        )\n",
    "        graph = pipe.fit_transform(df_codes_array_norm_tweet)\n",
    "        G = graph.to_networkx()\n",
    "        cc = nx.connected_components(G)\n",
    "        connected_components_matrix[i,j] = len(list(cc))\n",
    "        degrees = [val for (node, val) in G.degree()]\n",
    "        degree_matrix[i,j] = np.max(degrees)\n",
    "        largest_cc = max(nx.connected_components(G), key=len)\n",
    "        max_cc_matrix[i,j] = len(largest_cc)\n",
    "\n",
    "        \n",
    "    "
   ]
  },
  {
   "cell_type": "code",
   "execution_count": 31,
   "metadata": {},
   "outputs": [
    {
     "data": {
      "text/plain": [
       "([<matplotlib.axis.YTick at 0x7ff5c9124d60>,\n",
       "  <matplotlib.axis.YTick at 0x7ff5c9106640>,\n",
       "  <matplotlib.axis.YTick at 0x7ff5c9121760>,\n",
       "  <matplotlib.axis.YTick at 0x7ff5c8704190>,\n",
       "  <matplotlib.axis.YTick at 0x7ff5c9327e80>,\n",
       "  <matplotlib.axis.YTick at 0x7ff5c932fbb0>,\n",
       "  <matplotlib.axis.YTick at 0x7ff5c93346a0>,\n",
       "  <matplotlib.axis.YTick at 0x7ff5c9334f10>,\n",
       "  <matplotlib.axis.YTick at 0x7ff5c932f460>,\n",
       "  <matplotlib.axis.YTick at 0x7ff5c9339a90>],\n",
       " [Text(0, 0, '5'),\n",
       "  Text(0, 1, '10'),\n",
       "  Text(0, 2, '15'),\n",
       "  Text(0, 3, '20'),\n",
       "  Text(0, 4, '25'),\n",
       "  Text(0, 5, '30'),\n",
       "  Text(0, 6, '35'),\n",
       "  Text(0, 7, '40'),\n",
       "  Text(0, 8, '45'),\n",
       "  Text(0, 9, '50')])"
      ]
     },
     "execution_count": 31,
     "metadata": {},
     "output_type": "execute_result"
    },
    {
     "data": {
      "image/png": "[encoded data removed]",
      "text/plain": [
       "<Figure size 640x480 with 2 Axes>"
      ]
     },
     "metadata": {},
     "output_type": "display_data"
    }
   ],
   "source": [
    "import seaborn as sns\n",
    "sns.heatmap(connected_components_matrix, annot=True)\n",
    "#add labels\n",
    "plt.title(\"Connected Components\")\n",
    "plt.xlabel(\"Overlap Fraction\")\n",
    "plt.ylabel(\"Number of Intervals\")\n",
    "plt.xticks(np.arange(len(olfrac)), np.round(olfrac,2))\n",
    "plt.yticks(np.arange(len(nints)), nints)\n"
   ]
  },
  {
   "cell_type": "code",
   "execution_count": 32,
   "metadata": {},
   "outputs": [
    {
     "data": {
      "text/plain": [
       "([<matplotlib.axis.YTick at 0x7ff5c8a530d0>,\n",
       "  <matplotlib.axis.YTick at 0x7ff5c8a80670>,\n",
       "  <matplotlib.axis.YTick at 0x7ff5c91216d0>,\n",
       "  <matplotlib.axis.YTick at 0x7ff5c8a5d940>,\n",
       "  <matplotlib.axis.YTick at 0x7ff5c89652b0>,\n",
       "  <matplotlib.axis.YTick at 0x7ff5c86fb280>,\n",
       "  <matplotlib.axis.YTick at 0x7ff733acc670>,\n",
       "  <matplotlib.axis.YTick at 0x7ff5c8965220>,\n",
       "  <matplotlib.axis.YTick at 0x7ff5c873feb0>,\n",
       "  <matplotlib.axis.YTick at 0x7ff5c87342e0>],\n",
       " [Text(0, 0, '5'),\n",
       "  Text(0, 1, '10'),\n",
       "  Text(0, 2, '15'),\n",
       "  Text(0, 3, '20'),\n",
       "  Text(0, 4, '25'),\n",
       "  Text(0, 5, '30'),\n",
       "  Text(0, 6, '35'),\n",
       "  Text(0, 7, '40'),\n",
       "  Text(0, 8, '45'),\n",
       "  Text(0, 9, '50')])"
      ]
     },
     "execution_count": 32,
     "metadata": {},
     "output_type": "execute_result"
    },
    {
     "data": {
      "image/png": "[encoded data removed]",
      "text/plain": [
       "<Figure size 640x480 with 2 Axes>"
      ]
     },
     "metadata": {},
     "output_type": "display_data"
    }
   ],
   "source": [
    "\n",
    "sns.heatmap(degree_matrix, annot=True)\n",
    "#add labels\n",
    "plt.title(\"Degree\")\n",
    "plt.xlabel(\"Overlap Fraction\")\n",
    "plt.ylabel(\"Number of Intervals\")\n",
    "plt.xticks(np.arange(len(olfrac)), np.round(olfrac,2))\n",
    "plt.yticks(np.arange(len(nints)), nints)\n"
   ]
  },
  {
   "cell_type": "code",
   "execution_count": 33,
   "metadata": {},
   "outputs": [
    {
     "data": {
      "text/plain": [
       "([<matplotlib.axis.YTick at 0x7ff5c9535bb0>,\n",
       "  <matplotlib.axis.YTick at 0x7ff5c95359a0>,\n",
       "  <matplotlib.axis.YTick at 0x7ff5c9699100>,\n",
       "  <matplotlib.axis.YTick at 0x7ff5c96b3d30>,\n",
       "  <matplotlib.axis.YTick at 0x7ff5c96ac5b0>,\n",
       "  <matplotlib.axis.YTick at 0x7ff5c96c17c0>,\n",
       "  <matplotlib.axis.YTick at 0x7ff5c96c62b0>,\n",
       "  <matplotlib.axis.YTick at 0x7ff5c96c6d60>,\n",
       "  <matplotlib.axis.YTick at 0x7ff5c96c6520>,\n",
       "  <matplotlib.axis.YTick at 0x7ff5c96b3220>],\n",
       " [Text(0, 0, '5'),\n",
       "  Text(0, 1, '10'),\n",
       "  Text(0, 2, '15'),\n",
       "  Text(0, 3, '20'),\n",
       "  Text(0, 4, '25'),\n",
       "  Text(0, 5, '30'),\n",
       "  Text(0, 6, '35'),\n",
       "  Text(0, 7, '40'),\n",
       "  Text(0, 8, '45'),\n",
       "  Text(0, 9, '50')])"
      ]
     },
     "execution_count": 33,
     "metadata": {},
     "output_type": "execute_result"
    },
    {
     "data": {
      "image/png": "[encoded data removed]",
      "text/plain": [
       "<Figure size 640x480 with 2 Axes>"
      ]
     },
     "metadata": {},
     "output_type": "display_data"
    }
   ],
   "source": [
    "sns.heatmap(max_cc_matrix, annot=True)\n",
    "#add labels\n",
    "plt.title(\"Largest Connected Component\")\n",
    "plt.xlabel(\"Overlap Fraction\")\n",
    "plt.ylabel(\"Number of Intervals\")\n",
    "plt.xticks(np.arange(len(olfrac)), np.round(olfrac,2))\n",
    "plt.yticks(np.arange(len(nints)), nints)"
   ]
  },
  {
   "cell_type": "markdown",
   "metadata": {},
   "source": [
    "### Projecting onto a set of codes (Self Organization Theme)\n",
    "*warning: this is a work in progress and is a bit cranky*"
   ]
  },
  {
   "cell_type": "code",
   "execution_count": 21,
   "metadata": {},
   "outputs": [
    {
     "ename": "KeyboardInterrupt",
     "evalue": "",
     "output_type": "error",
     "traceback": [
      "\u001b[0;31m---------------------------------------------------------------------------\u001b[0m",
      "\u001b[0;31mKeyboardInterrupt\u001b[0m                         Traceback (most recent call last)",
      "Cell \u001b[0;32mIn[21], line 21\u001b[0m\n\u001b[1;32m     12\u001b[0m clusterer \u001b[38;5;241m=\u001b[39m cluster\u001b[38;5;241m.\u001b[39mDBSCAN()\n\u001b[1;32m     14\u001b[0m pipe \u001b[38;5;241m=\u001b[39m \u001b[38;5;28mmap\u001b[39m\u001b[38;5;241m.\u001b[39mmake_mapper_pipeline(\n\u001b[1;32m     15\u001b[0m     filter_func\u001b[38;5;241m=\u001b[39mfilter_func,\n\u001b[1;32m     16\u001b[0m     cover\u001b[38;5;241m=\u001b[39mcover,    \n\u001b[0;32m   (...)\u001b[0m\n\u001b[1;32m     19\u001b[0m     n_jobs\u001b[38;5;241m=\u001b[39m\u001b[38;5;241m1\u001b[39m,\n\u001b[1;32m     20\u001b[0m )\n\u001b[0;32m---> 21\u001b[0m graph \u001b[38;5;241m=\u001b[39m \u001b[43mpipe\u001b[49m\u001b[38;5;241;43m.\u001b[39;49m\u001b[43mfit_transform\u001b[49m\u001b[43m(\u001b[49m\u001b[43mdf_codes_array_norm_tweet\u001b[49m\u001b[43m)\u001b[49m\n\u001b[1;32m     22\u001b[0m G \u001b[38;5;241m=\u001b[39m graph\u001b[38;5;241m.\u001b[39mto_networkx()\n\u001b[1;32m     23\u001b[0m cc \u001b[38;5;241m=\u001b[39m nx\u001b[38;5;241m.\u001b[39mconnected_components(G)\n",
      "File \u001b[0;32m~/opt/anaconda3/lib/python3.8/site-packages/sklearn/pipeline.py:437\u001b[0m, in \u001b[0;36mPipeline.fit_transform\u001b[0;34m(self, X, y, **fit_params)\u001b[0m\n\u001b[1;32m    410\u001b[0m \u001b[38;5;250m\u001b[39m\u001b[38;5;124;03m\"\"\"Fit the model and transform with the final estimator.\u001b[39;00m\n\u001b[1;32m    411\u001b[0m \n\u001b[1;32m    412\u001b[0m \u001b[38;5;124;03mFits all the transformers one after the other and transform the\u001b[39;00m\n\u001b[0;32m   (...)\u001b[0m\n\u001b[1;32m    434\u001b[0m \u001b[38;5;124;03m    Transformed samples.\u001b[39;00m\n\u001b[1;32m    435\u001b[0m \u001b[38;5;124;03m\"\"\"\u001b[39;00m\n\u001b[1;32m    436\u001b[0m fit_params_steps \u001b[38;5;241m=\u001b[39m \u001b[38;5;28mself\u001b[39m\u001b[38;5;241m.\u001b[39m_check_fit_params(\u001b[38;5;241m*\u001b[39m\u001b[38;5;241m*\u001b[39mfit_params)\n\u001b[0;32m--> 437\u001b[0m Xt \u001b[38;5;241m=\u001b[39m \u001b[38;5;28;43mself\u001b[39;49m\u001b[38;5;241;43m.\u001b[39;49m\u001b[43m_fit\u001b[49m\u001b[43m(\u001b[49m\u001b[43mX\u001b[49m\u001b[43m,\u001b[49m\u001b[43m \u001b[49m\u001b[43my\u001b[49m\u001b[43m,\u001b[49m\u001b[43m \u001b[49m\u001b[38;5;241;43m*\u001b[39;49m\u001b[38;5;241;43m*\u001b[39;49m\u001b[43mfit_params_steps\u001b[49m\u001b[43m)\u001b[49m\n\u001b[1;32m    439\u001b[0m last_step \u001b[38;5;241m=\u001b[39m \u001b[38;5;28mself\u001b[39m\u001b[38;5;241m.\u001b[39m_final_estimator\n\u001b[1;32m    440\u001b[0m \u001b[38;5;28;01mwith\u001b[39;00m _print_elapsed_time(\u001b[38;5;124m\"\u001b[39m\u001b[38;5;124mPipeline\u001b[39m\u001b[38;5;124m\"\u001b[39m, \u001b[38;5;28mself\u001b[39m\u001b[38;5;241m.\u001b[39m_log_message(\u001b[38;5;28mlen\u001b[39m(\u001b[38;5;28mself\u001b[39m\u001b[38;5;241m.\u001b[39msteps) \u001b[38;5;241m-\u001b[39m \u001b[38;5;241m1\u001b[39m)):\n",
      "File \u001b[0;32m~/opt/anaconda3/lib/python3.8/site-packages/sklearn/pipeline.py:359\u001b[0m, in \u001b[0;36mPipeline._fit\u001b[0;34m(self, X, y, **fit_params_steps)\u001b[0m\n\u001b[1;32m    357\u001b[0m     cloned_transformer \u001b[38;5;241m=\u001b[39m clone(transformer)\n\u001b[1;32m    358\u001b[0m \u001b[38;5;66;03m# Fit or load from cache the current transformer\u001b[39;00m\n\u001b[0;32m--> 359\u001b[0m X, fitted_transformer \u001b[38;5;241m=\u001b[39m \u001b[43mfit_transform_one_cached\u001b[49m\u001b[43m(\u001b[49m\n\u001b[1;32m    360\u001b[0m \u001b[43m    \u001b[49m\u001b[43mcloned_transformer\u001b[49m\u001b[43m,\u001b[49m\n\u001b[1;32m    361\u001b[0m \u001b[43m    \u001b[49m\u001b[43mX\u001b[49m\u001b[43m,\u001b[49m\n\u001b[1;32m    362\u001b[0m \u001b[43m    \u001b[49m\u001b[43my\u001b[49m\u001b[43m,\u001b[49m\n\u001b[1;32m    363\u001b[0m \u001b[43m    \u001b[49m\u001b[38;5;28;43;01mNone\u001b[39;49;00m\u001b[43m,\u001b[49m\n\u001b[1;32m    364\u001b[0m \u001b[43m    \u001b[49m\u001b[43mmessage_clsname\u001b[49m\u001b[38;5;241;43m=\u001b[39;49m\u001b[38;5;124;43m\"\u001b[39;49m\u001b[38;5;124;43mPipeline\u001b[39;49m\u001b[38;5;124;43m\"\u001b[39;49m\u001b[43m,\u001b[49m\n\u001b[1;32m    365\u001b[0m \u001b[43m    \u001b[49m\u001b[43mmessage\u001b[49m\u001b[38;5;241;43m=\u001b[39;49m\u001b[38;5;28;43mself\u001b[39;49m\u001b[38;5;241;43m.\u001b[39;49m\u001b[43m_log_message\u001b[49m\u001b[43m(\u001b[49m\u001b[43mstep_idx\u001b[49m\u001b[43m)\u001b[49m\u001b[43m,\u001b[49m\n\u001b[1;32m    366\u001b[0m \u001b[43m    \u001b[49m\u001b[38;5;241;43m*\u001b[39;49m\u001b[38;5;241;43m*\u001b[39;49m\u001b[43mfit_params_steps\u001b[49m\u001b[43m[\u001b[49m\u001b[43mname\u001b[49m\u001b[43m]\u001b[49m\u001b[43m,\u001b[49m\n\u001b[1;32m    367\u001b[0m \u001b[43m\u001b[49m\u001b[43m)\u001b[49m\n\u001b[1;32m    368\u001b[0m \u001b[38;5;66;03m# Replace the transformer of the step with the fitted\u001b[39;00m\n\u001b[1;32m    369\u001b[0m \u001b[38;5;66;03m# transformer. This is necessary when loading the transformer\u001b[39;00m\n\u001b[1;32m    370\u001b[0m \u001b[38;5;66;03m# from the cache.\u001b[39;00m\n\u001b[1;32m    371\u001b[0m \u001b[38;5;28mself\u001b[39m\u001b[38;5;241m.\u001b[39msteps[step_idx] \u001b[38;5;241m=\u001b[39m (name, fitted_transformer)\n",
      "File \u001b[0;32m~/opt/anaconda3/lib/python3.8/site-packages/joblib/memory.py:349\u001b[0m, in \u001b[0;36mNotMemorizedFunc.__call__\u001b[0;34m(self, *args, **kwargs)\u001b[0m\n\u001b[1;32m    348\u001b[0m \u001b[38;5;28;01mdef\u001b[39;00m \u001b[38;5;21m__call__\u001b[39m(\u001b[38;5;28mself\u001b[39m, \u001b[38;5;241m*\u001b[39margs, \u001b[38;5;241m*\u001b[39m\u001b[38;5;241m*\u001b[39mkwargs):\n\u001b[0;32m--> 349\u001b[0m     \u001b[38;5;28;01mreturn\u001b[39;00m \u001b[38;5;28;43mself\u001b[39;49m\u001b[38;5;241;43m.\u001b[39;49m\u001b[43mfunc\u001b[49m\u001b[43m(\u001b[49m\u001b[38;5;241;43m*\u001b[39;49m\u001b[43margs\u001b[49m\u001b[43m,\u001b[49m\u001b[43m \u001b[49m\u001b[38;5;241;43m*\u001b[39;49m\u001b[38;5;241;43m*\u001b[39;49m\u001b[43mkwargs\u001b[49m\u001b[43m)\u001b[49m\n",
      "File \u001b[0;32m~/opt/anaconda3/lib/python3.8/site-packages/sklearn/pipeline.py:893\u001b[0m, in \u001b[0;36m_fit_transform_one\u001b[0;34m(transformer, X, y, weight, message_clsname, message, **fit_params)\u001b[0m\n\u001b[1;32m    891\u001b[0m \u001b[38;5;28;01mwith\u001b[39;00m _print_elapsed_time(message_clsname, message):\n\u001b[1;32m    892\u001b[0m     \u001b[38;5;28;01mif\u001b[39;00m \u001b[38;5;28mhasattr\u001b[39m(transformer, \u001b[38;5;124m\"\u001b[39m\u001b[38;5;124mfit_transform\u001b[39m\u001b[38;5;124m\"\u001b[39m):\n\u001b[0;32m--> 893\u001b[0m         res \u001b[38;5;241m=\u001b[39m \u001b[43mtransformer\u001b[49m\u001b[38;5;241;43m.\u001b[39;49m\u001b[43mfit_transform\u001b[49m\u001b[43m(\u001b[49m\u001b[43mX\u001b[49m\u001b[43m,\u001b[49m\u001b[43m \u001b[49m\u001b[43my\u001b[49m\u001b[43m,\u001b[49m\u001b[43m \u001b[49m\u001b[38;5;241;43m*\u001b[39;49m\u001b[38;5;241;43m*\u001b[39;49m\u001b[43mfit_params\u001b[49m\u001b[43m)\u001b[49m\n\u001b[1;32m    894\u001b[0m     \u001b[38;5;28;01melse\u001b[39;00m:\n\u001b[1;32m    895\u001b[0m         res \u001b[38;5;241m=\u001b[39m transformer\u001b[38;5;241m.\u001b[39mfit(X, y, \u001b[38;5;241m*\u001b[39m\u001b[38;5;241m*\u001b[39mfit_params)\u001b[38;5;241m.\u001b[39mtransform(X)\n",
      "File \u001b[0;32m~/opt/anaconda3/lib/python3.8/site-packages/sklearn/utils/_set_output.py:140\u001b[0m, in \u001b[0;36m_wrap_method_output.<locals>.wrapped\u001b[0;34m(self, X, *args, **kwargs)\u001b[0m\n\u001b[1;32m    138\u001b[0m \u001b[38;5;129m@wraps\u001b[39m(f)\n\u001b[1;32m    139\u001b[0m \u001b[38;5;28;01mdef\u001b[39;00m \u001b[38;5;21mwrapped\u001b[39m(\u001b[38;5;28mself\u001b[39m, X, \u001b[38;5;241m*\u001b[39margs, \u001b[38;5;241m*\u001b[39m\u001b[38;5;241m*\u001b[39mkwargs):\n\u001b[0;32m--> 140\u001b[0m     data_to_wrap \u001b[38;5;241m=\u001b[39m \u001b[43mf\u001b[49m\u001b[43m(\u001b[49m\u001b[38;5;28;43mself\u001b[39;49m\u001b[43m,\u001b[49m\u001b[43m \u001b[49m\u001b[43mX\u001b[49m\u001b[43m,\u001b[49m\u001b[43m \u001b[49m\u001b[38;5;241;43m*\u001b[39;49m\u001b[43margs\u001b[49m\u001b[43m,\u001b[49m\u001b[43m \u001b[49m\u001b[38;5;241;43m*\u001b[39;49m\u001b[38;5;241;43m*\u001b[39;49m\u001b[43mkwargs\u001b[49m\u001b[43m)\u001b[49m\n\u001b[1;32m    141\u001b[0m     \u001b[38;5;28;01mif\u001b[39;00m \u001b[38;5;28misinstance\u001b[39m(data_to_wrap, \u001b[38;5;28mtuple\u001b[39m):\n\u001b[1;32m    142\u001b[0m         \u001b[38;5;66;03m# only wrap the first output for cross decomposition\u001b[39;00m\n\u001b[1;32m    143\u001b[0m         \u001b[38;5;28;01mreturn\u001b[39;00m (\n\u001b[1;32m    144\u001b[0m             _wrap_data_with_container(method, data_to_wrap[\u001b[38;5;241m0\u001b[39m], X, \u001b[38;5;28mself\u001b[39m),\n\u001b[1;32m    145\u001b[0m             \u001b[38;5;241m*\u001b[39mdata_to_wrap[\u001b[38;5;241m1\u001b[39m:],\n\u001b[1;32m    146\u001b[0m         )\n",
      "File \u001b[0;32m~/opt/anaconda3/lib/python3.8/site-packages/gtda/mapper/utils/_list_feature_union.py:21\u001b[0m, in \u001b[0;36mListFeatureUnion.fit_transform\u001b[0;34m(self, X, y, **fit_params)\u001b[0m\n\u001b[1;32m      7\u001b[0m \u001b[38;5;28;01mdef\u001b[39;00m \u001b[38;5;21mfit_transform\u001b[39m(\u001b[38;5;28mself\u001b[39m, X, y\u001b[38;5;241m=\u001b[39m\u001b[38;5;28;01mNone\u001b[39;00m, \u001b[38;5;241m*\u001b[39m\u001b[38;5;241m*\u001b[39mfit_params):\n\u001b[1;32m      8\u001b[0m \u001b[38;5;250m    \u001b[39m\u001b[38;5;124;03m\"\"\"Fit all transformers, transform the data and concatenate results.\u001b[39;00m\n\u001b[1;32m      9\u001b[0m \u001b[38;5;124;03m    Parameters\u001b[39;00m\n\u001b[1;32m     10\u001b[0m \u001b[38;5;124;03m    ----------\u001b[39;00m\n\u001b[0;32m   (...)\u001b[0m\n\u001b[1;32m     19\u001b[0m \n\u001b[1;32m     20\u001b[0m \u001b[38;5;124;03m    \"\"\"\u001b[39;00m\n\u001b[0;32m---> 21\u001b[0m     results \u001b[38;5;241m=\u001b[39m \u001b[38;5;28;43mself\u001b[39;49m\u001b[38;5;241;43m.\u001b[39;49m\u001b[43m_parallel_func\u001b[49m\u001b[43m(\u001b[49m\u001b[43mX\u001b[49m\u001b[43m,\u001b[49m\u001b[43m \u001b[49m\u001b[43my\u001b[49m\u001b[43m,\u001b[49m\u001b[43m \u001b[49m\u001b[43mfit_params\u001b[49m\u001b[43m,\u001b[49m\u001b[43m \u001b[49m\u001b[43m_fit_transform_one\u001b[49m\u001b[43m)\u001b[49m\n\u001b[1;32m     22\u001b[0m     \u001b[38;5;28;01mif\u001b[39;00m \u001b[38;5;129;01mnot\u001b[39;00m results:\n\u001b[1;32m     23\u001b[0m         \u001b[38;5;66;03m# All transformers are None\u001b[39;00m\n\u001b[1;32m     24\u001b[0m         \u001b[38;5;28;01mreturn\u001b[39;00m np\u001b[38;5;241m.\u001b[39mzeros((X\u001b[38;5;241m.\u001b[39mshape[\u001b[38;5;241m0\u001b[39m], \u001b[38;5;241m0\u001b[39m))\n",
      "File \u001b[0;32m~/opt/anaconda3/lib/python3.8/site-packages/sklearn/pipeline.py:1214\u001b[0m, in \u001b[0;36mFeatureUnion._parallel_func\u001b[0;34m(self, X, y, fit_params, func)\u001b[0m\n\u001b[1;32m   1211\u001b[0m \u001b[38;5;28mself\u001b[39m\u001b[38;5;241m.\u001b[39m_validate_transformer_weights()\n\u001b[1;32m   1212\u001b[0m transformers \u001b[38;5;241m=\u001b[39m \u001b[38;5;28mlist\u001b[39m(\u001b[38;5;28mself\u001b[39m\u001b[38;5;241m.\u001b[39m_iter())\n\u001b[0;32m-> 1214\u001b[0m \u001b[38;5;28;01mreturn\u001b[39;00m \u001b[43mParallel\u001b[49m\u001b[43m(\u001b[49m\u001b[43mn_jobs\u001b[49m\u001b[38;5;241;43m=\u001b[39;49m\u001b[38;5;28;43mself\u001b[39;49m\u001b[38;5;241;43m.\u001b[39;49m\u001b[43mn_jobs\u001b[49m\u001b[43m)\u001b[49m\u001b[43m(\u001b[49m\n\u001b[1;32m   1215\u001b[0m \u001b[43m    \u001b[49m\u001b[43mdelayed\u001b[49m\u001b[43m(\u001b[49m\u001b[43mfunc\u001b[49m\u001b[43m)\u001b[49m\u001b[43m(\u001b[49m\n\u001b[1;32m   1216\u001b[0m \u001b[43m        \u001b[49m\u001b[43mtransformer\u001b[49m\u001b[43m,\u001b[49m\n\u001b[1;32m   1217\u001b[0m \u001b[43m        \u001b[49m\u001b[43mX\u001b[49m\u001b[43m,\u001b[49m\n\u001b[1;32m   1218\u001b[0m \u001b[43m        \u001b[49m\u001b[43my\u001b[49m\u001b[43m,\u001b[49m\n\u001b[1;32m   1219\u001b[0m \u001b[43m        \u001b[49m\u001b[43mweight\u001b[49m\u001b[43m,\u001b[49m\n\u001b[1;32m   1220\u001b[0m \u001b[43m        \u001b[49m\u001b[43mmessage_clsname\u001b[49m\u001b[38;5;241;43m=\u001b[39;49m\u001b[38;5;124;43m\"\u001b[39;49m\u001b[38;5;124;43mFeatureUnion\u001b[39;49m\u001b[38;5;124;43m\"\u001b[39;49m\u001b[43m,\u001b[49m\n\u001b[1;32m   1221\u001b[0m \u001b[43m        \u001b[49m\u001b[43mmessage\u001b[49m\u001b[38;5;241;43m=\u001b[39;49m\u001b[38;5;28;43mself\u001b[39;49m\u001b[38;5;241;43m.\u001b[39;49m\u001b[43m_log_message\u001b[49m\u001b[43m(\u001b[49m\u001b[43mname\u001b[49m\u001b[43m,\u001b[49m\u001b[43m \u001b[49m\u001b[43midx\u001b[49m\u001b[43m,\u001b[49m\u001b[43m \u001b[49m\u001b[38;5;28;43mlen\u001b[39;49m\u001b[43m(\u001b[49m\u001b[43mtransformers\u001b[49m\u001b[43m)\u001b[49m\u001b[43m)\u001b[49m\u001b[43m,\u001b[49m\n\u001b[1;32m   1222\u001b[0m \u001b[43m        \u001b[49m\u001b[38;5;241;43m*\u001b[39;49m\u001b[38;5;241;43m*\u001b[39;49m\u001b[43mfit_params\u001b[49m\u001b[43m,\u001b[49m\n\u001b[1;32m   1223\u001b[0m \u001b[43m    \u001b[49m\u001b[43m)\u001b[49m\n\u001b[1;32m   1224\u001b[0m \u001b[43m    \u001b[49m\u001b[38;5;28;43;01mfor\u001b[39;49;00m\u001b[43m \u001b[49m\u001b[43midx\u001b[49m\u001b[43m,\u001b[49m\u001b[43m \u001b[49m\u001b[43m(\u001b[49m\u001b[43mname\u001b[49m\u001b[43m,\u001b[49m\u001b[43m \u001b[49m\u001b[43mtransformer\u001b[49m\u001b[43m,\u001b[49m\u001b[43m \u001b[49m\u001b[43mweight\u001b[49m\u001b[43m)\u001b[49m\u001b[43m \u001b[49m\u001b[38;5;129;43;01min\u001b[39;49;00m\u001b[43m \u001b[49m\u001b[38;5;28;43menumerate\u001b[39;49m\u001b[43m(\u001b[49m\u001b[43mtransformers\u001b[49m\u001b[43m,\u001b[49m\u001b[43m \u001b[49m\u001b[38;5;241;43m1\u001b[39;49m\u001b[43m)\u001b[49m\n\u001b[1;32m   1225\u001b[0m \u001b[43m\u001b[49m\u001b[43m)\u001b[49m\n",
      "File \u001b[0;32m~/opt/anaconda3/lib/python3.8/site-packages/sklearn/utils/parallel.py:63\u001b[0m, in \u001b[0;36mParallel.__call__\u001b[0;34m(self, iterable)\u001b[0m\n\u001b[1;32m     58\u001b[0m config \u001b[38;5;241m=\u001b[39m get_config()\n\u001b[1;32m     59\u001b[0m iterable_with_config \u001b[38;5;241m=\u001b[39m (\n\u001b[1;32m     60\u001b[0m     (_with_config(delayed_func, config), args, kwargs)\n\u001b[1;32m     61\u001b[0m     \u001b[38;5;28;01mfor\u001b[39;00m delayed_func, args, kwargs \u001b[38;5;129;01min\u001b[39;00m iterable\n\u001b[1;32m     62\u001b[0m )\n\u001b[0;32m---> 63\u001b[0m \u001b[38;5;28;01mreturn\u001b[39;00m \u001b[38;5;28;43msuper\u001b[39;49m\u001b[43m(\u001b[49m\u001b[43m)\u001b[49m\u001b[38;5;241;43m.\u001b[39;49m\u001b[38;5;21;43m__call__\u001b[39;49m\u001b[43m(\u001b[49m\u001b[43miterable_with_config\u001b[49m\u001b[43m)\u001b[49m\n",
      "File \u001b[0;32m~/opt/anaconda3/lib/python3.8/site-packages/joblib/parallel.py:1088\u001b[0m, in \u001b[0;36mParallel.__call__\u001b[0;34m(self, iterable)\u001b[0m\n\u001b[1;32m   1085\u001b[0m \u001b[38;5;28;01mif\u001b[39;00m \u001b[38;5;28mself\u001b[39m\u001b[38;5;241m.\u001b[39mdispatch_one_batch(iterator):\n\u001b[1;32m   1086\u001b[0m     \u001b[38;5;28mself\u001b[39m\u001b[38;5;241m.\u001b[39m_iterating \u001b[38;5;241m=\u001b[39m \u001b[38;5;28mself\u001b[39m\u001b[38;5;241m.\u001b[39m_original_iterator \u001b[38;5;129;01mis\u001b[39;00m \u001b[38;5;129;01mnot\u001b[39;00m \u001b[38;5;28;01mNone\u001b[39;00m\n\u001b[0;32m-> 1088\u001b[0m \u001b[38;5;28;01mwhile\u001b[39;00m \u001b[38;5;28;43mself\u001b[39;49m\u001b[38;5;241;43m.\u001b[39;49m\u001b[43mdispatch_one_batch\u001b[49m\u001b[43m(\u001b[49m\u001b[43miterator\u001b[49m\u001b[43m)\u001b[49m:\n\u001b[1;32m   1089\u001b[0m     \u001b[38;5;28;01mpass\u001b[39;00m\n\u001b[1;32m   1091\u001b[0m \u001b[38;5;28;01mif\u001b[39;00m pre_dispatch \u001b[38;5;241m==\u001b[39m \u001b[38;5;124m\"\u001b[39m\u001b[38;5;124mall\u001b[39m\u001b[38;5;124m\"\u001b[39m \u001b[38;5;129;01mor\u001b[39;00m n_jobs \u001b[38;5;241m==\u001b[39m \u001b[38;5;241m1\u001b[39m:\n\u001b[1;32m   1092\u001b[0m     \u001b[38;5;66;03m# The iterable was consumed all at once by the above for loop.\u001b[39;00m\n\u001b[1;32m   1093\u001b[0m     \u001b[38;5;66;03m# No need to wait for async callbacks to trigger to\u001b[39;00m\n\u001b[1;32m   1094\u001b[0m     \u001b[38;5;66;03m# consumption.\u001b[39;00m\n",
      "File \u001b[0;32m~/opt/anaconda3/lib/python3.8/site-packages/joblib/parallel.py:901\u001b[0m, in \u001b[0;36mParallel.dispatch_one_batch\u001b[0;34m(self, iterator)\u001b[0m\n\u001b[1;32m    899\u001b[0m     \u001b[38;5;28;01mreturn\u001b[39;00m \u001b[38;5;28;01mFalse\u001b[39;00m\n\u001b[1;32m    900\u001b[0m \u001b[38;5;28;01melse\u001b[39;00m:\n\u001b[0;32m--> 901\u001b[0m     \u001b[38;5;28;43mself\u001b[39;49m\u001b[38;5;241;43m.\u001b[39;49m\u001b[43m_dispatch\u001b[49m\u001b[43m(\u001b[49m\u001b[43mtasks\u001b[49m\u001b[43m)\u001b[49m\n\u001b[1;32m    902\u001b[0m     \u001b[38;5;28;01mreturn\u001b[39;00m \u001b[38;5;28;01mTrue\u001b[39;00m\n",
      "File \u001b[0;32m~/opt/anaconda3/lib/python3.8/site-packages/joblib/parallel.py:819\u001b[0m, in \u001b[0;36mParallel._dispatch\u001b[0;34m(self, batch)\u001b[0m\n\u001b[1;32m    817\u001b[0m \u001b[38;5;28;01mwith\u001b[39;00m \u001b[38;5;28mself\u001b[39m\u001b[38;5;241m.\u001b[39m_lock:\n\u001b[1;32m    818\u001b[0m     job_idx \u001b[38;5;241m=\u001b[39m \u001b[38;5;28mlen\u001b[39m(\u001b[38;5;28mself\u001b[39m\u001b[38;5;241m.\u001b[39m_jobs)\n\u001b[0;32m--> 819\u001b[0m     job \u001b[38;5;241m=\u001b[39m \u001b[38;5;28;43mself\u001b[39;49m\u001b[38;5;241;43m.\u001b[39;49m\u001b[43m_backend\u001b[49m\u001b[38;5;241;43m.\u001b[39;49m\u001b[43mapply_async\u001b[49m\u001b[43m(\u001b[49m\u001b[43mbatch\u001b[49m\u001b[43m,\u001b[49m\u001b[43m \u001b[49m\u001b[43mcallback\u001b[49m\u001b[38;5;241;43m=\u001b[39;49m\u001b[43mcb\u001b[49m\u001b[43m)\u001b[49m\n\u001b[1;32m    820\u001b[0m     \u001b[38;5;66;03m# A job can complete so quickly than its callback is\u001b[39;00m\n\u001b[1;32m    821\u001b[0m     \u001b[38;5;66;03m# called before we get here, causing self._jobs to\u001b[39;00m\n\u001b[1;32m    822\u001b[0m     \u001b[38;5;66;03m# grow. To ensure correct results ordering, .insert is\u001b[39;00m\n\u001b[1;32m    823\u001b[0m     \u001b[38;5;66;03m# used (rather than .append) in the following line\u001b[39;00m\n\u001b[1;32m    824\u001b[0m     \u001b[38;5;28mself\u001b[39m\u001b[38;5;241m.\u001b[39m_jobs\u001b[38;5;241m.\u001b[39minsert(job_idx, job)\n",
      "File \u001b[0;32m~/opt/anaconda3/lib/python3.8/site-packages/joblib/_parallel_backends.py:208\u001b[0m, in \u001b[0;36mSequentialBackend.apply_async\u001b[0;34m(self, func, callback)\u001b[0m\n\u001b[1;32m    206\u001b[0m \u001b[38;5;28;01mdef\u001b[39;00m \u001b[38;5;21mapply_async\u001b[39m(\u001b[38;5;28mself\u001b[39m, func, callback\u001b[38;5;241m=\u001b[39m\u001b[38;5;28;01mNone\u001b[39;00m):\n\u001b[1;32m    207\u001b[0m \u001b[38;5;250m    \u001b[39m\u001b[38;5;124;03m\"\"\"Schedule a func to be run\"\"\"\u001b[39;00m\n\u001b[0;32m--> 208\u001b[0m     result \u001b[38;5;241m=\u001b[39m \u001b[43mImmediateResult\u001b[49m\u001b[43m(\u001b[49m\u001b[43mfunc\u001b[49m\u001b[43m)\u001b[49m\n\u001b[1;32m    209\u001b[0m     \u001b[38;5;28;01mif\u001b[39;00m callback:\n\u001b[1;32m    210\u001b[0m         callback(result)\n",
      "File \u001b[0;32m~/opt/anaconda3/lib/python3.8/site-packages/joblib/_parallel_backends.py:597\u001b[0m, in \u001b[0;36mImmediateResult.__init__\u001b[0;34m(self, batch)\u001b[0m\n\u001b[1;32m    594\u001b[0m \u001b[38;5;28;01mdef\u001b[39;00m \u001b[38;5;21m__init__\u001b[39m(\u001b[38;5;28mself\u001b[39m, batch):\n\u001b[1;32m    595\u001b[0m     \u001b[38;5;66;03m# Don't delay the application, to avoid keeping the input\u001b[39;00m\n\u001b[1;32m    596\u001b[0m     \u001b[38;5;66;03m# arguments in memory\u001b[39;00m\n\u001b[0;32m--> 597\u001b[0m     \u001b[38;5;28mself\u001b[39m\u001b[38;5;241m.\u001b[39mresults \u001b[38;5;241m=\u001b[39m \u001b[43mbatch\u001b[49m\u001b[43m(\u001b[49m\u001b[43m)\u001b[49m\n",
      "File \u001b[0;32m~/opt/anaconda3/lib/python3.8/site-packages/joblib/parallel.py:288\u001b[0m, in \u001b[0;36mBatchedCalls.__call__\u001b[0;34m(self)\u001b[0m\n\u001b[1;32m    284\u001b[0m \u001b[38;5;28;01mdef\u001b[39;00m \u001b[38;5;21m__call__\u001b[39m(\u001b[38;5;28mself\u001b[39m):\n\u001b[1;32m    285\u001b[0m     \u001b[38;5;66;03m# Set the default nested backend to self._backend but do not set the\u001b[39;00m\n\u001b[1;32m    286\u001b[0m     \u001b[38;5;66;03m# change the default number of processes to -1\u001b[39;00m\n\u001b[1;32m    287\u001b[0m     \u001b[38;5;28;01mwith\u001b[39;00m parallel_backend(\u001b[38;5;28mself\u001b[39m\u001b[38;5;241m.\u001b[39m_backend, n_jobs\u001b[38;5;241m=\u001b[39m\u001b[38;5;28mself\u001b[39m\u001b[38;5;241m.\u001b[39m_n_jobs):\n\u001b[0;32m--> 288\u001b[0m         \u001b[38;5;28;01mreturn\u001b[39;00m [func(\u001b[38;5;241m*\u001b[39margs, \u001b[38;5;241m*\u001b[39m\u001b[38;5;241m*\u001b[39mkwargs)\n\u001b[1;32m    289\u001b[0m                 \u001b[38;5;28;01mfor\u001b[39;00m func, args, kwargs \u001b[38;5;129;01min\u001b[39;00m \u001b[38;5;28mself\u001b[39m\u001b[38;5;241m.\u001b[39mitems]\n",
      "File \u001b[0;32m~/opt/anaconda3/lib/python3.8/site-packages/joblib/parallel.py:288\u001b[0m, in \u001b[0;36m<listcomp>\u001b[0;34m(.0)\u001b[0m\n\u001b[1;32m    284\u001b[0m \u001b[38;5;28;01mdef\u001b[39;00m \u001b[38;5;21m__call__\u001b[39m(\u001b[38;5;28mself\u001b[39m):\n\u001b[1;32m    285\u001b[0m     \u001b[38;5;66;03m# Set the default nested backend to self._backend but do not set the\u001b[39;00m\n\u001b[1;32m    286\u001b[0m     \u001b[38;5;66;03m# change the default number of processes to -1\u001b[39;00m\n\u001b[1;32m    287\u001b[0m     \u001b[38;5;28;01mwith\u001b[39;00m parallel_backend(\u001b[38;5;28mself\u001b[39m\u001b[38;5;241m.\u001b[39m_backend, n_jobs\u001b[38;5;241m=\u001b[39m\u001b[38;5;28mself\u001b[39m\u001b[38;5;241m.\u001b[39m_n_jobs):\n\u001b[0;32m--> 288\u001b[0m         \u001b[38;5;28;01mreturn\u001b[39;00m [\u001b[43mfunc\u001b[49m\u001b[43m(\u001b[49m\u001b[38;5;241;43m*\u001b[39;49m\u001b[43margs\u001b[49m\u001b[43m,\u001b[49m\u001b[43m \u001b[49m\u001b[38;5;241;43m*\u001b[39;49m\u001b[38;5;241;43m*\u001b[39;49m\u001b[43mkwargs\u001b[49m\u001b[43m)\u001b[49m\n\u001b[1;32m    289\u001b[0m                 \u001b[38;5;28;01mfor\u001b[39;00m func, args, kwargs \u001b[38;5;129;01min\u001b[39;00m \u001b[38;5;28mself\u001b[39m\u001b[38;5;241m.\u001b[39mitems]\n",
      "File \u001b[0;32m~/opt/anaconda3/lib/python3.8/site-packages/sklearn/utils/parallel.py:123\u001b[0m, in \u001b[0;36m_FuncWrapper.__call__\u001b[0;34m(self, *args, **kwargs)\u001b[0m\n\u001b[1;32m    121\u001b[0m     config \u001b[38;5;241m=\u001b[39m {}\n\u001b[1;32m    122\u001b[0m \u001b[38;5;28;01mwith\u001b[39;00m config_context(\u001b[38;5;241m*\u001b[39m\u001b[38;5;241m*\u001b[39mconfig):\n\u001b[0;32m--> 123\u001b[0m     \u001b[38;5;28;01mreturn\u001b[39;00m \u001b[38;5;28;43mself\u001b[39;49m\u001b[38;5;241;43m.\u001b[39;49m\u001b[43mfunction\u001b[49m\u001b[43m(\u001b[49m\u001b[38;5;241;43m*\u001b[39;49m\u001b[43margs\u001b[49m\u001b[43m,\u001b[49m\u001b[43m \u001b[49m\u001b[38;5;241;43m*\u001b[39;49m\u001b[38;5;241;43m*\u001b[39;49m\u001b[43mkwargs\u001b[49m\u001b[43m)\u001b[49m\n",
      "File \u001b[0;32m~/opt/anaconda3/lib/python3.8/site-packages/sklearn/pipeline.py:893\u001b[0m, in \u001b[0;36m_fit_transform_one\u001b[0;34m(transformer, X, y, weight, message_clsname, message, **fit_params)\u001b[0m\n\u001b[1;32m    891\u001b[0m \u001b[38;5;28;01mwith\u001b[39;00m _print_elapsed_time(message_clsname, message):\n\u001b[1;32m    892\u001b[0m     \u001b[38;5;28;01mif\u001b[39;00m \u001b[38;5;28mhasattr\u001b[39m(transformer, \u001b[38;5;124m\"\u001b[39m\u001b[38;5;124mfit_transform\u001b[39m\u001b[38;5;124m\"\u001b[39m):\n\u001b[0;32m--> 893\u001b[0m         res \u001b[38;5;241m=\u001b[39m \u001b[43mtransformer\u001b[49m\u001b[38;5;241;43m.\u001b[39;49m\u001b[43mfit_transform\u001b[49m\u001b[43m(\u001b[49m\u001b[43mX\u001b[49m\u001b[43m,\u001b[49m\u001b[43m \u001b[49m\u001b[43my\u001b[49m\u001b[43m,\u001b[49m\u001b[43m \u001b[49m\u001b[38;5;241;43m*\u001b[39;49m\u001b[38;5;241;43m*\u001b[39;49m\u001b[43mfit_params\u001b[49m\u001b[43m)\u001b[49m\n\u001b[1;32m    894\u001b[0m     \u001b[38;5;28;01melse\u001b[39;00m:\n\u001b[1;32m    895\u001b[0m         res \u001b[38;5;241m=\u001b[39m transformer\u001b[38;5;241m.\u001b[39mfit(X, y, \u001b[38;5;241m*\u001b[39m\u001b[38;5;241m*\u001b[39mfit_params)\u001b[38;5;241m.\u001b[39mtransform(X)\n",
      "File \u001b[0;32m~/opt/anaconda3/lib/python3.8/site-packages/sklearn/pipeline.py:445\u001b[0m, in \u001b[0;36mPipeline.fit_transform\u001b[0;34m(self, X, y, **fit_params)\u001b[0m\n\u001b[1;32m    443\u001b[0m fit_params_last_step \u001b[38;5;241m=\u001b[39m fit_params_steps[\u001b[38;5;28mself\u001b[39m\u001b[38;5;241m.\u001b[39msteps[\u001b[38;5;241m-\u001b[39m\u001b[38;5;241m1\u001b[39m][\u001b[38;5;241m0\u001b[39m]]\n\u001b[1;32m    444\u001b[0m \u001b[38;5;28;01mif\u001b[39;00m \u001b[38;5;28mhasattr\u001b[39m(last_step, \u001b[38;5;124m\"\u001b[39m\u001b[38;5;124mfit_transform\u001b[39m\u001b[38;5;124m\"\u001b[39m):\n\u001b[0;32m--> 445\u001b[0m     \u001b[38;5;28;01mreturn\u001b[39;00m \u001b[43mlast_step\u001b[49m\u001b[38;5;241;43m.\u001b[39;49m\u001b[43mfit_transform\u001b[49m\u001b[43m(\u001b[49m\u001b[43mXt\u001b[49m\u001b[43m,\u001b[49m\u001b[43m \u001b[49m\u001b[43my\u001b[49m\u001b[43m,\u001b[49m\u001b[43m \u001b[49m\u001b[38;5;241;43m*\u001b[39;49m\u001b[38;5;241;43m*\u001b[39;49m\u001b[43mfit_params_last_step\u001b[49m\u001b[43m)\u001b[49m\n\u001b[1;32m    446\u001b[0m \u001b[38;5;28;01melse\u001b[39;00m:\n\u001b[1;32m    447\u001b[0m     \u001b[38;5;28;01mreturn\u001b[39;00m last_step\u001b[38;5;241m.\u001b[39mfit(Xt, y, \u001b[38;5;241m*\u001b[39m\u001b[38;5;241m*\u001b[39mfit_params_last_step)\u001b[38;5;241m.\u001b[39mtransform(Xt)\n",
      "File \u001b[0;32m~/opt/anaconda3/lib/python3.8/site-packages/gtda/utils/_docs.py:106\u001b[0m, in \u001b[0;36madapt_fit_transform_docs.<locals>.make_new_fit_transform.<locals>.fit_transform_wrapper\u001b[0;34m(*args, **kwargs)\u001b[0m\n\u001b[1;32m    104\u001b[0m \u001b[38;5;129m@wraps\u001b[39m(original_fit_transform)\n\u001b[1;32m    105\u001b[0m \u001b[38;5;28;01mdef\u001b[39;00m \u001b[38;5;21mfit_transform_wrapper\u001b[39m(\u001b[38;5;241m*\u001b[39margs, \u001b[38;5;241m*\u001b[39m\u001b[38;5;241m*\u001b[39mkwargs):\n\u001b[0;32m--> 106\u001b[0m     \u001b[38;5;28;01mreturn\u001b[39;00m \u001b[43moriginal_fit_transform\u001b[49m\u001b[43m(\u001b[49m\u001b[38;5;241;43m*\u001b[39;49m\u001b[43margs\u001b[49m\u001b[43m,\u001b[49m\u001b[43m \u001b[49m\u001b[38;5;241;43m*\u001b[39;49m\u001b[38;5;241;43m*\u001b[39;49m\u001b[43mkwargs\u001b[49m\u001b[43m)\u001b[49m\n",
      "File \u001b[0;32m~/opt/anaconda3/lib/python3.8/site-packages/sklearn/utils/_set_output.py:140\u001b[0m, in \u001b[0;36m_wrap_method_output.<locals>.wrapped\u001b[0;34m(self, X, *args, **kwargs)\u001b[0m\n\u001b[1;32m    138\u001b[0m \u001b[38;5;129m@wraps\u001b[39m(f)\n\u001b[1;32m    139\u001b[0m \u001b[38;5;28;01mdef\u001b[39;00m \u001b[38;5;21mwrapped\u001b[39m(\u001b[38;5;28mself\u001b[39m, X, \u001b[38;5;241m*\u001b[39margs, \u001b[38;5;241m*\u001b[39m\u001b[38;5;241m*\u001b[39mkwargs):\n\u001b[0;32m--> 140\u001b[0m     data_to_wrap \u001b[38;5;241m=\u001b[39m \u001b[43mf\u001b[49m\u001b[43m(\u001b[49m\u001b[38;5;28;43mself\u001b[39;49m\u001b[43m,\u001b[49m\u001b[43m \u001b[49m\u001b[43mX\u001b[49m\u001b[43m,\u001b[49m\u001b[43m \u001b[49m\u001b[38;5;241;43m*\u001b[39;49m\u001b[43margs\u001b[49m\u001b[43m,\u001b[49m\u001b[43m \u001b[49m\u001b[38;5;241;43m*\u001b[39;49m\u001b[38;5;241;43m*\u001b[39;49m\u001b[43mkwargs\u001b[49m\u001b[43m)\u001b[49m\n\u001b[1;32m    141\u001b[0m     \u001b[38;5;28;01mif\u001b[39;00m \u001b[38;5;28misinstance\u001b[39m(data_to_wrap, \u001b[38;5;28mtuple\u001b[39m):\n\u001b[1;32m    142\u001b[0m         \u001b[38;5;66;03m# only wrap the first output for cross decomposition\u001b[39;00m\n\u001b[1;32m    143\u001b[0m         \u001b[38;5;28;01mreturn\u001b[39;00m (\n\u001b[1;32m    144\u001b[0m             _wrap_data_with_container(method, data_to_wrap[\u001b[38;5;241m0\u001b[39m], X, \u001b[38;5;28mself\u001b[39m),\n\u001b[1;32m    145\u001b[0m             \u001b[38;5;241m*\u001b[39mdata_to_wrap[\u001b[38;5;241m1\u001b[39m:],\n\u001b[1;32m    146\u001b[0m         )\n",
      "File \u001b[0;32m~/opt/anaconda3/lib/python3.8/site-packages/gtda/mapper/cover.py:529\u001b[0m, in \u001b[0;36mCubicalCover.fit_transform\u001b[0;34m(self, X, y, **fit_params)\u001b[0m\n\u001b[1;32m    526\u001b[0m     Xt \u001b[38;5;241m=\u001b[39m Xt[:, \u001b[38;5;28;01mNone\u001b[39;00m]\n\u001b[1;32m    528\u001b[0m \u001b[38;5;28;01mif\u001b[39;00m \u001b[38;5;28mself\u001b[39m\u001b[38;5;241m.\u001b[39mkind \u001b[38;5;241m==\u001b[39m \u001b[38;5;124m'\u001b[39m\u001b[38;5;124muniform\u001b[39m\u001b[38;5;124m'\u001b[39m:\n\u001b[0;32m--> 529\u001b[0m     Xt \u001b[38;5;241m=\u001b[39m \u001b[38;5;28;43mself\u001b[39;49m\u001b[38;5;241;43m.\u001b[39;49m\u001b[43m_fit\u001b[49m\u001b[43m(\u001b[49m\u001b[43mXt\u001b[49m\u001b[43m)\u001b[49m\u001b[38;5;241;43m.\u001b[39;49m\u001b[43m_transform\u001b[49m\u001b[43m(\u001b[49m\u001b[43mXt\u001b[49m\u001b[43m)\u001b[49m\n\u001b[1;32m    530\u001b[0m     \u001b[38;5;28;01mreturn\u001b[39;00m Xt\n\u001b[1;32m    532\u001b[0m \u001b[38;5;66;03m# Calculate 1D cover for each column\u001b[39;00m\n",
      "File \u001b[0;32m~/opt/anaconda3/lib/python3.8/site-packages/gtda/mapper/cover.py:453\u001b[0m, in \u001b[0;36mCubicalCover._transform\u001b[0;34m(self, X)\u001b[0m\n\u001b[1;32m    448\u001b[0m \u001b[38;5;28;01mdef\u001b[39;00m \u001b[38;5;21m_transform\u001b[39m(\u001b[38;5;28mself\u001b[39m, X):\n\u001b[1;32m    449\u001b[0m     \u001b[38;5;66;03m# Calculate 1D cover for each column\u001b[39;00m\n\u001b[1;32m    450\u001b[0m     covers \u001b[38;5;241m=\u001b[39m [coverer\u001b[38;5;241m.\u001b[39m_transform(X[:, [i]])\n\u001b[1;32m    451\u001b[0m               \u001b[38;5;28;01mfor\u001b[39;00m i, coverer \u001b[38;5;129;01min\u001b[39;00m \u001b[38;5;28menumerate\u001b[39m(\u001b[38;5;28mself\u001b[39m\u001b[38;5;241m.\u001b[39m_coverers)]\n\u001b[0;32m--> 453\u001b[0m     Xt \u001b[38;5;241m=\u001b[39m \u001b[38;5;28;43mself\u001b[39;49m\u001b[38;5;241;43m.\u001b[39;49m\u001b[43m_combine_one_dim_covers\u001b[49m\u001b[43m(\u001b[49m\u001b[43mcovers\u001b[49m\u001b[43m)\u001b[49m\n\u001b[1;32m    454\u001b[0m     \u001b[38;5;28;01mreturn\u001b[39;00m Xt\n",
      "File \u001b[0;32m~/opt/anaconda3/lib/python3.8/site-packages/gtda/mapper/cover.py:557\u001b[0m, in \u001b[0;36mCubicalCover._combine_one_dim_covers\u001b[0;34m(covers)\u001b[0m\n\u001b[1;32m    552\u001b[0m intervals \u001b[38;5;241m=\u001b[39m (\n\u001b[1;32m    553\u001b[0m     [cover[:, i] \u001b[38;5;28;01mfor\u001b[39;00m i \u001b[38;5;129;01min\u001b[39;00m \u001b[38;5;28mrange\u001b[39m(cover\u001b[38;5;241m.\u001b[39mshape[\u001b[38;5;241m1\u001b[39m])] \u001b[38;5;28;01mfor\u001b[39;00m cover \u001b[38;5;129;01min\u001b[39;00m covers\n\u001b[1;32m    554\u001b[0m     )\n\u001b[1;32m    556\u001b[0m \u001b[38;5;66;03m# Calculate masks for pullback cover\u001b[39;00m\n\u001b[0;32m--> 557\u001b[0m Xt \u001b[38;5;241m=\u001b[39m np\u001b[38;5;241m.\u001b[39marray([np\u001b[38;5;241m.\u001b[39mlogical_and\u001b[38;5;241m.\u001b[39mreduce(t)\n\u001b[1;32m    558\u001b[0m                \u001b[38;5;28;01mfor\u001b[39;00m t \u001b[38;5;129;01min\u001b[39;00m product(\u001b[38;5;241m*\u001b[39mintervals)])\u001b[38;5;241m.\u001b[39mT\n\u001b[1;32m    560\u001b[0m Xt \u001b[38;5;241m=\u001b[39m _remove_empty_and_duplicate_intervals(Xt)\n\u001b[1;32m    561\u001b[0m \u001b[38;5;28;01mreturn\u001b[39;00m Xt\n",
      "File \u001b[0;32m~/opt/anaconda3/lib/python3.8/site-packages/gtda/mapper/cover.py:557\u001b[0m, in \u001b[0;36m<listcomp>\u001b[0;34m(.0)\u001b[0m\n\u001b[1;32m    552\u001b[0m intervals \u001b[38;5;241m=\u001b[39m (\n\u001b[1;32m    553\u001b[0m     [cover[:, i] \u001b[38;5;28;01mfor\u001b[39;00m i \u001b[38;5;129;01min\u001b[39;00m \u001b[38;5;28mrange\u001b[39m(cover\u001b[38;5;241m.\u001b[39mshape[\u001b[38;5;241m1\u001b[39m])] \u001b[38;5;28;01mfor\u001b[39;00m cover \u001b[38;5;129;01min\u001b[39;00m covers\n\u001b[1;32m    554\u001b[0m     )\n\u001b[1;32m    556\u001b[0m \u001b[38;5;66;03m# Calculate masks for pullback cover\u001b[39;00m\n\u001b[0;32m--> 557\u001b[0m Xt \u001b[38;5;241m=\u001b[39m np\u001b[38;5;241m.\u001b[39marray([\u001b[43mnp\u001b[49m\u001b[38;5;241;43m.\u001b[39;49m\u001b[43mlogical_and\u001b[49m\u001b[38;5;241;43m.\u001b[39;49m\u001b[43mreduce\u001b[49m\u001b[43m(\u001b[49m\u001b[43mt\u001b[49m\u001b[43m)\u001b[49m\n\u001b[1;32m    558\u001b[0m                \u001b[38;5;28;01mfor\u001b[39;00m t \u001b[38;5;129;01min\u001b[39;00m product(\u001b[38;5;241m*\u001b[39mintervals)])\u001b[38;5;241m.\u001b[39mT\n\u001b[1;32m    560\u001b[0m Xt \u001b[38;5;241m=\u001b[39m _remove_empty_and_duplicate_intervals(Xt)\n\u001b[1;32m    561\u001b[0m \u001b[38;5;28;01mreturn\u001b[39;00m Xt\n",
      "\u001b[0;31mKeyboardInterrupt\u001b[0m: "
     ]
    }
   ],
   "source": [
    "#project on SO (1,16,24,27,30)\n",
    "nints= np.arange(5,55,5)\n",
    "olfrac = np.arange(0.1,.6,0.05)\n",
    "filter_func = map.Projection(columns=[1,16,24,27,30])\n",
    "connected_components_matrix = np.zeros((len(nints), len(olfrac)))\n",
    "degree_matrix = np.zeros((len(nints), len(olfrac)))\n",
    "max_cc_matrix = np.zeros((len(nints), len(olfrac)))\n",
    "\n",
    "for i in range(len(nints)):\n",
    "    for j in range(len(olfrac)):\n",
    "        cover = map.CubicalCover(kind='uniform', n_intervals=int(nints[i]), overlap_frac=olfrac[j])\n",
    "        clusterer = cluster.DBSCAN()\n",
    "\n",
    "        pipe = map.make_mapper_pipeline(\n",
    "            filter_func=filter_func,\n",
    "            cover=cover,    \n",
    "            clusterer=clusterer,\n",
    "            verbose=False,\n",
    "            n_jobs=1,\n",
    "        )\n",
    "        graph = pipe.fit_transform(df_codes_array_norm_tweet)\n",
    "        G = graph.to_networkx()\n",
    "        cc = nx.connected_components(G)\n",
    "        connected_components_matrix[i,j] = len(list(cc))\n",
    "        degrees = [val for (node, val) in G.degree()]\n",
    "        degree_matrix[i,j] = np.max(degrees)\n",
    "        largest_cc = max(nx.connected_components(G), key=len)\n",
    "        max_cc_matrix[i,j] = len(largest_cc)\n"
   ]
  },
  {
   "cell_type": "code",
   "execution_count": null,
   "metadata": {},
   "outputs": [
    {
     "data": {
      "text/plain": [
       "([<matplotlib.axis.YTick at 0x7fa276cd9f70>,\n",
       "  <matplotlib.axis.YTick at 0x7fa276cd9910>,\n",
       "  <matplotlib.axis.YTick at 0x7fa276d67070>,\n",
       "  <matplotlib.axis.YTick at 0x7fa276d9b8e0>,\n",
       "  <matplotlib.axis.YTick at 0x7fa276da33d0>,\n",
       "  <matplotlib.axis.YTick at 0x7fa276da3e80>,\n",
       "  <matplotlib.axis.YTick at 0x7fa276da8970>,\n",
       "  <matplotlib.axis.YTick at 0x7fa276d7f6d0>,\n",
       "  <matplotlib.axis.YTick at 0x7fa276da8f10>,\n",
       "  <matplotlib.axis.YTick at 0x7fa276dadc40>],\n",
       " [Text(0, 0, '5'),\n",
       "  Text(0, 1, '10'),\n",
       "  Text(0, 2, '15'),\n",
       "  Text(0, 3, '20'),\n",
       "  Text(0, 4, '25'),\n",
       "  Text(0, 5, '30'),\n",
       "  Text(0, 6, '35'),\n",
       "  Text(0, 7, '40'),\n",
       "  Text(0, 8, '45'),\n",
       "  Text(0, 9, '50')])"
      ]
     },
     "execution_count": 13,
     "metadata": {},
     "output_type": "execute_result"
    },
    {
     "data": {
      "image/png": "[encoded data removed]",
      "text/plain": [
       "<Figure size 640x480 with 2 Axes>"
      ]
     },
     "metadata": {},
     "output_type": "display_data"
    }
   ],
   "source": [
    "import seaborn as sns\n",
    "sns.heatmap(connected_components_matrix, annot=True)\n",
    "#add labels\n",
    "plt.xlabel(\"Overlap Fraction\")\n",
    "plt.ylabel(\"Number of Intervals\")\n",
    "plt.xticks(np.arange(len(olfrac)), np.round(olfrac,2))\n",
    "plt.yticks(np.arange(len(nints)), nints)\n"
   ]
  },
  {
   "cell_type": "code",
   "execution_count": null,
   "metadata": {},
   "outputs": [
    {
     "data": {
      "text/plain": [
       "([<matplotlib.axis.YTick at 0x7fa2774a1e20>,\n",
       "  <matplotlib.axis.YTick at 0x7fa2774a17c0>,\n",
       "  <matplotlib.axis.YTick at 0x7fa276da34c0>,\n",
       "  <matplotlib.axis.YTick at 0x7fa2714abdc0>,\n",
       "  <matplotlib.axis.YTick at 0x7fa272593d00>,\n",
       "  <matplotlib.axis.YTick at 0x7fa2716df940>,\n",
       "  <matplotlib.axis.YTick at 0x7fa27695edf0>,\n",
       "  <matplotlib.axis.YTick at 0x7fa2717925b0>,\n",
       "  <matplotlib.axis.YTick at 0x7fa272593af0>,\n",
       "  <matplotlib.axis.YTick at 0x7fa2725a7f40>],\n",
       " [Text(0, 0, '5'),\n",
       "  Text(0, 1, '10'),\n",
       "  Text(0, 2, '15'),\n",
       "  Text(0, 3, '20'),\n",
       "  Text(0, 4, '25'),\n",
       "  Text(0, 5, '30'),\n",
       "  Text(0, 6, '35'),\n",
       "  Text(0, 7, '40'),\n",
       "  Text(0, 8, '45'),\n",
       "  Text(0, 9, '50')])"
      ]
     },
     "execution_count": 17,
     "metadata": {},
     "output_type": "execute_result"
    },
    {
     "data": {
      "image/png": "[encoded data removed]",
      "text/plain": [
       "<Figure size 640x480 with 2 Axes>"
      ]
     },
     "metadata": {},
     "output_type": "display_data"
    }
   ],
   "source": [
    "sns.heatmap(degree_matrix, annot=True)\n",
    "#add labels\n",
    "plt.xlabel(\"Overlap Fraction\")\n",
    "plt.ylabel(\"Number of Intervals\")\n",
    "plt.xticks(np.arange(len(olfrac)), np.round(olfrac,2))\n",
    "plt.yticks(np.arange(len(nints)), nints)\n"
   ]
  },
  {
   "cell_type": "code",
   "execution_count": null,
   "metadata": {},
   "outputs": [
    {
     "data": {
      "text/plain": [
       "([<matplotlib.axis.YTick at 0x7fa271e5be20>,\n",
       "  <matplotlib.axis.YTick at 0x7fa271e5b8e0>,\n",
       "  <matplotlib.axis.YTick at 0x7fa271fb6d00>,\n",
       "  <matplotlib.axis.YTick at 0x7fa271fe3b80>,\n",
       "  <matplotlib.axis.YTick at 0x7fa271fd5a00>,\n",
       "  <matplotlib.axis.YTick at 0x7fa271ff02b0>,\n",
       "  <matplotlib.axis.YTick at 0x7fa271ff0d60>,\n",
       "  <matplotlib.axis.YTick at 0x7fa271ff6850>,\n",
       "  <matplotlib.axis.YTick at 0x7fa271ff6ee0>,\n",
       "  <matplotlib.axis.YTick at 0x7fa271fe9b20>],\n",
       " [Text(0, 0, '5'),\n",
       "  Text(0, 1, '10'),\n",
       "  Text(0, 2, '15'),\n",
       "  Text(0, 3, '20'),\n",
       "  Text(0, 4, '25'),\n",
       "  Text(0, 5, '30'),\n",
       "  Text(0, 6, '35'),\n",
       "  Text(0, 7, '40'),\n",
       "  Text(0, 8, '45'),\n",
       "  Text(0, 9, '50')])"
      ]
     },
     "execution_count": 18,
     "metadata": {},
     "output_type": "execute_result"
    },
    {
     "data": {
      "image/png": "[encoded data removed]",
      "text/plain": [
       "<Figure size 640x480 with 2 Axes>"
      ]
     },
     "metadata": {},
     "output_type": "display_data"
    }
   ],
   "source": [
    "sns.heatmap(max_cc_matrix, annot=True)\n",
    "#add labels\n",
    "plt.xlabel(\"Overlap Fraction\")\n",
    "plt.ylabel(\"Number of Intervals\")\n",
    "plt.xticks(np.arange(len(olfrac)), np.round(olfrac,2))\n",
    "plt.yticks(np.arange(len(nints)), nints)"
   ]
  },
  {
   "cell_type": "code",
   "execution_count": null,
   "metadata": {},
   "outputs": [],
   "source": []
  }
 ],
 "metadata": {
  "kernelspec": {
   "display_name": "base",
   "language": "python",
   "name": "python3"
  },
  "language_info": {
   "codemirror_mode": {
    "name": "ipython",
    "version": 3
   },
   "file_extension": ".py",
   "mimetype": "text/x-python",
   "name": "python",
   "nbconvert_exporter": "python",
   "pygments_lexer": "ipython3",
   "version": "3.8.16"
  },
  "orig_nbformat": 4
 },
 "nbformat": 4,
 "nbformat_minor": 2
}
