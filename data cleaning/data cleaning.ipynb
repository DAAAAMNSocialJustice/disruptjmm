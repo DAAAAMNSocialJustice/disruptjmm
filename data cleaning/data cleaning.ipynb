{
 "cells": [
  {
   "cell_type": "code",
   "execution_count": 1,
   "id": "2d3fd642",
   "metadata": {},
   "outputs": [],
   "source": [
    "import pandas as pd\n",
    "import itertools"
   ]
  },
  {
   "cell_type": "code",
   "execution_count": 2,
   "id": "2222a047",
   "metadata": {},
   "outputs": [
    {
     "name": "stdout",
     "output_type": "stream",
     "text": [
      "<class 'pandas.core.frame.DataFrame'>\n",
      "RangeIndex: 1129 entries, 0 to 1128\n",
      "Data columns (total 44 columns):\n",
      " #   Column                        Non-Null Count  Dtype \n",
      "---  ------                        --------------  ----- \n",
      " 0   Unnamed: 0                    1129 non-null   int64 \n",
      " 1   tweet_id                      1129 non-null   int64 \n",
      " 2   user_username                 1129 non-null   object\n",
      " 3   text                          1129 non-null   object\n",
      " 4   created_at                    1129 non-null   object\n",
      " 5   conversation_id               1129 non-null   int64 \n",
      " 6   lang                          1129 non-null   object\n",
      " 7   possibly_sensitive            1129 non-null   bool  \n",
      " 8   author_id                     1129 non-null   int64 \n",
      " 9   source                        1129 non-null   object\n",
      " 10  in_reply_to_user_id           1129 non-null   object\n",
      " 11  user_verified                 1129 non-null   bool  \n",
      " 12  user_profile_image_url        1129 non-null   object\n",
      " 13  user_name                     1129 non-null   object\n",
      " 14  user_protected                1129 non-null   bool  \n",
      " 15  user_created_at               1129 non-null   object\n",
      " 16  user_location                 1129 non-null   object\n",
      " 17  user_description              1129 non-null   object\n",
      " 18  user_url                      1129 non-null   object\n",
      " 19  user_pinned_tweet_id          1129 non-null   object\n",
      " 20  retweet_count                 1129 non-null   int64 \n",
      " 21  like_count                    1129 non-null   int64 \n",
      " 22  quote_count                   1129 non-null   int64 \n",
      " 23  user_tweet_count              1129 non-null   int64 \n",
      " 24  user_list_count               1129 non-null   int64 \n",
      " 25  user_followers_count          1129 non-null   int64 \n",
      " 26  user_following_count          1129 non-null   int64 \n",
      " 27  sourcetweet_type              1129 non-null   object\n",
      " 28  sourcetweet_id                1129 non-null   object\n",
      " 29  sourcetweet_text              1129 non-null   object\n",
      " 30  Code                          1129 non-null   object\n",
      " 31  sourcetweet_lang              1129 non-null   object\n",
      " 32  sourcetweet_author_id         1129 non-null   object\n",
      " 33  Self-organization             1129 non-null   int64 \n",
      " 34  SO code                       1129 non-null   object\n",
      " 35  Building community            1129 non-null   int64 \n",
      " 36  BC code                       1129 non-null   object\n",
      " 37  Broadening the counterpublic  1129 non-null   int64 \n",
      " 38  BtC code                      1129 non-null   object\n",
      " 39  Creating change in math       1129 non-null   int64 \n",
      " 40  CCM code                      1129 non-null   object\n",
      " 41  SJEDI                         1129 non-null   int64 \n",
      " 42  SJEDI code                    1129 non-null   object\n",
      " 43  CODER                         1129 non-null   object\n",
      "dtypes: bool(3), int64(16), object(25)\n",
      "memory usage: 365.1+ KB\n"
     ]
    }
   ],
   "source": [
    "#Read in CSV file with coding\n",
    "df = pd.read_csv(\"Final Coding.csv\",keep_default_na=False)\n",
    "df.info()"
   ]
  },
  {
   "cell_type": "code",
   "execution_count": null,
   "id": "39043f9d",
   "metadata": {},
   "outputs": [],
   "source": []
  },
  {
   "cell_type": "code",
   "execution_count": 3,
   "id": "8a570eef",
   "metadata": {},
   "outputs": [
    {
     "name": "stdout",
     "output_type": "stream",
     "text": [
      "['Unnamed: 0', 'tweet_id', 'user_username', 'text', 'created_at', 'conversation_id', 'lang', 'possibly_sensitive', 'author_id', 'source', 'in_reply_to_user_id', 'user_verified', 'user_profile_image_url', 'user_name', 'user_protected', 'user_created_at', 'user_location', 'user_description', 'user_url', 'user_pinned_tweet_id', 'retweet_count', 'like_count', 'quote_count', 'user_tweet_count', 'user_list_count', 'user_followers_count', 'user_following_count', 'sourcetweet_type', 'sourcetweet_id', 'sourcetweet_text', 'Code', 'sourcetweet_lang', 'sourcetweet_author_id', 'Self-organization', 'SO code', 'Building community', 'BC code', 'Broadening the counterpublic', 'BtC code', 'Creating change in math', 'CCM code', 'SJEDI', 'SJEDI code', 'CODER', 'all codes', 'User Name', 'Display Name', 'JMM 2020', 'JMM 2021', 'Anonymous', 'Organization']\n",
      "There were 327 users in the dataset\n"
     ]
    }
   ],
   "source": [
    "df = pd.read_csv(\"Final Coding.csv\",keep_default_na=False)\n",
    "#The codes were in 5 different columns; lets aggregate them into a new column\n",
    "df[\"all codes\"] = df[[\"SO code\",\"BC code\",\"BtC code\",\"CCM code\",\"SJEDI code\"]].agg(';'.join,axis=1)\n",
    "#We separated them by ;, so convert to an array \n",
    "df[\"all codes\"] = df[\"all codes\"].apply(lambda s: s.split(';'))\n",
    "#Strip out leading/trailing spaces\n",
    "df[\"all codes\"] = df[\"all codes\"].apply(lambda s: [t.strip() for t in s if t])\n",
    "#Sort the arrays, so we can be confident the same things are not listed in two different ways\n",
    "df[\"all codes\"] = df[\"all codes\"].apply(sorted)\n",
    "#Convert back to string with ; between the codes\n",
    "df[\"all codes\"] = df[\"all codes\"].apply(lambda s: ';'.join(s))\n",
    "\n",
    "df_names = pd.read_csv(\"Names.csv\")\n",
    "df = df.merge(df_names,left_on='user_username',right_on='User Name',how='left')\n",
    "df=df.rename(columns={'In JMM 2020 Program?': 'JMM 2020', 'In JMM 2021 Program': 'JMM 2021', 'Too anonymous to determine':'Anonymous'})\n",
    "\n",
    "print(list(df.columns))\n",
    "#df[['User Name', 'Display Name', 'JMM 2020', 'JMM 2021', 'Anonymous']]\n",
    "users = df[['User Name', 'Display Name', 'author_id','JMM 2020','JMM 2021', 'Anonymous', 'Organization']].groupby(by=['User Name']).head(1)\n",
    "users\n",
    "\n",
    "#Check merge\n",
    "print('There were ' + str(len(df['Display Name'].unique())) + ' users in the dataset')\n",
    "df.to_csv(\"all-data.csv\")\n",
    "\n",
    "#users"
   ]
  },
  {
   "cell_type": "markdown",
   "id": "d06172eb",
   "metadata": {},
   "source": [
    "## Generate detailed edge list for people network"
   ]
  },
  {
   "cell_type": "code",
   "execution_count": 4,
   "id": "10389fd9",
   "metadata": {},
   "outputs": [],
   "source": [
    "#Get list of the codes\n",
    "codes = df['all codes'].apply(lambda s: s.split(';')).explode().unique()\n",
    "#Make a new column for each code, and mark it true/false if that code appears in 'all codes' column\n",
    "for code in codes:\n",
    "    df[code] = df['all codes'].apply(lambda s: code in s)\n",
    "\n",
    "\n",
    "#Make dictionaries of user_ids to usernamess, and tweetids to usernames\n",
    "users=df[['user_username','author_id']].drop_duplicates()\n",
    "user_dict = dict(zip(users['author_id'],users['user_username']))\n",
    "\n",
    "tweet_dict=dict(zip(df['tweet_id'],df['user_username']))\n",
    "\n",
    "\n",
    "#Lookup functions for tweetids and userids\n",
    "def tweeter_lookup(tweetid):\n",
    "    if tweetid == \"\":\n",
    "        return \"\"\n",
    "    elif int(tweetid) in tweet_dict.keys():\n",
    "        return tweet_dict[int(tweetid)]\n",
    "    else:\n",
    "        return \"\"\n",
    "    \n",
    "def lookup_username(s):\n",
    "    if s=='':\n",
    "        return ''\n",
    "    elif int(s) not in user_dict.keys():\n",
    "        return \"Error with id \"+str(s)\n",
    "    else:\n",
    "        return user_dict[int(s)]\n",
    "\n",
    "#Get receivers for replies\n",
    "df['Receiver']=''\n",
    "df['Receiver'].mask(df['in_reply_to_user_id']!='NA',df['in_reply_to_user_id'],inplace=True)\n",
    "df['Receiver'] = df['Receiver'].apply(lookup_username)\n",
    "\n",
    "#Get recievers for quote tweets and retweets\n",
    "df['sourcetweeter']=''\n",
    "df['sourcetweeter'].mask(df['sourcetweet_type']=='quoted', df['sourcetweet_id'],inplace=True )\n",
    "df['sourcetweeter'].mask(df['sourcetweet_type']=='retweeted', df['sourcetweet_id'],inplace=True )\n",
    "df['sourcetweeter']=df['sourcetweeter'].apply(tweeter_lookup)\n",
    "df['Receiver'].mask(df['sourcetweeter']!=\"\",df['sourcetweeter'],inplace=True)\n",
    "\n",
    "#Clean up the frame a bit\n",
    "df=df.drop(columns=['sourcetweeter'])\n",
    "df['Sender']=df['user_username']\n",
    "edges_verbose=df[df['Receiver']!=''].copy()\n",
    "edges_verbose=edges_verbose[edges_verbose['Receiver'].str.contains('Error')==False]\n",
    "themes = ['Self-organization','Building community','Broadening the counterpublic','Creating change in math','SJEDI']\n",
    "for column in themes:\n",
    "    edges_verbose[column]=edges_verbose[column].apply(bool)\n",
    "cols=['Sender','Receiver','text','created_at']+themes+codes.tolist()\n",
    "#edges_verbose[cols].head(20)\n",
    "\n",
    "edges_verbose[cols].to_csv(\"people-edge-list.csv\")\n",
    "\n"
   ]
  }
 ],
 "metadata": {
  "kernelspec": {
   "display_name": "Python 3 (ipykernel)",
   "language": "python",
   "name": "python3"
  },
  "language_info": {
   "codemirror_mode": {
    "name": "ipython",
    "version": 3
   },
   "file_extension": ".py",
   "mimetype": "text/x-python",
   "name": "python",
   "nbconvert_exporter": "python",
   "pygments_lexer": "ipython3",
   "version": "3.9.6"
  }
 },
 "nbformat": 4,
 "nbformat_minor": 5
}
