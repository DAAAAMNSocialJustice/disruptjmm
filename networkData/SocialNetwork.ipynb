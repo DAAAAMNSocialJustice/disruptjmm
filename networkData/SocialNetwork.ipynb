{
 "cells": [
  {
   "cell_type": "code",
   "execution_count": 1,
   "metadata": {},
   "outputs": [],
   "source": [
    "import pandas as pd\n",
    "import numpy as np\n",
    "import networkx as nx\n",
    "import matplotlib.pyplot as plt"
   ]
  },
  {
   "cell_type": "code",
   "execution_count": 31,
   "metadata": {},
   "outputs": [
    {
     "data": {
      "text/plain": [
       "AtlasView({1: {'weight': 2}, 19: {'weight': 2}, 28: {'weight': 1}, 38: {'weight': 1}, 40: {'weight': 2}, 46: {'weight': 2}, 47: {'weight': 10}, 50: {'weight': 10}, 51: {'weight': 2}, 86: {'weight': 6}, 89: {'weight': 2}, 93: {'weight': 2}, 102: {'weight': 2}, 103: {'weight': 1}, 106: {'weight': 4}, 108: {'weight': 3}, 118: {'weight': 1}, 120: {'weight': 10}, 124: {'weight': 5}, 126: {'weight': 2}, 127: {'weight': 1}, 144: {'weight': 2}, 155: {'weight': 4}, 168: {'weight': 5}, 181: {'weight': 2}, 187: {'weight': 2}, 196: {'weight': 34}, 203: {'weight': 2}, 208: {'weight': 6}, 216: {'weight': 2}, 217: {'weight': 2}, 220: {'weight': 4}, 223: {'weight': 30}, 227: {'weight': 11}, 235: {'weight': 2}, 241: {'weight': 2}, 244: {'weight': 4}, 255: {'weight': 2}, 272: {'weight': 1}, 276: {'weight': 4}, 10: {'weight': 1}, 20: {'weight': 2}, 21: {'weight': 9}, 29: {'weight': 2}, 32: {'weight': 3}, 39: {'weight': 1}, 44: {'weight': 1}, 64: {'weight': 1}, 70: {'weight': 7}, 79: {'weight': 2}, 100: {'weight': 1}, 101: {'weight': 1}, 111: {'weight': 1}, 137: {'weight': 1}, 140: {'weight': 1}, 174: {'weight': 2}, 179: {'weight': 4}, 184: {'weight': 3}, 186: {'weight': 1}, 191: {'weight': 1}, 201: {'weight': 4}, 213: {'weight': 2}, 228: {'weight': 1}, 234: {'weight': 2}, 254: {'weight': 1}, 270: {'weight': 1}, 271: {'weight': 1}, 279: {'weight': 13}, 282: {'weight': 2}, 287: {'weight': 4}, 292: {'weight': 3}, 306: {'weight': 2}, 316: {'weight': 3}, 317: {'weight': 2}, 323: {'weight': 2}, 326: {'weight': 1}, 336: {'weight': 2}, 344: {'weight': 3}, 345: {'weight': 1}, 366: {'weight': 6}, 370: {'weight': 14}, 378: {'weight': 1}, 379: {'weight': 13}, 283: {'weight': 2}, 286: {'weight': 2}, 294: {'weight': 1}, 295: {'weight': 2}, 303: {'weight': 2}, 314: {'weight': 1}, 330: {'weight': 2}, 334: {'weight': 3}, 350: {'weight': 2}, 354: {'weight': 3}, 357: {'weight': 2}, 359: {'weight': 2}, 363: {'weight': 4}, 369: {'weight': 3}, 373: {'weight': 11}})"
      ]
     },
     "execution_count": 31,
     "metadata": {},
     "output_type": "execute_result"
    }
   ],
   "source": [
    "Gdf = pd.read_csv('edges.csv')\n",
    "G_edges_df = Gdf[['from', 'to', 'ties']]\n",
    "G_edges_df =G_edges_df.rename(columns={\"ties\":\"weight\"})\n",
    "G = nx.from_pandas_edgelist(G_edges_df, 'to', 'from', edge_attr='weight')\n",
    "\n",
    "\n"
   ]
  },
  {
   "cell_type": "code",
   "execution_count": null,
   "metadata": {},
   "outputs": [],
   "source": []
  }
 ],
 "metadata": {
  "kernelspec": {
   "display_name": "base",
   "language": "python",
   "name": "python3"
  },
  "language_info": {
   "codemirror_mode": {
    "name": "ipython",
    "version": 3
   },
   "file_extension": ".py",
   "mimetype": "text/x-python",
   "name": "python",
   "nbconvert_exporter": "python",
   "pygments_lexer": "ipython3",
   "version": "3.8.16"
  },
  "orig_nbformat": 4
 },
 "nbformat": 4,
 "nbformat_minor": 2
}
