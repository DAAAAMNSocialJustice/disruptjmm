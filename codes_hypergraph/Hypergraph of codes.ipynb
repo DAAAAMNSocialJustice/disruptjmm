{
 "cells": [
  {
   "cell_type": "code",
   "execution_count": 1,
   "id": "c6b4771c",
   "metadata": {},
   "outputs": [],
   "source": [
    "import pandas as pd\n",
    "import xgi"
   ]
  },
  {
   "cell_type": "code",
   "execution_count": 2,
   "id": "dac45c8d",
   "metadata": {},
   "outputs": [
    {
     "name": "stdout",
     "output_type": "stream",
     "text": [
      "<class 'pandas.core.frame.DataFrame'>\n",
      "RangeIndex: 1129 entries, 0 to 1128\n",
      "Data columns (total 44 columns):\n",
      " #   Column                        Non-Null Count  Dtype \n",
      "---  ------                        --------------  ----- \n",
      " 0   Unnamed: 0                    1129 non-null   int64 \n",
      " 1   tweet_id                      1129 non-null   int64 \n",
      " 2   user_username                 1129 non-null   object\n",
      " 3   text                          1129 non-null   object\n",
      " 4   created_at                    1129 non-null   object\n",
      " 5   conversation_id               1129 non-null   int64 \n",
      " 6   lang                          1129 non-null   object\n",
      " 7   possibly_sensitive            1129 non-null   bool  \n",
      " 8   author_id                     1129 non-null   int64 \n",
      " 9   source                        1129 non-null   object\n",
      " 10  in_reply_to_user_id           1129 non-null   object\n",
      " 11  user_verified                 1129 non-null   bool  \n",
      " 12  user_profile_image_url        1129 non-null   object\n",
      " 13  user_name                     1129 non-null   object\n",
      " 14  user_protected                1129 non-null   bool  \n",
      " 15  user_created_at               1129 non-null   object\n",
      " 16  user_location                 1129 non-null   object\n",
      " 17  user_description              1129 non-null   object\n",
      " 18  user_url                      1129 non-null   object\n",
      " 19  user_pinned_tweet_id          1129 non-null   object\n",
      " 20  retweet_count                 1129 non-null   int64 \n",
      " 21  like_count                    1129 non-null   int64 \n",
      " 22  quote_count                   1129 non-null   int64 \n",
      " 23  user_tweet_count              1129 non-null   int64 \n",
      " 24  user_list_count               1129 non-null   int64 \n",
      " 25  user_followers_count          1129 non-null   int64 \n",
      " 26  user_following_count          1129 non-null   int64 \n",
      " 27  sourcetweet_type              1129 non-null   object\n",
      " 28  sourcetweet_id                1129 non-null   object\n",
      " 29  sourcetweet_text              1129 non-null   object\n",
      " 30  Code                          1129 non-null   object\n",
      " 31  sourcetweet_lang              1129 non-null   object\n",
      " 32  sourcetweet_author_id         1129 non-null   object\n",
      " 33  Self-organization             1129 non-null   int64 \n",
      " 34  SO code                       1129 non-null   object\n",
      " 35  Building community            1129 non-null   int64 \n",
      " 36  BC code                       1129 non-null   object\n",
      " 37  Broadening the counterpublic  1129 non-null   int64 \n",
      " 38  BtC code                      1129 non-null   object\n",
      " 39  Creating change in math       1129 non-null   int64 \n",
      " 40  CCM code                      1129 non-null   object\n",
      " 41  SJEDI                         1129 non-null   int64 \n",
      " 42  SJEDI code                    1129 non-null   object\n",
      " 43  CODER                         1129 non-null   object\n",
      "dtypes: bool(3), int64(16), object(25)\n",
      "memory usage: 365.1+ KB\n"
     ]
    }
   ],
   "source": [
    "#Read in CSV file with coding\n",
    "df = pd.read_csv(\"Final Coding.csv\",keep_default_na=False)\n",
    "df.info()"
   ]
  },
  {
   "cell_type": "code",
   "execution_count": 3,
   "id": "100000fb",
   "metadata": {},
   "outputs": [
    {
     "name": "stdout",
     "output_type": "stream",
     "text": [
      "[('bipoc', 'gender', 'lgbtq', 'talk support', 4), ('amplification', 'influencers', 'representation', 'talk support', 30), ('amplification', 'talk support', 'thankful', 3), ('emotional support', 'talk support', 2), ('BC impact', 'talk support', 4), ('SO impact', 'amplification', 'influencers', 'talk support', 'thankful', 5), ('amplification', 'hashtags', 'indigenous', 'talk support', 12), ('BC impact', 'hashtags', 'thankful', 2), ('influencers', 'talk support', 5), ('BC impact', 'advocacy', 11), ('amplification', 'lgbtq', 'talk support', 19), ('BC impact', 'hashtags', 7), ('CC impact', 'SJEDI impact', 'SO impact', 'thankful', 3), ('belonging', 'influencers', 3), ('belonging', 2), ('talk support', 6), ('amplification', 'learning', 'thankful', 3), ('influencers', 'talk support', 'thankful', 'virtual participation', 3), ('amplification', 'influencers', 'power', 'representation', 2), ('amplification', 'hashtags', 'representation', 'talk support', 15), ('amplification', 'influencers', 'representation', 6), ('hashtags', 'influencers', 'power', 'representation', 6), ('amplification', 'hashtags', 'power', 'talk support', 4), ('amplification', 'indigenous', 'math practice', 'talk support', 3), ('BC impact', 'bipoc', 'power', 2), ('amplification', 'hashtags', 'influencers', 'strategic planning', 'talk support', 6), ('BC impact', 'representation', 2), ('amplification', 'indigenous', 'talk support', 9), ('hashtags', 'strategic planning', 'talk support', 5), ('amplification', 'hashtags', 'influencers', 'talk support', 7), ('amplification', 'belonging', 'hashtags', 'strategic planning', 5), ('BC impact', 'hashtags', 'influencers', 11), ('conversation', 'strategic planning', 14), ('bipoc', 'conversation', 'talk support', 2), ('hashtags', 'representation', 'strategic planning', 19), ('BC impact', 'conversation', 1), ('conversation', 4), ('amplification', 'hashtags', 2), ('strategic planning', 11), ('amplification', 'hashtags', 'humanize', 'influencers', 'representation', 3), ('advocacy', 'amplification', 'learning', 'power', 5), ('allyship in math', 'amplification', 'gender', 'talk support', 14), ('advocacy', 'allyship in math', 'amplification', 'gender', 'indigenous', 'math experience', 'representation', 'talk support', 14), ('belonging', 'conversation', 2), ('BC impact', 6), ('gender', 'learning', 'power', 6), ('amplification', 'power', 1), ('BC impact', 'allyship in math', 'amplification', 'hashtags', 3), ('advocacy', 'hashtags', 'influencers', 4), ('advocacy', 'hashtags', 'influencers', 'lgbtq', 2), ('amplification', 'hashtags', 'influencers', 'lgbtq', 'talk support', 10), ('advocacy', 'hashtags', 'influencers', 'lgbtq', 'power', 3), ('allyship in math', 'amplification', 'hashtags', 'influencers', 'talk support', 2), ('advocacy', 'hashtags', 'influencers', 'lgbtq', 'math practice', 4), ('advocacy', 'amplification', 'hashtags', 'influencers', 'lgbtq', 6), ('amplification', 'gender', 'talk support', 'thankful', 11), ('advocacy', 'hashtags', 'influencers', 'math practice', 4), ('amplification', 'hashtags', 'humanize', 'influencers', 'math practice', 'talk support', 11), ('amplification', 'power', 'talk support', 9), ('amplification', 'bipoc', 'humanize', 'representation', 5), ('amplification', 'influencers', 'learning', 2), ('amplification', 'hashtags', 'influencers', 'math practice', 'talk support', 19), ('amplification', 'hashtags', 'influencers', 'learning', 'talk support', 6), ('amplification', 'gender', 'talk support', 5), ('hashtags', 'influencers', 'power', 1), ('amplification', 'hashtags', 'humanize', 'influencers', 'talk support', 2), ('amplification', 'humanize', 4), ('hashtags', 'humanize', 'influencers', 'talk support', 10), ('amplification', 'gender', 'hashtags', 'humanize', 'talk support', 5), ('advocacy', 'amplification', 'emotional support', 'gender', 'indigenous', 'jmm experience', 'representation', 86), ('amplification', 'humanize', 'power', 'talk support', 2), ('amplification', 'humanize', 'thankful', 3), ('amplification', 'representation', 10), ('emotional support', 'futures', 1), ('allyship in math', 'math experience', 'strategic planning', 5), ('emotional support', 'futures', 'thankful', 2), ('gender', 'indigenous', 'talk support', 'thankful', 10), ('amplification', 'bipoc', 'power', 'talk support', 2), ('amplification', 'talk support', 4), ('BC impact', 'belonging', 2), ('disrupteverything', 1), ('BC impact', 'conversation', 'indigenous', 1), ('emotional support', 'jmm experience', 10), ('economic', 'hashtags', 'influencers', 2), ('hashtags', 'indigenous', 'learning', 'talk support', 5), ('activation', 1), ('BC impact', 'hashtags', 'indigenous', 6), ('amplification', 'humanize', 'math practice', 'power', 2), ('amplification', 'bipoc', 'hashtags', 'influencers', 'power', 'talk support', 47), ('hashtags', 'humanize', 'influencers', 'math practice', 2), ('amplification', 'hashtags', 'influencers', 'math practice', 'power', 'talk support', 3), ('allyship in math', 'amplification', 'indigenous', 'talk support', 9), ('thankful', 13), ('BC impact', 'influencers', 'lgbtq', 'power', 1), ('amplification', 'economic', 'hashtags', 'influencers', 'talk support', 1), ('advocacy', 'amplification', 'representation', 4), ('BC impact', 'humanize', 'math practice', 2), ('amplification', 'hashtags', 'talk support', 8), ('amplification', 'hashtags', 'indigenous', 'power', 'talk support', 11), ('belonging', 'hashtags', 'strategic planning', 3), ('hashtags', 'power', 'representation', 5), ('activation', 'indigenous', 'influencers', 'learning', 2), ('belonging', 'math practice', 6), ('virtual participation', 3), ('thankful', 'virtual participation', 2), ('BC impact', 'amplification', 'emotional support', 2), ('amplification', 'math practice', 'representation', 'strategic planning', 'thankful', 2), ('amplification', 'jmm experience', 'representation', 2), ('amplification', 'belonging', 'humanize', 'power', 'talk support', 2), ('advocacy', 'amplification', 'power', 'representation', 2), ('amplification', 'hashtags', 'math experience', 2), ('bipoc', 'gender', 'jmm experience', 8), ('hashtags', 'math practice', 'talk support', 2), ('BC impact', 'power', 4), ('BC impact', 'gender', 'hashtags', 'influencers', 1), ('amplification', 21), ('SO impact', 'representation', 2), ('amplification', 'hashtags', 'jmm experience', 'power', 'representation', 'strategic planning', 4), ('math practice', 1), ('advocacy', 'amplification', 'hashtags', 'talk support', 3), ('amplification', 'belonging', 'humanize', 'influencers', 'talk support', 4), ('amplification', 'math practice', 'representation', 'talk support', 5), ('amplification', 'bipoc', 'hashtags', 'influencers', 'talk support', 2), ('learning', 'math practice', 1), ('amplification', 'bipoc', 'humanize', 'influencers', 'lgbtq', 'talk support', 2), ('advocacy', 'bipoc', 'math practice', 'talk support', 3), ('amplification', 'math practice', 'talk support', 3), ('BC impact', 'emotional support', 'jmm experience', 'representation', 1), ('amplification', 'humanize', 'influencers', 'talk support', 19), ('amplification', 'hashtags', 'influencers', 'representation', 'talk support', 3), ('amplification', 'current events', 'hashtags', 'talk support', 7), ('BC impact', 'emotional support', 1), ('amplification', 'strategic planning', 1), ('activation', 'conversation', 'representation', 3), ('amplification', 'hashtags', 'influencers', 4), ('CC impact', 'amplification', 'talk support', 3), ('BC impact', 'hashtags', 'humanize', 'influencers', 'math practice', 'talk support', 5), ('hashtags', 'indigenous', 1), ('conversation', 'hashtags', 'representation', 'strategic planning', 4), ('activation', 'conversation', 'gender', 1), ('amplification', 'hashtags', 'influencers', 'jmm experience', 'representation', 'talk support', 9), ('amplification', 'humanize', 'influencers', 'representation', 4), ('BC impact', 'influencers', 5), ('math practice', 'talk support', 1), ('SO impact', 2), ('SO impact', 'conversation', 3), ('hashtags', 'influencers', 1), ('advocacy', 'amplification', 'hashtags', 'influencers', 'talk support', 7), ('conversation', 'current events', 'talk support', 'thankful', 2), ('amplification', 'gender', 'hashtags', 'indigenous', 'influencers', 'math practice', 'power', 'representation', 'talk support', 5), ('advocacy', 'amplification', 'bipoc', 'conversation', 'gender', 'hashtags', 'indigenous', 'power', 'talk support', 1), ('talk support', 'thankful', 2), ('amplification', 'influencers', 'power', 'talk support', 4), ('allyship in math', 'amplification', 'power', 'talk support', 3), ('BC impact', 'hashtags', 'math practice', 1), ('bipoc', 'current events', 'indigenous', 'talk support', 2), ('celebration', 'talk support', 1), ('bipoc', 'current events', 'gender', 'indigenous', 'talk support', 3), ('conversation', 'talk support', 1), ('amplification', 'bipoc', 'gender', 'indigenous', 'talk support', 7), ('amplification', 'conversation', 'influencers', 'learning', 'talk support', 1), ('bipoc', 'current events', 'power', 'talk support', 22), ('bipoc', 'gender', 'talk support', 2), ('current events', 'thankful', 3), ('advocacy', 'current events', 'emotional support', 3), ('amplification', 'bipoc', 'current events', 'humanize', 'indigenous', 'power', 'talk support', 9), ('BC impact', 'current events', 'emotional support', 'hashtags', 'influencers', 4), ('amplification', 'gender', 'power', 'talk support', 1), ('emotional support', 2), ('bipoc', 'hashtags', 'power', 5), ('CC impact', 3), ('SO impact', 'bipoc', 'hashtags', 'power', 'troll', 3), ('BC impact', 'current events', 'power', 1), ('amplification', 'bipoc', 'indigenous', 'math practice', 'talk support', 3), ('amplification', 'bipoc', 'talk support', 4), ('BC impact', 'current events', 'hashtags', 'influencers', 'representation', 1), ('allyship in math', 'power', 'talk support', 1), ('math practice', 'representation', 'talk support', 10), ('SO impact', 'belonging', 'hashtags', 'strategic planning', 1), ('conversation', 'current events', 'strategic planning', 1), ('SO impact', 'troll', 2), ('conversation', 'hashtags', 'strategic planning', 1), ('BC impact', 'SO impact', 'conversation', 'hashtags', 'strategic planning', 1), ('BC impact', 'bipoc', 'emotional support', 'hashtags', 'influencers', 1), ('SO impact', 'hashtags', 'power', 4), ('BC impact', 'current events', 'hashtags', 'humanize', 'influencers', 9), ('BC impact', 'celebration', 'hashtags', 1), ('BC impact', 'amplification', 'hashtags', 'representation', 2), ('beyond', 'conversation', 1), ('amplification', 'disrupteverything', 'hashtags', 'indigenous', 'talk support', 2), ('conversation', 'thankful', 4), ('advocacy', 'amplification', 'hashtags', 'humanize', 'math practice', 'representation', 4), ('hashtags', 4), ('amplification', 'bipoc', 2), ('BC impact', 'SO impact', 4), ('hashtags', 'influencers', 'strategic planning', 4), ('SO impact', 'conversation', 'futures', 'strategic planning', 2), ('CC impact', 'conversation', 1), ('SO impact', 'influencers', 'thankful', 6), ('belonging', 'strategic planning', 'thankful', 1), ('humanize', 'math practice', 36), ('conversation', 'futures', 'influencers', 'talk support', 2), ('amplification', 'bipoc', 'hashtags', 'influencers', 'representation', 2), ('conversation', 'virtual participation', 1), ('advocacy', 'futures', 'gender', 'representation', 2), ('bipoc', 'hashtags', 'influencers', 'power', 2), ('amplification', 'emotional support', 'hashtags', 1), ('conversation', 'emotional support', 1), ('influencers', 'thankful', 2), ('advocacy', 'power', 'representation', 2), ('BC impact', 'SJEDI impact', 7), ('disrupteverything', 'hashtags', 'strategic planning', 9), ('belonging', 'conversation', 'thankful', 1), ('amplification', 'influencers', 'learning', 'thankful', 1), ('gender', 'hashtags', 'talk support', 5), ('gender', 'humanize', 'talk support', 8)]\n"
     ]
    }
   ],
   "source": [
    "#The codes were in 5 different columns; lets aggregate them into a new column\n",
    "df[\"all codes\"] = df[[\"SO code\",\"BC code\",\"BtC code\",\"CCM code\",\"SJEDI code\"]].agg(';'.join,axis=1)\n",
    "\n",
    "#We want to iterate through each tweet, and if it is a new hyper-edge, add it to weighted_edge_dict\n",
    "#If it is an edge that is already there, we bump the weight up by 1.\n",
    "weighted_edge_dict = {}\n",
    "for row in df.itertuples():\n",
    "    codes=row[45].split(';')                    #Distince codes were delimited by ;\n",
    "    codes=[s.strip() for s in codes if s]       #Get rid of some leading spaces\n",
    "    codes.sort()                                #Sort, so we don't have duplicates\n",
    "    codes=';'.join(codes)                       #Join them back together into one string\n",
    "    if codes in weighted_edge_dict.keys():\n",
    "        weighted_edge_dict[codes]+=1\n",
    "    else:\n",
    "        weighted_edge_dict[codes]=1\n",
    "            \n",
    "#We have the information we need, but need to reformat for the xqi library.\n",
    "#The goal is to produce a list of tuples, each tuple should have the \n",
    "#names of the nodes in the hyperedge in the first n-1 spots, and the weight in the n-th spot\n",
    "weighted_edge_list=list(weighted_edge_dict.items())\n",
    "weighted_edge_list_formatted=[]\n",
    "for el in weighted_edge_list:\n",
    "    weighted_edge_list_formatted.append(tuple(el[0].split(';'))+(el[1],))\n",
    "print(weighted_edge_list_formatted)"
   ]
  },
  {
   "cell_type": "code",
   "execution_count": 4,
   "id": "744defe7",
   "metadata": {},
   "outputs": [],
   "source": [
    "H = xgi.Hypergraph()\n",
    "H.add_weighted_edges_from(weighted_edge_list_formatted)"
   ]
  },
  {
   "cell_type": "code",
   "execution_count": 5,
   "id": "59ce76d9",
   "metadata": {},
   "outputs": [
    {
     "name": "stdout",
     "output_type": "stream",
     "text": [
      "Unnamed Hypergraph with 35 nodes and 216 hyperedges\n"
     ]
    }
   ],
   "source": [
    "print(H)"
   ]
  },
  {
   "cell_type": "code",
   "execution_count": null,
   "id": "aeb1b05d",
   "metadata": {},
   "outputs": [],
   "source": []
  }
 ],
 "metadata": {
  "kernelspec": {
   "display_name": "Python 3 (ipykernel)",
   "language": "python",
   "name": "python3"
  },
  "language_info": {
   "codemirror_mode": {
    "name": "ipython",
    "version": 3
   },
   "file_extension": ".py",
   "mimetype": "text/x-python",
   "name": "python",
   "nbconvert_exporter": "python",
   "pygments_lexer": "ipython3",
   "version": "3.9.12"
  }
 },
 "nbformat": 4,
 "nbformat_minor": 5
}
